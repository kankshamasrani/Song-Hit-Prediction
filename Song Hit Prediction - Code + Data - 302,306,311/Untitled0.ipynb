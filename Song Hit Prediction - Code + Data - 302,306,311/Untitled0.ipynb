{
 "metadata": {
  "name": "",
  "signature": "sha256:d0934851b3d2ba085a299c4564d9984abb5741628201be6723d68110161fe77e"
 },
 "nbformat": 3,
 "nbformat_minor": 0,
 "worksheets": [
  {
   "cells": [
    {
     "cell_type": "code",
     "collapsed": false,
     "input": [
      "from pattern.web import URL, DOM\n",
      "from pattern import web\n",
      "import requests\n",
      "from HTMLParser import HTMLParser\n",
      "import csv\n",
      "from pyechonest import song\n",
      "from pyechonest import track\n",
      "import time\n",
      "import datetime\n",
      "from pyechonest import config\n",
      "\n",
      "\n",
      "config.ECHO_NEST_API_KEY=\"ZZYYO7TXKOLXEUN9N\""
     ],
     "language": "python",
     "metadata": {},
     "outputs": [],
     "prompt_number": 1
    },
    {
     "cell_type": "code",
     "collapsed": false,
     "input": [
      "rank = 1\n",
      "artist = 'Simon & Garfunkel'\n",
      "title = 'Sounds OF Silence'\n",
      "lat,lng = 0,0\n",
      "\n",
      "artist = ['The Beatles','Carpenter','One Republic']\n",
      "title = ['Let It Be', 'Top Of the World', 'Counting Stars']\n",
      "\n",
      "l = []\n",
      "\n",
      "for rank in range(1,4):\n",
      "    rkp_results = song.search(artist=artist, title=title)\n",
      "    l.append([rank, artist[i-1], title[i-1], lat, lng, rkp_results[0].audio_summary['acousticness'], rkp_results[0].audio_summary['danceability'], rkp_results[0].audio_summary['duration'], rkp_results[0].audio_summary['energy'], rkp_results[0].audio_summary['key'], rkp_results[0].audio_summary['liveness'], rkp_results[0].audio_summary['loudness'], rkp_results[0].audio_summary['mode'], rkp_results[0].audio_summary['speechiness'], rkp_results[0].audio_summary['tempo'], rkp_results[0].audio_summary['time_signature'], rkp_results[0].audio_summary['valence']]) \n",
      "    \n",
      "\n",
      "\n"
     ],
     "language": "python",
     "metadata": {},
     "outputs": [
      {
       "output_type": "stream",
       "stream": "stdout",
       "text": [
        "[1, 'Simon & Garfunkel', 'Sounds OF Silence', 0, 0, 0.862942, 0.518293, 196.53288, 0.28253, 6, 0.624253, -14.224, 1, 0.035522, 104.315, 4, 0.308952]\n"
       ]
      }
     ],
     "prompt_number": 5
    }
   ],
   "metadata": {}
  }
 ]
}