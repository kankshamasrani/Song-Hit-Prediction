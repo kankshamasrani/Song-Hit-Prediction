{
 "metadata": {
  "name": "",
  "signature": "sha256:ddf9aeef530b6c0391784ed9a571e864bda28ccb11ea25b0cee169091cafe430"
 },
 "nbformat": 3,
 "nbformat_minor": 0,
 "worksheets": [
  {
   "cells": [
    {
     "cell_type": "markdown",
     "metadata": {},
     "source": [
      "## Import all files\n",
      "---"
     ]
    },
    {
     "cell_type": "code",
     "collapsed": false,
     "input": [
      "from pattern.web import URL, DOM\n",
      "from pattern import web\n",
      "import requests\n",
      "from HTMLParser import HTMLParser\n",
      "import csv\n",
      "from pyechonest import song\n",
      "from pyechonest import track\n",
      "import time\n",
      "import datetime\n",
      "from pyechonest import config\n",
      "\n",
      "\n",
      "config.ECHO_NEST_API_KEY=\"ZZYYO7TXKOLXEUN9N\"\n"
     ],
     "language": "python",
     "metadata": {},
     "outputs": [],
     "prompt_number": 3
    },
    {
     "cell_type": "markdown",
     "metadata": {},
     "source": [
      "###extracting songs from http://www.bobborst.com/popculture/top-100-songs-of-the-year/?year=1964"
     ]
    },
    {
     "cell_type": "code",
     "collapsed": false,
     "input": [
      "\n",
      "base_url = 'http://www.bobborst.com/popculture/top-100-songs-of-the-year/?year='\n",
      "\n",
      "song_count = 0\n",
      "\n",
      "for year in xrange(1947,2014):\n",
      "   \n",
      "        \n",
      "    file_name = str(year) + '.csv'\n",
      "    fp = open(file_name,'w')\n",
      "    f = csv.writer(fp, delimiter=',')\n",
      "\n",
      "    url = base_url + str(year)  \n",
      "    r = requests.get(url)\n",
      "    dom = web.Element(r.text)\n",
      "\n",
      "    big_list = []\n",
      "\n",
      "    for tr in dom.by_class('sortable alternate songtable')[0].by_tag('tbody')[0].by_tag('tr'):\n",
      "        td = tr.by_tag('td')\n",
      "\n",
      "        small_list = []        \n",
      "        small_list.append(td[0].content)\n",
      "        small_list.append(td[1].content)\n",
      "        small_list.append(td[2].content)\n",
      "\n",
      "        song_count = song_count + 1\n",
      "\n",
      "        big_list.append(small_list)\n",
      "\n",
      "    f.writerows(big_list)\n",
      "    \n",
      "    print 'year ' + str(year)        \n",
      "    \n",
      "\n",
      "print song_count"
     ],
     "language": "python",
     "metadata": {},
     "outputs": [
      {
       "output_type": "stream",
       "stream": "stdout",
       "text": [
        "year 1947\n",
        "year 1948"
       ]
      },
      {
       "output_type": "stream",
       "stream": "stdout",
       "text": [
        "\n",
        "year 1949"
       ]
      },
      {
       "output_type": "stream",
       "stream": "stdout",
       "text": [
        "\n",
        "year 1950"
       ]
      },
      {
       "output_type": "stream",
       "stream": "stdout",
       "text": [
        "\n",
        "year 1951"
       ]
      },
      {
       "output_type": "stream",
       "stream": "stdout",
       "text": [
        "\n",
        "year 1952"
       ]
      },
      {
       "output_type": "stream",
       "stream": "stdout",
       "text": [
        "\n",
        "year 1953"
       ]
      },
      {
       "output_type": "stream",
       "stream": "stdout",
       "text": [
        "\n",
        "year 1954"
       ]
      },
      {
       "output_type": "stream",
       "stream": "stdout",
       "text": [
        "\n",
        "year 1955"
       ]
      },
      {
       "output_type": "stream",
       "stream": "stdout",
       "text": [
        "\n",
        "year 1956"
       ]
      },
      {
       "output_type": "stream",
       "stream": "stdout",
       "text": [
        "\n",
        "year 1957"
       ]
      },
      {
       "output_type": "stream",
       "stream": "stdout",
       "text": [
        "\n",
        "year 1958"
       ]
      },
      {
       "output_type": "stream",
       "stream": "stdout",
       "text": [
        "\n",
        "year 1959"
       ]
      },
      {
       "output_type": "stream",
       "stream": "stdout",
       "text": [
        "\n",
        "year 1960"
       ]
      },
      {
       "output_type": "stream",
       "stream": "stdout",
       "text": [
        "\n",
        "year 1961"
       ]
      },
      {
       "output_type": "stream",
       "stream": "stdout",
       "text": [
        "\n",
        "year 1962"
       ]
      },
      {
       "output_type": "stream",
       "stream": "stdout",
       "text": [
        "\n",
        "year 1963"
       ]
      },
      {
       "output_type": "stream",
       "stream": "stdout",
       "text": [
        "\n",
        "year 1964"
       ]
      },
      {
       "output_type": "stream",
       "stream": "stdout",
       "text": [
        "\n",
        "year 1965"
       ]
      },
      {
       "output_type": "stream",
       "stream": "stdout",
       "text": [
        "\n",
        "year 1966"
       ]
      },
      {
       "output_type": "stream",
       "stream": "stdout",
       "text": [
        "\n",
        "year 1967"
       ]
      },
      {
       "output_type": "stream",
       "stream": "stdout",
       "text": [
        "\n",
        "year 1968"
       ]
      },
      {
       "output_type": "stream",
       "stream": "stdout",
       "text": [
        "\n",
        "year 1969"
       ]
      },
      {
       "output_type": "stream",
       "stream": "stdout",
       "text": [
        "\n",
        "year 1970"
       ]
      },
      {
       "output_type": "stream",
       "stream": "stdout",
       "text": [
        "\n",
        "year 1971"
       ]
      },
      {
       "output_type": "stream",
       "stream": "stdout",
       "text": [
        "\n",
        "year 1972"
       ]
      },
      {
       "output_type": "stream",
       "stream": "stdout",
       "text": [
        "\n",
        "year 1973"
       ]
      },
      {
       "output_type": "stream",
       "stream": "stdout",
       "text": [
        "\n",
        "year 1974"
       ]
      },
      {
       "output_type": "stream",
       "stream": "stdout",
       "text": [
        "\n",
        "year 1975"
       ]
      },
      {
       "output_type": "stream",
       "stream": "stdout",
       "text": [
        "\n",
        "year 1976"
       ]
      },
      {
       "output_type": "stream",
       "stream": "stdout",
       "text": [
        "\n",
        "year 1977"
       ]
      },
      {
       "output_type": "stream",
       "stream": "stdout",
       "text": [
        "\n",
        "year 1978"
       ]
      },
      {
       "output_type": "stream",
       "stream": "stdout",
       "text": [
        "\n",
        "year 1979"
       ]
      },
      {
       "output_type": "stream",
       "stream": "stdout",
       "text": [
        "\n",
        "year 1980"
       ]
      },
      {
       "output_type": "stream",
       "stream": "stdout",
       "text": [
        "\n",
        "year 1981"
       ]
      },
      {
       "output_type": "stream",
       "stream": "stdout",
       "text": [
        "\n",
        "year 1982"
       ]
      },
      {
       "output_type": "stream",
       "stream": "stdout",
       "text": [
        "\n",
        "year 1983"
       ]
      },
      {
       "output_type": "stream",
       "stream": "stdout",
       "text": [
        "\n",
        "year 1984"
       ]
      },
      {
       "output_type": "stream",
       "stream": "stdout",
       "text": [
        "\n",
        "year 1985"
       ]
      },
      {
       "output_type": "stream",
       "stream": "stdout",
       "text": [
        "\n",
        "year 1986"
       ]
      },
      {
       "output_type": "stream",
       "stream": "stdout",
       "text": [
        "\n",
        "year 1987"
       ]
      },
      {
       "output_type": "stream",
       "stream": "stdout",
       "text": [
        "\n",
        "year 1988"
       ]
      },
      {
       "output_type": "stream",
       "stream": "stdout",
       "text": [
        "\n",
        "year 1989"
       ]
      },
      {
       "output_type": "stream",
       "stream": "stdout",
       "text": [
        "\n",
        "year 1990"
       ]
      },
      {
       "output_type": "stream",
       "stream": "stdout",
       "text": [
        "\n",
        "year 1991"
       ]
      },
      {
       "output_type": "stream",
       "stream": "stdout",
       "text": [
        "\n",
        "year 1992"
       ]
      },
      {
       "output_type": "stream",
       "stream": "stdout",
       "text": [
        "\n",
        "year 1993"
       ]
      },
      {
       "output_type": "stream",
       "stream": "stdout",
       "text": [
        "\n",
        "year 1994"
       ]
      },
      {
       "output_type": "stream",
       "stream": "stdout",
       "text": [
        "\n",
        "year 1995"
       ]
      },
      {
       "output_type": "stream",
       "stream": "stdout",
       "text": [
        "\n",
        "year 1996"
       ]
      },
      {
       "output_type": "stream",
       "stream": "stdout",
       "text": [
        "\n",
        "year 1997"
       ]
      },
      {
       "output_type": "stream",
       "stream": "stdout",
       "text": [
        "\n",
        "year 1998"
       ]
      },
      {
       "output_type": "stream",
       "stream": "stdout",
       "text": [
        "\n",
        "year 1999"
       ]
      },
      {
       "output_type": "stream",
       "stream": "stdout",
       "text": [
        "\n",
        "year 2000"
       ]
      },
      {
       "output_type": "stream",
       "stream": "stdout",
       "text": [
        "\n",
        "year 2001"
       ]
      },
      {
       "output_type": "stream",
       "stream": "stdout",
       "text": [
        "\n",
        "year 2002"
       ]
      },
      {
       "output_type": "stream",
       "stream": "stdout",
       "text": [
        "\n",
        "year 2003"
       ]
      },
      {
       "output_type": "stream",
       "stream": "stdout",
       "text": [
        "\n",
        "year 2004"
       ]
      },
      {
       "output_type": "stream",
       "stream": "stdout",
       "text": [
        "\n",
        "year 2005"
       ]
      },
      {
       "output_type": "stream",
       "stream": "stdout",
       "text": [
        "\n",
        "year 2006"
       ]
      },
      {
       "output_type": "stream",
       "stream": "stdout",
       "text": [
        "\n",
        "year 2007"
       ]
      },
      {
       "output_type": "stream",
       "stream": "stdout",
       "text": [
        "\n",
        "year 2008"
       ]
      },
      {
       "output_type": "stream",
       "stream": "stdout",
       "text": [
        "\n",
        "year 2009"
       ]
      },
      {
       "output_type": "stream",
       "stream": "stdout",
       "text": [
        "\n",
        "year 2010"
       ]
      },
      {
       "output_type": "stream",
       "stream": "stdout",
       "text": [
        "\n",
        "year 2011"
       ]
      },
      {
       "output_type": "stream",
       "stream": "stdout",
       "text": [
        "\n",
        "year 2012"
       ]
      },
      {
       "output_type": "stream",
       "stream": "stdout",
       "text": [
        "\n",
        "year 2013"
       ]
      },
      {
       "output_type": "stream",
       "stream": "stdout",
       "text": [
        "\n",
        "6096\n"
       ]
      }
     ],
     "prompt_number": 4
    },
    {
     "cell_type": "markdown",
     "metadata": {},
     "source": [
      "###Extracting features specified at http://developer.echonest.com/raw_tutorials/faqs/faq_04.html"
     ]
    },
    {
     "cell_type": "code",
     "collapsed": false,
     "input": [
      "\n",
      "for y in xrange(1999,2000):\n",
      "    write_file_name = 'param/' + str(y) + '_param.csv'\n",
      "\n",
      "    fp = open(write_file_name,'w')\n",
      "    f = csv.writer(fp, delimiter=',')\n",
      "\n",
      "    headings = ['rank', 'song_name', 'artist', 'latitude', 'longitude', 'acousticness', 'danceability', 'duration', 'energy', 'key', 'liveness', 'loudness', 'mode', 'speechiness', 'tempo', 'time_signature', 'valence']\n",
      "    f.writerow(headings)\n",
      "    \n",
      "    read_file_name = str(y) + '.csv'\n",
      "    \n",
      "    rank = 1\n",
      "    \n",
      "    with open(read_file_name,'rb') as csvfile:\n",
      "        song_reader = csv.reader(csvfile, delimiter = ',')\n",
      "\n",
      "        for row in song_reader:\n",
      "            try:   \n",
      "                print row[1],row[2]\n",
      "                rkp_results = song.search(artist=row[1], title=row[2])\n",
      "                lat = rkp_results[0].artist_location['latitude']\n",
      "                lng = rkp_results[0].artist_location['longitude']\n",
      "                print lat,lng\n",
      "                f.writerow([rank, row[2], row[1], lat, lng, rkp_results[0].audio_summary['acousticness'], rkp_results[0].audio_summary['danceability'], rkp_results[0].audio_summary['duration'], rkp_results[0].audio_summary['energy'], rkp_results[0].audio_summary['key'], rkp_results[0].audio_summary['liveness'], rkp_results[0].audio_summary['loudness'], rkp_results[0].audio_summary['mode'], rkp_results[0].audio_summary['speechiness'], rkp_results[0].audio_summary['tempo'], rkp_results[0].audio_summary['time_signature'], rkp_results[0].audio_summary['valence']]) \n",
      "                rank = rank + 1\n",
      "                time.sleep(0.1)\n",
      "\n",
      "            except:\n",
      "                f.writerow([rank, row[2], row[1]])\n",
      "                rank = rank + 1\n",
      "                print 'error'\n",
      "                continue"
     ],
     "language": "python",
     "metadata": {},
     "outputs": [
      {
       "output_type": "stream",
       "stream": "stdout",
       "text": [
        "Cher Believe\n",
        "33.973951"
       ]
      },
      {
       "output_type": "stream",
       "stream": "stdout",
       "text": [
        " -118.248405\n",
        "TLC"
       ]
      },
      {
       "output_type": "stream",
       "stream": "stdout",
       "text": [
        " No Scrubs\n",
        "33.844371"
       ]
      },
      {
       "output_type": "stream",
       "stream": "stdout",
       "text": [
        " -84.47405\n",
        "Monica"
       ]
      },
      {
       "output_type": "stream",
       "stream": "stdout",
       "text": [
        " Angel Of Mine\n",
        "33.844371"
       ]
      },
      {
       "output_type": "stream",
       "stream": "stdout",
       "text": [
        " -84.47405\n",
        "Whitney Houston"
       ]
      },
      {
       "output_type": "stream",
       "stream": "stdout",
       "text": [
        " Heartbreak Hotel\n",
        "40.736101"
       ]
      },
      {
       "output_type": "stream",
       "stream": "stdout",
       "text": [
        " -74.22509\n",
        "Britney Spears"
       ]
      },
      {
       "output_type": "stream",
       "stream": "stdout",
       "text": [
        " ...Baby One More Time\n",
        "30.814466"
       ]
      },
      {
       "output_type": "stream",
       "stream": "stdout",
       "text": [
        " -90.428043\n",
        "Sixpence None The Richer"
       ]
      },
      {
       "output_type": "stream",
       "stream": "stdout",
       "text": [
        " Kiss Me\n",
        "29.6989"
       ]
      },
      {
       "output_type": "stream",
       "stream": "stdout",
       "text": [
        " -98.1209\n",
        "Christina Aguilera"
       ]
      },
      {
       "output_type": "stream",
       "stream": "stdout",
       "text": [
        " Genie In A Bottle\n",
        "40.623632"
       ]
      },
      {
       "output_type": "stream",
       "stream": "stdout",
       "text": [
        " -74.093323\n",
        "Sugar Ray"
       ]
      },
      {
       "output_type": "stream",
       "stream": "stdout",
       "text": [
        " Every Morning\n",
        "33.6166"
       ]
      },
      {
       "output_type": "stream",
       "stream": "stdout",
       "text": [
        " -117.93\n",
        "Deborah Cox"
       ]
      },
      {
       "output_type": "stream",
       "stream": "stdout",
       "text": [
        " Nobody's Supposed To Be Here\n",
        "43.666667"
       ]
      },
      {
       "output_type": "stream",
       "stream": "stdout",
       "text": [
        " -79.416667\n",
        "Ricky Martin"
       ]
      },
      {
       "output_type": "stream",
       "stream": "stdout",
       "text": [
        " Livin' La Vida Loca\n",
        "18.4662"
       ]
      },
      {
       "output_type": "stream",
       "stream": "stdout",
       "text": [
        " -66.1067\n",
        "702"
       ]
      },
      {
       "output_type": "stream",
       "stream": "stdout",
       "text": [
        " Where My Girls At?\n",
        "36.1719"
       ]
      },
      {
       "output_type": "stream",
       "stream": "stdout",
       "text": [
        " -115.14\n",
        "Jennifer Lopez"
       ]
      },
      {
       "output_type": "stream",
       "stream": "stdout",
       "text": [
        " If You Had My Love\n",
        "42.1497"
       ]
      },
      {
       "output_type": "stream",
       "stream": "stdout",
       "text": [
        " -74.9384\n",
        "Goo Goo Dolls"
       ]
      },
      {
       "output_type": "stream",
       "stream": "stdout",
       "text": [
        " Slide\n",
        "42.8854"
       ]
      },
      {
       "output_type": "stream",
       "stream": "stdout",
       "text": [
        " -78.8785\n",
        "Brandy"
       ]
      },
      {
       "output_type": "stream",
       "stream": "stdout",
       "text": [
        " Have You Ever?\n",
        "31.2436111"
       ]
      },
      {
       "output_type": "stream",
       "stream": "stdout",
       "text": [
        " -90.4530556\n",
        "Backstreet Boys"
       ]
      },
      {
       "output_type": "stream",
       "stream": "stdout",
       "text": [
        " I Want It That Way\n",
        "28.545179"
       ]
      },
      {
       "output_type": "stream",
       "stream": "stdout",
       "text": [
        " -81.373291\n",
        "R. Kelly and Celine Dion"
       ]
      },
      {
       "output_type": "stream",
       "stream": "stdout",
       "text": [
        " I'm Your Angel\n",
        "error"
       ]
      },
      {
       "output_type": "stream",
       "stream": "stdout",
       "text": [
        "\n",
        "Smash Mouth All Star\n",
        "37.189396"
       ]
      },
      {
       "output_type": "stream",
       "stream": "stdout",
       "text": [
        " -121.705327\n",
        "Sarah McLachlan"
       ]
      },
      {
       "output_type": "stream",
       "stream": "stdout",
       "text": [
        " Angel\n",
        "44.65"
       ]
      },
      {
       "output_type": "stream",
       "stream": "stdout",
       "text": [
        " -63.6\n",
        "Santana feat. Rob Thomas"
       ]
      },
      {
       "output_type": "stream",
       "stream": "stdout",
       "text": [
        " Smooth\n",
        "error"
       ]
      },
      {
       "output_type": "stream",
       "stream": "stdout",
       "text": [
        "\n",
        "TLC Unpretty\n",
        "33.844371"
       ]
      },
      {
       "output_type": "stream",
       "stream": "stdout",
       "text": [
        " -84.47405\n",
        "Destiny's Child"
       ]
      },
      {
       "output_type": "stream",
       "stream": "stdout",
       "text": [
        " Bills, Bills, Bills\n",
        "29.7605"
       ]
      },
      {
       "output_type": "stream",
       "stream": "stdout",
       "text": [
        " -95.3698\n",
        "Eagle-Eye Cherry"
       ]
      },
      {
       "output_type": "stream",
       "stream": "stdout",
       "text": [
        " Save Tonight\n",
        "59.3322"
       ]
      },
      {
       "output_type": "stream",
       "stream": "stdout",
       "text": [
        " 18.0624\n",
        "Pearl Jam"
       ]
      },
      {
       "output_type": "stream",
       "stream": "stdout",
       "text": [
        " Last Kiss\n",
        "47.60621"
       ]
      },
      {
       "output_type": "stream",
       "stream": "stdout",
       "text": [
        " -122.332071\n",
        "Maxwell"
       ]
      },
      {
       "output_type": "stream",
       "stream": "stdout",
       "text": [
        " Fortunate\n",
        "40.6551"
       ]
      },
      {
       "output_type": "stream",
       "stream": "stdout",
       "text": [
        " -73.9489\n",
        "Backstreet Boys"
       ]
      },
      {
       "output_type": "stream",
       "stream": "stdout",
       "text": [
        " All I Have To Give\n",
        "28.545179"
       ]
      },
      {
       "output_type": "stream",
       "stream": "stdout",
       "text": [
        " -81.373291\n",
        "Enrique Iglesias"
       ]
      },
      {
       "output_type": "stream",
       "stream": "stdout",
       "text": [
        " Bailamos\n",
        "25.779808"
       ]
      },
      {
       "output_type": "stream",
       "stream": "stdout",
       "text": [
        " -80.1532\n",
        "Busta Rhymes feat. Janet"
       ]
      },
      {
       "output_type": "stream",
       "stream": "stdout",
       "text": [
        " What's It Gonna Be?!\n",
        "error"
       ]
      },
      {
       "output_type": "stream",
       "stream": "stdout",
       "text": [
        "\n",
        "Everlast What It's Like\n",
        "40.664"
       ]
      },
      {
       "output_type": "stream",
       "stream": "stdout",
       "text": [
        " -73.7085\n",
        "Lenny Kravitz"
       ]
      },
      {
       "output_type": "stream",
       "stream": "stdout",
       "text": [
        " Fly Away\n",
        "40.714269"
       ]
      },
      {
       "output_type": "stream",
       "stream": "stdout",
       "text": [
        " -74.005973\n",
        "Sugar Ray"
       ]
      },
      {
       "output_type": "stream",
       "stream": "stdout",
       "text": [
        " Someday\n",
        "33.6166"
       ]
      },
      {
       "output_type": "stream",
       "stream": "stdout",
       "text": [
        " -117.93\n",
        "Divine"
       ]
      },
      {
       "output_type": "stream",
       "stream": "stdout",
       "text": [
        " Lately\n",
        "33.6007"
       ]
      },
      {
       "output_type": "stream",
       "stream": "stdout",
       "text": [
        " -112.283\n",
        "Shania Twain"
       ]
      },
      {
       "output_type": "stream",
       "stream": "stdout",
       "text": [
        " That Don't Impress Me Much\n",
        "42.333333"
       ]
      },
      {
       "output_type": "stream",
       "stream": "stdout",
       "text": [
        " -83.033333\n",
        "Will Smith feat. Dru Hill and Kool Moe Dee"
       ]
      },
      {
       "output_type": "stream",
       "stream": "stdout",
       "text": [
        " Wild Wild West\n",
        "error"
       ]
      },
      {
       "output_type": "stream",
       "stream": "stdout",
       "text": [
        "\n",
        "Red Hot Chili Peppers Scar Tissue\n",
        "33.973951"
       ]
      },
      {
       "output_type": "stream",
       "stream": "stdout",
       "text": [
        " -118.248405\n",
        "Mariah Carey feat. Jay-Z"
       ]
      },
      {
       "output_type": "stream",
       "stream": "stdout",
       "text": [
        " Heartbreaker\n",
        "error"
       ]
      },
      {
       "output_type": "stream",
       "stream": "stdout",
       "text": [
        "\n",
        "Mariah Carey I Still Believe\n",
        "40.714269"
       ]
      },
      {
       "output_type": "stream",
       "stream": "stdout",
       "text": [
        " -74.005973\n",
        "98 Degrees"
       ]
      },
      {
       "output_type": "stream",
       "stream": "stdout",
       "text": [
        " The Hardest Thing\n",
        "33.973951"
       ]
      },
      {
       "output_type": "stream",
       "stream": "stdout",
       "text": [
        " -118.248405\n",
        "LFO"
       ]
      },
      {
       "output_type": "stream",
       "stream": "stdout",
       "text": [
        " Summer Girls\n",
        "error"
       ]
      },
      {
       "output_type": "stream",
       "stream": "stdout",
       "text": [
        "\n",
        "Jay-Z feat. Amil (Of Major Coinz) and Ja Can I Get A...\n",
        "error"
       ]
      },
      {
       "output_type": "stream",
       "stream": "stdout",
       "text": [
        "\n",
        "Third Eye Blind Jumper\n",
        "37.784827"
       ]
      },
      {
       "output_type": "stream",
       "stream": "stdout",
       "text": [
        " -122.727802\n",
        "Lauryn Hill"
       ]
      },
      {
       "output_type": "stream",
       "stream": "stdout",
       "text": [
        " Doo Wop (That Thing)\n",
        "40.745772"
       ]
      },
      {
       "output_type": "stream",
       "stream": "stdout",
       "text": [
        " -74.267541\n",
        "Lou Bega"
       ]
      },
      {
       "output_type": "stream",
       "stream": "stdout",
       "text": [
        " Mambo No. 5 (A Little Bit Of...)\n",
        "48.15"
       ]
      },
      {
       "output_type": "stream",
       "stream": "stdout",
       "text": [
        " 11.5833333\n",
        "Tyrese"
       ]
      },
      {
       "output_type": "stream",
       "stream": "stdout",
       "text": [
        " Sweet Lady\n",
        "33.973951"
       ]
      },
      {
       "output_type": "stream",
       "stream": "stdout",
       "text": [
        " -118.248405\n",
        "Whitney Houston"
       ]
      },
      {
       "output_type": "stream",
       "stream": "stdout",
       "text": [
        " It's Not Right But It's Okay\n",
        "40.736101"
       ]
      },
      {
       "output_type": "stream",
       "stream": "stdout",
       "text": [
        " -74.22509\n",
        "'N Sync"
       ]
      },
      {
       "output_type": "stream",
       "stream": "stdout",
       "text": [
        " (God Must Have Spent) A Little More Time On You\n",
        "error"
       ]
      },
      {
       "output_type": "stream",
       "stream": "stdout",
       "text": [
        "\n",
        "Shawn Mullins Lullaby\n",
        "33.7483"
       ]
      },
      {
       "output_type": "stream",
       "stream": "stdout",
       "text": [
        " -84.3911\n",
        "112 feat. Lil' Zane"
       ]
      },
      {
       "output_type": "stream",
       "stream": "stdout",
       "text": [
        " Anywhere\n",
        "error"
       ]
      },
      {
       "output_type": "stream",
       "stream": "stdout",
       "text": [
        "\n",
        "K-Ci and JoJo Tell Me It's Real\n",
        "error"
       ]
      },
      {
       "output_type": "stream",
       "stream": "stdout",
       "text": [
        "\n",
        "Matchbox 20 Back 2 Good\n",
        "error"
       ]
      },
      {
       "output_type": "stream",
       "stream": "stdout",
       "text": [
        "\n",
        "Blaque 808\n",
        "33.7483"
       ]
      },
      {
       "output_type": "stream",
       "stream": "stdout",
       "text": [
        " -84.3911\n",
        "Tal Bachman"
       ]
      },
      {
       "output_type": "stream",
       "stream": "stdout",
       "text": [
        " She's So High\n",
        "49.883333"
       ]
      },
      {
       "output_type": "stream",
       "stream": "stdout",
       "text": [
        " -97.166667\n",
        "Ricky Martin"
       ]
      },
      {
       "output_type": "stream",
       "stream": "stdout",
       "text": [
        " She's All I Ever Had\n",
        "18.4662"
       ]
      },
      {
       "output_type": "stream",
       "stream": "stdout",
       "text": [
        " -66.1067\n",
        "Will Smith"
       ]
      },
      {
       "output_type": "stream",
       "stream": "stdout",
       "text": [
        " Miami\n",
        "34.0535"
       ]
      },
      {
       "output_type": "stream",
       "stream": "stdout",
       "text": [
        " -118.245\n",
        "Jewel"
       ]
      },
      {
       "output_type": "stream",
       "stream": "stdout",
       "text": [
        " Hands\n",
        "59.6425"
       ]
      },
      {
       "output_type": "stream",
       "stream": "stdout",
       "text": [
        " -151.54833\n",
        "JT Money feat. Sole"
       ]
      },
      {
       "output_type": "stream",
       "stream": "stdout",
       "text": [
        " Who Dat\n",
        "error"
       ]
      },
      {
       "output_type": "stream",
       "stream": "stdout",
       "text": [
        "\n",
        "Tim McGraw Please Remember Me\n",
        "32.45764"
       ]
      },
      {
       "output_type": "stream",
       "stream": "stdout",
       "text": [
        " -91.49317\n",
        "Shania Twain"
       ]
      },
      {
       "output_type": "stream",
       "stream": "stdout",
       "text": [
        " From This Moment On\n",
        "42.333333"
       ]
      },
      {
       "output_type": "stream",
       "stream": "stdout",
       "text": [
        " -83.033333\n",
        "Faith Evans"
       ]
      },
      {
       "output_type": "stream",
       "stream": "stdout",
       "text": [
        " Love Like This\n",
        "40.736101"
       ]
      },
      {
       "output_type": "stream",
       "stream": "stdout",
       "text": [
        " -74.22509\n",
        "Jesse Powell"
       ]
      },
      {
       "output_type": "stream",
       "stream": "stdout",
       "text": [
        " You\n",
        "41.603"
       ]
      },
      {
       "output_type": "stream",
       "stream": "stdout",
       "text": [
        " -87.3372\n",
        "Total feat. Missy Elliott"
       ]
      },
      {
       "output_type": "stream",
       "stream": "stdout",
       "text": [
        " Trippin'\n",
        "error"
       ]
      },
      {
       "output_type": "stream",
       "stream": "stdout",
       "text": [
        "\n",
        "Silk If You (Lovin' Me)\n",
        "33.844371"
       ]
      },
      {
       "output_type": "stream",
       "stream": "stdout",
       "text": [
        " -84.47405\n",
        "Lauryn Hill"
       ]
      },
      {
       "output_type": "stream",
       "stream": "stdout",
       "text": [
        " Ex-Factor\n",
        "40.745772"
       ]
      },
      {
       "output_type": "stream",
       "stream": "stdout",
       "text": [
        " -74.267541\n",
        "Jordan Knight"
       ]
      },
      {
       "output_type": "stream",
       "stream": "stdout",
       "text": [
        " Give It To You\n",
        "42.265275"
       ]
      },
      {
       "output_type": "stream",
       "stream": "stdout",
       "text": [
        " -71.879415\n",
        "Goo Goo Dolls"
       ]
      },
      {
       "output_type": "stream",
       "stream": "stdout",
       "text": [
        " Black Balloon\n",
        "42.8854"
       ]
      },
      {
       "output_type": "stream",
       "stream": "stdout",
       "text": [
        " -78.8785\n",
        "Eric Benet feat. Tamia"
       ]
      },
      {
       "output_type": "stream",
       "stream": "stdout",
       "text": [
        " Spend My Life With You\n",
        "error"
       ]
      },
      {
       "output_type": "stream",
       "stream": "stdout",
       "text": [
        "\n",
        "Dru Hill These Are The Times\n",
        "39.208888"
       ]
      },
      {
       "output_type": "stream",
       "stream": "stdout",
       "text": [
        " -76.562926\n",
        "Mark Chesnutt"
       ]
      },
      {
       "output_type": "stream",
       "stream": "stdout",
       "text": [
        " I Don't Want To Miss A Thing\n",
        "30.0861"
       ]
      },
      {
       "output_type": "stream",
       "stream": "stdout",
       "text": [
        " -94.1016\n",
        "98 Degrees"
       ]
      },
      {
       "output_type": "stream",
       "stream": "stdout",
       "text": [
        " I Do (Cherish You)\n",
        "33.973951"
       ]
      },
      {
       "output_type": "stream",
       "stream": "stdout",
       "text": [
        " -118.248405\n",
        "98 Degrees"
       ]
      },
      {
       "output_type": "stream",
       "stream": "stdout",
       "text": [
        " Because Of You\n",
        "33.973951"
       ]
      },
      {
       "output_type": "stream",
       "stream": "stdout",
       "text": [
        " -118.248405\n",
        "Sarah McLachlan"
       ]
      },
      {
       "output_type": "stream",
       "stream": "stdout",
       "text": [
        " I Will Remember You (Live)\n",
        "44.65"
       ]
      },
      {
       "output_type": "stream",
       "stream": "stdout",
       "text": [
        " -63.6\n",
        "Chante Moore"
       ]
      },
      {
       "output_type": "stream",
       "stream": "stdout",
       "text": [
        " Chante's Got A Man\n",
        "33.973951"
       ]
      },
      {
       "output_type": "stream",
       "stream": "stdout",
       "text": [
        " -118.248405\n",
        "Case"
       ]
      },
      {
       "output_type": "stream",
       "stream": "stdout",
       "text": [
        " Happily Ever After\n",
        "40.714269"
       ]
      },
      {
       "output_type": "stream",
       "stream": "stdout",
       "text": [
        " -74.005973\n",
        "Whitney Houston"
       ]
      },
      {
       "output_type": "stream",
       "stream": "stdout",
       "text": [
        " My Love Is Your Love\n",
        "40.736101"
       ]
      },
      {
       "output_type": "stream",
       "stream": "stdout",
       "text": [
        " -74.22509\n",
        "Faith Evans feat. Puff Daddy"
       ]
      },
      {
       "output_type": "stream",
       "stream": "stdout",
       "text": [
        " All Night Long\n",
        "error"
       ]
      },
      {
       "output_type": "stream",
       "stream": "stdout",
       "text": [
        "\n",
        "Juvenile feat. Mannie Fresh and Lil' Wayne Back That Thang Up\n",
        "error"
       ]
      },
      {
       "output_type": "stream",
       "stream": "stdout",
       "text": [
        "\n",
        "Brandy Almost Doesn't Count\n",
        "31.2436111"
       ]
      },
      {
       "output_type": "stream",
       "stream": "stdout",
       "text": [
        " -90.4530556\n",
        "Shania Twain"
       ]
      },
      {
       "output_type": "stream",
       "stream": "stdout",
       "text": [
        " Man! I Feel Like A Woman!\n",
        "42.333333"
       ]
      },
      {
       "output_type": "stream",
       "stream": "stdout",
       "text": [
        " -83.033333\n",
        "Len"
       ]
      },
      {
       "output_type": "stream",
       "stream": "stdout",
       "text": [
        " Steal My Sunshine\n",
        "43.6486"
       ]
      },
      {
       "output_type": "stream",
       "stream": "stdout",
       "text": [
        " -79.3853\n",
        "Marc Anthony"
       ]
      },
      {
       "output_type": "stream",
       "stream": "stdout",
       "text": [
        " I Need To Know\n",
        "40.714269"
       ]
      },
      {
       "output_type": "stream",
       "stream": "stdout",
       "text": [
        " -74.005973\n",
        "Ginuwine"
       ]
      },
      {
       "output_type": "stream",
       "stream": "stdout",
       "text": [
        " So Anxious\n",
        "38.8991"
       ]
      },
      {
       "output_type": "stream",
       "stream": "stdout",
       "text": [
        " -77.029\n",
        "Case and Joe"
       ]
      },
      {
       "output_type": "stream",
       "stream": "stdout",
       "text": [
        " Faded Pictures\n",
        "error"
       ]
      },
      {
       "output_type": "stream",
       "stream": "stdout",
       "text": [
        "\n",
        "Brian McKnight Back At One\n",
        "42.8854"
       ]
      },
      {
       "output_type": "stream",
       "stream": "stdout",
       "text": [
        " -78.8785\n",
        "R. Kelly"
       ]
      },
      {
       "output_type": "stream",
       "stream": "stdout",
       "text": [
        " When A Woman's Fed Up\n",
        "41.850033"
       ]
      },
      {
       "output_type": "stream",
       "stream": "stdout",
       "text": [
        " -87.650052\n",
        "Kenny Chesney"
       ]
      },
      {
       "output_type": "stream",
       "stream": "stdout",
       "text": [
        " How Forever Feels\n",
        "36.15369"
       ]
      },
      {
       "output_type": "stream",
       "stream": "stdout",
       "text": [
        " -83.78241\n",
        "Lonestar"
       ]
      },
      {
       "output_type": "stream",
       "stream": "stdout",
       "text": [
        " Amazed\n",
        "36.165688"
       ]
      },
      {
       "output_type": "stream",
       "stream": "stdout",
       "text": [
        " -86.778098\n",
        "Britney Spears"
       ]
      },
      {
       "output_type": "stream",
       "stream": "stdout",
       "text": [
        " Sometimes\n",
        "30.814466"
       ]
      },
      {
       "output_type": "stream",
       "stream": "stdout",
       "text": [
        " -90.428043\n",
        "Mo Thugs Family feat. Bone Thugs-N-Harmony"
       ]
      },
      {
       "output_type": "stream",
       "stream": "stdout",
       "text": [
        " Ghetto Cowboy\n",
        "error"
       ]
      },
      {
       "output_type": "stream",
       "stream": "stdout",
       "text": [
        "\n",
        "Fastball Out Of My Head\n",
        "30.326374"
       ]
      },
      {
       "output_type": "stream",
       "stream": "stdout",
       "text": [
        " -97.771258\n",
        "Jay-Z"
       ]
      },
      {
       "output_type": "stream",
       "stream": "stdout",
       "text": [
        " Hard Knock Life (Ghetto Anthem)\n",
        "40.694481"
       ]
      },
      {
       "output_type": "stream",
       "stream": "stdout",
       "text": [
        " -73.989319\n",
        "Naughty By Nature feat. Zhane"
       ]
      },
      {
       "output_type": "stream",
       "stream": "stdout",
       "text": [
        " Jamboree\n",
        "error"
       ]
      },
      {
       "output_type": "stream",
       "stream": "stdout",
       "text": [
        "\n",
        "BLACKstreet and Mya feat. Mase and Blinky Blink Take Me There\n",
        "error"
       ]
      },
      {
       "output_type": "stream",
       "stream": "stdout",
       "text": [
        "\n",
        "Joey McIntyre Stay The Same\n",
        "42.180048"
       ]
      },
      {
       "output_type": "stream",
       "stream": "stdout",
       "text": [
        " -71.08923\n",
        "Jo Dee Messina"
       ]
      },
      {
       "output_type": "stream",
       "stream": "stdout",
       "text": [
        " Lesson In Leavin'\n",
        "42.2002"
       ]
      },
      {
       "output_type": "stream",
       "stream": "stdout",
       "text": [
        " -71.4242\n",
        "Goo Goo Dolls"
       ]
      },
      {
       "output_type": "stream",
       "stream": "stdout",
       "text": [
        " Iris\n",
        "42.8854"
       ]
      },
      {
       "output_type": "stream",
       "stream": "stdout",
       "text": [
        " -78.8785\n",
        "Puff Daddy feat. R. Kelly"
       ]
      },
      {
       "output_type": "stream",
       "stream": "stdout",
       "text": [
        " Satisfy You\n",
        "error"
       ]
      },
      {
       "output_type": "stream",
       "stream": "stdout",
       "text": [
        "\n",
        "Citizen King Better Days (And The Bottom Drops Out)\n",
        "43.0418"
       ]
      },
      {
       "output_type": "stream",
       "stream": "stdout",
       "text": [
        " -87.9068\n",
        "'N Sync and Gloria Estefan"
       ]
      },
      {
       "output_type": "stream",
       "stream": "stdout",
       "text": [
        " Music Of My Heart\n",
        "error"
       ]
      },
      {
       "output_type": "stream",
       "stream": "stdout",
       "text": [
        "\n",
        "George Strait Write This Down\n",
        "29.059014"
       ]
      },
      {
       "output_type": "stream",
       "stream": "stdout",
       "text": [
        " -98.63756\n",
        "Whitney Houston and Mariah Carey"
       ]
      },
      {
       "output_type": "stream",
       "stream": "stdout",
       "text": [
        " When You Believe\n",
        "error"
       ]
      },
      {
       "output_type": "stream",
       "stream": "stdout",
       "text": [
        "\n",
        "Alabama feat. 'N Sync God Must Have Spent A Little More Time On You\n",
        "error"
       ]
      },
      {
       "output_type": "stream",
       "stream": "stdout",
       "text": [
        "\n"
       ]
      }
     ],
     "prompt_number": 4
    },
    {
     "cell_type": "code",
     "collapsed": false,
     "input": [
      "from pyechonest import song\n",
      "rkp_results = song.search(artist='Roberta Flack', title='Killing Me Softly With His Song')\n",
      "karma_police = rkp_results[0]\n",
      "print karma_police.artist_location\n",
      "lat = karma_police.artist_location['latitude']\n",
      "lng = karma_police.artist_location['longitude']\n",
      "print lat,lng\n",
      "print 'tempo:',karma_police.audio_summary['tempo'],'duration:',karma_police.audio_summary['duration']"
     ],
     "language": "python",
     "metadata": {},
     "outputs": [
      {
       "output_type": "stream",
       "stream": "stdout",
       "text": [
        "{u'latitude': 35.6181, u'location': u'Black Mountain, NC, US', u'longitude': -82.3205}\n",
        "35.6181 -82.3205\n",
        "tempo: "
       ]
      },
      {
       "output_type": "stream",
       "stream": "stdout",
       "text": [
        "121.364 duration: 282.48771\n"
       ]
      }
     ],
     "prompt_number": 6
    },
    {
     "cell_type": "markdown",
     "metadata": {},
     "source": [
      "## Gather weekly data from http://www.billboard.com/charts/hot-100/1958-08-09\n",
      "---"
     ]
    },
    {
     "cell_type": "code",
     "collapsed": false,
     "input": [
      "start_date = datetime.date(1978,12,23)\n",
      "end_date = datetime.date(2015,3,14)\n",
      "week = datetime.timedelta(weeks=1)\n",
      "\n",
      "while start_date != end_date:\n",
      "    \n",
      "    file_name = 'weekly/' + start_date.isoformat() + '.csv'\n",
      "    fp = open(file_name,'w')\n",
      "    f = csv.writer(fp, delimiter=',')\n",
      "    f.writerow(['rank','song_name','artist'])\n",
      "    \n",
      "    base_url = 'http://www.billboard.com/charts/hot-100/'\n",
      "    url = base_url + start_date.isoformat()\n",
      "    \n",
      "    r = requests.get(url)\n",
      "    dom = web.Element(r.text)    \n",
      "    \n",
      "    for e in dom.by_class('chart-row'):        \n",
      "        rank = e.by_class('row-rank')[0].by_class('this-week')[0].content\n",
      "        name = e.by_class('row-title')[0].by_tag('h2')[0].content\n",
      "        try:\n",
      "            artist = e.by_class('row-title')[0].by_tag('h3')[0].by_tag('a')[0].content\n",
      "        except:\n",
      "            artist = e.by_class('row-title')[0].by_tag('h3')[0].content\n",
      "\n",
      "        parser = HTMLParser()\n",
      "        name = parser.unescape(' '.join(name.split()))\n",
      "        artist = parser.unescape(' '.join(artist.split()))\n",
      "        \n",
      "        try:\n",
      "            f.writerow([rank, name, artist])   \n",
      "        except:\n",
      "            f.writerow(['','',''])\n",
      "    \n",
      "    start_date = start_date + week"
     ],
     "language": "python",
     "metadata": {},
     "outputs": []
    },
    {
     "cell_type": "markdown",
     "metadata": {},
     "source": [
      "## Calculate echonest parameters\n",
      "---"
     ]
    },
    {
     "cell_type": "code",
     "collapsed": false,
     "input": [
      "\n",
      "prev_dataframe = pd.\n",
      "start_date = datetime.date(1958,8,9)\n",
      "end_date = datetime.date(2015,3,14)\n",
      "week = datetime.timedelta(weeks=1)\n",
      "\n",
      "while start_date != end_date:\n",
      "        \n",
      "    write_file_name = 'weekly/param/' + start_date.isoformat() + '_param.csv'\n",
      "\n",
      "    fp = open(write_file_name,'w')\n",
      "    f = csv.writer(fp, delimiter=',')\n",
      "\n",
      "    headings = ['rank', 'song_name', 'artist', 'latitude', 'longitude', 'acousticness', 'danceability', 'duration', 'energy', 'key', 'liveness', 'loudness', 'mode', 'speechiness', 'tempo', 'time_signature', 'valence']\n",
      "    f.writerow(headings)\n",
      "    \n",
      "    read_file_name = 'weekly/' + start_date.isoformat() + '.csv'\n",
      "    \n",
      "    rank = 0\n",
      "    \n",
      "    with open(read_file_name,'rb') as csvfile:        \n",
      "        \n",
      "        song_reader = csv.reader(csvfile, delimiter = ',')\n",
      "\n",
      "        for row in song_reader:\n",
      "            if not rank:\n",
      "                rank = rank + 1\n",
      "                continue\n",
      "                \n",
      "            try:                   \n",
      "                row[1],row[2] = row[2],row[1]\n",
      "                print row[1],row[2]\n",
      "                rkp_results = song.search(artist=row[1], title=row[2])\n",
      "                lat = rkp_results[0].artist_location['latitude']\n",
      "                lng = rkp_results[0].artist_location['longitude']\n",
      "                print lat,lng\n",
      "                f.writerow([rank, row[2], row[1], lat, lng, rkp_results[0].audio_summary['acousticness'], rkp_results[0].audio_summary['danceability'], rkp_results[0].audio_summary['duration'], rkp_results[0].audio_summary['energy'], rkp_results[0].audio_summary['key'], rkp_results[0].audio_summary['liveness'], rkp_results[0].audio_summary['loudness'], rkp_results[0].audio_summary['mode'], rkp_results[0].audio_summary['speechiness'], rkp_results[0].audio_summary['tempo'], rkp_results[0].audio_summary['time_signature'], rkp_results[0].audio_summary['valence']]) \n",
      "                rank = rank + 1\n",
      "\n",
      "            except:\n",
      "                f.writerow([rank, row[2], row[1]])\n",
      "                rank = rank + 1\n",
      "                print 'error'\n",
      "                continue\n",
      "                \n",
      "    start_date = start_date + week"
     ],
     "language": "python",
     "metadata": {},
     "outputs": []
    }
   ],
   "metadata": {}
  }
 ]
}