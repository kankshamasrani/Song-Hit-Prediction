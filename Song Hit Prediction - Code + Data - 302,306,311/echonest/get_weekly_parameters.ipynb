{
 "metadata": {
  "name": "",
  "signature": "sha256:b8917fcf46c4286443e10ee2b510a38a623bcdf2bdfd575ef56fe1612f56a56f"
 },
 "nbformat": 3,
 "nbformat_minor": 0,
 "worksheets": [
  {
   "cells": [
    {
     "cell_type": "code",
     "collapsed": false,
     "input": [
      "from pattern.web import URL, DOM\n",
      "from pattern import web\n",
      "import requests\n",
      "import pandas as pd\n",
      "from HTMLParser import HTMLParser\n",
      "import csv\n",
      "from pyechonest import song\n",
      "from pyechonest import track\n",
      "import time\n",
      "import datetime\n",
      "from pyechonest import config\n",
      "\n",
      "\n",
      "config.ECHO_NEST_API_KEY=\"ZZYYO7TXKOLXEUN9N\"\n"
     ],
     "language": "python",
     "metadata": {},
     "outputs": [],
     "prompt_number": 2
    },
    {
     "cell_type": "code",
     "collapsed": false,
     "input": [
      "start_date = datetime.date(1961,12,30)\n",
      "end_date = datetime.date(1988,06,11)\n",
      "week = datetime.timedelta(weeks=1)\n",
      "\n",
      "while start_date != end_date:\n",
      "        \n",
      "    write_file_name = 'weekly/param/' + start_date.isoformat() + '_param.csv'\n",
      "\n",
      "    fp = open(write_file_name,'w')\n",
      "    f = csv.writer(fp, delimiter=',')\n",
      "    \n",
      "    read_file_name = 'weekly/' + start_date.isoformat() + '.csv'\n",
      "    \n",
      "    rank = 0\n",
      "    \n",
      "    with open(read_file_name,'rb') as csvfile:        \n",
      "        \n",
      "        song_reader = csv.reader(csvfile, delimiter = ',')\n",
      "        \n",
      "        prev_file_name = 'weekly/param/' + (start_date-week).isoformat() + '_param.csv'\n",
      "        prev_dataframe = pd.read_csv(prev_file_name)\n",
      "        \n",
      "        print read_file_name\n",
      "        \n",
      "        song_data = pd.DataFrame(columns = prev_dataframe.columns)\n",
      "        \n",
      "        for row in song_reader:\n",
      "            if not rank:\n",
      "                rank = rank + 1\n",
      "                continue\n",
      "                \n",
      "            try:                   \n",
      "                row[1],row[2] = row[2],row[1]\n",
      "                \n",
      "                print row[1],row[2]\n",
      "                \n",
      "                if not prev_dataframe[(prev_dataframe['song_name']==row[2]) & (prev_dataframe['artist']==row[1])].empty:\n",
      "                    song_df = prev_dataframe[(prev_dataframe['song_name']==row[2]) & (prev_dataframe['artist']==row[1])]\n",
      "                    song_df[['rank']] = rank\n",
      "                    song_data = song_data.append(song_df)\n",
      "                    rank = rank + 1\n",
      "                    #print 'found prev'\n",
      "                    \n",
      "                else:                    \n",
      "                    print row[1],row[2], 'search echonest'\n",
      "                    rkp_results = song.search(artist=row[1], title=row[2])\n",
      "                    lat = rkp_results[0].artist_location['latitude']\n",
      "                    lng = rkp_results[0].artist_location['longitude']\n",
      "                    temp_df = pd.DataFrame([[rank, row[2], row[1], lat, lng, rkp_results[0].audio_summary['acousticness'], rkp_results[0].audio_summary['danceability'], rkp_results[0].audio_summary['duration'], rkp_results[0].audio_summary['energy'], rkp_results[0].audio_summary['key'], rkp_results[0].audio_summary['liveness'], rkp_results[0].audio_summary['loudness'], rkp_results[0].audio_summary['mode'], rkp_results[0].audio_summary['speechiness'], rkp_results[0].audio_summary['tempo'], rkp_results[0].audio_summary['time_signature'], rkp_results[0].audio_summary['valence']]],columns=prev_dataframe.columns)\n",
      "                    temp_df[['rank']] = rank\n",
      "                    #print temp_df\n",
      "                    song_data = song_data.append(temp_df)\n",
      "                    rank = rank + 1\n",
      "\n",
      "            except:\n",
      "                temp_df = pd.DataFrame([[rank,row[2],row[1],'','','','','','','','','','','','','','']],columns=prev_dataframe.columns)\n",
      "                temp_df[['rank']] = rank\n",
      "                song_data = song_data.append(temp_df)\n",
      "                rank = rank + 1\n",
      "                print 'error'\n",
      "                continue \n",
      "                \n",
      "        song_data.index = range(0,len(song_data))\n",
      "        print song_data.index\n",
      "                \n",
      "        song_data.to_csv(write_file_name,index=False)        \n",
      "        \n",
      "                \n",
      "    start_date = start_date + week\n",
      "    \n",
      "    curr_date = start_date"
     ],
     "language": "python",
     "metadata": {},
     "outputs": [
      {
       "output_type": "stream",
       "stream": "stdout",
       "text": [
        "weekly/1961-12-30.csv\n",
        "The Tokens The Lion Sleeps Tonight\n",
        "Bobby Vee Run To Him\n",
        "Chubby Checker"
       ]
      },
      {
       "output_type": "stream",
       "stream": "stdout",
       "text": [
        " The Twist\n",
        "James Darren"
       ]
      },
      {
       "output_type": "stream",
       "stream": "stdout",
       "text": [
        " Goodbye Cruel World\n",
        "Leroy Van Dyke"
       ]
      },
      {
       "output_type": "stream",
       "stream": "stdout",
       "text": [
        " Walk On By\n",
        "Joey Dee & the Starliters"
       ]
      },
      {
       "output_type": "stream",
       "stream": "stdout",
       "text": [
        " Peppermint Twist - Part I\n",
        "The Marvelettes"
       ]
      },
      {
       "output_type": "stream",
       "stream": "stdout",
       "text": [
        " Please Mr. Postman\n",
        "Neil Sedaka"
       ]
      },
      {
       "output_type": "stream",
       "stream": "stdout",
       "text": [
        " Happy Birthday, Sweet Sixteen\n",
        "Sandy Nelson"
       ]
      },
      {
       "output_type": "stream",
       "stream": "stdout",
       "text": [
        " Let There Be Drums\n",
        "Elvis Presley With The Jordanaires"
       ]
      },
      {
       "output_type": "stream",
       "stream": "stdout",
       "text": [
        " Can't Help Falling In Love\n",
        "Henry Mancini And His Orchestra"
       ]
      },
      {
       "output_type": "stream",
       "stream": "stdout",
       "text": [
        " Moon River\n",
        "Linda Scott"
       ]
      },
      {
       "output_type": "stream",
       "stream": "stdout",
       "text": [
        " I Don't Know Why\n",
        "The Lettermen"
       ]
      },
      {
       "output_type": "stream",
       "stream": "stdout",
       "text": [
        " When I Fall In Love\n",
        "Ray Charles and his Orchestra"
       ]
      },
      {
       "output_type": "stream",
       "stream": "stdout",
       "text": [
        " Unchain My Heart\n",
        "Connie Francis"
       ]
      },
      {
       "output_type": "stream",
       "stream": "stdout",
       "text": [
        " When The Boy In Your Arms (Is The Boy In Your Heart)\n",
        "Jerry Butler"
       ]
      },
      {
       "output_type": "stream",
       "stream": "stdout",
       "text": [
        " Moon River\n",
        "The Angels"
       ]
      },
      {
       "output_type": "stream",
       "stream": "stdout",
       "text": [
        " 'Til\n",
        "Ferrante & Teicher"
       ]
      },
      {
       "output_type": "stream",
       "stream": "stdout",
       "text": [
        " Tonight\n",
        "Jimmy Dean"
       ]
      },
      {
       "output_type": "stream",
       "stream": "stdout",
       "text": [
        " Big Bad John\n",
        "Bing Crosby"
       ]
      },
      {
       "output_type": "stream",
       "stream": "stdout",
       "text": [
        " White Christmas\n",
        "The Impressions"
       ]
      },
      {
       "output_type": "stream",
       "stream": "stdout",
       "text": [
        " Gypsy Woman\n",
        "Brook Benton"
       ]
      },
      {
       "output_type": "stream",
       "stream": "stdout",
       "text": [
        " Revenge\n",
        "The Crystals"
       ]
      },
      {
       "output_type": "stream",
       "stream": "stdout",
       "text": [
        " There's No Other (Like My Baby)\n",
        "Kenny Dino"
       ]
      },
      {
       "output_type": "stream",
       "stream": "stdout",
       "text": [
        " Your Ma Said You Cried In Your Sleep Last Night\n",
        "Elvis Presley With The Jordanaires"
       ]
      },
      {
       "output_type": "stream",
       "stream": "stdout",
       "text": [
        " Rock-A-Hula Baby\n",
        "Barbara George"
       ]
      },
      {
       "output_type": "stream",
       "stream": "stdout",
       "text": [
        " I Know (You Don't Love Me No More)\n",
        "Bobby Rydell/Chubby Checker"
       ]
      },
      {
       "output_type": "stream",
       "stream": "stdout",
       "text": [
        " Jingle Bell Rock\n",
        "Brenda Lee"
       ]
      },
      {
       "output_type": "stream",
       "stream": "stdout",
       "text": [
        " Fool #1\n",
        "Chubby Checker"
       ]
      },
      {
       "output_type": "stream",
       "stream": "stdout",
       "text": [
        " Let's Twist Again\n",
        "Solomon Burke"
       ]
      },
      {
       "output_type": "stream",
       "stream": "stdout",
       "text": [
        " Just Out Of Reach (Of My Two Open Arms)\n",
        "Jimmy Elledge"
       ]
      },
      {
       "output_type": "stream",
       "stream": "stdout",
       "text": [
        " Funny How Time Slips Away\n",
        "The Chantels"
       ]
      },
      {
       "output_type": "stream",
       "stream": "stdout",
       "text": [
        " Well, I Told You\n",
        "Phil McLean"
       ]
      },
      {
       "output_type": "stream",
       "stream": "stdout",
       "text": [
        " Small Sad Sam\n",
        "The Harry Simeone Chorale"
       ]
      },
      {
       "output_type": "stream",
       "stream": "stdout",
       "text": [
        " The Little Drummer Boy\n",
        "Fats Domino"
       ]
      },
      {
       "output_type": "stream",
       "stream": "stdout",
       "text": [
        " Jambalaya (On The Bayou)\n",
        "Gene Pitney"
       ]
      },
      {
       "output_type": "stream",
       "stream": "stdout",
       "text": [
        " Town Without Pity\n",
        "The Highwaymen"
       ]
      },
      {
       "output_type": "stream",
       "stream": "stdout",
       "text": [
        " Cotton Fields\n",
        "The G-Clefs"
       ]
      },
      {
       "output_type": "stream",
       "stream": "stdout",
       "text": [
        " I Understand (Just How You Feel)\n",
        "James Ray"
       ]
      },
      {
       "output_type": "stream",
       "stream": "stdout",
       "text": [
        " If You Gotta Make A Fool Of Somebody\n",
        "Pat Boone"
       ]
      },
      {
       "output_type": "stream",
       "stream": "stdout",
       "text": [
        " Johnny Will\n",
        "Dion"
       ]
      },
      {
       "output_type": "stream",
       "stream": "stdout",
       "text": [
        " The Wanderer\n",
        "The Highwaymen"
       ]
      },
      {
       "output_type": "stream",
       "stream": "stdout",
       "text": [
        " The Gypsy Rover\n",
        "Connie Francis"
       ]
      },
      {
       "output_type": "stream",
       "stream": "stdout",
       "text": [
        " Baby's First Christmas\n",
        "Del Shannon"
       ]
      },
      {
       "output_type": "stream",
       "stream": "stdout",
       "text": [
        " Hey! Little Girl\n",
        "The Shirelles"
       ]
      },
      {
       "output_type": "stream",
       "stream": "stdout",
       "text": [
        " Baby It's You\n",
        "Ike & Tina Turner"
       ]
      },
      {
       "output_type": "stream",
       "stream": "stdout",
       "text": [
        " Poor Fool\n",
        "David Seville And The Chipmunks"
       ]
      },
      {
       "output_type": "stream",
       "stream": "stdout",
       "text": [
        " The Chipmunk Song (Christmas Don't Be Late)\n",
        "Vic Dana"
       ]
      },
      {
       "output_type": "stream",
       "stream": "stdout",
       "text": [
        " Little Altar Boy\n",
        "Bobby Helms"
       ]
      },
      {
       "output_type": "stream",
       "stream": "stdout",
       "text": [
        " Jingle Bell Rock\n",
        "Gary U.S. Bonds"
       ]
      },
      {
       "output_type": "stream",
       "stream": "stdout",
       "text": [
        " Dear Lady Twist\n",
        "David Seville And The Chipmunks"
       ]
      },
      {
       "output_type": "stream",
       "stream": "stdout",
       "text": [
        " Rudolph The Red Nosed Reindeer\n",
        "Burl Ives"
       ]
      },
      {
       "output_type": "stream",
       "stream": "stdout",
       "text": [
        " A Little Bitty Tear\n",
        "Sims Twins"
       ]
      },
      {
       "output_type": "stream",
       "stream": "stdout",
       "text": [
        " Soothe Me\n",
        "Dion"
       ]
      },
      {
       "output_type": "stream",
       "stream": "stdout",
       "text": [
        " The Majestic\n",
        "Dion"
       ]
      },
      {
       "output_type": "stream",
       "stream": "stdout",
       "text": [
        " Runaround Sue\n",
        "Dinah Washington"
       ]
      },
      {
       "output_type": "stream",
       "stream": "stdout",
       "text": [
        " September In The Rain\n",
        "Patsy Cline"
       ]
      },
      {
       "output_type": "stream",
       "stream": "stdout",
       "text": [
        " Crazy\n",
        "Brenda Lee"
       ]
      },
      {
       "output_type": "stream",
       "stream": "stdout",
       "text": [
        " Rockin' Around The Christmas Tree\n",
        "John D. Loudermilk"
       ]
      },
      {
       "output_type": "stream",
       "stream": "stdout",
       "text": [
        " Language Of Love\n",
        "Sue Thompson"
       ]
      },
      {
       "output_type": "stream",
       "stream": "stdout",
       "text": [
        " Norman\n",
        "Bobby Bland"
       ]
      },
      {
       "output_type": "stream",
       "stream": "stdout",
       "text": [
        " Turn On Your Love Light\n",
        "Glen Campbell"
       ]
      },
      {
       "output_type": "stream",
       "stream": "stdout",
       "text": [
        " Turn Around, Look At Me\n",
        "Bobby Darin"
       ]
      },
      {
       "output_type": "stream",
       "stream": "stdout",
       "text": [
        " Irresistible You\n",
        "Frank Sinatra"
       ]
      },
      {
       "output_type": "stream",
       "stream": "stdout",
       "text": [
        " Pocketful Of Miracles\n",
        "Bill Black's Combo"
       ]
      },
      {
       "output_type": "stream",
       "stream": "stdout",
       "text": [
        " Twist-Her\n",
        "Lee Dorsey"
       ]
      },
      {
       "output_type": "stream",
       "stream": "stdout",
       "text": [
        " Do-Re-Mi\n",
        "Si Zentner And His Orchestra"
       ]
      },
      {
       "output_type": "stream",
       "stream": "stdout",
       "text": [
        " Up A Lazy River\n",
        "Si Zentner And His Orchestra Up A Lazy River search echonest\n",
        "error"
       ]
      },
      {
       "output_type": "stream",
       "stream": "stdout",
       "text": [
        "\n",
        "Roger Williams Maria\n",
        "Frank Slay And His Orchestra"
       ]
      },
      {
       "output_type": "stream",
       "stream": "stdout",
       "text": [
        " Flying Circle\n",
        "Gladys Knight And The Pips"
       ]
      },
      {
       "output_type": "stream",
       "stream": "stdout",
       "text": [
        " Letter Full Of Tears\n",
        "Linda Scott"
       ]
      },
      {
       "output_type": "stream",
       "stream": "stdout",
       "text": [
        " It's All Because\n",
        "The Drifters"
       ]
      },
      {
       "output_type": "stream",
       "stream": "stdout",
       "text": [
        " Room Full Of Tears\n",
        "Johnny Tillotson"
       ]
      },
      {
       "output_type": "stream",
       "stream": "stdout",
       "text": [
        " Dreamy Eyes\n",
        "Bobby Vee"
       ]
      },
      {
       "output_type": "stream",
       "stream": "stdout",
       "text": [
        " Walkin' With My Angel\n",
        "Jimmy McCracklin"
       ]
      },
      {
       "output_type": "stream",
       "stream": "stdout",
       "text": [
        " Just Got To Know\n",
        "Ral Donner"
       ]
      },
      {
       "output_type": "stream",
       "stream": "stdout",
       "text": [
        " She's Everything (I Wanted You To Be)\n",
        "Ral Donner She's Everything (I Wanted You To Be) search echonest\n",
        "The Dovells"
       ]
      },
      {
       "output_type": "stream",
       "stream": "stdout",
       "text": [
        " Bristol Stomp\n",
        "The Showmen"
       ]
      },
      {
       "output_type": "stream",
       "stream": "stdout",
       "text": [
        " It Will Stand\n",
        "The Marcels"
       ]
      },
      {
       "output_type": "stream",
       "stream": "stdout",
       "text": [
        " Heartaches\n",
        "Gene McDaniels"
       ]
      },
      {
       "output_type": "stream",
       "stream": "stdout",
       "text": [
        " Tower Of Strength\n",
        "Chubby Checker"
       ]
      },
      {
       "output_type": "stream",
       "stream": "stdout",
       "text": [
        " Twistin' U.S.A.\n",
        "The Dave Brubeck Quartet"
       ]
      },
      {
       "output_type": "stream",
       "stream": "stdout",
       "text": [
        " Unsquare Dance\n",
        "Bobby Darin"
       ]
      },
      {
       "output_type": "stream",
       "stream": "stdout",
       "text": [
        " Multiplication\n",
        "David Seville And The Chipmunks"
       ]
      },
      {
       "output_type": "stream",
       "stream": "stdout",
       "text": [
        " Alvin's Harmonica\n",
        "David Seville And The Chipmunks Alvin's Harmonica search echonest\n",
        "error"
       ]
      },
      {
       "output_type": "stream",
       "stream": "stdout",
       "text": [
        "\n",
        "Charles Brown Please Come Home For Christmas\n",
        "Charles Brown Please Come Home For Christmas search echonest\n",
        "Dick Dale and The Del-Tones"
       ]
      },
      {
       "output_type": "stream",
       "stream": "stdout",
       "text": [
        " Let's Go Trippin'\n",
        "Anthony Newley"
       ]
      },
      {
       "output_type": "stream",
       "stream": "stdout",
       "text": [
        " Pop Goes The Weasel\n",
        "Anthony Newley Pop Goes The Weasel search echonest\n",
        "Danny Peppermint and the Jumping Jacks"
       ]
      },
      {
       "output_type": "stream",
       "stream": "stdout",
       "text": [
        " The Peppermint Twist\n",
        "Ray Peterson"
       ]
      },
      {
       "output_type": "stream",
       "stream": "stdout",
       "text": [
        " I Could Have Loved You So Well\n",
        "James Brown And The Famous Flames"
       ]
      },
      {
       "output_type": "stream",
       "stream": "stdout",
       "text": [
        " Lost Someone\n",
        "Patti Page"
       ]
      },
      {
       "output_type": "stream",
       "stream": "stdout",
       "text": [
        " Go On Home\n",
        "Patti Page Go On Home search echonest\n",
        "Ace Cannon"
       ]
      },
      {
       "output_type": "stream",
       "stream": "stdout",
       "text": [
        " Tuff\n",
        "Ace Cannon Tuff search echonest\n",
        "Sleepy King"
       ]
      },
      {
       "output_type": "stream",
       "stream": "stdout",
       "text": [
        " Pushin' Your Luck\n",
        "Marty Robbins"
       ]
      },
      {
       "output_type": "stream",
       "stream": "stdout",
       "text": [
        " I Told The Brook\n",
        "Marty Robbins I Told The Brook search echonest\n",
        "The Corsairs Featuring Jay Bird Uzzell"
       ]
      },
      {
       "output_type": "stream",
       "stream": "stdout",
       "text": [
        " Smoky Places\n",
        "The Corsairs Featuring Jay Bird Uzzell Smoky Places search echonest\n",
        "error"
       ]
      },
      {
       "output_type": "stream",
       "stream": "stdout",
       "text": [
        "\n",
        "Troy Shondell Tears From An Angel\n",
        "Troy Shondell Tears From An Angel search echonest\n",
        "Johnny Preston"
       ]
      },
      {
       "output_type": "stream",
       "stream": "stdout",
       "text": [
        " Free Me\n",
        "Johnny Preston Free Me search echonest\n",
        "The Belmonts"
       ]
      },
      {
       "output_type": "stream",
       "stream": "stdout",
       "text": [
        " I Need Some One\n",
        "The Belmonts I Need Some One search echonest\n",
        "Dickie Goodman"
       ]
      },
      {
       "output_type": "stream",
       "stream": "stdout",
       "text": [
        " Santa & The Touchables\n",
        "Dickie Goodman Santa & The Touchables search echonest\n",
        "Jimmie Beaumont"
       ]
      },
      {
       "output_type": "stream",
       "stream": "stdout",
       "text": [
        " Ev'rybody's Cryin'\n",
        "Jimmie Beaumont Ev'rybody's Cryin' search echonest\n",
        "error"
       ]
      },
      {
       "output_type": "stream",
       "stream": "stdout",
       "text": [
        "\n",
        "Int64Index([0, 1, 2, 3, 4, 5, 6, 7, 8, 9, 10, 11, 12, 13, 14, 15, 16, 17, 18, 19, 20, 21, 22, 23, 24, 25, 26, 27, 28, 29, 30, 31, 32, 33, 34, 35, 36, 37, 38, 39, 40, 41, 42, 43, 44, 45, 46, 47, 48, 49, 50, 51, 52, 53, 54, 55, 56, 57, 58, 59, 60, 61, 62, 63, 64, 65, 66, 67, 68, 69, 70, 71, 72, 73, 74, 75, 76, 77, 78, 79, 80, 81, 82, 83, 84, 85, 86, 87, 88, 89, 90, 91, 92, 93, 94, 95, 96, 97, 98, 99], dtype='int64')\n",
        "weekly/1962-01-06.csv\n",
        "The Tokens The Lion Sleeps Tonight\n",
        "Chubby Checker"
       ]
      },
      {
       "output_type": "stream",
       "stream": "stdout",
       "text": [
        " The Twist\n",
        "Bobby Vee"
       ]
      },
      {
       "output_type": "stream",
       "stream": "stdout",
       "text": [
        " Run To Him\n",
        "Joey Dee & the Starliters"
       ]
      },
      {
       "output_type": "stream",
       "stream": "stdout",
       "text": [
        " Peppermint Twist - Part I\n",
        "Elvis Presley With The Jordanaires"
       ]
      },
      {
       "output_type": "stream",
       "stream": "stdout",
       "text": [
        " Can't Help Falling In Love\n",
        "Neil Sedaka"
       ]
      },
      {
       "output_type": "stream",
       "stream": "stdout",
       "text": [
        " Happy Birthday, Sweet Sixteen\n",
        "James Darren"
       ]
      },
      {
       "output_type": "stream",
       "stream": "stdout",
       "text": [
        " Goodbye Cruel World\n",
        "Leroy Van Dyke"
       ]
      },
      {
       "output_type": "stream",
       "stream": "stdout",
       "text": [
        " Walk On By\n",
        "The Lettermen"
       ]
      },
      {
       "output_type": "stream",
       "stream": "stdout",
       "text": [
        " When I Fall In Love\n",
        "Ray Charles and his Orchestra"
       ]
      },
      {
       "output_type": "stream",
       "stream": "stdout",
       "text": [
        " Unchain My Heart\n",
        "Connie Francis"
       ]
      },
      {
       "output_type": "stream",
       "stream": "stdout",
       "text": [
        " When The Boy In Your Arms (Is The Boy In Your Heart)\n",
        "Bing Crosby"
       ]
      },
      {
       "output_type": "stream",
       "stream": "stdout",
       "text": [
        " White Christmas\n",
        "The Marvelettes"
       ]
      },
      {
       "output_type": "stream",
       "stream": "stdout",
       "text": [
        " Please Mr. Postman\n",
        "The Angels"
       ]
      },
      {
       "output_type": "stream",
       "stream": "stdout",
       "text": [
        " 'Til\n",
        "Barbara George"
       ]
      },
      {
       "output_type": "stream",
       "stream": "stdout",
       "text": [
        " I Know (You Don't Love Me No More)\n",
        "Linda Scott"
       ]
      },
      {
       "output_type": "stream",
       "stream": "stdout",
       "text": [
        " I Don't Know Why\n",
        "Sandy Nelson"
       ]
      },
      {
       "output_type": "stream",
       "stream": "stdout",
       "text": [
        " Let There Be Drums\n",
        "Brook Benton"
       ]
      },
      {
       "output_type": "stream",
       "stream": "stdout",
       "text": [
        " Revenge\n",
        "Henry Mancini And His Orchestra"
       ]
      },
      {
       "output_type": "stream",
       "stream": "stdout",
       "text": [
        " Moon River\n",
        "The Crystals"
       ]
      },
      {
       "output_type": "stream",
       "stream": "stdout",
       "text": [
        " There's No Other (Like My Baby)\n",
        "Bobby Rydell/Chubby Checker"
       ]
      },
      {
       "output_type": "stream",
       "stream": "stdout",
       "text": [
        " Jingle Bell Rock\n",
        "The Harry Simeone Chorale"
       ]
      },
      {
       "output_type": "stream",
       "stream": "stdout",
       "text": [
        " The Little Drummer Boy\n",
        "Elvis Presley With The Jordanaires"
       ]
      },
      {
       "output_type": "stream",
       "stream": "stdout",
       "text": [
        " Rock-A-Hula Baby\n",
        "Gene Pitney"
       ]
      },
      {
       "output_type": "stream",
       "stream": "stdout",
       "text": [
        " Town Without Pity\n",
        "The Impressions"
       ]
      },
      {
       "output_type": "stream",
       "stream": "stdout",
       "text": [
        " Gypsy Woman\n",
        "Connie Francis"
       ]
      },
      {
       "output_type": "stream",
       "stream": "stdout",
       "text": [
        " Baby's First Christmas\n",
        "Jerry Butler"
       ]
      },
      {
       "output_type": "stream",
       "stream": "stdout",
       "text": [
        " Moon River\n",
        "Burl Ives"
       ]
      },
      {
       "output_type": "stream",
       "stream": "stdout",
       "text": [
        " A Little Bitty Tear\n",
        "James Ray"
       ]
      },
      {
       "output_type": "stream",
       "stream": "stdout",
       "text": [
        " If You Gotta Make A Fool Of Somebody\n",
        "Dion"
       ]
      },
      {
       "output_type": "stream",
       "stream": "stdout",
       "text": [
        " The Wanderer\n",
        "Jimmy Elledge"
       ]
      },
      {
       "output_type": "stream",
       "stream": "stdout",
       "text": [
        " Funny How Time Slips Away\n",
        "The Highwaymen"
       ]
      },
      {
       "output_type": "stream",
       "stream": "stdout",
       "text": [
        " Cotton Fields\n",
        "Fats Domino"
       ]
      },
      {
       "output_type": "stream",
       "stream": "stdout",
       "text": [
        " Jambalaya (On The Bayou)\n",
        "The Shirelles"
       ]
      },
      {
       "output_type": "stream",
       "stream": "stdout",
       "text": [
        " Baby It's You\n",
        "Kenny Dino"
       ]
      },
      {
       "output_type": "stream",
       "stream": "stdout",
       "text": [
        " Your Ma Said You Cried In Your Sleep Last Night\n",
        "Ferrante & Teicher"
       ]
      },
      {
       "output_type": "stream",
       "stream": "stdout",
       "text": [
        " Tonight\n",
        "Pat Boone"
       ]
      },
      {
       "output_type": "stream",
       "stream": "stdout",
       "text": [
        " Johnny Will\n",
        "Del Shannon"
       ]
      },
      {
       "output_type": "stream",
       "stream": "stdout",
       "text": [
        " Hey! Little Girl\n",
        "David Seville And The Chipmunks"
       ]
      },
      {
       "output_type": "stream",
       "stream": "stdout",
       "text": [
        " The Chipmunk Song (Christmas Don't Be Late)\n",
        "Jimmy Dean"
       ]
      },
      {
       "output_type": "stream",
       "stream": "stdout",
       "text": [
        " Big Bad John\n",
        "Bobby Helms"
       ]
      },
      {
       "output_type": "stream",
       "stream": "stdout",
       "text": [
        " Jingle Bell Rock\n",
        "Ike & Tina Turner"
       ]
      },
      {
       "output_type": "stream",
       "stream": "stdout",
       "text": [
        " Poor Fool\n",
        "The Chantels"
       ]
      },
      {
       "output_type": "stream",
       "stream": "stdout",
       "text": [
        " Well, I Told You\n",
        "Phil McLean"
       ]
      },
      {
       "output_type": "stream",
       "stream": "stdout",
       "text": [
        " Small Sad Sam\n",
        "Vic Dana"
       ]
      },
      {
       "output_type": "stream",
       "stream": "stdout",
       "text": [
        " Little Altar Boy\n",
        "Sue Thompson"
       ]
      },
      {
       "output_type": "stream",
       "stream": "stdout",
       "text": [
        " Norman\n",
        "David Seville And The Chipmunks"
       ]
      },
      {
       "output_type": "stream",
       "stream": "stdout",
       "text": [
        " Rudolph The Red Nosed Reindeer\n",
        "Gary U.S. Bonds"
       ]
      },
      {
       "output_type": "stream",
       "stream": "stdout",
       "text": [
        " Dear Lady Twist\n",
        "Solomon Burke"
       ]
      },
      {
       "output_type": "stream",
       "stream": "stdout",
       "text": [
        " Just Out Of Reach (Of My Two Open Arms)\n",
        "Brenda Lee"
       ]
      },
      {
       "output_type": "stream",
       "stream": "stdout",
       "text": [
        " Rockin' Around The Christmas Tree\n",
        "Bobby Bland"
       ]
      },
      {
       "output_type": "stream",
       "stream": "stdout",
       "text": [
        " Turn On Your Love Light\n",
        "Bill Black's Combo"
       ]
      },
      {
       "output_type": "stream",
       "stream": "stdout",
       "text": [
        " Twist-Her\n",
        "Bobby Darin"
       ]
      },
      {
       "output_type": "stream",
       "stream": "stdout",
       "text": [
        " Irresistible You\n",
        "Johnny Tillotson"
       ]
      },
      {
       "output_type": "stream",
       "stream": "stdout",
       "text": [
        " Dreamy Eyes\n",
        "Jimmy Dean"
       ]
      },
      {
       "output_type": "stream",
       "stream": "stdout",
       "text": [
        " Dear Ivan\n",
        "Jimmy Dean Dear Ivan search echonest\n",
        "The Highwaymen"
       ]
      },
      {
       "output_type": "stream",
       "stream": "stdout",
       "text": [
        " The Gypsy Rover\n",
        "Si Zentner And His Orchestra"
       ]
      },
      {
       "output_type": "stream",
       "stream": "stdout",
       "text": [
        " Up A Lazy River\n",
        "Frank Sinatra"
       ]
      },
      {
       "output_type": "stream",
       "stream": "stdout",
       "text": [
        " Pocketful Of Miracles\n",
        "Frank Slay And His Orchestra"
       ]
      },
      {
       "output_type": "stream",
       "stream": "stdout",
       "text": [
        " Flying Circle\n",
        "Lee Dorsey"
       ]
      },
      {
       "output_type": "stream",
       "stream": "stdout",
       "text": [
        " Do-Re-Mi\n",
        "Roger Williams"
       ]
      },
      {
       "output_type": "stream",
       "stream": "stdout",
       "text": [
        " Maria\n",
        "Gladys Knight And The Pips"
       ]
      },
      {
       "output_type": "stream",
       "stream": "stdout",
       "text": [
        " Letter Full Of Tears\n",
        "Bobby Darin"
       ]
      },
      {
       "output_type": "stream",
       "stream": "stdout",
       "text": [
        " Multiplication\n",
        "Ral Donner"
       ]
      },
      {
       "output_type": "stream",
       "stream": "stdout",
       "text": [
        " She's Everything (I Wanted You To Be)\n",
        "Chubby Checker"
       ]
      },
      {
       "output_type": "stream",
       "stream": "stdout",
       "text": [
        " Let's Twist Again\n",
        "Glen Campbell"
       ]
      },
      {
       "output_type": "stream",
       "stream": "stdout",
       "text": [
        " Turn Around, Look At Me\n",
        "Jimmy McCracklin"
       ]
      },
      {
       "output_type": "stream",
       "stream": "stdout",
       "text": [
        " Just Got To Know\n",
        "Brenda Lee"
       ]
      },
      {
       "output_type": "stream",
       "stream": "stdout",
       "text": [
        " Fool #1\n",
        "Bobby Vee"
       ]
      },
      {
       "output_type": "stream",
       "stream": "stdout",
       "text": [
        " Walkin' With My Angel\n",
        "Sims Twins"
       ]
      },
      {
       "output_type": "stream",
       "stream": "stdout",
       "text": [
        " Soothe Me\n",
        "The Showmen"
       ]
      },
      {
       "output_type": "stream",
       "stream": "stdout",
       "text": [
        " It Will Stand\n",
        "The G-Clefs"
       ]
      },
      {
       "output_type": "stream",
       "stream": "stdout",
       "text": [
        " I Understand (Just How You Feel)\n",
        "David Seville And The Chipmunks"
       ]
      },
      {
       "output_type": "stream",
       "stream": "stdout",
       "text": [
        " Alvin's Harmonica\n",
        "The Dave Brubeck Quartet"
       ]
      },
      {
       "output_type": "stream",
       "stream": "stdout",
       "text": [
        " Unsquare Dance\n",
        "John D. Loudermilk"
       ]
      },
      {
       "output_type": "stream",
       "stream": "stdout",
       "text": [
        " Language Of Love\n",
        "Charles Brown"
       ]
      },
      {
       "output_type": "stream",
       "stream": "stdout",
       "text": [
        " Please Come Home For Christmas\n",
        "Dick Dale and The Del-Tones"
       ]
      },
      {
       "output_type": "stream",
       "stream": "stdout",
       "text": [
        " Let's Go Trippin'\n",
        "Ace Cannon"
       ]
      },
      {
       "output_type": "stream",
       "stream": "stdout",
       "text": [
        " Tuff\n",
        "Dion"
       ]
      },
      {
       "output_type": "stream",
       "stream": "stdout",
       "text": [
        " The Majestic\n",
        "Ray Peterson"
       ]
      },
      {
       "output_type": "stream",
       "stream": "stdout",
       "text": [
        " I Could Have Loved You So Well\n",
        "Danny & The Juniors with Freddy Cannon"
       ]
      },
      {
       "output_type": "stream",
       "stream": "stdout",
       "text": [
        " Twistin' All Night Long\n",
        "Danny & The Juniors with Freddy Cannon Twistin' All Night Long search echonest\n",
        "error"
       ]
      },
      {
       "output_type": "stream",
       "stream": "stdout",
       "text": [
        "\n",
        "Patti Page Go On Home\n",
        "The Corsairs Featuring Jay Bird Uzzell"
       ]
      },
      {
       "output_type": "stream",
       "stream": "stdout",
       "text": [
        " Smoky Places\n",
        "Troy Shondell"
       ]
      },
      {
       "output_type": "stream",
       "stream": "stdout",
       "text": [
        " Tears From An Angel\n",
        "Anthony Newley"
       ]
      },
      {
       "output_type": "stream",
       "stream": "stdout",
       "text": [
        " Pop Goes The Weasel\n",
        "James Brown And The Famous Flames"
       ]
      },
      {
       "output_type": "stream",
       "stream": "stdout",
       "text": [
        " Lost Someone\n",
        "The Drifters"
       ]
      },
      {
       "output_type": "stream",
       "stream": "stdout",
       "text": [
        " Room Full Of Tears\n",
        "Johnny Mathis"
       ]
      },
      {
       "output_type": "stream",
       "stream": "stdout",
       "text": [
        " Maria\n",
        "Johnny Mathis Maria search echonest\n",
        "The Belmonts"
       ]
      },
      {
       "output_type": "stream",
       "stream": "stdout",
       "text": [
        " I Need Some One\n",
        "Linda Scott"
       ]
      },
      {
       "output_type": "stream",
       "stream": "stdout",
       "text": [
        " It's All Because\n",
        "Patsy Cline"
       ]
      },
      {
       "output_type": "stream",
       "stream": "stdout",
       "text": [
        " Crazy\n",
        "Sleepy King"
       ]
      },
      {
       "output_type": "stream",
       "stream": "stdout",
       "text": [
        " Pushin' Your Luck\n",
        "Ernie Freeman"
       ]
      },
      {
       "output_type": "stream",
       "stream": "stdout",
       "text": [
        " The Twist\n",
        "Ernie Freeman The Twist search echonest\n",
        "Ferlin Husky"
       ]
      },
      {
       "output_type": "stream",
       "stream": "stdout",
       "text": [
        " The Waltz You Saved For Me\n",
        "Ferlin Husky The Waltz You Saved For Me search echonest\n",
        "The Sensations"
       ]
      },
      {
       "output_type": "stream",
       "stream": "stdout",
       "text": [
        " Let Me In\n",
        "The Sensations Let Me In search echonest\n",
        "The Jack Halloran Singers"
       ]
      },
      {
       "output_type": "stream",
       "stream": "stdout",
       "text": [
        " The Little Drummer Boy\n",
        "The Jack Halloran Singers The Little Drummer Boy search echonest\n",
        "error"
       ]
      },
      {
       "output_type": "stream",
       "stream": "stdout",
       "text": [
        "\n",
        "Sheb Wooley That's My Pa\n",
        "Sheb Wooley That's My Pa search echonest\n",
        "Jack Eubanks"
       ]
      },
      {
       "output_type": "stream",
       "stream": "stdout",
       "text": [
        " Searching\n",
        "Jack Eubanks Searching search echonest\n",
        "error"
       ]
      },
      {
       "output_type": "stream",
       "stream": "stdout",
       "text": [
        "\n",
        "Tico And The Triumphs Motorcycle\n",
        "Tico And The Triumphs Motorcycle search echonest\n",
        "error"
       ]
      },
      {
       "output_type": "stream",
       "stream": "stdout",
       "text": [
        "\n",
        "Don Shirley Drown In My Own Tears\n",
        "Don Shirley Drown In My Own Tears search echonest\n",
        "Int64Index([0, 1, 2, 3, 4, 5, 6, 7, 8, 9, 10, 11, 12, 13, 14, 15, 16, 17, 18, 19, 20, 21, 22, 23, 24, 25, 26, 27, 28, 29, 30, 31, 32, 33, 34, 35, 36, 37, 38, 39, 40, 41, 42, 43, 44, 45, 46, 47, 48, 49, 50, 51, 52, 53, 54, 55, 56, 57, 58, 59, 60, 61, 62, 63, 64, 65, 66, 67, 68, 69, 70, 71, 72, 73, 74, 75, 76, 77, 78, 79, 80, 81, 82, 83, 84, 85, 86, 87, 88, 89, 90, 91, 92, 93, 94, 95, 96, 97, 98, 99], dtype='int64')"
       ]
      },
      {
       "output_type": "stream",
       "stream": "stdout",
       "text": [
        "\n",
        "weekly/1962-01-13.csv\n",
        "Chubby Checker The Twist\n",
        "The Tokens"
       ]
      },
      {
       "output_type": "stream",
       "stream": "stdout",
       "text": [
        " The Lion Sleeps Tonight\n",
        "Joey Dee & the Starliters"
       ]
      },
      {
       "output_type": "stream",
       "stream": "stdout",
       "text": [
        " Peppermint Twist - Part I\n",
        "Elvis Presley With The Jordanaires"
       ]
      },
      {
       "output_type": "stream",
       "stream": "stdout",
       "text": [
        " Can't Help Falling In Love\n",
        "Barbara George"
       ]
      },
      {
       "output_type": "stream",
       "stream": "stdout",
       "text": [
        " I Know (You Don't Love Me No More)\n",
        "Neil Sedaka"
       ]
      },
      {
       "output_type": "stream",
       "stream": "stdout",
       "text": [
        " Happy Birthday, Sweet Sixteen\n",
        "Leroy Van Dyke"
       ]
      },
      {
       "output_type": "stream",
       "stream": "stdout",
       "text": [
        " Walk On By\n",
        "Bobby Vee"
       ]
      },
      {
       "output_type": "stream",
       "stream": "stdout",
       "text": [
        " Run To Him\n",
        "Ray Charles and his Orchestra"
       ]
      },
      {
       "output_type": "stream",
       "stream": "stdout",
       "text": [
        " Unchain My Heart\n",
        "Connie Francis"
       ]
      },
      {
       "output_type": "stream",
       "stream": "stdout",
       "text": [
        " When The Boy In Your Arms (Is The Boy In Your Heart)\n",
        "James Darren"
       ]
      },
      {
       "output_type": "stream",
       "stream": "stdout",
       "text": [
        " Goodbye Cruel World\n",
        "The Lettermen"
       ]
      },
      {
       "output_type": "stream",
       "stream": "stdout",
       "text": [
        " When I Fall In Love\n",
        "The Marvelettes"
       ]
      },
      {
       "output_type": "stream",
       "stream": "stdout",
       "text": [
        " Please Mr. Postman\n",
        "Sandy Nelson"
       ]
      },
      {
       "output_type": "stream",
       "stream": "stdout",
       "text": [
        " Let There Be Drums\n",
        "Brook Benton"
       ]
      },
      {
       "output_type": "stream",
       "stream": "stdout",
       "text": [
        " Revenge\n",
        "The Shirelles"
       ]
      },
      {
       "output_type": "stream",
       "stream": "stdout",
       "text": [
        " Baby It's You\n",
        "Sue Thompson"
       ]
      },
      {
       "output_type": "stream",
       "stream": "stdout",
       "text": [
        " Norman\n",
        "Burl Ives"
       ]
      },
      {
       "output_type": "stream",
       "stream": "stdout",
       "text": [
        " A Little Bitty Tear\n",
        "The Highwaymen"
       ]
      },
      {
       "output_type": "stream",
       "stream": "stdout",
       "text": [
        " Cotton Fields\n",
        "Dion"
       ]
      },
      {
       "output_type": "stream",
       "stream": "stdout",
       "text": [
        " The Wanderer\n",
        "Gene Pitney"
       ]
      },
      {
       "output_type": "stream",
       "stream": "stdout",
       "text": [
        " Town Without Pity\n",
        "The Angels"
       ]
      },
      {
       "output_type": "stream",
       "stream": "stdout",
       "text": [
        " 'Til\n",
        "Bobby Rydell/Chubby Checker"
       ]
      },
      {
       "output_type": "stream",
       "stream": "stdout",
       "text": [
        " Jingle Bell Rock\n",
        "The Impressions"
       ]
      },
      {
       "output_type": "stream",
       "stream": "stdout",
       "text": [
        " Gypsy Woman\n",
        "The Crystals"
       ]
      },
      {
       "output_type": "stream",
       "stream": "stdout",
       "text": [
        " There's No Other (Like My Baby)\n",
        "Linda Scott"
       ]
      },
      {
       "output_type": "stream",
       "stream": "stdout",
       "text": [
        " I Don't Know Why\n",
        "James Ray"
       ]
      },
      {
       "output_type": "stream",
       "stream": "stdout",
       "text": [
        " If You Gotta Make A Fool Of Somebody\n",
        "Phil McLean"
       ]
      },
      {
       "output_type": "stream",
       "stream": "stdout",
       "text": [
        " Small Sad Sam\n",
        "Jimmy Elledge"
       ]
      },
      {
       "output_type": "stream",
       "stream": "stdout",
       "text": [
        " Funny How Time Slips Away\n",
        "Fats Domino"
       ]
      },
      {
       "output_type": "stream",
       "stream": "stdout",
       "text": [
        " Jambalaya (On The Bayou)\n",
        "Elvis Presley With The Jordanaires"
       ]
      },
      {
       "output_type": "stream",
       "stream": "stdout",
       "text": [
        " Rock-A-Hula Baby\n",
        "Henry Mancini And His Orchestra"
       ]
      },
      {
       "output_type": "stream",
       "stream": "stdout",
       "text": [
        " Moon River\n",
        "Gary U.S. Bonds"
       ]
      },
      {
       "output_type": "stream",
       "stream": "stdout",
       "text": [
        " Dear Lady Twist\n",
        "Jerry Butler"
       ]
      },
      {
       "output_type": "stream",
       "stream": "stdout",
       "text": [
        " Moon River\n",
        "Pat Boone"
       ]
      },
      {
       "output_type": "stream",
       "stream": "stdout",
       "text": [
        " Johnny Will\n",
        "Bobby Darin"
       ]
      },
      {
       "output_type": "stream",
       "stream": "stdout",
       "text": [
        " Irresistible You\n",
        "Chubby Checker"
       ]
      },
      {
       "output_type": "stream",
       "stream": "stdout",
       "text": [
        " Let's Twist Again\n",
        "Kenny Dino"
       ]
      },
      {
       "output_type": "stream",
       "stream": "stdout",
       "text": [
        " Your Ma Said You Cried In Your Sleep Last Night\n",
        "Ike & Tina Turner"
       ]
      },
      {
       "output_type": "stream",
       "stream": "stdout",
       "text": [
        " Poor Fool\n",
        "Del Shannon"
       ]
      },
      {
       "output_type": "stream",
       "stream": "stdout",
       "text": [
        " Hey! Little Girl\n",
        "Bill Black's Combo"
       ]
      },
      {
       "output_type": "stream",
       "stream": "stdout",
       "text": [
        " Twist-Her\n",
        "Jimmy Dean"
       ]
      },
      {
       "output_type": "stream",
       "stream": "stdout",
       "text": [
        " Dear Ivan\n",
        "Lee Dorsey"
       ]
      },
      {
       "output_type": "stream",
       "stream": "stdout",
       "text": [
        " Do-Re-Mi\n",
        "Johnny Tillotson"
       ]
      },
      {
       "output_type": "stream",
       "stream": "stdout",
       "text": [
        " Dreamy Eyes\n",
        "Ferrante & Teicher"
       ]
      },
      {
       "output_type": "stream",
       "stream": "stdout",
       "text": [
        " Tonight\n",
        "Bobby Bland"
       ]
      },
      {
       "output_type": "stream",
       "stream": "stdout",
       "text": [
        " Turn On Your Love Light\n",
        "Frank Sinatra"
       ]
      },
      {
       "output_type": "stream",
       "stream": "stdout",
       "text": [
        " Pocketful Of Miracles\n",
        "Vic Dana"
       ]
      },
      {
       "output_type": "stream",
       "stream": "stdout",
       "text": [
        " Little Altar Boy\n",
        "The Chantels"
       ]
      },
      {
       "output_type": "stream",
       "stream": "stdout",
       "text": [
        " Well, I Told You\n",
        "Bobby Darin"
       ]
      },
      {
       "output_type": "stream",
       "stream": "stdout",
       "text": [
        " Multiplication\n",
        "Gladys Knight And The Pips"
       ]
      },
      {
       "output_type": "stream",
       "stream": "stdout",
       "text": [
        " Letter Full Of Tears\n",
        "Ral Donner"
       ]
      },
      {
       "output_type": "stream",
       "stream": "stdout",
       "text": [
        " She's Everything (I Wanted You To Be)\n",
        "Roger Williams"
       ]
      },
      {
       "output_type": "stream",
       "stream": "stdout",
       "text": [
        " Maria\n",
        "Frank Slay And His Orchestra"
       ]
      },
      {
       "output_type": "stream",
       "stream": "stdout",
       "text": [
        " Flying Circle\n",
        "Jimmy Dean"
       ]
      },
      {
       "output_type": "stream",
       "stream": "stdout",
       "text": [
        " Big Bad John\n",
        "Brenda Lee"
       ]
      },
      {
       "output_type": "stream",
       "stream": "stdout",
       "text": [
        " Break It To Me Gently\n",
        "Brenda Lee Break It To Me Gently search echonest\n",
        "Bobby Vee"
       ]
      },
      {
       "output_type": "stream",
       "stream": "stdout",
       "text": [
        " Walkin' With My Angel\n",
        "Solomon Burke"
       ]
      },
      {
       "output_type": "stream",
       "stream": "stdout",
       "text": [
        " Just Out Of Reach (Of My Two Open Arms)\n",
        "The Highwaymen"
       ]
      },
      {
       "output_type": "stream",
       "stream": "stdout",
       "text": [
        " The Gypsy Rover\n",
        "Si Zentner And His Orchestra"
       ]
      },
      {
       "output_type": "stream",
       "stream": "stdout",
       "text": [
        " Up A Lazy River\n",
        "Ace Cannon"
       ]
      },
      {
       "output_type": "stream",
       "stream": "stdout",
       "text": [
        " Tuff\n",
        "Brook Benton"
       ]
      }
     ]
    },
    {
     "cell_type": "code",
     "collapsed": false,
     "input": [
      "\n",
      "\n",
      "\n",
      "print temp_df"
     ],
     "language": "python",
     "metadata": {},
     "outputs": [
      {
       "output_type": "stream",
       "stream": "stdout",
       "text": [
        "   rank song_name artist latitude longitude acousticness danceability  \\\n",
        "0     1        hi  hello                                                \n",
        "\n",
        "  duration energy key liveness loudness mode speechiness tempo time_signature  \\\n",
        "0                                                                               \n",
        "\n",
        "  valence  \n",
        "0          \n"
       ]
      }
     ],
     "prompt_number": 18
    },
    {
     "cell_type": "code",
     "collapsed": false,
     "input": [
      "from pyechonest import song\n",
      "rkp_results = song.search(artist='The Danleers', title='One Summer Night')\n",
      "karma_police = rkp_results[0]\n",
      "print karma_police.artist_location\n",
      "lat = karma_police.artist_location['latitude']\n",
      "lng = karma_police.artist_location['longitude']\n",
      "print lat,lng\n",
      "print 'tempo:',karma_police.audio_summary['tempo'],'duration:',karma_police.audio_summary['duration']"
     ],
     "language": "python",
     "metadata": {},
     "outputs": [
      {
       "output_type": "stream",
       "stream": "stdout",
       "text": [
        "{u'latitude': 40.694481, u'location': u'Brooklyn, NY', u'longitude': -73.989319}\n",
        "40.694481 -73.989319\n",
        "tempo: "
       ]
      },
      {
       "output_type": "stream",
       "stream": "stdout",
       "text": [
        "198.637 duration: 134.39955\n"
       ]
      }
     ],
     "prompt_number": 5
    }
   ],
   "metadata": {}
  }
 ]
}