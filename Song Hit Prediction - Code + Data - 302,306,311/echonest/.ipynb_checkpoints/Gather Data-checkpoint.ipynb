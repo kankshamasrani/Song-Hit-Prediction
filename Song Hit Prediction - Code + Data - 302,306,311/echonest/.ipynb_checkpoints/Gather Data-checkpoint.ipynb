{
 "metadata": {
  "name": "",
  "signature": "sha256:31fe0bf36b74193bca21de8ddb5ffed5fd6c3074f1d8f33df3cdcc3a0413dca5"
 },
 "nbformat": 3,
 "nbformat_minor": 0,
 "worksheets": [
  {
   "cells": [
    {
     "cell_type": "markdown",
     "metadata": {},
     "source": [
      "## Import all files\n",
      "---"
     ]
    },
    {
     "cell_type": "code",
     "collapsed": false,
     "input": [
      "from pattern.web import URL, DOM\n",
      "from pattern import web\n",
      "import requests\n",
      "from HTMLParser import HTMLParser\n",
      "import csv\n",
      "from pyechonest import song\n",
      "from pyechonest import track\n",
      "import time\n",
      "import datetime\n",
      "from pyechonest import config\n",
      "\n",
      "\n",
      "config.ECHO_NEST_API_KEY=\"ZZYYO7TXKOLXEUN9N\"\n"
     ],
     "language": "python",
     "metadata": {},
     "outputs": [],
     "prompt_number": 45
    },
    {
     "cell_type": "markdown",
     "metadata": {},
     "source": [
      "###extracting songs from http://www.bobborst.com/popculture/top-100-songs-of-the-year/?year=1964"
     ]
    },
    {
     "cell_type": "code",
     "collapsed": false,
     "input": [
      "\n",
      "base_url = 'http://www.bobborst.com/popculture/top-100-songs-of-the-year/?year='\n",
      "\n",
      "song_count = 0\n",
      "\n",
      "for year in xrange(1947,2014):\n",
      "   \n",
      "        \n",
      "    file_name = str(year) + '.csv'\n",
      "    fp = open(file_name,'w')\n",
      "    f = csv.writer(fp, delimiter=',')\n",
      "\n",
      "    url = base_url + str(year)  \n",
      "    r = requests.get(url)\n",
      "    dom = web.Element(r.text)\n",
      "\n",
      "    big_list = []\n",
      "\n",
      "    for tr in dom.by_class('sortable alternate songtable')[0].by_tag('tbody')[0].by_tag('tr'):\n",
      "        td = tr.by_tag('td')\n",
      "\n",
      "        small_list = []        \n",
      "        small_list.append(td[0].content)\n",
      "        small_list.append(td[1].content)\n",
      "        small_list.append(td[2].content)\n",
      "\n",
      "        song_count = song_count + 1\n",
      "\n",
      "        big_list.append(small_list)\n",
      "\n",
      "    f.writerows(big_list)\n",
      "    \n",
      "    print 'year ' + str(year)        \n",
      "    \n",
      "\n",
      "print song_count"
     ],
     "language": "python",
     "metadata": {},
     "outputs": [
      {
       "output_type": "stream",
       "stream": "stdout",
       "text": [
        "year 1947\n",
        "year 1948"
       ]
      },
      {
       "output_type": "stream",
       "stream": "stdout",
       "text": [
        "\n",
        "year 1949"
       ]
      },
      {
       "output_type": "stream",
       "stream": "stdout",
       "text": [
        "\n",
        "year 1950"
       ]
      },
      {
       "output_type": "stream",
       "stream": "stdout",
       "text": [
        "\n",
        "year 1951"
       ]
      },
      {
       "output_type": "stream",
       "stream": "stdout",
       "text": [
        "\n",
        "year 1952"
       ]
      },
      {
       "output_type": "stream",
       "stream": "stdout",
       "text": [
        "\n",
        "year 1953"
       ]
      },
      {
       "output_type": "stream",
       "stream": "stdout",
       "text": [
        "\n",
        "year 1954"
       ]
      },
      {
       "output_type": "stream",
       "stream": "stdout",
       "text": [
        "\n",
        "year 1955"
       ]
      },
      {
       "output_type": "stream",
       "stream": "stdout",
       "text": [
        "\n",
        "year 1956"
       ]
      },
      {
       "output_type": "stream",
       "stream": "stdout",
       "text": [
        "\n",
        "year 1957"
       ]
      },
      {
       "output_type": "stream",
       "stream": "stdout",
       "text": [
        "\n",
        "year 1958"
       ]
      },
      {
       "output_type": "stream",
       "stream": "stdout",
       "text": [
        "\n",
        "year 1959"
       ]
      },
      {
       "output_type": "stream",
       "stream": "stdout",
       "text": [
        "\n",
        "year 1960"
       ]
      },
      {
       "output_type": "stream",
       "stream": "stdout",
       "text": [
        "\n",
        "year 1961"
       ]
      },
      {
       "output_type": "stream",
       "stream": "stdout",
       "text": [
        "\n",
        "year 1962"
       ]
      },
      {
       "output_type": "stream",
       "stream": "stdout",
       "text": [
        "\n",
        "year 1963"
       ]
      },
      {
       "output_type": "stream",
       "stream": "stdout",
       "text": [
        "\n",
        "year 1964"
       ]
      },
      {
       "output_type": "stream",
       "stream": "stdout",
       "text": [
        "\n",
        "year 1965"
       ]
      },
      {
       "output_type": "stream",
       "stream": "stdout",
       "text": [
        "\n",
        "year 1966"
       ]
      },
      {
       "output_type": "stream",
       "stream": "stdout",
       "text": [
        "\n",
        "year 1967"
       ]
      },
      {
       "output_type": "stream",
       "stream": "stdout",
       "text": [
        "\n",
        "year 1968"
       ]
      },
      {
       "output_type": "stream",
       "stream": "stdout",
       "text": [
        "\n",
        "year 1969"
       ]
      },
      {
       "output_type": "stream",
       "stream": "stdout",
       "text": [
        "\n",
        "year 1970"
       ]
      },
      {
       "output_type": "stream",
       "stream": "stdout",
       "text": [
        "\n",
        "year 1971"
       ]
      },
      {
       "output_type": "stream",
       "stream": "stdout",
       "text": [
        "\n",
        "year 1972"
       ]
      },
      {
       "output_type": "stream",
       "stream": "stdout",
       "text": [
        "\n",
        "year 1973"
       ]
      },
      {
       "output_type": "stream",
       "stream": "stdout",
       "text": [
        "\n",
        "year 1974"
       ]
      },
      {
       "output_type": "stream",
       "stream": "stdout",
       "text": [
        "\n",
        "year 1975"
       ]
      },
      {
       "output_type": "stream",
       "stream": "stdout",
       "text": [
        "\n",
        "year 1976"
       ]
      },
      {
       "output_type": "stream",
       "stream": "stdout",
       "text": [
        "\n",
        "year 1977"
       ]
      },
      {
       "output_type": "stream",
       "stream": "stdout",
       "text": [
        "\n",
        "year 1978"
       ]
      },
      {
       "output_type": "stream",
       "stream": "stdout",
       "text": [
        "\n",
        "year 1979"
       ]
      },
      {
       "output_type": "stream",
       "stream": "stdout",
       "text": [
        "\n",
        "year 1980"
       ]
      },
      {
       "output_type": "stream",
       "stream": "stdout",
       "text": [
        "\n",
        "year 1981"
       ]
      },
      {
       "output_type": "stream",
       "stream": "stdout",
       "text": [
        "\n",
        "year 1982"
       ]
      },
      {
       "output_type": "stream",
       "stream": "stdout",
       "text": [
        "\n",
        "year 1983"
       ]
      },
      {
       "output_type": "stream",
       "stream": "stdout",
       "text": [
        "\n",
        "year 1984"
       ]
      },
      {
       "output_type": "stream",
       "stream": "stdout",
       "text": [
        "\n",
        "year 1985"
       ]
      },
      {
       "output_type": "stream",
       "stream": "stdout",
       "text": [
        "\n",
        "year 1986"
       ]
      },
      {
       "output_type": "stream",
       "stream": "stdout",
       "text": [
        "\n",
        "year 1987"
       ]
      },
      {
       "output_type": "stream",
       "stream": "stdout",
       "text": [
        "\n",
        "year 1988"
       ]
      },
      {
       "output_type": "stream",
       "stream": "stdout",
       "text": [
        "\n",
        "year 1989"
       ]
      },
      {
       "output_type": "stream",
       "stream": "stdout",
       "text": [
        "\n",
        "year 1990"
       ]
      },
      {
       "output_type": "stream",
       "stream": "stdout",
       "text": [
        "\n",
        "year 1991"
       ]
      },
      {
       "output_type": "stream",
       "stream": "stdout",
       "text": [
        "\n",
        "year 1992"
       ]
      },
      {
       "output_type": "stream",
       "stream": "stdout",
       "text": [
        "\n",
        "year 1993"
       ]
      },
      {
       "output_type": "stream",
       "stream": "stdout",
       "text": [
        "\n",
        "year 1994"
       ]
      },
      {
       "output_type": "stream",
       "stream": "stdout",
       "text": [
        "\n",
        "year 1995"
       ]
      },
      {
       "output_type": "stream",
       "stream": "stdout",
       "text": [
        "\n",
        "year 1996"
       ]
      },
      {
       "output_type": "stream",
       "stream": "stdout",
       "text": [
        "\n",
        "year 1997"
       ]
      },
      {
       "output_type": "stream",
       "stream": "stdout",
       "text": [
        "\n",
        "year 1998"
       ]
      },
      {
       "output_type": "stream",
       "stream": "stdout",
       "text": [
        "\n",
        "year 1999"
       ]
      },
      {
       "output_type": "stream",
       "stream": "stdout",
       "text": [
        "\n",
        "year 2000"
       ]
      },
      {
       "output_type": "stream",
       "stream": "stdout",
       "text": [
        "\n",
        "year 2001"
       ]
      },
      {
       "output_type": "stream",
       "stream": "stdout",
       "text": [
        "\n",
        "year 2002"
       ]
      },
      {
       "output_type": "stream",
       "stream": "stdout",
       "text": [
        "\n",
        "year 2003"
       ]
      },
      {
       "output_type": "stream",
       "stream": "stdout",
       "text": [
        "\n",
        "year 2004"
       ]
      },
      {
       "output_type": "stream",
       "stream": "stdout",
       "text": [
        "\n",
        "year 2005"
       ]
      },
      {
       "output_type": "stream",
       "stream": "stdout",
       "text": [
        "\n",
        "year 2006"
       ]
      },
      {
       "output_type": "stream",
       "stream": "stdout",
       "text": [
        "\n",
        "year 2007"
       ]
      },
      {
       "output_type": "stream",
       "stream": "stdout",
       "text": [
        "\n",
        "year 2008"
       ]
      },
      {
       "output_type": "stream",
       "stream": "stdout",
       "text": [
        "\n",
        "year 2009"
       ]
      },
      {
       "output_type": "stream",
       "stream": "stdout",
       "text": [
        "\n",
        "year 2010"
       ]
      },
      {
       "output_type": "stream",
       "stream": "stdout",
       "text": [
        "\n",
        "year 2011"
       ]
      },
      {
       "output_type": "stream",
       "stream": "stdout",
       "text": [
        "\n",
        "year 2012"
       ]
      },
      {
       "output_type": "stream",
       "stream": "stdout",
       "text": [
        "\n",
        "year 2013"
       ]
      },
      {
       "output_type": "stream",
       "stream": "stdout",
       "text": [
        "\n",
        "6096\n"
       ]
      }
     ],
     "prompt_number": 4
    },
    {
     "cell_type": "markdown",
     "metadata": {},
     "source": [
      "###Extracting features specified at http://developer.echonest.com/raw_tutorials/faqs/faq_04.html"
     ]
    },
    {
     "cell_type": "code",
     "collapsed": false,
     "input": [
      "\n",
      "for y in xrange(1990,2000):\n",
      "    write_file_name = 'param/' + str(y) + '_param.csv'\n",
      "\n",
      "    fp = open(write_file_name,'w')\n",
      "    f = csv.writer(fp, delimiter=',')\n",
      "\n",
      "    headings = ['rank', 'song_name', 'artist', 'latitude', 'longitude', 'acousticness', 'danceability', 'duration', 'energy', 'key', 'liveness', 'loudness', 'mode', 'speechiness', 'tempo', 'time_signature', 'valence']\n",
      "    f.writerow(headings)\n",
      "    \n",
      "    read_file_name = str(y) + '.csv'\n",
      "    \n",
      "    rank = 1\n",
      "    \n",
      "    with open(read_file_name,'rb') as csvfile:\n",
      "        song_reader = csv.reader(csvfile, delimiter = ',')\n",
      "\n",
      "        for row in song_reader:\n",
      "            try:   \n",
      "                print row[1],row[2]\n",
      "                rkp_results = song.search(artist=row[1], title=row[2])\n",
      "                lat = rkp_results[0].artist_location['latitude']\n",
      "                lng = rkp_results[0].artist_location['longitude']\n",
      "                print lat,lng\n",
      "                f.writerow([rank, row[2], row[1], lat, lng, rkp_results[0].audio_summary['acousticness'], rkp_results[0].audio_summary['danceability'], rkp_results[0].audio_summary['duration'], rkp_results[0].audio_summary['energy'], rkp_results[0].audio_summary['key'], rkp_results[0].audio_summary['liveness'], rkp_results[0].audio_summary['loudness'], rkp_results[0].audio_summary['mode'], rkp_results[0].audio_summary['speechiness'], rkp_results[0].audio_summary['tempo'], rkp_results[0].audio_summary['time_signature'], rkp_results[0].audio_summary['valence']]) \n",
      "                rank = rank + 1\n",
      "                time.sleep(0.1)\n",
      "\n",
      "            except:\n",
      "                f.writerow([rank, row[2], row[1]])\n",
      "                rank = rank + 1\n",
      "                print 'error'\n",
      "                continue"
     ],
     "language": "python",
     "metadata": {},
     "outputs": [
      {
       "output_type": "stream",
       "stream": "stdout",
       "text": [
        "Wilson Phillips Hold On\n",
        "34.0535"
       ]
      },
      {
       "output_type": "stream",
       "stream": "stdout",
       "text": [
        " -118.245\n",
        "Roxette"
       ]
      },
      {
       "output_type": "stream",
       "stream": "stdout",
       "text": [
        " It Must Have Been Love\n",
        "56.6722"
       ]
      },
      {
       "output_type": "stream",
       "stream": "stdout",
       "text": [
        " 12.8575\n",
        "Sinead O'Connor"
       ]
      },
      {
       "output_type": "stream",
       "stream": "stdout",
       "text": [
        " Nothing Compares 2 U\n",
        "53.3330556"
       ]
      },
      {
       "output_type": "stream",
       "stream": "stdout",
       "text": [
        " -6.2488889\n",
        "Bell Biv Devoe"
       ]
      },
      {
       "output_type": "stream",
       "stream": "stdout",
       "text": [
        " Poison\n",
        "42.3586"
       ]
      },
      {
       "output_type": "stream",
       "stream": "stdout",
       "text": [
        " -71.0567\n",
        "Madonna"
       ]
      },
      {
       "output_type": "stream",
       "stream": "stdout",
       "text": [
        " Vogue\n",
        "40.702898"
       ]
      },
      {
       "output_type": "stream",
       "stream": "stdout",
       "text": [
        " -74.010241\n",
        "Mariah Carey"
       ]
      },
      {
       "output_type": "stream",
       "stream": "stdout",
       "text": [
        " Vision Of Love\n",
        "40.714269"
       ]
      },
      {
       "output_type": "stream",
       "stream": "stdout",
       "text": [
        " -74.005973\n",
        "Phil Collins"
       ]
      },
      {
       "output_type": "stream",
       "stream": "stdout",
       "text": [
        " Another Day In Paradise\n",
        "51.5072648"
       ]
      },
      {
       "output_type": "stream",
       "stream": "stdout",
       "text": [
        " -0.1278328\n",
        "En Vogue"
       ]
      },
      {
       "output_type": "stream",
       "stream": "stdout",
       "text": [
        " Hold On\n",
        "37.8051"
       ]
      },
      {
       "output_type": "stream",
       "stream": "stdout",
       "text": [
        " -122.273\n",
        "Billy Idol"
       ]
      },
      {
       "output_type": "stream",
       "stream": "stdout",
       "text": [
        " Cradle Of Love\n",
        "51.5561"
       ]
      },
      {
       "output_type": "stream",
       "stream": "stdout",
       "text": [
        " -0.25969\n",
        "Jon Bon Jovi"
       ]
      },
      {
       "output_type": "stream",
       "stream": "stdout",
       "text": [
        " Blaze Of Glory\n",
        "error"
       ]
      },
      {
       "output_type": "stream",
       "stream": "stdout",
       "text": [
        "\n",
        "Bell Biv Devoe Do Me!\n",
        "42.3586"
       ]
      },
      {
       "output_type": "stream",
       "stream": "stdout",
       "text": [
        " -71.0567\n",
        "Michael Bolton"
       ]
      },
      {
       "output_type": "stream",
       "stream": "stdout",
       "text": [
        " How Am I Supposed To Live Without You\n",
        "41.3071"
       ]
      },
      {
       "output_type": "stream",
       "stream": "stdout",
       "text": [
        " -72.925\n",
        "Technotronic"
       ]
      },
      {
       "output_type": "stream",
       "stream": "stdout",
       "text": [
        " Pump Up The Jam\n",
        "50.933333"
       ]
      },
      {
       "output_type": "stream",
       "stream": "stdout",
       "text": [
        " 4.033333\n",
        "Paula Abdul"
       ]
      },
      {
       "output_type": "stream",
       "stream": "stdout",
       "text": [
        " Opposites Attract\n",
        "34.286689"
       ]
      },
      {
       "output_type": "stream",
       "stream": "stdout",
       "text": [
        " -118.435078\n",
        "Janet Jackson"
       ]
      },
      {
       "output_type": "stream",
       "stream": "stdout",
       "text": [
        " Escapade\n",
        "41.590686"
       ]
      },
      {
       "output_type": "stream",
       "stream": "stdout",
       "text": [
        " -87.319937\n",
        "Heart"
       ]
      },
      {
       "output_type": "stream",
       "stream": "stdout",
       "text": [
        " All I Wanna Do Is Make Love To You\n",
        "47.6036"
       ]
      },
      {
       "output_type": "stream",
       "stream": "stdout",
       "text": [
        " -122.329\n",
        "Maxi Priest"
       ]
      },
      {
       "output_type": "stream",
       "stream": "stdout",
       "text": [
        " Close To You\n",
        "51.4593"
       ]
      },
      {
       "output_type": "stream",
       "stream": "stdout",
       "text": [
        " -0.01209\n",
        "Alannah Myles"
       ]
      },
      {
       "output_type": "stream",
       "stream": "stdout",
       "text": [
        " Black Velvet\n",
        "43.666667"
       ]
      },
      {
       "output_type": "stream",
       "stream": "stdout",
       "text": [
        " -79.416667\n",
        "Wilson Phillips"
       ]
      },
      {
       "output_type": "stream",
       "stream": "stdout",
       "text": [
        " Release Me\n",
        "34.0535"
       ]
      },
      {
       "output_type": "stream",
       "stream": "stdout",
       "text": [
        " -118.245\n",
        "Linda Ronstadt and Aaron Neville"
       ]
      },
      {
       "output_type": "stream",
       "stream": "stdout",
       "text": [
        " Don't Know Much\n",
        "error"
       ]
      },
      {
       "output_type": "stream",
       "stream": "stdout",
       "text": [
        "\n",
        "Lisa Stansfield All Around The World\n",
        "53.5967685"
       ]
      },
      {
       "output_type": "stream",
       "stream": "stdout",
       "text": [
        " -2.2239715\n",
        "Calloway"
       ]
      },
      {
       "output_type": "stream",
       "stream": "stdout",
       "text": [
        " I Wanna Be Rich\n",
        "39.1064"
       ]
      },
      {
       "output_type": "stream",
       "stream": "stdout",
       "text": [
        " -84.5047\n",
        "Johnny Gill"
       ]
      },
      {
       "output_type": "stream",
       "stream": "stdout",
       "text": [
        " Rub You The Right Way\n",
        "38.8991"
       ]
      },
      {
       "output_type": "stream",
       "stream": "stdout",
       "text": [
        " -77.029\n",
        "Glenn Medeiros feat. Bobby Brown"
       ]
      },
      {
       "output_type": "stream",
       "stream": "stdout",
       "text": [
        " She Ain't Worth It\n",
        "error"
       ]
      },
      {
       "output_type": "stream",
       "stream": "stdout",
       "text": [
        "\n",
        "Sweet Sensation If Wishes Came True\n",
        "53.4796"
       ]
      },
      {
       "output_type": "stream",
       "stream": "stdout",
       "text": [
        " -2.24881\n",
        "Snap"
       ]
      },
      {
       "output_type": "stream",
       "stream": "stdout",
       "text": [
        " The Power\n",
        "50.1166667"
       ]
      },
      {
       "output_type": "stream",
       "stream": "stdout",
       "text": [
        " 8.6833333\n",
        "Nelson"
       ]
      },
      {
       "output_type": "stream",
       "stream": "stdout",
       "text": [
        " (Can't Live Without Your) Love And Affection\n",
        "34.0116"
       ]
      },
      {
       "output_type": "stream",
       "stream": "stdout",
       "text": [
        " -118.492\n",
        "Taylor Dayne"
       ]
      },
      {
       "output_type": "stream",
       "stream": "stdout",
       "text": [
        " Love Will Lead You Back\n",
        "40.654626"
       ]
      },
      {
       "output_type": "stream",
       "stream": "stdout",
       "text": [
        " -73.608972\n",
        "Jane Child"
       ]
      },
      {
       "output_type": "stream",
       "stream": "stdout",
       "text": [
        " Don't Wanna Fall In Love\n",
        "43.6486"
       ]
      },
      {
       "output_type": "stream",
       "stream": "stdout",
       "text": [
        " -79.3853\n",
        "Seduction"
       ]
      },
      {
       "output_type": "stream",
       "stream": "stdout",
       "text": [
        " Two To Make It Right\n",
        "40.7146"
       ]
      },
      {
       "output_type": "stream",
       "stream": "stdout",
       "text": [
        " -74.0071\n",
        "Linear"
       ]
      },
      {
       "output_type": "stream",
       "stream": "stdout",
       "text": [
        " Sending All My Love\n",
        "25.729"
       ]
      },
      {
       "output_type": "stream",
       "stream": "stdout",
       "text": [
        " -80.2374\n",
        "Poison"
       ]
      },
      {
       "output_type": "stream",
       "stream": "stdout",
       "text": [
        " Unskinny Bop\n",
        "40.247992"
       ]
      },
      {
       "output_type": "stream",
       "stream": "stdout",
       "text": [
        " -77.026578\n",
        "New Kids On The Block"
       ]
      },
      {
       "output_type": "stream",
       "stream": "stdout",
       "text": [
        " Step By Step\n",
        "42.3586"
       ]
      },
      {
       "output_type": "stream",
       "stream": "stdout",
       "text": [
        " -71.0567\n",
        "Roxette"
       ]
      },
      {
       "output_type": "stream",
       "stream": "stdout",
       "text": [
        " Dangerous\n",
        "56.6722"
       ]
      },
      {
       "output_type": "stream",
       "stream": "stdout",
       "text": [
        " 12.8575\n",
        "Billy Joel"
       ]
      },
      {
       "output_type": "stream",
       "stream": "stdout",
       "text": [
        " We Didn't Start The Fire\n",
        "40.8572"
       ]
      },
      {
       "output_type": "stream",
       "stream": "stdout",
       "text": [
        " -73.8568\n",
        "James Ingram"
       ]
      },
      {
       "output_type": "stream",
       "stream": "stdout",
       "text": [
        " I Don't Have The Heart\n",
        "34.0535"
       ]
      },
      {
       "output_type": "stream",
       "stream": "stdout",
       "text": [
        " -118.245\n",
        "Rod Stewart"
       ]
      },
      {
       "output_type": "stream",
       "stream": "stdout",
       "text": [
        " Downtown Train\n",
        "51.5072648"
       ]
      },
      {
       "output_type": "stream",
       "stream": "stdout",
       "text": [
        " -0.1278328\n",
        "Janet Jackson"
       ]
      },
      {
       "output_type": "stream",
       "stream": "stdout",
       "text": [
        " Rhythm Nation\n",
        "41.590686"
       ]
      },
      {
       "output_type": "stream",
       "stream": "stdout",
       "text": [
        " -87.319937\n",
        "Tommy Page"
       ]
      },
      {
       "output_type": "stream",
       "stream": "stdout",
       "text": [
        " I'll Be Your Everything\n",
        "40.8024"
       ]
      },
      {
       "output_type": "stream",
       "stream": "stdout",
       "text": [
        " -74.204\n",
        "B-52's"
       ]
      },
      {
       "output_type": "stream",
       "stream": "stdout",
       "text": [
        " Roam\n",
        "33.9581"
       ]
      },
      {
       "output_type": "stream",
       "stream": "stdout",
       "text": [
        " -83.3733\n",
        "Jody Watley"
       ]
      },
      {
       "output_type": "stream",
       "stream": "stdout",
       "text": [
        " Everything\n",
        "41.8842"
       ]
      },
      {
       "output_type": "stream",
       "stream": "stdout",
       "text": [
        " -87.6324\n",
        "Soul II Soul"
       ]
      },
      {
       "output_type": "stream",
       "stream": "stdout",
       "text": [
        " Back to Life (However Do You Want Me)\n",
        "51.5063"
       ]
      },
      {
       "output_type": "stream",
       "stream": "stdout",
       "text": [
        " -0.12714\n",
        "Luther Vandross"
       ]
      },
      {
       "output_type": "stream",
       "stream": "stdout",
       "text": [
        " Here And Now\n",
        "40.714269"
       ]
      },
      {
       "output_type": "stream",
       "stream": "stdout",
       "text": [
        " -74.005973\n",
        "Janet Jackson"
       ]
      },
      {
       "output_type": "stream",
       "stream": "stdout",
       "text": [
        " Alright\n",
        "41.590686"
       ]
      },
      {
       "output_type": "stream",
       "stream": "stdout",
       "text": [
        " -87.319937\n",
        "Vanilla Ice"
       ]
      },
      {
       "output_type": "stream",
       "stream": "stdout",
       "text": [
        " Ice Ice Baby\n",
        "32.781179"
       ]
      },
      {
       "output_type": "stream",
       "stream": "stdout",
       "text": [
        " -96.790329\n",
        "Milli Vanilli"
       ]
      },
      {
       "output_type": "stream",
       "stream": "stdout",
       "text": [
        " Blame It On The Rain\n",
        "48.1364"
       ]
      },
      {
       "output_type": "stream",
       "stream": "stdout",
       "text": [
        " 11.5775\n",
        "M.C. Hammer"
       ]
      },
      {
       "output_type": "stream",
       "stream": "stdout",
       "text": [
        " Have You Seen Her\n",
        "error"
       ]
      },
      {
       "output_type": "stream",
       "stream": "stdout",
       "text": [
        "\n",
        "Taylor Dayne With Every Beat Of My Heart\n",
        "40.654626"
       ]
      },
      {
       "output_type": "stream",
       "stream": "stdout",
       "text": [
        " -73.608972\n",
        "Janet Jackson"
       ]
      },
      {
       "output_type": "stream",
       "stream": "stdout",
       "text": [
        " Come Back To Me\n",
        "41.590686"
       ]
      },
      {
       "output_type": "stream",
       "stream": "stdout",
       "text": [
        " -87.319937\n",
        "Michel'le"
       ]
      },
      {
       "output_type": "stream",
       "stream": "stdout",
       "text": [
        " No More Lies\n",
        "33.8953"
       ]
      },
      {
       "output_type": "stream",
       "stream": "stdout",
       "text": [
        " -118.224\n",
        "George Michael"
       ]
      },
      {
       "output_type": "stream",
       "stream": "stdout",
       "text": [
        " Praying For Time\n",
        "51.589"
       ]
      },
      {
       "output_type": "stream",
       "stream": "stdout",
       "text": [
        " -0.164\n",
        "Michael Bolton"
       ]
      },
      {
       "output_type": "stream",
       "stream": "stdout",
       "text": [
        " How Can We Be Lovers\n",
        "41.3071"
       ]
      },
      {
       "output_type": "stream",
       "stream": "stdout",
       "text": [
        " -72.925\n",
        "Phil Collins"
       ]
      },
      {
       "output_type": "stream",
       "stream": "stdout",
       "text": [
        " Do You Remember\n",
        "51.5072648"
       ]
      },
      {
       "output_type": "stream",
       "stream": "stdout",
       "text": [
        " -0.1278328\n",
        "After 7"
       ]
      },
      {
       "output_type": "stream",
       "stream": "stdout",
       "text": [
        " Ready Or Not\n",
        "39.7669"
       ]
      },
      {
       "output_type": "stream",
       "stream": "stdout",
       "text": [
        " -86.15\n",
        "M.C. Hammer"
       ]
      },
      {
       "output_type": "stream",
       "stream": "stdout",
       "text": [
        " U Can't Touch This\n",
        "error"
       ]
      },
      {
       "output_type": "stream",
       "stream": "stdout",
       "text": [
        "\n",
        "Phil Collins I Wish It Would Rain Down\n",
        "51.5072648"
       ]
      },
      {
       "output_type": "stream",
       "stream": "stdout",
       "text": [
        " -0.1278328\n",
        "Lou Gramm"
       ]
      },
      {
       "output_type": "stream",
       "stream": "stdout",
       "text": [
        " Just Between You And Me\n",
        "43.1555"
       ]
      },
      {
       "output_type": "stream",
       "stream": "stdout",
       "text": [
        " -77.616\n",
        "Phil Collins"
       ]
      },
      {
       "output_type": "stream",
       "stream": "stdout",
       "text": [
        " Something Happened On The Way To Heaven\n",
        "51.5072648"
       ]
      },
      {
       "output_type": "stream",
       "stream": "stdout",
       "text": [
        " -0.1278328\n",
        "Janet Jackson"
       ]
      },
      {
       "output_type": "stream",
       "stream": "stdout",
       "text": [
        " Black Cat\n",
        "41.590686"
       ]
      },
      {
       "output_type": "stream",
       "stream": "stdout",
       "text": [
        " -87.319937\n",
        "After 7"
       ]
      },
      {
       "output_type": "stream",
       "stream": "stdout",
       "text": [
        " Can't Stop\n",
        "39.7669"
       ]
      },
      {
       "output_type": "stream",
       "stream": "stdout",
       "text": [
        " -86.15\n",
        "Aerosmith"
       ]
      },
      {
       "output_type": "stream",
       "stream": "stdout",
       "text": [
        " Janie's Got A Gun\n",
        "42.3586"
       ]
      },
      {
       "output_type": "stream",
       "stream": "stdout",
       "text": [
        " -71.0567\n",
        "Digital Underground"
       ]
      },
      {
       "output_type": "stream",
       "stream": "stdout",
       "text": [
        " The Humpty Dance\n",
        "37.786027"
       ]
      },
      {
       "output_type": "stream",
       "stream": "stdout",
       "text": [
        " -122.223779\n",
        "Taylor Dayne"
       ]
      },
      {
       "output_type": "stream",
       "stream": "stdout",
       "text": [
        " I'll Be Your Shelter\n",
        "40.654626"
       ]
      },
      {
       "output_type": "stream",
       "stream": "stdout",
       "text": [
        " -73.608972\n",
        "Tom Petty"
       ]
      },
      {
       "output_type": "stream",
       "stream": "stdout",
       "text": [
        " Free Fallin'\n",
        "29.648993"
       ]
      },
      {
       "output_type": "stream",
       "stream": "stdout",
       "text": [
        " -82.324515\n",
        "Pebbles"
       ]
      },
      {
       "output_type": "stream",
       "stream": "stdout",
       "text": [
        " Giving You The Benefit\n",
        "37.786027"
       ]
      },
      {
       "output_type": "stream",
       "stream": "stdout",
       "text": [
        " -122.223779\n",
        "Depeche Mode"
       ]
      },
      {
       "output_type": "stream",
       "stream": "stdout",
       "text": [
        " Enjoy The Silence\n",
        "51.572"
       ]
      },
      {
       "output_type": "stream",
       "stream": "stdout",
       "text": [
        " 0.46694\n",
        "Tesla"
       ]
      },
      {
       "output_type": "stream",
       "stream": "stdout",
       "text": [
        " Love Song\n",
        "38.5791"
       ]
      },
      {
       "output_type": "stream",
       "stream": "stdout",
       "text": [
        " -121.491\n",
        "Bad English"
       ]
      },
      {
       "output_type": "stream",
       "stream": "stdout",
       "text": [
        " Price Of Love\n",
        "33.973951"
       ]
      },
      {
       "output_type": "stream",
       "stream": "stdout",
       "text": [
        " -118.248405\n",
        "Tyler Collins"
       ]
      },
      {
       "output_type": "stream",
       "stream": "stdout",
       "text": [
        " Girls Nite Out\n",
        "40.8084"
       ]
      },
      {
       "output_type": "stream",
       "stream": "stdout",
       "text": [
        " -73.9469\n",
        "Go West"
       ]
      },
      {
       "output_type": "stream",
       "stream": "stdout",
       "text": [
        " King Of Wishful Thinking\n",
        "51.5063"
       ]
      },
      {
       "output_type": "stream",
       "stream": "stdout",
       "text": [
        " -0.12714\n",
        "Chicago"
       ]
      },
      {
       "output_type": "stream",
       "stream": "stdout",
       "text": [
        " What Kind Of Man Would I Be?\n",
        "41.850033"
       ]
      },
      {
       "output_type": "stream",
       "stream": "stdout",
       "text": [
        " -87.650052\n",
        "Skid Row"
       ]
      },
      {
       "output_type": "stream",
       "stream": "stdout",
       "text": [
        " I Remember You\n",
        "39.9529"
       ]
      },
      {
       "output_type": "stream",
       "stream": "stdout",
       "text": [
        " -74.1938\n",
        "Technotronic"
       ]
      },
      {
       "output_type": "stream",
       "stream": "stdout",
       "text": [
        " Get Up! (Before The Night Is Over)\n",
        "50.933333"
       ]
      },
      {
       "output_type": "stream",
       "stream": "stdout",
       "text": [
        " 4.033333\n",
        "Gloria Estefan"
       ]
      },
      {
       "output_type": "stream",
       "stream": "stdout",
       "text": [
        " Here We Are\n",
        "25.729"
       ]
      },
      {
       "output_type": "stream",
       "stream": "stdout",
       "text": [
        " -80.2374\n",
        "Faith No More"
       ]
      },
      {
       "output_type": "stream",
       "stream": "stdout",
       "text": [
        " Epic\n",
        "37.7796"
       ]
      },
      {
       "output_type": "stream",
       "stream": "stdout",
       "text": [
        " -122.42\n",
        "Mariah Carey"
       ]
      },
      {
       "output_type": "stream",
       "stream": "stdout",
       "text": [
        " Love Takes Time\n",
        "40.714269"
       ]
      },
      {
       "output_type": "stream",
       "stream": "stdout",
       "text": [
        " -74.005973\n",
        "Cher"
       ]
      },
      {
       "output_type": "stream",
       "stream": "stdout",
       "text": [
        " Just Like Jesse James\n",
        "33.973951"
       ]
      },
      {
       "output_type": "stream",
       "stream": "stdout",
       "text": [
        " -118.248405\n",
        "B-52s"
       ]
      },
      {
       "output_type": "stream",
       "stream": "stdout",
       "text": [
        " Love Shack\n",
        "error"
       ]
      },
      {
       "output_type": "stream",
       "stream": "stdout",
       "text": [
        "\n",
        "Milli Vanilli All Or Nothing\n",
        "48.1364"
       ]
      },
      {
       "output_type": "stream",
       "stream": "stdout",
       "text": [
        " 11.5775\n",
        "Dino"
       ]
      },
      {
       "output_type": "stream",
       "stream": "stdout",
       "text": [
        " Romeo\n",
        "51.5063"
       ]
      },
      {
       "output_type": "stream",
       "stream": "stdout",
       "text": [
        " -0.12714\n",
        "Black Box"
       ]
      },
      {
       "output_type": "stream",
       "stream": "stdout",
       "text": [
        " Everybody Everybody\n",
        "42.5038"
       ]
      },
      {
       "output_type": "stream",
       "stream": "stdout",
       "text": [
        " 12.5735\n",
        "Billy Joel"
       ]
      },
      {
       "output_type": "stream",
       "stream": "stdout",
       "text": [
        " I Go To Extremes\n",
        "40.8572"
       ]
      },
      {
       "output_type": "stream",
       "stream": "stdout",
       "text": [
        " -73.8568\n",
        "Babyface"
       ]
      },
      {
       "output_type": "stream",
       "stream": "stdout",
       "text": [
        " Whip Appeal\n",
        "39.775092"
       ]
      },
      {
       "output_type": "stream",
       "stream": "stdout",
       "text": [
        " -86.13216\n",
        "Paul Young"
       ]
      },
      {
       "output_type": "stream",
       "stream": "stdout",
       "text": [
        " Oh Girl\n",
        "54.0"
       ]
      },
      {
       "output_type": "stream",
       "stream": "stdout",
       "text": [
        " -2.0\n",
        "D-Mob With Cathy Dennis"
       ]
      },
      {
       "output_type": "stream",
       "stream": "stdout",
       "text": [
        " C'mon And Get My Love\n",
        "error"
       ]
      },
      {
       "output_type": "stream",
       "stream": "stdout",
       "text": [
        "\n",
        "Paula Abdul (It's Just) The Way That You Love Me\n",
        "34.286689"
       ]
      },
      {
       "output_type": "stream",
       "stream": "stdout",
       "text": [
        " -118.435078\n",
        "Cover Girls"
       ]
      },
      {
       "output_type": "stream",
       "stream": "stdout",
       "text": [
        " We Can't Go Wrong\n",
        "40.7146"
       ]
      },
      {
       "output_type": "stream",
       "stream": "stdout",
       "text": [
        " -74.0071\n",
        "Michael Bolton"
       ]
      },
      {
       "output_type": "stream",
       "stream": "stdout",
       "text": [
        " When I'm Back On My Feet Again\n",
        "41.3071"
       ]
      },
      {
       "output_type": "stream",
       "stream": "stdout",
       "text": [
        " -72.925\n",
        "Keith Sweat"
       ]
      },
      {
       "output_type": "stream",
       "stream": "stdout",
       "text": [
        " Make You Sweat\n",
        "40.8077778"
       ]
      },
      {
       "output_type": "stream",
       "stream": "stdout",
       "text": [
        " -73.9458333\n",
        "New Kids On The Block"
       ]
      },
      {
       "output_type": "stream",
       "stream": "stdout",
       "text": [
        " This One's For The Children\n",
        "42.3586"
       ]
      },
      {
       "output_type": "stream",
       "stream": "stdout",
       "text": [
        " -71.0567\n",
        "Aerosmith"
       ]
      },
      {
       "output_type": "stream",
       "stream": "stdout",
       "text": [
        " What It Takes\n",
        "42.3586"
       ]
      },
      {
       "output_type": "stream",
       "stream": "stdout",
       "text": [
        " -71.0567\n",
        "Kiss"
       ]
      },
      {
       "output_type": "stream",
       "stream": "stdout",
       "text": [
        " Forever\n",
        "40.7146"
       ]
      },
      {
       "output_type": "stream",
       "stream": "stdout",
       "text": [
        " -74.0071\n",
        "Time"
       ]
      },
      {
       "output_type": "stream",
       "stream": "stdout",
       "text": [
        " Jerk Out\n",
        "45.8"
       ]
      },
      {
       "output_type": "stream",
       "stream": "stdout",
       "text": [
        " 16.0\n",
        "Biz Markie"
       ]
      },
      {
       "output_type": "stream",
       "stream": "stdout",
       "text": [
        " Just A Friend\n",
        "40.8084"
       ]
      },
      {
       "output_type": "stream",
       "stream": "stdout",
       "text": [
        " -73.9469\n",
        "A'me Lorain"
       ]
      },
      {
       "output_type": "stream",
       "stream": "stdout",
       "text": [
        " Whole Wide World\n",
        "37.1679"
       ]
      },
      {
       "output_type": "stream",
       "stream": "stdout",
       "text": [
        " -95.845\n",
        "Motley Crue"
       ]
      },
      {
       "output_type": "stream",
       "stream": "stdout",
       "text": [
        " Without You\n",
        "33.973951"
       ]
      },
      {
       "output_type": "stream",
       "stream": "stdout",
       "text": [
        " -118.248405\n",
        "Jive Bunny and The Master Mixers"
       ]
      },
      {
       "output_type": "stream",
       "stream": "stdout",
       "text": [
        " Swing The Mood\n",
        "error"
       ]
      },
      {
       "output_type": "stream",
       "stream": "stdout",
       "text": [
        "\n",
        "Prince Thieves In The Temple\n",
        "44.979"
       ]
      },
      {
       "output_type": "stream",
       "stream": "stdout",
       "text": [
        " -93.2649\n",
        "Mellow Man Ace"
       ]
      },
      {
       "output_type": "stream",
       "stream": "stdout",
       "text": [
        " Mentirosa\n",
        "33.9563"
       ]
      },
      {
       "output_type": "stream",
       "stream": "stdout",
       "text": [
        " -118.206\n",
        "Kyper"
       ]
      },
      {
       "output_type": "stream",
       "stream": "stdout",
       "text": [
        " Tic-Tac-Toe\n",
        "30.4434"
       ]
      },
      {
       "output_type": "stream",
       "stream": "stdout",
       "text": [
        " -91.187\n",
        "Bryan Adams"
       ]
      },
      {
       "output_type": "stream",
       "stream": "stdout",
       "text": [
        " (Everything I Do) I Do It For You\n",
        "44.233333"
       ]
      },
      {
       "output_type": "stream",
       "stream": "stdout",
       "text": [
        " -76.483333\n",
        "Color Me Badd"
       ]
      },
      {
       "output_type": "stream",
       "stream": "stdout",
       "text": [
        " I Wanna Sex You Up\n",
        "35.472"
       ]
      },
      {
       "output_type": "stream",
       "stream": "stdout",
       "text": [
        " -97.5203\n",
        "C+C Music Factory"
       ]
      },
      {
       "output_type": "stream",
       "stream": "stdout",
       "text": [
        " Gonna Make You Sweat (Everybody Dance Now)\n",
        "40.7146"
       ]
      },
      {
       "output_type": "stream",
       "stream": "stdout",
       "text": [
        " -74.0071\n",
        "Paula Abdul"
       ]
      },
      {
       "output_type": "stream",
       "stream": "stdout",
       "text": [
        " Rush Rush\n",
        "34.286689"
       ]
      },
      {
       "output_type": "stream",
       "stream": "stdout",
       "text": [
        " -118.435078\n",
        "Timmy T"
       ]
      },
      {
       "output_type": "stream",
       "stream": "stdout",
       "text": [
        " One More Try\n",
        "36.7407"
       ]
      },
      {
       "output_type": "stream",
       "stream": "stdout",
       "text": [
        " -119.786\n",
        "EMF"
       ]
      },
      {
       "output_type": "stream",
       "stream": "stdout",
       "text": [
        " Unbelievable\n",
        "51.816667"
       ]
      },
      {
       "output_type": "stream",
       "stream": "stdout",
       "text": [
        " -2.483333\n",
        "Extreme"
       ]
      },
      {
       "output_type": "stream",
       "stream": "stdout",
       "text": [
        " More Than Words\n",
        "42.436545"
       ]
      },
      {
       "output_type": "stream",
       "stream": "stdout",
       "text": [
        " -71.085396\n",
        "Hi-Five"
       ]
      },
      {
       "output_type": "stream",
       "stream": "stdout",
       "text": [
        " I Like The Way (The Kissing Game)\n",
        "31.5718"
       ]
      },
      {
       "output_type": "stream",
       "stream": "stdout",
       "text": [
        " -97.1495\n",
        "Surface"
       ]
      },
      {
       "output_type": "stream",
       "stream": "stdout",
       "text": [
        " The First Time\n",
        "40.7146"
       ]
      },
      {
       "output_type": "stream",
       "stream": "stdout",
       "text": [
        " -74.0071\n",
        "Amy Grant"
       ]
      },
      {
       "output_type": "stream",
       "stream": "stdout",
       "text": [
        " Baby, Baby\n",
        "36.165688"
       ]
      },
      {
       "output_type": "stream",
       "stream": "stdout",
       "text": [
        " -86.778098\n",
        "Boyz II Men"
       ]
      },
      {
       "output_type": "stream",
       "stream": "stdout",
       "text": [
        " Motownphilly\n",
        "39.9523"
       ]
      },
      {
       "output_type": "stream",
       "stream": "stdout",
       "text": [
        " -75.1624\n",
        "Stevie B"
       ]
      },
      {
       "output_type": "stream",
       "stream": "stdout",
       "text": [
        " Because I Love You (The Postman Song)\n",
        "25.729"
       ]
      },
      {
       "output_type": "stream",
       "stream": "stdout",
       "text": [
        " -80.2374\n",
        "Mariah Carey"
       ]
      },
      {
       "output_type": "stream",
       "stream": "stdout",
       "text": [
        " Someday\n",
        "40.714269"
       ]
      },
      {
       "output_type": "stream",
       "stream": "stdout",
       "text": [
        " -74.005973\n",
        "Damn Yankees"
       ]
      },
      {
       "output_type": "stream",
       "stream": "stdout",
       "text": [
        " High Enough\n",
        "26.1237"
       ]
      },
      {
       "output_type": "stream",
       "stream": "stdout",
       "text": [
        " -80.1436\n",
        "Bette Midler"
       ]
      },
      {
       "output_type": "stream",
       "stream": "stdout",
       "text": [
        " From A Distance\n",
        "24.859832"
       ]
      },
      {
       "output_type": "stream",
       "stream": "stdout",
       "text": [
        " -168.021815\n",
        "Whitney Houston"
       ]
      },
      {
       "output_type": "stream",
       "stream": "stdout",
       "text": [
        " All The Man That I Need\n",
        "40.736101"
       ]
      },
      {
       "output_type": "stream",
       "stream": "stdout",
       "text": [
        " -74.22509\n",
        "Jesus Jones"
       ]
      },
      {
       "output_type": "stream",
       "stream": "stdout",
       "text": [
        " Right Here, Right Now\n",
        "51.25"
       ]
      },
      {
       "output_type": "stream",
       "stream": "stdout",
       "text": [
        " -1.916667\n",
        "Color Me Badd"
       ]
      },
      {
       "output_type": "stream",
       "stream": "stdout",
       "text": [
        " I Adore Mi Amor\n",
        "35.472"
       ]
      },
      {
       "output_type": "stream",
       "stream": "stdout",
       "text": [
        " -97.5203\n",
        "Janet Jackson"
       ]
      },
      {
       "output_type": "stream",
       "stream": "stdout",
       "text": [
        " Love Will Never Do (Without You)\n",
        "41.590686"
       ]
      },
      {
       "output_type": "stream",
       "stream": "stdout",
       "text": [
        " -87.319937\n",
        "Marky Mark and The Funky Bunch feat. Loleatta Holloway"
       ]
      },
      {
       "output_type": "stream",
       "stream": "stdout",
       "text": [
        " Good Vibrations\n",
        "error"
       ]
      },
      {
       "output_type": "stream",
       "stream": "stdout",
       "text": [
        "\n",
        "Madonna Justify My Love\n",
        "40.702898"
       ]
      },
      {
       "output_type": "stream",
       "stream": "stdout",
       "text": [
        " -74.010241\n",
        "Mariah Carey"
       ]
      },
      {
       "output_type": "stream",
       "stream": "stdout",
       "text": [
        " Emotions\n",
        "40.714269"
       ]
      },
      {
       "output_type": "stream",
       "stream": "stdout",
       "text": [
        " -74.005973\n",
        "Roxette"
       ]
      },
      {
       "output_type": "stream",
       "stream": "stdout",
       "text": [
        " Joyride\n",
        "56.6722"
       ]
      },
      {
       "output_type": "stream",
       "stream": "stdout",
       "text": [
        " 12.8575\n",
        "Karyn White"
       ]
      },
      {
       "output_type": "stream",
       "stream": "stdout",
       "text": [
        " Romantic\n",
        "29.4535"
       ]
      },
      {
       "output_type": "stream",
       "stream": "stdout",
       "text": [
        " -82.1062\n",
        "Tara Kemp"
       ]
      },
      {
       "output_type": "stream",
       "stream": "stdout",
       "text": [
        " Hold You Tight\n",
        "37.7796"
       ]
      },
      {
       "output_type": "stream",
       "stream": "stdout",
       "text": [
        " -122.42\n",
        "Mariah Carey"
       ]
      },
      {
       "output_type": "stream",
       "stream": "stdout",
       "text": [
        " I Don't Wanna Cry\n",
        "40.714269"
       ]
      },
      {
       "output_type": "stream",
       "stream": "stdout",
       "text": [
        " -74.005973\n",
        "Wilson Phillips"
       ]
      },
      {
       "output_type": "stream",
       "stream": "stdout",
       "text": [
        " You're In Love\n",
        "34.0535"
       ]
      },
      {
       "output_type": "stream",
       "stream": "stdout",
       "text": [
        " -118.245\n",
        "Amy Grant"
       ]
      },
      {
       "output_type": "stream",
       "stream": "stdout",
       "text": [
        " Every Heartbeat\n",
        "36.165688"
       ]
      },
      {
       "output_type": "stream",
       "stream": "stdout",
       "text": [
        " -86.778098\n",
        "Ralph Tresvant"
       ]
      },
      {
       "output_type": "stream",
       "stream": "stdout",
       "text": [
        " Sensitivity\n",
        "42.3302"
       ]
      },
      {
       "output_type": "stream",
       "stream": "stdout",
       "text": [
        " -71.0914\n",
        "Cathy Dennis"
       ]
      },
      {
       "output_type": "stream",
       "stream": "stdout",
       "text": [
        " Touch Me (All Night Long)\n",
        "52.6225"
       ]
      },
      {
       "output_type": "stream",
       "stream": "stdout",
       "text": [
        " 1.2949\n",
        "Londonbeat"
       ]
      },
      {
       "output_type": "stream",
       "stream": "stdout",
       "text": [
        " I've Been Thinking About You\n",
        "54.3141"
       ]
      },
      {
       "output_type": "stream",
       "stream": "stdout",
       "text": [
        " -2.23001\n",
        "Natural Selection"
       ]
      },
      {
       "output_type": "stream",
       "stream": "stdout",
       "text": [
        " Do Anything\n",
        "44.979"
       ]
      },
      {
       "output_type": "stream",
       "stream": "stdout",
       "text": [
        " -93.2649\n",
        "R.E.M."
       ]
      },
      {
       "output_type": "stream",
       "stream": "stdout",
       "text": [
        " Losing My Religion\n",
        "33.992902"
       ]
      },
      {
       "output_type": "stream",
       "stream": "stdout",
       "text": [
        " -83.353697\n",
        "Gloria Estefan"
       ]
      },
      {
       "output_type": "stream",
       "stream": "stdout",
       "text": [
        " Coming Out Of The Dark\n",
        "25.729"
       ]
      },
      {
       "output_type": "stream",
       "stream": "stdout",
       "text": [
        " -80.2374\n",
        "Lenny Kravitz"
       ]
      },
      {
       "output_type": "stream",
       "stream": "stdout",
       "text": [
        " It Ain't Over 'Til It's Over\n",
        "40.714269"
       ]
      },
      {
       "output_type": "stream",
       "stream": "stdout",
       "text": [
        " -74.005973\n",
        "C+C Music Factory"
       ]
      },
      {
       "output_type": "stream",
       "stream": "stdout",
       "text": [
        " Here We Go\n",
        "40.7146"
       ]
      },
      {
       "output_type": "stream",
       "stream": "stdout",
       "text": [
        " -74.0071\n",
        "Celine Dion"
       ]
      },
      {
       "output_type": "stream",
       "stream": "stdout",
       "text": [
        " Where Does My Heart Beat Now\n",
        "45.7215"
       ]
      },
      {
       "output_type": "stream",
       "stream": "stdout",
       "text": [
        " -73.4867\n",
        "D.J. Jazzy Jeff and The Fresh Prince"
       ]
      },
      {
       "output_type": "stream",
       "stream": "stdout",
       "text": [
        " Summertime\n",
        "error"
       ]
      },
      {
       "output_type": "stream",
       "stream": "stdout",
       "text": [
        "\n",
        "Scorpions Wind Of Change\n",
        "52.3723"
       ]
      },
      {
       "output_type": "stream",
       "stream": "stdout",
       "text": [
        " 9.73815\n",
        "Rhythm Syndicate"
       ]
      },
      {
       "output_type": "stream",
       "stream": "stdout",
       "text": [
        " P.A.S.S.I.O.N.\n",
        "41.5047"
       ]
      },
      {
       "output_type": "stream",
       "stream": "stdout",
       "text": [
        " -81.6907\n",
        "Paula Abdul"
       ]
      },
      {
       "output_type": "stream",
       "stream": "stdout",
       "text": [
        " The Promise Of A New Day\n",
        "34.286689"
       ]
      },
      {
       "output_type": "stream",
       "stream": "stdout",
       "text": [
        " -118.435078\n",
        "Whitney Houston"
       ]
      },
      {
       "output_type": "stream",
       "stream": "stdout",
       "text": [
        " I'm Your Baby Tonight\n",
        "40.736101"
       ]
      },
      {
       "output_type": "stream",
       "stream": "stdout",
       "text": [
        " -74.22509\n",
        "Firehouse"
       ]
      },
      {
       "output_type": "stream",
       "stream": "stdout",
       "text": [
        " Love Of A Lifetime\n",
        "35.26002"
       ]
      },
      {
       "output_type": "stream",
       "stream": "stdout",
       "text": [
        " -80.804151\n",
        "Roxette"
       ]
      },
      {
       "output_type": "stream",
       "stream": "stdout",
       "text": [
        " Fading Like A Flower (Every Time You Leave)\n",
        "56.6722"
       ]
      },
      {
       "output_type": "stream",
       "stream": "stdout",
       "text": [
        " 12.8575\n",
        "Tracie Spencer"
       ]
      },
      {
       "output_type": "stream",
       "stream": "stdout",
       "text": [
        " This House\n",
        "42.4931"
       ]
      },
      {
       "output_type": "stream",
       "stream": "stdout",
       "text": [
        " -92.3421\n",
        "Extreme"
       ]
      },
      {
       "output_type": "stream",
       "stream": "stdout",
       "text": [
        " Hole Hearted\n",
        "42.436545"
       ]
      },
      {
       "output_type": "stream",
       "stream": "stdout",
       "text": [
        " -71.085396\n",
        "Luther Vandross"
       ]
      },
      {
       "output_type": "stream",
       "stream": "stdout",
       "text": [
        " Power Of Love (Love Power)\n",
        "40.714269"
       ]
      },
      {
       "output_type": "stream",
       "stream": "stdout",
       "text": [
        " -74.005973\n",
        "Wilson Phillips"
       ]
      },
      {
       "output_type": "stream",
       "stream": "stdout",
       "text": [
        " Impulsive\n",
        "34.0535"
       ]
      },
      {
       "output_type": "stream",
       "stream": "stdout",
       "text": [
        " -118.245\n",
        "Michael Bolton"
       ]
      },
      {
       "output_type": "stream",
       "stream": "stdout",
       "text": [
        " Love Is A Wonderful Thing\n",
        "41.3071"
       ]
      },
      {
       "output_type": "stream",
       "stream": "stdout",
       "text": [
        " -72.925\n",
        "Rod Stewart"
       ]
      },
      {
       "output_type": "stream",
       "stream": "stdout",
       "text": [
        " Rhythm Of My Heart\n",
        "51.5072648"
       ]
      },
      {
       "output_type": "stream",
       "stream": "stdout",
       "text": [
        " -0.1278328\n",
        "C+C Music Factory"
       ]
      },
      {
       "output_type": "stream",
       "stream": "stdout",
       "text": [
        " Things That Make You Go Hmmmm...\n",
        "40.7146"
       ]
      },
      {
       "output_type": "stream",
       "stream": "stdout",
       "text": [
        " -74.0071\n",
        "Divinyls"
       ]
      },
      {
       "output_type": "stream",
       "stream": "stdout",
       "text": [
        " I Touch Myself\n",
        "-33.8696"
       ]
      },
      {
       "output_type": "stream",
       "stream": "stdout",
       "text": [
        " 151.207\n",
        "DMA"
       ]
      },
      {
       "output_type": "stream",
       "stream": "stdout",
       "text": [
        " Tom's Diner\n",
        "error"
       ]
      },
      {
       "output_type": "stream",
       "stream": "stdout",
       "text": [
        "\n",
        "Another Bad Creation Iesha\n",
        "33.7483"
       ]
      },
      {
       "output_type": "stream",
       "stream": "stdout",
       "text": [
        " -84.3911\n",
        "Bonnie Raitt"
       ]
      },
      {
       "output_type": "stream",
       "stream": "stdout",
       "text": [
        " Something To Talk About\n",
        "33.973951"
       ]
      },
      {
       "output_type": "stream",
       "stream": "stdout",
       "text": [
        " -118.248405\n",
        "Nelson"
       ]
      },
      {
       "output_type": "stream",
       "stream": "stdout",
       "text": [
        " After The Rain\n",
        "34.0116"
       ]
      },
      {
       "output_type": "stream",
       "stream": "stdout",
       "text": [
        " -118.492\n",
        "Vanilla Ice"
       ]
      },
      {
       "output_type": "stream",
       "stream": "stdout",
       "text": [
        " Play That Funky Music\n",
        "32.781179"
       ]
      },
      {
       "output_type": "stream",
       "stream": "stdout",
       "text": [
        " -96.790329\n",
        "Corina"
       ]
      },
      {
       "output_type": "stream",
       "stream": "stdout",
       "text": [
        " Temptation\n",
        "40.7909"
       ]
      },
      {
       "output_type": "stream",
       "stream": "stdout",
       "text": [
        " -73.9664\n",
        "Bryan Adams"
       ]
      },
      {
       "output_type": "stream",
       "stream": "stdout",
       "text": [
        " Can't Stop This Thing We Started\n",
        "44.233333"
       ]
      },
      {
       "output_type": "stream",
       "stream": "stdout",
       "text": [
        " -76.483333\n",
        "Hi-Five"
       ]
      },
      {
       "output_type": "stream",
       "stream": "stdout",
       "text": [
        " I Can't Wait Another Minute\n",
        "31.5718"
       ]
      },
      {
       "output_type": "stream",
       "stream": "stdout",
       "text": [
        " -97.1495\n",
        "KLF"
       ]
      },
      {
       "output_type": "stream",
       "stream": "stdout",
       "text": [
        " 3 A.M. Eternal\n",
        "51.5063"
       ]
      },
      {
       "output_type": "stream",
       "stream": "stdout",
       "text": [
        " -0.12714\n",
        "Michael Bolton"
       ]
      },
      {
       "output_type": "stream",
       "stream": "stdout",
       "text": [
        " Time, Love And Tenderness\n",
        "41.3071"
       ]
      },
      {
       "output_type": "stream",
       "stream": "stdout",
       "text": [
        " -72.925\n",
        "Enigrna"
       ]
      },
      {
       "output_type": "stream",
       "stream": "stdout",
       "text": [
        " Saideness Part I\n",
        "error"
       ]
      },
      {
       "output_type": "stream",
       "stream": "stdout",
       "text": [
        "\n",
        "LL Cool J Around The Way Girl\n",
        "40.7202"
       ]
      },
      {
       "output_type": "stream",
       "stream": "stdout",
       "text": [
        " -73.2492\n",
        "Escape Club"
       ]
      },
      {
       "output_type": "stream",
       "stream": "stdout",
       "text": [
        " I'll Be There\n",
        "-32.831"
       ]
      },
      {
       "output_type": "stream",
       "stream": "stdout",
       "text": [
        " 147.319\n",
        "Prince And The N.P.G."
       ]
      },
      {
       "output_type": "stream",
       "stream": "stdout",
       "text": [
        " Cream\n",
        "error"
       ]
      },
      {
       "output_type": "stream",
       "stream": "stdout",
       "text": [
        "\n",
        "Heavy D. and The Boyz Now That We Found Love\n",
        "error"
       ]
      },
      {
       "output_type": "stream",
       "stream": "stdout",
       "text": [
        "\n",
        "Styx Show Me The Way\n",
        "41.8842"
       ]
      },
      {
       "output_type": "stream",
       "stream": "stdout",
       "text": [
        " -87.6324\n",
        "Mariah Carey"
       ]
      },
      {
       "output_type": "stream",
       "stream": "stdout",
       "text": [
        " Love Takes Time\n",
        "40.714269"
       ]
      },
      {
       "output_type": "stream",
       "stream": "stdout",
       "text": [
        " -74.005973\n",
        "Rick Astley"
       ]
      },
      {
       "output_type": "stream",
       "stream": "stdout",
       "text": [
        " Cry For Help\n",
        "53.4564"
       ]
      },
      {
       "output_type": "stream",
       "stream": "stdout",
       "text": [
        " -2.63265\n",
        "UB40"
       ]
      },
      {
       "output_type": "stream",
       "stream": "stdout",
       "text": [
        " The Way You Do The Things You Do\n",
        "52.4813678"
       ]
      },
      {
       "output_type": "stream",
       "stream": "stdout",
       "text": [
        " -1.8980725\n",
        "UB40"
       ]
      },
      {
       "output_type": "stream",
       "stream": "stdout",
       "text": [
        " Here I Am (Come And Take Me)\n",
        "52.4813678"
       ]
      },
      {
       "output_type": "stream",
       "stream": "stdout",
       "text": [
        " -1.8980725\n",
        "Tesla"
       ]
      },
      {
       "output_type": "stream",
       "stream": "stdout",
       "text": [
        " Signs\n",
        "38.5791"
       ]
      },
      {
       "output_type": "stream",
       "stream": "stdout",
       "text": [
        " -121.491\n",
        "Cathy Dennis"
       ]
      },
      {
       "output_type": "stream",
       "stream": "stdout",
       "text": [
        " Too Many Walls\n",
        "52.6225"
       ]
      },
      {
       "output_type": "stream",
       "stream": "stdout",
       "text": [
        " 1.2949\n",
        "Seal"
       ]
      },
      {
       "output_type": "stream",
       "stream": "stdout",
       "text": [
        " Crazy\n",
        "51.5072648"
       ]
      },
      {
       "output_type": "stream",
       "stream": "stdout",
       "text": [
        " -0.1278328\n",
        "Keith Sweat"
       ]
      },
      {
       "output_type": "stream",
       "stream": "stdout",
       "text": [
        " I'll Give All My Love To You\n",
        "40.8077778"
       ]
      },
      {
       "output_type": "stream",
       "stream": "stdout",
       "text": [
        " -73.9458333\n",
        "Michael W. Smith"
       ]
      },
      {
       "output_type": "stream",
       "stream": "stdout",
       "text": [
        " Place In This World\n",
        "36.1678"
       ]
      },
      {
       "output_type": "stream",
       "stream": "stdout",
       "text": [
        " -86.7784\n",
        "Poison"
       ]
      },
      {
       "output_type": "stream",
       "stream": "stdout",
       "text": [
        " Something To Believe In\n",
        "40.247992"
       ]
      },
      {
       "output_type": "stream",
       "stream": "stdout",
       "text": [
        " -77.026578\n",
        "Chris Issak"
       ]
      },
      {
       "output_type": "stream",
       "stream": "stdout",
       "text": [
        " Wicked Game\n",
        "error"
       ]
      },
      {
       "output_type": "stream",
       "stream": "stdout",
       "text": [
        "\n",
        "Oleta Adams Get Here\n",
        "34.0535"
       ]
      },
      {
       "output_type": "stream",
       "stream": "stdout",
       "text": [
        " -118.245\n",
        "Tevin Campbell"
       ]
      },
      {
       "output_type": "stream",
       "stream": "stdout",
       "text": [
        " Round And Round\n",
        "32.3861"
       ]
      },
      {
       "output_type": "stream",
       "stream": "stdout",
       "text": [
        " -96.8484\n",
        "Queensryche"
       ]
      },
      {
       "output_type": "stream",
       "stream": "stdout",
       "text": [
        " Silent Lucidity\n",
        "47.61"
       ]
      },
      {
       "output_type": "stream",
       "stream": "stdout",
       "text": [
        " -122.188\n",
        "Will To Power"
       ]
      },
      {
       "output_type": "stream",
       "stream": "stdout",
       "text": [
        " I'm Not In Love\n",
        "25.729"
       ]
      },
      {
       "output_type": "stream",
       "stream": "stdout",
       "text": [
        " -80.2374\n",
        "Tara Kemp"
       ]
      },
      {
       "output_type": "stream",
       "stream": "stdout",
       "text": [
        " Piece Of My Heart\n",
        "37.7796"
       ]
      },
      {
       "output_type": "stream",
       "stream": "stdout",
       "text": [
        " -122.42\n",
        "Jesus Jones"
       ]
      },
      {
       "output_type": "stream",
       "stream": "stdout",
       "text": [
        " Real Real Real\n",
        "51.25"
       ]
      },
      {
       "output_type": "stream",
       "stream": "stdout",
       "text": [
        " -1.916667\n",
        "Cathy Dennis"
       ]
      },
      {
       "output_type": "stream",
       "stream": "stdout",
       "text": [
        " Just Another Dream\n",
        "52.6225"
       ]
      },
      {
       "output_type": "stream",
       "stream": "stdout",
       "text": [
        " 1.2949\n",
        "Aaron Neville"
       ]
      },
      {
       "output_type": "stream",
       "stream": "stdout",
       "text": [
        " Everybody Plays The Fool\n",
        "29.9537"
       ]
      },
      {
       "output_type": "stream",
       "stream": "stdout",
       "text": [
        " -90.0777\n",
        "Black Box"
       ]
      },
      {
       "output_type": "stream",
       "stream": "stdout",
       "text": [
        " Strike It Up\n",
        "42.5038"
       ]
      },
      {
       "output_type": "stream",
       "stream": "stdout",
       "text": [
        " 12.5735\n",
        "Gerardo"
       ]
      },
      {
       "output_type": "stream",
       "stream": "stdout",
       "text": [
        " Rico Suave\n",
        "-2.20382"
       ]
      },
      {
       "output_type": "stream",
       "stream": "stdout",
       "text": [
        " -79.8975\n",
        "INXS"
       ]
      },
      {
       "output_type": "stream",
       "stream": "stdout",
       "text": [
        " Disappear\n",
        "-33.8696"
       ]
      },
      {
       "output_type": "stream",
       "stream": "stdout",
       "text": [
        " 151.207\n",
        "Deee-Lite"
       ]
      },
      {
       "output_type": "stream",
       "stream": "stdout",
       "text": [
        " Groove Is In The Heart\n",
        "40.694481"
       ]
      },
      {
       "output_type": "stream",
       "stream": "stdout",
       "text": [
        " -73.989319\n",
        "Sting"
       ]
      },
      {
       "output_type": "stream",
       "stream": "stdout",
       "text": [
        " All This Time\n",
        "54.9911912"
       ]
      },
      {
       "output_type": "stream",
       "stream": "stdout",
       "text": [
        " -1.5342042\n",
        "Chesney Hawkes"
       ]
      },
      {
       "output_type": "stream",
       "stream": "stdout",
       "text": [
        " The One And Only\n",
        "54.5853"
       ]
      },
      {
       "output_type": "stream",
       "stream": "stdout",
       "text": [
        " -5.9413\n",
        "Naughty By Nature"
       ]
      },
      {
       "output_type": "stream",
       "stream": "stdout",
       "text": [
        " O.P.P.\n",
        "40.77185"
       ]
      },
      {
       "output_type": "stream",
       "stream": "stdout",
       "text": [
        " -74.207039\n",
        "George Michael"
       ]
      },
      {
       "output_type": "stream",
       "stream": "stdout",
       "text": [
        " Freedom 90\n",
        "51.589"
       ]
      },
      {
       "output_type": "stream",
       "stream": "stdout",
       "text": [
        " -0.164\n",
        "Warrant"
       ]
      },
      {
       "output_type": "stream",
       "stream": "stdout",
       "text": [
        " I Saw Red\n",
        "34.098343"
       ]
      },
      {
       "output_type": "stream",
       "stream": "stdout",
       "text": [
        " -118.326743\n",
        "Winger"
       ]
      },
      {
       "output_type": "stream",
       "stream": "stdout",
       "text": [
        " Miles Away\n",
        "40.7146"
       ]
      },
      {
       "output_type": "stream",
       "stream": "stdout",
       "text": [
        " -74.0071\n",
        "Salt-N-Pepa"
       ]
      },
      {
       "output_type": "stream",
       "stream": "stdout",
       "text": [
        " Do You Want Me\n",
        "40.714269"
       ]
      },
      {
       "output_type": "stream",
       "stream": "stdout",
       "text": [
        " -74.005973\n",
        "Rod Stewart"
       ]
      },
      {
       "output_type": "stream",
       "stream": "stdout",
       "text": [
        " The Motown Song\n",
        "51.5072648"
       ]
      },
      {
       "output_type": "stream",
       "stream": "stdout",
       "text": [
        " -0.1278328\n",
        "R.E.M."
       ]
      },
      {
       "output_type": "stream",
       "stream": "stdout",
       "text": [
        " Shiny Happy People\n",
        "33.992902"
       ]
      },
      {
       "output_type": "stream",
       "stream": "stdout",
       "text": [
        " -83.353697\n",
        "Boyz II Men"
       ]
      },
      {
       "output_type": "stream",
       "stream": "stdout",
       "text": [
        " End Of The Road\n",
        "39.9523"
       ]
      },
      {
       "output_type": "stream",
       "stream": "stdout",
       "text": [
        " -75.1624\n",
        "Sir Mix-a-Lot"
       ]
      },
      {
       "output_type": "stream",
       "stream": "stdout",
       "text": [
        " Baby Got Back\n",
        "47.6036"
       ]
      },
      {
       "output_type": "stream",
       "stream": "stdout",
       "text": [
        " -122.329\n",
        "Kris Kross"
       ]
      },
      {
       "output_type": "stream",
       "stream": "stdout",
       "text": [
        " Jump\n",
        "33.7483"
       ]
      },
      {
       "output_type": "stream",
       "stream": "stdout",
       "text": [
        " -84.3911\n",
        "Vanessa Williams"
       ]
      },
      {
       "output_type": "stream",
       "stream": "stdout",
       "text": [
        " Save The Best For Last\n",
        "41.0801"
       ]
      },
      {
       "output_type": "stream",
       "stream": "stdout",
       "text": [
        " -73.8587\n",
        "TLC"
       ]
      },
      {
       "output_type": "stream",
       "stream": "stdout",
       "text": [
        " Baby-Baby-Baby\n",
        "33.844371"
       ]
      },
      {
       "output_type": "stream",
       "stream": "stdout",
       "text": [
        " -84.47405\n",
        "Eric Clapton"
       ]
      },
      {
       "output_type": "stream",
       "stream": "stdout",
       "text": [
        " Tears In Heaven\n",
        "53.0468"
       ]
      },
      {
       "output_type": "stream",
       "stream": "stdout",
       "text": [
        " -1.40752\n",
        "En Vogue"
       ]
      },
      {
       "output_type": "stream",
       "stream": "stdout",
       "text": [
        " My Lovin' (You're Never Gonna Get It)\n",
        "37.8051"
       ]
      },
      {
       "output_type": "stream",
       "stream": "stdout",
       "text": [
        " -122.273\n",
        "Red Hot Chili Peppers"
       ]
      },
      {
       "output_type": "stream",
       "stream": "stdout",
       "text": [
        " Under The Bridge\n",
        "33.973951"
       ]
      },
      {
       "output_type": "stream",
       "stream": "stdout",
       "text": [
        " -118.248405\n",
        "Color Me Badd"
       ]
      },
      {
       "output_type": "stream",
       "stream": "stdout",
       "text": [
        " All 4 Love\n",
        "35.472"
       ]
      },
      {
       "output_type": "stream",
       "stream": "stdout",
       "text": [
        " -97.5203\n",
        "Jon Secada"
       ]
      },
      {
       "output_type": "stream",
       "stream": "stdout",
       "text": [
        " Just Another Day\n",
        "25.753132"
       ]
      },
      {
       "output_type": "stream",
       "stream": "stdout",
       "text": [
        " -80.234427\n",
        "Shanice"
       ]
      },
      {
       "output_type": "stream",
       "stream": "stdout",
       "text": [
        " I Love Your Smile\n",
        "40.47441"
       ]
      },
      {
       "output_type": "stream",
       "stream": "stdout",
       "text": [
        " -79.950968\n",
        "Mr. Big"
       ]
      },
      {
       "output_type": "stream",
       "stream": "stdout",
       "text": [
        " To Be With You\n",
        "37.1679"
       ]
      },
      {
       "output_type": "stream",
       "stream": "stdout",
       "text": [
        " -95.845\n",
        "Right Said Fred"
       ]
      },
      {
       "output_type": "stream",
       "stream": "stdout",
       "text": [
        " I'm Too Sexy\n",
        "52.8836"
       ]
      },
      {
       "output_type": "stream",
       "stream": "stdout",
       "text": [
        " -1.97406\n",
        "Michael Jackson"
       ]
      },
      {
       "output_type": "stream",
       "stream": "stdout",
       "text": [
        " Black Or White\n",
        "41.590686"
       ]
      },
      {
       "output_type": "stream",
       "stream": "stdout",
       "text": [
        " -87.319937\n",
        "Billy Ray Cyrus"
       ]
      },
      {
       "output_type": "stream",
       "stream": "stdout",
       "text": [
        " Achy Breaky Heart\n",
        "38.50316"
       ]
      },
      {
       "output_type": "stream",
       "stream": "stdout",
       "text": [
        " -82.728176\n",
        "Mariah Carey"
       ]
      },
      {
       "output_type": "stream",
       "stream": "stdout",
       "text": [
        " I'll Be There\n",
        "40.714269"
       ]
      },
      {
       "output_type": "stream",
       "stream": "stdout",
       "text": [
        " -74.005973\n",
        "Guns N' Roses"
       ]
      },
      {
       "output_type": "stream",
       "stream": "stdout",
       "text": [
        " November Rain\n",
        "33.973951"
       ]
      },
      {
       "output_type": "stream",
       "stream": "stdout",
       "text": [
        " -118.248405\n",
        "Tom Cochrane"
       ]
      },
      {
       "output_type": "stream",
       "stream": "stdout",
       "text": [
        " Life Is A Highway\n",
        "56.8515"
       ]
      },
      {
       "output_type": "stream",
       "stream": "stdout",
       "text": [
        " -101.049\n",
        "Michael Jackson"
       ]
      },
      {
       "output_type": "stream",
       "stream": "stdout",
       "text": [
        " Remember The Time\n",
        "41.590686"
       ]
      },
      {
       "output_type": "stream",
       "stream": "stdout",
       "text": [
        " -87.319937\n",
        "CeCe Peniston"
       ]
      },
      {
       "output_type": "stream",
       "stream": "stdout",
       "text": [
        " Finally\n",
        "33.4483"
       ]
      },
      {
       "output_type": "stream",
       "stream": "stdout",
       "text": [
        " -112.076\n",
        "Madonna"
       ]
      },
      {
       "output_type": "stream",
       "stream": "stdout",
       "text": [
        " This Used To Be My Playground\n",
        "40.702898"
       ]
      },
      {
       "output_type": "stream",
       "stream": "stdout",
       "text": [
        " -74.010241\n",
        "Patty Smyth and Don Henley"
       ]
      },
      {
       "output_type": "stream",
       "stream": "stdout",
       "text": [
        " Sometimes Love Just Ain't Enough\n",
        "error"
       ]
      },
      {
       "output_type": "stream",
       "stream": "stdout",
       "text": [
        "\n",
        "Mariah Carey Can't Let Go\n",
        "40.714269"
       ]
      },
      {
       "output_type": "stream",
       "stream": "stdout",
       "text": [
        " -74.005973\n",
        "House Of Pain"
       ]
      },
      {
       "output_type": "stream",
       "stream": "stdout",
       "text": [
        " Jump Around\n",
        "33.973951"
       ]
      },
      {
       "output_type": "stream",
       "stream": "stdout",
       "text": [
        " -118.248405\n",
        "Prince and The N.P.G."
       ]
      },
      {
       "output_type": "stream",
       "stream": "stdout",
       "text": [
        " Diamonds And Pearls\n",
        "error"
       ]
      },
      {
       "output_type": "stream",
       "stream": "stdout",
       "text": [
        "\n",
        "George Michael and Elton John Don't Let The Sun Go Down On Me\n",
        "error"
       ]
      },
      {
       "output_type": "stream",
       "stream": "stdout",
       "text": [
        "\n",
        "Atlantic Starr Masterpiece\n",
        "41.0335"
       ]
      },
      {
       "output_type": "stream",
       "stream": "stdout",
       "text": [
        " -73.7642\n",
        "Celine Dion"
       ]
      },
      {
       "output_type": "stream",
       "stream": "stdout",
       "text": [
        " If You Asked Me To\n",
        "45.7215"
       ]
      },
      {
       "output_type": "stream",
       "stream": "stdout",
       "text": [
        " -73.4867\n",
        "En Vogue"
       ]
      },
      {
       "output_type": "stream",
       "stream": "stdout",
       "text": [
        " Giving Him Something He Can Feel\n",
        "37.8051"
       ]
      },
      {
       "output_type": "stream",
       "stream": "stdout",
       "text": [
        " -122.273\n",
        "Joe Public"
       ]
      },
      {
       "output_type": "stream",
       "stream": "stdout",
       "text": [
        " Live And Learn\n",
        "42.8854"
       ]
      },
      {
       "output_type": "stream",
       "stream": "stdout",
       "text": [
        " -78.8785\n",
        "Jodeci"
       ]
      },
      {
       "output_type": "stream",
       "stream": "stdout",
       "text": [
        " Come and Talk To Me\n",
        "35.26002"
       ]
      },
      {
       "output_type": "stream",
       "stream": "stdout",
       "text": [
        " -80.804151\n",
        "Nirvana"
       ]
      },
      {
       "output_type": "stream",
       "stream": "stdout",
       "text": [
        " Smells Like Teen Spirit\n",
        "46.97537"
       ]
      },
      {
       "output_type": "stream",
       "stream": "stdout",
       "text": [
        " -123.81572\n",
        "Bobby Brown"
       ]
      },
      {
       "output_type": "stream",
       "stream": "stdout",
       "text": [
        " Humpin' Around\n",
        "42.3302"
       ]
      },
      {
       "output_type": "stream",
       "stream": "stdout",
       "text": [
        " -71.0914\n",
        "Sophie B. Hawkins"
       ]
      },
      {
       "output_type": "stream",
       "stream": "stdout",
       "text": [
        " Damn I Wish I Was Your Lover\n",
        "40.7146"
       ]
      },
      {
       "output_type": "stream",
       "stream": "stdout",
       "text": [
        " -74.0071\n",
        "Teven Campbell"
       ]
      },
      {
       "output_type": "stream",
       "stream": "stdout",
       "text": [
        " Tell Me What You Want Me To Do\n",
        "error"
       ]
      },
      {
       "output_type": "stream",
       "stream": "stdout",
       "text": [
        "\n",
        "TLC Ain't 2 Proud 2 Beg\n",
        "33.844371"
       ]
      },
      {
       "output_type": "stream",
       "stream": "stdout",
       "text": [
        " -84.47405\n",
        "Boyz II Men"
       ]
      },
      {
       "output_type": "stream",
       "stream": "stdout",
       "text": [
        " It's So Hard To Say Goodbye To Yesterday\n",
        "39.9523"
       ]
      },
      {
       "output_type": "stream",
       "stream": "stdout",
       "text": [
        " -75.1624\n",
        "Technotronic"
       ]
      },
      {
       "output_type": "stream",
       "stream": "stdout",
       "text": [
        " Move This\n",
        "50.933333"
       ]
      },
      {
       "output_type": "stream",
       "stream": "stdout",
       "text": [
        " 4.033333\n",
        "Queen"
       ]
      },
      {
       "output_type": "stream",
       "stream": "stdout",
       "text": [
        " Bohemian Rhapsody\n",
        "51.5072648"
       ]
      },
      {
       "output_type": "stream",
       "stream": "stdout",
       "text": [
        " -0.1278328\n",
        "Arrested Development"
       ]
      },
      {
       "output_type": "stream",
       "stream": "stdout",
       "text": [
        " Tennessee\n",
        "33.7483"
       ]
      },
      {
       "output_type": "stream",
       "stream": "stdout",
       "text": [
        " -84.3911\n",
        "Luther Vandross and Janet Jackson"
       ]
      },
      {
       "output_type": "stream",
       "stream": "stdout",
       "text": [
        " The Best Things In Life Are Free\n",
        "error"
       ]
      },
      {
       "output_type": "stream",
       "stream": "stdout",
       "text": [
        "\n",
        "Mariah Carey Make It Happen\n",
        "40.714269"
       ]
      },
      {
       "output_type": "stream",
       "stream": "stdout",
       "text": [
        " -74.005973\n",
        "Elton John"
       ]
      },
      {
       "output_type": "stream",
       "stream": "stdout",
       "text": [
        " The One\n",
        "51.5968712"
       ]
      },
      {
       "output_type": "stream",
       "stream": "stdout",
       "text": [
        " -0.3770142\n",
        "P.M. Dawn"
       ]
      },
      {
       "output_type": "stream",
       "stream": "stdout",
       "text": [
        " Set Adrift On Memory Bliss\n",
        "40.7305"
       ]
      },
      {
       "output_type": "stream",
       "stream": "stdout",
       "text": [
        " -73.927\n",
        "Shakespear's Sister"
       ]
      },
      {
       "output_type": "stream",
       "stream": "stdout",
       "text": [
        " Stay\n",
        "51.5072648"
       ]
      },
      {
       "output_type": "stream",
       "stream": "stdout",
       "text": [
        " -0.1278328\n",
        "Hammer"
       ]
      },
      {
       "output_type": "stream",
       "stream": "stdout",
       "text": [
        " 2 Legit 2 Quit\n",
        "error"
       ]
      },
      {
       "output_type": "stream",
       "stream": "stdout",
       "text": [
        "\n",
        "K.W.S. Please Don't Go\n",
        "error"
       ]
      },
      {
       "output_type": "stream",
       "stream": "stdout",
       "text": [
        "\n",
        "Mint Condition Breakin' My Heart (Pretty Brown Eyes)\n",
        "46.86163"
       ]
      },
      {
       "output_type": "stream",
       "stream": "stdout",
       "text": [
        " -92.612252\n",
        "Cover Girls"
       ]
      },
      {
       "output_type": "stream",
       "stream": "stdout",
       "text": [
        " Wishing On A Star\n",
        "40.7146"
       ]
      },
      {
       "output_type": "stream",
       "stream": "stdout",
       "text": [
        " -74.0071\n",
        "Hi-Five"
       ]
      },
      {
       "output_type": "stream",
       "stream": "stdout",
       "text": [
        " She's Playing Hard To Get\n",
        "31.5718"
       ]
      },
      {
       "output_type": "stream",
       "stream": "stdout",
       "text": [
        " -97.1495\n",
        "P.M. Dawn"
       ]
      },
      {
       "output_type": "stream",
       "stream": "stdout",
       "text": [
        " I'd Die Without You\n",
        "40.7305"
       ]
      },
      {
       "output_type": "stream",
       "stream": "stdout",
       "text": [
        " -73.927\n",
        "Amy Grant"
       ]
      },
      {
       "output_type": "stream",
       "stream": "stdout",
       "text": [
        " Good For Me\n",
        "36.165688"
       ]
      },
      {
       "output_type": "stream",
       "stream": "stdout",
       "text": [
        " -86.778098\n",
        "Toad The Wet Sprocket"
       ]
      },
      {
       "output_type": "stream",
       "stream": "stdout",
       "text": [
        " All I Want\n",
        "34.421897"
       ]
      },
      {
       "output_type": "stream",
       "stream": "stdout",
       "text": [
        " -119.707135\n",
        "Michael Bolton"
       ]
      },
      {
       "output_type": "stream",
       "stream": "stdout",
       "text": [
        " When A Man Loves A Woman\n",
        "41.3071"
       ]
      },
      {
       "output_type": "stream",
       "stream": "stdout",
       "text": [
        " -72.925\n",
        "Genesis"
       ]
      },
      {
       "output_type": "stream",
       "stream": "stdout",
       "text": [
        " I Can't Dance\n",
        "51.1857892"
       ]
      },
      {
       "output_type": "stream",
       "stream": "stdout",
       "text": [
        " -0.6149074\n",
        "Richard Marx"
       ]
      },
      {
       "output_type": "stream",
       "stream": "stdout",
       "text": [
        " Hazard\n",
        "41.8842"
       ]
      },
      {
       "output_type": "stream",
       "stream": "stdout",
       "text": [
        " -87.6324\n",
        "U2"
       ]
      },
      {
       "output_type": "stream",
       "stream": "stdout",
       "text": [
        " Mysterious Ways\n",
        "53.3330556"
       ]
      },
      {
       "output_type": "stream",
       "stream": "stdout",
       "text": [
        " -6.2488889\n",
        "George Michael"
       ]
      },
      {
       "output_type": "stream",
       "stream": "stdout",
       "text": [
        " Too Funky\n",
        "51.589"
       ]
      },
      {
       "output_type": "stream",
       "stream": "stdout",
       "text": [
        " -0.164\n",
        "Heights"
       ]
      },
      {
       "output_type": "stream",
       "stream": "stdout",
       "text": [
        " How Do You Talk To An Angel\n",
        "39.2269"
       ]
      },
      {
       "output_type": "stream",
       "stream": "stdout",
       "text": [
        " -123.769\n",
        "U2"
       ]
      },
      {
       "output_type": "stream",
       "stream": "stdout",
       "text": [
        " One\n",
        "53.3330556"
       ]
      },
      {
       "output_type": "stream",
       "stream": "stdout",
       "text": [
        " -6.2488889\n",
        "CeCe Peniston"
       ]
      },
      {
       "output_type": "stream",
       "stream": "stdout",
       "text": [
        " Keep On Walkin'\n",
        "33.4483"
       ]
      },
      {
       "output_type": "stream",
       "stream": "stdout",
       "text": [
        " -112.076\n",
        "Genesis"
       ]
      },
      {
       "output_type": "stream",
       "stream": "stdout",
       "text": [
        " Hold On My Heart\n",
        "51.1857892"
       ]
      },
      {
       "output_type": "stream",
       "stream": "stdout",
       "text": [
        " -0.6149074\n",
        "Karyn White"
       ]
      },
      {
       "output_type": "stream",
       "stream": "stdout",
       "text": [
        " The Way I Feel About You\n",
        "29.4535"
       ]
      },
      {
       "output_type": "stream",
       "stream": "stdout",
       "text": [
        " -82.1062\n",
        "Calms Dion And Peabo Bryson"
       ]
      },
      {
       "output_type": "stream",
       "stream": "stdout",
       "text": [
        " Beauty And The Beast\n",
        "error"
       ]
      },
      {
       "output_type": "stream",
       "stream": "stdout",
       "text": [
        "\n",
        "Kris Kross Warm It Up\n",
        "33.7483"
       ]
      },
      {
       "output_type": "stream",
       "stream": "stdout",
       "text": [
        " -84.3911\n",
        "Michael Jackson"
       ]
      },
      {
       "output_type": "stream",
       "stream": "stdout",
       "text": [
        " In The Closet\n",
        "41.590686"
       ]
      },
      {
       "output_type": "stream",
       "stream": "stdout",
       "text": [
        " -87.319937\n",
        "Arrested Development"
       ]
      },
      {
       "output_type": "stream",
       "stream": "stdout",
       "text": [
        " People Everyday\n",
        "33.7483"
       ]
      },
      {
       "output_type": "stream",
       "stream": "stdout",
       "text": [
        " -84.3911\n",
        "Genesis"
       ]
      },
      {
       "output_type": "stream",
       "stream": "stdout",
       "text": [
        " No Son Of Nine\n",
        "error"
       ]
      },
      {
       "output_type": "stream",
       "stream": "stdout",
       "text": [
        "\n",
        "Marky Mark And The Funky Bunch Wildside\n",
        "42.370567"
       ]
      },
      {
       "output_type": "stream",
       "stream": "stdout",
       "text": [
        " -71.026964\n",
        "Bryan Adams"
       ]
      },
      {
       "output_type": "stream",
       "stream": "stdout",
       "text": [
        " Do I Have To Say The Words?\n",
        "44.233333"
       ]
      },
      {
       "output_type": "stream",
       "stream": "stdout",
       "text": [
        " -76.483333\n",
        "Cure"
       ]
      },
      {
       "output_type": "stream",
       "stream": "stdout",
       "text": [
        " Friday I'm In Love\n",
        "51.1166"
       ]
      },
      {
       "output_type": "stream",
       "stream": "stdout",
       "text": [
        " -0.18703\n",
        "Ugly Kid Joe"
       ]
      },
      {
       "output_type": "stream",
       "stream": "stdout",
       "text": [
        " Everything About You\n",
        "34.4122"
       ]
      },
      {
       "output_type": "stream",
       "stream": "stdout",
       "text": [
        " -119.857\n",
        "Paula Abdul"
       ]
      },
      {
       "output_type": "stream",
       "stream": "stdout",
       "text": [
        " Blowing Kisses In The Wind\n",
        "34.286689"
       ]
      },
      {
       "output_type": "stream",
       "stream": "stdout",
       "text": [
        " -118.435078\n",
        "Bryan Adams"
       ]
      },
      {
       "output_type": "stream",
       "stream": "stdout",
       "text": [
        " Thought I'd Died And Gone To Heaven\n",
        "44.233333"
       ]
      },
      {
       "output_type": "stream",
       "stream": "stdout",
       "text": [
        " -76.483333\n",
        "Snap"
       ]
      },
      {
       "output_type": "stream",
       "stream": "stdout",
       "text": [
        " Rhythm Is A Dancer\n",
        "51.1642"
       ]
      },
      {
       "output_type": "stream",
       "stream": "stdout",
       "text": [
        " 10.4542\n",
        "Hammer"
       ]
      },
      {
       "output_type": "stream",
       "stream": "stdout",
       "text": [
        " Addams Groove\n",
        "37.8051"
       ]
      },
      {
       "output_type": "stream",
       "stream": "stdout",
       "text": [
        " -122.273\n",
        "Michael Bolton"
       ]
      },
      {
       "output_type": "stream",
       "stream": "stdout",
       "text": [
        " Missing You Now\n",
        "41.3071"
       ]
      },
      {
       "output_type": "stream",
       "stream": "stdout",
       "text": [
        " -72.925\n",
        "N2Deep"
       ]
      },
      {
       "output_type": "stream",
       "stream": "stdout",
       "text": [
        " Back To The Hotel\n",
        "37.7796"
       ]
      },
      {
       "output_type": "stream",
       "stream": "stdout",
       "text": [
        " -122.42\n",
        "Kathy Troccoli"
       ]
      },
      {
       "output_type": "stream",
       "stream": "stdout",
       "text": [
        " Everything Changes\n",
        "36.1678"
       ]
      },
      {
       "output_type": "stream",
       "stream": "stdout",
       "text": [
        " -86.7784\n",
        "Def Leppard"
       ]
      },
      {
       "output_type": "stream",
       "stream": "stdout",
       "text": [
        " Have You Ever Needed Somone So Bad\n",
        "error"
       ]
      },
      {
       "output_type": "stream",
       "stream": "stdout",
       "text": [
        "\n",
        "Richard Marx Take This Heart\n",
        "41.8842"
       ]
      },
      {
       "output_type": "stream",
       "stream": "stdout",
       "text": [
        " -87.6324\n",
        "Firehouse"
       ]
      },
      {
       "output_type": "stream",
       "stream": "stdout",
       "text": [
        " When I Look Into Your Eyes\n",
        "35.26002"
       ]
      },
      {
       "output_type": "stream",
       "stream": "stdout",
       "text": [
        " -80.804151\n",
        "Jade"
       ]
      },
      {
       "output_type": "stream",
       "stream": "stdout",
       "text": [
        " I Wanna Love You\n",
        "51.5063"
       ]
      },
      {
       "output_type": "stream",
       "stream": "stdout",
       "text": [
        " -0.12714\n",
        "Boyz II Men"
       ]
      },
      {
       "output_type": "stream",
       "stream": "stdout",
       "text": [
        " Uhh Ahh\n",
        "39.9523"
       ]
      },
      {
       "output_type": "stream",
       "stream": "stdout",
       "text": [
        " -75.1624\n",
        "Mary J. Blige"
       ]
      },
      {
       "output_type": "stream",
       "stream": "stdout",
       "text": [
        " Real Love\n",
        "40.946107"
       ]
      },
      {
       "output_type": "stream",
       "stream": "stdout",
       "text": [
        " -73.866926\n",
        "KLF"
       ]
      },
      {
       "output_type": "stream",
       "stream": "stdout",
       "text": [
        " Justified And Ancient\n",
        "51.5063"
       ]
      },
      {
       "output_type": "stream",
       "stream": "stdout",
       "text": [
        " -0.12714\n",
        "Color Me Badd"
       ]
      },
      {
       "output_type": "stream",
       "stream": "stdout",
       "text": [
        " Slow Motion\n",
        "35.472"
       ]
      },
      {
       "output_type": "stream",
       "stream": "stdout",
       "text": [
        " -97.5203\n",
        "TLC"
       ]
      },
      {
       "output_type": "stream",
       "stream": "stdout",
       "text": [
        " What About Your Friends\n",
        "33.844371"
       ]
      },
      {
       "output_type": "stream",
       "stream": "stdout",
       "text": [
        " -84.47405\n",
        "Color Me Badd"
       ]
      },
      {
       "output_type": "stream",
       "stream": "stdout",
       "text": [
        " Thinkin' Back\n",
        "35.472"
       ]
      },
      {
       "output_type": "stream",
       "stream": "stdout",
       "text": [
        " -97.5203\n",
        "Charles and Eddie"
       ]
      },
      {
       "output_type": "stream",
       "stream": "stdout",
       "text": [
        " Would I Lie To You?\n",
        "error"
       ]
      },
      {
       "output_type": "stream",
       "stream": "stdout",
       "text": [
        "\n",
        "Amy Grant That's What Love Is For\n",
        "36.165688"
       ]
      },
      {
       "output_type": "stream",
       "stream": "stdout",
       "text": [
        " -86.778098\n",
        "Richard Marx"
       ]
      },
      {
       "output_type": "stream",
       "stream": "stdout",
       "text": [
        " Keep Coming Back\n",
        "41.8842"
       ]
      },
      {
       "output_type": "stream",
       "stream": "stdout",
       "text": [
        " -87.6324\n",
        "En Vogue"
       ]
      },
      {
       "output_type": "stream",
       "stream": "stdout",
       "text": [
        " Free Your Mind\n",
        "37.8051"
       ]
      },
      {
       "output_type": "stream",
       "stream": "stdout",
       "text": [
        " -122.273\n",
        "Keith Sweat"
       ]
      },
      {
       "output_type": "stream",
       "stream": "stdout",
       "text": [
        " Keep It Comin'\n",
        "40.8077778"
       ]
      },
      {
       "output_type": "stream",
       "stream": "stdout",
       "text": [
        " -73.9458333\n",
        "Mr. Big"
       ]
      },
      {
       "output_type": "stream",
       "stream": "stdout",
       "text": [
        " Just Take My Heart\n",
        "37.1679"
       ]
      },
      {
       "output_type": "stream",
       "stream": "stdout",
       "text": [
        " -95.845\n",
        "Amy Grant"
       ]
      },
      {
       "output_type": "stream",
       "stream": "stdout",
       "text": [
        " I Will Remember You\n",
        "36.165688"
       ]
      },
      {
       "output_type": "stream",
       "stream": "stdout",
       "text": [
        " -86.778098\n",
        "CeCe Peniston"
       ]
      },
      {
       "output_type": "stream",
       "stream": "stdout",
       "text": [
        " We Got A Love Thang\n",
        "33.4483"
       ]
      },
      {
       "output_type": "stream",
       "stream": "stdout",
       "text": [
        " -112.076\n",
        "Def Leppard"
       ]
      },
      {
       "output_type": "stream",
       "stream": "stdout",
       "text": [
        " Let's Get Rocked\n",
        "53.3831"
       ]
      },
      {
       "output_type": "stream",
       "stream": "stdout",
       "text": [
        " -1.46454\n",
        "Das EFX"
       ]
      },
      {
       "output_type": "stream",
       "stream": "stdout",
       "text": [
        " They Want EFX\n",
        "37.2281"
       ]
      },
      {
       "output_type": "stream",
       "stream": "stdout",
       "text": [
        " -77.4035\n",
        "Bonnie Raitt"
       ]
      },
      {
       "output_type": "stream",
       "stream": "stdout",
       "text": [
        " I Can't Make You Love Me\n",
        "33.973951"
       ]
      },
      {
       "output_type": "stream",
       "stream": "stdout",
       "text": [
        " -118.248405\n",
        "Whitney Houston"
       ]
      },
      {
       "output_type": "stream",
       "stream": "stdout",
       "text": [
        " I Will Always Love You\n",
        "40.736101"
       ]
      },
      {
       "output_type": "stream",
       "stream": "stdout",
       "text": [
        " -74.22509\n",
        "Tag Team"
       ]
      },
      {
       "output_type": "stream",
       "stream": "stdout",
       "text": [
        " Whoomp! (There It Is)\n",
        "33.844371"
       ]
      },
      {
       "output_type": "stream",
       "stream": "stdout",
       "text": [
        " -84.47405\n",
        "UB40"
       ]
      },
      {
       "output_type": "stream",
       "stream": "stdout",
       "text": [
        " Can't Help Falling In Love\n",
        "52.4813678"
       ]
      },
      {
       "output_type": "stream",
       "stream": "stdout",
       "text": [
        " -1.8980725\n",
        "Janet Jackson"
       ]
      },
      {
       "output_type": "stream",
       "stream": "stdout",
       "text": [
        " That's The Way Love Goes\n",
        "41.590686"
       ]
      },
      {
       "output_type": "stream",
       "stream": "stdout",
       "text": [
        " -87.319937\n",
        "Silk"
       ]
      },
      {
       "output_type": "stream",
       "stream": "stdout",
       "text": [
        " Freak Me\n",
        "33.844371"
       ]
      },
      {
       "output_type": "stream",
       "stream": "stdout",
       "text": [
        " -84.47405\n",
        "SWV"
       ]
      },
      {
       "output_type": "stream",
       "stream": "stdout",
       "text": [
        " Weak\n",
        "40.714269"
       ]
      },
      {
       "output_type": "stream",
       "stream": "stdout",
       "text": [
        " -74.005973\n",
        "Shai"
       ]
      },
      {
       "output_type": "stream",
       "stream": "stdout",
       "text": [
        " If I Ever Fall In Love\n",
        "38.895112"
       ]
      },
      {
       "output_type": "stream",
       "stream": "stdout",
       "text": [
        " -77.036366\n",
        "Mariah Carey"
       ]
      },
      {
       "output_type": "stream",
       "stream": "stdout",
       "text": [
        " Dreamlover\n",
        "40.714269"
       ]
      },
      {
       "output_type": "stream",
       "stream": "stdout",
       "text": [
        " -74.005973\n",
        "Wreckx-N-Effect"
       ]
      },
      {
       "output_type": "stream",
       "stream": "stdout",
       "text": [
        " Rump Shaker\n",
        "33.5773"
       ]
      },
      {
       "output_type": "stream",
       "stream": "stdout",
       "text": [
        " -112.241\n",
        "Snow"
       ]
      },
      {
       "output_type": "stream",
       "stream": "stdout",
       "text": [
        " Informer\n",
        "48.75"
       ]
      },
      {
       "output_type": "stream",
       "stream": "stdout",
       "text": [
        " -64.583333\n",
        "Dr. Dre"
       ]
      },
      {
       "output_type": "stream",
       "stream": "stdout",
       "text": [
        " Nuthin' But A &quot;G&quot; Thang\n",
        "error"
       ]
      },
      {
       "output_type": "stream",
       "stream": "stdout",
       "text": [
        "\n",
        "Boyz II Men In The Still Of The Nite\n",
        "39.9523"
       ]
      },
      {
       "output_type": "stream",
       "stream": "stdout",
       "text": [
        " -75.1624\n",
        "Jade"
       ]
      },
      {
       "output_type": "stream",
       "stream": "stdout",
       "text": [
        " Don't Walk Away\n",
        "51.5063"
       ]
      },
      {
       "output_type": "stream",
       "stream": "stdout",
       "text": [
        " -0.12714\n",
        "H-Town"
       ]
      },
      {
       "output_type": "stream",
       "stream": "stdout",
       "text": [
        " Knockin' Da Boots\n",
        "29.7605"
       ]
      },
      {
       "output_type": "stream",
       "stream": "stdout",
       "text": [
        " -95.3698\n",
        "Jodeci"
       ]
      },
      {
       "output_type": "stream",
       "stream": "stdout",
       "text": [
        " Lately\n",
        "35.26002"
       ]
      },
      {
       "output_type": "stream",
       "stream": "stdout",
       "text": [
        " -80.804151\n",
        "Duice"
       ]
      },
      {
       "output_type": "stream",
       "stream": "stdout",
       "text": [
        " Dazzey Duks\n",
        "40.7146"
       ]
      },
      {
       "output_type": "stream",
       "stream": "stdout",
       "text": [
        " -74.0071\n",
        "Robin S."
       ]
      },
      {
       "output_type": "stream",
       "stream": "stdout",
       "text": [
        " Show Me Love\n",
        "43.280191"
       ]
      },
      {
       "output_type": "stream",
       "stream": "stdout",
       "text": [
        " -78.210377\n",
        "Peabo Bryson and Regina Belle"
       ]
      },
      {
       "output_type": "stream",
       "stream": "stdout",
       "text": [
        " A Whole New World\n",
        "error"
       ]
      },
      {
       "output_type": "stream",
       "stream": "stdout",
       "text": [
        "\n",
        "Janet Jackson If\n",
        "41.590686"
       ]
      },
      {
       "output_type": "stream",
       "stream": "stdout",
       "text": [
        " -87.319937\n",
        "SWV"
       ]
      },
      {
       "output_type": "stream",
       "stream": "stdout",
       "text": [
        " I'm So Into You\n",
        "40.714269"
       ]
      },
      {
       "output_type": "stream",
       "stream": "stdout",
       "text": [
        " -74.005973\n",
        "Vanessa Willlams and Brian Mcknight"
       ]
      },
      {
       "output_type": "stream",
       "stream": "stdout",
       "text": [
        " Love Is\n",
        "error"
       ]
      },
      {
       "output_type": "stream",
       "stream": "stdout",
       "text": [
        "\n",
        "Soul Asylum Runaway Train\n",
        "44.979"
       ]
      },
      {
       "output_type": "stream",
       "stream": "stdout",
       "text": [
        " -93.2649\n",
        "Expose"
       ]
      },
      {
       "output_type": "stream",
       "stream": "stdout",
       "text": [
        " I'll Never Get Over You (Getting Over Me)\n",
        "25.668203"
       ]
      },
      {
       "output_type": "stream",
       "stream": "stdout",
       "text": [
        " -80.29701\n",
        "Paperboy"
       ]
      },
      {
       "output_type": "stream",
       "stream": "stdout",
       "text": [
        " Ditty\n",
        "34.0535"
       ]
      },
      {
       "output_type": "stream",
       "stream": "stdout",
       "text": [
        " -118.245\n",
        "Snap"
       ]
      },
      {
       "output_type": "stream",
       "stream": "stdout",
       "text": [
        " Rhythm Is A Dancer\n",
        "51.1642"
       ]
      },
      {
       "output_type": "stream",
       "stream": "stdout",
       "text": [
        " 10.4542\n",
        "Billy Joel"
       ]
      },
      {
       "output_type": "stream",
       "stream": "stdout",
       "text": [
        " The River Of Dreams\n",
        "40.8572"
       ]
      },
      {
       "output_type": "stream",
       "stream": "stdout",
       "text": [
        " -73.8568\n",
        "Proclaimers"
       ]
      },
      {
       "output_type": "stream",
       "stream": "stdout",
       "text": [
        " I'm Gonna Be (500 Miles)\n",
        "56.2921993"
       ]
      },
      {
       "output_type": "stream",
       "stream": "stdout",
       "text": [
        " -3.231906\n",
        "Spin Doctors"
       ]
      },
      {
       "output_type": "stream",
       "stream": "stdout",
       "text": [
        " Two Princes\n",
        "40.714269"
       ]
      },
      {
       "output_type": "stream",
       "stream": "stdout",
       "text": [
        " -74.005973\n",
        "SWV"
       ]
      },
      {
       "output_type": "stream",
       "stream": "stdout",
       "text": [
        " Right Here (Human Nature)-Downtown\n",
        "error"
       ]
      },
      {
       "output_type": "stream",
       "stream": "stdout",
       "text": [
        "\n",
        "Whitney Houston I Have Nothing\n",
        "40.736101"
       ]
      },
      {
       "output_type": "stream",
       "stream": "stdout",
       "text": [
        " -74.22509\n",
        "Arrested Development"
       ]
      },
      {
       "output_type": "stream",
       "stream": "stdout",
       "text": [
        " Mr. Wendal\n",
        "33.7483"
       ]
      },
      {
       "output_type": "stream",
       "stream": "stdout",
       "text": [
        " -84.3911\n",
        "Rod Stewart"
       ]
      },
      {
       "output_type": "stream",
       "stream": "stdout",
       "text": [
        " Have I Told You Lately\n",
        "51.5072648"
       ]
      },
      {
       "output_type": "stream",
       "stream": "stdout",
       "text": [
        " -0.1278328\n",
        "Shanice"
       ]
      },
      {
       "output_type": "stream",
       "stream": "stdout",
       "text": [
        " Saving Forever For You\n",
        "40.47441"
       ]
      },
      {
       "output_type": "stream",
       "stream": "stdout",
       "text": [
        " -79.950968\n",
        "Duran Duran"
       ]
      },
      {
       "output_type": "stream",
       "stream": "stdout",
       "text": [
        " Ordinary World\n",
        "52.4813678"
       ]
      },
      {
       "output_type": "stream",
       "stream": "stdout",
       "text": [
        " -1.8980725\n",
        "Tony! Toni! Tone!"
       ]
      },
      {
       "output_type": "stream",
       "stream": "stdout",
       "text": [
        " If I Had No Loot\n",
        "37.786027"
       ]
      },
      {
       "output_type": "stream",
       "stream": "stdout",
       "text": [
        " -122.223779\n",
        "Meat Loaf"
       ]
      },
      {
       "output_type": "stream",
       "stream": "stdout",
       "text": [
        " I'd Do Anything For Love (But I Won't Do That)\n",
        "32.781179"
       ]
      },
      {
       "output_type": "stream",
       "stream": "stdout",
       "text": [
        " -96.790329\n",
        "Onyx"
       ]
      },
      {
       "output_type": "stream",
       "stream": "stdout",
       "text": [
        " Slam\n",
        "40.6775"
       ]
      },
      {
       "output_type": "stream",
       "stream": "stdout",
       "text": [
        " -73.7875\n",
        "P.M. Dawn"
       ]
      },
      {
       "output_type": "stream",
       "stream": "stdout",
       "text": [
        " Looking Through Patient Eyes\n",
        "40.7305"
       ]
      },
      {
       "output_type": "stream",
       "stream": "stdout",
       "text": [
        " -73.927\n",
        "Whitney Houston"
       ]
      },
      {
       "output_type": "stream",
       "stream": "stdout",
       "text": [
        " I'm Every Woman\n",
        "40.736101"
       ]
      },
      {
       "output_type": "stream",
       "stream": "stdout",
       "text": [
        " -74.22509\n",
        "Shai"
       ]
      },
      {
       "output_type": "stream",
       "stream": "stdout",
       "text": [
        " Baby I'm Yours\n",
        "38.895112"
       ]
      },
      {
       "output_type": "stream",
       "stream": "stdout",
       "text": [
        " -77.036366\n",
        "Duran Duran"
       ]
      },
      {
       "output_type": "stream",
       "stream": "stdout",
       "text": [
        " Come Undone\n",
        "52.4813678"
       ]
      },
      {
       "output_type": "stream",
       "stream": "stdout",
       "text": [
        " -1.8980725\n",
        "Tina Turner"
       ]
      },
      {
       "output_type": "stream",
       "stream": "stdout",
       "text": [
        " I Don't Wanna Fight\n",
        "35.610611"
       ]
      },
      {
       "output_type": "stream",
       "stream": "stdout",
       "text": [
        " -89.273232\n",
        "P.M. Dawn"
       ]
      },
      {
       "output_type": "stream",
       "stream": "stdout",
       "text": [
        " I'd Die Without You\n",
        "40.7305"
       ]
      },
      {
       "output_type": "stream",
       "stream": "stdout",
       "text": [
        " -73.927\n",
        "95 South"
       ]
      },
      {
       "output_type": "stream",
       "stream": "stdout",
       "text": [
        " Whoot, There It Is\n",
        "30.3314"
       ]
      },
      {
       "output_type": "stream",
       "stream": "stdout",
       "text": [
        " -81.6558\n",
        "Naughty By Nature"
       ]
      },
      {
       "output_type": "stream",
       "stream": "stdout",
       "text": [
        " Hip Hop Hooray\n",
        "40.77185"
       ]
      },
      {
       "output_type": "stream",
       "stream": "stdout",
       "text": [
        " -74.207039\n",
        "Toni Braxton"
       ]
      },
      {
       "output_type": "stream",
       "stream": "stdout",
       "text": [
        " Another Sad Love Song\n",
        "39.1328"
       ]
      },
      {
       "output_type": "stream",
       "stream": "stdout",
       "text": [
        " -76.69253\n",
        "Michael Jackson"
       ]
      },
      {
       "output_type": "stream",
       "stream": "stdout",
       "text": [
        " Will You Be There\n",
        "41.590686"
       ]
      },
      {
       "output_type": "stream",
       "stream": "stdout",
       "text": [
        " -87.319937\n",
        "Shil"
       ]
      },
      {
       "output_type": "stream",
       "stream": "stdout",
       "text": [
        " Comforter\n",
        "error"
       ]
      },
      {
       "output_type": "stream",
       "stream": "stdout",
       "text": [
        "\n",
        "Bobby Brown Good Enough\n",
        "42.3302"
       ]
      },
      {
       "output_type": "stream",
       "stream": "stdout",
       "text": [
        " -71.0914\n",
        "4 Non Blondes"
       ]
      },
      {
       "output_type": "stream",
       "stream": "stdout",
       "text": [
        " What's Up\n",
        "37.784827"
       ]
      },
      {
       "output_type": "stream",
       "stream": "stdout",
       "text": [
        " -122.727802\n",
        "Ace Of Base"
       ]
      },
      {
       "output_type": "stream",
       "stream": "stdout",
       "text": [
        " All That She Wants\n",
        "57.7166667"
       ]
      },
      {
       "output_type": "stream",
       "stream": "stdout",
       "text": [
        " 11.9666667\n",
        "Prince and The New Power Generation"
       ]
      },
      {
       "output_type": "stream",
       "stream": "stdout",
       "text": [
        " 7\n",
        "error"
       ]
      },
      {
       "output_type": "stream",
       "stream": "stdout",
       "text": [
        "\n",
        "Dr. Dre Dre Day\n",
        "34.0535"
       ]
      },
      {
       "output_type": "stream",
       "stream": "stdout",
       "text": [
        " -118.245\n",
        "Brian McKnight"
       ]
      },
      {
       "output_type": "stream",
       "stream": "stdout",
       "text": [
        " One Last Cry\n",
        "42.8854"
       ]
      },
      {
       "output_type": "stream",
       "stream": "stdout",
       "text": [
        " -78.8785\n",
        "Xscape"
       ]
      },
      {
       "output_type": "stream",
       "stream": "stdout",
       "text": [
        " Just Kickin' It\n",
        "33.7483"
       ]
      },
      {
       "output_type": "stream",
       "stream": "stdout",
       "text": [
        " -84.3911\n",
        "2Pac"
       ]
      },
      {
       "output_type": "stream",
       "stream": "stdout",
       "text": [
        " I Get Around\n",
        "37.868538"
       ]
      },
      {
       "output_type": "stream",
       "stream": "stdout",
       "text": [
        " -122.50914\n",
        "Bon Jovi"
       ]
      },
      {
       "output_type": "stream",
       "stream": "stdout",
       "text": [
        " Bed Of Roses\n",
        "40.430006"
       ]
      },
      {
       "output_type": "stream",
       "stream": "stdout",
       "text": [
        " -74.417344\n",
        "Mary J. Blige"
       ]
      },
      {
       "output_type": "stream",
       "stream": "stdout",
       "text": [
        " Real Love\n",
        "40.946107"
       ]
      },
      {
       "output_type": "stream",
       "stream": "stdout",
       "text": [
        " -73.866926\n",
        "Portrait"
       ]
      },
      {
       "output_type": "stream",
       "stream": "stdout",
       "text": [
        " Here We Go Again!\n",
        "57.7166667"
       ]
      },
      {
       "output_type": "stream",
       "stream": "stdout",
       "text": [
        " 11.9666667\n",
        "Aerosmith"
       ]
      },
      {
       "output_type": "stream",
       "stream": "stdout",
       "text": [
        " Cryin'\n",
        "42.3586"
       ]
      },
      {
       "output_type": "stream",
       "stream": "stdout",
       "text": [
        " -71.0567\n",
        "Ugly Kid Joe"
       ]
      },
      {
       "output_type": "stream",
       "stream": "stdout",
       "text": [
        " Cats In The Cradle\n",
        "34.4122"
       ]
      },
      {
       "output_type": "stream",
       "stream": "stdout",
       "text": [
        " -119.857\n",
        "TLC"
       ]
      },
      {
       "output_type": "stream",
       "stream": "stdout",
       "text": [
        " What About Your Friends\n",
        "33.844371"
       ]
      },
      {
       "output_type": "stream",
       "stream": "stdout",
       "text": [
        " -84.47405\n",
        "Positive K"
       ]
      },
      {
       "output_type": "stream",
       "stream": "stdout",
       "text": [
        " I Got A Man\n",
        "40.8572"
       ]
      },
      {
       "output_type": "stream",
       "stream": "stdout",
       "text": [
        " -73.8568\n",
        "Zhane"
       ]
      },
      {
       "output_type": "stream",
       "stream": "stdout",
       "text": [
        " Hey Mr. D.J.\n",
        "39.9523"
       ]
      },
      {
       "output_type": "stream",
       "stream": "stdout",
       "text": [
        " -75.1624\n",
        "Cypress Hill"
       ]
      },
      {
       "output_type": "stream",
       "stream": "stdout",
       "text": [
        " Insane In The Brain\n",
        "33.937714"
       ]
      },
      {
       "output_type": "stream",
       "stream": "stdout",
       "text": [
        " -118.193403\n",
        "Madonna"
       ]
      },
      {
       "output_type": "stream",
       "stream": "stdout",
       "text": [
        " Deeper And Deeper\n",
        "40.702898"
       ]
      },
      {
       "output_type": "stream",
       "stream": "stdout",
       "text": [
        " -74.010241\n",
        "Madonna"
       ]
      },
      {
       "output_type": "stream",
       "stream": "stdout",
       "text": [
        " Rain\n",
        "40.702898"
       ]
      },
      {
       "output_type": "stream",
       "stream": "stdout",
       "text": [
        " -74.010241\n",
        "Jeremy Jordan"
       ]
      },
      {
       "output_type": "stream",
       "stream": "stdout",
       "text": [
        " The Right Kind Of Love\n",
        "41.8842"
       ]
      },
      {
       "output_type": "stream",
       "stream": "stdout",
       "text": [
        " -87.6324\n",
        "Inner Circle"
       ]
      },
      {
       "output_type": "stream",
       "stream": "stdout",
       "text": [
        " Bad Boys\n",
        "18.1153"
       ]
      },
      {
       "output_type": "stream",
       "stream": "stdout",
       "text": [
        " -77.2735\n",
        "Boy Krazy"
       ]
      },
      {
       "output_type": "stream",
       "stream": "stdout",
       "text": [
        " That's What Love Can Do\n",
        "40.7146"
       ]
      },
      {
       "output_type": "stream",
       "stream": "stdout",
       "text": [
        " -74.0071\n",
        "Jon Secada"
       ]
      },
      {
       "output_type": "stream",
       "stream": "stdout",
       "text": [
        " Do You Believe In Us\n",
        "25.753132"
       ]
      },
      {
       "output_type": "stream",
       "stream": "stdout",
       "text": [
        " -80.234427\n",
        "Jon Secada"
       ]
      },
      {
       "output_type": "stream",
       "stream": "stdout",
       "text": [
        " Angel\n",
        "25.753132"
       ]
      },
      {
       "output_type": "stream",
       "stream": "stdout",
       "text": [
        " -80.234427\n",
        "Kenny G"
       ]
      },
      {
       "output_type": "stream",
       "stream": "stdout",
       "text": [
        " Forever In Love\n",
        "47.6036"
       ]
      },
      {
       "output_type": "stream",
       "stream": "stdout",
       "text": [
        " -122.329\n",
        "Janet Jackson"
       ]
      },
      {
       "output_type": "stream",
       "stream": "stdout",
       "text": [
        " Again\n",
        "41.590686"
       ]
      },
      {
       "output_type": "stream",
       "stream": "stdout",
       "text": [
        " -87.319937\n",
        "Jazzy Jeff and Fresh Prince"
       ]
      },
      {
       "output_type": "stream",
       "stream": "stdout",
       "text": [
        " Boom! Shake The Room\n",
        "error"
       ]
      },
      {
       "output_type": "stream",
       "stream": "stdout",
       "text": [
        "\n",
        "Restless Heart When She Cries\n",
        "36.165688"
       ]
      },
      {
       "output_type": "stream",
       "stream": "stdout",
       "text": [
        " -86.778098\n",
        "Inner Circle"
       ]
      },
      {
       "output_type": "stream",
       "stream": "stdout",
       "text": [
        " Sweat (A La La La La Long)\n",
        "18.1153"
       ]
      },
      {
       "output_type": "stream",
       "stream": "stdout",
       "text": [
        " -77.2735\n",
        "Ice Cube"
       ]
      },
      {
       "output_type": "stream",
       "stream": "stdout",
       "text": [
        " It Was A Good Day\n",
        "33.973951"
       ]
      },
      {
       "output_type": "stream",
       "stream": "stdout",
       "text": [
        " -118.248405\n",
        "Captain Hollywood Project"
       ]
      },
      {
       "output_type": "stream",
       "stream": "stdout",
       "text": [
        " More And More\n",
        "51.1642"
       ]
      },
      {
       "output_type": "stream",
       "stream": "stdout",
       "text": [
        " 10.4542\n",
        "Heights"
       ]
      },
      {
       "output_type": "stream",
       "stream": "stdout",
       "text": [
        " How Do You Talk To An Angel\n",
        "39.2269"
       ]
      },
      {
       "output_type": "stream",
       "stream": "stdout",
       "text": [
        " -123.769\n",
        "Digable Planets"
       ]
      },
      {
       "output_type": "stream",
       "stream": "stdout",
       "text": [
        " Rebirth Of Slick (Cool Like Dat)\n",
        "40.6551"
       ]
      },
      {
       "output_type": "stream",
       "stream": "stdout",
       "text": [
        " -73.9489\n",
        "Haddaway"
       ]
      },
      {
       "output_type": "stream",
       "stream": "stdout",
       "text": [
        " What Is Love\n",
        "50.9333333"
       ]
      },
      {
       "output_type": "stream",
       "stream": "stdout",
       "text": [
        " 6.95\n",
        "Michael Bolton"
       ]
      },
      {
       "output_type": "stream",
       "stream": "stdout",
       "text": [
        " To Love Somebody\n",
        "41.3071"
       ]
      },
      {
       "output_type": "stream",
       "stream": "stdout",
       "text": [
        " -72.925\n",
        "En Vogue"
       ]
      },
      {
       "output_type": "stream",
       "stream": "stdout",
       "text": [
        " Give It Up, Turn It Loose\n",
        "37.8051"
       ]
      },
      {
       "output_type": "stream",
       "stream": "stdout",
       "text": [
        " -122.273\n",
        "Kris Kross"
       ]
      },
      {
       "output_type": "stream",
       "stream": "stdout",
       "text": [
        " Alright\n",
        "33.7483"
       ]
      },
      {
       "output_type": "stream",
       "stream": "stdout",
       "text": [
        " -84.3911\n",
        "Ice Cube"
       ]
      },
      {
       "output_type": "stream",
       "stream": "stdout",
       "text": [
        " Check Yo Self\n",
        "33.973951"
       ]
      },
      {
       "output_type": "stream",
       "stream": "stdout",
       "text": [
        " -118.248405\n",
        "Sting"
       ]
      },
      {
       "output_type": "stream",
       "stream": "stdout",
       "text": [
        " Fields Of Gold\n",
        "54.9911912"
       ]
      },
      {
       "output_type": "stream",
       "stream": "stdout",
       "text": [
        " -1.5342042\n",
        "Dino"
       ]
      },
      {
       "output_type": "stream",
       "stream": "stdout",
       "text": [
        " Ooh Child\n",
        "51.5063"
       ]
      },
      {
       "output_type": "stream",
       "stream": "stdout",
       "text": [
        " -0.12714\n",
        "Go West"
       ]
      },
      {
       "output_type": "stream",
       "stream": "stdout",
       "text": [
        " Faithful\n",
        "51.5063"
       ]
      },
      {
       "output_type": "stream",
       "stream": "stdout",
       "text": [
        " -0.12714\n",
        "Rod Stewart"
       ]
      },
      {
       "output_type": "stream",
       "stream": "stdout",
       "text": [
        " Reason To Believe\n",
        "51.5072648"
       ]
      },
      {
       "output_type": "stream",
       "stream": "stdout",
       "text": [
        " -0.1278328\n",
        "Tears For Fears"
       ]
      },
      {
       "output_type": "stream",
       "stream": "stdout",
       "text": [
        " Break It Down Again\n",
        "51.385"
       ]
      },
      {
       "output_type": "stream",
       "stream": "stdout",
       "text": [
        " -2.36132\n",
        "Joey Lawrence"
       ]
      },
      {
       "output_type": "stream",
       "stream": "stdout",
       "text": [
        " Nothin' My Love Can't Fix\n",
        "39.9523"
       ]
      },
      {
       "output_type": "stream",
       "stream": "stdout",
       "text": [
        " -75.1624\n",
        "Green Jelly"
       ]
      },
      {
       "output_type": "stream",
       "stream": "stdout",
       "text": [
        " Three Little Pigs\n",
        "34.0735"
       ]
      },
      {
       "output_type": "stream",
       "stream": "stdout",
       "text": [
        " -118.4\n",
        "Aerosmith"
       ]
      },
      {
       "output_type": "stream",
       "stream": "stdout",
       "text": [
        " Livin' On The Edge\n",
        "42.3586"
       ]
      },
      {
       "output_type": "stream",
       "stream": "stdout",
       "text": [
        " -71.0567\n",
        "Gin Blossoms"
       ]
      },
      {
       "output_type": "stream",
       "stream": "stdout",
       "text": [
        " Hey Jealousy\n",
        "33.401395"
       ]
      },
      {
       "output_type": "stream",
       "stream": "stdout",
       "text": [
        " -111.931298\n",
        "Sting"
       ]
      },
      {
       "output_type": "stream",
       "stream": "stdout",
       "text": [
        " If I Ever Lose My Faith In You\n",
        "54.9911912"
       ]
      },
      {
       "output_type": "stream",
       "stream": "stdout",
       "text": [
        " -1.5342042\n",
        "Tony! Toni! Tone!"
       ]
      },
      {
       "output_type": "stream",
       "stream": "stdout",
       "text": [
        " Anniversary\n",
        "37.786027"
       ]
      },
      {
       "output_type": "stream",
       "stream": "stdout",
       "text": [
        " -122.223779\n",
        "Jade"
       ]
      },
      {
       "output_type": "stream",
       "stream": "stdout",
       "text": [
        " One Woman\n",
        "51.5063"
       ]
      },
      {
       "output_type": "stream",
       "stream": "stdout",
       "text": [
        " -0.12714\n",
        "Taylor Dayne"
       ]
      },
      {
       "output_type": "stream",
       "stream": "stdout",
       "text": [
        " Can't Get Enough Of Your Love\n",
        "40.654626"
       ]
      },
      {
       "output_type": "stream",
       "stream": "stdout",
       "text": [
        " -73.608972\n",
        "Def Leppard"
       ]
      },
      {
       "output_type": "stream",
       "stream": "stdout",
       "text": [
        " Two Steps Behind\n",
        "53.3831"
       ]
      },
      {
       "output_type": "stream",
       "stream": "stdout",
       "text": [
        " -1.46454\n",
        "Ace Of Base"
       ]
      },
      {
       "output_type": "stream",
       "stream": "stdout",
       "text": [
        " The Sign\n",
        "57.7166667"
       ]
      },
      {
       "output_type": "stream",
       "stream": "stdout",
       "text": [
        " 11.9666667\n",
        "All-4-One"
       ]
      },
      {
       "output_type": "stream",
       "stream": "stdout",
       "text": [
        " I Swear\n",
        "34.0535"
       ]
      },
      {
       "output_type": "stream",
       "stream": "stdout",
       "text": [
        " -118.245\n",
        "Boyz II Men"
       ]
      },
      {
       "output_type": "stream",
       "stream": "stdout",
       "text": [
        " I'll Make Love To You\n",
        "39.9523"
       ]
      },
      {
       "output_type": "stream",
       "stream": "stdout",
       "text": [
        " -75.1624\n",
        "Celine Dion"
       ]
      },
      {
       "output_type": "stream",
       "stream": "stdout",
       "text": [
        " The Power Of Love\n",
        "45.7215"
       ]
      },
      {
       "output_type": "stream",
       "stream": "stdout",
       "text": [
        " -73.4867\n",
        "Mariah Carey"
       ]
      },
      {
       "output_type": "stream",
       "stream": "stdout",
       "text": [
        " Hero\n",
        "40.714269"
       ]
      },
      {
       "output_type": "stream",
       "stream": "stdout",
       "text": [
        " -74.005973\n",
        "Lisa Loeb and Nine Stories"
       ]
      },
      {
       "output_type": "stream",
       "stream": "stdout",
       "text": [
        " Stay (I Missed You)\n",
        "error"
       ]
      },
      {
       "output_type": "stream",
       "stream": "stdout",
       "text": [
        "\n",
        "Toni Braxton Breathe Again\n",
        "39.1328"
       ]
      },
      {
       "output_type": "stream",
       "stream": "stdout",
       "text": [
        " -76.69253\n",
        "Bryan Adams, Rod Stewart and Sting"
       ]
      },
      {
       "output_type": "stream",
       "stream": "stdout",
       "text": [
        " All For Love\n",
        "error"
       ]
      },
      {
       "output_type": "stream",
       "stream": "stdout",
       "text": [
        "\n",
        "Ace Of Base All That She Wants\n",
        "57.7166667"
       ]
      },
      {
       "output_type": "stream",
       "stream": "stdout",
       "text": [
        " 11.9666667\n",
        "Ace Of Base"
       ]
      },
      {
       "output_type": "stream",
       "stream": "stdout",
       "text": [
        " Don't Turn Around\n",
        "57.7166667"
       ]
      },
      {
       "output_type": "stream",
       "stream": "stdout",
       "text": [
        " 11.9666667\n",
        "R. Kelly"
       ]
      },
      {
       "output_type": "stream",
       "stream": "stdout",
       "text": [
        " Bump N' Grind\n",
        "41.850033"
       ]
      },
      {
       "output_type": "stream",
       "stream": "stdout",
       "text": [
        " -87.650052\n",
        "Janet Jackson"
       ]
      },
      {
       "output_type": "stream",
       "stream": "stdout",
       "text": [
        " Again\n",
        "41.590686"
       ]
      },
      {
       "output_type": "stream",
       "stream": "stdout",
       "text": [
        " -87.319937\n",
        "Madonna"
       ]
      },
      {
       "output_type": "stream",
       "stream": "stdout",
       "text": [
        " I'll Remember\n",
        "40.702898"
       ]
      },
      {
       "output_type": "stream",
       "stream": "stdout",
       "text": [
        " -74.010241\n",
        "Salt-N-Pepa"
       ]
      },
      {
       "output_type": "stream",
       "stream": "stdout",
       "text": [
        " Whatta Man\n",
        "40.714269"
       ]
      },
      {
       "output_type": "stream",
       "stream": "stdout",
       "text": [
        " -74.005973\n",
        "John Mellencamp and Me'shell Ndegeocello"
       ]
      },
      {
       "output_type": "stream",
       "stream": "stdout",
       "text": [
        " Wild Night\n",
        "error"
       ]
      },
      {
       "output_type": "stream",
       "stream": "stdout",
       "text": [
        "\n",
        "Mariah Carey Without You / Never Forget You\n",
        "error"
       ]
      },
      {
       "output_type": "stream",
       "stream": "stdout",
       "text": [
        "\n",
        "Toni Braxton You Mean The World To Me\n",
        "39.1328"
       ]
      },
      {
       "output_type": "stream",
       "stream": "stdout",
       "text": [
        " -76.69253\n",
        "Elton John"
       ]
      },
      {
       "output_type": "stream",
       "stream": "stdout",
       "text": [
        " Can You Feel The Love Tonight\n",
        "51.5968712"
       ]
      },
      {
       "output_type": "stream",
       "stream": "stdout",
       "text": [
        " -0.3770142\n",
        "Artist Formerly Known As Prince"
       ]
      },
      {
       "output_type": "stream",
       "stream": "stdout",
       "text": [
        " The Most Beautiful Girl In The World\n",
        "error"
       ]
      },
      {
       "output_type": "stream",
       "stream": "stdout",
       "text": [
        "\n",
        "Coolio Fantastic Voyage\n",
        "33.8953"
       ]
      },
      {
       "output_type": "stream",
       "stream": "stdout",
       "text": [
        " -118.224\n",
        "Big Mountain"
       ]
      },
      {
       "output_type": "stream",
       "stream": "stdout",
       "text": [
        " Baby I Love Your Way\n",
        "32.7157"
       ]
      },
      {
       "output_type": "stream",
       "stream": "stdout",
       "text": [
        " -117.162\n",
        "Warren G and Nate Dogg"
       ]
      },
      {
       "output_type": "stream",
       "stream": "stdout",
       "text": [
        " Regulate\n",
        "error"
       ]
      },
      {
       "output_type": "stream",
       "stream": "stdout",
       "text": [
        "\n",
        "Jon Secada If You Go\n",
        "25.753132"
       ]
      },
      {
       "output_type": "stream",
       "stream": "stdout",
       "text": [
        " -80.234427\n",
        "Aaliyah"
       ]
      },
      {
       "output_type": "stream",
       "stream": "stdout",
       "text": [
        " Back and Forth\n",
        "40.694481"
       ]
      },
      {
       "output_type": "stream",
       "stream": "stdout",
       "text": [
        " -73.989319\n",
        "Richard Marx"
       ]
      },
      {
       "output_type": "stream",
       "stream": "stdout",
       "text": [
        " Now And Forever\n",
        "41.8842"
       ]
      },
      {
       "output_type": "stream",
       "stream": "stdout",
       "text": [
        " -87.6324\n",
        "Babyface"
       ]
      },
      {
       "output_type": "stream",
       "stream": "stdout",
       "text": [
        " When Can I See You\n",
        "39.775092"
       ]
      },
      {
       "output_type": "stream",
       "stream": "stdout",
       "text": [
        " -86.13216\n",
        "Bryan Adams"
       ]
      },
      {
       "output_type": "stream",
       "stream": "stdout",
       "text": [
        " Please Forgive Me\n",
        "44.233333"
       ]
      },
      {
       "output_type": "stream",
       "stream": "stdout",
       "text": [
        " -76.483333\n",
        "All-4-One"
       ]
      },
      {
       "output_type": "stream",
       "stream": "stdout",
       "text": [
        " So Much In Love\n",
        "34.0535"
       ]
      },
      {
       "output_type": "stream",
       "stream": "stdout",
       "text": [
        " -118.245\n",
        "Salt-N-Pepa"
       ]
      },
      {
       "output_type": "stream",
       "stream": "stdout",
       "text": [
        " Shoop\n",
        "40.714269"
       ]
      },
      {
       "output_type": "stream",
       "stream": "stdout",
       "text": [
        " -74.005973\n",
        "Janet Jackson"
       ]
      },
      {
       "output_type": "stream",
       "stream": "stdout",
       "text": [
        " Any Time, Any Place / And On And On\n",
        "error"
       ]
      },
      {
       "output_type": "stream",
       "stream": "stdout",
       "text": [
        "\n",
        "Collective Soul Shine\n",
        "33.5438"
       ]
      },
      {
       "output_type": "stream",
       "stream": "stdout",
       "text": [
        " -84.2277\n",
        "Michael Bolton"
       ]
      },
      {
       "output_type": "stream",
       "stream": "stdout",
       "text": [
        " Said I Loved You...But I Lied\n",
        "41.3071"
       ]
      },
      {
       "output_type": "stream",
       "stream": "stdout",
       "text": [
        " -72.925\n",
        "Enigma"
       ]
      },
      {
       "output_type": "stream",
       "stream": "stdout",
       "text": [
        " Return To Innocence\n",
        "51.1642"
       ]
      },
      {
       "output_type": "stream",
       "stream": "stdout",
       "text": [
        " 10.4542\n",
        "Sheryl Crow"
       ]
      },
      {
       "output_type": "stream",
       "stream": "stdout",
       "text": [
        " All I Wanna Do\n",
        "36.23618"
       ]
      },
      {
       "output_type": "stream",
       "stream": "stdout",
       "text": [
        " -90.05565\n",
        "Crash Test Dummies"
       ]
      },
      {
       "output_type": "stream",
       "stream": "stdout",
       "text": [
        " Mmm Mmm Mmm Mmm\n",
        "49.8994"
       ]
      },
      {
       "output_type": "stream",
       "stream": "stdout",
       "text": [
        " -97.1408\n",
        "Tevin Campbell"
       ]
      },
      {
       "output_type": "stream",
       "stream": "stdout",
       "text": [
        " Can We Talk\n",
        "32.3861"
       ]
      },
      {
       "output_type": "stream",
       "stream": "stdout",
       "text": [
        " -96.8484\n",
        "Da Brat"
       ]
      },
      {
       "output_type": "stream",
       "stream": "stdout",
       "text": [
        " Funkdafied\n",
        "33.7483"
       ]
      },
      {
       "output_type": "stream",
       "stream": "stdout",
       "text": [
        " -84.3911\n",
        "Meat Loaf"
       ]
      },
      {
       "output_type": "stream",
       "stream": "stdout",
       "text": [
        " I'd Do Anything For Love (But I Won't Do That)\n",
        "32.781179"
       ]
      },
      {
       "output_type": "stream",
       "stream": "stdout",
       "text": [
        " -96.790329\n",
        "Drs"
       ]
      },
      {
       "output_type": "stream",
       "stream": "stdout",
       "text": [
        " Gangsta Lean\n",
        "31.1689"
       ]
      },
      {
       "output_type": "stream",
       "stream": "stdout",
       "text": [
        " -100.077\n",
        "10,000 Maniacs"
       ]
      },
      {
       "output_type": "stream",
       "stream": "stdout",
       "text": [
        " Because The Night\n",
        "42.08016"
       ]
      },
      {
       "output_type": "stream",
       "stream": "stdout",
       "text": [
        " -79.25671\n",
        "US3"
       ]
      },
      {
       "output_type": "stream",
       "stream": "stdout",
       "text": [
        " Cantaloop\n",
        "51.5063"
       ]
      },
      {
       "output_type": "stream",
       "stream": "stdout",
       "text": [
        " -0.12714\n",
        "Tag Team"
       ]
      },
      {
       "output_type": "stream",
       "stream": "stdout",
       "text": [
        " Whoomp! (There It Is)\n",
        "33.844371"
       ]
      },
      {
       "output_type": "stream",
       "stream": "stdout",
       "text": [
        " -84.47405\n",
        "Melissa Etheridge"
       ]
      },
      {
       "output_type": "stream",
       "stream": "stdout",
       "text": [
        " Come To My Window\n",
        "39.279656"
       ]
      },
      {
       "output_type": "stream",
       "stream": "stdout",
       "text": [
        " -94.982216\n",
        "Changing Faces"
       ]
      },
      {
       "output_type": "stream",
       "stream": "stdout",
       "text": [
        " Stroke You Up\n",
        "40.702898"
       ]
      },
      {
       "output_type": "stream",
       "stream": "stdout",
       "text": [
        " -74.010241\n",
        "Tevin Campbell"
       ]
      },
      {
       "output_type": "stream",
       "stream": "stdout",
       "text": [
        " I'm Ready\n",
        "32.3861"
       ]
      },
      {
       "output_type": "stream",
       "stream": "stdout",
       "text": [
        " -96.8484\n",
        "Crystal Waters"
       ]
      },
      {
       "output_type": "stream",
       "stream": "stdout",
       "text": [
        " 100% Pure Love\n",
        "39.9523"
       ]
      },
      {
       "output_type": "stream",
       "stream": "stdout",
       "text": [
        " -75.1624\n",
        "Mariah Carey"
       ]
      },
      {
       "output_type": "stream",
       "stream": "stdout",
       "text": [
        " Anytime You Need A Friend\n",
        "40.714269"
       ]
      },
      {
       "output_type": "stream",
       "stream": "stdout",
       "text": [
        " -74.005973\n",
        "Janet Jackson"
       ]
      },
      {
       "output_type": "stream",
       "stream": "stdout",
       "text": [
        " Because Of Love\n",
        "41.590686"
       ]
      },
      {
       "output_type": "stream",
       "stream": "stdout",
       "text": [
        " -87.319937\n",
        "Cranberries"
       ]
      },
      {
       "output_type": "stream",
       "stream": "stdout",
       "text": [
        " Linger\n",
        "52.6647222"
       ]
      },
      {
       "output_type": "stream",
       "stream": "stdout",
       "text": [
        " -8.6230556\n",
        "Beck"
       ]
      },
      {
       "output_type": "stream",
       "stream": "stdout",
       "text": [
        " Loser\n",
        "33.973951"
       ]
      },
      {
       "output_type": "stream",
       "stream": "stdout",
       "text": [
        " -118.248405\n",
        "Gin Blossoms"
       ]
      },
      {
       "output_type": "stream",
       "stream": "stdout",
       "text": [
        " Found Out About You\n",
        "33.401395"
       ]
      },
      {
       "output_type": "stream",
       "stream": "stdout",
       "text": [
        " -111.931298\n",
        "Snoop Doggy Dogg"
       ]
      },
      {
       "output_type": "stream",
       "stream": "stdout",
       "text": [
        " Gin And Juice\n",
        "error"
       ]
      },
      {
       "output_type": "stream",
       "stream": "stdout",
       "text": [
        "\n",
        "Immature Never Lie\n",
        "error"
       ]
      },
      {
       "output_type": "stream",
       "stream": "stdout",
       "text": [
        "\n",
        "Bruce Springsteen Streets Of Philadelphia\n",
        "40.2345"
       ]
      },
      {
       "output_type": "stream",
       "stream": "stdout",
       "text": [
        " -74.295\n",
        "Domino"
       ]
      },
      {
       "output_type": "stream",
       "stream": "stdout",
       "text": [
        " Getto Jam\n",
        "-6.17144"
       ]
      },
      {
       "output_type": "stream",
       "stream": "stdout",
       "text": [
        " 106.828\n",
        "Luther Vandross and Mariah Carey"
       ]
      },
      {
       "output_type": "stream",
       "stream": "stdout",
       "text": [
        " Endless Love\n",
        "error"
       ]
      },
      {
       "output_type": "stream",
       "stream": "stdout",
       "text": [
        "\n",
        "Aaron Hall I Miss You\n",
        "40.8572"
       ]
      },
      {
       "output_type": "stream",
       "stream": "stdout",
       "text": [
        " -73.8568\n",
        "Xscape"
       ]
      },
      {
       "output_type": "stream",
       "stream": "stdout",
       "text": [
        " Understanding\n",
        "33.7483"
       ]
      },
      {
       "output_type": "stream",
       "stream": "stdout",
       "text": [
        " -84.3911\n",
        "Warren G"
       ]
      },
      {
       "output_type": "stream",
       "stream": "stdout",
       "text": [
        " This D.J.\n",
        "33.7667"
       ]
      },
      {
       "output_type": "stream",
       "stream": "stdout",
       "text": [
        " -118.192\n",
        "Jodeci"
       ]
      },
      {
       "output_type": "stream",
       "stream": "stdout",
       "text": [
        " Cry For You\n",
        "35.26002"
       ]
      },
      {
       "output_type": "stream",
       "stream": "stdout",
       "text": [
        " -80.804151\n",
        "2Pac"
       ]
      },
      {
       "output_type": "stream",
       "stream": "stdout",
       "text": [
        " Keep Ya Head Up\n",
        "37.868538"
       ]
      },
      {
       "output_type": "stream",
       "stream": "stdout",
       "text": [
        " -122.50914\n",
        "Snoop Doggy Dogg"
       ]
      },
      {
       "output_type": "stream",
       "stream": "stdout",
       "text": [
        " Who Am I (What's My Name?)\n",
        "error"
       ]
      },
      {
       "output_type": "stream",
       "stream": "stdout",
       "text": [
        "\n",
        "Real McCoy Another Night\n",
        "52.5161"
       ]
      },
      {
       "output_type": "stream",
       "stream": "stdout",
       "text": [
        " 13.377\n",
        "R. Kelly"
       ]
      },
      {
       "output_type": "stream",
       "stream": "stdout",
       "text": [
        " Your Body's Callin'\n",
        "41.850033"
       ]
      },
      {
       "output_type": "stream",
       "stream": "stdout",
       "text": [
        " -87.650052\n",
        "69 Boyz"
       ]
      },
      {
       "output_type": "stream",
       "stream": "stdout",
       "text": [
        " Tootsee Roll\n",
        "30.3314"
       ]
      },
      {
       "output_type": "stream",
       "stream": "stdout",
       "text": [
        " -81.6558\n",
        "Jimmy Cliff"
       ]
      },
      {
       "output_type": "stream",
       "stream": "stdout",
       "text": [
        " I Can See Clearly Now\n",
        "18.4333"
       ]
      },
      {
       "output_type": "stream",
       "stream": "stdout",
       "text": [
        " -77.7833\n",
        "Babyface"
       ]
      },
      {
       "output_type": "stream",
       "stream": "stdout",
       "text": [
        " Never Keeping Secrets\n",
        "39.775092"
       ]
      },
      {
       "output_type": "stream",
       "stream": "stdout",
       "text": [
        " -86.13216\n",
        "Aerosmith"
       ]
      },
      {
       "output_type": "stream",
       "stream": "stdout",
       "text": [
        " Crazy\n",
        "42.3586"
       ]
      },
      {
       "output_type": "stream",
       "stream": "stdout",
       "text": [
        " -71.0567\n",
        "Xscape"
       ]
      },
      {
       "output_type": "stream",
       "stream": "stdout",
       "text": [
        " Just Kickin' It\n",
        "33.7483"
       ]
      },
      {
       "output_type": "stream",
       "stream": "stdout",
       "text": [
        " -84.3911\n",
        "Aaliyah"
       ]
      },
      {
       "output_type": "stream",
       "stream": "stdout",
       "text": [
        " At Your Best (You Are Love)\n",
        "40.694481"
       ]
      },
      {
       "output_type": "stream",
       "stream": "stdout",
       "text": [
        " -73.989319\n",
        "Meat Loaf"
       ]
      },
      {
       "output_type": "stream",
       "stream": "stdout",
       "text": [
        " Rock And Roll Dreams Come Through\n",
        "32.781179"
       ]
      },
      {
       "output_type": "stream",
       "stream": "stdout",
       "text": [
        " -96.790329\n",
        "Aerosmith"
       ]
      },
      {
       "output_type": "stream",
       "stream": "stdout",
       "text": [
        " Amazing\n",
        "42.3586"
       ]
      },
      {
       "output_type": "stream",
       "stream": "stdout",
       "text": [
        " -71.0567\n",
        "Erasure"
       ]
      },
      {
       "output_type": "stream",
       "stream": "stdout",
       "text": [
        " Always\n",
        "51.5072648"
       ]
      },
      {
       "output_type": "stream",
       "stream": "stdout",
       "text": [
        " -0.1278328\n",
        "Zhane"
       ]
      },
      {
       "output_type": "stream",
       "stream": "stdout",
       "text": [
        " Groove Thang\n",
        "39.9523"
       ]
      },
      {
       "output_type": "stream",
       "stream": "stdout",
       "text": [
        " -75.1624\n",
        "Gabrielle"
       ]
      },
      {
       "output_type": "stream",
       "stream": "stdout",
       "text": [
        " Dreams\n",
        "51.5451"
       ]
      },
      {
       "output_type": "stream",
       "stream": "stdout",
       "text": [
        " -0.05531\n",
        "Culture Beat"
       ]
      },
      {
       "output_type": "stream",
       "stream": "stdout",
       "text": [
        " Mr. Vain\n",
        "50.1166667"
       ]
      },
      {
       "output_type": "stream",
       "stream": "stdout",
       "text": [
        " 8.6833333\n",
        "Tom Petty and The Heartbreakers"
       ]
      },
      {
       "output_type": "stream",
       "stream": "stdout",
       "text": [
        " Mary Jane's Last Dance\n",
        "29.652"
       ]
      },
      {
       "output_type": "stream",
       "stream": "stdout",
       "text": [
        " -82.3232\n",
        "SWV"
       ]
      },
      {
       "output_type": "stream",
       "stream": "stdout",
       "text": [
        " Anything\n",
        "40.714269"
       ]
      },
      {
       "output_type": "stream",
       "stream": "stdout",
       "text": [
        " -74.005973\n",
        "Joshua Kadison"
       ]
      },
      {
       "output_type": "stream",
       "stream": "stdout",
       "text": [
        " Beautiful In My Eyes\n",
        "33.973951"
       ]
      },
      {
       "output_type": "stream",
       "stream": "stdout",
       "text": [
        " -118.248405\n",
        "Eternal"
       ]
      },
      {
       "output_type": "stream",
       "stream": "stdout",
       "text": [
        " Stay\n",
        "37.2719"
       ]
      },
      {
       "output_type": "stream",
       "stream": "stdout",
       "text": [
        " -119.27\n",
        "Craig Mack"
       ]
      },
      {
       "output_type": "stream",
       "stream": "stdout",
       "text": [
        " Flava In Ya Ear\n",
        "40.7811"
       ]
      },
      {
       "output_type": "stream",
       "stream": "stdout",
       "text": [
        " -73.2467\n",
        "Queen Latifah"
       ]
      },
      {
       "output_type": "stream",
       "stream": "stdout",
       "text": [
        " U.N.I.T.Y.\n",
        "40.732"
       ]
      },
      {
       "output_type": "stream",
       "stream": "stdout",
       "text": [
        " -74.1742\n",
        "Seal"
       ]
      },
      {
       "output_type": "stream",
       "stream": "stdout",
       "text": [
        " Prayer For The Dying\n",
        "51.5072648"
       ]
      },
      {
       "output_type": "stream",
       "stream": "stdout",
       "text": [
        " -0.1278328\n",
        "Madonna"
       ]
      },
      {
       "output_type": "stream",
       "stream": "stdout",
       "text": [
        " Secret\n",
        "40.702898"
       ]
      },
      {
       "output_type": "stream",
       "stream": "stdout",
       "text": [
        " -74.010241\n",
        "Ini Kamoze"
       ]
      },
      {
       "output_type": "stream",
       "stream": "stdout",
       "text": [
        " Here Comes The Hotstepper\n",
        "18.2788"
       ]
      },
      {
       "output_type": "stream",
       "stream": "stdout",
       "text": [
        " -76.8842\n",
        "Phil Collins"
       ]
      },
      {
       "output_type": "stream",
       "stream": "stdout",
       "text": [
        " Everyday\n",
        "51.5072648"
       ]
      },
      {
       "output_type": "stream",
       "stream": "stdout",
       "text": [
        " -0.1278328\n",
        "Tim McGraw"
       ]
      },
      {
       "output_type": "stream",
       "stream": "stdout",
       "text": [
        " Don't Take The Girl\n",
        "32.45764"
       ]
      },
      {
       "output_type": "stream",
       "stream": "stdout",
       "text": [
        " -91.49317\n",
        "Heavy D and The Boyz"
       ]
      },
      {
       "output_type": "stream",
       "stream": "stdout",
       "text": [
        " Got Me Waiting\n",
        "error"
       ]
      },
      {
       "output_type": "stream",
       "stream": "stdout",
       "text": [
        "\n",
        "Four Seasons December 1963 (Oh, What A Night)\n",
        "40.732"
       ]
      },
      {
       "output_type": "stream",
       "stream": "stdout",
       "text": [
        " -74.1742\n",
        "Tim McGraw"
       ]
      },
      {
       "output_type": "stream",
       "stream": "stdout",
       "text": [
        " Indian Outlaw\n",
        "32.45764"
       ]
      },
      {
       "output_type": "stream",
       "stream": "stdout",
       "text": [
        " -91.49317\n",
        "Bon Jovi"
       ]
      },
      {
       "output_type": "stream",
       "stream": "stdout",
       "text": [
        " Always\n",
        "40.430006"
       ]
      },
      {
       "output_type": "stream",
       "stream": "stdout",
       "text": [
        " -74.417344\n",
        "Melissa Etheridge"
       ]
      },
      {
       "output_type": "stream",
       "stream": "stdout",
       "text": [
        " I'm The Only One\n",
        "39.279656"
       ]
      },
      {
       "output_type": "stream",
       "stream": "stdout",
       "text": [
        " -94.982216\n",
        "Ahmad"
       ]
      },
      {
       "output_type": "stream",
       "stream": "stdout",
       "text": [
        " Back In The Day\n",
        "33.973951"
       ]
      },
      {
       "output_type": "stream",
       "stream": "stdout",
       "text": [
        " -118.248405\n",
        "Bonnie Raitt"
       ]
      },
      {
       "output_type": "stream",
       "stream": "stdout",
       "text": [
        " Love Sneakin' Up On You\n",
        "33.973951"
       ]
      },
      {
       "output_type": "stream",
       "stream": "stdout",
       "text": [
        " -118.248405\n",
        "General Public"
       ]
      },
      {
       "output_type": "stream",
       "stream": "stdout",
       "text": [
        " I'll Take You There\n",
        "54.3141"
       ]
      },
      {
       "output_type": "stream",
       "stream": "stdout",
       "text": [
        " -2.23001\n",
        "Tevin Campbell"
       ]
      },
      {
       "output_type": "stream",
       "stream": "stdout",
       "text": [
        " Always In My Heart\n",
        "32.3861"
       ]
      },
      {
       "output_type": "stream",
       "stream": "stdout",
       "text": [
        " -96.8484\n",
        "Haddaway"
       ]
      },
      {
       "output_type": "stream",
       "stream": "stdout",
       "text": [
        " What Is Love\n",
        "50.9333333"
       ]
      },
      {
       "output_type": "stream",
       "stream": "stdout",
       "text": [
        " 6.95\n",
        "Babyface"
       ]
      },
      {
       "output_type": "stream",
       "stream": "stdout",
       "text": [
        " And Our Feelings\n",
        "39.775092"
       ]
      },
      {
       "output_type": "stream",
       "stream": "stdout",
       "text": [
        " -86.13216\n",
        "Ice Cube"
       ]
      },
      {
       "output_type": "stream",
       "stream": "stdout",
       "text": [
        " Bop Gun (One Nation)\n",
        "33.973951"
       ]
      },
      {
       "output_type": "stream",
       "stream": "stdout",
       "text": [
        " -118.248405\n",
        "Brandy"
       ]
      },
      {
       "output_type": "stream",
       "stream": "stdout",
       "text": [
        " I Wanna Be Down\n",
        "31.2436111"
       ]
      },
      {
       "output_type": "stream",
       "stream": "stdout",
       "text": [
        " -90.4530556\n",
        "Coolio"
       ]
      },
      {
       "output_type": "stream",
       "stream": "stdout",
       "text": [
        " Gangsta's Paradise\n",
        "33.8953"
       ]
      },
      {
       "output_type": "stream",
       "stream": "stdout",
       "text": [
        " -118.224\n",
        "TLC"
       ]
      },
      {
       "output_type": "stream",
       "stream": "stdout",
       "text": [
        " Waterfalls\n",
        "33.844371"
       ]
      },
      {
       "output_type": "stream",
       "stream": "stdout",
       "text": [
        " -84.47405\n",
        "TLC"
       ]
      },
      {
       "output_type": "stream",
       "stream": "stdout",
       "text": [
        " Creep\n",
        "33.844371"
       ]
      },
      {
       "output_type": "stream",
       "stream": "stdout",
       "text": [
        " -84.47405\n",
        "Seal"
       ]
      },
      {
       "output_type": "stream",
       "stream": "stdout",
       "text": [
        " Kiss From A Rose\n",
        "51.5072648"
       ]
      },
      {
       "output_type": "stream",
       "stream": "stdout",
       "text": [
        " -0.1278328\n",
        "Boyz II Men"
       ]
      },
      {
       "output_type": "stream",
       "stream": "stdout",
       "text": [
        " On Bended Knee\n",
        "39.9523"
       ]
      },
      {
       "output_type": "stream",
       "stream": "stdout",
       "text": [
        " -75.1624\n",
        "Real McCoy"
       ]
      },
      {
       "output_type": "stream",
       "stream": "stdout",
       "text": [
        " Another Night\n",
        "52.5161"
       ]
      },
      {
       "output_type": "stream",
       "stream": "stdout",
       "text": [
        " 13.377\n",
        "Mariah Carey"
       ]
      },
      {
       "output_type": "stream",
       "stream": "stdout",
       "text": [
        " Fantasy\n",
        "40.714269"
       ]
      },
      {
       "output_type": "stream",
       "stream": "stdout",
       "text": [
        " -74.005973\n",
        "Madonna"
       ]
      },
      {
       "output_type": "stream",
       "stream": "stdout",
       "text": [
        " Take A Bow\n",
        "40.702898"
       ]
      },
      {
       "output_type": "stream",
       "stream": "stdout",
       "text": [
        " -74.010241\n",
        "Monica"
       ]
      },
      {
       "output_type": "stream",
       "stream": "stdout",
       "text": [
        " Don't Take It Personal (Just One Of Dem Days)\n",
        "33.844371"
       ]
      },
      {
       "output_type": "stream",
       "stream": "stdout",
       "text": [
        " -84.47405\n",
        "Montell Jordan"
       ]
      },
      {
       "output_type": "stream",
       "stream": "stdout",
       "text": [
        " This Is How We Do It\n",
        "33.973951"
       ]
      },
      {
       "output_type": "stream",
       "stream": "stdout",
       "text": [
        " -118.248405\n",
        "Dionne Farris"
       ]
      },
      {
       "output_type": "stream",
       "stream": "stdout",
       "text": [
        " I Know\n",
        "40.615202"
       ]
      },
      {
       "output_type": "stream",
       "stream": "stdout",
       "text": [
        " -74.414995\n",
        "Boyz II Men"
       ]
      },
      {
       "output_type": "stream",
       "stream": "stdout",
       "text": [
        " Water Runs Dry\n",
        "39.9523"
       ]
      },
      {
       "output_type": "stream",
       "stream": "stdout",
       "text": [
        " -75.1624\n",
        "Adina Howard"
       ]
      },
      {
       "output_type": "stream",
       "stream": "stdout",
       "text": [
        " Freak Like Me\n",
        "42.984226"
       ]
      },
      {
       "output_type": "stream",
       "stream": "stdout",
       "text": [
        " -85.629101\n",
        "Blues Traveler"
       ]
      },
      {
       "output_type": "stream",
       "stream": "stdout",
       "text": [
        " Run-Around\n",
        "40.343625"
       ]
      },
      {
       "output_type": "stream",
       "stream": "stdout",
       "text": [
        " -74.693953\n",
        "All-4-One"
       ]
      },
      {
       "output_type": "stream",
       "stream": "stdout",
       "text": [
        " I Can Love You Like That\n",
        "34.0535"
       ]
      },
      {
       "output_type": "stream",
       "stream": "stdout",
       "text": [
        " -118.245\n",
        "Bryan Adams"
       ]
      },
      {
       "output_type": "stream",
       "stream": "stdout",
       "text": [
        " Have You Ever Really Loved A Woman?\n",
        "44.233333"
       ]
      },
      {
       "output_type": "stream",
       "stream": "stdout",
       "text": [
        " -76.483333\n",
        "Bon Jovi"
       ]
      },
      {
       "output_type": "stream",
       "stream": "stdout",
       "text": [
        " Always\n",
        "40.430006"
       ]
      },
      {
       "output_type": "stream",
       "stream": "stdout",
       "text": [
        " -74.417344\n",
        "Shaggy"
       ]
      },
      {
       "output_type": "stream",
       "stream": "stdout",
       "text": [
        " Boombastic / In The Summertime\n",
        "error"
       ]
      },
      {
       "output_type": "stream",
       "stream": "stdout",
       "text": [
        "\n",
        "Nicki French Total Eclipse Of The Heart\n",
        "40.2012"
       ]
      },
      {
       "output_type": "stream",
       "stream": "stdout",
       "text": [
        " -77.1892\n",
        "Des'ree"
       ]
      },
      {
       "output_type": "stream",
       "stream": "stdout",
       "text": [
        " You Gotta Be\n",
        "51.5072648"
       ]
      },
      {
       "output_type": "stream",
       "stream": "stdout",
       "text": [
        " -0.1278328\n",
        "Michael Jackson"
       ]
      },
      {
       "output_type": "stream",
       "stream": "stdout",
       "text": [
        " You Are Not Alone\n",
        "41.590686"
       ]
      },
      {
       "output_type": "stream",
       "stream": "stdout",
       "text": [
        " -87.319937\n",
        "Hootie and The Blowfish"
       ]
      },
      {
       "output_type": "stream",
       "stream": "stdout",
       "text": [
        " Hold My Hand\n",
        "error"
       ]
      },
      {
       "output_type": "stream",
       "stream": "stdout",
       "text": [
        "\n",
        "Notorious B.I.G. One More Chance-Stay With Me\n",
        "40.714269"
       ]
      },
      {
       "output_type": "stream",
       "stream": "stdout",
       "text": [
        " -74.005973\n",
        "Ini Kamoze"
       ]
      },
      {
       "output_type": "stream",
       "stream": "stdout",
       "text": [
        " Here Comes The Hotstepper\n",
        "18.2788"
       ]
      },
      {
       "output_type": "stream",
       "stream": "stdout",
       "text": [
        " -76.8842\n",
        "Soul For Real"
       ]
      },
      {
       "output_type": "stream",
       "stream": "stdout",
       "text": [
        " Candy Rain\n",
        "40.7636"
       ]
      },
      {
       "output_type": "stream",
       "stream": "stdout",
       "text": [
        " -73.3698\n",
        "Hootie and The Blowfish"
       ]
      },
      {
       "output_type": "stream",
       "stream": "stdout",
       "text": [
        " Let Her Cry\n",
        "error"
       ]
      },
      {
       "output_type": "stream",
       "stream": "stdout",
       "text": [
        "\n",
        "Blessid Union Of Souls I Believe\n",
        "39.342034"
       ]
      },
      {
       "output_type": "stream",
       "stream": "stdout",
       "text": [
        " -84.106916\n",
        "TLC"
       ]
      },
      {
       "output_type": "stream",
       "stream": "stdout",
       "text": [
        " Red Light Special\n",
        "33.844371"
       ]
      },
      {
       "output_type": "stream",
       "stream": "stdout",
       "text": [
        " -84.47405\n",
        "Janet Jackson"
       ]
      },
      {
       "output_type": "stream",
       "stream": "stdout",
       "text": [
        " Runaway\n",
        "41.590686"
       ]
      },
      {
       "output_type": "stream",
       "stream": "stdout",
       "text": [
        " -87.319937\n",
        "Sheryl Crow"
       ]
      },
      {
       "output_type": "stream",
       "stream": "stdout",
       "text": [
        " Strong Enough\n",
        "36.23618"
       ]
      },
      {
       "output_type": "stream",
       "stream": "stdout",
       "text": [
        " -90.05565\n",
        "Vanessa Williams"
       ]
      },
      {
       "output_type": "stream",
       "stream": "stdout",
       "text": [
        " Colors Of The Wind\n",
        "41.0801"
       ]
      },
      {
       "output_type": "stream",
       "stream": "stdout",
       "text": [
        " -73.8587\n",
        "Jon B."
       ]
      },
      {
       "output_type": "stream",
       "stream": "stdout",
       "text": [
        " Someone To Love\n",
        "33.786594"
       ]
      },
      {
       "output_type": "stream",
       "stream": "stdout",
       "text": [
        " -118.298662\n",
        "Hootie and The Blowfish"
       ]
      },
      {
       "output_type": "stream",
       "stream": "stdout",
       "text": [
        " Only Wanna Be With You\n",
        "error"
       ]
      },
      {
       "output_type": "stream",
       "stream": "stdout",
       "text": [
        "\n",
        "Brownstone If You Love Me\n",
        "59.8585"
       ]
      },
      {
       "output_type": "stream",
       "stream": "stdout",
       "text": [
        " 17.6441\n",
        "Martin Page"
       ]
      },
      {
       "output_type": "stream",
       "stream": "stdout",
       "text": [
        " In The House Of Stone And Light\n",
        "50.9099"
       ]
      },
      {
       "output_type": "stream",
       "stream": "stdout",
       "text": [
        " -1.40732\n",
        "Luniz"
       ]
      },
      {
       "output_type": "stream",
       "stream": "stdout",
       "text": [
        " I Got 5 On It\n",
        "37.8051"
       ]
      },
      {
       "output_type": "stream",
       "stream": "stdout",
       "text": [
        " -122.273\n",
        "Brandy"
       ]
      },
      {
       "output_type": "stream",
       "stream": "stdout",
       "text": [
        " Baby\n",
        "31.2436111"
       ]
      },
      {
       "output_type": "stream",
       "stream": "stdout",
       "text": [
        " -90.4530556\n",
        "Real McCoy"
       ]
      },
      {
       "output_type": "stream",
       "stream": "stdout",
       "text": [
        " Run Away\n",
        "52.5161"
       ]
      },
      {
       "output_type": "stream",
       "stream": "stdout",
       "text": [
        " 13.377\n",
        "Sophie B. Hawkins"
       ]
      },
      {
       "output_type": "stream",
       "stream": "stdout",
       "text": [
        " As I Lay Me Down\n",
        "40.7146"
       ]
      },
      {
       "output_type": "stream",
       "stream": "stdout",
       "text": [
        " -74.0071\n",
        "Mokenstef"
       ]
      },
      {
       "output_type": "stream",
       "stream": "stdout",
       "text": [
        " He's Mine\n",
        "38.2207"
       ]
      },
      {
       "output_type": "stream",
       "stream": "stdout",
       "text": [
        " -90.3777\n",
        "Collective Soul"
       ]
      },
      {
       "output_type": "stream",
       "stream": "stdout",
       "text": [
        " December\n",
        "33.5438"
       ]
      },
      {
       "output_type": "stream",
       "stream": "stdout",
       "text": [
        " -84.2277\n",
        "Method Man-Mary J. Blige"
       ]
      },
      {
       "output_type": "stream",
       "stream": "stdout",
       "text": [
        " I'll Be There For You-You're All I Need To Get By\n",
        "error"
       ]
      },
      {
       "output_type": "stream",
       "stream": "stdout",
       "text": [
        "\n",
        "Diana King Shy Guy\n",
        "17.9948"
       ]
      },
      {
       "output_type": "stream",
       "stream": "stdout",
       "text": [
        " -76.9516\n",
        "Melissa Etheridge"
       ]
      },
      {
       "output_type": "stream",
       "stream": "stdout",
       "text": [
        " I'm The Only One\n",
        "39.279656"
       ]
      },
      {
       "output_type": "stream",
       "stream": "stdout",
       "text": [
        " -94.982216\n",
        "Soul For Real"
       ]
      },
      {
       "output_type": "stream",
       "stream": "stdout",
       "text": [
        " Every Little Thing I Do\n",
        "40.7636"
       ]
      },
      {
       "output_type": "stream",
       "stream": "stdout",
       "text": [
        " -73.3698\n",
        "BLACKstreet"
       ]
      },
      {
       "output_type": "stream",
       "stream": "stdout",
       "text": [
        " Before I Let You Go\n",
        "40.714269"
       ]
      },
      {
       "output_type": "stream",
       "stream": "stdout",
       "text": [
        " -74.005973\n",
        "Notorious B.I.G."
       ]
      },
      {
       "output_type": "stream",
       "stream": "stdout",
       "text": [
        " Big Poppa / Warning\n",
        "error"
       ]
      },
      {
       "output_type": "stream",
       "stream": "stdout",
       "text": [
        "\n",
        "4 P.M. Sukiyaki\n",
        "error"
       ]
      },
      {
       "output_type": "stream",
       "stream": "stdout",
       "text": [
        "\n",
        "Brandy I Wanna Be Down\n",
        "31.2436111"
       ]
      },
      {
       "output_type": "stream",
       "stream": "stdout",
       "text": [
        " -90.4530556\n",
        "Boyz II Men"
       ]
      },
      {
       "output_type": "stream",
       "stream": "stdout",
       "text": [
        " I'll Make Love To You\n",
        "39.9523"
       ]
      },
      {
       "output_type": "stream",
       "stream": "stdout",
       "text": [
        " -75.1624\n",
        "2Pac"
       ]
      },
      {
       "output_type": "stream",
       "stream": "stdout",
       "text": [
        " Dear Mama / Old School\n",
        "error"
       ]
      },
      {
       "output_type": "stream",
       "stream": "stdout",
       "text": [
        "\n",
        "Jamie Walters Hold On\n",
        "42.3586"
       ]
      },
      {
       "output_type": "stream",
       "stream": "stdout",
       "text": [
        " -71.0567\n",
        "Dr. Dre"
       ]
      },
      {
       "output_type": "stream",
       "stream": "stdout",
       "text": [
        " Keep Their Heads Ringin'\n",
        "34.0535"
       ]
      },
      {
       "output_type": "stream",
       "stream": "stdout",
       "text": [
        " -118.245\n",
        "Corona"
       ]
      },
      {
       "output_type": "stream",
       "stream": "stdout",
       "text": [
        " The Rhythm Of The Night\n",
        "42.5038"
       ]
      },
      {
       "output_type": "stream",
       "stream": "stdout",
       "text": [
        " 12.5735\n",
        "Del Amitri"
       ]
      },
      {
       "output_type": "stream",
       "stream": "stdout",
       "text": [
        " Roll To Me\n",
        "55.8578"
       ]
      },
      {
       "output_type": "stream",
       "stream": "stdout",
       "text": [
        " -4.24251\n",
        "Michael Jackson and Janet Jackson"
       ]
      },
      {
       "output_type": "stream",
       "stream": "stdout",
       "text": [
        " Scream / Childhood\n",
        "error"
       ]
      },
      {
       "output_type": "stream",
       "stream": "stdout",
       "text": [
        "\n",
        "Jodeci Freek'n You\n",
        "35.26002"
       ]
      },
      {
       "output_type": "stream",
       "stream": "stdout",
       "text": [
        " -80.804151\n",
        "Skee-lo"
       ]
      },
      {
       "output_type": "stream",
       "stream": "stdout",
       "text": [
        " I Wish\n",
        "33.973951"
       ]
      },
      {
       "output_type": "stream",
       "stream": "stdout",
       "text": [
        " -118.248405\n",
        "Elton John"
       ]
      },
      {
       "output_type": "stream",
       "stream": "stdout",
       "text": [
        " Believe\n",
        "51.5968712"
       ]
      },
      {
       "output_type": "stream",
       "stream": "stdout",
       "text": [
        " -0.3770142\n",
        "Natalie Merchant"
       ]
      },
      {
       "output_type": "stream",
       "stream": "stdout",
       "text": [
        " Carnival\n",
        "42.08016"
       ]
      },
      {
       "output_type": "stream",
       "stream": "stdout",
       "text": [
        " -79.25671\n",
        "Tom Petty"
       ]
      },
      {
       "output_type": "stream",
       "stream": "stdout",
       "text": [
        " You Don't Know How It Feels\n",
        "29.648993"
       ]
      },
      {
       "output_type": "stream",
       "stream": "stdout",
       "text": [
        " -82.324515\n",
        "Take That"
       ]
      },
      {
       "output_type": "stream",
       "stream": "stdout",
       "text": [
        " Back For Good\n",
        "53.5"
       ]
      },
      {
       "output_type": "stream",
       "stream": "stdout",
       "text": [
        " -2.216667\n",
        "69 Boyz"
       ]
      },
      {
       "output_type": "stream",
       "stream": "stdout",
       "text": [
        " Tootsee Roll\n",
        "30.3314"
       ]
      },
      {
       "output_type": "stream",
       "stream": "stdout",
       "text": [
        " -81.6558\n",
        "Janet Jackson"
       ]
      },
      {
       "output_type": "stream",
       "stream": "stdout",
       "text": [
        " You Want This / 70's Love Groove\n",
        "error"
       ]
      },
      {
       "output_type": "stream",
       "stream": "stdout",
       "text": [
        "\n",
        "Groove Theory Tell Me\n",
        "40.7146"
       ]
      },
      {
       "output_type": "stream",
       "stream": "stdout",
       "text": [
        " -74.0071\n",
        "Total"
       ]
      },
      {
       "output_type": "stream",
       "stream": "stdout",
       "text": [
        " Can't You See\n",
        "40.7146"
       ]
      },
      {
       "output_type": "stream",
       "stream": "stdout",
       "text": [
        " -74.0071\n",
        "Sheryl Crow"
       ]
      },
      {
       "output_type": "stream",
       "stream": "stdout",
       "text": [
        " All I Wanna Do\n",
        "36.23618"
       ]
      },
      {
       "output_type": "stream",
       "stream": "stdout",
       "text": [
        " -90.05565\n",
        "Subway"
       ]
      },
      {
       "output_type": "stream",
       "stream": "stdout",
       "text": [
        " This Lil' Game We Play\n",
        "51.1642"
       ]
      },
      {
       "output_type": "stream",
       "stream": "stdout",
       "text": [
        " 10.4542\n",
        "Real McCoy"
       ]
      },
      {
       "output_type": "stream",
       "stream": "stdout",
       "text": [
        " Come And Get Your Love\n",
        "52.5161"
       ]
      },
      {
       "output_type": "stream",
       "stream": "stdout",
       "text": [
        " 13.377\n",
        "Bon Jovi"
       ]
      },
      {
       "output_type": "stream",
       "stream": "stdout",
       "text": [
        " This Ain't A Love Song\n",
        "40.430006"
       ]
      },
      {
       "output_type": "stream",
       "stream": "stdout",
       "text": [
        " -74.417344\n",
        "Madonna"
       ]
      },
      {
       "output_type": "stream",
       "stream": "stdout",
       "text": [
        " Secret\n",
        "40.702898"
       ]
      },
      {
       "output_type": "stream",
       "stream": "stdout",
       "text": [
        " -74.010241\n",
        "Junior M.A.F.I.A."
       ]
      },
      {
       "output_type": "stream",
       "stream": "stdout",
       "text": [
        " Player's Anthem\n",
        "40.7146"
       ]
      },
      {
       "output_type": "stream",
       "stream": "stdout",
       "text": [
        " -74.0071\n",
        "Naughty By Nature"
       ]
      },
      {
       "output_type": "stream",
       "stream": "stdout",
       "text": [
        " Feel Me Flow\n",
        "40.77185"
       ]
      },
      {
       "output_type": "stream",
       "stream": "stdout",
       "text": [
        " -74.207039\n",
        "Jade"
       ]
      },
      {
       "output_type": "stream",
       "stream": "stdout",
       "text": [
        " Every Day Of The Week\n",
        "51.5063"
       ]
      },
      {
       "output_type": "stream",
       "stream": "stdout",
       "text": [
        " -0.12714\n",
        "Vanessa Williams"
       ]
      },
      {
       "output_type": "stream",
       "stream": "stdout",
       "text": [
        " The Sweetest Days\n",
        "41.0801"
       ]
      },
      {
       "output_type": "stream",
       "stream": "stdout",
       "text": [
        " -73.8587\n",
        "20 Fingers feat. Gillette"
       ]
      },
      {
       "output_type": "stream",
       "stream": "stdout",
       "text": [
        " Short Dick Man\n",
        "error"
       ]
      },
      {
       "output_type": "stream",
       "stream": "stdout",
       "text": [
        "\n",
        "Brandy Brokenhearted\n",
        "31.2436111"
       ]
      },
      {
       "output_type": "stream",
       "stream": "stdout",
       "text": [
        " -90.4530556\n",
        "Annie Lennox"
       ]
      },
      {
       "output_type": "stream",
       "stream": "stdout",
       "text": [
        " No More &quot;I Love You's&quot;\n",
        "error"
       ]
      },
      {
       "output_type": "stream",
       "stream": "stdout",
       "text": [
        "\n",
        "Faith Evans You Used To Love Me\n",
        "40.736101"
       ]
      },
      {
       "output_type": "stream",
       "stream": "stdout",
       "text": [
        " -74.22509\n",
        "Immature"
       ]
      },
      {
       "output_type": "stream",
       "stream": "stdout",
       "text": [
        " Constantly\n",
        "error"
       ]
      },
      {
       "output_type": "stream",
       "stream": "stdout",
       "text": [
        "\n",
        "U2 Hold Me, Thrill Me, Kiss Me, Kill Me\n",
        "53.3330556"
       ]
      },
      {
       "output_type": "stream",
       "stream": "stdout",
       "text": [
        " -6.2488889\n",
        "Crystal Waters"
       ]
      },
      {
       "output_type": "stream",
       "stream": "stdout",
       "text": [
        " 100% Pure Love\n",
        "39.9523"
       ]
      },
      {
       "output_type": "stream",
       "stream": "stdout",
       "text": [
        " -75.1624\n",
        "Raphael Saadiq"
       ]
      },
      {
       "output_type": "stream",
       "stream": "stdout",
       "text": [
        " Ask Of You\n",
        "37.786027"
       ]
      },
      {
       "output_type": "stream",
       "stream": "stdout",
       "text": [
        " -122.223779\n",
        "Az"
       ]
      },
      {
       "output_type": "stream",
       "stream": "stdout",
       "text": [
        " Sugar Hill\n",
        "40.694481"
       ]
      },
      {
       "output_type": "stream",
       "stream": "stdout",
       "text": [
        " -73.989319\n",
        "Better Than Ezra"
       ]
      },
      {
       "output_type": "stream",
       "stream": "stdout",
       "text": [
        " Good\n",
        "30.4434"
       ]
      },
      {
       "output_type": "stream",
       "stream": "stdout",
       "text": [
        " -91.187\n",
        "D'angelo"
       ]
      },
      {
       "output_type": "stream",
       "stream": "stdout",
       "text": [
        " Brown Sugar\n",
        "37.553758"
       ]
      },
      {
       "output_type": "stream",
       "stream": "stdout",
       "text": [
        " -77.460262\n",
        "Gloria Estefan"
       ]
      },
      {
       "output_type": "stream",
       "stream": "stdout",
       "text": [
        " Turn The Beat Around\n",
        "25.729"
       ]
      },
      {
       "output_type": "stream",
       "stream": "stdout",
       "text": [
        " -80.2374\n",
        "After 7"
       ]
      },
      {
       "output_type": "stream",
       "stream": "stdout",
       "text": [
        " 'Til You Do Me Right\n",
        "39.7669"
       ]
      },
      {
       "output_type": "stream",
       "stream": "stdout",
       "text": [
        " -86.15\n",
        "Bone Thugs-N-Harmony"
       ]
      },
      {
       "output_type": "stream",
       "stream": "stdout",
       "text": [
        " 1st Of Tha Month\n",
        "41.520052"
       ]
      },
      {
       "output_type": "stream",
       "stream": "stdout",
       "text": [
        " -81.556235\n",
        "Melissa Etheridge"
       ]
      },
      {
       "output_type": "stream",
       "stream": "stdout",
       "text": [
        " Like The Way I Do-If I Wanted To\n",
        "error"
       ]
      },
      {
       "output_type": "stream",
       "stream": "stdout",
       "text": [
        "\n",
        "Firehouse I Live My Life For You\n",
        "35.26002"
       ]
      },
      {
       "output_type": "stream",
       "stream": "stdout",
       "text": [
        " -80.804151\n",
        "Stevie B"
       ]
      },
      {
       "output_type": "stream",
       "stream": "stdout",
       "text": [
        " Dream About You-Funky Melody\n",
        "error"
       ]
      },
      {
       "output_type": "stream",
       "stream": "stdout",
       "text": [
        "\n",
        "Rednex Cotton Eye Joe\n",
        "62.1984"
       ]
      },
      {
       "output_type": "stream",
       "stream": "stdout",
       "text": [
        " 17.5514\n",
        "Boyz II Men"
       ]
      },
      {
       "output_type": "stream",
       "stream": "stdout",
       "text": [
        " Thank You\n",
        "39.9523"
       ]
      },
      {
       "output_type": "stream",
       "stream": "stdout",
       "text": [
        " -75.1624\n",
        "Pretenders"
       ]
      },
      {
       "output_type": "stream",
       "stream": "stdout",
       "text": [
        " I'll Stand By You\n",
        "51.5072648"
       ]
      },
      {
       "output_type": "stream",
       "stream": "stdout",
       "text": [
        " -0.1278328\n",
        "N II U"
       ]
      },
      {
       "output_type": "stream",
       "stream": "stdout",
       "text": [
        " I Miss You\n",
        "40.655071"
       ]
      },
      {
       "output_type": "stream",
       "stream": "stdout",
       "text": [
        " -73.948883\n",
        "Da Brat"
       ]
      },
      {
       "output_type": "stream",
       "stream": "stdout",
       "text": [
        " Give It 2 You\n",
        "33.7483"
       ]
      },
      {
       "output_type": "stream",
       "stream": "stdout",
       "text": [
        " -84.3911\n",
        "Brandy"
       ]
      },
      {
       "output_type": "stream",
       "stream": "stdout",
       "text": [
        " Best Friend\n",
        "31.2436111"
       ]
      },
      {
       "output_type": "stream",
       "stream": "stdout",
       "text": [
        " -90.4530556\n",
        "Soul Asylum"
       ]
      },
      {
       "output_type": "stream",
       "stream": "stdout",
       "text": [
        " Misery\n",
        "44.979"
       ]
      },
      {
       "output_type": "stream",
       "stream": "stdout",
       "text": [
        " -93.2649\n",
        "Van Halen"
       ]
      },
      {
       "output_type": "stream",
       "stream": "stdout",
       "text": [
        " Can't Stop Lovin' You\n",
        "33.786594"
       ]
      },
      {
       "output_type": "stream",
       "stream": "stdout",
       "text": [
        " -118.298662\n",
        "Los Del Rio"
       ]
      },
      {
       "output_type": "stream",
       "stream": "stdout",
       "text": [
        " Macarena (Bayside Boys Mix)\n",
        "error"
       ]
      },
      {
       "output_type": "stream",
       "stream": "stdout",
       "text": [
        "\n",
        "Mariah Carey and Boyz II Men One Sweet Day\n",
        "error"
       ]
      },
      {
       "output_type": "stream",
       "stream": "stdout",
       "text": [
        "\n",
        "Celine Dion Because You Loved Me\n",
        "45.7215"
       ]
      },
      {
       "output_type": "stream",
       "stream": "stdout",
       "text": [
        " -73.4867\n",
        "Tony Rich Project"
       ]
      },
      {
       "output_type": "stream",
       "stream": "stdout",
       "text": [
        " Nobody Knows\n",
        "42.3317"
       ]
      },
      {
       "output_type": "stream",
       "stream": "stdout",
       "text": [
        " -83.0479\n",
        "Mariah Carey"
       ]
      },
      {
       "output_type": "stream",
       "stream": "stdout",
       "text": [
        " Always Be My Baby\n",
        "40.714269"
       ]
      },
      {
       "output_type": "stream",
       "stream": "stdout",
       "text": [
        " -74.005973\n",
        "Tracy Chapman"
       ]
      },
      {
       "output_type": "stream",
       "stream": "stdout",
       "text": [
        " Give Me One Reason\n",
        "41.489381"
       ]
      },
      {
       "output_type": "stream",
       "stream": "stdout",
       "text": [
        " -81.667486\n",
        "Bone Thugs-N-Harmony"
       ]
      },
      {
       "output_type": "stream",
       "stream": "stdout",
       "text": [
        " Tha Crossroads\n",
        "41.520052"
       ]
      },
      {
       "output_type": "stream",
       "stream": "stdout",
       "text": [
        " -81.556235\n",
        "Donna Lewis"
       ]
      },
      {
       "output_type": "stream",
       "stream": "stdout",
       "text": [
        " I Love You Always Forever\n",
        "51.4813"
       ]
      },
      {
       "output_type": "stream",
       "stream": "stdout",
       "text": [
        " -3.18073\n",
        "Toni Braxton"
       ]
      },
      {
       "output_type": "stream",
       "stream": "stdout",
       "text": [
        " You're Makin' Me High / Let It Flow\n",
        "error"
       ]
      },
      {
       "output_type": "stream",
       "stream": "stdout",
       "text": [
        "\n",
        "Keith Sweat Twisted\n",
        "40.8077778"
       ]
      },
      {
       "output_type": "stream",
       "stream": "stdout",
       "text": [
        " -73.9458333\n",
        "Quad City DJ's"
       ]
      },
      {
       "output_type": "stream",
       "stream": "stdout",
       "text": [
        " C'mon N' Ride It (The Train)\n",
        "30.3314"
       ]
      },
      {
       "output_type": "stream",
       "stream": "stdout",
       "text": [
        " -81.6558\n",
        "Everything But The Girl"
       ]
      },
      {
       "output_type": "stream",
       "stream": "stdout",
       "text": [
        " Missing\n",
        "53.7432"
       ]
      },
      {
       "output_type": "stream",
       "stream": "stdout",
       "text": [
        " -0.34585\n",
        "Alanis Morissette"
       ]
      },
      {
       "output_type": "stream",
       "stream": "stdout",
       "text": [
        " Ironic\n",
        "45.416667"
       ]
      },
      {
       "output_type": "stream",
       "stream": "stdout",
       "text": [
        " -75.7\n",
        "Whitney Houston"
       ]
      },
      {
       "output_type": "stream",
       "stream": "stdout",
       "text": [
        " Exhale (Shoop Shoop)\n",
        "error"
       ]
      },
      {
       "output_type": "stream",
       "stream": "stdout",
       "text": [
        "\n",
        "Gin Blossoms Follow You Down / Til I Hear It From You\n",
        "error"
       ]
      },
      {
       "output_type": "stream",
       "stream": "stdout",
       "text": [
        "\n",
        "Brandy Sittin' Up In My Room\n",
        "31.2436111"
       ]
      },
      {
       "output_type": "stream",
       "stream": "stdout",
       "text": [
        " -90.4530556\n",
        "2Pac"
       ]
      },
      {
       "output_type": "stream",
       "stream": "stdout",
       "text": [
        " How Do U Want It / California Love\n",
        "error"
       ]
      },
      {
       "output_type": "stream",
       "stream": "stdout",
       "text": [
        "\n",
        "Celine Dion It's All Coming Back To Me Now\n",
        "45.7215"
       ]
      },
      {
       "output_type": "stream",
       "stream": "stdout",
       "text": [
        " -73.4867\n",
        "Eric Clapton"
       ]
      },
      {
       "output_type": "stream",
       "stream": "stdout",
       "text": [
        " Change The World\n",
        "53.0468"
       ]
      },
      {
       "output_type": "stream",
       "stream": "stdout",
       "text": [
        " -1.40752\n",
        "LL Cool J"
       ]
      },
      {
       "output_type": "stream",
       "stream": "stdout",
       "text": [
        " Hey Lover\n",
        "40.7202"
       ]
      },
      {
       "output_type": "stream",
       "stream": "stdout",
       "text": [
        " -73.2492\n",
        "LL Cool J"
       ]
      },
      {
       "output_type": "stream",
       "stream": "stdout",
       "text": [
        " Loungin\n",
        "40.7202"
       ]
      },
      {
       "output_type": "stream",
       "stream": "stdout",
       "text": [
        " -73.2492\n",
        "Jann Arden"
       ]
      },
      {
       "output_type": "stream",
       "stream": "stdout",
       "text": [
        " Insensitive\n",
        "51.0452"
       ]
      },
      {
       "output_type": "stream",
       "stream": "stdout",
       "text": [
        " -114.063\n",
        "La Bouche"
       ]
      },
      {
       "output_type": "stream",
       "stream": "stdout",
       "text": [
        " Be My Lover\n",
        "51.1642"
       ]
      },
      {
       "output_type": "stream",
       "stream": "stdout",
       "text": [
        " 10.4542\n",
        "Goo Goo Dolls"
       ]
      },
      {
       "output_type": "stream",
       "stream": "stdout",
       "text": [
        " Name\n",
        "42.8854"
       ]
      },
      {
       "output_type": "stream",
       "stream": "stdout",
       "text": [
        " -78.8785\n",
        "Jewel"
       ]
      },
      {
       "output_type": "stream",
       "stream": "stdout",
       "text": [
        " Who Will Save Your Soul\n",
        "59.6425"
       ]
      },
      {
       "output_type": "stream",
       "stream": "stdout",
       "text": [
        " -151.54833\n",
        "No Mercy"
       ]
      },
      {
       "output_type": "stream",
       "stream": "stdout",
       "text": [
        " Where Do You Go\n",
        "25.753132"
       ]
      },
      {
       "output_type": "stream",
       "stream": "stdout",
       "text": [
        " -80.234427\n",
        "R. Kelly"
       ]
      },
      {
       "output_type": "stream",
       "stream": "stdout",
       "text": [
        " I Can't Sleep Baby (If I)\n",
        "41.850033"
       ]
      },
      {
       "output_type": "stream",
       "stream": "stdout",
       "text": [
        " -87.650052\n",
        "Dishwalla"
       ]
      },
      {
       "output_type": "stream",
       "stream": "stdout",
       "text": [
        " Counting Blue Cars\n",
        "34.4193"
       ]
      },
      {
       "output_type": "stream",
       "stream": "stdout",
       "text": [
        " -119.699\n",
        "Alanis Morissette"
       ]
      },
      {
       "output_type": "stream",
       "stream": "stdout",
       "text": [
        " You Learn / You Oughta Know\n",
        "error"
       ]
      },
      {
       "output_type": "stream",
       "stream": "stdout",
       "text": [
        "\n",
        "Joan Osborne One Of Us\n",
        "38.2644"
       ]
      },
      {
       "output_type": "stream",
       "stream": "stdout",
       "text": [
        " -85.5388\n",
        "Natalie Merchant"
       ]
      },
      {
       "output_type": "stream",
       "stream": "stdout",
       "text": [
        " Wonder\n",
        "42.08016"
       ]
      },
      {
       "output_type": "stream",
       "stream": "stdout",
       "text": [
        " -79.25671\n",
        "Mary J. Blige"
       ]
      },
      {
       "output_type": "stream",
       "stream": "stdout",
       "text": [
        " Not Gon' Cry\n",
        "40.946107"
       ]
      },
      {
       "output_type": "stream",
       "stream": "stdout",
       "text": [
        " -73.866926\n",
        "Coolio"
       ]
      },
      {
       "output_type": "stream",
       "stream": "stdout",
       "text": [
        " Gangsta's Paradise\n",
        "33.8953"
       ]
      },
      {
       "output_type": "stream",
       "stream": "stdout",
       "text": [
        " -118.224\n",
        "112 feat. The Notorious B.I.G."
       ]
      },
      {
       "output_type": "stream",
       "stream": "stdout",
       "text": [
        " Only You\n",
        "error"
       ]
      },
      {
       "output_type": "stream",
       "stream": "stdout",
       "text": [
        "\n",
        "R. Kelly Down Low (Nobody Has To Know)\n",
        "41.850033"
       ]
      },
      {
       "output_type": "stream",
       "stream": "stdout",
       "text": [
        " -87.650052\n",
        "SWV"
       ]
      },
      {
       "output_type": "stream",
       "stream": "stdout",
       "text": [
        " You're The One\n",
        "40.714269"
       ]
      },
      {
       "output_type": "stream",
       "stream": "stdout",
       "text": [
        " -74.005973\n",
        "La Bouche"
       ]
      },
      {
       "output_type": "stream",
       "stream": "stdout",
       "text": [
        " Sweet Dreams\n",
        "51.1642"
       ]
      },
      {
       "output_type": "stream",
       "stream": "stdout",
       "text": [
        " 10.4542\n",
        "Monica"
       ]
      },
      {
       "output_type": "stream",
       "stream": "stdout",
       "text": [
        " Before You Walk Out Of My Life / Like This And Like That\n",
        "error"
       ]
      },
      {
       "output_type": "stream",
       "stream": "stdout",
       "text": [
        "\n",
        "Deep Blue Something Breakfast At Tiffany's\n",
        "33.220974"
       ]
      },
      {
       "output_type": "stream",
       "stream": "stdout",
       "text": [
        " -97.146038\n",
        "Coolio"
       ]
      },
      {
       "output_type": "stream",
       "stream": "stdout",
       "text": [
        " 1, 2, 3, 4 (Sumpin' New)\n",
        "33.8953"
       ]
      },
      {
       "output_type": "stream",
       "stream": "stdout",
       "text": [
        " -118.224\n",
        "Collective Soul"
       ]
      },
      {
       "output_type": "stream",
       "stream": "stdout",
       "text": [
        " The World I Know\n",
        "33.5438"
       ]
      },
      {
       "output_type": "stream",
       "stream": "stdout",
       "text": [
        " -84.2277\n",
        "BLACKstreet (feat. Dr. Dre)"
       ]
      },
      {
       "output_type": "stream",
       "stream": "stdout",
       "text": [
        " No Diggity\n",
        "error"
       ]
      },
      {
       "output_type": "stream",
       "stream": "stdout",
       "text": [
        "\n",
        "3t Anything\n",
        "38.0"
       ]
      },
      {
       "output_type": "stream",
       "stream": "stdout",
       "text": [
        " -97.0\n",
        "Smashing Pumpkins"
       ]
      },
      {
       "output_type": "stream",
       "stream": "stdout",
       "text": [
        " 1979\n",
        "41.8842"
       ]
      },
      {
       "output_type": "stream",
       "stream": "stdout",
       "text": [
        " -87.6324\n",
        "TLC"
       ]
      },
      {
       "output_type": "stream",
       "stream": "stdout",
       "text": [
        " Diggin' On You\n",
        "33.844371"
       ]
      },
      {
       "output_type": "stream",
       "stream": "stdout",
       "text": [
        " -84.47405\n",
        "Monica"
       ]
      },
      {
       "output_type": "stream",
       "stream": "stdout",
       "text": [
        " Why I Love You So Much / Ain't Nobody\n",
        "error"
       ]
      },
      {
       "output_type": "stream",
       "stream": "stdout",
       "text": [
        "\n",
        "Total Kissin' You\n",
        "40.7146"
       ]
      },
      {
       "output_type": "stream",
       "stream": "stdout",
       "text": [
        " -74.0071\n",
        "Whitney Houston and Cece Winans"
       ]
      },
      {
       "output_type": "stream",
       "stream": "stdout",
       "text": [
        " Count On Me\n",
        "error"
       ]
      },
      {
       "output_type": "stream",
       "stream": "stdout",
       "text": [
        "\n",
        "Mariah Carey Fantasy\n",
        "40.714269"
       ]
      },
      {
       "output_type": "stream",
       "stream": "stdout",
       "text": [
        " -74.005973\n",
        "Hootie and The Blowfish"
       ]
      },
      {
       "output_type": "stream",
       "stream": "stdout",
       "text": [
        " Time\n",
        "error"
       ]
      },
      {
       "output_type": "stream",
       "stream": "stdout",
       "text": [
        "\n",
        "Madonna You'll See\n",
        "40.702898"
       ]
      },
      {
       "output_type": "stream",
       "stream": "stdout",
       "text": [
        " -74.010241\n",
        "Az Yet"
       ]
      },
      {
       "output_type": "stream",
       "stream": "stdout",
       "text": [
        " Last Night\n",
        "39.9523"
       ]
      },
      {
       "output_type": "stream",
       "stream": "stdout",
       "text": [
        " -75.1624\n",
        "Merril Bainbridge"
       ]
      },
      {
       "output_type": "stream",
       "stream": "stdout",
       "text": [
        " Mouth\n",
        "-24.9121"
       ]
      },
      {
       "output_type": "stream",
       "stream": "stdout",
       "text": [
        " 133.398\n",
        "Color Me Badd"
       ]
      },
      {
       "output_type": "stream",
       "stream": "stdout",
       "text": [
        " The Earth, The Sun, The Rain\n",
        "35.472"
       ]
      },
      {
       "output_type": "stream",
       "stream": "stdout",
       "text": [
        " -97.5203\n",
        "Joe"
       ]
      },
      {
       "output_type": "stream",
       "stream": "stdout",
       "text": [
        " All The Things (Your Man Won't Do)\n",
        "32.472864"
       ]
      },
      {
       "output_type": "stream",
       "stream": "stdout",
       "text": [
        " -84.97823\n",
        "Oasis"
       ]
      },
      {
       "output_type": "stream",
       "stream": "stdout",
       "text": [
        " Wonderwall\n",
        "53.4796"
       ]
      },
      {
       "output_type": "stream",
       "stream": "stdout",
       "text": [
        " -2.24881\n",
        "Busta Rhymes"
       ]
      },
      {
       "output_type": "stream",
       "stream": "stdout",
       "text": [
        " Woo-hah!! Got You All In Check / Everything Remains Raw\n",
        "error"
       ]
      },
      {
       "output_type": "stream",
       "stream": "stdout",
       "text": [
        "\n",
        "Groove Theory Tell Me\n",
        "40.7146"
       ]
      },
      {
       "output_type": "stream",
       "stream": "stdout",
       "text": [
        " -74.0071\n",
        "Outkast"
       ]
      },
      {
       "output_type": "stream",
       "stream": "stdout",
       "text": [
        " Elevators (Me and You)\n",
        "error"
       ]
      },
      {
       "output_type": "stream",
       "stream": "stdout",
       "text": [
        "\n",
        "Blues Traveler Hook\n",
        "40.343625"
       ]
      },
      {
       "output_type": "stream",
       "stream": "stdout",
       "text": [
        " -74.693953\n",
        "LL Cool J"
       ]
      },
      {
       "output_type": "stream",
       "stream": "stdout",
       "text": [
        " Doin It\n",
        "40.7202"
       ]
      },
      {
       "output_type": "stream",
       "stream": "stdout",
       "text": [
        " -73.2492\n",
        "George Michael"
       ]
      },
      {
       "output_type": "stream",
       "stream": "stdout",
       "text": [
        " Fastlove\n",
        "51.589"
       ]
      },
      {
       "output_type": "stream",
       "stream": "stdout",
       "text": [
        " -0.164\n",
        "Case feat. Foxxy Brown"
       ]
      },
      {
       "output_type": "stream",
       "stream": "stdout",
       "text": [
        " Touch Me Tease Me\n",
        "error"
       ]
      },
      {
       "output_type": "stream",
       "stream": "stdout",
       "text": [
        "\n",
        "Kris Kross Tonite's Tha Night\n",
        "33.7483"
       ]
      },
      {
       "output_type": "stream",
       "stream": "stdout",
       "text": [
        " -84.3911\n",
        "Robert Miles"
       ]
      },
      {
       "output_type": "stream",
       "stream": "stdout",
       "text": [
        " Children\n",
        "46.1141667"
       ]
      },
      {
       "output_type": "stream",
       "stream": "stdout",
       "text": [
        " 13.0938889\n",
        "Adam Clayton and Larry Mullen"
       ]
      },
      {
       "output_type": "stream",
       "stream": "stdout",
       "text": [
        " Theme From Mission: Impossible\n",
        "error"
       ]
      },
      {
       "output_type": "stream",
       "stream": "stdout",
       "text": [
        "\n",
        "Bodeans Closer To Free\n",
        "43.022155"
       ]
      },
      {
       "output_type": "stream",
       "stream": "stdout",
       "text": [
        " -88.204676\n",
        "No Doubt"
       ]
      },
      {
       "output_type": "stream",
       "stream": "stdout",
       "text": [
        " Just A Girl\n",
        "33.844983"
       ]
      },
      {
       "output_type": "stream",
       "stream": "stdout",
       "text": [
        " -117.952151\n",
        "Aaliyah"
       ]
      },
      {
       "output_type": "stream",
       "stream": "stdout",
       "text": [
        " If Your Girl Only Knew\n",
        "40.694481"
       ]
      },
      {
       "output_type": "stream",
       "stream": "stdout",
       "text": [
        " -73.989319\n",
        "D'angelo"
       ]
      },
      {
       "output_type": "stream",
       "stream": "stdout",
       "text": [
        " Lady\n",
        "37.553758"
       ]
      },
      {
       "output_type": "stream",
       "stream": "stdout",
       "text": [
        " -77.460262\n",
        "John Mellencamp"
       ]
      },
      {
       "output_type": "stream",
       "stream": "stdout",
       "text": [
        " Key West Intermezzo (I Saw You First)\n",
        "39.1666"
       ]
      },
      {
       "output_type": "stream",
       "stream": "stdout",
       "text": [
        " -86.5342\n",
        "Ginuwine"
       ]
      },
      {
       "output_type": "stream",
       "stream": "stdout",
       "text": [
        " Pony\n",
        "38.8991"
       ]
      },
      {
       "output_type": "stream",
       "stream": "stdout",
       "text": [
        " -77.029\n",
        "Keith Sweat"
       ]
      },
      {
       "output_type": "stream",
       "stream": "stdout",
       "text": [
        " Nobody\n",
        "40.8077778"
       ]
      },
      {
       "output_type": "stream",
       "stream": "stdout",
       "text": [
        " -73.9458333\n",
        "Hootie and The Blowfish"
       ]
      },
      {
       "output_type": "stream",
       "stream": "stdout",
       "text": [
        " Old Man and Me (When I Get To Heaven)\n",
        "error"
       ]
      },
      {
       "output_type": "stream",
       "stream": "stdout",
       "text": [
        "\n",
        "Sheryl Crow If It Makes You Happy\n",
        "36.23618"
       ]
      },
      {
       "output_type": "stream",
       "stream": "stdout",
       "text": [
        " -90.05565\n",
        "Sophie B. Hawkins"
       ]
      },
      {
       "output_type": "stream",
       "stream": "stdout",
       "text": [
        " As I Lay Me Down\n",
        "40.7146"
       ]
      },
      {
       "output_type": "stream",
       "stream": "stdout",
       "text": [
        " -74.0071\n",
        "Mc Lyte"
       ]
      },
      {
       "output_type": "stream",
       "stream": "stdout",
       "text": [
        " Keep On, Keepin' On\n",
        "40.7038"
       ]
      },
      {
       "output_type": "stream",
       "stream": "stdout",
       "text": [
        " -73.8317\n",
        "Natalie Merchant"
       ]
      },
      {
       "output_type": "stream",
       "stream": "stdout",
       "text": [
        " Jealousy\n",
        "42.08016"
       ]
      },
      {
       "output_type": "stream",
       "stream": "stdout",
       "text": [
        " -79.25671\n",
        "Melissa Etheridge"
       ]
      },
      {
       "output_type": "stream",
       "stream": "stdout",
       "text": [
        " I Want To Come Over\n",
        "39.279656"
       ]
      },
      {
       "output_type": "stream",
       "stream": "stdout",
       "text": [
        " -94.982216\n",
        "Deborah Cox"
       ]
      },
      {
       "output_type": "stream",
       "stream": "stdout",
       "text": [
        " Who Do U Love\n",
        "43.666667"
       ]
      },
      {
       "output_type": "stream",
       "stream": "stdout",
       "text": [
        " -79.416667\n",
        "Toni Braxton"
       ]
      },
      {
       "output_type": "stream",
       "stream": "stdout",
       "text": [
        " Un-Break My Heart\n",
        "39.1328"
       ]
      },
      {
       "output_type": "stream",
       "stream": "stdout",
       "text": [
        " -76.69253\n",
        "Amber"
       ]
      },
      {
       "output_type": "stream",
       "stream": "stdout",
       "text": [
        " This Is Your Night\n",
        "51.1642"
       ]
      },
      {
       "output_type": "stream",
       "stream": "stdout",
       "text": [
        " 10.4542\n",
        "R. Kelly"
       ]
      },
      {
       "output_type": "stream",
       "stream": "stdout",
       "text": [
        " You Remind Me Of Something\n",
        "41.850033"
       ]
      },
      {
       "output_type": "stream",
       "stream": "stdout",
       "text": [
        " -87.650052\n",
        "Janet Jackson"
       ]
      },
      {
       "output_type": "stream",
       "stream": "stdout",
       "text": [
        " Runaway\n",
        "41.590686"
       ]
      },
      {
       "output_type": "stream",
       "stream": "stdout",
       "text": [
        " -87.319937\n",
        "Planet Soul"
       ]
      },
      {
       "output_type": "stream",
       "stream": "stdout",
       "text": [
        " Set U Free\n",
        "25.729"
       ]
      },
      {
       "output_type": "stream",
       "stream": "stdout",
       "text": [
        " -80.2374\n",
        "New Edition"
       ]
      },
      {
       "output_type": "stream",
       "stream": "stdout",
       "text": [
        " Hit Me Off\n",
        "42.3586"
       ]
      },
      {
       "output_type": "stream",
       "stream": "stdout",
       "text": [
        " -71.0567\n",
        "Total"
       ]
      },
      {
       "output_type": "stream",
       "stream": "stdout",
       "text": [
        " No One Else\n",
        "40.7146"
       ]
      },
      {
       "output_type": "stream",
       "stream": "stdout",
       "text": [
        " -74.0071\n",
        "Ghost Town Dj's"
       ]
      },
      {
       "output_type": "stream",
       "stream": "stdout",
       "text": [
        " My Boo\n",
        "41.7067"
       ]
      },
      {
       "output_type": "stream",
       "stream": "stdout",
       "text": [
        " -73.9294\n",
        "Junior M.A.F.I.A."
       ]
      },
      {
       "output_type": "stream",
       "stream": "stdout",
       "text": [
        " Get Money\n",
        "40.7146"
       ]
      },
      {
       "output_type": "stream",
       "stream": "stdout",
       "text": [
        " -74.0071\n",
        "Maxi Priest feat. Shaggy"
       ]
      },
      {
       "output_type": "stream",
       "stream": "stdout",
       "text": [
        " That Girl\n",
        "error"
       ]
      },
      {
       "output_type": "stream",
       "stream": "stdout",
       "text": [
        "\n",
        "Do Or Die Po Pimp\n",
        "41.8778"
       ]
      },
      {
       "output_type": "stream",
       "stream": "stdout",
       "text": [
        " -87.9081\n",
        "Metallica"
       ]
      },
      {
       "output_type": "stream",
       "stream": "stdout",
       "text": [
        " Until It Sleeps\n",
        "33.973951"
       ]
      },
      {
       "output_type": "stream",
       "stream": "stdout",
       "text": [
        " -118.248405\n",
        "Crucial Conflict"
       ]
      },
      {
       "output_type": "stream",
       "stream": "stdout",
       "text": [
        " Hay\n",
        "41.8842"
       ]
      },
      {
       "output_type": "stream",
       "stream": "stdout",
       "text": [
        " -87.6324\n",
        "Ace Of Base"
       ]
      },
      {
       "output_type": "stream",
       "stream": "stdout",
       "text": [
        " Beautiful Life\n",
        "57.7166667"
       ]
      },
      {
       "output_type": "stream",
       "stream": "stdout",
       "text": [
        " 11.9666667\n",
        "Take That"
       ]
      },
      {
       "output_type": "stream",
       "stream": "stdout",
       "text": [
        " Back For Good\n",
        "53.5"
       ]
      },
      {
       "output_type": "stream",
       "stream": "stdout",
       "text": [
        " -2.216667\n",
        "Pearl Jam"
       ]
      },
      {
       "output_type": "stream",
       "stream": "stdout",
       "text": [
        " I Got Id / Long Road\n",
        "error"
       ]
      },
      {
       "output_type": "stream",
       "stream": "stdout",
       "text": [
        "\n",
        "Faith Evans Soon As I Get Home\n",
        "40.736101"
       ]
      },
      {
       "output_type": "stream",
       "stream": "stdout",
       "text": [
        " -74.22509\n",
        "Los Del Rio"
       ]
      },
      {
       "output_type": "stream",
       "stream": "stdout",
       "text": [
        " Macarena\n",
        "39.8949"
       ]
      },
      {
       "output_type": "stream",
       "stream": "stdout",
       "text": [
        " -2.98831\n",
        "Hootie and The Blowfish"
       ]
      },
      {
       "output_type": "stream",
       "stream": "stdout",
       "text": [
        " Only Wanna Be With You\n",
        "error"
       ]
      },
      {
       "output_type": "stream",
       "stream": "stdout",
       "text": [
        "\n",
        "Seal Don't Cry\n",
        "51.5072648"
       ]
      },
      {
       "output_type": "stream",
       "stream": "stdout",
       "text": [
        " -0.1278328\n",
        "Elton John"
       ]
      },
      {
       "output_type": "stream",
       "stream": "stdout",
       "text": [
        " Candle In The Wind 1997 / Something About The Way You Look Tonight\n",
        "error"
       ]
      },
      {
       "output_type": "stream",
       "stream": "stdout",
       "text": [
        "\n",
        "Jewel Foolish Games / You Were Meant For Me\n",
        "error"
       ]
      },
      {
       "output_type": "stream",
       "stream": "stdout",
       "text": [
        "\n",
        "Puff Daddy and Faith Evans I'll Be Missing You\n",
        "error"
       ]
      },
      {
       "output_type": "stream",
       "stream": "stdout",
       "text": [
        "\n",
        "Toni Braxton Un-Break My Heart\n",
        "39.1328"
       ]
      },
      {
       "output_type": "stream",
       "stream": "stdout",
       "text": [
        " -76.69253\n",
        "Puff Daddy"
       ]
      },
      {
       "output_type": "stream",
       "stream": "stdout",
       "text": [
        " Can't Nobody Hold Me Down\n",
        "error"
       ]
      },
      {
       "output_type": "stream",
       "stream": "stdout",
       "text": [
        "\n",
        "R. Kelly I Believe I Can Fly\n",
        "41.850033"
       ]
      },
      {
       "output_type": "stream",
       "stream": "stdout",
       "text": [
        " -87.650052\n",
        "En Vogue"
       ]
      },
      {
       "output_type": "stream",
       "stream": "stdout",
       "text": [
        " Don't Let Go (Love)\n",
        "37.8051"
       ]
      },
      {
       "output_type": "stream",
       "stream": "stdout",
       "text": [
        " -122.273\n",
        "Mark Morrison"
       ]
      },
      {
       "output_type": "stream",
       "stream": "stdout",
       "text": [
        " Return Of The Mack\n",
        "53.1833333"
       ]
      },
      {
       "output_type": "stream",
       "stream": "stdout",
       "text": [
        " 8.5166667\n",
        "LeAnn Rimes"
       ]
      },
      {
       "output_type": "stream",
       "stream": "stdout",
       "text": [
        " How Do I Live\n",
        "32.931523"
       ]
      },
      {
       "output_type": "stream",
       "stream": "stdout",
       "text": [
        " -96.615821\n",
        "Spice Girls"
       ]
      },
      {
       "output_type": "stream",
       "stream": "stdout",
       "text": [
        " Wannabe\n",
        "51.5072648"
       ]
      },
      {
       "output_type": "stream",
       "stream": "stdout",
       "text": [
        " -0.1278328\n",
        "Backstreet Boys"
       ]
      },
      {
       "output_type": "stream",
       "stream": "stdout",
       "text": [
        " Quit Playing Games (With My Heart)\n",
        "28.545179"
       ]
      },
      {
       "output_type": "stream",
       "stream": "stdout",
       "text": [
        " -81.373291\n",
        "Hanson"
       ]
      },
      {
       "output_type": "stream",
       "stream": "stdout",
       "text": [
        " MMMBop\n",
        "36.039147"
       ]
      },
      {
       "output_type": "stream",
       "stream": "stdout",
       "text": [
        " -95.868667\n",
        "Monica"
       ]
      },
      {
       "output_type": "stream",
       "stream": "stdout",
       "text": [
        " For You I Will\n",
        "33.844371"
       ]
      },
      {
       "output_type": "stream",
       "stream": "stdout",
       "text": [
        " -84.47405\n",
        "Usher"
       ]
      },
      {
       "output_type": "stream",
       "stream": "stdout",
       "text": [
        " You Make Me Wanna...\n",
        "33.844371"
       ]
      },
      {
       "output_type": "stream",
       "stream": "stdout",
       "text": [
        " -84.47405\n",
        "Meredith Brooks"
       ]
      },
      {
       "output_type": "stream",
       "stream": "stdout",
       "text": [
        " Bitch\n",
        "45.317893"
       ]
      },
      {
       "output_type": "stream",
       "stream": "stdout",
       "text": [
        " -122.523602\n",
        "Keith Sweat"
       ]
      },
      {
       "output_type": "stream",
       "stream": "stdout",
       "text": [
        " Nobody\n",
        "40.8077778"
       ]
      },
      {
       "output_type": "stream",
       "stream": "stdout",
       "text": [
        " -73.9458333\n",
        "Third Eye Blind"
       ]
      },
      {
       "output_type": "stream",
       "stream": "stdout",
       "text": [
        " Semi-Charmed Life\n",
        "37.784827"
       ]
      },
      {
       "output_type": "stream",
       "stream": "stdout",
       "text": [
        " -122.727802\n",
        "Duncan Sheik"
       ]
      },
      {
       "output_type": "stream",
       "stream": "stdout",
       "text": [
        " Barely Breathing\n",
        "40.7146"
       ]
      },
      {
       "output_type": "stream",
       "stream": "stdout",
       "text": [
        " -74.0071\n",
        "Az Yet feat. Peter Cetera"
       ]
      },
      {
       "output_type": "stream",
       "stream": "stdout",
       "text": [
        " Hard To Say I'm Sorry\n",
        "error"
       ]
      },
      {
       "output_type": "stream",
       "stream": "stdout",
       "text": [
        "\n",
        "Notorious B.I.G. Mo Money Mo Problems\n",
        "40.714269"
       ]
      },
      {
       "output_type": "stream",
       "stream": "stdout",
       "text": [
        " -74.005973\n",
        "Verve Pipe"
       ]
      },
      {
       "output_type": "stream",
       "stream": "stdout",
       "text": [
        " The Freshmen\n",
        "42.9967"
       ]
      },
      {
       "output_type": "stream",
       "stream": "stdout",
       "text": [
        " -85.5901\n",
        "Savage Garden"
       ]
      },
      {
       "output_type": "stream",
       "stream": "stdout",
       "text": [
        " I Want You\n",
        "-27.5"
       ]
      },
      {
       "output_type": "stream",
       "stream": "stdout",
       "text": [
        " 153.016667\n",
        "BLACKstreet feat. Dr. Dre"
       ]
      },
      {
       "output_type": "stream",
       "stream": "stdout",
       "text": [
        " No Diggity\n",
        "error"
       ]
      },
      {
       "output_type": "stream",
       "stream": "stdout",
       "text": [
        "\n",
        "Rome I Belong To You (Every Time I See Your Face)\n",
        "37.54827"
       ]
      },
      {
       "output_type": "stream",
       "stream": "stdout",
       "text": [
        " -121.988572\n",
        "Notorious B.I.G."
       ]
      },
      {
       "output_type": "stream",
       "stream": "stdout",
       "text": [
        " Hypnotize\n",
        "40.714269"
       ]
      },
      {
       "output_type": "stream",
       "stream": "stdout",
       "text": [
        " -74.005973\n",
        "Babyface"
       ]
      },
      {
       "output_type": "stream",
       "stream": "stdout",
       "text": [
        " Every Time I Close My Eyes\n",
        "39.775092"
       ]
      },
      {
       "output_type": "stream",
       "stream": "stdout",
       "text": [
        " -86.13216\n",
        "Dru Hill"
       ]
      },
      {
       "output_type": "stream",
       "stream": "stdout",
       "text": [
        " In My Bed\n",
        "39.208888"
       ]
      },
      {
       "output_type": "stream",
       "stream": "stdout",
       "text": [
        " -76.562926\n",
        "Spice Girls"
       ]
      },
      {
       "output_type": "stream",
       "stream": "stdout",
       "text": [
        " Say You'll Be There\n",
        "51.5072648"
       ]
      },
      {
       "output_type": "stream",
       "stream": "stdout",
       "text": [
        " -0.1278328\n",
        "Robyn"
       ]
      },
      {
       "output_type": "stream",
       "stream": "stdout",
       "text": [
        " Do You Know (What It Takes)\n",
        "59.3333333"
       ]
      },
      {
       "output_type": "stream",
       "stream": "stdout",
       "text": [
        " 18.05\n",
        "Boyz II Men"
       ]
      },
      {
       "output_type": "stream",
       "stream": "stdout",
       "text": [
        " 4 Seasons Of Loneliness\n",
        "39.9523"
       ]
      },
      {
       "output_type": "stream",
       "stream": "stdout",
       "text": [
        " -75.1624\n",
        "Changing Faces"
       ]
      },
      {
       "output_type": "stream",
       "stream": "stdout",
       "text": [
        " G.H.E.T.T.O.U.T.\n",
        "40.702898"
       ]
      },
      {
       "output_type": "stream",
       "stream": "stdout",
       "text": [
        " -74.010241\n",
        "Mariah Carey"
       ]
      },
      {
       "output_type": "stream",
       "stream": "stdout",
       "text": [
        " Honey\n",
        "40.714269"
       ]
      },
      {
       "output_type": "stream",
       "stream": "stdout",
       "text": [
        " -74.005973\n",
        "Whitney Houston"
       ]
      },
      {
       "output_type": "stream",
       "stream": "stdout",
       "text": [
        " I Believe In You And Me\n",
        "40.736101"
       ]
      },
      {
       "output_type": "stream",
       "stream": "stdout",
       "text": [
        " -74.22509\n",
        "Freaknasty"
       ]
      },
      {
       "output_type": "stream",
       "stream": "stdout",
       "text": [
        " Da' Dip\n",
        "error"
       ]
      },
      {
       "output_type": "stream",
       "stream": "stdout",
       "text": [
        "\n",
        "Spice Girls 2 Become 1\n",
        "51.5072648"
       ]
      },
      {
       "output_type": "stream",
       "stream": "stdout",
       "text": [
        " -0.1278328\n",
        "Sister Hazel"
       ]
      },
      {
       "output_type": "stream",
       "stream": "stdout",
       "text": [
        " All For You\n",
        "29.652"
       ]
      },
      {
       "output_type": "stream",
       "stream": "stdout",
       "text": [
        " -82.3232\n",
        "112"
       ]
      },
      {
       "output_type": "stream",
       "stream": "stdout",
       "text": [
        " Cupid\n",
        "33.7483"
       ]
      },
      {
       "output_type": "stream",
       "stream": "stdout",
       "text": [
        " -84.3911\n",
        "Paula Cole"
       ]
      },
      {
       "output_type": "stream",
       "stream": "stdout",
       "text": [
        " Where Have All The Cowboys Gone?\n",
        "42.6555556"
       ]
      },
      {
       "output_type": "stream",
       "stream": "stdout",
       "text": [
        " -70.6208333\n",
        "Shawn Colvin"
       ]
      },
      {
       "output_type": "stream",
       "stream": "stdout",
       "text": [
        " Sunny Came Home\n",
        "37.739004"
       ]
      },
      {
       "output_type": "stream",
       "stream": "stdout",
       "text": [
        " -89.209109\n",
        "Tim McGraw and Faith Hill"
       ]
      },
      {
       "output_type": "stream",
       "stream": "stdout",
       "text": [
        " It's Your Love\n",
        "error"
       ]
      },
      {
       "output_type": "stream",
       "stream": "stdout",
       "text": [
        "\n",
        "Gina G Ooh Aah... Just A Little Bit\n",
        "-27.5"
       ]
      },
      {
       "output_type": "stream",
       "stream": "stdout",
       "text": [
        " 153.016667\n",
        "Merril Bainbridge"
       ]
      },
      {
       "output_type": "stream",
       "stream": "stdout",
       "text": [
        " Mouth\n",
        "-24.9121"
       ]
      },
      {
       "output_type": "stream",
       "stream": "stdout",
       "text": [
        " 133.398\n",
        "Allure feat. 112"
       ]
      },
      {
       "output_type": "stream",
       "stream": "stdout",
       "text": [
        " All Cried Out\n",
        "error"
       ]
      },
      {
       "output_type": "stream",
       "stream": "stdout",
       "text": [
        "\n",
        "New Edition I'm Still In Love With You\n",
        "42.3586"
       ]
      },
      {
       "output_type": "stream",
       "stream": "stdout",
       "text": [
        " -71.0567\n",
        "98 Degrees"
       ]
      },
      {
       "output_type": "stream",
       "stream": "stdout",
       "text": [
        " Invisible Man\n",
        "33.973951"
       ]
      },
      {
       "output_type": "stream",
       "stream": "stdout",
       "text": [
        " -118.248405\n",
        "Lil' Kim"
       ]
      },
      {
       "output_type": "stream",
       "stream": "stdout",
       "text": [
        " Not Tonight\n",
        "40.714269"
       ]
      },
      {
       "output_type": "stream",
       "stream": "stdout",
       "text": [
        " -74.005973\n",
        "Bone Thugs-N-Harmony"
       ]
      },
      {
       "output_type": "stream",
       "stream": "stdout",
       "text": [
        " Look Into My Eyes\n",
        "41.520052"
       ]
      },
      {
       "output_type": "stream",
       "stream": "stdout",
       "text": [
        " -81.556235\n",
        "702"
       ]
      },
      {
       "output_type": "stream",
       "stream": "stdout",
       "text": [
        " Get It Together\n",
        "36.1719"
       ]
      },
      {
       "output_type": "stream",
       "stream": "stdout",
       "text": [
        " -115.14\n",
        "Celine Dion"
       ]
      },
      {
       "output_type": "stream",
       "stream": "stdout",
       "text": [
        " All By Myself\n",
        "45.7215"
       ]
      },
      {
       "output_type": "stream",
       "stream": "stdout",
       "text": [
        " -73.4867\n",
        "Celine Dion"
       ]
      },
      {
       "output_type": "stream",
       "stream": "stdout",
       "text": [
        " It's All Coming Back To Me Now\n",
        "45.7215"
       ]
      },
      {
       "output_type": "stream",
       "stream": "stdout",
       "text": [
        " -73.4867\n",
        "Somethin' For The People"
       ]
      },
      {
       "output_type": "stream",
       "stream": "stdout",
       "text": [
        " My Love Is The Shhh!\n",
        "34.0535"
       ]
      },
      {
       "output_type": "stream",
       "stream": "stdout",
       "text": [
        " -118.245\n",
        "No Mercy"
       ]
      },
      {
       "output_type": "stream",
       "stream": "stdout",
       "text": [
        " Where Do You Go\n",
        "25.753132"
       ]
      },
      {
       "output_type": "stream",
       "stream": "stdout",
       "text": [
        " -80.234427\n",
        "Barbra Streisand and Bryan Adams"
       ]
      },
      {
       "output_type": "stream",
       "stream": "stdout",
       "text": [
        " I Finally Found Someone\n",
        "error"
       ]
      },
      {
       "output_type": "stream",
       "stream": "stdout",
       "text": [
        "\n",
        "Foxy Brown feat. Jay-Z I'll Be\n",
        "error"
       ]
      },
      {
       "output_type": "stream",
       "stream": "stdout",
       "text": [
        "\n",
        "Sheryl Crow If It Makes You Happy\n",
        "36.23618"
       ]
      },
      {
       "output_type": "stream",
       "stream": "stdout",
       "text": [
        " -90.05565\n",
        "Dru Hill"
       ]
      },
      {
       "output_type": "stream",
       "stream": "stdout",
       "text": [
        " Never Make A Promise\n",
        "39.208888"
       ]
      },
      {
       "output_type": "stream",
       "stream": "stdout",
       "text": [
        " -76.562926\n",
        "Journey"
       ]
      },
      {
       "output_type": "stream",
       "stream": "stdout",
       "text": [
        " When You Love A Woman\n",
        "37.784827"
       ]
      },
      {
       "output_type": "stream",
       "stream": "stdout",
       "text": [
        " -122.727802\n",
        "Magoo And Timbaland"
       ]
      },
      {
       "output_type": "stream",
       "stream": "stdout",
       "text": [
        " Up Jumps Da Boogie\n",
        "error"
       ]
      },
      {
       "output_type": "stream",
       "stream": "stdout",
       "text": [
        "\n",
        "Toni Braxton I Don't Want To / I Love Me Some Him\n",
        "error"
       ]
      },
      {
       "output_type": "stream",
       "stream": "stdout",
       "text": [
        "\n",
        "Sheryl Crow Everyday Is A Winding Road\n",
        "36.23618"
       ]
      },
      {
       "output_type": "stream",
       "stream": "stdout",
       "text": [
        " -90.05565\n",
        "Mc Lyte"
       ]
      },
      {
       "output_type": "stream",
       "stream": "stdout",
       "text": [
        " Cold Rock A Party\n",
        "40.7038"
       ]
      },
      {
       "output_type": "stream",
       "stream": "stdout",
       "text": [
        " -73.8317\n",
        "Ginuwine"
       ]
      },
      {
       "output_type": "stream",
       "stream": "stdout",
       "text": [
        " Pony\n",
        "38.8991"
       ]
      },
      {
       "output_type": "stream",
       "stream": "stdout",
       "text": [
        " -77.029\n",
        "Sarah McLachlan"
       ]
      },
      {
       "output_type": "stream",
       "stream": "stdout",
       "text": [
        " Building A Mystery\n",
        "44.65"
       ]
      },
      {
       "output_type": "stream",
       "stream": "stdout",
       "text": [
        " -63.6\n",
        "Donna Lewis"
       ]
      },
      {
       "output_type": "stream",
       "stream": "stdout",
       "text": [
        " I Love You Always Forever\n",
        "51.4813"
       ]
      },
      {
       "output_type": "stream",
       "stream": "stdout",
       "text": [
        " -3.18073\n",
        "White Town"
       ]
      },
      {
       "output_type": "stream",
       "stream": "stdout",
       "text": [
        " Your Woman\n",
        "52.9212617"
       ]
      },
      {
       "output_type": "stream",
       "stream": "stdout",
       "text": [
        " -1.4761491\n",
        "Coolio"
       ]
      },
      {
       "output_type": "stream",
       "stream": "stdout",
       "text": [
        " C U When U Get There\n",
        "33.8953"
       ]
      },
      {
       "output_type": "stream",
       "stream": "stdout",
       "text": [
        " -118.224\n",
        "Eric Clapton"
       ]
      },
      {
       "output_type": "stream",
       "stream": "stdout",
       "text": [
        " Change The World\n",
        "53.0468"
       ]
      },
      {
       "output_type": "stream",
       "stream": "stdout",
       "text": [
        " -1.40752\n",
        "B-Rock and The Bizz"
       ]
      },
      {
       "output_type": "stream",
       "stream": "stdout",
       "text": [
        " My Baby Daddy\n",
        "error"
       ]
      },
      {
       "output_type": "stream",
       "stream": "stdout",
       "text": [
        "\n",
        "Chumbawamba Tubthumping\n",
        "53.7900308"
       ]
      },
      {
       "output_type": "stream",
       "stream": "stdout",
       "text": [
        " -2.2433543\n",
        "R. Kelly"
       ]
      },
      {
       "output_type": "stream",
       "stream": "stdout",
       "text": [
        " Gotham City\n",
        "41.850033"
       ]
      },
      {
       "output_type": "stream",
       "stream": "stdout",
       "text": [
        " -87.650052\n",
        "Az Yet"
       ]
      },
      {
       "output_type": "stream",
       "stream": "stdout",
       "text": [
        " Last Night\n",
        "39.9523"
       ]
      },
      {
       "output_type": "stream",
       "stream": "stdout",
       "text": [
        " -75.1624\n",
        "Various Artists"
       ]
      },
      {
       "output_type": "stream",
       "stream": "stdout",
       "text": [
        " ESPN Presents The Jock Jam\n",
        "error"
       ]
      },
      {
       "output_type": "stream",
       "stream": "stdout",
       "text": [
        "\n",
        "Heavy D Big Daddy\n",
        "40.9124"
       ]
      },
      {
       "output_type": "stream",
       "stream": "stdout",
       "text": [
        " -73.8383\n",
        "Total"
       ]
      },
      {
       "output_type": "stream",
       "stream": "stdout",
       "text": [
        " What About Us\n",
        "40.7146"
       ]
      },
      {
       "output_type": "stream",
       "stream": "stdout",
       "text": [
        " -74.0071\n",
        "Scarface"
       ]
      },
      {
       "output_type": "stream",
       "stream": "stdout",
       "text": [
        " Smile\n",
        "29.813142"
       ]
      },
      {
       "output_type": "stream",
       "stream": "stdout",
       "text": [
        " -95.309789\n",
        "Montell Jordan"
       ]
      },
      {
       "output_type": "stream",
       "stream": "stdout",
       "text": [
        " What's On Tonight\n",
        "33.973951"
       ]
      },
      {
       "output_type": "stream",
       "stream": "stdout",
       "text": [
        " -118.248405\n",
        "Bruce Springsteen"
       ]
      },
      {
       "output_type": "stream",
       "stream": "stdout",
       "text": [
        " Secret Garden\n",
        "40.2345"
       ]
      },
      {
       "output_type": "stream",
       "stream": "stdout",
       "text": [
        " -74.295\n",
        "Aaliyah"
       ]
      },
      {
       "output_type": "stream",
       "stream": "stdout",
       "text": [
        " The One I Gave My Heart To\n",
        "40.694481"
       ]
      },
      {
       "output_type": "stream",
       "stream": "stdout",
       "text": [
        " -73.989319\n",
        "Seal"
       ]
      },
      {
       "output_type": "stream",
       "stream": "stdout",
       "text": [
        " Fly Like An Eagle\n",
        "51.5072648"
       ]
      },
      {
       "output_type": "stream",
       "stream": "stdout",
       "text": [
        " -0.1278328\n",
        "Lil' Kim"
       ]
      },
      {
       "output_type": "stream",
       "stream": "stdout",
       "text": [
        " No Time\n",
        "40.714269"
       ]
      },
      {
       "output_type": "stream",
       "stream": "stdout",
       "text": [
        " -74.005973\n",
        "Luscious Jackson"
       ]
      },
      {
       "output_type": "stream",
       "stream": "stdout",
       "text": [
        " Naked Eye\n",
        "40.79672"
       ]
      },
      {
       "output_type": "stream",
       "stream": "stdout",
       "text": [
        " -73.962885\n",
        "Los Del Rio"
       ]
      },
      {
       "output_type": "stream",
       "stream": "stdout",
       "text": [
        " Macarena (Bayside Boys Mix)\n",
        "error"
       ]
      },
      {
       "output_type": "stream",
       "stream": "stdout",
       "text": [
        "\n",
        "Erykah Badu On and On\n",
        "32.781179"
       ]
      },
      {
       "output_type": "stream",
       "stream": "stdout",
       "text": [
        " -96.790329\n",
        "Joe"
       ]
      },
      {
       "output_type": "stream",
       "stream": "stdout",
       "text": [
        " Don't Wanna Be A Player\n",
        "32.472864"
       ]
      },
      {
       "output_type": "stream",
       "stream": "stdout",
       "text": [
        " -84.97823\n",
        "Warren G"
       ]
      },
      {
       "output_type": "stream",
       "stream": "stdout",
       "text": [
        " I Shot The Sheriff\n",
        "33.7667"
       ]
      },
      {
       "output_type": "stream",
       "stream": "stdout",
       "text": [
        " -118.192\n",
        "Brian McKnight feat. Mase"
       ]
      },
      {
       "output_type": "stream",
       "stream": "stdout",
       "text": [
        " You Should Be Mine (Don't Waste Your Time)\n",
        "error"
       ]
      },
      {
       "output_type": "stream",
       "stream": "stdout",
       "text": [
        "\n",
        "Madonna Don't Cry For Me Argentina\n",
        "40.702898"
       ]
      },
      {
       "output_type": "stream",
       "stream": "stdout",
       "text": [
        " -74.010241\n",
        "SWV"
       ]
      },
      {
       "output_type": "stream",
       "stream": "stdout",
       "text": [
        " Someone\n",
        "40.714269"
       ]
      },
      {
       "output_type": "stream",
       "stream": "stdout",
       "text": [
        " -74.005973\n",
        "Michael Bolton"
       ]
      },
      {
       "output_type": "stream",
       "stream": "stdout",
       "text": [
        " Go The Distance\n",
        "41.3071"
       ]
      },
      {
       "output_type": "stream",
       "stream": "stdout",
       "text": [
        " -72.925\n",
        "Real McCoy"
       ]
      },
      {
       "output_type": "stream",
       "stream": "stdout",
       "text": [
        " One More Time\n",
        "52.5161"
       ]
      },
      {
       "output_type": "stream",
       "stream": "stdout",
       "text": [
        " 13.377\n",
        "Next"
       ]
      },
      {
       "output_type": "stream",
       "stream": "stdout",
       "text": [
        " Butta Love\n",
        "44.961"
       ]
      },
      {
       "output_type": "stream",
       "stream": "stdout",
       "text": [
        " -93.225253\n",
        "Mr. President"
       ]
      },
      {
       "output_type": "stream",
       "stream": "stdout",
       "text": [
        " Coco Jamboo\n",
        "53.0833333"
       ]
      },
      {
       "output_type": "stream",
       "stream": "stdout",
       "text": [
        " 8.8\n",
        "Keith Sweat"
       ]
      },
      {
       "output_type": "stream",
       "stream": "stdout",
       "text": [
        " Twisted\n",
        "40.8077778"
       ]
      },
      {
       "output_type": "stream",
       "stream": "stdout",
       "text": [
        " -73.9458333\n",
        "Aqua"
       ]
      },
      {
       "output_type": "stream",
       "stream": "stdout",
       "text": [
        " Barbie Girl\n",
        "55.6763"
       ]
      },
      {
       "output_type": "stream",
       "stream": "stdout",
       "text": [
        " 12.5694\n",
        "Cranberries"
       ]
      },
      {
       "output_type": "stream",
       "stream": "stdout",
       "text": [
        " When You're Gone / Free To Decide\n",
        "error"
       ]
      },
      {
       "output_type": "stream",
       "stream": "stdout",
       "text": [
        "\n",
        "DJ Kool Let Me Clear My Throat\n",
        "38.8991"
       ]
      },
      {
       "output_type": "stream",
       "stream": "stdout",
       "text": [
        " -77.029\n",
        "Blackout Allstars"
       ]
      },
      {
       "output_type": "stream",
       "stream": "stdout",
       "text": [
        " I Like It\n",
        "37.1679"
       ]
      },
      {
       "output_type": "stream",
       "stream": "stdout",
       "text": [
        " -95.845\n",
        "Toni Braxton"
       ]
      },
      {
       "output_type": "stream",
       "stream": "stdout",
       "text": [
        " You're Makin' Me High / Let It Flow\n",
        "error"
       ]
      },
      {
       "output_type": "stream",
       "stream": "stdout",
       "text": [
        "\n",
        "Madonna You Must Love Me\n",
        "40.702898"
       ]
      },
      {
       "output_type": "stream",
       "stream": "stdout",
       "text": [
        " -74.010241\n",
        "Ray J"
       ]
      },
      {
       "output_type": "stream",
       "stream": "stdout",
       "text": [
        " Let It Go\n",
        "33.813317"
       ]
      },
      {
       "output_type": "stream",
       "stream": "stdout",
       "text": [
        " -118.261154\n",
        "Next"
       ]
      },
      {
       "output_type": "stream",
       "stream": "stdout",
       "text": [
        " Too Close\n",
        "44.961"
       ]
      },
      {
       "output_type": "stream",
       "stream": "stdout",
       "text": [
        " -93.225253\n",
        "Brandy and Monica"
       ]
      },
      {
       "output_type": "stream",
       "stream": "stdout",
       "text": [
        " The Boy Is Mine\n",
        "error"
       ]
      },
      {
       "output_type": "stream",
       "stream": "stdout",
       "text": [
        "\n",
        "Shania Twain You're Still The One\n",
        "42.333333"
       ]
      },
      {
       "output_type": "stream",
       "stream": "stdout",
       "text": [
        " -83.033333\n",
        "Savage Garden"
       ]
      },
      {
       "output_type": "stream",
       "stream": "stdout",
       "text": [
        " Truly Madly Deeply\n",
        "-27.5"
       ]
      },
      {
       "output_type": "stream",
       "stream": "stdout",
       "text": [
        " 153.016667\n",
        "LeAnn Rimes"
       ]
      },
      {
       "output_type": "stream",
       "stream": "stdout",
       "text": [
        " How Do I Live\n",
        "32.931523"
       ]
      },
      {
       "output_type": "stream",
       "stream": "stdout",
       "text": [
        " -96.615821\n",
        "Janet"
       ]
      },
      {
       "output_type": "stream",
       "stream": "stdout",
       "text": [
        " Together Again\n",
        "41.590686"
       ]
      },
      {
       "output_type": "stream",
       "stream": "stdout",
       "text": [
        " -87.319937\n",
        "K-Ci and JoJo"
       ]
      },
      {
       "output_type": "stream",
       "stream": "stdout",
       "text": [
        " All My Life\n",
        "error"
       ]
      },
      {
       "output_type": "stream",
       "stream": "stdout",
       "text": [
        "\n",
        "Elton John Candle In The Wind 1997 / Something About The Way You Look Tonight\n",
        "error"
       ]
      },
      {
       "output_type": "stream",
       "stream": "stdout",
       "text": [
        "\n",
        "Usher Nice and Slow\n",
        "error"
       ]
      },
      {
       "output_type": "stream",
       "stream": "stdout",
       "text": [
        "\n",
        "Paula Cole I Don't Want To Wait\n",
        "42.6555556"
       ]
      },
      {
       "output_type": "stream",
       "stream": "stdout",
       "text": [
        " -70.6208333\n",
        "Third Eye Blind"
       ]
      },
      {
       "output_type": "stream",
       "stream": "stdout",
       "text": [
        " How's It Going To Be\n",
        "37.784827"
       ]
      },
      {
       "output_type": "stream",
       "stream": "stdout",
       "text": [
        " -122.727802\n",
        "Destiny's Child"
       ]
      },
      {
       "output_type": "stream",
       "stream": "stdout",
       "text": [
        " No, No, No\n",
        "29.7605"
       ]
      },
      {
       "output_type": "stream",
       "stream": "stdout",
       "text": [
        " -95.3698\n",
        "Celine Dion"
       ]
      },
      {
       "output_type": "stream",
       "stream": "stdout",
       "text": [
        " My Heart Will Go On\n",
        "45.7215"
       ]
      },
      {
       "output_type": "stream",
       "stream": "stdout",
       "text": [
        " -73.4867\n",
        "Will Smith"
       ]
      },
      {
       "output_type": "stream",
       "stream": "stdout",
       "text": [
        " Gettin' Jiggy Wit It\n",
        "34.0535"
       ]
      },
      {
       "output_type": "stream",
       "stream": "stdout",
       "text": [
        " -118.245\n",
        "Usher"
       ]
      },
      {
       "output_type": "stream",
       "stream": "stdout",
       "text": [
        " You Make Me Wanna...\n",
        "33.844371"
       ]
      },
      {
       "output_type": "stream",
       "stream": "stdout",
       "text": [
        " -84.47405\n",
        "Usher"
       ]
      },
      {
       "output_type": "stream",
       "stream": "stdout",
       "text": [
        " My Way\n",
        "33.844371"
       ]
      },
      {
       "output_type": "stream",
       "stream": "stdout",
       "text": [
        " -84.47405\n",
        "Mariah Carey"
       ]
      },
      {
       "output_type": "stream",
       "stream": "stdout",
       "text": [
        " My All\n",
        "40.714269"
       ]
      },
      {
       "output_type": "stream",
       "stream": "stdout",
       "text": [
        " -74.005973\n",
        "Monica"
       ]
      },
      {
       "output_type": "stream",
       "stream": "stdout",
       "text": [
        " The First Night\n",
        "33.844371"
       ]
      },
      {
       "output_type": "stream",
       "stream": "stdout",
       "text": [
        " -84.47405\n",
        "Puff Daddy and The Family"
       ]
      },
      {
       "output_type": "stream",
       "stream": "stdout",
       "text": [
        " Been Around The World\n",
        "error"
       ]
      },
      {
       "output_type": "stream",
       "stream": "stdout",
       "text": [
        "\n",
        "Sarah McLachlan Adia\n",
        "44.65"
       ]
      },
      {
       "output_type": "stream",
       "stream": "stdout",
       "text": [
        " -63.6\n",
        "Jennifer Paige"
       ]
      },
      {
       "output_type": "stream",
       "stream": "stdout",
       "text": [
        " Crush\n",
        "33.9532"
       ]
      },
      {
       "output_type": "stream",
       "stream": "stdout",
       "text": [
        " -84.5459\n",
        "Backstreet Boys"
       ]
      },
      {
       "output_type": "stream",
       "stream": "stdout",
       "text": [
        " Everybody (Backstreet's Back)\n",
        "28.545179"
       ]
      },
      {
       "output_type": "stream",
       "stream": "stdout",
       "text": [
        " -81.373291\n",
        "Aerosmith"
       ]
      },
      {
       "output_type": "stream",
       "stream": "stdout",
       "text": [
        " I Don't Want To Miss A Thing\n",
        "42.3586"
       ]
      },
      {
       "output_type": "stream",
       "stream": "stdout",
       "text": [
        " -71.0567\n",
        "Public Announcement"
       ]
      },
      {
       "output_type": "stream",
       "stream": "stdout",
       "text": [
        " Body Bumpin (Yippie-Yi-Yo)\n",
        "37.1679"
       ]
      },
      {
       "output_type": "stream",
       "stream": "stdout",
       "text": [
        " -95.845\n",
        "Faith Hill"
       ]
      },
      {
       "output_type": "stream",
       "stream": "stdout",
       "text": [
        " This Kiss\n",
        "32.436064"
       ]
      },
      {
       "output_type": "stream",
       "stream": "stdout",
       "text": [
        " -90.13731\n",
        "Uncle Sam"
       ]
      },
      {
       "output_type": "stream",
       "stream": "stdout",
       "text": [
        " I Don't Ever Want To See You Again\n",
        "42.3586"
       ]
      },
      {
       "output_type": "stream",
       "stream": "stdout",
       "text": [
        " -71.0567\n",
        "Montell Jordan"
       ]
      },
      {
       "output_type": "stream",
       "stream": "stdout",
       "text": [
        " Let's Ride\n",
        "33.973951"
       ]
      },
      {
       "output_type": "stream",
       "stream": "stdout",
       "text": [
        " -118.248405\n",
        "Marcy Playground"
       ]
      },
      {
       "output_type": "stream",
       "stream": "stdout",
       "text": [
        " Sex And Candy\n",
        "40.714269"
       ]
      },
      {
       "output_type": "stream",
       "stream": "stdout",
       "text": [
        " -74.005973\n",
        "Robyn"
       ]
      },
      {
       "output_type": "stream",
       "stream": "stdout",
       "text": [
        " Show Me Love\n",
        "59.3333333"
       ]
      },
      {
       "output_type": "stream",
       "stream": "stdout",
       "text": [
        " 18.05\n",
        "Boyz II Men"
       ]
      },
      {
       "output_type": "stream",
       "stream": "stdout",
       "text": [
        " A Song For Mama\n",
        "39.9523"
       ]
      },
      {
       "output_type": "stream",
       "stream": "stdout",
       "text": [
        " -75.1624\n",
        "Mase"
       ]
      },
      {
       "output_type": "stream",
       "stream": "stdout",
       "text": [
        " What You Want\n",
        "40.8077778"
       ]
      },
      {
       "output_type": "stream",
       "stream": "stdout",
       "text": [
        " -73.9458333\n",
        "Madonna"
       ]
      },
      {
       "output_type": "stream",
       "stream": "stdout",
       "text": [
        " Frozen\n",
        "40.702898"
       ]
      },
      {
       "output_type": "stream",
       "stream": "stdout",
       "text": [
        " -74.010241\n",
        "Wyclef Jean"
       ]
      },
      {
       "output_type": "stream",
       "stream": "stdout",
       "text": [
        " Gone Till November\n",
        "18.5833"
       ]
      },
      {
       "output_type": "stream",
       "stream": "stdout",
       "text": [
        " -72.2333\n",
        "Lsg"
       ]
      },
      {
       "output_type": "stream",
       "stream": "stdout",
       "text": [
        " My Body\n",
        "29.564"
       ]
      },
      {
       "output_type": "stream",
       "stream": "stdout",
       "text": [
        " -95.0245\n",
        "Chumbawamba"
       ]
      },
      {
       "output_type": "stream",
       "stream": "stdout",
       "text": [
        " Tubthumping\n",
        "53.7900308"
       ]
      },
      {
       "output_type": "stream",
       "stream": "stdout",
       "text": [
        " -2.2433543\n",
        "Lord Tariq and Peter Gunz"
       ]
      },
      {
       "output_type": "stream",
       "stream": "stdout",
       "text": [
        " Deja Vu (Uptown Baby)\n",
        "error"
       ]
      },
      {
       "output_type": "stream",
       "stream": "stdout",
       "text": [
        "\n",
        "'N Sync I Want You Back\n",
        "error"
       ]
      },
      {
       "output_type": "stream",
       "stream": "stdout",
       "text": [
        "\n",
        "Five When The Lights Go Out\n",
        "51.5072648"
       ]
      },
      {
       "output_type": "stream",
       "stream": "stdout",
       "text": [
        " -0.1278328\n",
        "Jon B."
       ]
      },
      {
       "output_type": "stream",
       "stream": "stdout",
       "text": [
        " They Don't Know\n",
        "33.786594"
       ]
      },
      {
       "output_type": "stream",
       "stream": "stdout",
       "text": [
        " -118.298662\n",
        "Master P"
       ]
      },
      {
       "output_type": "stream",
       "stream": "stdout",
       "text": [
        " Make Em' Say Uhh!\n",
        "29.9537"
       ]
      },
      {
       "output_type": "stream",
       "stream": "stdout",
       "text": [
        " -90.0777\n",
        "Nicole feat. Missy &quot;Misdemeanor&quot; Elliott and Mocha"
       ]
      },
      {
       "output_type": "stream",
       "stream": "stdout",
       "text": [
        " Make It Hot\n",
        "error"
       ]
      },
      {
       "output_type": "stream",
       "stream": "stdout",
       "text": [
        "\n",
        "All Saints Never Ever\n",
        "51.5063"
       ]
      },
      {
       "output_type": "stream",
       "stream": "stdout",
       "text": [
        " -0.12714\n",
        "Janet"
       ]
      },
      {
       "output_type": "stream",
       "stream": "stdout",
       "text": [
        " I Get Lonely\n",
        "41.590686"
       ]
      },
      {
       "output_type": "stream",
       "stream": "stdout",
       "text": [
        " -87.319937\n",
        "Mase"
       ]
      },
      {
       "output_type": "stream",
       "stream": "stdout",
       "text": [
        " Feel So Good\n",
        "40.8077778"
       ]
      },
      {
       "output_type": "stream",
       "stream": "stdout",
       "text": [
        " -73.9458333\n",
        "Voices Of Theory"
       ]
      },
      {
       "output_type": "stream",
       "stream": "stdout",
       "text": [
        " Say It\n",
        "39.9523"
       ]
      },
      {
       "output_type": "stream",
       "stream": "stdout",
       "text": [
        " -75.1624\n",
        "Billie Myers"
       ]
      },
      {
       "output_type": "stream",
       "stream": "stdout",
       "text": [
        " Kiss The Rain\n",
        "54.0"
       ]
      },
      {
       "output_type": "stream",
       "stream": "stdout",
       "text": [
        " -2.0\n",
        "Puff Daddy"
       ]
      },
      {
       "output_type": "stream",
       "stream": "stdout",
       "text": [
        " Come With Me\n",
        "error"
       ]
      },
      {
       "output_type": "stream",
       "stream": "stdout",
       "text": [
        "\n",
        "Sylk-E Fyne Romeo And Juliet\n",
        "34.0535"
       ]
      },
      {
       "output_type": "stream",
       "stream": "stdout",
       "text": [
        " -118.245\n",
        "Mya and Sisqo"
       ]
      },
      {
       "output_type": "stream",
       "stream": "stdout",
       "text": [
        " It's All About Me\n",
        "error"
       ]
      },
      {
       "output_type": "stream",
       "stream": "stdout",
       "text": [
        "\n",
        "Hanson I Will Come To You\n",
        "36.039147"
       ]
      },
      {
       "output_type": "stream",
       "stream": "stdout",
       "text": [
        " -95.868667\n",
        "Barenaked Ladies"
       ]
      },
      {
       "output_type": "stream",
       "stream": "stdout",
       "text": [
        " One Week\n",
        "43.75"
       ]
      },
      {
       "output_type": "stream",
       "stream": "stdout",
       "text": [
        " -79.2\n",
        "K.P. and Envyi"
       ]
      },
      {
       "output_type": "stream",
       "stream": "stdout",
       "text": [
        " Swing My Way\n",
        "error"
       ]
      },
      {
       "output_type": "stream",
       "stream": "stdout",
       "text": [
        "\n",
        "Xscape The Arms Of The One Who Loves You\n",
        "33.7483"
       ]
      },
      {
       "output_type": "stream",
       "stream": "stdout",
       "text": [
        " -84.3911\n",
        "Somethin' For The People"
       ]
      },
      {
       "output_type": "stream",
       "stream": "stdout",
       "text": [
        " My Love Is The Shhh!\n",
        "34.0535"
       ]
      },
      {
       "output_type": "stream",
       "stream": "stdout",
       "text": [
        " -118.245\n",
        "Tatyana Ali"
       ]
      },
      {
       "output_type": "stream",
       "stream": "stdout",
       "text": [
        " Daydreamin'\n",
        "40.6915"
       ]
      },
      {
       "output_type": "stream",
       "stream": "stdout",
       "text": [
        " -73.5342\n",
        "Dru Hill"
       ]
      },
      {
       "output_type": "stream",
       "stream": "stdout",
       "text": [
        " We're Not Making Love No More\n",
        "39.208888"
       ]
      },
      {
       "output_type": "stream",
       "stream": "stdout",
       "text": [
        " -76.562926\n",
        "Third Eye Blind"
       ]
      },
      {
       "output_type": "stream",
       "stream": "stdout",
       "text": [
        " Semi-Charmed Life\n",
        "37.784827"
       ]
      },
      {
       "output_type": "stream",
       "stream": "stdout",
       "text": [
        " -122.727802\n",
        "Lisa Loeb"
       ]
      },
      {
       "output_type": "stream",
       "stream": "stdout",
       "text": [
        " I Do\n",
        "32.781179"
       ]
      },
      {
       "output_type": "stream",
       "stream": "stdout",
       "text": [
        " -96.790329\n",
        "Mase"
       ]
      },
      {
       "output_type": "stream",
       "stream": "stdout",
       "text": [
        " Lookin' At Me\n",
        "40.8077778"
       ]
      },
      {
       "output_type": "stream",
       "stream": "stdout",
       "text": [
        " -73.9458333\n",
        "LeAnn Rimes"
       ]
      },
      {
       "output_type": "stream",
       "stream": "stdout",
       "text": [
        " Looking Through Your Eyes\n",
        "32.931523"
       ]
      },
      {
       "output_type": "stream",
       "stream": "stdout",
       "text": [
        " -96.615821\n",
        "Divine"
       ]
      },
      {
       "output_type": "stream",
       "stream": "stdout",
       "text": [
        " Lately\n",
        "33.6007"
       ]
      },
      {
       "output_type": "stream",
       "stream": "stdout",
       "text": [
        " -112.283\n",
        "Backstreet Boys"
       ]
      },
      {
       "output_type": "stream",
       "stream": "stdout",
       "text": [
        " Quit Playing Games (With My Heart)\n",
        "28.545179"
       ]
      },
      {
       "output_type": "stream",
       "stream": "stdout",
       "text": [
        " -81.373291\n",
        "Next"
       ]
      },
      {
       "output_type": "stream",
       "stream": "stdout",
       "text": [
        " I Still Love You\n",
        "44.961"
       ]
      },
      {
       "output_type": "stream",
       "stream": "stdout",
       "text": [
        " -93.225253\n",
        "Inoj"
       ]
      },
      {
       "output_type": "stream",
       "stream": "stdout",
       "text": [
        " Time After Time\n",
        "40.7146"
       ]
      },
      {
       "output_type": "stream",
       "stream": "stdout",
       "text": [
        " -74.0071\n",
        "Jimmy Ray"
       ]
      },
      {
       "output_type": "stream",
       "stream": "stdout",
       "text": [
        " Are You Jimmy Ray?\n",
        "37.1679"
       ]
      },
      {
       "output_type": "stream",
       "stream": "stdout",
       "text": [
        " -95.845\n",
        "Ace Of Base"
       ]
      },
      {
       "output_type": "stream",
       "stream": "stdout",
       "text": [
        " Cruel Summer\n",
        "57.7166667"
       ]
      },
      {
       "output_type": "stream",
       "stream": "stdout",
       "text": [
        " 11.9666667\n",
        "Master P"
       ]
      },
      {
       "output_type": "stream",
       "stream": "stdout",
       "text": [
        " I Got The Hook Up!\n",
        "29.9537"
       ]
      },
      {
       "output_type": "stream",
       "stream": "stdout",
       "text": [
        " -90.0777\n",
        "Puff Daddy and The Family"
       ]
      },
      {
       "output_type": "stream",
       "stream": "stdout",
       "text": [
        " Victory\n",
        "error"
       ]
      },
      {
       "output_type": "stream",
       "stream": "stdout",
       "text": [
        "\n",
        "Spice Girls Too Much\n",
        "51.5072648"
       ]
      },
      {
       "output_type": "stream",
       "stream": "stdout",
       "text": [
        " -0.1278328\n",
        "Pras Feat. Ol' Dirty Bastard and Mya"
       ]
      },
      {
       "output_type": "stream",
       "stream": "stdout",
       "text": [
        " Ghetto Supastar (That Is What You Are)\n",
        "error"
       ]
      },
      {
       "output_type": "stream",
       "stream": "stdout",
       "text": [
        "\n",
        "Dru Hill feat. Redman How Deep Is Your Love\n",
        "error"
       ]
      },
      {
       "output_type": "stream",
       "stream": "stdout",
       "text": [
        "\n",
        "Kelly Price Friend Of Mine\n",
        "40.714269"
       ]
      },
      {
       "output_type": "stream",
       "stream": "stdout",
       "text": [
        " -74.005973\n",
        "Busta Rhymes"
       ]
      },
      {
       "output_type": "stream",
       "stream": "stdout",
       "text": [
        " Turn It Up [Remix] / Fire It Up\n",
        "40.714269"
       ]
      },
      {
       "output_type": "stream",
       "stream": "stdout",
       "text": [
        " -74.005973\n",
        "Edwin McCain"
       ]
      },
      {
       "output_type": "stream",
       "stream": "stdout",
       "text": [
        " I'll Be\n",
        "34.848567"
       ]
      },
      {
       "output_type": "stream",
       "stream": "stdout",
       "text": [
        " -82.402871\n",
        "Madonna"
       ]
      },
      {
       "output_type": "stream",
       "stream": "stdout",
       "text": [
        " Ray Of Light\n",
        "40.702898"
       ]
      },
      {
       "output_type": "stream",
       "stream": "stdout",
       "text": [
        " -74.010241\n",
        "Sister Hazel"
       ]
      },
      {
       "output_type": "stream",
       "stream": "stdout",
       "text": [
        " All For You\n",
        "29.652"
       ]
      },
      {
       "output_type": "stream",
       "stream": "stdout",
       "text": [
        " -82.3232\n",
        "Monifah"
       ]
      },
      {
       "output_type": "stream",
       "stream": "stdout",
       "text": [
        " Touch It\n",
        "33.7483"
       ]
      },
      {
       "output_type": "stream",
       "stream": "stdout",
       "text": [
        " -84.3911\n",
        "Lox"
       ]
      },
      {
       "output_type": "stream",
       "stream": "stdout",
       "text": [
        " Money, Power and Respect\n",
        "40.9325"
       ]
      },
      {
       "output_type": "stream",
       "stream": "stdout",
       "text": [
        " -73.8989\n",
        "Verve"
       ]
      },
      {
       "output_type": "stream",
       "stream": "stdout",
       "text": [
        " Bitter Sweet Symphony\n",
        "53.5422"
       ]
      },
      {
       "output_type": "stream",
       "stream": "stdout",
       "text": [
        " -2.64556\n",
        "Busta Rhymes"
       ]
      },
      {
       "output_type": "stream",
       "stream": "stdout",
       "text": [
        " Dangerous\n",
        "40.714269"
       ]
      },
      {
       "output_type": "stream",
       "stream": "stdout",
       "text": [
        " -74.005973\n",
        "Spice Girls"
       ]
      },
      {
       "output_type": "stream",
       "stream": "stdout",
       "text": [
        " Spice Up Your Life\n",
        "51.5072648"
       ]
      },
      {
       "output_type": "stream",
       "stream": "stdout",
       "text": [
        " -0.1278328\n",
        "98 Degrees"
       ]
      },
      {
       "output_type": "stream",
       "stream": "stdout",
       "text": [
        " Because Of You\n",
        "33.973951"
       ]
      },
      {
       "output_type": "stream",
       "stream": "stdout",
       "text": [
        " -118.248405\n",
        "Loreena McKennitt"
       ]
      },
      {
       "output_type": "stream",
       "stream": "stdout",
       "text": [
        " The Mummers' Dance\n",
        "43.366667"
       ]
      },
      {
       "output_type": "stream",
       "stream": "stdout",
       "text": [
        " -80.983333\n",
        "Allure feat. 112"
       ]
      },
      {
       "output_type": "stream",
       "stream": "stdout",
       "text": [
        " All Cried Out\n",
        "error"
       ]
      },
      {
       "output_type": "stream",
       "stream": "stdout",
       "text": [
        "\n",
        "Big Punisher feat. Joe Still Not A Player\n",
        "error"
       ]
      },
      {
       "output_type": "stream",
       "stream": "stdout",
       "text": [
        "\n",
        "Aaliyah The One I Gave My Heart To\n",
        "40.694481"
       ]
      },
      {
       "output_type": "stream",
       "stream": "stdout",
       "text": [
        " -73.989319\n",
        "Jewel"
       ]
      },
      {
       "output_type": "stream",
       "stream": "stdout",
       "text": [
        " Foolish Games / You Were Meant For Me\n",
        "error"
       ]
      },
      {
       "output_type": "stream",
       "stream": "stdout",
       "text": [
        "\n",
        "Inoj Love You Down\n",
        "40.7146"
       ]
      },
      {
       "output_type": "stream",
       "stream": "stdout",
       "text": [
        " -74.0071\n",
        "2Pac"
       ]
      },
      {
       "output_type": "stream",
       "stream": "stdout",
       "text": [
        " Do For Love\n",
        "37.868538"
       ]
      },
      {
       "output_type": "stream",
       "stream": "stdout",
       "text": [
        " -122.50914\n",
        "Luke"
       ]
      },
      {
       "output_type": "stream",
       "stream": "stdout",
       "text": [
        " Raise The Roof\n",
        "38.2589"
       ]
      },
      {
       "output_type": "stream",
       "stream": "stdout",
       "text": [
        " -92.4366\n",
        "Nu Flavor"
       ]
      },
      {
       "output_type": "stream",
       "stream": "stdout",
       "text": [
        " Heaven\n",
        "33.7667"
       ]
      },
      {
       "output_type": "stream",
       "stream": "stdout",
       "text": [
        " -118.192\n",
        "Jd"
       ]
      },
      {
       "output_type": "stream",
       "stream": "stdout",
       "text": [
        " The Party Continues\n",
        "error"
       ]
      },
      {
       "output_type": "stream",
       "stream": "stdout",
       "text": [
        "\n",
        "Missy &quot;Misdemeanor&quot; Elliott feat. Da Brat Sock It 2 Me\n",
        "error"
       ]
      },
      {
       "output_type": "stream",
       "stream": "stdout",
       "text": [
        "\n",
        "Next Butta Love\n",
        "44.961"
       ]
      },
      {
       "output_type": "stream",
       "stream": "stdout",
       "text": [
        " -93.225253\n",
        "Aretha Franklin"
       ]
      },
      {
       "output_type": "stream",
       "stream": "stdout",
       "text": [
        " A Rose Is Still A Rose\n",
        "42.347021"
       ]
      },
      {
       "output_type": "stream",
       "stream": "stdout",
       "text": [
        " -83.060184\n",
        "Boyz II Men"
       ]
      },
      {
       "output_type": "stream",
       "stream": "stdout",
       "text": [
        " 4 Seasons Of Loneliness\n",
        "39.9523"
       ]
      },
      {
       "output_type": "stream",
       "stream": "stdout",
       "text": [
        " -75.1624\n",
        "LL Cool J"
       ]
      },
      {
       "output_type": "stream",
       "stream": "stdout",
       "text": [
        " Father\n",
        "40.7202"
       ]
      },
      {
       "output_type": "stream",
       "stream": "stdout",
       "text": [
        " -73.2492\n",
        "Gerald Levert"
       ]
      },
      {
       "output_type": "stream",
       "stream": "stdout",
       "text": [
        " Thinkin' Bout It\n",
        "41.520052"
       ]
      },
      {
       "output_type": "stream",
       "stream": "stdout",
       "text": [
        " -81.556235\n",
        "Deborah Cox"
       ]
      },
      {
       "output_type": "stream",
       "stream": "stdout",
       "text": [
        " Nobody's Supposed To Be Here\n",
        "43.666667"
       ]
      },
      {
       "output_type": "stream",
       "stream": "stdout",
       "text": [
        " -79.416667\n",
        "TQ"
       ]
      },
      {
       "output_type": "stream",
       "stream": "stdout",
       "text": [
        " Westside\n",
        "33.8953"
       ]
      },
      {
       "output_type": "stream",
       "stream": "stdout",
       "text": [
        " -118.224\n",
        "Cher"
       ]
      },
      {
       "output_type": "stream",
       "stream": "stdout",
       "text": [
        " Believe\n",
        "33.973951"
       ]
      },
      {
       "output_type": "stream",
       "stream": "stdout",
       "text": [
        " -118.248405\n",
        "TLC"
       ]
      },
      {
       "output_type": "stream",
       "stream": "stdout",
       "text": [
        " No Scrubs\n",
        "33.844371"
       ]
      },
      {
       "output_type": "stream",
       "stream": "stdout",
       "text": [
        " -84.47405\n",
        "Monica"
       ]
      },
      {
       "output_type": "stream",
       "stream": "stdout",
       "text": [
        " Angel Of Mine\n",
        "33.844371"
       ]
      },
      {
       "output_type": "stream",
       "stream": "stdout",
       "text": [
        " -84.47405\n",
        "Whitney Houston"
       ]
      },
      {
       "output_type": "stream",
       "stream": "stdout",
       "text": [
        " Heartbreak Hotel\n",
        "40.736101"
       ]
      },
      {
       "output_type": "stream",
       "stream": "stdout",
       "text": [
        " -74.22509\n",
        "Britney Spears"
       ]
      },
      {
       "output_type": "stream",
       "stream": "stdout",
       "text": [
        " ...Baby One More Time\n",
        "30.814466"
       ]
      },
      {
       "output_type": "stream",
       "stream": "stdout",
       "text": [
        " -90.428043\n",
        "Sixpence None The Richer"
       ]
      },
      {
       "output_type": "stream",
       "stream": "stdout",
       "text": [
        " Kiss Me\n",
        "29.6989"
       ]
      },
      {
       "output_type": "stream",
       "stream": "stdout",
       "text": [
        " -98.1209\n",
        "Christina Aguilera"
       ]
      },
      {
       "output_type": "stream",
       "stream": "stdout",
       "text": [
        " Genie In A Bottle\n",
        "40.623632"
       ]
      },
      {
       "output_type": "stream",
       "stream": "stdout",
       "text": [
        " -74.093323\n",
        "Sugar Ray"
       ]
      },
      {
       "output_type": "stream",
       "stream": "stdout",
       "text": [
        " Every Morning\n",
        "33.6166"
       ]
      },
      {
       "output_type": "stream",
       "stream": "stdout",
       "text": [
        " -117.93\n",
        "Deborah Cox"
       ]
      },
      {
       "output_type": "stream",
       "stream": "stdout",
       "text": [
        " Nobody's Supposed To Be Here\n",
        "43.666667"
       ]
      },
      {
       "output_type": "stream",
       "stream": "stdout",
       "text": [
        " -79.416667\n",
        "Ricky Martin"
       ]
      },
      {
       "output_type": "stream",
       "stream": "stdout",
       "text": [
        " Livin' La Vida Loca\n",
        "18.4662"
       ]
      },
      {
       "output_type": "stream",
       "stream": "stdout",
       "text": [
        " -66.1067\n",
        "702"
       ]
      },
      {
       "output_type": "stream",
       "stream": "stdout",
       "text": [
        " Where My Girls At?\n",
        "36.1719"
       ]
      },
      {
       "output_type": "stream",
       "stream": "stdout",
       "text": [
        " -115.14\n",
        "Jennifer Lopez"
       ]
      },
      {
       "output_type": "stream",
       "stream": "stdout",
       "text": [
        " If You Had My Love\n",
        "42.1497"
       ]
      },
      {
       "output_type": "stream",
       "stream": "stdout",
       "text": [
        " -74.9384\n",
        "Goo Goo Dolls"
       ]
      },
      {
       "output_type": "stream",
       "stream": "stdout",
       "text": [
        " Slide\n",
        "42.8854"
       ]
      },
      {
       "output_type": "stream",
       "stream": "stdout",
       "text": [
        " -78.8785\n",
        "Brandy"
       ]
      },
      {
       "output_type": "stream",
       "stream": "stdout",
       "text": [
        " Have You Ever?\n",
        "31.2436111"
       ]
      },
      {
       "output_type": "stream",
       "stream": "stdout",
       "text": [
        " -90.4530556\n",
        "Backstreet Boys"
       ]
      },
      {
       "output_type": "stream",
       "stream": "stdout",
       "text": [
        " I Want It That Way\n",
        "28.545179"
       ]
      },
      {
       "output_type": "stream",
       "stream": "stdout",
       "text": [
        " -81.373291\n",
        "R. Kelly and Celine Dion"
       ]
      },
      {
       "output_type": "stream",
       "stream": "stdout",
       "text": [
        " I'm Your Angel\n",
        "error"
       ]
      },
      {
       "output_type": "stream",
       "stream": "stdout",
       "text": [
        "\n",
        "Smash Mouth All Star\n",
        "37.189396"
       ]
      },
      {
       "output_type": "stream",
       "stream": "stdout",
       "text": [
        " -121.705327\n",
        "Sarah McLachlan"
       ]
      },
      {
       "output_type": "stream",
       "stream": "stdout",
       "text": [
        " Angel\n",
        "44.65"
       ]
      },
      {
       "output_type": "stream",
       "stream": "stdout",
       "text": [
        " -63.6\n",
        "Santana feat. Rob Thomas"
       ]
      },
      {
       "output_type": "stream",
       "stream": "stdout",
       "text": [
        " Smooth\n",
        "error"
       ]
      },
      {
       "output_type": "stream",
       "stream": "stdout",
       "text": [
        "\n",
        "TLC Unpretty\n",
        "33.844371"
       ]
      },
      {
       "output_type": "stream",
       "stream": "stdout",
       "text": [
        " -84.47405\n",
        "Destiny's Child"
       ]
      },
      {
       "output_type": "stream",
       "stream": "stdout",
       "text": [
        " Bills, Bills, Bills\n",
        "29.7605"
       ]
      },
      {
       "output_type": "stream",
       "stream": "stdout",
       "text": [
        " -95.3698\n",
        "Eagle-Eye Cherry"
       ]
      },
      {
       "output_type": "stream",
       "stream": "stdout",
       "text": [
        " Save Tonight\n",
        "59.3322"
       ]
      },
      {
       "output_type": "stream",
       "stream": "stdout",
       "text": [
        " 18.0624\n",
        "Pearl Jam"
       ]
      },
      {
       "output_type": "stream",
       "stream": "stdout",
       "text": [
        " Last Kiss\n",
        "47.60621"
       ]
      },
      {
       "output_type": "stream",
       "stream": "stdout",
       "text": [
        " -122.332071\n",
        "Maxwell"
       ]
      },
      {
       "output_type": "stream",
       "stream": "stdout",
       "text": [
        " Fortunate\n",
        "40.6551"
       ]
      },
      {
       "output_type": "stream",
       "stream": "stdout",
       "text": [
        " -73.9489\n",
        "Backstreet Boys"
       ]
      },
      {
       "output_type": "stream",
       "stream": "stdout",
       "text": [
        " All I Have To Give\n",
        "28.545179"
       ]
      },
      {
       "output_type": "stream",
       "stream": "stdout",
       "text": [
        " -81.373291\n",
        "Enrique Iglesias"
       ]
      },
      {
       "output_type": "stream",
       "stream": "stdout",
       "text": [
        " Bailamos\n",
        "25.779808"
       ]
      },
      {
       "output_type": "stream",
       "stream": "stdout",
       "text": [
        " -80.1532\n",
        "Busta Rhymes feat. Janet"
       ]
      },
      {
       "output_type": "stream",
       "stream": "stdout",
       "text": [
        " What's It Gonna Be?!\n",
        "error"
       ]
      },
      {
       "output_type": "stream",
       "stream": "stdout",
       "text": [
        "\n",
        "Everlast What It's Like\n",
        "40.664"
       ]
      },
      {
       "output_type": "stream",
       "stream": "stdout",
       "text": [
        " -73.7085\n",
        "Lenny Kravitz"
       ]
      },
      {
       "output_type": "stream",
       "stream": "stdout",
       "text": [
        " Fly Away\n",
        "40.714269"
       ]
      },
      {
       "output_type": "stream",
       "stream": "stdout",
       "text": [
        " -74.005973\n",
        "Sugar Ray"
       ]
      },
      {
       "output_type": "stream",
       "stream": "stdout",
       "text": [
        " Someday\n",
        "33.6166"
       ]
      },
      {
       "output_type": "stream",
       "stream": "stdout",
       "text": [
        " -117.93\n",
        "Divine"
       ]
      },
      {
       "output_type": "stream",
       "stream": "stdout",
       "text": [
        " Lately\n",
        "33.6007"
       ]
      },
      {
       "output_type": "stream",
       "stream": "stdout",
       "text": [
        " -112.283\n",
        "Shania Twain"
       ]
      },
      {
       "output_type": "stream",
       "stream": "stdout",
       "text": [
        " That Don't Impress Me Much\n",
        "42.333333"
       ]
      },
      {
       "output_type": "stream",
       "stream": "stdout",
       "text": [
        " -83.033333\n",
        "Will Smith feat. Dru Hill and Kool Moe Dee"
       ]
      },
      {
       "output_type": "stream",
       "stream": "stdout",
       "text": [
        " Wild Wild West\n",
        "error"
       ]
      },
      {
       "output_type": "stream",
       "stream": "stdout",
       "text": [
        "\n",
        "Red Hot Chili Peppers Scar Tissue\n",
        "error"
       ]
      },
      {
       "output_type": "stream",
       "stream": "stdout",
       "text": [
        "\n",
        "Mariah Carey feat. Jay-Z Heartbreaker\n",
        "error"
       ]
      },
      {
       "output_type": "stream",
       "stream": "stdout",
       "text": [
        "\n",
        "Mariah Carey I Still Believe\n",
        "40.714269"
       ]
      },
      {
       "output_type": "stream",
       "stream": "stdout",
       "text": [
        " -74.005973\n",
        "98 Degrees"
       ]
      },
      {
       "output_type": "stream",
       "stream": "stdout",
       "text": [
        " The Hardest Thing\n",
        "33.973951"
       ]
      },
      {
       "output_type": "stream",
       "stream": "stdout",
       "text": [
        " -118.248405\n",
        "LFO"
       ]
      },
      {
       "output_type": "stream",
       "stream": "stdout",
       "text": [
        " Summer Girls\n",
        "error"
       ]
      },
      {
       "output_type": "stream",
       "stream": "stdout",
       "text": [
        "\n",
        "Jay-Z feat. Amil (Of Major Coinz) and Ja Can I Get A...\n",
        "error"
       ]
      },
      {
       "output_type": "stream",
       "stream": "stdout",
       "text": [
        "\n",
        "Third Eye Blind Jumper\n",
        "37.784827"
       ]
      },
      {
       "output_type": "stream",
       "stream": "stdout",
       "text": [
        " -122.727802\n",
        "Lauryn Hill"
       ]
      },
      {
       "output_type": "stream",
       "stream": "stdout",
       "text": [
        " Doo Wop (That Thing)\n",
        "40.745772"
       ]
      },
      {
       "output_type": "stream",
       "stream": "stdout",
       "text": [
        " -74.267541\n",
        "Lou Bega"
       ]
      },
      {
       "output_type": "stream",
       "stream": "stdout",
       "text": [
        " Mambo No. 5 (A Little Bit Of...)\n",
        "48.15"
       ]
      },
      {
       "output_type": "stream",
       "stream": "stdout",
       "text": [
        " 11.5833333\n",
        "Tyrese"
       ]
      },
      {
       "output_type": "stream",
       "stream": "stdout",
       "text": [
        " Sweet Lady\n",
        "33.973951"
       ]
      },
      {
       "output_type": "stream",
       "stream": "stdout",
       "text": [
        " -118.248405\n",
        "Whitney Houston"
       ]
      },
      {
       "output_type": "stream",
       "stream": "stdout",
       "text": [
        " It's Not Right But It's Okay\n",
        "40.736101"
       ]
      },
      {
       "output_type": "stream",
       "stream": "stdout",
       "text": [
        " -74.22509\n",
        "'N Sync"
       ]
      },
      {
       "output_type": "stream",
       "stream": "stdout",
       "text": [
        " (God Must Have Spent) A Little More Time On You\n",
        "error"
       ]
      },
      {
       "output_type": "stream",
       "stream": "stdout",
       "text": [
        "\n",
        "Shawn Mullins Lullaby\n",
        "33.7483"
       ]
      },
      {
       "output_type": "stream",
       "stream": "stdout",
       "text": [
        " -84.3911\n",
        "112 feat. Lil' Zane"
       ]
      },
      {
       "output_type": "stream",
       "stream": "stdout",
       "text": [
        " Anywhere\n",
        "error"
       ]
      },
      {
       "output_type": "stream",
       "stream": "stdout",
       "text": [
        "\n",
        "K-Ci and JoJo Tell Me It's Real\n",
        "error"
       ]
      },
      {
       "output_type": "stream",
       "stream": "stdout",
       "text": [
        "\n",
        "Matchbox 20 Back 2 Good\n",
        "error"
       ]
      },
      {
       "output_type": "stream",
       "stream": "stdout",
       "text": [
        "\n",
        "Blaque 808\n",
        "33.7483"
       ]
      },
      {
       "output_type": "stream",
       "stream": "stdout",
       "text": [
        " -84.3911\n",
        "Tal Bachman"
       ]
      },
      {
       "output_type": "stream",
       "stream": "stdout",
       "text": [
        " She's So High\n",
        "49.883333"
       ]
      },
      {
       "output_type": "stream",
       "stream": "stdout",
       "text": [
        " -97.166667\n",
        "Ricky Martin"
       ]
      },
      {
       "output_type": "stream",
       "stream": "stdout",
       "text": [
        " She's All I Ever Had\n",
        "18.4662"
       ]
      },
      {
       "output_type": "stream",
       "stream": "stdout",
       "text": [
        " -66.1067\n",
        "Will Smith"
       ]
      },
      {
       "output_type": "stream",
       "stream": "stdout",
       "text": [
        " Miami\n",
        "34.0535"
       ]
      },
      {
       "output_type": "stream",
       "stream": "stdout",
       "text": [
        " -118.245\n",
        "Jewel"
       ]
      },
      {
       "output_type": "stream",
       "stream": "stdout",
       "text": [
        " Hands\n",
        "59.6425"
       ]
      },
      {
       "output_type": "stream",
       "stream": "stdout",
       "text": [
        " -151.54833\n",
        "JT Money feat. Sole"
       ]
      },
      {
       "output_type": "stream",
       "stream": "stdout",
       "text": [
        " Who Dat\n",
        "error"
       ]
      },
      {
       "output_type": "stream",
       "stream": "stdout",
       "text": [
        "\n",
        "Tim McGraw Please Remember Me\n",
        "32.45764"
       ]
      },
      {
       "output_type": "stream",
       "stream": "stdout",
       "text": [
        " -91.49317\n",
        "Shania Twain"
       ]
      },
      {
       "output_type": "stream",
       "stream": "stdout",
       "text": [
        " From This Moment On\n",
        "42.333333"
       ]
      },
      {
       "output_type": "stream",
       "stream": "stdout",
       "text": [
        " -83.033333\n",
        "Faith Evans"
       ]
      },
      {
       "output_type": "stream",
       "stream": "stdout",
       "text": [
        " Love Like This\n",
        "40.736101"
       ]
      },
      {
       "output_type": "stream",
       "stream": "stdout",
       "text": [
        " -74.22509\n",
        "Jesse Powell"
       ]
      },
      {
       "output_type": "stream",
       "stream": "stdout",
       "text": [
        " You\n",
        "41.603"
       ]
      },
      {
       "output_type": "stream",
       "stream": "stdout",
       "text": [
        " -87.3372\n",
        "Total feat. Missy Elliott"
       ]
      },
      {
       "output_type": "stream",
       "stream": "stdout",
       "text": [
        " Trippin'\n",
        "error"
       ]
      },
      {
       "output_type": "stream",
       "stream": "stdout",
       "text": [
        "\n",
        "Silk If You (Lovin' Me)\n",
        "33.844371"
       ]
      },
      {
       "output_type": "stream",
       "stream": "stdout",
       "text": [
        " -84.47405\n",
        "Lauryn Hill"
       ]
      },
      {
       "output_type": "stream",
       "stream": "stdout",
       "text": [
        " Ex-Factor\n",
        "40.745772"
       ]
      },
      {
       "output_type": "stream",
       "stream": "stdout",
       "text": [
        " -74.267541\n",
        "Jordan Knight"
       ]
      },
      {
       "output_type": "stream",
       "stream": "stdout",
       "text": [
        " Give It To You\n",
        "42.265275"
       ]
      },
      {
       "output_type": "stream",
       "stream": "stdout",
       "text": [
        " -71.879415\n",
        "Goo Goo Dolls"
       ]
      },
      {
       "output_type": "stream",
       "stream": "stdout",
       "text": [
        " Black Balloon\n",
        "42.8854"
       ]
      },
      {
       "output_type": "stream",
       "stream": "stdout",
       "text": [
        " -78.8785\n",
        "Eric Benet feat. Tamia"
       ]
      },
      {
       "output_type": "stream",
       "stream": "stdout",
       "text": [
        " Spend My Life With You\n",
        "error"
       ]
      },
      {
       "output_type": "stream",
       "stream": "stdout",
       "text": [
        "\n",
        "Dru Hill These Are The Times\n",
        "39.208888"
       ]
      },
      {
       "output_type": "stream",
       "stream": "stdout",
       "text": [
        " -76.562926\n",
        "Mark Chesnutt"
       ]
      },
      {
       "output_type": "stream",
       "stream": "stdout",
       "text": [
        " I Don't Want To Miss A Thing\n",
        "30.0861"
       ]
      },
      {
       "output_type": "stream",
       "stream": "stdout",
       "text": [
        " -94.1016\n",
        "98 Degrees"
       ]
      },
      {
       "output_type": "stream",
       "stream": "stdout",
       "text": [
        " I Do (Cherish You)\n",
        "33.973951"
       ]
      },
      {
       "output_type": "stream",
       "stream": "stdout",
       "text": [
        " -118.248405\n",
        "98 Degrees"
       ]
      },
      {
       "output_type": "stream",
       "stream": "stdout",
       "text": [
        " Because Of You\n",
        "33.973951"
       ]
      },
      {
       "output_type": "stream",
       "stream": "stdout",
       "text": [
        " -118.248405\n",
        "Sarah McLachlan"
       ]
      },
      {
       "output_type": "stream",
       "stream": "stdout",
       "text": [
        " I Will Remember You (Live)\n",
        "44.65"
       ]
      },
      {
       "output_type": "stream",
       "stream": "stdout",
       "text": [
        " -63.6\n",
        "Chante Moore"
       ]
      },
      {
       "output_type": "stream",
       "stream": "stdout",
       "text": [
        " Chante's Got A Man\n",
        "33.973951"
       ]
      },
      {
       "output_type": "stream",
       "stream": "stdout",
       "text": [
        " -118.248405\n",
        "Case"
       ]
      },
      {
       "output_type": "stream",
       "stream": "stdout",
       "text": [
        " Happily Ever After\n",
        "40.714269"
       ]
      },
      {
       "output_type": "stream",
       "stream": "stdout",
       "text": [
        " -74.005973\n",
        "Whitney Houston"
       ]
      },
      {
       "output_type": "stream",
       "stream": "stdout",
       "text": [
        " My Love Is Your Love\n",
        "40.736101"
       ]
      },
      {
       "output_type": "stream",
       "stream": "stdout",
       "text": [
        " -74.22509\n",
        "Faith Evans feat. Puff Daddy"
       ]
      },
      {
       "output_type": "stream",
       "stream": "stdout",
       "text": [
        " All Night Long\n",
        "error"
       ]
      },
      {
       "output_type": "stream",
       "stream": "stdout",
       "text": [
        "\n",
        "Juvenile feat. Mannie Fresh and Lil' Wayne Back That Thang Up\n",
        "error"
       ]
      },
      {
       "output_type": "stream",
       "stream": "stdout",
       "text": [
        "\n",
        "Brandy Almost Doesn't Count\n",
        "31.2436111"
       ]
      },
      {
       "output_type": "stream",
       "stream": "stdout",
       "text": [
        " -90.4530556\n",
        "Shania Twain"
       ]
      },
      {
       "output_type": "stream",
       "stream": "stdout",
       "text": [
        " Man! I Feel Like A Woman!\n",
        "42.333333"
       ]
      },
      {
       "output_type": "stream",
       "stream": "stdout",
       "text": [
        " -83.033333\n",
        "Len"
       ]
      },
      {
       "output_type": "stream",
       "stream": "stdout",
       "text": [
        " Steal My Sunshine\n",
        "43.6486"
       ]
      },
      {
       "output_type": "stream",
       "stream": "stdout",
       "text": [
        " -79.3853\n",
        "Marc Anthony"
       ]
      },
      {
       "output_type": "stream",
       "stream": "stdout",
       "text": [
        " I Need To Know\n",
        "40.714269"
       ]
      },
      {
       "output_type": "stream",
       "stream": "stdout",
       "text": [
        " -74.005973\n",
        "Ginuwine"
       ]
      },
      {
       "output_type": "stream",
       "stream": "stdout",
       "text": [
        " So Anxious\n",
        "38.8991"
       ]
      },
      {
       "output_type": "stream",
       "stream": "stdout",
       "text": [
        " -77.029\n",
        "Case and Joe"
       ]
      },
      {
       "output_type": "stream",
       "stream": "stdout",
       "text": [
        " Faded Pictures\n",
        "error"
       ]
      },
      {
       "output_type": "stream",
       "stream": "stdout",
       "text": [
        "\n",
        "Brian McKnight Back At One\n",
        "42.8854"
       ]
      },
      {
       "output_type": "stream",
       "stream": "stdout",
       "text": [
        " -78.8785\n",
        "R. Kelly"
       ]
      },
      {
       "output_type": "stream",
       "stream": "stdout",
       "text": [
        " When A Woman's Fed Up\n",
        "41.850033"
       ]
      },
      {
       "output_type": "stream",
       "stream": "stdout",
       "text": [
        " -87.650052\n",
        "Kenny Chesney"
       ]
      },
      {
       "output_type": "stream",
       "stream": "stdout",
       "text": [
        " How Forever Feels\n",
        "36.15369"
       ]
      },
      {
       "output_type": "stream",
       "stream": "stdout",
       "text": [
        " -83.78241\n",
        "Lonestar"
       ]
      },
      {
       "output_type": "stream",
       "stream": "stdout",
       "text": [
        " Amazed\n",
        "36.165688"
       ]
      },
      {
       "output_type": "stream",
       "stream": "stdout",
       "text": [
        " -86.778098\n",
        "Britney Spears"
       ]
      },
      {
       "output_type": "stream",
       "stream": "stdout",
       "text": [
        " Sometimes\n",
        "30.814466"
       ]
      },
      {
       "output_type": "stream",
       "stream": "stdout",
       "text": [
        " -90.428043\n",
        "Mo Thugs Family feat. Bone Thugs-N-Harmony"
       ]
      },
      {
       "output_type": "stream",
       "stream": "stdout",
       "text": [
        " Ghetto Cowboy\n",
        "error"
       ]
      },
      {
       "output_type": "stream",
       "stream": "stdout",
       "text": [
        "\n",
        "Fastball Out Of My Head\n",
        "30.326374"
       ]
      },
      {
       "output_type": "stream",
       "stream": "stdout",
       "text": [
        " -97.771258\n",
        "Jay-Z"
       ]
      },
      {
       "output_type": "stream",
       "stream": "stdout",
       "text": [
        " Hard Knock Life (Ghetto Anthem)\n",
        "40.694481"
       ]
      },
      {
       "output_type": "stream",
       "stream": "stdout",
       "text": [
        " -73.989319\n",
        "Naughty By Nature feat. Zhane"
       ]
      },
      {
       "output_type": "stream",
       "stream": "stdout",
       "text": [
        " Jamboree\n",
        "error"
       ]
      },
      {
       "output_type": "stream",
       "stream": "stdout",
       "text": [
        "\n",
        "BLACKstreet and Mya feat. Mase and Blinky Blink Take Me There\n",
        "error"
       ]
      },
      {
       "output_type": "stream",
       "stream": "stdout",
       "text": [
        "\n",
        "Joey McIntyre Stay The Same\n",
        "42.180048"
       ]
      },
      {
       "output_type": "stream",
       "stream": "stdout",
       "text": [
        " -71.08923\n",
        "Jo Dee Messina"
       ]
      },
      {
       "output_type": "stream",
       "stream": "stdout",
       "text": [
        " Lesson In Leavin'\n",
        "42.2002"
       ]
      },
      {
       "output_type": "stream",
       "stream": "stdout",
       "text": [
        " -71.4242\n",
        "Goo Goo Dolls"
       ]
      },
      {
       "output_type": "stream",
       "stream": "stdout",
       "text": [
        " Iris\n",
        "42.8854"
       ]
      },
      {
       "output_type": "stream",
       "stream": "stdout",
       "text": [
        " -78.8785\n",
        "Puff Daddy feat. R. Kelly"
       ]
      },
      {
       "output_type": "stream",
       "stream": "stdout",
       "text": [
        " Satisfy You\n",
        "error"
       ]
      },
      {
       "output_type": "stream",
       "stream": "stdout",
       "text": [
        "\n",
        "Citizen King Better Days (And The Bottom Drops Out)\n",
        "43.0418"
       ]
      },
      {
       "output_type": "stream",
       "stream": "stdout",
       "text": [
        " -87.9068\n",
        "'N Sync and Gloria Estefan"
       ]
      },
      {
       "output_type": "stream",
       "stream": "stdout",
       "text": [
        " Music Of My Heart\n",
        "error"
       ]
      },
      {
       "output_type": "stream",
       "stream": "stdout",
       "text": [
        "\n",
        "George Strait Write This Down\n",
        "29.059014"
       ]
      },
      {
       "output_type": "stream",
       "stream": "stdout",
       "text": [
        " -98.63756\n",
        "Whitney Houston and Mariah Carey"
       ]
      },
      {
       "output_type": "stream",
       "stream": "stdout",
       "text": [
        " When You Believe\n",
        "error"
       ]
      },
      {
       "output_type": "stream",
       "stream": "stdout",
       "text": [
        "\n",
        "Alabama feat. 'N Sync God Must Have Spent A Little More Time On You\n",
        "error"
       ]
      },
      {
       "output_type": "stream",
       "stream": "stdout",
       "text": [
        "\n"
       ]
      }
     ],
     "prompt_number": 3
    },
    {
     "cell_type": "code",
     "collapsed": false,
     "input": [
      "from pyechonest import song\n",
      "rkp_results = song.search(artist='Roberta Flack', title='Killing Me Softly With His Song')\n",
      "karma_police = rkp_results[0]\n",
      "print karma_police.artist_location\n",
      "lat = karma_police.artist_location['latitude']\n",
      "lng = karma_police.artist_location['longitude']\n",
      "print lat,lng\n",
      "print 'tempo:',karma_police.audio_summary['tempo'],'duration:',karma_police.audio_summary['duration']"
     ],
     "language": "python",
     "metadata": {},
     "outputs": [
      {
       "output_type": "stream",
       "stream": "stdout",
       "text": [
        "{u'latitude': 35.6181, u'location': u'Black Mountain, NC, US', u'longitude': -82.3205}\n",
        "35.6181 -82.3205\n",
        "tempo: "
       ]
      },
      {
       "output_type": "stream",
       "stream": "stdout",
       "text": [
        "121.364 duration: 282.48771\n"
       ]
      }
     ],
     "prompt_number": 6
    },
    {
     "cell_type": "markdown",
     "metadata": {},
     "source": [
      "## Gather weekly data from http://www.billboard.com/charts/hot-100/1958-08-09\n",
      "---"
     ]
    },
    {
     "cell_type": "code",
     "collapsed": false,
     "input": [
      "start_date = datetime.date(1978,12,23)\n",
      "end_date = datetime.date(2015,3,14)\n",
      "week = datetime.timedelta(weeks=1)\n",
      "\n",
      "while start_date != end_date:\n",
      "    \n",
      "    file_name = 'weekly/' + start_date.isoformat() + '.csv'\n",
      "    fp = open(file_name,'w')\n",
      "    f = csv.writer(fp, delimiter=',')\n",
      "    f.writerow(['rank','song_name','artist'])\n",
      "    \n",
      "    base_url = 'http://www.billboard.com/charts/hot-100/'\n",
      "    url = base_url + start_date.isoformat()\n",
      "    \n",
      "    r = requests.get(url)\n",
      "    dom = web.Element(r.text)    \n",
      "    \n",
      "    for e in dom.by_class('chart-row'):        \n",
      "        rank = e.by_class('row-rank')[0].by_class('this-week')[0].content\n",
      "        name = e.by_class('row-title')[0].by_tag('h2')[0].content\n",
      "        try:\n",
      "            artist = e.by_class('row-title')[0].by_tag('h3')[0].by_tag('a')[0].content\n",
      "        except:\n",
      "            artist = e.by_class('row-title')[0].by_tag('h3')[0].content\n",
      "\n",
      "        parser = HTMLParser()\n",
      "        name = parser.unescape(' '.join(name.split()))\n",
      "        artist = parser.unescape(' '.join(artist.split()))\n",
      "        \n",
      "        try:\n",
      "            f.writerow([rank, name, artist])   \n",
      "        except:\n",
      "            f.writerow(['','',''])\n",
      "    \n",
      "    start_date = start_date + week"
     ],
     "language": "python",
     "metadata": {},
     "outputs": []
    },
    {
     "cell_type": "markdown",
     "metadata": {},
     "source": [
      "## Calculate echonest parameters\n",
      "---"
     ]
    },
    {
     "cell_type": "code",
     "collapsed": false,
     "input": [
      "start_date = datetime.date(1958,8,9)\n",
      "end_date = datetime.date(2015,3,14)\n",
      "week = datetime.timedelta(weeks=1)\n",
      "\n",
      "while start_date != end_date:\n",
      "        \n",
      "    write_file_name = 'weekly/param/' + start_date.isoformat() + '_param.csv'\n",
      "\n",
      "    fp = open(write_file_name,'w')\n",
      "    f = csv.writer(fp, delimiter=',')\n",
      "\n",
      "    headings = ['rank', 'song_name', 'artist', 'latitude', 'longitude', 'acousticness', 'danceability', 'duration', 'energy', 'key', 'liveness', 'loudness', 'mode', 'speechiness', 'tempo', 'time_signature', 'valence']\n",
      "    f.writerow(headings)\n",
      "    \n",
      "    read_file_name = 'weekly/' + start_date.isoformat() + '.csv'\n",
      "    \n",
      "    rank = 0\n",
      "    \n",
      "    with open(read_file_name,'rb') as csvfile:        \n",
      "        \n",
      "        song_reader = csv.reader(csvfile, delimiter = ',')\n",
      "\n",
      "        for row in song_reader:\n",
      "            if not rank:\n",
      "                rank = rank + 1\n",
      "                continue\n",
      "                \n",
      "            try:                   \n",
      "                row[1],row[2] = row[2],row[1]\n",
      "                print row[1],row[2]\n",
      "                rkp_results = song.search(artist=row[1], title=row[2])\n",
      "                lat = rkp_results[0].artist_location['latitude']\n",
      "                lng = rkp_results[0].artist_location['longitude']\n",
      "                print lat,lng\n",
      "                f.writerow([rank, row[2], row[1], lat, lng, rkp_results[0].audio_summary['acousticness'], rkp_results[0].audio_summary['danceability'], rkp_results[0].audio_summary['duration'], rkp_results[0].audio_summary['energy'], rkp_results[0].audio_summary['key'], rkp_results[0].audio_summary['liveness'], rkp_results[0].audio_summary['loudness'], rkp_results[0].audio_summary['mode'], rkp_results[0].audio_summary['speechiness'], rkp_results[0].audio_summary['tempo'], rkp_results[0].audio_summary['time_signature'], rkp_results[0].audio_summary['valence']]) \n",
      "                rank = rank + 1\n",
      "\n",
      "            except:\n",
      "                f.writerow([rank, row[2], row[1]])\n",
      "                rank = rank + 1\n",
      "                print 'error'\n",
      "                continue\n",
      "                \n",
      "    start_date = start_date + week"
     ],
     "language": "python",
     "metadata": {},
     "outputs": []
    }
   ],
   "metadata": {}
  }
 ]
}