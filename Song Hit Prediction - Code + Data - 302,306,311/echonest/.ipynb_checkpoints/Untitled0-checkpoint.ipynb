{
 "metadata": {
  "name": "",
  "signature": "sha256:930647db6987eb286bcddda31c301e9b1610368b4f70cef3d33ffb28d1894b94"
 },
 "nbformat": 3,
 "nbformat_minor": 0,
 "worksheets": [
  {
   "cells": [
    {
     "cell_type": "markdown",
     "metadata": {},
     "source": [
      "## Import libraries and set key"
     ]
    },
    {
     "cell_type": "code",
     "collapsed": false,
     "input": [
      "from pyechonest import config\n",
      "config.ECHO_NEST_API_KEY=\"ZZYYO7TXKOLXEUN9N\""
     ],
     "language": "python",
     "metadata": {},
     "outputs": [],
     "prompt_number": 6
    },
    {
     "cell_type": "code",
     "collapsed": false,
     "input": [
      "import csv\n",
      "from pyechonest import song\n",
      "from pyechonest import track\n",
      "import time\n",
      "\n",
      "\n",
      "fp = open('param/1947_param.csv','w')\n",
      "f = csv.writer(fp, delimiter=',')\n",
      "\n",
      "headings = [['song_name', 'artist', 'acousticness', 'danceability', 'duration', 'energy', 'key', 'liveness', 'loudness', 'mode', 'speechiness', 'tempo', 'time_signature', 'valence']]\n",
      "f.writerows(headings)\n",
      "\n",
      "with open('1947.csv','rb') as csvfile:\n",
      "    song_reader = csv.reader(csvfile, delimiter = ',')     \n",
      "    \n",
      "    for row in song_reader:\n",
      "        try:   \n",
      "            print row[1],row[2]\n",
      "            rkp_results = song.search(artist=row[1], title=row[2])\n",
      "            f.writerow([row[2], row[1], rkp_results[0].audio_summary['acousticness'], rkp_results[0].audio_summary['danceability'], rkp_results[0].audio_summary['duration'], rkp_results[0].audio_summary['energy'], rkp_results[0].audio_summary['key'], rkp_results[0].audio_summary['liveness'], rkp_results[0].audio_summary['loudness'], rkp_results[0].audio_summary['mode'], rkp_results[0].audio_summary['speechiness'], rkp_results[0].audio_summary['tempo'], rkp_results[0].audio_summary['time_signature'], rkp_results[0].audio_summary['valence']]) \n",
      "            time.sleep(0.5)\n",
      "            \n",
      "        except:\n",
      "            print 'error'\n",
      "            continue"
     ],
     "language": "python",
     "metadata": {},
     "outputs": [
      {
       "output_type": "stream",
       "stream": "stdout",
       "text": [
        "Francis Craig Near You\n",
        "Harmonicats"
       ]
      },
      {
       "output_type": "stream",
       "stream": "stdout",
       "text": [
        " Peg O' My Heart\n",
        "Ted Weems"
       ]
      },
      {
       "output_type": "stream",
       "stream": "stdout",
       "text": [
        " Heartaches\n",
        "Ray Noble and Buddy Clark"
       ]
      },
      {
       "output_type": "stream",
       "stream": "stdout",
       "text": [
        " Linda\n",
        "Tex Williams"
       ]
      },
      {
       "output_type": "stream",
       "stream": "stdout",
       "text": [
        " Smoke, Smoke, Smoke That Cigarette\n",
        "Vaughn Monroe"
       ]
      },
      {
       "output_type": "stream",
       "stream": "stdout",
       "text": [
        " I Wish I Didn't Love You So\n",
        "Three Suns"
       ]
      },
      {
       "output_type": "stream",
       "stream": "stdout",
       "text": [
        " Peg O' My Heart\n",
        "Al Jolson"
       ]
      },
      {
       "output_type": "stream",
       "stream": "stdout",
       "text": [
        " Anniversary Song\n",
        "Larry Green"
       ]
      },
      {
       "output_type": "stream",
       "stream": "stdout",
       "text": [
        " Near You\n",
        "Sammy Kaye"
       ]
      },
      {
       "output_type": "stream",
       "stream": "stdout",
       "text": [
        " That's My Desire\n",
        "Vaughn Monroe"
       ]
      },
      {
       "output_type": "stream",
       "stream": "stdout",
       "text": [
        " Ballerina\n",
        "Art Lund"
       ]
      },
      {
       "output_type": "stream",
       "stream": "stdout",
       "text": [
        " Mam'selle\n",
        "Freddy Martin"
       ]
      },
      {
       "output_type": "stream",
       "stream": "stdout",
       "text": [
        " Managua, Nicaragua\n",
        "Perry Como"
       ]
      },
      {
       "output_type": "stream",
       "stream": "stdout",
       "text": [
        " Chi-Baba Chi-Baba\n",
        "Red Ingle and Jo Stafford"
       ]
      },
      {
       "output_type": "stream",
       "stream": "stdout",
       "text": [
        " Temptation (Tim-tayshun)\n",
        "error"
       ]
      },
      {
       "output_type": "stream",
       "stream": "stdout",
       "text": [
        "\n",
        "Ted Weems and Perry Como I Wonder Who's Kissing Her Now\n",
        "error"
       ]
      },
      {
       "output_type": "stream",
       "stream": "stdout",
       "text": [
        "\n",
        "Andrews Sisters Near You\n",
        "Sammy Kaye"
       ]
      },
      {
       "output_type": "stream",
       "stream": "stdout",
       "text": [
        " The Old Lamplighter\n",
        "Perry Como"
       ]
      },
      {
       "output_type": "stream",
       "stream": "stdout",
       "text": [
        " When You Were Sweet Sixteen\n",
        "Jack Owens"
       ]
      },
      {
       "output_type": "stream",
       "stream": "stdout",
       "text": [
        " How Soon\n",
        "Arthur Godfrey"
       ]
      },
      {
       "output_type": "stream",
       "stream": "stdout",
       "text": [
        " Too Fat Polka\n",
        "Eddy Howard"
       ]
      },
      {
       "output_type": "stream",
       "stream": "stdout",
       "text": [
        " I Wonder, I Wonder, I Wonder\n",
        "Eddy Howard"
       ]
      },
      {
       "output_type": "stream",
       "stream": "stdout",
       "text": [
        " My Adobe Hacienda\n",
        "Hoagy Carmichael"
       ]
      },
      {
       "output_type": "stream",
       "stream": "stdout",
       "text": [
        " Huggin' And Chalkin'\n",
        "Hoagy Carmichael"
       ]
      },
      {
       "output_type": "stream",
       "stream": "stdout",
       "text": [
        " Ole Buttermilk Sky\n",
        "King Cole Trio"
       ]
      },
      {
       "output_type": "stream",
       "stream": "stdout",
       "text": [
        " I Love You  For Sentimental Reasons\n",
        "Dick Haymes"
       ]
      },
      {
       "output_type": "stream",
       "stream": "stdout",
       "text": [
        " Mam'selle\n",
        "Vaughn Monroe"
       ]
      },
      {
       "output_type": "stream",
       "stream": "stdout",
       "text": [
        " You Do\n",
        "Guy Lombardo"
       ]
      },
      {
       "output_type": "stream",
       "stream": "stdout",
       "text": [
        " Anniversary Song\n",
        "Bing Crosby"
       ]
      },
      {
       "output_type": "stream",
       "stream": "stdout",
       "text": [
        " White Christmas\n",
        "Dinah Shore"
       ]
      },
      {
       "output_type": "stream",
       "stream": "stdout",
       "text": [
        " Anniversary Song\n",
        "Mills Brothers"
       ]
      },
      {
       "output_type": "stream",
       "stream": "stdout",
       "text": [
        " Across The Alley From The Alamo\n",
        "Andrews Sisters and Danny Kaye"
       ]
      },
      {
       "output_type": "stream",
       "stream": "stdout",
       "text": [
        " Civilization Bongo Bongo Bongo\n",
        "error"
       ]
      },
      {
       "output_type": "stream",
       "stream": "stdout",
       "text": [
        "\n",
        "Kay Kyser The Old Lamplighter\n",
        "Art Lund"
       ]
      },
      {
       "output_type": "stream",
       "stream": "stdout",
       "text": [
        " Peg O' My Heart\n",
        "Count Basie"
       ]
      },
      {
       "output_type": "stream",
       "stream": "stdout",
       "text": [
        " Open The Door, Richard\n",
        "Margaret Whiting"
       ]
      },
      {
       "output_type": "stream",
       "stream": "stdout",
       "text": [
        " You Do\n",
        "Dorothy Shay"
       ]
      },
      {
       "output_type": "stream",
       "stream": "stdout",
       "text": [
        " Feudin' And Fightin'\n",
        "Charlie Spivak"
       ]
      },
      {
       "output_type": "stream",
       "stream": "stdout",
       "text": [
        " Linda\n",
        "Guy Lombardo"
       ]
      },
      {
       "output_type": "stream",
       "stream": "stdout",
       "text": [
        " Managua, Nicaragua\n",
        "Tex Beneke and The Glenn Miller Orchestra"
       ]
      },
      {
       "output_type": "stream",
       "stream": "stdout",
       "text": [
        " Anniversary Song\n",
        "error"
       ]
      },
      {
       "output_type": "stream",
       "stream": "stdout",
       "text": [
        "\n",
        "Bing Crosby The Whiffenpoof Song\n",
        "Vaughn Monroe"
       ]
      },
      {
       "output_type": "stream",
       "stream": "stdout",
       "text": [
        " How Soon\n",
        "Dusty Fletcher"
       ]
      },
      {
       "output_type": "stream",
       "stream": "stdout",
       "text": [
        " Open The Door, Richard\n",
        "Eddy Howard"
       ]
      },
      {
       "output_type": "stream",
       "stream": "stdout",
       "text": [
        " I Love You For Sentimental Reasons\n",
        "Peggy Lee"
       ]
      },
      {
       "output_type": "stream",
       "stream": "stdout",
       "text": [
        " Golden Earrings\n",
        "Kay Kyser"
       ]
      },
      {
       "output_type": "stream",
       "stream": "stdout",
       "text": [
        " Ole Buttermilk Sky\n"
       ]
      }
     ],
     "prompt_number": 6
    },
    {
     "cell_type": "code",
     "collapsed": false,
     "input": [
      "from pyechonest import song\n",
      "rkp_results = song.search(artist='Atif Aslam', title='Jeena Jeena')\n",
      "karma_police = rkp_results[0]\n",
      "print karma_police.artist_location\n",
      "print 'tempo:',karma_police.audio_summary['tempo'],'duration:',karma_police.audio_summary['duration']"
     ],
     "language": "python",
     "metadata": {},
     "outputs": [
      {
       "output_type": "stream",
       "stream": "stdout",
       "text": [
        "{u'latitude': 31.5497222, u'location': u'Lahore, Pakistan', u'longitude': 74.3436111}\n",
        "tempo: "
       ]
      },
      {
       "output_type": "stream",
       "stream": "stdout",
       "text": [
        "104.983 duration: 228.96875\n"
       ]
      }
     ],
     "prompt_number": 13
    }
   ],
   "metadata": {}
  }
 ]
}