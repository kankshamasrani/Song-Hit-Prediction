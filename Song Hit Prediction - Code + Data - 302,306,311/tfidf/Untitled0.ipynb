{
 "metadata": {
  "name": "",
  "signature": "sha256:4c3adf439d8a01aa692d69fd694801ec6b89c7a2045de894b2d8bf6a67f06827"
 },
 "nbformat": 3,
 "nbformat_minor": 0,
 "worksheets": [
  {
   "cells": [
    {
     "cell_type": "code",
     "collapsed": false,
     "input": [
      "print \"Hello World\"\n",
      "import re\n",
      "import nltk\n",
      "from nltk.tokenize import RegexpTokenizer\n",
      "from nltk import bigrams, trigrams\n",
      "import math\n",
      "import sklearn\n",
      "import collections \n",
      "from collections import Counter\n",
      "from pprint import pprint\n",
      "import operator\n",
      "from nltk.corpus import wordnet as wn\n",
      "from requests import get"
     ],
     "language": "python",
     "metadata": {},
     "outputs": [
      {
       "output_type": "stream",
       "stream": "stdout",
       "text": [
        "Hello World\n"
       ]
      }
     ],
     "prompt_number": 3
    },
    {
     "cell_type": "code",
     "collapsed": false,
     "input": [
      "stopwords = nltk.corpus.stopwords.words('english')\n",
      "tokenizer = RegexpTokenizer(\"[\\w\u2019]+\", flags=re.UNICODE)\n"
     ],
     "language": "python",
     "metadata": {},
     "outputs": [],
     "prompt_number": 6
    },
    {
     "cell_type": "code",
     "collapsed": false,
     "input": [
      "lyricsdoc=['dropsofjupiter','heysoulsister','meetvirginia','fearofthedark','soundsofsilence']\n",
      "lyrics=[]\n",
      "for doc in lyricsdoc:\n",
      "    d=doc+\".txt\"\n",
      "    with open (d, \"r\") as myfile:\n",
      "        data=myfile.read().replace('\\n', ' ')\n",
      "    lyrics.append(data)\n",
      "\n",
      "\n",
      "idf_words = []\n",
      "tf = {}\n",
      "for i,l in enumerate(lyrics):\n",
      "    token = tokenizer.tokenize(l.lower())\n",
      "    token = [t for t in token if t not in stopwords and len(t)>2]\n",
      "    total=len(token)\n",
      "    tf_count = Counter(token)\n",
      "    tf_count={s:float(tf_count[s])/total for s in tf_count.keys()}\n",
      "    \n",
      "    tf[lyricsdoc[i]] = tf_count\n",
      "        \n",
      "    idf_words.extend([word for word in set(token)])\n",
      "    \n",
      "idf_count = Counter(idf_words)\n",
      "\n",
      "tfidf = {}\n",
      "for song in tf.keys():\n",
      "    print '\\n' + song\n",
      "    \n",
      "    tfidf[song] = {}\n",
      "    for word in tf[song].keys():\n",
      "        tfidf[song][word] = tf[song][word] * math.log(float(len(lyricsdoc))/idf_count[word])\n",
      "        \n",
      "        if math.log(float(len(lyricsdoc))/idf_count[word])==0:\n",
      "            print word, math.log(float(len(lyricsdoc))/idf_count[word])\n",
      "            \n",
      "    sorted_tfidf = sorted(tfidf[song].items(), key=operator.itemgetter(1), reverse=True)\n",
      "    print sorted_tfidf"
     ],
     "language": "python",
     "metadata": {},
     "outputs": [
      {
       "output_type": "stream",
       "stream": "stdout",
       "text": [
        "\n",
        "soundsofsilence\n",
        "[('silence', 0.08253527756072308), ('people', 0.06877939796726924), ('words', 0.0550235183738154), ('sound', 0.04126763878036154), ('neon', 0.0275117591869077), ('vision', 0.0275117591869077), ('said', 0.0275117591869077), ('might', 0.015663089433746242), ('without', 0.015663089433746242), ('signs', 0.01375587959345385), ('cold', 0.01375587959345385), ('still', 0.01375587959345385), ('flash', 0.01375587959345385), ('writing', 0.01375587959345385), ('prophets', 0.01375587959345385), ('planted', 0.01375587959345385), ('touched', 0.01375587959345385), ('neath', 0.01375587959345385), ('walls', 0.01375587959345385), ('listening', 0.01375587959345385), ('stabbed', 0.01375587959345385), ('hearing', 0.01375587959345385), ('halo', 0.01375587959345385), ('disturb', 0.01375587959345385), ('naked', 0.01375587959345385), ('softly', 0.01375587959345385), ('subway', 0.01375587959345385), ('old', 0.01375587959345385), ('restless', 0.01375587959345385), ('ten', 0.01375587959345385), ('streets', 0.01375587959345385), ('sign', 0.01375587959345385), ('street', 0.01375587959345385), ('darkness', 0.01375587959345385), ('god', 0.01375587959345385), ('written', 0.01375587959345385), ('whispered', 0.01375587959345385), ('tenement', 0.01375587959345385), ('teach', 0.01375587959345385), ('come', 0.01375587959345385), ('seeds', 0.01375587959345385), ('share', 0.01375587959345385), ('narrow', 0.01375587959345385), ('cancer', 0.01375587959345385), ('within', 0.01375587959345385), ('sounds', 0.01375587959345385), ('silent', 0.01375587959345385), ('remains', 0.01375587959345385), ('damp', 0.01375587959345385), ('arms', 0.01375587959345385), ('dreams', 0.01375587959345385), ('halls', 0.01375587959345385), ('speaking', 0.01375587959345385), ('bowed', 0.01375587959345385), ('forming', 0.01375587959345385), ('thousand', 0.01375587959345385), ('hear', 0.01375587959345385), ('voices', 0.01375587959345385), ('made', 0.01375587959345385), ('flashed', 0.01375587959345385), ('creeping', 0.01375587959345385), ('prayed', 0.01375587959345385), ('sleeping', 0.01375587959345385), ('talking', 0.01375587959345385), ('warning', 0.01375587959345385), ('walked', 0.01375587959345385), ('saw', 0.01375587959345385), ('lamp', 0.01375587959345385), ('split', 0.01375587959345385), ('fools', 0.01375587959345385), ('grows', 0.01375587959345385), ('reach', 0.01375587959345385), ('wells', 0.01375587959345385), ('cobblestone', 0.01375587959345385), ('fell', 0.01375587959345385), ('collar', 0.01375587959345385), ('echoed', 0.01375587959345385), ('dared', 0.01375587959345385), ('raindrops', 0.01375587959345385), ('hello', 0.01375587959345385), ('talk', 0.01375587959345385), ('songs', 0.01375587959345385), ('light', 0.008732061944717791), ('brain', 0.007831544716873121), ('take', 0.007831544716873121), ('night', 0.007831544716873121), ('friend', 0.007831544716873121), ('turned', 0.007831544716873121), ('eyes', 0.007831544716873121), ('maybe', 0.007831544716873121), ('left', 0.007831544716873121), ('know', 0.004366030972358896), ('never', 0.004366030972358896), ('alone', 0.004366030972358896), ('like', 0.003814419680584783), ('one', 0.0019072098402923914)]\n",
        "\n",
        "fearofthedark\n",
        "[('dark', 0.15806979497120627), ('fear', 0.14369981361018752), ('someone', 0.043109944083056254), ('walking', 0.028739962722037504), ('phobia', 0.028739962722037504), ('constant', 0.028739962722037504), ('look', 0.028739962722037504), ('heard', 0.028739962722037504), ('something', 0.028739962722037504), ('thought', 0.028739962722037504), ('little', 0.028739962722037504), ('behind', 0.028739962722037504), ('sometimes', 0.028739962722037504), ('road', 0.028739962722037504), ('night', 0.024543501746629153), ('walks', 0.01636233449775277), ('watching', 0.01636233449775277), ('man', 0.01636233449775277), ('feel', 0.014369981361018752), ('strolling', 0.014369981361018752), ('scared', 0.014369981361018752), ('skin', 0.014369981361018752), ('searching', 0.014369981361018752), ('sure', 0.014369981361018752), ('corner', 0.014369981361018752), ('quicken', 0.014369981361018752), ('dancing', 0.014369981361018752), ('unknown', 0.014369981361018752), ('fix', 0.014369981361018752), ('troubles', 0.014369981361018752), ('fingers', 0.014369981361018752), ('wall', 0.014369981361018752), ('strange', 0.014369981361018752), ('films', 0.014369981361018752), ('shadows', 0.014369981361018752), ('run', 0.014369981361018752), ('around', 0.014369981361018752), ('horror', 0.014369981361018752), ('felt', 0.014369981361018752), ('park', 0.014369981361018752), ('sensed', 0.014369981361018752), ('folklore', 0.014369981361018752), ('crawl', 0.014369981361018752), ('begins', 0.014369981361018752), ('hard', 0.014369981361018752), ('neck', 0.014369981361018752), ('tricks', 0.014369981361018752), ('debating', 0.014369981361018752), ('anxious', 0.014369981361018752), ('pace', 0.014369981361018752), ('near', 0.014369981361018752), ('suddenly', 0.014369981361018752), ('witches', 0.014369981361018752), ('sense', 0.014369981361018752), ('footsteps', 0.014369981361018752), ('playing', 0.014369981361018752), ('alone', 0.013682829208017607), ('mind', 0.009121886138678405), ('light', 0.009121886138678405), ('turned', 0.008181167248876384), ('find', 0.008181167248876384), ('maybe', 0.008181167248876384), ('take', 0.008181167248876384), ('ever', 0.008181167248876384), ('eyes', 0.008181167248876384), ('change', 0.008181167248876384), ('room', 0.008181167248876384), ('always', 0.005977059410202047), ('one', 0.0019923531367340157)]\n",
        "\n",
        "meetvirginia\n",
        "[('queen', 0.07048633193142045), ('really', 0.07048633193142045), ('thinks', 0.05873860994285037), ('meet', 0.05873860994285037), ('well', 0.046990887954280296), ('live', 0.046990887954280296), ('virginia', 0.046990887954280296), ('wants', 0.046990887954280296), ('wanna', 0.0401295211039776), ('pulls', 0.03524316596571023), ('screams', 0.03524316596571023), ('hair', 0.03344126758664799), ('life', 0.03344126758664799), ('beautiful', 0.023495443977140148), ('doesn', 0.023495443977140148), ('unusual', 0.023495443977140148), ('president', 0.023495443977140148), ('scene', 0.023495443977140148), ('wait', 0.023495443977140148), ('back', 0.0200647605519888), ('yeah', 0.013376507034659198), ('carborators', 0.011747721988570074), ('intuition', 0.011747721988570074), ('mediator', 0.011747721988570074), ('midnight', 0.011747721988570074), ('anyway', 0.011747721988570074), ('exercises', 0.011747721988570074), ('virgina', 0.011747721988570074), ('mmmm', 0.011747721988570074), ('home', 0.011747721988570074), ('heels', 0.011747721988570074), ('dress', 0.011747721988570074), ('sit', 0.011747721988570074), ('surprises', 0.011747721988570074), ('confess', 0.011747721988570074), ('stealin', 0.011747721988570074), ('shape', 0.011747721988570074), ('won', 0.011747721988570074), ('tragic', 0.011747721988570074), ('babies', 0.011747721988570074), ('mama', 0.011747721988570074), ('drinks', 0.011747721988570074), ('hates', 0.011747721988570074), ('body', 0.011747721988570074), ('beautuiful', 0.011747721988570074), ('mess', 0.011747721988570074), ('comprimises', 0.011747721988570074), ('moment', 0.011747721988570074), ('wrestles', 0.011747721988570074), ('coffee', 0.011747721988570074), ('rip', 0.011747721988570074), ('timing', 0.011747721988570074), ('alligators', 0.011747721988570074), ('quite', 0.011747721988570074), ('wears', 0.011747721988570074), ('care', 0.011747721988570074), ('high', 0.011747721988570074), ('works', 0.011747721988570074), ('magic', 0.011747721988570074), ('smokes', 0.011747721988570074), ('brother', 0.011747721988570074), ('loves', 0.011747721988570074), ('fine', 0.011747721988570074), ('catch', 0.011747721988570074), ('daddy', 0.011747721988570074), ('confidence', 0.011747721988570074), ('pack', 0.011747721988570074), ('hey', 0.011185962564218775), ('right', 0.006688253517329599), ('phone', 0.006688253517329599), ('day', 0.006688253517329599), ('thing', 0.006688253517329599), ('ain', 0.006688253517329599), ('see', 0.003728654188072925), ('never', 0.003728654188072925), ('alone', 0.003728654188072925), ('like', 0.0032575700921782446), ('always', 0.0016287850460891223)]\n",
        "\n",
        "heysoulsister\n",
        "[('sister', 0.0708557571511868), ('hey', 0.07068027498648928), ('tonight', 0.06073350612958869), ('single', 0.050611255107990576), ('soul', 0.04033984354162947), ('ain', 0.034577008749968115), ('fair', 0.030366753064794343), ('move', 0.030366753064794343), ('radio', 0.030366753064794343), ('mister', 0.030366753064794343), ('stereo', 0.030366753064794343), ('wanna', 0.028814173958306766), ('miss', 0.023051339166645413), ('way', 0.023051339166645413), ('thing', 0.023051339166645413), ('knew', 0.020244502043196232), ('dream', 0.020244502043196232), ('blow', 0.011525669583322707), ('heart', 0.010122251021598116), ('forget', 0.010122251021598116), ('show', 0.010122251021598116), ('stains', 0.010122251021598116), ('sweet', 0.010122251021598116), ('direction', 0.010122251021598116), ('decided', 0.010122251021598116), ('want', 0.010122251021598116), ('dreaming', 0.010122251021598116), ('need', 0.010122251021598116), ('madonna', 0.010122251021598116), ('cut', 0.010122251021598116), ('lipstick', 0.010122251021598116), ('track', 0.010122251021598116), ('moonbeam', 0.010122251021598116), ('virgin', 0.010122251021598116), ('smell', 0.010122251021598116), ('gave', 0.010122251021598116), ('wouldn', 0.010122251021598116), ('obsessed', 0.010122251021598116), ('beat', 0.010122251021598116), ('gonna', 0.010122251021598116), ('bound', 0.010122251021598116), ('game', 0.010122251021598116), ('part', 0.010122251021598116), ('let', 0.010122251021598116), ('front', 0.010122251021598116), ('world', 0.010122251021598116), ('believe', 0.010122251021598116), ('glad', 0.010122251021598116), ('every', 0.010122251021598116), ('deny', 0.010122251021598116), ('kind', 0.010122251021598116), ('gangster', 0.010122251021598116), ('untrimmed', 0.010122251021598116), ('thug', 0.010122251021598116), ('chest', 0.010122251021598116), ('drug', 0.010122251021598116), ('connection', 0.010122251021598116), ('nothing', 0.010122251021598116), ('rug', 0.010122251021598116), ('went', 0.010122251021598116), ('collided', 0.010122251021598116), ('side', 0.010122251021598116), ('fact', 0.010122251021598116), ('mind', 0.009638219316339448), ('know', 0.009638219316339448), ('see', 0.006425479544226299), ('right', 0.005762834791661353), ('love', 0.005762834791661353), ('brain', 0.005762834791661353), ('finally', 0.005762834791661353), ('life', 0.005762834791661353), ('watching', 0.005762834791661353), ('time', 0.005762834791661353), ('left', 0.005762834791661353), ('one', 0.005613674246898359), ('like', 0.0028068371234491797), ('always', 0.0014034185617245898)]\n",
        "\n",
        "dropsofjupiter\n",
        "[('tell', 0.05747992544407501), ('hey', 0.046912557284631805), ('dance', 0.032845671682328575), ('fall', 0.032845671682328575), ('looking', 0.032845671682328575), ('milky', 0.032845671682328575), ('shooting', 0.032845671682328575), ('get', 0.02463425376174643), ('along', 0.02463425376174643), ('star', 0.02463425376174643), ('chance', 0.02463425376174643), ('back', 0.023374763568218243), ('way', 0.023374763568218243), ('atmosphere', 0.016422835841164288), ('sail', 0.016422835841164288), ('lights', 0.016422835841164288), ('permanent', 0.016422835841164288), ('heaven', 0.016422835841164288), ('across', 0.016422835841164288), ('overrated', 0.016422835841164288), ('reminds', 0.016422835841164288), ('best', 0.016422835841164288), ('sun', 0.016422835841164288), ('imagine', 0.016422835841164288), ('sweep', 0.016422835841164288), ('feet', 0.016422835841164288), ('head', 0.016422835841164288), ('faded', 0.016422835841164288), ('scar', 0.016422835841164288), ('make', 0.016422835841164288), ('afraid', 0.016422835841164288), ('wind', 0.016422835841164288), ('finally', 0.014024858140930945), ('day', 0.014024858140930945), ('miss', 0.014024858140930945), ('without', 0.009349905427287296), ('summer', 0.008211417920582144), ('toward', 0.008211417920582144), ('talks', 0.008211417920582144), ('chicken', 0.008211417920582144), ('pride', 0.008211417920582144), ('lonely', 0.008211417920582144), ('return', 0.008211417920582144), ('five', 0.008211417920582144), ('venus', 0.008211417920582144), ('spring', 0.008211417920582144), ('freeze', 0.008211417920582144), ('jupiter', 0.008211417920582144), ('dried', 0.008211417920582144), ('latte', 0.008211417920582144), ('constellation', 0.008211417920582144), ('even', 0.008211417920582144), ('since', 0.008211417920582144), ('moon', 0.008211417920582144), ('everything', 0.008211417920582144), ('checks', 0.008211417920582144), ('told', 0.008211417920582144), ('mmm', 0.008211417920582144), ('wanted', 0.008211417920582144), ('fried', 0.008211417920582144), ('tracing', 0.008211417920582144), ('wrong', 0.008211417920582144), ('conversation', 0.008211417920582144), ('think', 0.008211417920582144), ('first', 0.008211417920582144), ('sticking', 0.008211417920582144), ('soy', 0.008211417920582144), ('story', 0.008211417920582144), ('jane', 0.008211417920582144), ('fly', 0.008211417920582144), ('hour', 0.008211417920582144), ('plain', 0.008211417920582144), ('drops', 0.008211417920582144), ('deep', 0.008211417920582144), ('tae', 0.008211417920582144), ('listens', 0.008211417920582144), ('acts', 0.008211417920582144), ('romance', 0.008211417920582144), ('vacation', 0.008211417920582144), ('june', 0.008211417920582144), ('rain', 0.008211417920582144), ('stay', 0.008211417920582144), ('grow', 0.008211417920582144), ('star\\xe2\\x80', 0.008211417920582144), ('land', 0.008211417920582144), ('mozart', 0.008211417920582144), ('light', 0.007818759547438634), ('see', 0.0052125063649590886), ('find', 0.004674952713643648), ('blow', 0.004674952713643648), ('might', 0.004674952713643648), ('hair', 0.004674952713643648), ('ever', 0.004674952713643648), ('change', 0.004674952713643648), ('love', 0.004674952713643648), ('friend', 0.004674952713643648), ('yeah', 0.004674952713643648), ('phone', 0.004674952713643648), ('room', 0.004674952713643648), ('soul', 0.004674952713643648), ('walks', 0.004674952713643648), ('man', 0.004674952713643648), ('time', 0.004674952713643648), ('like', 0.004553950026820607), ('know', 0.0026062531824795443), ('never', 0.0026062531824795443), ('mind', 0.0026062531824795443), ('one', 0.0022769750134103033), ('always', 0.0011384875067051517)]\n"
       ]
      }
     ],
     "prompt_number": 62
    },
    {
     "cell_type": "code",
     "collapsed": false,
     "input": [
      "love = wn.synsets('love')\n",
      "\n",
      "passion = wn.synsets('passion')\n",
      "\n",
      "print passion\n",
      "\n",
      "print love[0].lowest_common_hypernyms(passion[0])\n",
      "\n",
      "hypo = lambda s: s.hyponyms()\n",
      "print list(wn.synset('feeling.n.01').closure(hypo))\n",
      "\n",
      "\n",
      "    \n"
     ],
     "language": "python",
     "metadata": {},
     "outputs": [
      {
       "output_type": "stream",
       "stream": "stdout",
       "text": [
        "[Synset('passion.n.01'), Synset('heat.n.04'), Synset('rage.n.03'), Synset('mania.n.01'), Synset('passion.n.05'), Synset('love.n.02'), Synset('passion.n.07')]\n",
        "[Synset('feeling.n.01')]\n",
        "[Synset('affect.n.01'), Synset('affection.n.01'), Synset('agitation.n.03'), Synset('ambivalence.n.01'), Synset('apathy.n.01'), Synset('astonishment.n.01'), Synset('calmness.n.03'), Synset('complex.n.03'), Synset('desire.n.01'), Synset('despair.n.02'), Synset('devastation.n.02'), Synset('dislike.n.02'), Synset('emotion.n.01'), Synset('enthusiasm.n.01'), Synset('expectation.n.03'), Synset('faintness.n.01'), Synset('fearlessness.n.01'), Synset('glow.n.04'), Synset('gratitude.n.01'), Synset('gravity.n.03'), Synset('happiness.n.02'), Synset('hope.n.02'), Synset('humility.n.02'), Synset('ingratitude.n.01'), Synset('levity.n.01'), Synset('liking.n.01'), Synset('pain.n.02'), Synset('pang.n.01'), Synset('passion.n.01'), Synset('pleasure.n.01'), Synset('pride.n.01'), Synset('sadness.n.01'), Synset('sensitivity.n.03'), Synset('sentiment.n.01'), Synset('sex.n.03'), Synset('shame.n.01'), Synset('soul.n.03'), Synset('sympathy.n.02'), Synset('temper.n.02'), Synset('thing.n.11'), Synset('unconcern.n.02'), Synset('attachment.n.01'), Synset('protectiveness.n.01'), Synset('regard.n.06'), Synset('soft_spot.n.02'), Synset('fidget.n.01'), Synset('stewing.n.01'), Synset('stir.n.02'), Synset('tumult.n.02'), Synset('unrest.n.02'), Synset('conflict.n.02'), Synset('emotionlessness.n.01'), Synset('languor.n.02'), Synset('stupefaction.n.01'), Synset('surprise.n.01'), Synset('wonder.n.01'), Synset('coolness.n.01'), Synset('placidity.n.01'), Synset('tranquillity.n.02'), Synset('electra_complex.n.01'), Synset('inferiority_complex.n.01'), Synset('oedipus_complex.n.01'), Synset('ambition.n.01'), Synset('bloodlust.n.01'), Synset('caprice.n.01'), Synset('craving.n.01'), Synset('longing.n.01'), Synset('sexual_desire.n.01'), Synset('temptation.n.02'), Synset('urge.n.02'), Synset('wish.n.01'), Synset('discouragement.n.01'), Synset('hopelessness.n.01'), Synset('pessimism.n.01'), Synset('resignation.n.01'), Synset('alienation.n.01'), Synset('anglophobia.n.01'), Synset('antagonism.n.03'), Synset('antipathy.n.01'), Synset('contempt.n.01'), Synset('creepy-crawlies.n.01'), Synset('disapproval.n.01'), Synset('disgust.n.01'), Synset('disinclination.n.01'), Synset('scunner.n.01'), Synset('technophobia.n.01'), Synset('unfriendliness.n.01'), Synset('anger.n.01'), Synset('anxiety.n.02'), Synset('conditioned_emotional_response.n.01'), Synset('emotional_state.n.01'), Synset('fear.n.01'), Synset('fear.n.03'), Synset('hate.n.01'), Synset('joy.n.01'), Synset('love.n.01'), Synset('eagerness.n.01'), Synset('exuberance.n.01'), Synset('gusto.n.01'), Synset('technophilia.n.01'), Synset('anticipation.n.01'), Synset('security.n.03'), Synset('gratefulness.n.01'), Synset('earnestness.n.01'), Synset('belonging.n.01'), Synset('bonheur.n.01'), Synset('cheerfulness.n.02'), Synset('contentment.n.01'), Synset('gaiety.n.01'), Synset('gladness.n.01'), Synset('rejoicing.n.01'), Synset('encouragement.n.03'), Synset('hopefulness.n.02'), Synset('optimism.n.01'), Synset('meekness.n.01'), Synset('self-depreciation.n.01'), Synset('gaiety.n.02'), Synset('admiration.n.01'), Synset('approval.n.02'), Synset('captivation.n.02'), Synset('fondness.n.01'), Synset('friendliness.n.01'), Synset('inclination.n.05'), Synset('mysophilia.n.01'), Synset('preference.n.01'), Synset('distress.n.01'), Synset('growing_pains.n.02'), Synset('mental_anguish.n.01'), Synset('suffering.n.04'), Synset('unpleasantness.n.01'), Synset('guilt_pang.n.01'), Synset('ardor.n.03'), Synset('infatuation.n.01'), Synset('storminess.n.02'), Synset('wildness.n.01'), Synset('comfort.n.02'), Synset('delight.n.01'), Synset('enjoyment.n.01'), Synset('pleasantness.n.01'), Synset('sexual_pleasure.n.01'), Synset('amour_propre.n.01'), Synset('dignity.n.01'), Synset('ego.n.01'), Synset('self-esteem.n.01'), Synset('cheerlessness.n.01'), Synset('depression.n.04'), Synset('dolefulness.n.01'), Synset('downheartedness.n.01'), Synset('forlornness.n.01'), Synset('heaviness.n.02'), Synset('melancholy.n.01'), Synset('misery.n.02'), Synset('sorrow.n.01'), Synset('sorrow.n.02'), Synset('weepiness.n.01'), Synset('feelings.n.01'), Synset('oversensitiveness.n.01'), Synset('sensibility.n.02'), Synset('razbliuto.n.01'), Synset('sentimentality.n.02'), Synset('conscience.n.03'), Synset('embarrassment.n.01'), Synset('self-disgust.n.01'), Synset('commiseration.n.01'), Synset('compassion.n.01'), Synset('compatibility.n.01'), Synset('concern.n.03'), Synset('empathy.n.01'), Synset('kindheartedness.n.01'), Synset('good_humor.n.01'), Synset('ill_humor.n.01'), Synset('peeve.n.01'), Synset('sulk.n.01'), Synset('heartlessness.n.01'), Synset('indifference.n.01'), Synset('impatience.n.02'), Synset('electricity.n.03'), Synset('sensation.n.03'), Synset('daze.n.01'), Synset('awe.n.01'), Synset('easiness.n.01'), Synset('peace.n.03'), Synset('american_dream.n.01'), Synset('emulation.n.01'), Synset('nationalism.n.03'), Synset('addiction.n.02'), Synset('appetite.n.01'), Synset('discontentment.n.01'), Synset('hankering.n.01'), Synset('nostalgia.n.01'), Synset('pining.n.01'), Synset('wishfulness.n.01'), Synset('wistfulness.n.01'), Synset('amorousness.n.02'), Synset('anaphrodisia.n.01'), Synset('aphrodisia.n.01'), Synset('fetish.n.01'), Synset('lecherousness.n.01'), Synset('libido.n.01'), Synset('love.n.04'), Synset('nymphomania.n.01'), Synset('passion.n.05'), Synset('satyriasis.n.01'), Synset('sensuality.n.01'), Synset('the_hots.n.01'), Synset('velleity.n.01'), Synset('intimidation.n.02'), Synset('cynicism.n.01'), Synset('defeatism.n.01'), Synset('isolation.n.02'), Synset('abhorrence.n.01'), Synset('nausea.n.02'), Synset('repugnance.n.01'), Synset('annoyance.n.02'), Synset('bad_temper.n.01'), Synset('dander.n.02'), Synset('fury.n.01'), Synset('huffiness.n.01'), Synset('indignation.n.01'), Synset('infuriation.n.01'), Synset('umbrage.n.01'), Synset('angst.n.01'), Synset('anxiousness.n.02'), Synset('concern.n.02'), Synset('discomfiture.n.01'), Synset('edginess.n.01'), Synset('insecurity.n.02'), Synset('jitteriness.n.01'), Synset('scruple.n.02'), Synset('sinking.n.03'), Synset('worry.n.02'), Synset('ecstasy.n.01'), Synset('embarrassment.n.02'), Synset('gratification.n.01'), Synset('happiness.n.01'), Synset('state.n.06'), Synset('unhappiness.n.02'), Synset('alarm.n.01'), Synset('apprehension.n.01'), Synset('creeps.n.02'), Synset('frisson.n.01'), Synset('horror.n.01'), Synset('hysteria.n.02'), Synset('intimidation.n.03'), Synset('panic.n.01'), Synset('scare.n.02'), Synset('stage_fright.n.01'), Synset('timidity.n.01'), Synset('despisal.n.01'), Synset('hostility.n.03'), Synset('malevolence.n.01'), Synset('misanthropy.n.01'), Synset('misogamy.n.01'), Synset('misogyny.n.01'), Synset('misology.n.01'), Synset('misoneism.n.01'), Synset('misopedia.n.01'), Synset('murderousness.n.01'), Synset('elation.n.02'), Synset('exhilaration.n.01'), Synset('exultation.n.01'), Synset('agape.n.01'), Synset('agape.n.02'), Synset('amorousness.n.01'), Synset('ardor.n.02'), Synset('benevolence.n.01'), Synset('devotion.n.01'), Synset('filial_love.n.01'), Synset('heartstrings.n.01'), Synset('lovingness.n.01'), Synset('loyalty.n.02'), Synset('puppy_love.n.01'), Synset('worship.n.02'), Synset('ardor.n.01'), Synset('fever.n.02'), Synset('hope.n.01'), Synset('suspense.n.03'), Synset('confidence.n.02'), Synset('closeness.n.01'), Synset('comfortableness.n.02'), Synset('buoyancy.n.01'), Synset('carefreeness.n.01'), Synset('satisfaction.n.01'), Synset('hilarity.n.01'), Synset('jocundity.n.01'), Synset('jollity.n.01'), Synset('sanguinity.n.01'), Synset('anglophilia.n.01'), Synset('hero_worship.n.01'), Synset('philhellenism.n.01'), Synset('philogyny.n.01'), Synset('approbation.n.01'), Synset('favor.n.04'), Synset('amicability.n.01'), Synset('brotherhood.n.03'), Synset('good_will.n.03'), Synset('leaning.n.01'), Synset('stomach.n.03'), Synset('undertow.n.01'), Synset('acquired_taste.n.01'), Synset('weakness.n.05'), Synset('anguish.n.01'), Synset('self-torture.n.01'), Synset('tsoris.n.01'), Synset('wound.n.03'), Synset('agony.n.01'), Synset('discomfort.n.02'), Synset('throes.n.01'), Synset('zeal.n.02'), Synset('consolation.n.01'), Synset('relief.n.01'), Synset('amusement.n.01'), Synset('entrancement.n.01'), Synset('schadenfreude.n.01'), Synset('joie_de_vivre.n.01'), Synset('afterglow.n.02'), Synset('algolagnia.n.01'), Synset('masochism.n.01'), Synset('sadism.n.01'), Synset('joylessness.n.01'), Synset('demoralization.n.03'), Synset('despondency.n.01'), Synset('dysphoria.n.01'), Synset('helplessness.n.03'), Synset('oppression.n.03'), Synset('gloom.n.02'), Synset('heavyheartedness.n.01'), Synset('pensiveness.n.01'), Synset('world-weariness.n.01'), Synset('broken_heart.n.01'), Synset('grief.n.01'), Synset('mournfulness.n.01'), Synset('self-pity.n.01'), Synset('attrition.n.03'), Synset('compunction.n.01'), Synset('insight.n.02'), Synset('sensuousness.n.01'), Synset('mawkishness.n.01'), Synset('abashment.n.01'), Synset('chagrin.n.01'), Synset('confusion.n.03'), Synset('self-consciousness.n.01'), Synset('shamefacedness.n.01'), Synset('mercifulness.n.01'), Synset('tenderness.n.03'), Synset('softheartedness.n.01'), Synset('solicitude.n.01'), Synset('mellowness.n.01'), Synset('irritability.n.01'), Synset('moodiness.n.01'), Synset('cruelty.n.02'), Synset('distance.n.04'), Synset('withdrawal.n.04'), Synset('languor.n.01'), Synset('stomach.n.04'), Synset('sweet_tooth.n.01'), Synset('disgruntlement.n.01'), Synset('dissatisfaction.n.01'), Synset('homesickness.n.01'), Synset('lovesickness.n.01'), Synset('prurience.n.01'), Synset('aggravation.n.01'), Synset('displeasure.n.01'), Synset('frustration.n.03'), Synset('harassment.n.01'), Synset('pique.n.02'), Synset('fit.n.01'), Synset('irascibility.n.01'), Synset('lividity.n.01'), Synset('wrath.n.01'), Synset('dudgeon.n.01'), Synset('willies.n.01'), Synset('comfort.n.05'), Synset('quality_of_life.n.01'), Synset('blessedness.n.01'), Synset('radiance.n.03'), Synset('embitterment.n.01'), Synset('sadness.n.02'), Synset('chill.n.04'), Synset('foreboding.n.01'), Synset('suspense.n.01'), Synset('trepidation.n.01'), Synset('swivet.n.01'), Synset('cold_feet.n.01'), Synset('diffidence.n.01'), Synset('shyness.n.01'), Synset('aggression.n.02'), Synset('animosity.n.01'), Synset('belligerence.n.01'), Synset('class_feeling.n.01'), Synset('resentment.n.01'), Synset('maleficence.n.01'), Synset('malice.n.01'), Synset('vindictiveness.n.01'), Synset('misocainea.n.01'), Synset('euphoria.n.01'), Synset('bang.n.04'), Synset('intoxication.n.03'), Synset('titillation.n.01'), Synset('triumph.n.02'), Synset('beneficence.n.01'), Synset('warmheartedness.n.01'), Synset('buck_fever.n.01'), Synset('gold_fever.n.01'), Synset('togetherness.n.01'), Synset('complacency.n.01'), Synset('fulfillment.n.01'), Synset('gloat.n.01'), Synset('pride.n.02'), Synset('cold_comfort.n.01'), Synset('silver_lining.n.01'), Synset('sadomasochism.n.01'), Synset('weight.n.05'), Synset('dolor.n.01'), Synset('plaintiveness.n.01'), Synset('woe.n.02'), Synset('guilt.n.02'), Synset('repentance.n.01'), Synset('forgiveness.n.01'), Synset('pet.n.03'), Synset('testiness.n.01'), Synset('moroseness.n.01'), Synset('boredom.n.01'), Synset('disappointment.n.01'), Synset('nirvana.n.01'), Synset('mourning.n.01'), Synset('poignance.n.01'), Synset('presage.n.01'), Synset('shadow.n.04'), Synset('hesitance.n.01'), Synset('unassertiveness.n.01'), Synset('warpath.n.01'), Synset('envy.n.01'), Synset('grudge.n.01'), Synset('heartburning.n.01'), Synset('sulkiness.n.02'), Synset('smugness.n.01'), Synset('civic_pride.n.01'), Synset('survivor_guilt.n.01'), Synset('blahs.n.01'), Synset('fatigue.n.03'), Synset('frustration.n.01'), Synset('covetousness.n.01'), Synset('jealousy.n.01'), Synset('penis_envy.n.01')]\n"
       ]
      }
     ],
     "prompt_number": 105
    },
    {
     "cell_type": "code",
     "collapsed": false,
     "input": [
      "sss_url = \"http://swoogle.umbc.edu/SimService/GetSimilarity\"\n",
      "\n",
      "def sss(s1, s2, type='relation', corpus='webbase'):\n",
      "    try:\n",
      "        response = get(sss_url, params={'operation':'api','phrase1':s1,'phrase2':s2,'type':type,'corpus':corpus})\n",
      "        return float(response.text.strip())\n",
      "    except:\n",
      "        print 'Error in getting similarity for %s: %s' % ((s1,s2), response)\n",
      "        return 0.0\n",
      "\n",
      "    \n",
      "\n",
      "for song in tf.keys():\n",
      "    score[song] = 0\n",
      "    print '\\n'+song\n",
      "    for word in tf[song].keys():\n",
      "        try:\n",
      "            s = sss('love',word)\n",
      "            if  s> 0.3:\n",
      "                score[song] += s * tfidf[song][word]  \n",
      "                print word,s\n",
      "        except:\n",
      "            continue"
     ],
     "language": "python",
     "metadata": {},
     "outputs": [
      {
       "output_type": "stream",
       "stream": "stdout",
       "text": [
        "\n",
        "soundsofsilence\n",
        "friend"
       ]
      },
      {
       "output_type": "stream",
       "stream": "stdout",
       "text": [
        " 0.40291855\n",
        "\n",
        "fearofthedark"
       ]
      },
      {
       "output_type": "stream",
       "stream": "stdout",
       "text": [
        "\n",
        "feel"
       ]
      },
      {
       "output_type": "stream",
       "stream": "stdout",
       "text": [
        " 0.32683057\n",
        "someone"
       ]
      },
      {
       "output_type": "stream",
       "stream": "stdout",
       "text": [
        " 0.4301729\n",
        "felt"
       ]
      },
      {
       "output_type": "stream",
       "stream": "stdout",
       "text": [
        " 0.32683057\n",
        "\n",
        "meetvirginia"
       ]
      },
      {
       "output_type": "stream",
       "stream": "stdout",
       "text": [
        "\n",
        "brother"
       ]
      },
      {
       "output_type": "stream",
       "stream": "stdout",
       "text": [
        " 0.34196973\n",
        "hates"
       ]
      },
      {
       "output_type": "stream",
       "stream": "stdout",
       "text": [
        " 0.41651767\n",
        "loves"
       ]
      },
      {
       "output_type": "stream",
       "stream": "stdout",
       "text": [
        " 0.92622125\n",
        "\n",
        "heysoulsister"
       ]
      },
      {
       "output_type": "stream",
       "stream": "stdout",
       "text": [
        "\n",
        "heart"
       ]
      },
      {
       "output_type": "stream",
       "stream": "stdout",
       "text": [
        " 0.33219668\n",
        "love"
       ]
      },
      {
       "output_type": "stream",
       "stream": "stdout",
       "text": [
        " 1.0\n",
        "sister"
       ]
      },
      {
       "output_type": "stream",
       "stream": "stdout",
       "text": [
        " 0.30983943\n",
        "soul"
       ]
      },
      {
       "output_type": "stream",
       "stream": "stdout",
       "text": [
        " 0.47473955\n",
        "\n",
        "dropsofjupiter"
       ]
      },
      {
       "output_type": "stream",
       "stream": "stdout",
       "text": [
        "\n",
        "love"
       ]
      },
      {
       "output_type": "stream",
       "stream": "stdout",
       "text": [
        " 1.0\n",
        "friend"
       ]
      },
      {
       "output_type": "stream",
       "stream": "stdout",
       "text": [
        " 0.40291855\n",
        "soul"
       ]
      },
      {
       "output_type": "stream",
       "stream": "stdout",
       "text": [
        " 0.47473955\n",
        "romance"
       ]
      },
      {
       "output_type": "stream",
       "stream": "stdout",
       "text": [
        " 0.35136572\n"
       ]
      }
     ],
     "prompt_number": 63
    },
    {
     "cell_type": "code",
     "collapsed": false,
     "input": [
      "print score"
     ],
     "language": "python",
     "metadata": {},
     "outputs": [
      {
       "output_type": "stream",
       "stream": "stdout",
       "text": [
        "{'soundsofsilence': 0.003155474641582678, 'fearofthedark': 0.02793782806326842, 'meetvirginia': 0.019791488851939206, 'dropsofjupiter': 0.011663173599776224, 'heysoulsister': 0.05023023955312858}\n"
       ]
      }
     ],
     "prompt_number": 64
    },
    {
     "cell_type": "code",
     "collapsed": false,
     "input": [
      "sss_url = \"http://swoogle.umbc.edu/SimService/GetSimilarity\"\n",
      "\n",
      "def sss(s1, s2, type='relation', corpus='webbase'):\n",
      "    try:\n",
      "        response = get(sss_url, params={'operation':'api','phrase1':s1,'phrase2':s2,'type':type,'corpus':corpus})\n",
      "        return float(response.text.strip())\n",
      "    except:\n",
      "        print 'Error in getting similarity for %s: %s' % ((s1,s2), response)\n",
      "        return 0.0\n",
      "\n",
      "    \n",
      "\n",
      "for song in tf.keys():\n",
      "    score[song] = 0\n",
      "    print '\\n'+song\n",
      "    for word in tf[song].keys():\n",
      "        try:\n",
      "            s = sss('scare',word)\n",
      "            if  s> 0.3:\n",
      "                score[song] += s * tfidf[song][word]  \n",
      "                print word,s\n",
      "        except:\n",
      "            continue"
     ],
     "language": "python",
     "metadata": {},
     "outputs": [
      {
       "output_type": "stream",
       "stream": "stdout",
       "text": [
        "\n",
        "soundsofsilence\n",
        "made"
       ]
      },
      {
       "output_type": "stream",
       "stream": "stdout",
       "text": [
        " 0.4351792\n",
        "\n",
        "fearofthedark"
       ]
      },
      {
       "output_type": "stream",
       "stream": "stdout",
       "text": [
        "\n",
        "scared"
       ]
      },
      {
       "output_type": "stream",
       "stream": "stdout",
       "text": [
        " 1.0\n",
        "fear"
       ]
      },
      {
       "output_type": "stream",
       "stream": "stdout",
       "text": [
        " 0.5686939\n",
        "\n",
        "meetvirginia"
       ]
      },
      {
       "output_type": "stream",
       "stream": "stdout",
       "text": [
        "\n",
        "screams"
       ]
      },
      {
       "output_type": "stream",
       "stream": "stdout",
       "text": [
        " 0.3051526\n",
        "\n",
        "heysoulsister"
       ]
      },
      {
       "output_type": "stream",
       "stream": "stdout",
       "text": [
        "\n",
        "\n",
        "dropsofjupiter"
       ]
      },
      {
       "output_type": "stream",
       "stream": "stdout",
       "text": [
        "\n",
        "make"
       ]
      },
      {
       "output_type": "stream",
       "stream": "stdout",
       "text": [
        " 0.4351792\n",
        "afraid"
       ]
      },
      {
       "output_type": "stream",
       "stream": "stdout",
       "text": [
        " 0.58048624\n"
       ]
      }
     ],
     "prompt_number": 65
    },
    {
     "cell_type": "code",
     "collapsed": false,
     "input": [
      "print score"
     ],
     "language": "python",
     "metadata": {},
     "outputs": [
      {
       "output_type": "stream",
       "stream": "stdout",
       "text": [
        "{'soundsofsilence': 0.005986272676775572, 'fearofthedark': 0.09609118879226937, 'meetvirginia': 0.010754543726667986, 'dropsofjupiter': 0.016680106790663896, 'heysoulsister': 0}\n"
       ]
      }
     ],
     "prompt_number": 66
    }
   ],
   "metadata": {}
  }
 ]
}