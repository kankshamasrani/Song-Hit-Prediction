{
 "metadata": {
  "name": "",
  "signature": "sha256:1854c5c09eef2874c07c3c0ac660c9cd8a068e19ae6f01123c1328ce958c9168"
 },
 "nbformat": 3,
 "nbformat_minor": 0,
 "worksheets": [
  {
   "cells": [
    {
     "cell_type": "code",
     "collapsed": false,
     "input": [
      "import csv\n",
      "\n",
      "\n",
      "\n",
      "\n",
      "for year in xrange(1999,2000):\n",
      "    \n",
      "    try:\n",
      "    \n",
      "        path1 = '/home/rahul/Desktop/BTP/data/billboard list/'+str(year)+'/'+str(year)+'_emotion_vectors.csv'\n",
      "        path2 = '/home/rahul/Desktop/BTP/data/parametered data/'+str(year)+'_param.csv'\n",
      "        path3 = '/home/rahul/Desktop/BTP/data/master data/'+str(year)+'.csv'\n",
      "\n",
      "        l1 = []\n",
      "        l2 = []\n",
      "        l3 = []\n",
      "        head1 = 1\n",
      "        head2 = 2\n",
      "\n",
      "        with open(path1, 'rb') as csvfile1:\n",
      "            file_reader = csv.reader(csvfile1, delimiter=',', quotechar='|')\n",
      "            i=0\n",
      "            for row in file_reader:\n",
      "                if i:\n",
      "                    l1.append(row)\n",
      "                else:\n",
      "                    head1 = row\n",
      "                i=i+1\n",
      "        \n",
      "        \n",
      "\n",
      "        with open(path2, 'rb') as csvfile2:\n",
      "            file_reader2 = csv.reader(csvfile2, delimiter=',', quotechar='|')\n",
      "            i=0\n",
      "            for row in file_reader2:\n",
      "                if i:\n",
      "                    l2.append(row)\n",
      "                else:\n",
      "                    head2 = row\n",
      "                i=i+1\n",
      "                \n",
      "                \n",
      "\n",
      "        l3.append(head2+head1[1:])\n",
      "        for i in xrange(len(l1)):\n",
      "            row = l2[i]+l1[i][1:]\n",
      "            l3.append(row)\n",
      "        \n",
      "        \n",
      "\n",
      "\n",
      "\n",
      "        with open(path3, 'wb') as csvfile3:\n",
      "            filewriter = csv.writer(csvfile3, delimiter=',',\n",
      "                                    quotechar='|', quoting=csv.QUOTE_MINIMAL)\n",
      "            for row in l3:\n",
      "                filewriter.writerow(row)\n",
      "    except:\n",
      "        print 'error in year '+str(year)\n",
      "        continue\n",
      "\n",
      "    \n",
      "\n",
      "#/home/rahul/Desktop/BTP/data/billboard list/1947"
     ],
     "language": "python",
     "metadata": {},
     "outputs": [
      {
       "output_type": "stream",
       "stream": "stdout",
       "text": [
        "hi\n",
        "error in year 1999\n"
       ]
      }
     ],
     "prompt_number": 12
    }
   ],
   "metadata": {}
  }
 ]
}