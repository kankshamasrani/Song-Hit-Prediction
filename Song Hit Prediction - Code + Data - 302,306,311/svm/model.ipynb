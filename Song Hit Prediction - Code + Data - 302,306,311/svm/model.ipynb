{
 "metadata": {
  "name": "",
  "signature": "sha256:6407f54bb9bb43ebb4bb99680c619521d8aef002fec4f31459549a63e398818e"
 },
 "nbformat": 3,
 "nbformat_minor": 0,
 "worksheets": [
  {
   "cells": [
    {
     "cell_type": "code",
     "collapsed": false,
     "input": [
      "import csv\n",
      "import pandas as pd\n",
      "from sklearn import svm\n",
      "from sklearn.linear_model import SGDClassifier\n",
      "from sklearn import linear_model\n",
      "import numpy as np\n",
      "from sklearn.cross_validation import train_test_split\n",
      "from sklearn import preprocessing\n",
      "from sklearn import linear_model\n",
      "from sklearn import decomposition\n",
      "\n",
      "import plotly.plotly as py\n",
      "from plotly.graph_objs import *"
     ],
     "language": "python",
     "metadata": {},
     "outputs": [],
     "prompt_number": 4
    },
    {
     "cell_type": "markdown",
     "metadata": {},
     "source": [
      "## Read data from CSV\n",
      "---"
     ]
    },
    {
     "cell_type": "code",
     "collapsed": false,
     "input": [
      "dfs = []\n",
      "\n",
      "for year in range(2000,2009):\n",
      "    \n",
      "    try:        \n",
      "        df = pd.DataFrame.from_csv(str(year)+'.csv')\n",
      "        df['song_rank'] = range(1,len(df)+1)\n",
      "        df = df.dropna()\n",
      "        df = df[(df['love']>0.) | (df['anger']>0.) | (df['fear']>0.) | (df['joy']>0.) | (df['sadness']>0.) | (df['surprise']>0.)]\n",
      "        \n",
      "        df['class'] = df['song_rank'].apply(lambda x: int((x-0.1)/50))\n",
      "        df['year'] = [int(year)] * len(df)\n",
      "\n",
      "        dfs.append(df)\n",
      "    except:\n",
      "        continue\n",
      "    \n",
      "    \n",
      "df = pd.concat(dfs)\n",
      "\n",
      "\n",
      "X = df[['acousticness','danceability','duration','energy','key','liveness','loudness','mode','speechiness','time_signature','valence','love','joy','surprise','anger','sadness','fear']].as_matrix()\n",
      "#X = df[['acousticness','danceability','energy','liveness','speechiness','valence','love','joy','surprise','anger','sadness','fear']].as_matrix()\n",
      "\n",
      "#X = df[['acousticness','danceability','duration','energy','key','liveness','loudness','mode','speechiness','time_signature','valence']].as_matrix()\n",
      "#X = df[['love','joy','surprise','anger','sadness','fear']]\n",
      "\n",
      "Y = [a[0] for a in df[['class']].values]\n"
     ],
     "language": "python",
     "metadata": {},
     "outputs": [],
     "prompt_number": 19
    },
    {
     "cell_type": "code",
     "collapsed": false,
     "input": [
      "print len(X)\n",
      "l_50 = len(df[(df['year']>=1950) & (df['year']<1960)])\n",
      "l_60 = len(df[(df['year']>=1960) & (df['year']<1970)])\n",
      "l_70 = len(df[(df['year']>=1970) & (df['year']<1980)])\n",
      "l_80 = len(df[(df['year']>=1980) & (df['year']<1990)])\n",
      "l_90 = len(df[(df['year']>=1990) & (df['year']<2000)])\n",
      "l_00 = len(df[(df['year']>=2000) & (df['year']<2010)])\n",
      "\n",
      "print l_50,l_60,l_70,l_80,l_90,l_00\n",
      "\n",
      "\n",
      "\n"
     ],
     "language": "python",
     "metadata": {},
     "outputs": [
      {
       "output_type": "stream",
       "stream": "stdout",
       "text": [
        "558\n",
        "0 0 0 0 0 558\n"
       ]
      }
     ],
     "prompt_number": 20
    },
    {
     "cell_type": "code",
     "collapsed": false,
     "input": [
      "data = Data([\n",
      "    Bar(\n",
      "        x=[\"50's\",\"60's\",\"70's\",\"80's\",\"90's\",\"00's\"],\n",
      "        y=[l_50,l_60,l_70,l_80,l_90,l_00]\n",
      "    )\n",
      "])\n",
      "\n",
      "layout = Layout(\n",
      "    title='Decadewise Number of Songs',\n",
      "    xaxis=XAxis(\n",
      "        title='Decades',\n",
      "#         showgrid=False,\n",
      "#         zeroline=False\n",
      "    ),\n",
      "    yaxis=YAxis(\n",
      "        title='Number of Songs',\n",
      "#         showline=False\n",
      "    )\n",
      ")\n",
      "fig = Figure(data=data, layout=layout)\n",
      "py.iplot(fig, filename='basic-bar')\n"
     ],
     "language": "python",
     "metadata": {},
     "outputs": [
      {
       "html": [
        "<iframe id=\"igraph\" scrolling=\"no\" style=\"border:none;\"seamless=\"seamless\" src=\"https://plot.ly/~rahulduggal2608/10.embed\" height=\"525\" width=\"100%\"></iframe>"
       ],
       "metadata": {},
       "output_type": "pyout",
       "prompt_number": 4,
       "text": [
        "<plotly.tools.PlotlyDisplay at 0xaaebe58c>"
       ]
      }
     ],
     "prompt_number": 4
    },
    {
     "cell_type": "markdown",
     "metadata": {},
     "source": [
      "## split dataset into training and test sets\n",
      "---"
     ]
    },
    {
     "cell_type": "code",
     "collapsed": false,
     "input": [
      "a_train, a_test, b_train, b_test = train_test_split(X, Y, test_size=0.20, random_state=42)"
     ],
     "language": "python",
     "metadata": {},
     "outputs": [],
     "prompt_number": 21
    },
    {
     "cell_type": "markdown",
     "metadata": {},
     "source": [
      "## preprocess data\n",
      "---"
     ]
    },
    {
     "cell_type": "code",
     "collapsed": false,
     "input": [
      "a_train_scaled = preprocessing.scale(a_train)\n",
      "scaler = preprocessing.StandardScaler().fit(a_train_scaled)\n",
      "a_test_scaled = scaler.transform(a_test)\n",
      "\n",
      "#a_train_sc_no = preprocessing.normalize(a_train_scaled, norm='l2')\n",
      "\n",
      "#print np.array(a_train_scaled)\n",
      "\n",
      "print a_train_scaled[0][5]\n",
      "\n",
      "\n",
      "#print a_test\n"
     ],
     "language": "python",
     "metadata": {},
     "outputs": [
      {
       "output_type": "stream",
       "stream": "stdout",
       "text": [
        "-0.545491385738\n"
       ]
      }
     ],
     "prompt_number": 181
    },
    {
     "cell_type": "markdown",
     "metadata": {},
     "source": [
      "### apply PCA\n",
      "---"
     ]
    },
    {
     "cell_type": "code",
     "collapsed": false,
     "input": [
      "pca = decomposition.PCA(n_components=2)\n",
      "pca.fit(a_test)\n",
      "a_train = pca.transform(a_train)\n",
      "a_test = pca.transform(a_test)"
     ],
     "language": "python",
     "metadata": {},
     "outputs": [],
     "prompt_number": 319
    },
    {
     "cell_type": "markdown",
     "metadata": {},
     "source": [
      "## apply classifier\n",
      "---"
     ]
    },
    {
     "cell_type": "code",
     "collapsed": false,
     "input": [
      "#clf = svm.SVC(C=1)\n",
      "#clf = linear_model.LogisticRegression()\n",
      "clf = linear_model.LinearRegression()\n",
      "clf.fit(a_train,b_train)"
     ],
     "language": "python",
     "metadata": {},
     "outputs": [
      {
       "metadata": {},
       "output_type": "pyout",
       "prompt_number": 22,
       "text": [
        "LinearRegression(copy_X=True, fit_intercept=True, normalize=False)"
       ]
      }
     ],
     "prompt_number": 22
    },
    {
     "cell_type": "markdown",
     "metadata": {},
     "source": [
      "## predict\n",
      "---"
     ]
    },
    {
     "cell_type": "code",
     "collapsed": false,
     "input": [
      "print a_test"
     ],
     "language": "python",
     "metadata": {},
     "outputs": [
      {
       "output_type": "stream",
       "stream": "stdout",
       "text": [
        "[[  3.13892000e-01   7.41439000e-01   2.85726890e+02 ...,   3.26365021e-02\n",
        "    1.70379063e-03   3.14906491e-02]\n",
        " [  9.56802000e-01   3.13997000e-01   2.03075510e+02 ...,   0.00000000e+00\n",
        "    1.39115889e-02   4.19514219e-02]\n",
        " [  1.03927000e-01   4.79439000e-01   3.11599550e+02 ...,   4.71309155e-03\n",
        "    5.36082286e-03   3.26894407e-02]\n",
        " ..., \n",
        " [  9.05300000e-03   4.06033000e-01   1.51263130e+02 ...,   3.14041705e-03\n",
        "    2.83983000e-03   3.64096280e-02]\n",
        " [  8.35782000e-01   2.09850000e-01   1.72292880e+02 ...,   3.22876270e-02\n",
        "    1.28254624e-02   5.39137385e-02]\n",
        " [  6.19444000e-01   7.33023000e-01   2.40426210e+02 ...,   1.89046841e-02\n",
        "    0.00000000e+00   2.02521705e-03]]\n"
       ]
      }
     ],
     "prompt_number": 341
    },
    {
     "cell_type": "code",
     "collapsed": false,
     "input": [
      "prediction = [0 if val<0.5 else 1 for val in clf.predict(a_test)]\n",
      "# prediction = clf.predict(a_test) \n",
      "print pd.DataFrame({'ans':b_test,'prediction':prediction})"
     ],
     "language": "python",
     "metadata": {},
     "outputs": [
      {
       "output_type": "stream",
       "stream": "stdout",
       "text": [
        "     ans  prediction\n",
        "0      0           1\n",
        "1      0           0\n",
        "2      1           0\n",
        "3      1           1\n",
        "4      1           1\n",
        "5      1           1\n",
        "6      1           1\n",
        "7      0           1\n",
        "8      0           0\n",
        "9      0           1\n",
        "10     0           1\n",
        "11     0           1\n",
        "12     1           1\n",
        "13     1           1\n",
        "14     1           1\n",
        "15     0           1\n",
        "16     1           1\n",
        "17     0           1\n",
        "18     0           1\n",
        "19     1           1\n",
        "20     1           1\n",
        "21     0           1\n",
        "22     0           0\n",
        "23     1           1\n",
        "24     0           1\n",
        "25     0           1\n",
        "26     0           1\n",
        "27     1           1\n",
        "28     0           1\n",
        "29     0           1\n",
        "..   ...         ...\n",
        "82     0           1\n",
        "83     0           0\n",
        "84     0           0\n",
        "85     0           0\n",
        "86     1           0\n",
        "87     0           1\n",
        "88     0           1\n",
        "89     1           1\n",
        "90     0           1\n",
        "91     1           1\n",
        "92     1           1\n",
        "93     1           1\n",
        "94     1           1\n",
        "95     0           1\n",
        "96     1           1\n",
        "97     1           1\n",
        "98     1           0\n",
        "99     0           1\n",
        "100    0           0\n",
        "101    0           0\n",
        "102    1           1\n",
        "103    0           0\n",
        "104    1           1\n",
        "105    1           1\n",
        "106    0           0\n",
        "107    0           0\n",
        "108    1           1\n",
        "109    0           0\n",
        "110    1           1\n",
        "111    1           1\n",
        "\n",
        "[112 rows x 2 columns]\n"
       ]
      }
     ],
     "prompt_number": 23
    },
    {
     "cell_type": "markdown",
     "metadata": {},
     "source": [
      "## check accuracy\n",
      "---"
     ]
    },
    {
     "cell_type": "code",
     "collapsed": false,
     "input": [
      "# b_test_not = [1^b for b in b_test]\n",
      "# print max(clf.score(a_test, b_test), clf.score(a_test,b_test_not))  \n",
      "c = 0\n",
      "for i,val in enumerate(prediction):\n",
      "    if prediction[i]==b_test[i]:\n",
      "        c=c+1\n",
      "\n",
      "print max(float(c) / len(prediction), 1 - (float(c) / len(prediction)))"
     ],
     "language": "python",
     "metadata": {},
     "outputs": [
      {
       "output_type": "stream",
       "stream": "stdout",
       "text": [
        "0.571428571429\n"
       ]
      }
     ],
     "prompt_number": 16
    },
    {
     "cell_type": "markdown",
     "metadata": {},
     "source": [
      "## plot linear regression weights\n",
      "---"
     ]
    },
    {
     "cell_type": "code",
     "collapsed": false,
     "input": [
      "\n",
      "\n",
      "\n",
      "data = Data([\n",
      "    Bar(\n",
      "        x=['acousticness','danceability','duration','energy','key','liveness','loudness','mode','speechiness','time_signature','valence','love','joy','surprise','anger','sadness','fear'],\n",
      "        y=clf.coef_\n",
      "    )\n",
      "])\n",
      "\n",
      "layout = Layout(\n",
      "    title='Weights of Attributes linear Regression 1980-1989',\n",
      "    xaxis=XAxis(\n",
      "        title='Attributes',\n",
      "        showgrid=False,\n",
      "        zeroline=False\n",
      "    ),\n",
      "    yaxis=YAxis(\n",
      "        title='Weights',\n",
      "        showline=False\n",
      "    )\n",
      ")\n",
      "fig = Figure(data=data, layout=layout)\n",
      "py.iplot(fig, filename='basic-bar')\n",
      "\n",
      "#print len(['acousticness','danceability','duration','energy','key','liveness','loudness','mode','speechiness','time_signature','valence','love','joy','surprise','anger','sadness','fear']), len(clf.coef_)"
     ],
     "language": "python",
     "metadata": {},
     "outputs": [
      {
       "html": [
        "<iframe id=\"igraph\" scrolling=\"no\" style=\"border:none;\"seamless=\"seamless\" src=\"https://plot.ly/~rahulduggal2608/10.embed\" height=\"525\" width=\"100%\"></iframe>"
       ],
       "metadata": {},
       "output_type": "pyout",
       "prompt_number": 17,
       "text": [
        "<plotly.tools.PlotlyDisplay at 0xaaeca74c>"
       ]
      }
     ],
     "prompt_number": 17
    },
    {
     "cell_type": "markdown",
     "metadata": {},
     "source": [
      "## Plot PCA and linear regression line\n",
      "---\n"
     ]
    },
    {
     "cell_type": "code",
     "collapsed": false,
     "input": [
      "x_zero = [a_test[(i,ans)[0],0] for i,ans in enumerate(b_test) if ans==0] \n",
      "y_zero = [a_test[(i,ans)[0],1] for i,ans in enumerate(b_test) if ans==0] \n",
      "\n",
      "x_one = [a_test[(i,ans)[0],0] for i,ans in enumerate(b_test) if ans==1]\n",
      "y_one = [a_test[(i,ans)[0],1] for i,ans in enumerate(b_test) if ans==1]\n",
      "\n",
      "\n",
      "\n",
      "m,c = clf.coef_\n",
      "\n",
      "x1 = -800\n",
      "y1 = m*x1+c\n",
      "\n",
      "x2 = 200\n",
      "y2 = m*x2+c\n",
      "\n",
      "print m,c\n"
     ],
     "language": "python",
     "metadata": {},
     "outputs": [
      {
       "output_type": "stream",
       "stream": "stdout",
       "text": [
        "-0.000267632636716 -0.00371334040161\n"
       ]
      }
     ],
     "prompt_number": 323
    },
    {
     "cell_type": "code",
     "collapsed": false,
     "input": [
      "import plotly.plotly as py\n",
      "from plotly.graph_objs import *\n",
      "\n",
      "trace_zero = Scatter(\n",
      "    x=x_zero,\n",
      "    y=y_zero,\n",
      "    mode='markers',\n",
      "    name='<50',\n",
      "    #text=['United States', 'Canada'],\n",
      "    marker=Marker(\n",
      "        color='rgb(164, 194, 244)',\n",
      "        size=12,\n",
      "        line=Line(\n",
      "            color='white',\n",
      "            width=0.5\n",
      "        )\n",
      "    )\n",
      ")\n",
      "\n",
      "trace_one = Scatter(\n",
      "    x=x_one,\n",
      "    y=y_one,\n",
      "    mode='markers',\n",
      "    name='50-100',\n",
      "    #text=['United States', 'Canada'],\n",
      "    marker=Marker(\n",
      "        color='rgb(142, 124, 195)',\n",
      "        size=12,\n",
      "        line=Line(\n",
      "            color='white',\n",
      "            width=0.5\n",
      "        )\n",
      "    )\n",
      ")\n",
      "\n",
      "trace_line = Scatter(\n",
      "    x=[x1,x2],\n",
      "    y=[y1,y2],\n",
      "    name='linear-regression line',\n",
      "    mode='lines'\n",
      ")\n",
      "\n",
      "\n",
      "data = Data([trace_zero, trace_one, trace_line])\n",
      "layout = Layout(\n",
      "    title='PCA and linear Regression 1980-1989',\n",
      "    xaxis=XAxis(\n",
      "        title='PCA component 1',\n",
      "        showgrid=False,\n",
      "        zeroline=False\n",
      "    ),\n",
      "    yaxis=YAxis(\n",
      "        title='PCA component 2',\n",
      "        showline=False\n",
      "    )\n",
      ")\n",
      "fig = Figure(data=data, layout=layout)\n",
      "py.iplot(fig, filename='line-style')"
     ],
     "language": "python",
     "metadata": {},
     "outputs": [
      {
       "html": [
        "<iframe id=\"igraph\" scrolling=\"no\" style=\"border:none;\"seamless=\"seamless\" src=\"https://plot.ly/~rahulduggal2608/14.embed\" height=\"525\" width=\"100%\"></iframe>"
       ],
       "metadata": {},
       "output_type": "pyout",
       "prompt_number": 325,
       "text": [
        "<plotly.tools.PlotlyDisplay at 0xaacdc1ec>"
       ]
      }
     ],
     "prompt_number": 325
    },
    {
     "cell_type": "markdown",
     "metadata": {},
     "source": [
      "## Single function returning accuracy\n",
      "---"
     ]
    },
    {
     "cell_type": "code",
     "collapsed": false,
     "input": [
      "def classify(start_year, end_year, classifier, lyrics=True, audio=True):\n",
      "    dfs = []\n",
      "\n",
      "    for year in range(start_year,end_year):\n",
      "\n",
      "        try:        \n",
      "            df = pd.DataFrame.from_csv(str(year)+'.csv')\n",
      "            df['song_rank'] = range(1,len(df)+1)\n",
      "            df = df.dropna()\n",
      "            df = df[(df['love']>0.) | (df['anger']>0.) | (df['fear']>0.) | (df['joy']>0.) | (df['sadness']>0.) | (df['surprise']>0.)]\n",
      "\n",
      "            df['class'] = df['song_rank'].apply(lambda x: int((x-0.1)/50))\n",
      "            df['year'] = [int(year)] * len(df)\n",
      "\n",
      "            dfs.append(df)\n",
      "        except:\n",
      "            continue\n",
      "\n",
      "\n",
      "    df = pd.concat(dfs)\n",
      "    \n",
      "    #print lyrics, audio\n",
      "    \n",
      "    if lyrics and audio:\n",
      "        X = df[['acousticness','danceability','duration','energy','key','liveness','loudness','mode','speechiness','time_signature','valence','love','joy','surprise','anger','sadness','fear']].as_matrix()\n",
      "    elif audio:\n",
      "        X = df[['acousticness','danceability','duration','energy','key','liveness','loudness','mode','speechiness','time_signature','valence']].as_matrix()\n",
      "    elif lyrics:\n",
      "        X = df[['love','joy','surprise','anger','sadness','fear']]\n",
      "    Y = [a[0] for a in df[['class']].values]\n",
      "    \n",
      "    a_train, a_test, b_train, b_test = train_test_split(X, Y, test_size=0.20, random_state=42)\n",
      "    \n",
      "    if classifier=='svm':\n",
      "        clf = svm.SVC(C=1)\n",
      "    elif classifier=='logistic':\n",
      "        clf = linear_model.LogisticRegression()\n",
      "    elif classifier=='linear':\n",
      "        clf = linear_model.LinearRegression()  \n",
      "        \n",
      "    clf.fit(a_train,b_train)\n",
      "    \n",
      "    prediction = clf.predict(a_test)\n",
      "    \n",
      "    if classifier=='linear':\n",
      "        prediction = [0 if val<0.5 else 1 for val in clf.predict(a_test)]\n",
      "        c = 0\n",
      "        for i,val in enumerate(prediction):\n",
      "            if prediction[i]==b_test[i]:\n",
      "                c=c+1\n",
      "\n",
      "        return max(float(c) / len(prediction), 1 - (float(c) / len(prediction)))\n",
      "    \n",
      "    b_test_not = [1^b for b in b_test]\n",
      "    return max(clf.score(a_test, b_test), clf.score(a_test,b_test_not))  \n",
      "        \n",
      "        \n",
      "    "
     ],
     "language": "python",
     "metadata": {},
     "outputs": [],
     "prompt_number": 18
    },
    {
     "cell_type": "code",
     "collapsed": false,
     "input": [
      "print classify(1950,2011,'linear',audio=True,lyrics=False)\n",
      "print classify(1950,2011,'linear',audio=False,lyrics=True)\n",
      "print classify(1950,2011,'linear',audio=True,lyrics=True)\n",
      "\n",
      "print '\\n'\n",
      "\n",
      "print classify(1950,2011,'logistic',audio=True,lyrics=False)\n",
      "print classify(1950,2011,'logistic',audio=False,lyrics=True)\n",
      "print classify(1950,2011,'logistic',audio=True,lyrics=True)\n",
      "\n",
      "print '\\n'\n",
      "\n",
      "print classify(1950,2011,'svm',audio=True,lyrics=False)\n",
      "print classify(1950,2011,'svm',audio=False,lyrics=True)\n",
      "print classify(1950,2011,'svm',audio=True,lyrics=True)"
     ],
     "language": "python",
     "metadata": {},
     "outputs": [
      {
       "output_type": "stream",
       "stream": "stdout",
       "text": [
        "0.513788098694\n",
        "0.503628447025"
       ]
      },
      {
       "output_type": "stream",
       "stream": "stdout",
       "text": [
        "\n",
        "0.510885341074"
       ]
      },
      {
       "output_type": "stream",
       "stream": "stdout",
       "text": [
        "\n",
        "\n",
        "\n",
        "0.515239477504"
       ]
      },
      {
       "output_type": "stream",
       "stream": "stdout",
       "text": [
        "\n",
        "0.502177068215"
       ]
      },
      {
       "output_type": "stream",
       "stream": "stdout",
       "text": [
        "\n",
        "0.502177068215"
       ]
      },
      {
       "output_type": "stream",
       "stream": "stdout",
       "text": [
        "\n",
        "\n",
        "\n",
        "0.505079825835"
       ]
      },
      {
       "output_type": "stream",
       "stream": "stdout",
       "text": [
        "\n",
        "0.518142235123"
       ]
      },
      {
       "output_type": "stream",
       "stream": "stdout",
       "text": [
        "\n",
        "0.500725689405"
       ]
      },
      {
       "output_type": "stream",
       "stream": "stdout",
       "text": [
        "\n"
       ]
      }
     ],
     "prompt_number": 19
    },
    {
     "cell_type": "code",
     "collapsed": false,
     "input": [
      "# print classify(1960,1970,'linear',lyrics=True,audio=True)\n",
      "# print classify(1960,1970,'logistic',lyrics=True,audio=True)\n",
      "# print classify(1960,1970,'svm',lyrics=True,audio=True)\n",
      "\n",
      "\n",
      "\n",
      "lin_aud=[]\n",
      "log_aud=[]\n",
      "svm_aud=[]\n",
      "\n",
      "lin_lyr=[]\n",
      "log_lyr=[]\n",
      "svm_lyr=[]\n",
      "\n",
      "lin_aud_lyr=[]\n",
      "log_aud_lyr=[]\n",
      "svm_aud_lyr=[]\n",
      "\n",
      "for year in xrange(1950,2001,10):\n",
      "    lin_aud.append(classify(year,year+10,'linear',lyrics=False,audio=True))\n",
      "    log_aud.append(classify(year,year+10,'logistic',lyrics=False,audio=True))\n",
      "    svm_aud.append(classify(year,year+10,'svm',lyrics=False,audio=True))\n",
      "    \n",
      "for year in xrange(1950,2001,10):\n",
      "    lin_lyr.append(classify(year,year+10,'linear',lyrics=True,audio=False))\n",
      "    log_lyr.append(classify(year,year+10,'logistic',lyrics=True,audio=False))\n",
      "    svm_lyr.append(classify(year,year+10,'svm',lyrics=True,audio=False))\n",
      "    \n",
      "    \n",
      "for year in xrange(1950,2001,10):\n",
      "    lin_aud_lyr.append(classify(year,year+10,'linear',lyrics=True,audio=True))\n",
      "    log_aud_lyr.append(classify(year,year+10,'logistic',lyrics=True,audio=True))\n",
      "    svm_aud_lyr.append(classify(year,year+10,'svm',lyrics=True,audio=True))\n",
      "    \n",
      "    \n",
      "lin_aud_avg = float(sum(lin_aud)) / len(lin_aud)\n",
      "lin_lyr_avg = float(sum(lin_lyr)) / len(lin_aud)\n",
      "lin_aud_lyr_avg = float(sum(lin_aud_lyr)) / len(lin_aud_lyr)\n",
      "\n",
      "log_aud_avg = float(sum(log_aud)) / len(log_aud)\n",
      "log_lyr_avg = float(sum(log_lyr)) / len(log_lyr)\n",
      "log_aud_lyr_avg = float(sum(log_aud_lyr)) / len(log_aud_lyr)\n",
      "\n",
      "svm_aud_avg = float(sum(svm_aud)) / len(svm_aud)\n",
      "svm_lyr_avg = float(sum(svm_lyr)) / len(svm_lyr)\n",
      "svm_aud_lyr_avg = float(sum(svm_aud_lyr)) / len(svm_aud_lyr)"
     ],
     "language": "python",
     "metadata": {},
     "outputs": [],
     "prompt_number": 20
    },
    {
     "cell_type": "markdown",
     "metadata": {},
     "source": [
      "###plot Audio comparison\n",
      "---"
     ]
    },
    {
     "cell_type": "code",
     "collapsed": false,
     "input": [
      "print 'Avg Accuracy for linear classification is ' + str(lin_aud_avg*100) + '%'\n",
      "print 'Avg Accuracy for logistic classification is ' + str(log_aud_avg*100) + '%'\n",
      "print 'Avg Accuracy for svm based classification is ' + str(svm_aud_avg*100) + '%'\n",
      "\n",
      "trace1 = Scatter(\n",
      "    x=[50,60,70,80,90,100],\n",
      "    y=lin_aud,\n",
      "    name='linear',\n",
      ")\n",
      "trace2 = Scatter(\n",
      "    x=[50,60,70,80,90,100],\n",
      "    y=log_aud,\n",
      "    name='logistic',\n",
      ")\n",
      "trace3 = Scatter(\n",
      "    x=[50,60,70,80,90,100],\n",
      "    y=svm_aud,\n",
      "    name='svm',\n",
      ")\n",
      "data = Data([trace1, trace2, trace3])\n",
      "layout = Layout(\n",
      "    title='Models Comparison with Audio Only',\n",
      "    xaxis=XAxis(\n",
      "        title='Decades'\n",
      "#         showgrid=False,\n",
      "#         zeroline=False\n",
      "    ),\n",
      "    yaxis=YAxis(\n",
      "        title='Accuracy',\n",
      "#         showline=False\n",
      "    )\n",
      ")\n",
      "fig = Figure(data=data, layout=layout)\n",
      "py.iplot(fig, filename='line-style')"
     ],
     "language": "python",
     "metadata": {},
     "outputs": [
      {
       "output_type": "stream",
       "stream": "stdout",
       "text": [
        "Avg Accuracy for linear classification is 54.6957198666%\n",
        "Avg Accuracy for logistic classification is 54.644362248%\n",
        "Avg Accuracy for svm based classification is 54.1734363684%\n"
       ]
      },
      {
       "html": [
        "<iframe id=\"igraph\" scrolling=\"no\" style=\"border:none;\"seamless=\"seamless\" src=\"https://plot.ly/~rahulduggal2608/14.embed\" height=\"525\" width=\"100%\"></iframe>"
       ],
       "metadata": {},
       "output_type": "pyout",
       "prompt_number": 336,
       "text": [
        "<plotly.tools.PlotlyDisplay at 0xaa87f44c>"
       ]
      }
     ],
     "prompt_number": 336
    },
    {
     "cell_type": "code",
     "collapsed": false,
     "input": [
      "print 'Avg Accuracy for linear classification is ' + str(lin_lyr_avg*100) + '%'\n",
      "print 'Avg Accuracy for logistic classification is ' + str(log_lyr_avg*100) + '%'\n",
      "print 'Avg Accuracy for svm classification is ' + str(svm_lyr_avg*100) + '%'\n",
      "\n",
      "trace1 = Scatter(\n",
      "    x=[50,60,70,80,90,100],\n",
      "    y=lin_lyr,\n",
      "    name='linear',\n",
      ")\n",
      "trace2 = Scatter(\n",
      "    x=[50,60,70,80,90,100],\n",
      "    y=log_lyr,\n",
      "    name='logistic',\n",
      ")\n",
      "trace3 = Scatter(\n",
      "    x=[50,60,70,80,90,100],\n",
      "    y=svm_lyr,\n",
      "    name='svm',\n",
      ")\n",
      "data = Data([trace1, trace2, trace3])\n",
      "layout = Layout(\n",
      "    title='Models Comparison with Lyrics Only',\n",
      "    xaxis=XAxis(\n",
      "        title='Decades'\n",
      "#         showgrid=False,\n",
      "#         zeroline=False\n",
      "    ),\n",
      "    yaxis=YAxis(\n",
      "        title='Accuracy',\n",
      "#         showline=False\n",
      "    )\n",
      ")\n",
      "fig = Figure(data=data, layout=layout)\n",
      "py.iplot(fig, filename='line-style')"
     ],
     "language": "python",
     "metadata": {},
     "outputs": [
      {
       "output_type": "stream",
       "stream": "stdout",
       "text": [
        "Avg Accuracy for linear classification is 53.2723592055%\n",
        "Avg Accuracy for logistic classification is 54.6641338586%\n",
        "Avg Accuracy for svm classification is 53.4601859546%\n"
       ]
      },
      {
       "html": [
        "<iframe id=\"igraph\" scrolling=\"no\" style=\"border:none;\"seamless=\"seamless\" src=\"https://plot.ly/~rahulduggal2608/14.embed\" height=\"525\" width=\"100%\"></iframe>"
       ],
       "metadata": {},
       "output_type": "pyout",
       "prompt_number": 337,
       "text": [
        "<plotly.tools.PlotlyDisplay at 0xaa90948c>"
       ]
      }
     ],
     "prompt_number": 337
    },
    {
     "cell_type": "code",
     "collapsed": false,
     "input": [
      "print 'Avg Accuracy for linear classification is ' + str(lin_aud_lyr_avg*100) + '%'\n",
      "print 'Avg Accuracy for logistic classification is ' + str(log_aud_lyr_avg*100) + '%'\n",
      "print 'Avg Accuracy for svm classification is ' + str(svm_aud_lyr_avg*100) + '%'\n",
      "\n",
      "trace1 = Scatter(\n",
      "    x=[50,60,70,80,90,100],\n",
      "    y=lin_aud_lyr,\n",
      "    name='linear',\n",
      ")\n",
      "trace2 = Scatter(\n",
      "    x=[50,60,70,80,90,100],\n",
      "    y=log_aud_lyr,\n",
      "    name='logistic',\n",
      ")\n",
      "trace3 = Scatter(\n",
      "    x=[50,60,70,80,90,100],\n",
      "    y=svm_aud_lyr,\n",
      "    name='svm',\n",
      ")\n",
      "data = Data([trace1, trace2, trace3])\n",
      "layout = Layout(\n",
      "    title='Models Comparison with Audio and Lyrics',\n",
      "    xaxis=XAxis(\n",
      "        title='Decades'\n",
      "#         showgrid=False,\n",
      "#         zeroline=False\n",
      "    ),\n",
      "    yaxis=YAxis(\n",
      "        title='Accuracy',\n",
      "#         showline=False\n",
      "    )\n",
      ")\n",
      "fig = Figure(data=data, layout=layout)\n",
      "py.iplot(fig, filename='line-style')"
     ],
     "language": "python",
     "metadata": {},
     "outputs": [
      {
       "output_type": "stream",
       "stream": "stdout",
       "text": [
        "Avg Accuracy for linear classification is 53.5651455269%\n",
        "Avg Accuracy for logistic classification is 55.4513285195%\n",
        "Avg Accuracy for svm classification is 55.4239261571%\n"
       ]
      },
      {
       "html": [
        "<iframe id=\"igraph\" scrolling=\"no\" style=\"border:none;\"seamless=\"seamless\" src=\"https://plot.ly/~rahulduggal2608/14.embed\" height=\"525\" width=\"100%\"></iframe>"
       ],
       "metadata": {},
       "output_type": "pyout",
       "prompt_number": 338,
       "text": [
        "<plotly.tools.PlotlyDisplay at 0xaa9099cc>"
       ]
      }
     ],
     "prompt_number": 338
    },
    {
     "cell_type": "code",
     "collapsed": false,
     "input": [
      "trace1 = Bar(\n",
      "    x=['linear','logistic','svm'],\n",
      "    y=[lin_aud_avg,log_aud_avg,svm_aud_avg],\n",
      "    name='audio',\n",
      "    marker=Marker(\n",
      "        color='rgb(102,194,164)'\n",
      "    )\n",
      ")\n",
      "trace2 = Bar(\n",
      "    x=['linear','logistic','svm'],\n",
      "    y=[lin_lyr_avg,log_lyr_avg,svm_lyr_avg],\n",
      "    name='lyrics',\n",
      "    marker=Marker(\n",
      "        color='rgb(44,162,95)'\n",
      "    )\n",
      ")\n",
      "trace3 = Bar(\n",
      "    x=['linear','logistic','svm'],\n",
      "    y=[lin_aud_lyr_avg,log_aud_lyr_avg,svm_aud_lyr_avg],\n",
      "    name='audio+lyrics',\n",
      "    marker=Marker(\n",
      "        color='rgb(0,109,44)'\n",
      "    )\n",
      ")\n",
      "data = Data([trace1, trace2,trace3])\n",
      "layout = Layout(\n",
      "    title='Comparison of Audio and Lyrics based models',\n",
      "    xaxis=XAxis(\n",
      "        tickfont=Font(\n",
      "            size=14,\n",
      "            color='rgb(107, 107, 107)'\n",
      "        )\n",
      "    ),\n",
      "    yaxis=YAxis(\n",
      "        title='Accuracy',\n",
      "        titlefont=Font(\n",
      "            size=16,\n",
      "            color='rgb(107, 107, 107)'\n",
      "        ),\n",
      "        tickfont=Font(\n",
      "            size=14,\n",
      "            color='rgb(107, 107, 107)'\n",
      "        )\n",
      "    ),\n",
      "    legend=Legend(\n",
      "        x=100,\n",
      "        y=1,\n",
      "        bgcolor='rgba(255, 255, 255, 0)',\n",
      "        bordercolor='rgba(255, 255, 255, 0)'\n",
      "    ),\n",
      "    barmode='group',\n",
      "    bargap=0.15,\n",
      "    bargroupgap=0.1\n",
      "    \n",
      ")\n",
      "fig = Figure(data=data, layout=layout)\n",
      "py.iplot(fig, filename='style-bar')"
     ],
     "language": "python",
     "metadata": {},
     "outputs": [
      {
       "html": [
        "<iframe id=\"igraph\" scrolling=\"no\" style=\"border:none;\"seamless=\"seamless\" src=\"https://plot.ly/~rahulduggal2608/34.embed\" height=\"525\" width=\"100%\"></iframe>"
       ],
       "metadata": {},
       "output_type": "pyout",
       "prompt_number": 294,
       "text": [
        "<plotly.tools.PlotlyDisplay at 0xab19642c>"
       ]
      }
     ],
     "prompt_number": 294
    },
    {
     "cell_type": "markdown",
     "metadata": {},
     "source": [
      "# Exploratory Analysis\n",
      "---"
     ]
    },
    {
     "cell_type": "code",
     "collapsed": false,
     "input": [],
     "language": "python",
     "metadata": {},
     "outputs": [],
     "prompt_number": 111
    },
    {
     "cell_type": "code",
     "collapsed": false,
     "input": [],
     "language": "python",
     "metadata": {},
     "outputs": [],
     "prompt_number": 112
    },
    {
     "cell_type": "code",
     "collapsed": false,
     "input": [
      "count = np.zeros(6)\n",
      "emotion = df[(df['love']>0.) | (df['anger']>0.) | (df['fear']>0.) | (df['joy']>0.) | (df['sadness']>0.) | (df['surprise']>0.)][['year','love','joy','surprise','anger','sadness','fear']]\n",
      "\n",
      "emotion['dominant_emotion'] = emotion[['love','joy','surprise','anger','sadness','fear']].idxmax(axis=1)\n",
      "\n",
      "e_50_60 = emotion[(emotion['year']>=1950) & (emotion['year']<1960)]['dominant_emotion'].value_counts()\n",
      "e_60_70 = emotion[(emotion['year']>=1960) & (emotion['year']<1970)]['dominant_emotion'].value_counts()\n",
      "e_70_80 = emotion[(emotion['year']>=1970) & (emotion['year']<1980)]['dominant_emotion'].value_counts()\n",
      "e_80_90 = emotion[(emotion['year']>=1980) & (emotion['year']<1990)]['dominant_emotion'].value_counts()\n",
      "e_90_00 = emotion[(emotion['year']>=1990) & (emotion['year']<2000)]['dominant_emotion'].value_counts()\n",
      "e_00_10 = emotion[(emotion['year']>=2000) & (emotion['year']<2010)]['dominant_emotion'].value_counts()\n",
      "\n",
      "e_50_60 = e_50_60.map(lambda x: (float(x)/e_50_60.sum()) * 100)\n",
      "e_60_70 = e_60_70.map(lambda x: (float(x)/e_60_70.sum()) * 100)\n",
      "e_70_80 = e_70_80.map(lambda x: (float(x)/e_70_80.sum()) * 100)\n",
      "e_80_90 = e_80_90.map(lambda x: (float(x)/e_80_90.sum()) * 100)\n",
      "e_90_00 = e_90_00.map(lambda x: (float(x)/e_90_00.sum()) * 100)\n",
      "e_00_10 = e_00_10.map(lambda x: (float(x)/e_00_10.sum()) * 100)\n",
      "\n",
      "\n",
      "print e_00_10\n",
      "print e_00_10.sum()\n",
      "\n",
      "\n",
      "\n",
      "#print emotion[emotion['dominant_emotion']=='anger']"
     ],
     "language": "python",
     "metadata": {},
     "outputs": [
      {
       "output_type": "stream",
       "stream": "stdout",
       "text": [
        "love        66.450567\n",
        "surprise    12.155592\n",
        "fear        11.183144\n",
        "joy          6.482982\n",
        "sadness      2.106969\n",
        "anger        1.620746\n",
        "dtype: float64\n",
        "100.0\n"
       ]
      }
     ],
     "prompt_number": 339
    },
    {
     "cell_type": "code",
     "collapsed": false,
     "input": [
      "import plotly.plotly as py\n",
      "from plotly.graph_objs import *\n",
      "\n",
      "trace1 = Bar(\n",
      "    x=[\"50's\",\"60's\",\"70's\",\"80's\",\"90's\",\"00's\"],\n",
      "    y=[e_50_60['love'], e_60_70['love'], e_70_80['love'] , e_80_90['love'] , e_90_00['love'], e_00_10['love']],\n",
      "    name='Love'\n",
      ")\n",
      "trace2 = Bar(\n",
      "    x=[\"50's\",\"60's\",\"70's\",\"80's\",\"90's\",\"00's\"],\n",
      "    y=[e_50_60['fear'], e_60_70['fear'], e_70_80['fear'], e_80_90['fear'], e_90_00['fear'], e_00_10['fear']],\n",
      "    name='Fear'\n",
      ")\n",
      "trace3 = Bar(\n",
      "    x=[\"50's\",\"60's\",\"70's\",\"80's\",\"90's\",\"00's\"],\n",
      "    y=[e_50_60['joy'], e_60_70['joy'], e_70_80['joy'], e_80_90['joy'], e_90_00['joy'], e_00_10['joy']],\n",
      "    name='Joy'\n",
      ")\n",
      "\n",
      "trace4 = Bar(\n",
      "    x=[\"50's\",\"60's\",\"70's\",\"80's\",\"90's\",\"00's\"],\n",
      "    y=[e_50_60['surprise'], e_60_70['surprise'], e_70_80['surprise'], e_80_90['surprise'], e_90_00['surprise'], e_00_10['surprise']],\n",
      "    name='Surprise'\n",
      ")\n",
      "trace5 = Bar(\n",
      "    x=[\"50's\",\"60's\",\"70's\",\"80's\",\"90's\",\"00's\"],\n",
      "    y=[e_50_60['anger'], e_60_70['anger'], e_70_80['anger'], e_80_90['anger'], e_90_00['anger'], e_00_10['anger']],\n",
      "    name='Anger'\n",
      ")\n",
      "\n",
      "\n",
      "\n",
      "trace6 = Bar(\n",
      "    x=[\"50's\",\"60's\",\"70's\",\"80's\",\"90's\",\"00's\"],\n",
      "    y=[e_50_60['sadness'], e_60_70['sadness'], e_70_80['sadness'], e_80_90['sadness'], e_90_00['sadness'], e_00_10['sadness']],\n",
      "    name='Sadness'\n",
      ")\n",
      "data = Data([trace1, trace2, trace3, trace4,trace5, trace6])\n",
      "    \n",
      "layout = Layout(\n",
      "    title='Emotion Wise Song Distribution',\n",
      "    xaxis=XAxis(\n",
      "        title='Decades'\n",
      "#         showgrid=False,\n",
      "#         zeroline=False\n",
      "    ),\n",
      "    yaxis=YAxis(\n",
      "        title='% distribution',\n",
      "        showline=False\n",
      "    ),\n",
      "    barmode='stack'\n",
      ")\n",
      "fig = Figure(data=data, layout=layout)\n",
      "py.iplot(fig, filename = 'stacked-bar')\n",
      "#plot_url = py.plot(fig, filename='stacked-bar')"
     ],
     "language": "python",
     "metadata": {},
     "outputs": [
      {
       "html": [
        "<iframe id=\"igraph\" scrolling=\"no\" style=\"border:none;\"seamless=\"seamless\" src=\"https://plot.ly/~rahulduggal2608/4.embed\" height=\"525\" width=\"100%\"></iframe>"
       ],
       "metadata": {},
       "output_type": "pyout",
       "prompt_number": 340,
       "text": [
        "<plotly.tools.PlotlyDisplay at 0xaaa75dcc>"
       ]
      }
     ],
     "prompt_number": 340
    },
    {
     "cell_type": "markdown",
     "metadata": {},
     "source": [
      "## Demo\n",
      "---\n"
     ]
    },
    {
     "cell_type": "code",
     "collapsed": false,
     "input": [
      "df_demo = pd.DataFrame.from_csv('demo.csv')\n",
      "a_demo = df_demo[['acousticness','danceability','duration','energy','key','liveness','loudness','mode','speechiness','time_signature','valence','love','joy','surprise','anger','sadness','fear']].as_matrix()\n",
      "#print a_demo\n",
      "prediction = pd.DataFrame({'song_name': df_demo['song_name'],'prediction':[0 if val<0.5 else 1 for val in clf.predict(a_demo)]})\n",
      "\n",
      "print prediction"
     ],
     "language": "python",
     "metadata": {},
     "outputs": [
      {
       "output_type": "stream",
       "stream": "stdout",
       "text": [
        "      prediction        song_name\n",
        "rank                             \n",
        "4              0  I Gotta Feeling\n",
        "96             0          Goodbye\n",
        "7              0        I'm Yours\n",
        "94             1   Whatever It Is\n"
       ]
      }
     ],
     "prompt_number": 17
    }
   ],
   "metadata": {}
  }
 ]
}