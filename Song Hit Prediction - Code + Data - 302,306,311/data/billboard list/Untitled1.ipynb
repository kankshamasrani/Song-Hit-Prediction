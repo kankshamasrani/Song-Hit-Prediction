{
 "metadata": {
  "name": "",
  "signature": "sha256:e0a8eb79a6da3d93d02a9b9360c3f6fbd6905cc822fb7a804d55ec2c2069cc3c"
 },
 "nbformat": 3,
 "nbformat_minor": 0,
 "worksheets": [
  {
   "cells": [
    {
     "cell_type": "code",
     "collapsed": false,
     "input": [
      "from pattern.web import URL, DOM\n",
      "from pattern import web\n",
      "import requests\n",
      "from requests import get\n",
      "import csv\n",
      "import time\n",
      "import re\n",
      "import nltk\n",
      "from nltk.corpus import wordnet as wn\n",
      "from nltk.tokenize import RegexpTokenizer\n",
      "from nltk import bigrams, trigrams\n",
      "import math\n",
      "import sklearn\n",
      "import collections \n",
      "from collections import Counter\n",
      "from pprint import pprint\n",
      "import operator\n",
      "\n",
      "stopwords = nltk.corpus.stopwords.words('english')\n",
      "tokenizer = RegexpTokenizer(\"[\\w\u2019]+\", flags=re.UNICODE)"
     ],
     "language": "python",
     "metadata": {},
     "outputs": [],
     "prompt_number": 1
    },
    {
     "cell_type": "code",
     "collapsed": false,
     "input": [
      "def sss(s1, s2, type='relation', corpus='webbase'):\n",
      "    try:\n",
      "        sss_url = \"http://swoogle.umbc.edu/SimService/GetSimilarity\"\n",
      "        response = get(sss_url, params={'operation':'api','phrase1':s1,'phrase2':s2,'type':type,'corpus':corpus})\n",
      "        ret = float(response.text.strip())\n",
      "        if ret>0:\n",
      "            return ret\n",
      "        else:\n",
      "            return 0.0\n",
      "    except:\n",
      "        print 'Error in getting similarity for',s1,'and',s2\n",
      "        return 0.0\n",
      "\n",
      "\n",
      "def getting_emotion_vector_lyrics(yr):\n",
      "    base_dir=''\n",
      "    complete_lyrics = []\n",
      "    for y in xrange(yr,yr+1):\n",
      "        song_file_name = base_dir + str(y) + '/' + str(y) + '.csv'\n",
      "        rfn = base_dir + str(y) + '/lyrics/' \n",
      "        with open(song_file_name) as csvfile:\n",
      "            song_reader = csv.reader(csvfile, delimiter = ',')\n",
      "            for row in song_reader:\n",
      "                try:                    \n",
      "                    lyrics_file_name = rfn + row[0] + '.txt'\n",
      "                    lyr = open(lyrics_file_name,'r')\n",
      "                    lyrics = lyr.read()\n",
      "                    t = lyrics.index('-')\n",
      "                    while(lyrics[t]=='-'):\n",
      "                        t=t+1\n",
      "                    complete_lyrics.append(lyrics[t+2:(len(lyrics))])\n",
      "                except:\n",
      "                    print lyrics_file_name\n",
      "                    #print 'Lyrics for song ' + row[2] + ' not found, rank '+row[0]\n",
      "                    complete_lyrics.append(' ')\n",
      "    pprint(complete_lyrics)\n",
      "    y=yr\n",
      "    lyrics = complete_lyrics\n",
      "    idf_words = []\n",
      "    tf = {}\n",
      "    for i,l in enumerate(lyrics):\n",
      "        token = tokenizer.tokenize(l.lower())\n",
      "        token = [t for t in token if t not in stopwords and len(t)>2]\n",
      "        total=len(token)\n",
      "        tf_count = Counter(token)\n",
      "        tf_count={s:float(tf_count[s])/total for s in tf_count.keys()}\n",
      "        tf[i] = tf_count\n",
      "        idf_words.extend([word for word in set(token)])\n",
      "    idf_count = Counter(idf_words)\n",
      "    tfidf = {}\n",
      "    for song in tf.keys():\n",
      "        tfidf[song] = {}\n",
      "        for word in tf[song].keys():\n",
      "            tfidf[song][word] = tf[song][word] * math.log(float(len(lyrics))/idf_count[word])\n",
      "        sorted_tfidf = sorted(tfidf[song].items(), key=operator.itemgetter(1), reverse=True)\n",
      "        tfidf[song] = dict(sorted_tfidf[:min(20,len(sorted_tfidf))])\n",
      "    pprint(tfidf)\n",
      "    \n",
      "    sss_url = \"http://swoogle.umbc.edu/SimService/GetSimilarity\"\n",
      "    emotion_vector = {}\n",
      "    basic_emotions = ['love','joy','surprise','anger','sadness','fear']\n",
      "    for song in tf.keys():\n",
      "        emotion_vector[song] = {'love':0,'joy':0,'surprise':0,'anger':0,'sadness':0,'fear':0}\n",
      "        for word in tfidf[song].keys():\n",
      "            emotion_for_word = [sss(word,emotion) for emotion in basic_emotions]\n",
      "            emotion_vector[song][basic_emotions[emotion_for_word.index(max(emotion_for_word))]]+=((max(emotion_for_word))*tfidf[song][word])\n",
      "            print song,':',word,':',emotion_vector[song] \n",
      "    pprint(emotion_vector)\n",
      "    i=1\n",
      "    for song in tf.keys():\n",
      "        maxval = max(emotion_vector[song].iteritems(), key=operator.itemgetter(1))[1]\n",
      "        keys = [k for k,v in emotion_vector[song].items() if v==maxval]\n",
      "        print 'predominant emotion in',song,'is/are',keys\n",
      "    write_emotion_vector = './'+str(y)+'/'+str(y)+'_emotion_vectors.csv'\n",
      "    fp = open(write_emotion_vector,'w')\n",
      "    f = csv.writer(fp, delimiter=',')\n",
      "    headings = ['song_rank','love','joy','surprise','anger','sadness','fear']\n",
      "    f.writerow(headings)\n",
      "    for rank in emotion_vector.keys():\n",
      "        r=[rank+1,emotion_vector[rank]['love'],emotion_vector[rank]['joy'],emotion_vector[rank]['surprise'],emotion_vector[rank]['anger'],emotion_vector[rank]['sadness'],emotion_vector[rank]['fear']]\n",
      "        f.writerow(r)\n",
      "        print r\n",
      "    \n",
      "    print 'Year ' + str(yr) + ' done'\n",
      "    return 0"
     ],
     "language": "python",
     "metadata": {},
     "outputs": [],
     "prompt_number": 2
    },
    {
     "cell_type": "code",
     "collapsed": false,
     "input": [
      "for i in xrange(1997,1998):\n",
      "    getting_emotion_vector_lyrics(i)"
     ],
     "language": "python",
     "metadata": {},
     "outputs": [
      {
       "output_type": "stream",
       "stream": "stdout",
       "text": [
        "1997/lyrics/1.txt\n",
        "1997/lyrics/2.txt\n",
        "1997/lyrics/23.txt\n",
        "1997/lyrics/25.txt\n",
        "1997/lyrics/28.txt\n",
        "1997/lyrics/40.txt\n",
        "1997/lyrics/45.txt\n",
        "1997/lyrics/49.txt\n",
        "1997/lyrics/50.txt\n",
        "1997/lyrics/53.txt\n",
        "1997/lyrics/58.txt\n",
        "1997/lyrics/59.txt\n",
        "1997/lyrics/68.txt\n",
        "1997/lyrics/72.txt\n",
        "1997/lyrics/82.txt\n",
        "1997/lyrics/95.txt\n",
        "1997/lyrics/97.txt\n",
        "1997/lyrics/98.txt\n",
        "["
       ]
      },
      {
       "output_type": "stream",
       "stream": "stdout",
       "text": [
        "' ',\n",
        " ' ',\n",
        " \"Every day I wake up\\nI hope I'm dreaming\\nI can't believe this shit\\nCan't believe you ain't here\\nSometimes it's just hard for a nigga to wake up\\nIt's hard to just keep going\\nIt's like I feel empty inside without you being here\\n\\nI would do anything, man, to bring you back\\nI'd give all this shit up, shit don't mean nothin'\\nI saw your son today\\nHe look just like you\\nYou was the greatest\\nYou'll always be the greatest\\nI miss you, Big\\nCan't wait till that day when I see your face again\\nI can't wait till that day when I see your face again\\n\\nYeah, this right here goes out to\\nEveryone who's lost someone that they truly loved\\nCheck it out\\n\\nSeems like yesterday we used to rock the show\\nI laced the track, you locked the flow\\nSo far from hangin' on the block for dough\\nNotorious they got to know that\\nLife ain't always what it seem to be\\nWords can't express what you mean to me\\nEven though you're gone, we still a team\\nThrough your family I'll fulfill your dreams\\n\\nIn the future can't wait to see \\nIf you'll open up the gates for me\\nReminisce sometime the night they took my friend\\nTry to black it out, but it plays again\\nWhen it's real feelings hard to conceal\\nCan't imagine all the pain I feel\\nGive anything to hear half your breath\\nI know you still livin' your life after death\\n\\nEvery step I take\\nEvery move I make\\nEvery single day\\nEvery time I pray\\nI'll be missing you\\n\\nThinking of the day\\nWhen you went away\\nWhat a life to take\\nWhat a bond to break\\nI'll be missing you\\n\\nWe miss you, Big\\n\\nIt's kinda hard wit' you not around\\nKnow you in Heaven smilin' down\\nWatching us while we pray for you\\nEvery day we pray for you\\nTill the day we meet again\\nIn my heart is where I keep you, friend\\nMemories give me the strength I need to proceed\\nStrength I need to believe\\n\\nMy thoughts, Big, I just can't define\\nWish I could turn back the hands of time\\nUs and the six shop for new clothes and kicks\\nYou and me takin' flicks\\nMakin' hits, stages they received you on\\nStill can't believe you're gone\\nGive anything to hear half your breath\\nI know you still livin' your life after death\\n\\nEvery step I take\\nEvery move I make (I'll miss you)\\nEvery single day\\nEvery time I pray\\nI'll be missing you (yeah, yeah, yeah)\\n\\nThinking of the day\\nWhen you went away (you)\\nWhat a life to take\\nWhat a bond to break\\nI'll be missing you (somebody tell me why)\\n\\nOn that morning\\nWhen this life is over\\nI know, I'll see your face\\n\\nEvery night I pray\\nEvery step I take\\nEvery move I make\\nEvery single day\\nEvery night I pray\\nEvery step I take\\nEvery move I make\\nEvery single day\\nEvery night I pray\\n\\nEvery step I take\\nEvery move I make\\nEvery single day\\nEvery night I pray\\nEvery step I take\\nEvery move I make\\nEvery single day\\n\\n\\n\\n\",\n",
        " 'eak My Heart\\n---------------------------------\\n\\nDon\\'t leave me in all this pain\\nDon\\'t leave me out in the rain\\nCome back and bring back my smile\\nCome and take these tears away\\nI need your arms to hold me now\\nThe nights are so unkind\\nBring back those nights when I held you beside me\\n\\nUn-break my heart\\nSay you\\'ll love me again\\nUndo this hurt you caused when you walked out the door\\nAnd walked outta my life\\nUn-cry these tears\\nI cried so many nights\\nUn-break my heart, my heart\\n\\nTake back that sad word, \"goodbye\"\\nBring back the joy to my life\\nDon\\'t leave me here with these tears\\nCome and kiss this pain away\\nI can\\'t forget the day you left\\nTime is so unkind\\nAnd life is so cruel without you here beside me\\n\\nUn-break my heart\\nSay you\\'ll love me again\\nUndo this hurt you caused when you walked out the door\\nAnd walked outta my life\\nUn-cry these tears\\nI cried so many nights\\nUn-break my heart, my heart\\n\\nDon\\'t leave me in all this pain\\nDon\\'t leave me out in the rain\\nBring back the nights when I held you beside me\\n\\nUn-break my heart\\nSay you\\'ll love me again\\nUndo this hurt you caused when you walked out the door\\nAnd walked outta my life\\nUn-cry these tears\\nI cried so many, many nights\\nUn-break my, un-break my heart, oh baby\\nCome back and say you love me\\nUn-break my heart, sweet darlin\\'\\nWithout you I just can\\'t go on\\n\\n(Say that you love me)\\n(Say that you love me)\\n(Tell me you love me) Can\\'t go on\\n(Un-break my)\\n\\n(Say that you love me)\\n(Say that you love me)\\n(Tell me you love me)\\n(Un-break my)\\n\\n\\n\\n',\n",
        " 'Bad Boy... we ain\\'t gon\\' stop\\n\\nNow with Sean on the hot track, melt like it\\'s hot wax\\nPut it out, all the stores, bet you could shop that (that\\'s right)\\nLeave a nigga with a hot hat\\nFronting like Bad Boy ain\\'t got tracks (nigga stop that)\\n\\nThere\\'s no guy slicker than this young fly nigga\\nNickel-nine nigga, floss you die quicker (uh-huh)\\nThis fed time outta town pie flipper\\nTurn Cristal into a Crooked I sipper\\n\\nEverbody want to be fast, see the cash\\nFuck around they weak staff, get a heat rash\\nAnything in Bad Boy way we smash (we smash)\\nHundred G stash, push a bulletproof E-Class (ehehe)\\n\\nI\\'m through with bein\\' a player and a baller\\nJust want me one bad bitch so I can spoil her\\nMa$e wanna be the one you respect, even when you\\'re vexed\\nRock Versace silks over spilled v-neck\\n\\nGot green never seen so you suck my jewels\\nClutch my uz\\', anything I touch I bruise\\nPuff make his own laws, nigga fuck your rules (that\\'s right)\\nGoodfellas, you know you can\\'t touch us dudes\\n\\nDon\\'t push us, \\'cause we\\'re close to the edge\\nWe\\'re tryin, not to lose our heads, a-hah hah hah hah\\n\\nBroken glass everywhere\\nIf it ain\\'t about the money, Puff, I just don\\'t care (that\\'s right)\\nI\\'m that Goodfella fly guy, sometimes wiseguys\\nSpend time in H-A-W-A-I-I\\n\\n(Ma$e can you please stop smoking lah lah?)\\nPuff why try? I\\'m a thug, I\\'mma die high\\nI be out in Jersey, puffin\\' Hershey\\nBrothers ain\\'t worthy to rock my derby\\n\\nThough I\\'m never drugged, I\\'m the venom in the club, G\\nThough I know the thug be wantin\\' to slug me (uh-huh)\\nCould it be I move as smoove as Bugsy? (yeah)\\nOr be at the bar with too much bubbly? (c\\'mon)\\n\\nYo, I think it must be the girls want to lust me\\nOr is it simply the girls just love me\\nBrothers wanna rock the Rolls, rock my clothes\\nRock my ice, pull out Glocks, stop my life\\n\\nI\\'m like, \"Damn, how these niggaz got they trust?\\nUsed to be my man, how you gonna plot on my wife?\"\\nDo you think you snake me, \\'cause they hate me?\\nOr he got his Ph.D Player Hater\\'s Degree? (haha)\\n\\nCan\\'t nobody take my pride\\nUh-uh, uh-uh\\nCan\\'t nobody hold me down, ohh no\\nI got to keep on movin\\'\\n\\nQuit that! (uh-huh) You a big cat? (yeah)\\nWhere your chicks at? (yeah) Where your whips at? (where dey at?)\\nWherever you get stacks, I\\'mma fix that\\nEverything that\\'s big dreams, I did that (that\\'s right)\\n\\nDon\\'t knock me \\'cause you\\'re boring\\nI\\'m record sales soaring, straight touring\\nSimply a lot of men be wantin to hear me\\n\\'Cause their words just don\\'t offend me (uh-uh, uh-uh)\\n\\nWe spend cheese in the West Indies\\nThen come home to plenty cream Bentleys (ahehe)\\nYou name it, I could claim it\\nYoung, black and famous with money hangin\\' out the anus\\n\\nAnd when you need a hit, who you go and get? (who?)\\nBet against us? (Not a sure bet)\\nWe make hits that\\'ll rearrange your whole set (that\\'s right)\\nAnd got a Benz that I ain\\'t even drove yet\\n\\nDon\\'t push us, cause we\\'re close to the, edge\\nWe\\'re tryin, not to, lose our heads, a-hah-hah-hah-hah\\n\\nI get the feeling sometime, that make me wonder\\nWhy you wanna take us under\\nWhy you wanna take us under\\n\\nI get the feeling sometime, that make me wonder\\nWhy you wanna take us under\\nWhy you wanna take us under\\n\\nCan\\'t nobody take my pride\\nUh-uh, uh-uh\\nCan\\'t nobody hold me down, ohh no\\nI got to keep on movin\\'\\n\\nCan\\'t nobody take my pride\\nUh-uh, uh-uh\\nCan\\'t nobody hold me down, ohh no\\nI got to keep on movin\\'\\n\\nCan\\'t nobody take my pride\\nUh-uh, uh-uh\\nCan\\'t nobody hold me down, ohh no\\nI got to keep on movin\\'\\n\\nCan\\'t nobody take my pride\\n\\n\\n\\n',\n",
        " \"I used to think that I could not go on\\nAnd life was nothing but an distrustful song\\nBut now I know the meaning of true love\\nI'm leaning on the everlasting arms\\nIf I can see it, then I can do it\\nIf I just believe it, there's nothing to it\\n\\nI believe I can fly\\nI believe I can touch the sky\\nI think about it every night and day\\nSpread my wings and fly away\\nI believe I can soar\\nI see me running through that open door\\nI believe I can fly\\nI believe I can fly\\nI believe I can fly\\n\\nSee I was on the verge of breaking down\\nSometimes silence can seem so loud\\nThere are miracles in life I must achieve\\nBut first I know it starts inside of me \\nIf I can see it, then I can be it\\nIf I just believe it, there's nothing to it\\n\\nI believe I can fly\\nI believe I can touch the sky\\nI think about it every night and day\\nspread wings and fly away\\nI believe I can soar \\nI see me running through that open door\\nI believe I can fly\\nI believe I can fly\\nI believe I can fly\\n\\nHey, 'cause I believe in you\\nOh\\n\\nIf I can see it, then I can do it\\nIf I just believe it, there's nothing to it\\n\\nI believe I can fly\\nI believe I can touch the sky\\nI think about it every night and day\\nspread wings and fly away\\nI believe i can soar \\nI see me running through that open door\\nI believe I can fly\\nI believe I can fly\\nI believe I can fly\\n\\nIf I just spread my wings (I can fly)\\nI can fly (I can fly)\\nI can fly (I can fly)\\nI can fly (I can fly)\\nIf I just spread my wings (I can fly)\\nI can fly...(i can fly,i can fly)\\nwoo... i can fly\\nhmmmmm...fly, fly, fly\\n\\n\\n\\n\",\n",
        " \"What's it gonna be 'cuz I can't pretend\\nDon't you want to be more than friends\\nHold me tight and don't let go\\nDon't let go\\nYou have the right to lose control\\nDon't let go\\n\\nI often tell myself that we could be more than just friends\\nI know you think that if we move too soon it would all end\\nI live in misery when you're not around\\nAnd I won't be satisfied till we're taking those vows\\n\\nThere'll be some love makin', heart breakin', soul shakin' love\\nLove makin', heart breakin', soul shakin'.....\\n\\nWhat's it gonna be 'cuz I can't pretend\\nDon't you want to be more than friends\\nHold me tight and don't let go\\nDon't let go\\nYou have the right to lose control\\nDon't let go\\n\\nI often fantasize the stars above are watching you,\\nThey know my heart, it speaks to yours like only lovers do\\nIf I could wear your clothes I'd pretend I was you and lose control\\n\\nThere'll be some love makin', heart breakin', soul shakin' love\\nLove makin', heart breakin', soul shakin'.....\\n\\nWhat's it gonna be 'cuz I can't pretend\\nDon't you want to be more than friends\\nHold me tight and don't let go\\nDon't let go\\nYou have the right to lose control\\nDon't let go\\n\\nRunnin in and outta my life\\nHas got me so confused\\nYou gotta make the sacrifice\\nSomebody's gotta choose\\nWe can make it if we try\\nFor the sake of you and I\\nTogether we can make it right\\n\\n(Can't keep a running)\\n(In and outta my life outta my outta my life)\\n(You've got the right, you've got the right, I said ayou've got the\\nright to loooose controol yeah)\\n\\nWhat's it gonna be 'cuz I can't pretend\\nDon't you want to be more than friends\\nHold me tight and don't let go\\nDon't let go\\nYou have the right to lose control\\nDon't let go\\n\\nDon't let go\\nDon't let go\\n\\nWhat's it gonna be 'cuz I can't pretend\\nDon't you want to be more than friends\\nHold me tight and don't let go\\nDon't let go\\nYou have the right to lose control\\nDon't let go\\n\\nWhat's it gonna be (don't let go)\\nDon't you want to be (don't let go)\\nHold me tight and don't let go (don't let go)\\n\\n\\n\\n\",\n",
        " \"Oh, oo-o-oh, come on, ooh, yeah\\nWell I tried to tell you so (yes, I did)\\nBut I guess you didn't know, as I said the story goes\\nBaby, now I got the flow\\n'Cos I knew it from the start\\nBaby, when you broke my heart\\nThat I had to come again, and show you that I'm real\\n\\n(You lied to me) all those times I said that I love you\\n(You lied to me) yes, I tried, yes, I tried\\n(You lied to me) even though you know I'd die for you\\n(You lied to me) yes, I cried, yes, I cried\\n\\n1-(Return of the Mack) it is\\n(Return of the Mack) come on\\n(Return of the Mack) oh my God\\n(You know that I'll be back) here I am\\n(Return of the Mack) once again\\n(Return of the Mack) pump up the world\\n(Return of the Mack) watch my flow\\n(You know that I'll be back) here I go\\n\\nSo I'm back up in the game\\nRunning things to keep my swing\\nLetting all the people know\\nThat I'm back to run the show\\n'Cos what you did, you know, was wrong\\nAnd all the nasty things you've done\\nSo, baby, listen carefully\\nWhile I sing my come-back song\\n\\n2-(You lied to me) 'cos she said she'd never turn on me\\n(You lied to me) but you did, but you do\\n(You lied to me) all these pains you said I'd never feel\\n(You lied to me) but I do, but I do, do, do\\n\\n(Return of the Mack) here it is\\n(Return of the Mack) hold on\\n(Return of the Mack) don't you know\\n(You know that I'll be back) here I go\\n(Return of the Mack) oh little girl\\n(Return of the Mack) once my pearl\\n(Return of the Mack) up and down\\n(You know that I'll be back) round and round\\n(rpt 2, 1)\\n\\n(You know that I'll be back) don't you know\\n\\n(Return of the Mack) here it is\\n(Return of the Mack) hold on\\n(Return of the Mack) be strong\\n(You know that I'll be back) here I go\\n(Return of the Mack) my little girl\\n(Return of the Mack) once my pearl\\n(Return of the Mack) up and down\\n(You know that I'll be back) round and round\\n\\n\\n\\n\",\n",
        " \"How do I,\\nGet through one night without you?\\nIf I had to live without you,\\nWhat kind of life would that be?\\nOh, I\\nNeed you in my arms, need you to hold,\\nYou're my world, my heart, my soul,\\nIf you ever leave,\\nBaby you would take away everything good in my life,\\n\\nAnd tell me now\\nHow do I live without you?\\nI want to know,\\nHow do I breathe without you?\\nIf you ever go,\\nHow do I ever, ever survive?\\nHow do I, how do I, O how do I live?\\n\\nWithout you,\\nThere'd be no sun in my sky,\\nThere would be no love in my life,\\nThere'd be no world left for me.\\nAnd I,\\nBaby I don't know what I would do,\\nI'd be lost if I lost you,\\nIf you ever leave,\\nBaby you would take away everything real in my life,\\n\\nAnd tell me now,\\nHow do I live without you?\\nI want to know,\\nHow do I breathe without you?\\nIf you ever go,\\nHow do I ever, ever survive?\\nHow do I, how do I, O how do I live?\\n\\nIf you ever leave,\\nBaby you would take away everything,\\nI need you with me,\\nBaby don't you know that you're everything,\\nGood in my life?\\n\\nAnd tell me now,\\nHow do I live without you,\\nI want to know,\\nHow do I breathe without you?\\nIf you ever go,\\nHow do I ever, ever survive?\\nHow do I, how do I, how do I live?\\n\\nHow do I live without you?\\n\\n\\n\\n\",\n",
        " \"Yo, I'll tell you what I want, what I really, really want\\nSo tell me what you want, what you really, really want\\nI'll tell you what I want, what I really, really want\\nSo tell me what you want, what you really, really want\\nI wanna (ha), I wanna (ha), I wanna (ha), I wanna (ha), I wanna\\nReally, really, really wanna zig-a-zig ah\\n\\nIf you want my future, forget my past\\nIf you wanna get with me, better make it fast\\nNow, don't go wastin' my precious time\\nGet your act together, we could be just fine\\n\\nI'll tell you what I want, what I really, really want\\nSo tell me what you want, what you really, really want\\nI wanna (ha), I wanna (ha), I wanna (ha), I wanna (ha), I wanna\\nReally, really, really wanna zig-a-zig ah\\n\\nIf you wanna be my lover, you gotta get with my friends (gotta get with my friends)\\nMake it last forever, friendship never ends\\nIf you wanna be my lover, you have got to give\\nTakin' is too easy, but that's the way it is\\n\\nWhatchu think about that? Now you know how I feel\\nSay you can handle my love, are you for real? (Are you for real?)\\nI won't be hasty, I'll give you a try\\nIf you really bug me, then I'll say goodbye\\n\\nYo, I'll tell you what I want, what I really, really want\\nSo tell me what you want, what you really, really want\\nI wanna (ha), I wanna (ha), I wanna (ha), I wanna (ha), I wanna\\nReally, really, really wanna zig-a-zig ah\\n\\nIf you wanna be my lover, you gotta get with my friends (gotta get with my friends)\\nMake it last forever, friendship never ends\\nIf you wanna be my lover, you have got to give (you've got to give)\\nTakin' is too easy, but that's the way it is\\n\\nSo here's a story from A to Z, you wanna get with me\\nYou gotta listen carefully\\nWe got Em in the place who likes it in your face\\nYou got G like MC who likes it on an\\n\\nEasy V doesn't come for free, she's a real lady\\nAnd as for me, ha ha, you'll see\\nSlam your body down and wind it all around\\nSlam your body down and wind it all around\\n\\nIf you wanna be my lover, you gotta get with my friends (gotta get with my friends)\\nMake it last forever, friendship never ends\\nIf you wanna be my lover, you have got to give (you've got to give)\\nTakin' is too easy, but that's the way it is\\n\\nIf you wanna be my lover\\nYou gotta, you gotta, you gotta, you gotta, you gotta (Make it last forever)\\nSlam, slam, slam, slam\\nSlam your body down and wind it all around\\nSlam your body down and wind it all around (Huh! Huh! Huh! Huh! Huh!)\\nSlam your body down and wind it all around\\nSlam your body down and zigazig-ah\\n\\nIf you wanna be my lover\\n\\n\\n\\n\",\n",
        " \"Even in my heart I see\\nYou're not bein' true to me\\nDeep within my soul I feel\\nNothing's like it used to be\\n\\nSometimes I wish I could turn back time\\nImpossible as it may seem\\nBut I wish I could so bad, baby\\n\\nQuit playin' games with my heart\\nWith my heart\\nWith my heart\\n\\nI should've known from the start\\nWith my heart\\nWith my heart\\nWith my heart\\n\\nI live my life the way\\nTo keep you comin' back to me\\nEverything I do is for you\\nSo what is it that you can't see?\\n\\nSometimes I wish I could turn back time\\nImpossible as it may seem\\nBut I wish I could so bad, baby\\n\\nQuit playin' games with my heart\\nWith my heart\\nWith my heart\\n\\nI should've known from the start\\nWith my heart\\nWith my heart\\nQuit playin' games\\n\\nBaby, baby, the love that we had was so strong\\nDon't leave me hangin' here forever\\nOh, baby, baby, this is not a lie\\nLet's stop this tonight\\n\\nBaby\\nQuit playin' games\\n\\nNanana...\\n\\nSometimes I wish I could turn back time\\nImpossible as it may seem\\nBut I wish I could so bad, baby\\n\\nQuit playin' games with my heart\\nWith my heart\\nWith my heart\\n\\nI should've known from the start\\nWith my heart\\nWith my heart\\nWith my heart\\n\\nQuit playin' games with my heart\\nNanana...\\n\\nQuit playin' games with my heart\\nWith my heart\\nWith my heart\\nWith my heart\\n\\n\\n\\n\",\n",
        " \"You have so many relationships in this life\\nBut only one or two will last\\nYou go through all the pain and strife\\nThen you turn your back and they're gone so fast\\nOh yeah, they're gone so fast, yeah\\n\\nOh, so hold on to the ones who really care\\nIn the end they'll be the only ones there\\nWhen you get old and start losing your hair\\nCan you tell me who will still care?\\nCan you tell me who will still care? Oh, care\\n\\nMMMbop, ba duba dop ba do bop\\nBa duba dop ba do bop\\nBa duba dop ba do, yeah yeah\\nMMMbop ba duba dop ba do bop\\nBa duba dop ba do bop\\nBa duba dop ba do\\n\\nI said oh yeah, in an MMMbop they're gone\\nYeah\\n\\nPlant a seed, plant a flower, plant a rose\\nYou can plant any one of those\\nKeep planting to find out which one grows\\nIt's a secret no one knows\\nIt's a secret no one knows\\nOh, no one knows\\n\\nMMMbop, ba duba dop ba do bop\\nBa duba dop ba do bop\\nBa duba dop ba do, yeah yeah\\nMMMbop ba duba dop ba do bop\\nBa duba dop ba do bop\\nBa duba dop ba do, yeah yeah\\n\\nIn an MMMbop, they're gone\\nIn an MMMbop, they're not there\\nIn an MMMbop, they're gone\\nIn an MMMbop, they're not there\\nUntil you lose your hair, oh\\nBut you don't care, okay then\\n\\nMMMbop, ba duba dop ba do bop\\nBa duba dop ba do bop\\nBa duba dop ba do, yeah yeah\\nMMMbop ba duba dop ba do bop\\nBa duba dop ba do bop\\nBa duba dop ba do, yeah\\n\\nCan you tell me?\\nNo you can't, but you don't know\\nCan you tell me? Oh yeah\\nYou say you can but you don't know\\nCan you tell me? (Which flower's going to grow?)\\nNo you can't, but you don't know\\nCan you tell me? (Is it going to be a daisy or a rose?)\\nCan you tell me?\\nSay you can but you don't know\\nSay you can but you don't know\\nYou don't know how, you don't know how\\n\\nMMMbop\\nDo wop\\nDo wop\\nDo, yeah yeah\\n\\nMMMbop\\nDo wop\\nDo wop\\nDo, yeah\\n\\nMMMbop, ba duba dop ba do bop\\nBa duba dop ba do bop\\nBa duba dop ba do, yeah yeah\\nMMMbop ba duba dop ba do bop\\nBa duba dop ba do bop\\nBa duba dop ba do, oh\\n\\nMMMbop, ba duba dop ba do bop\\nBa duba dop ba do bop\\nBa duba dop ba do, oh\\nMMMbop ba duba dop ba do bop\\nBa duba dop ba do bop\\nBa duba dop ba do, oh yeah\\n\\nCan you tell me?\\nNo you can't, but you don't know\\nCan you tell me?\\nYou say you can but you don't know\\nSay you can but you don't know\\n\\n\\n\\n\",\n",
        " \"When you're feeling lost in the night\\nWhen you feel your world just ain't right\\nCall on me, I will be waiting\\nCount on me, I will be there\\nAnytime the times get too tough\\nAnytime your best ain't enough\\nI'll be the one to make it better\\nI'll be there to protect you\\nSee you through\\nI'll be there and there is nothing\\nI won't do\\n\\nI will cross the ocean for you\\nI will go and bring you the moon\\nI will be your hero, your strength\\nAnything you need\\nI will be the sun in your sky\\nI will light your way for all time\\nI Promise you\\nFor you I will\\n\\nI will shield your heart from the rain\\nI will let no harm come your way\\nOh these arms will be your shelter\\nNo these arms won't let you down\\nIf there is a mountain to move\\nI will move that mountain for you\\nI'm here for you, I'm here forever\\nI will be your fortress, tall and strong\\nI'll keep you safe, I'll stand beside you , right or wrong\\n\\nI will cross the ocean for you (I will cross the ocean)\\nI will go and bring you the moon (yeah, yeah)\\nI will be your hero, your strength\\nAnything you need (And I will be..)\\nI will be the sun in your sky (The sun)\\nI will light your way for all time\\nI Promise you\\nFor you I will\\n\\nFor you I will\\nLay my life on the line\\nFor you I will fight  (oh,oh,oh)\\nFor you I will die\\nWith every breath, with all my soul\\nI'll give my world\\nI'll give it all\\nPut your faith in me (Put you're faith in me)\\nAnd I'll do anything(oh)\\n\\nI will cross the ocean for you (I will cross the ocean)\\nI will go and bring you the moon\\nI will be your hero, your strength\\nAnything you need\\nI will be the sun in your sky\\nI will light your way for all time\\nI Promise you (I Promise you)\\nFor you I will, I will, I will, I will\\n\\nI will cross the ocean for you\\nI will go and bring you the moon\\nI will be your hero your strength(Let me be your hero)\\nAnything you need (Anything you need)\\nI will be the sun in your sky (yeah, yeah)\\nI will light your way for all time\\nI Promise you (I promise you)\\nFor you I will (oooh)\\n\\nI promise you\\nFor you I, I will\\n\\n\\n\\n\",\n",
        " \"This is what you do\\nThis is what you do\\nThis is what you do\\nThis is what you do.\\n\\nChorus:\\nYou make me wanna leave the one I'm with to\\nStart a new relationship with you\\nThis is what you do\\nThink about her ring and all the things that come along with\\nYou make me\\nYou make me wanna leave the one I'm with\\nStart a new relationship with you\\nThis is what you do\\nThink about her ring and all the things that come along with\\nYou make me.\\nYou make me\\n\\nVerse 1:\\nBefore anything began between us\\nYou were like my best friend\\nThe one I used to run and talk to\\nWhen me and my girl was having problems\\nYou used to say it'll be okay\\nSuggest little nice things I should do\\nAnd when I go home at night and lay my head down\\nAll I seem to think about was you\\nAnd how you make me wanna...\\n\\nChorus:\\n...Leave the one I'm with\\nStart a new relationship with you\\nThis is what you do\\nThink about her ring and all the things that come along with\\nYou make me\\nYou make me wanna leave the one I'm with\\nStart a new relationship with you\\nThis is what you do\\nThink about her ring and all the things that come along with\\nYou make me\\nYou make me.\\n\\nVerse 2:\\nNow what's bad is you're the one that hooked us up\\nKnowin' it should've been you\\nWhat's sad is that I love her but I'm falling for you.\\nWhat should I do?\\nShould I tell my baby bye-bye?\\nShould I do exactly what I feel inside?\\nCause I, I don't wanna go, don't need to stay\\nBut I really need to get it together.\\n\\nChorus:\\nYou make me wanna leave the one I'm with\\nStart a new relationship with you see what you do?\\nThis is what you do\\nThink about her ring and all the things that come along with\\nYou make me you make me\\nYou make me wanna leave the one I'm with oh baby\\nStart a new relationship with you this is what you do\\nThis is what you do\\nThink about her ring and all the things that come along with\\nYou make me\\nYou make me.\\n\\nVerse 3:\\nAt this point the situation's out of control\\nI never meant to hurt her\\nBut I gotta let her go\\nAnd she may not understand it\\nWhile all of this is going on\\nI tried\\nI tried to fight it\\nBut the feelin's just too strong.\\n\\nChorus:\\nYou make me wanna leave the one I'm with see what you do?\\nStart a new relationship with you\\nThis is what you do\\nThink about a ring and all the things that come along with\\nYou make me\\nYou make me wanna leave the one I'm with oh baby\\nStart a new relationship with you\\nThis is what you do\\nThink about a ring and all the things that come along with\\nYou make me\\nYou make me. (x2)\\n\\n\\n\\n\",\n",
        " \"I hate the world today\\nYou're so good to me\\nI know but I can't change\\nTried to tell you\\nBut you look at me like maybe \\nI'm an angel underneath\\nInnocent and sweet\\n\\nYesterday I cried\\nYou must have been relieved \\nTo see the softer side\\nI can understand how you'd be so confused\\nI don't envy you\\nI'm a little bit of everything\\nAll rolled into one\\n\\nI'm a bitch\\nI'm a lover\\nI'm a child\\nI'm a mother\\nI'm a sinner\\nI'm a saint\\nAnd I do not feel ashamed\\nI'm your hell\\nI'm your dream\\nI'm nothing in between\\nYou know you wouldn't want it any other way\\n\\nSo take me as I am\\nThis may mean you'll have to be a stronger man\\nRest assured that when I start to make you nervous\\nAnd I'm going to extremes\\nTomorrow I will change\\nAnd today won't mean a thing\\n\\nI'm a bitch\\nI'm a lover\\nI'm a child\\nI'm a mother\\nI'm a sinner\\nI'm a saint\\nAnd I do not feel ashamed\\nI'm your hell\\nI'm your dream\\nI'm nothing in between\\nYou know you wouldn't want it any other way\\n\\nJust when you think you've got me figured out\\nThe season's already changin'\\nI think it's cool you do what you do\\nAnd don't try to save me\\n\\nI'm a bitch\\nI'm a lover\\nI'm a child\\nI'm a mother\\nI'm a sinner\\nI'm a saint\\nAnd I do not feel ashamed\\nI'm your hell\\nI'm your dream\\nI'm nothing in between\\nYou know you wouldn't want it any other way\\n\\nI'm a bitch\\nI'm a tease\\nI'm a goddess on my knees\\nWhen you hurt\\nWhen you suffer\\nI'm your angel undercover\\nI've been numb\\nI'm revived\\nCan't say I'm not alive\\nYou know I wouldn't want it any other way\\n\\n\\n\\n\",\n",
        " \"Keith Sweat - Nobody\\n\\n[Keith] \\nI want to tease you\\nI want to please you \\nI want to show you, baby\\nthat I need you \\n\\nI want your body \\n'till the very last drop \\nI want you to holler\\nwhen you want me to stop \\n\\nAnd who can love you like me ~~ Nobody \\nWho can sex you like me ~~ Nobody\\nWho can treat you like me now, baby ~~ Nobody \\nNobody, baby ~~ Nobody\\nAnd who can do it like me ~~ Nobody\\nAnd who can give you what you need ~~ Nobody \\nWho can do you all night long ~~ Nobody\\nNobody, baby ~~ Nobody\\n\\n[Athena] \\nI want the night\\nfor me and you \\nSo come here baby\\nand let me do it to you \\n\\nDon't be afraid\\n'cause I won't bite \\nI promise to give it to you \\nJust the way you like \\n\\nAnd who can love you like me ~~ Nobody\\nWho can sex you like me ~~ Nobody \\nWho can lay your body down ~~ Nobody \\nNobody, baby ~~ Nobody \\nAnd who can treat you like me ~~ Nobody\\nWho can give you what you need ~~ Nobody \\nAnd who can do you all night long ~~ Nobody\\nNobody, baby ~~ Nobody \\nAnd the band keeps playing on \\n\\n[Both] 2x\\nOn, on, on, and on, on... \\nNobody, baby \\nOn, on, on, and on, on... \\nNobody baby \\nCome on \\nOn, no, on, and on, on... \\nNobody baby \\n\\nI want you, right now for my lover, oh yes I do \\nPlace no one above you, oh yes I do \\nIf you need love, I'll be right, baby \\nI'll be right there, baby, oh yes I will \\nOh yes I will baby \\nOh yes I will baby \\n\\nAnd who will love you like me ~~ Nobody\\nWho can sex your body like me baby ~~ Nobody \\nWho can do it like me, baby ~~ Nobody\\nNo, no, no ~~ Nobody\\nWho can lay you down just like me ~~ Nobody \\nWho can kiss you all over your body, baby ~~ Nobody \\nI'm gonna caress your body \\n\\n(ad lib till fade)\\n\\n\\n\\n\",\n",
        " \"armed Life\\n------------------------------------\\n\\nI'm packed and I'm holding\\nI'm smiling, she's living\\nShe's golden, she lives for me\\nSays she lives for me\\nOvation, her own motivation\\nShe comes 'round, and she goes down on me\\n\\nAnd I make her smile like a drug for you\\nDo ever what you want to do, coming over you\\nKeep on smiling, what we go through\\nOne stop to the rhythm that divides you\\n\\nAnd I speak to you like the chorus to the verse\\nChop another line like a coda with a curse\\nCome on like a freak show takes the stage\\nWe give them the games we play, she said\\n\\nI want something else\\nTo get me through this\\nSemi-charmed kind of life, baby, baby\\nI want something else\\nI'm not listening when you say goodbye\\n\\nThe sky was gold, it was rose\\nI was taking sips of it through my nose\\nAnd I wish I could get back there\\nSome place back there\\nSmiling in the pictures you would take\\n\\nDoing crystal meth will lift you up until you break\\nIt won't stop, I won't come down, I keep stock\\nWith a tick-tock rhythm, a bump for the drop\\nAnd then I bumped up, I took the hit that I was given\\nAnd I bumped again, and then I bumped again\\nI said\\n\\nHow do I get back there\\nTo the place where I fell asleep inside you?\\nHow do I get myself back to the place where you said\\n\\nI want something else\\nTo get me through this\\nSemi-charmed kind of life, baby, baby\\nI want something else\\nI'm not listening when you say goodbye\\n\\nI believe in the sand beneath my toes\\nThe beach gives a feeling, an earthy feeling\\nI believe in the faith that grows\\nAnd the four right chords can make me cry\\nWhen I'm with you I feel like I could die\\nAnd that would be all right, all right\\n\\nAnd when the plane came in, she said she was crashing\\nThe velvet, it rips in the city\\nWe tripped on the urge to feel alive\\nNow I'm struggling to survive\\nThose days you were wearing that velvet dress\\nYou're the priestess, I must confess\\nThose little red panties they pass the test\\nSlide up around the belly face down on the mattress\\n\\nOne, and you hold me\\nAnd we are broken\\nStill it's all that I want to do\\nJust a little now\\n\\nFeel myself hovering off the ground\\nI'm scared, I'm not coming down, no, no\\nAnd I won't run for my life\\nShe's got her jaws now locked down in a smile\\nBut nothing is all right, all right\\n\\nAnd I want something else to get me through this life, baby\\nI want something else, not listening when you say\\nGoodbye\\nGoodbye\\nGoodbye\\nGoodbye\\n\\nThe sky was gold, it was rose\\nI was taking sips of it through my nose\\nAnd I wish I could get back there\\nSome place back there\\nIn the place we used to start\\n\\nI want something else\\n\\n\\n\\n\",\n",
        " \"I know what you're doing, I see it all too clear\\nI only taste the saline when I kiss away your tears\\nYou really had me going, wishing on a star\\nBut the black holes that surround you are heavier by far\\n\\nI believed in your confusion, you were so completely torn\\nIt must've been that yesterday was the day that I was born\\nThere's not much to examine, there's nothing left to hide\\nYou really can't be serious, you have to ask me why\\nI say goodbye\\n\\n'Cause I am barely breathing and I can't find the air\\nDon't know who I'm kidding, imagining you care\\nAnd I could stand here waiting, a fool for another day\\nI don't suppose it's worth the price, you're worth the price, the price that I would pay\\n\\nAnd everyone keeps asking, what's it all about?\\nI used to be so certain and I can't figure out\\nWhat is this attraction, I can only feel the pain\\nThere's nothing left to reason and only you to blame\\nWill it ever change?\\n\\n'Cause I am barely breathing and I can't find the air\\nDon't know who I'm kidding, imagining you care\\nAnd I could stand here waiting, a fool for another day\\nI don't suppose it's worth the price, you're worth the price, the price that I would pay\\nBut I'm thinking it over anyway\\nI'm thinking it over anyway \\n\\nI've come to find I may never know\\nYour changing mind, is it friend or foe\\nI rise above or sink below\\nWith every time you come and go\\nPlease don't come and go\\n\\n'Cause I am barely breathing and I can't find the air\\nDon't know who I'm kidding, imagining you care\\nAnd I could stand here waiting, a fool for another day\\nI don't suppose it's worth the price, you're worth the price, the price that I would pay\\nBut I'm thinking it over anyway\\nI'm thinking it over anyway\\n\\nI know what you're doing, I see it all too clear\\n\\n\\n\\n\",\n",
        " \"Everybody needs a little time away\\nI heard her say\\nFrom each other\\nEven lovers need a holiday\\nFar away from each other\\n\\nHold me now\\nIt's hard for me to say I'm sorry\\nI just want you to stay\\nAnd after all that you've been through\\nI will make it up to you\\nI promise you, baby\\nAnd after all that's been said and done\\nYou're just a part of me I can't let go\\n\\nCouldn't stand to be kept away\\nNot for a day\\nFrom your body\\nWouldn't want to be swept away\\nFar away from the one that I love\\n\\nHold me now\\nIt's hard for me to say I'm sorry\\nI just want you to know\\nHold me now\\nI really want to tell you I'm sorry\\nI could never let you go\\nAfter all that we've been through\\nI will make it up to you, I promise you\\nAnd after all that's been said and done\\nYou're just a part of me I can't let go\\nI can't let go\\n\\n\\n\\n\",\n",
        " \"I'm comin' out, I'm comin'\\nI'm comin' out, I'm comin'\\n\\nNow, who's hot, who not\\nTell me who rock, who sell out in the stores\\nYou tell me who flopped, who copped the blue drop\\nWho jewels got robbed, who's mostly Dolce down\\n\\nTo the tube socks, the same ol pimp\\nMa$e, you know ain't nuttin changed but my limp\\nCan't stop till I see my name on a blimp\\nGuarantee a million sales pullin' all the love\\n\\nYou don't believe in Harlem World nigga double up\\nWe don't play around, it's a bet lay it down\\nNiggaz didn't know me '91, bet they know me now\\nI'm the young Harlem nigga with the golden sound\\n\\nCan't no PhD niggaz hold me down, Cooter\\nSchooled me to the game, now I know my duty\\nStay humble, stay low, blow like Hootie\\nTrue pimp niggaz spend no dough on the booty\\nAnd then ya yell there go Ma$e, there go your cutie\\n\\nI don't know what they want from me\\nIt's like the mo money we come across\\nThe mo problems we see\\nI don't know what they want from me\\nIt's like the mo money we come across\\nThe mo problems we see\\n\\nYeah yeah, ahaha, it's the D to-the A to the D-D-Y\\nI know you'd rather see me die than to see me fly\\nI call all the shots, rip all the spots\\nRock all the rocks, cop all the drops\\n\\nI know you thinkin' now\\nWhen all the ballin' stops, nigga never home\\nGotta call me on the yacht\\nTen years from now we'll still be on top\\nYo, I thought I told you that we won't stop\\n\\nNow whatcha gonna do wit a crew\\nThat got money much longer than yours\\nAnd a team much stronger than yours\\nViolate me this'll be your day, we don't play and\\nMess around, be D.O.A., be on your way\\n\\n'Cause it ain't enough time here, ain't enough lime here\\nFor you to shine here, deal with many women\\nBut treat dimes fair\\nAnd I'm bigger than the city lights down in Times Square\\nYeah, yeah, yeah\\n\\nI don't know what they want from me\\nIt's like the mo money we come across\\nThe mo problems we see\\nI don't know what they want from me\\nIt's like the mo money we come across\\nThe mo problems we see\\n\\nUh, uh\\nB-I-G P-O-P-P-A\\nNo info for the D.E.A.\\nFederal agents mad 'cause I'm flagrant\\nTap my cell and the phone in the basement\\n\\nMy team supreme, stay clean\\nTriple beam lyrical dream, I be that\\nCat you see at all events bent\\nGats in holsters, girls on shoulders\\n\\nPlayboy, I told ya, bring ya might to me\\nBruise too much, I lose too much\\nStep on stage, the girls boo too much\\nI guess it's 'cause you run with lame dudes too much\\n\\nMe lose my touch, never that\\nIf I did, ain't no problem to get the gat\\nWhere the true players at?\\nThrow your rolees in the sky\\nWave 'em side to side and keep your hands high\\n\\nWhile I give your girl the eye, player please\\nLyrically, nigga see\\nB.I.G. be flossin' jig on the cover of Fortune\\nFive double oh, here's my phone number\\n\\nYour man ain't got to know, I got the dough\\nGot the flow down pizzack\\nPlatinum plus like thizzat\\nDangerous on trizzack, leave your ass blizzack\\n\\nI don't know what they want from me\\nIt's like the mo money we come across\\nThe mo problems we see\\nI don't know what they want from me\\nIt's like the mo money we come across\\nThe mo problems we see\\n\\nI don't know what they want from me\\nIt's like the mo money we come across\\nThe mo problems we see\\n\\nWhat's goin on?\\nWhat's goin on?\\nSomebody tell me\\nWhat's goin on?\\nWhat's goin on?\\n\\nI don't know what they want from me\\nIt's like the mo money we come across\\nThe mo problems we see\\nI don't know what they want from me\\nIt's like the mo money we come across\\nThe mo problems we see\\n\\nI don't know what they want from me\\nIt's like the mo money we come across\\nThe mo problems we see\\nI don't know what they want from me\\nIt's like the mo money we come across\\nThe mo problems we see\\n\\n\\n\\n\",\n",
        " \"When I was young I knew everything\\nShe, a punk who rarely ever took advice\\nNow I'm guilt-stricken, sobbin' with my head on the floor\\nStopped a baby's breath and a shoe full of rice, no\\n\\nCan't be held responsible\\nBut she was touching her face\\nI won't be held responsible\\nShe fell in love in the first place\\n\\nFor the life of me, I cannot remember \\nWhat made us think that we were wise and we'd never compromise\\nFor the life of me, I cannot believe\\nWe'd ever die for these sins\\nWe were merely freshmen\\n\\nMy best friend took a week's vacation to forget her\\nHis girl took a week's worth of valium and slept\\nAnd now he's guilt-stricken, sobbin' with his head on the floor\\nThinks about her now and how he never really wept, he said\\n\\nCan't be held responsible\\n'Cause she was touching her face\\nI won't be held responsible\\nShe fell in love in the first place\\n\\nFor the life of me, I cannot remember\\nWhat made us think that we were wise and we'd never compromise\\nFor the life of me, I cannot believe\\nWe'd ever die for these sins\\nWe were merely freshmen\\n\\nHey, yeah, yeah, yeah, yeah\\nHey, yeah\\nHey, yeah, yeah, yeah, yeah\\n\\nWe tried to wash our hands of all of this\\nWe'd never talk of our lacking relationships\\nAnd how we're guilt-stricken sobbin' with our heads on the floor\\nWe fell through the ice when we tried not to slip, we'd say\\n\\nCan't be held responsible\\n'Cause she was touching her face\\nAnd I won't be held responsible\\nShe fell in love in the first place\\n\\nFor the life of me, I cannot remember\\nWhat made us think that we were wise and we'd never compromise\\nFor the life of me, I cannot believe\\nWe'd ever die for these sins\\nWe were merely freshmen\\n\\nFor the life of me, I cannot remember\\nWhat made us think that we were wise and we'd never compromise\\nFor the life of me, I cannot believe\\nWe'd ever die for these sins\\nWe were merely freshmen\\n\\nWe were merely freshmen \\nWe were only freshmen\\n\\n\\n\\n\",\n",
        " \"Anytime I need to see your face\\nI just close my eyes\\nAnd I am taken to a place\\nWhere your crystal mind\\nAnd magenta feelings take up shelter \\nIn the base of my spine\\nSweet like a chic-a-cherry cola\\n\\nI don't even try to explain\\nI just hold on tight\\nAnd if it happens again\\nI might move so slightly\\nTo the arms\\nAnd the lips and the face\\nOf the human cannonball that\\nI need to I want to...\\n\\nCome stand a little bit closer\\nBreathe in and get a bit higher\\nYou'll never know what hit you\\nWhen I get to you\\n\\nOoh I want you\\nI don't know if I need you but\\nOoh I'd die to find out\\nOoh I want you\\nI don't know if I need you but\\nOoh I'd die to find out\\n(ohh I ohh I)\\n\\nI'm the kind of person\\nWho endorses a deep commitment\\nGetting comfy getting perfect\\nIs what I live for\\nBut a look and then \\nA smell of perfume\\nIt's like I'm down on the floor\\nAnd I don't know what I'm in for\\n\\nConversation has a time and place\\nIn the interaction\\nOf a lover and a mate\\nBut the time of talking\\nUsing symbols, using words\\nCan be likened\\nTo a deep sea diver\\nWho is swimming with a raincoat\\n\\nCome stand a little bit closer\\nBreathe in and get a bit higher\\nYou'll never know what hit you when\\nI get to you\\n\\nOoh I want you\\nI don't know if I need you but\\nOoh I'd die to out\\nOoh I want you\\nI don't know if I need you but\\nOoh I'd die to find out\\n(ohh ohh ohh I ohh ohh yeah)\\nAnytime I need to see your face\\nI just close my eyes\\nAnd I am taken to a place\\nWhere your crystal mind\\nAnd magenta feelings take up shelter \\nIn the base of my spine\\nSweet like a chic-a cherry cola\\n\\nI don't even try to explain\\nI just hold on tight\\nAnd if it happens again\\nI might move so slightly\\nTo the arms\\nAnd the lips and the face\\nOf the human cannonball that\\nI need to I want to...\\n\\nOoh I want you\\nI don't know if I need you but\\nOoh I'd die to out\\nOoh I want you\\nI don't know if I need you but\\nOoh I'd die to find out\\n\\nOoh I want you\\nI don't know if I need you but\\nOoh I'd die to out\\nOoh I want you\\nI don't know if I need you but\\nOoh I'd die to find out\\n\\nOoh I want you\\nI don't know if I need you but\\nOoh I'd die to out\\nOoh I want you\\nI don't know if I need you but\\nOoh I'd die to find out\\n\\n\\n\\n\",\n",
        " ' ',\n",
        " \"Everytime I see your face it makes me want to sing\\nand everytime I think about your love\\nit drives me crazy (2x)\\n\\nSay my lady\\ntell me what's wrong with your boyfriend\\naaaahhhhh come on\\nhe holds the key to your heart\\nbut he don't love you baby, baby like I do\\nonly wanna be with you\\ngirl you are the love of my life babe\\nand I'd give it to you baby\\nyou belong to me and only me\\nI belong to you (I belong)\\nI'd give all my love to you\\n\\nChorus:\\n\\nEverytime I see your face it makes me want to sing\\nand everytime I think about your love it drives me crazy\\n(2x)\\n\\nsay my lady\\nyou are so fine\\nI wake up in the mornin' to see a smile on your face (baby)\\nyou are the queen of my heart baby\\nI belong to you and you belong to me (yeah)\\ngirl you are the love of my life baby\\nall those cloudy days they fade away when you come my way baby\\nI belong to you (I belong)\\nI'd give all my love to you\\nI belong, I belong, I belong to you baby oooooo\\n\\nChorus: (2x)\\n\\n\\n\\n\",\n",
        " ' ',\n",
        " \"Girl, it's been a long, long time comin', yes it has\\nBut I, I know that it's been worth the wait, yeah\\nIt feels like springtime in winter  \\nIt feels like Christmas in June  \\nIt feels like heaven has opened up its gates for me and you\\n\\nEvery time I close my eyes\\nI thank the Lord that I've got you\\nAnd you've got me too\\nAnd every time I think of it \\nI pinch myself 'cos I don't believe it's true\\nThat someone like you loves me too\\n\\nGirl, I think that you're truly somethin', yes you are\\nAnd you're every bit of a dream come true, yes you are\\nWith you baby, it never rains and it's no wonder \\nSun always shines when I'm near you \\nIt's just a blessing that I have found somebody like you\\n\\nEvery time I close my eyes\\nI thank the Lord that I've got you\\nAnd you've got me too\\nAnd every time I think of it \\nI pinch myself 'cos I don't believe it's true\\nThat someone like you loves me too\\n\\nTo think of all the nights I've cried myself to sleep \\nYou really ought to know how much you mean to me\\nIt's only right that you'll be in my life\\nRight here with me, oh baby, baby, yeah\\n\\nEvery time I close my eyes\\nI thank the Lord that I've got you\\nAnd you've got me too\\nAnd every time I think of it \\nI pinch myself 'cos I don't believe it's true\\nThat someone like you loves me too\\n\\n\\n\\n\",\n",
        " \"No, no, no\\nNo this can't be true\\n\\nI got this feeling, and I just can't turn it loose\\nThat somebody's been getting next to you\\nI don't want to walk around knowin' I was your fool\\n'Cuz being the man that I am, I just can't lose my cool\\n\\nMy friends keep telling me about the things that's going on babe\\nBut deep in my heart baby I hope that I'm wrong\\nYes I hope I'm wrong but I know it babe\\n\\nCHORUS\\nSomebody's sleeping in my bed, my bed baby\\nSomebody's takin' my place (baby)\\nSomebody's sleeping in my bed baby\\nAnd you know just what I mean, oh oh oh oh oh!\\n\\nI come home early expecting your warm embrace\\nBut something is wrong 'cuz its written all over your face\\nIt hurt so bad when I walk through the door\\nBut 'cha know one damn thing baby, I ain't coming back no more\\nNo no no\\n\\n\\nNow don't try to tell me things are still the same\\n'Cuz when we made love I heard you call out his name\\nCall out his name\\n\\nCHORUS\\nSomebody's sleeping in my bed tonight baby\\nSomebody's taking Sisqo's place\\nSomebody's sleeping in my bed baby\\nSomebody's taking my place, yeah\\n\\nGirl I want you to know\\nI gave you money and every li'l thing that you need\\nI gave you the world (yes I did) 'cuz you were my girl (oh yes I did)\\nBut you still ran out on me oh yeah\\n\\nCHORUS\\nSaid you're sleeping in my bed\\nMessin' with my head oooh\\nTell me why, oh why oh why\\nWhy oh why oh why\\nWhy oh why oh why oh why oh why said you're\\nSleeping in my bed\\nMessin' with my head\\nSomebody's takin' my place\\nOhh yeah\\n\\nNow if you truly love me (alright)\\nThen this would not be happenin'\\nSleepin' in my bed, messin' with my head\\nOh no no no no, gotta let you go\\n\\nYes I do, baby babe\\nWhy'd you do it\\nWhy'd you do it\\nI don't wanna be a fool no more\\n\\n\\n\\n\",\n",
        " ' ',\n",
        " \"Always be around\\n\\n(Do ya, do ya, do ya)\\n\\nDon't you know I can see what you're doing?\\nRunning around with your cheap talk, cheap talk, yeah\\nWhat I need is a man who can do me right, do me right\\n\\nIf you got what I need, I can guarantee\\nTo return all the love that you've given to me\\nBut I've got to be sure that you always will be around\\n(Always be around)\\n\\nDo you know what it takes to love me?\\nDo you know what it takes to do me right?\\nDo you know what it takes to love me, baby, ba-by\\n\\nHeaven knows in my time I've been lonely\\nFeeling my love echo in my mind, in my mind, yeah\\nA never satisfied girl's what they call me\\nBut I just can't keep goin' on livin' lies\\n\\nGuarantee unto me\\nYou won't let me down\\nThere's so much I can give\\nBut it's buried so deep\\nI've just got to be sure that you always will be around\\n(Always be around)\\n\\nDo you know what it takes to love me? (Do you know)\\nDo you know what it takes to do me right?\\nDo you know what it takes to love me baby, ba-by\\nDo you know what it takes? (Do you know)\\nDo you know what it takes?\\n\\n(Don't waste my time, with your lies)\\nYeah baby, I gotta know\\n(You've got to prove that you will always be around)\\n\\nI'll give you everything\\nBoy, will you do the same for me?\\nWill you do anything?\\nI gotta know the way it'll be\\n\\nDo you know what it takes to love me? (Do you know)\\nDo you know what it takes to do me right?\\nDo you know, do you know, do you know what it takes?\\nDo you know what it takes to love me, baby, yeah\\nDo you know what it takes to do me ri-ight?\\nDon't waste my time baby\\n\\n\\n\\n\",\n",
        " \"I long for the warmth of days gone by\\nWhen you were mine\\nBut now those days are memories in time\\n\\nLife's empty without you by my side\\nMy heart belongs to you\\nNo matter what I try\\n\\nWhen I get the courage up to love somebody new\\nIt always falls apart 'cause they just can't compare to you\\nYour love won't release me, I'm bound under ball and chain\\nReminiscing our love as I watch four seasons change\\n\\nIn comes the winter breeze\\nThat chills the air and drifts the snow\\nAnd I imagine kissing you under the mistletoe\\n\\nWhen springtime makes its way here\\nLilac blooms reminds me of\\nThe scent of your perfume\\n\\nWhen summer burns with heat\\nI always get the hots for you\\nGo skinny dippin' in the ocean\\nWhere we used to do\\n\\nWhen autumn sheds the leaves\\nThe trees are bare when you're not here\\nIt doesn't feel the same\\n(It doesn't feel the same, oh)\\n\\nRemember the nights\\nWhen we closed our eyes (we closed our eyes)\\nAnd vowed that you and I\\nWould be in love for all time\\n\\nEverytime I think about these things I shared with you\\nI break down and cry 'cause I get so emotional\\nUntil you release me I'm bound under ball and chain\\nReminiscing our love as I watch four seasons change\\n\\nIn comes the winter breeze\\nThat chills the air and drifts the snow\\nAnd I imagine kissing you under the mistletoe\\n\\nWhen springtime makes its way here\\nLilac blooms reminds me of\\nThe scent of your perfume\\n\\nWhen summer burns with heat\\nI always get the hots for you\\nGo skinny dippin' in the ocean where we used to do\\n\\nWhen autumn sheds the leaves the trees are bare\\nWhen you're not here\\nIt doesn't feel the same\\n\\nThis loneliness has crushed my heart (it's killing me, baby)\\nPlease let me love again\\n'Cause I need your love to comfort me and ease my pain\\nOr four seasons will bring the loneliness again\\n\\nIn comes the winter breeze\\nThat chills the air and drifts the snow\\nAnd I imagine kissing you under the mistletoe\\n\\nWhen springtime makes its way here\\nLilac blooms reminds me of\\nThe scent of your perfume\\n\\nWhen summer burns with heat\\nI always get the hots for you\\nGo skinny dippin' in the ocean where we used to do\\n\\nWhen autumn sheds the leaves the trees are bare\\nWhen you're not here\\nIt doesn't feel the same (It doesn't feel the same)\\n\\nRemember the warmth of days gone by\\n\\n\\n\\n\",\n",
        " \"Sittin' there, sittin' there\\nSittin' there\\nAll alone\\n\\nI been feeling kinda strange lately\\nI don't know what's going on, baby\\nEver since I came back from out of town\\nSomething's telling me some bullshit is going down\\n\\n[1:]\\nBoy is it someone else you're seeking\\nIs it someone else\\nMy vitals' telling me you're creeping\\nFinding numbers in your jeans\\nYou're talking in your sleep\\nFaded letters written by me get o-u-t\\n\\n[2:]\\nNo more sittin' at home alone\\nWhile you're out with somebody else\\nNo more staring at the phone\\n'Cos I can do better by myself\\n\\nYeah, it's obvious how things have changed within the year\\nJust give me half of the rent and get out of here\\nNo more talking save your lying for somebody else\\nKeep on walking 'cos I can do better by myself\\n\\n[1]\\n\\n[2]\\n\\n[2]\\n\\nI gave you all, all of my time\\nBut you would not know a good thing\\nIf it stares you in your face\\n\\n[1]\\n\\n[2]\\n\\n[2]\\n\\nOh oh oh oh\\nHey ey ey ey\\nOh oh oh oh\\n\\n[2: until fade]\\n\\n\\n\\n\",\n",
        " \"Oh, oh, honey got me hooked on you\\nI like that\\nOh, oh, oh, oh\\n(C'mon)\\n\\n(MC) Mmm, ooh, la da da\\n(C'mon) Yeah, da da da\\nOoh, la da da da (MC)\\nLa da da da, ooh\\n(I like that, let's go)\\n\\nOh now you can have me when you want me\\nIf you simply ask me to be there\\nAnd you're the only one who makes me come running\\n'Cause what you got is far beyond compare, oh\\n\\nAnd it's just like honey\\nWhen your love comes over me (that's right)\\nOh baby, I've got a dependency\\nAlways strung out for another taste of your honey\\n\\nIt's like honey when it washes over me\\nYou know sugar never ever was so sweet\\nAnd I'm dying for ya, crying for ya, I adore ya\\nOne hit of your love addicted me\\nNow I'm strung out on you darling, don't you see?\\nEvery night and day, I can hardly wait\\nFor another taste of honey\\n\\nHoney I can't describe\\nHow good it feels inside\\nHoney I can't describe\\nHow good it feels inside\\n\\nI can't be elusive with you honey (I like that)\\n'Cause it's blatant that I'm feeling you\\nAnd it's too hard for me to leave abruptly\\n'Cause you're the only thing I wanna do\\n\\nAnd it's just like honey\\nWhen your love comes over me\\nOh baby, I've got a dependency\\nAlways strung out for another taste of your honey\\n\\nIt's like honey when it washes over me\\nYou know sugar never ever, was so sweet\\nAnd I'm dying for ya, crying for ya, I adore ya\\nOne hit of your love addicted me\\nNow I'm strung out on you darling, don't you see?\\nEvery night and day, I can hardly wait\\nFor another taste of honey\\n\\nHarlem World, we won't stop\\nFor Mariah, you're on fire\\nHarlem World, we won't stop\\nSo Mariah, take us higher\\n\\nHarlem World, we won't stop\\nFor Mariah, you're on fire\\nHarlem World, we won't stop\\nSo Mariah, take us higher\\n\\nBreakdown\\n\\nWhoa whoa, every little thing you do\\nNow, what we gonna do right here\\nIs we gonna smooth it out, c'mon\\nOh oh, honey got me hooked on you\\nMC, and she won't stop\\n\\nIt's like honey when it washes over me\\nYou know sugar never ever was so sweet\\nAnd I'm dying for ya, crying for ya, I adore ya\\nOne hit of your love addicted me\\nNow I'm strung out on you darling, don't you see?\\nEvery night and day, I can hardly wait\\nFor another taste of honey\\n\\nIt's like honey when it washes over me\\nYou know sugar never ever was so sweet\\nAnd I'm dying for ya, crying for ya, I adore ya\\nOne hit of your love addicted me\\nNow I'm strung out on you darling, don't you see?\\nEvery night and day, I can hardly wait\\nFor another taste of honey\\n\\nIt's like honey when it washes over me\\nYou know sugar never ever was so sweet (that's right)\\nAnd I'm dying for ya, crying for ya, I adore ya\\nOne hit of your love addicted me\\nNow I'm strung out on you darling, don't you see?\\nEvery night and day, I can hardly wait\\nFor another taste of honey\\n\\n\\n\\n\",\n",
        " \"I believe in you and me\\nI believe that we will be\\nIn love eternally\\n\\nWell as far as I can see\\nYou will always be the one\\nFor me\\nOh yes you will ,boy\\n\\nAnd I believe in dreams again\\nI believe that love will never end\\nAnd like the river finds the sea\\nI was lost, now I'm free\\n'Cause I believe in you and me\\n\\nI will never leave your side\\nI will never hurt your pride\\nWhen all the chips are down baby\\nSee now I'll always be around\\nJust to be right where you are\\nMy love, you know I love you boy\\n\\nI will never leave you out\\nI will always let you in boy, oh baby\\nTo places no one's ever been\\nDeep inside, can't you see\\nThat I believe in you and me\\n\\nMaybe I'm a fool\\nTo feel the way I do\\nI will play the fool forever\\nJust to be with you forever\\n\\nI believe in miracles\\nAnd love's a miracle\\nAnd yes, baby you're my dream come true\\n\\nI was lost, now I'm free\\nOh baby 'cause I believe, I do \\nBelieve in you and me\\nSee I was lost, now I'm free\\n'Cause I believe in you and me\\n\\nBelieve in you and me\\n\\n\\n\\n\",\n",
        " \"Spoken:\\nThis goes out to all the women in the world, especially her.\\nYou know it don't even matter your age, don't even matter yo color.\\nYo fellas I ain't forget about y'all.\\nThis is for everybody who like to dance.\\nJust listen to what I'm sayin' and do it, and take a chance.\\n\\n\\nI put my hand upon your hip\\nWhen I dip you dip we dip\\nYou put your hand upon my hip\\nWhen you dip I dip we dip\\n\\nI put my hand upon your hip\\nWhen I dip you dip we dip\\nYou put yours and I put mine\\nAnd we can dip down low in a rolling grind\\n\\nGet on the floor like I said before\\nY'all remember that down low\\nJust put a little dip with it\\nNow put those hips with it\\n\\nPop it push it rock it roll it\\nCan't control it, I can hold it\\nIt's all in fun so take a chance\\nJust get on the floor and do that dance y'all\\n\\nI know you like it so don't try to fight it\\nTurn around baby let me see it from the back, yeah I like it like that\\nGet up now, roll those hips drop down double up on those dips\\nFreak Nasty wanna see can y'all do this right like me\\n\\nI put my hand upon your hip\\nWhen I dip you dip we dip\\nYou put your hand upon my hip\\nWhen you dip I dip we dip\\n\\nI put my hand upon your hip\\nWhen I dip you dip we dip\\nYou put yours and I put mine\\nAnd we can dip down low in a rolling grind\\n\\nBack again with the second verse\\nIt's all clean so I'm not gonna curse\\nDroppin' bass like a bad habit\\nLove all women cause I got to have it\\n\\nComin' at y'all in stereo\\nI'm ridin' that thing like a rodeo\\nHang on baby 'cause the ride is rough\\nAnd don't stop till you get enough\\n\\nHave them girls in the front\\nNow or later just bumpin' that rump\\nRaise it up let me see that round\\nSlap it girl, make it jiggle round\\n\\nRound and round that rump goes\\nWhere it stop yo no one knows\\nFreak Nasty wanna see \\nCan y'all do this right like me\\n\\nI put my hand upon your hip\\nWhen I dip you dip we dip\\nYou put your hand upon my hip\\nWhen you dip I dip we dip\\n\\nI put my hand upon your hip\\nWhen I dip you dip we dip\\nYou put yours and I put mine\\nAnd we can dip down low in a rolling grind\\n\\n\\n\\nAnnouncer:\\nWell alright y'all.\\nIf you ain't dippin', you must be trippin'.\\nIf you ain't doin the down low, you gots to go.\\nTo the people that's movin' slow on the dance flo', yo DJ pump it up some more\\n\\n\\n\\nIt's off to the show in the limo\\nBefore the show gotta make that dough\\nPay them girls what they worth\\nSlip that money under that skirt\\n\\nTake it off baby let me see\\nYou might get a little more loot chi-chi\\nString-havin' that's so much fun\\nPlayin' that side, between them buns\\n\\nShawty got it on like moms\\nTeasin' me and she know I'm starvin'\\nLick you up then lick you down\\nBut I ain't finished girl turn around\\n\\nLick you up and down your back\\n'Cause I'm that freaky, I'm freaky like that\\nFreak Nasty wanna see\\nCan y'all do this right like me\\n\\nI put my hand upon your hip\\nWhen I dip you dip we dip\\nYou put your hand upon my hip\\nWhen you dip I dip we dip\\n\\nI put my hand upon your hip\\nWhen I dip you dip we dip\\nYou put yours and I put mine\\nthen we can dip down low in a rolling grind\\n\\nSettin' it off to another level\\nYou diggin' freak nasty without a shovel\\nThis is my world; I'm just a squirrel\\nTryin' to get a nut, so what's up\\n\\nYo DJ, when the party's getting slow\\nThrow on this jam on and watch them flow\\nTakin' over like in '94\\nWhen I had the world gettin' down low\\n\\nNew Orleans born ATL-livin'\\nFreak Nasty's what I'm givin'\\nMy juice is sweet like Georgia peaches\\nWomen suck it up like leeches (uh-huh)\\n\\nIt feels so good you must admit\\nYou like this shh\\nYeah y'all know the song\\nSo come on won't you sing along\\n\\nI put my hand upon your hip\\nWhen I dip you dip we dip\\nYou put your hand upon my hip\\nWhen you dip I dip we dip\\n\\nI put my hand upon your hip\\nWhen I dip you dip we dip\\nYou put your hand up on my hip\\nWhen you dip I dip we dip\\n\\nI put my hand upon your hip\\nWhen I dip you dip we dip\\nYou put your hand upon my hip\\nWhen you dip I dip we dip\\n\\nI put my hand upon your hip\\nWhen I dip you dip we dip\\nYou put your hand upon my hip\\nWhen you dip I dip we dip\\n\\n\\n\\n\",\n",
        " \"Melanie C:\\nCandlelight and soul forever\\nA dream of you and me together\\nSay you believe it, say you believe it\\n\\nMelanie B:\\nFree your mind of doubt and danger\\nBe for real, don't be a stranger\\nWe can achieve it, we can achieve it\\n\\nEmma:\\nCome a little bit closer, baby, get it on, get it on\\n'Cause tonight is the night when two become one\\n\\nEmma and Geri:\\nI need some love like I never needed love before\\nMelanie C and Victoria:\\nWanna make love to ya, baby\\nEmma and Geri:\\nI had a little love, now I'm back for more\\nMelanie C and Victoria:\\nWanna make love to ya, baby\\nMelanie B:\\nSet your spirit free, it's the only way to be\\n\\nMelanie C:\\nSilly games that you were playin'\\nEmpty words we both were sayin'\\nLet's work it out, boy, let's work it out, boy\\n\\nGeri:\\nAny deal that we endeavour\\nBoys and girls go good together\\nTake it or leave it, take it or leave it\\n\\nEmma:\\nAre you as good as I remember, baby?\\nGet it on, get it on\\n'Cause tonight is the night when two become one\\n\\nEmma and Geri:\\nI need some love like I never needed love before\\nMelanie C and Victoria:\\nWanna make love to ya, baby\\nEmma and Geri:\\nI had a little love, now I'm back for more\\nMelanie C and Victoria:\\nWanna make love to ya, baby\\nMelanie B:\\nSet your spirit free, it's the only way to be\\n\\nEmma:\\nBe a little bit wiser, baby, put it on, put it on\\n'Cause tonight is the night when two become one\\n\\nEmma and Geri:\\nI need some love like I never needed love before\\nMelanie C and Victoria:\\nWanna make love to ya, baby\\nEmma and Geri:\\nI had a little love, now I'm back for more\\nMelanie C and Victoria:\\nWanna make love to ya, baby\\n\\nEmma and Geri:\\nI need some love like I never needed love before\\nMelanie C and Victoria:\\nWanna make love to ya, baby\\nEmma and Geri:\\nI had a little love, now I'm back for more\\nMelanie C and Victoria:\\nWanna make love to ya, baby\\n\\nMelanie B:\\nSet your spirit free, it's the only way to be\\nIt's the only way to be\\nIt's the only way to be\\n\\n\\n\\n\",\n",
        " \"Finally I figured out\\nBut it took a long, long time\\nNow, I'll never turn about\\nMaybe 'cause I'm tryin'\\n\\nThere's been time\\nI'm so confused\\nAnd all my roads\\nWell they lead to you\\nI just can't turn and walk away\\n\\nIt's hard to say what it is\\nI see in you\\nWonder if I'll always be with you\\nWords can't say it\\nAnd I can't do\\nEnough to prove\\nIt's all for you\\n\\nAnd I thought I'd seen it all\\n'Cause it's been a long, long time\\nOh, I bottled up and trip and fall\\nWonderin' if I'm blind\\n\\nThere's been time\\nI'm so confused\\nAnd all my roads\\nWell, they lead to you\\nI just can't turn and walk away\\n\\nIt's hard to say what it is\\nI see in you\\nWonder if I'll always be with you\\nWords can't say it\\nI can't do\\nEnough to prove\\nIt's all for you\\n\\nRain comes pouring down\\n(Pouring down)\\nFalling from blue skies\\n(Falling from blue skies)\\n\\nWords without a sound\\nComin' from your eyes\\n\\nFinally I figured out\\nBut it took a long, long time\\nOh, now I'll never turn about\\nMaybe 'cause i'm tryin'\\n\\nThere's been time\\nI'm so confused\\nAnd all my roads\\nWell, they lead to you\\nI just can't turn and walk away\\n\\nIt's hard to say what it is\\nI see in you\\nWonder if I'll always be with you\\nWords can't say it\\nI can't do\\nEnough to prove\\nIt's all for you\\n\\nWell, it's hard to say what it is\\nI see in you\\nWonder if I'll always be with you\\nWords can't say it\\nI can't do\\nEnough to prove\\nIt's all for you\\n\\nOh\\nIt's hard to say\\nYeah, it's hard to say\\nIt's all for you\\n\\n\\n\\n\",\n",
        " \"Everybody put your hands together\\nWhooo, mmmm, yeah\\nGirl I love you so\\n112, listen\\n\\nGirl if I told you I love you\\nThat doesn't mean that I don't care, oooh\\nAnd when I tell you I need you\\nDon't you think that I'll can never be there, ooooh\\n\\n1 - Baby I'm so tired of the way you turn my words into\\nDeception and lies\\nDon't misunderstand me when I try to speak my mind\\nI'm only saying what's in my heart\\n\\n2 - Cupid doesn't lie\\nBut you won't know unless you give it a try\\nOh baby, true love\\nwon't lie but we won't know unless we give it a try\\ngive it a try\\n\\nGirl when I ask you to trust me\\nThat doesn't mean that I'm gonna cheat on you\\nCuz I'm gonna never do anything to hurt you\\nOr misleaded you, I love you\\n\\nRepeat 1\\nRepeat 2\\n\\nAin't no doubt about it\\nLord no, I really mean it\\nI rather die before I, before I lie to you\\nNever wanna leave her\\nAin't no life without her\\nNever gonna leave, never gonna go, no\\nNo, no, no, no, no, no, no, ohhhh\\n\\nRepeat 2\\n\\nRepeat until fade\\n\\n\\n\\n\",\n",
        " \"One two three four\\n\\nOh you get me ready\\nIn your '56 Chevy\\nWhy don't we go sit down in the shade\\nTake shelter on my front porch\\nThe dandelion sun scorching\\nLike a glass of cold lemonade\\n\\nI will do the laundry\\nIf you pay all the bills\\nWhere is my John Wayne\\nWhere is my prairie song \\nWhere is my happy ending\\nWhere have all the cowboys gone\\n\\nWhy don't you stay the evening\\nKick back and watch the T.V.\\nAnd I'll fix a little something to eat\\nOhh I know your back hurts\\nFrom working on the tractor\\nHow do you take your coffee my sweet\\n\\nI will raise the children\\nIf you pay all the bills\\nWhere is my John Wayne\\nWhere is my prairie song\\nWhere is my happy ending\\nWhere have all the cowboys gone\\n\\nI am wearing my new dress tonight\\nBut you don't, but you don't even notice me\\nSay our goodbyes\\nSay our goodbyes\\nSay our goodbyes\\n\\nWe finally sell the Chevy\\nWhen we had another baby\\nAnd you took that job in Tennessee\\nYou made friends at the farm\\nAnd you join them at the bar\\nAlmost every single day of the week\\n\\nI will wash the dishes\\nWhile you go have a beer\\nWhere is my John Wayne\\nWhere is my prairie song\\nWhere is my happy ending\\nWhere have all the cowboys gone\\nWhere is my Marlboro Man\\nWhere is his shiny gun\\nWhere is my lonely ranger\\nWhere have all the cowboys gone\\n\\nWhere have all the cowboys gone\\n\\nWhere have all the cowboys gone\\n\\n\\n\\n\",\n",
        " 'Sunny came home to her favorite room\\nSunny sat down in the kitchen\\nShe opened a book and a box of tools\\nSunny came home with a mission\\n\\nShe says \"Days go by, I\\'m hypnotized\\nI\\'m walking on a wire\\nI close my eyes and fly out of my mind\\nInto the fire\"\\n\\nSunny came home with a list of names\\nShe didn\\'t believe in transcendence\\nAnd it\\'s time for a few small repairs, she said\\nSunny came home with a vengeance\\n\\nShe says \"Days go by, I don\\'t know why \\nI\\'m walking on a wire\\nI close my eyes and fly out of my mind\\nInto the fire\"\\n\\nGet the kids and bring a sweater\\nDry is good and wind is better\\nCount the years, you always knew it\\nStrike a match, go on and do it\\n\\nOh, days go by, I\\'m hypnotized\\nI\\'m walking on a wire\\nI close my eyes and fly out of my mind\\nInto the fire\\n\\nOh, light the sky and hold on tight\\nThe world is burning down\\nShe\\'s out there on her own, and she\\'s all right\\nSunny came home\\n\\nSunny came home\\nCame home\\nHome\\n\\n\\n\\n',\n",
        " ' ',\n",
        " \"You're my love, you're my sweetest thing\\nDon't shy away, don't shy away\\nEvery night makes me hate the days\\nCan't get enough of your love\\n\\nAm I wrong am I so unkind\\nShow me the way don't turn away\\nI can't hide all these thoughts in my mind\\nEvery moment I'm just thinking of you\\n\\nChorus\\n(Ooh Aah) Just a little bit\\n(Ooh Aah) A little bit more\\n(Ooh Aah) Just a little bit\\nYou know what I'm looking for\\n(Ooh Aah) Just a little bit\\n(Ooh Aah) A little bit more\\n(Ooh Aah) Just a little bit\\nI'll give you love you can't ignore\\n\\nFeeling good let's go all the way\\nIt's got to be set me free\\nBut tonight let my body say\\nTake it slow, don't let it go\\n\\nHow can I prove my love to you\\nBaby please, you're all I need\\nLike a child but it's born out of phase\\nCould act the angel but it wouldn't be true\\n\\nChorus\\n\\nWhat can you do for me\\nOh what can you do\\nCos I feel, so alive\\nI feel your love inside ohhhh\\n\\nJust a little bit, little bit more,\\nJust a little bit, just a little\\nJust a little bit, little bit more,\\nJust a little bit, woah\\n\\nChorus to fade\\n\\n\\n\\n\",\n",
        " \"I feel like I've been blown apart\\nThere are pieces here\\nI don't know where they go\\nI don't know where they go\\nKiss me on my salty lips\\nI bet you feel a little crazy, but for me\\nWe'll be famous on TV\\n\\nWould it be my fault if I could turn you on?\\nWould I be so bad if I could turn you on?\\nWhen I kiss your mouth I want to taste it\\nTurn you upside down, don't want to waste it\\n\\nI jump on you, you jump on me\\nYou push me out and even though you know I love you\\nI'd be inclined to slap you in the mouth\\n\\nWhen I kiss your salty lips\\nYou will feel a little crazy, but for me\\nI'll be famous on TV\\n\\nWould it be my fault if I could turn you on?\\nWould I be so bad if I could turn you on?\\nWhen I kiss your mouth I want to taste it\\nTurn you upside down, don't want to waste it\\n\\nWould it be my fault if I could turn you on?\\nWould I be so bad if I could turn you on?\\nWhen I kiss your mouth I want to taste it\\nTurn you upside down, don't want to waste it\\n\\nNow, will it be my fault if I\\nTake your love and throw it wide?\\nYou might restrain me\\nBut could you really blame me?\\nAnd you will feel you're blown apart\\nAll the pieces there will fit to make you whole\\nAnd I know where they go\\n\\nWould it be my fault if I could turn you on?\\nWould I be so bad if I could turn you on?\\nWhen I kiss your mouth I want to taste it\\nTurn you upside down, don't want to waste it\\nWhen I kiss your mouth I want to taste it\\n\\nTurn you upside down, don't want to waste it\\nWhen I kiss your mouth I want to taste it\\nTurn you upside down\\nDon't want to waste it\\n\\n\\n\\n\",\n",
        " '(Allure)\\nAll alone on a Sunday morning\\nOutside I see the rain is falling, whoa oh..\\nInside I\\'m slowly dying\\nBut the rain will hide my crying, crying, crying\\nAnd you\\nDon\\'t you know my tears will burn the pillow\\nSet this place on fire\\n\\'Cause I\\'m tired of your lies\\nAll I needed was a simple \"Hello\"\\nBut the traffic was so noisy that you could not hear me cry\\n\\n(I) I gave you my love in vain\\nMy body never knew such pleasure,\\nMy heart never knew such pain\\nAnd you, you leave me so confused... \\nNow I\\'m all cried out, over you\\n\\n(112)\\nOooo\\ni\\'m over you, oh yeah you\\nNever wanted to see things your way\\nHad to go astray\\nOh why was I such a fool, baby  (Why was I such a fool) \\nOh yeah\\nNow I see that the grass is greener\\nIs it too late for me to find my way home,\\nHow could I be so wrong?\\n\\n(Allure)\\nLeaving me all alone\\nDon\\'t you know my tears will cause an inferno\\n(tears will cause an inferno baby)\\nRomance often fades\\nWhy should I take the blame? \\nYou were the one who left me neglected  (I\\'m so sorry baby)\\nApology not accepted\\nAdd me to the broken hearts you\\'ve collected\\n\\n(I) I gave you all of me\\nHow was I to know\\nYou were awaken so easily\\n(I) I dont know what to do\\nNow im all cried out (all cried out) over you \\n(I) I gave you my love in vain\\nMy body never knew such pleasure\\nMy heart never knew such pain\\nYou (left me so confused) \\nNow I\\'m all cried out  (All cried out)\\nNow I\\'m all cried out \\nOver you \\n\\n(112)\\nPlease forgive me baby, oh\\nPlease forgive\\n\\n\\n\\n',\n",
        " \"(Still in love)\\nI'm still in love with you\\nStill in love\\nListen...\\n\\nRALPH:\\nOh what can I do girl\\nSo much in love girl\\nBut your friends got you thinkin'\\nAnd it's affecting you\\nWhat can I do girl\\nSo in love girl\\nAnd I don't know what to do\\n'Cause I don't wanna lose you\\n\\nRICKY:\\nNo what would I do without your love\\nBaby it's heaven sent from above\\nSo you don't believe\\nWhat your friends tell you about me\\n\\nCHORUS:\\nI'm still the man for you\\nAnd I'm still the man that's true\\nAnd I'm still the man who's lucky\\nAnd I'm still in love with you\\nIt don't matter what your friends do\\nThey're just jealous of me and you\\nAnd I'll always keep you happy\\n'Cause I'm still in love with you\\nI'm still in love\\n\\nRICKY:\\nTime passes so fast babe\\nI wish it would last babe\\n'Cause I know in my heart\\nThat my life ends and starts with you\\nAnd baby I know that this feeling\\nI'm feeling just won't let me go away\\n'Cause you're the first true love I've ever known\\n\\nRALPH:\\nSo what would I do without your love\\nBaby it's heaven sent from above\\nAnd I know that in my heart\\nI'm the best for you\\n\\nCHORUS\\n\\nRICKY:\\nOh what can I do to write this love\\nI know that it makes me happy\\nTo be in love with you\\nSo...\\n\\nCHORUS\\n\\nNo one loves you (like)\\nLike I love you girl\\nI still love you\\nI'm in love with you\\nI'm still the man for you baby\\nI'll always keep you happy\\nI'll always be there baby\\n'Cause I'm still in love\\nI'm still in love with you\\n\\n\\n\\n\",\n",
        " ' ',\n",
        " 'I know a dude named Jimmy used to run up in me\\nNight time pissy drunk off the Henny and Remmy\\nI didn\\'t mind it when he fucked me from behind\\nIt felt fine \\'specially when he used to grind it\\nHe was a trick when I sucked his dick\\nHe used to pass me bricks, credit cards and shit\\nSuck him to sleep, I took the keys to the jeep\\nTold him \"I\\'ll be back,\" go fuck with some other cats\\nFlirtin\\', gettin\\' numbers, in the summer, hoe hop\\nRaw top in my mans drop\\nThen this homey Jimmy, he\\'s screamin\\' \"Gimme,\"\\nLay me on my back, bustin\\' nuts all in me\\nAfter ten times we fucked, I think I bust twice\\nHe was nice, kept my neck filled with ice\\nPut me in Chanels, kept me out nice\\nCold suckin\\' his dick, rockin\\' the mike\\nIt was somethin\\' about this dude I couldn\\'t stand\\nSomethin\\' that could have made his ass a real man\\nSomethin\\' I wanted, but I never was pushy\\nThe motherfucker never ate my pussy\\n\\nI don\\'t want dick tonight, eat my pussy right\\nUh, uh, uh, uh Lil\\' Kim, Lil\\' Kim, bring it to me now\\n\\nI know a dude named Ron Doo push a Q\\nHad a wild crew on Flatbush and Avenue U\\nHad a weed spot, used to pump African black\\nHe used to, seal his bag so his workers wouldn\\'t cap\\nI used to see him, in the tunnel, with fuckers at dawn\\nWhisper in my ear he wanna get his fuck on\\nI dug him, so I fucked him, it wasn\\'t nuttin\\'\\nHe wanted me to suck him, but I didn\\'t, I aint frontin\\'\\nThe sex was whack, a four stroke creep\\nI jumped on his dick, rode his ass to sleep\\nHe called next week, askin\\' why I ain\\'t beep him\\n\"I thought your ass was still sleepin\"\\nHe laughed, told me he bought a new Path\\nCould he come over right fast and fuck my pretty ass?\\nI\\'ll pass, nigga the dick was trash\\nIf sex was record sales you would be double blast\\nThe only way you seein\\' me is if you eatin\\' me\\nDowntown taste my love like Horace Brown\\nTryin\\' to impress me with your five G stones\\nI\\'ll give you ten Gs nigga if you leave me alone, screamin\\'\\n\\nI don\\'t want dick tonight, eat my pussy right\\n\\nThe moral of the story is this\\nYou ain\\'t lickin\\' this, you ain\\'t stickin\\' this\\nAnd I got witnesses, ask any nigga I been with\\nThey ain\\'t hit shit till they stuck they tongue in this\\nI ain\\'t with that frontin\\' shit\\nI got my own Benz, I got my own ends, immediate friends\\nMe and my girls rock worlds, and big niggas\\nFuck for car keys, and double digit figures\\nGood dick I cherish, I can be blunt\\'\\nI treat it like it\\'s precious, I aint gonna front\\nFor limp dick niggas, that\\'s frontin\\' like they really\\nSuck my pussy till they kill me, you feel me?\\n\\nI don\\'t want dick tonight, eat my pussy right\\n(Say what? Come on)\\nI don\\'t want dick tonight, eat my pussy right\\n\\n\\n\\n',\n",
        " 'Harmony: Look Into My Eyes\\n-----------------------------------------\\n\\nKrayzie:\\nWe thuggish ruggish niggas always, always, and ready to bring the war if you hate, if you hate.\\nLook into my eyes and tell me what it is you see in me.\\nWould you look into my eyes?\\nLook into my eyes and tell me what it is you see in me.\\nCould you tell me what you see?\\n\\nBizzy:\\nComin\\' through the door with my militia, why do they bring big niggas?  Fuck y\\'all, with a gang of bodyguards, my niggas is stone cold killas, peelas, dippin\\' out the limos and bitch, y\\'all just maintain, givin\\' my babies all of my money, but my diamonds steady be shinin\\'.  My gang, you know me.  Homies got mo\\' love, and the Biz follow all of my senses, pump my fist to Mo Thug, gotta keep the Lord up over my shoulders, Jesus sent me his roll and (?) soul but load a revolver, hold up, now, buck \\'em all to Hell, \\'cause I\\'m showin\\' \\'em.  And I seen that the bulletholes was too much, no luck, ya get blowed up, all of you niggas goes out.  The surgeons say that your body can not be sewed up.  Hold up, and wait a minute.  It\\'s time for Bone Thugs, \\'cause y\\'all think that you can really hate, nigga.\\n\\nKrayzie:\\nLook into my eyes and tell me what it is you see in me.\\nWould you look into my eyes?\\nLook into my eyes and tell me what it is you see in me.\\nCould you tell me what you see?\\n\\nKrayzie:\\nWhat makes a nigga think he can bite my shit and call his shit original?  What\\'s worse, tellin\\' people you made the style we put down three fuckin\\' years ago.  And that\\'s just like a nigga wanna take all the credit.  I bet it didn\\'t even occur that we would eventually meet with ya, and don\\'t crash, collide, lock up with the enemy.  And I don\\'t wanna say a nigga\\'s name and all that, but a y\\'all fin to get stomped.  Let \\'em loose.  And they heard the news, ya run up, ya could get dead, oh.  Uh-huh, hey, we murder muthafuckas in a deadly way--fully automatic when we let \\'em lay.  \"Aw shit!  Get down, Leatherface.\"  Fuck \\'em all, if I can\\'t get my respect.  Come on, now, put them to rest.  What a bloody, bloody mess, but nevertheless, we won\\'t stress.  I figured this platinum got you actin\\' like you got to be me.  It\\'s all in your mind, but in time, you\\'ll find we as real as we speak [speak, speak].   \\n\\nLook into my eyes and tell me what it is you see in me.\\nWould you look into my eyes?\\nLook into my eyes and tell me what it is you see in me.\\nCould you tell me what you see?\\n\\nLayzie:\\nAll I see is this soldier, pistol in holster, givin\\' you the most.  I toast to them thugs.  Nigga, nothin\\' but the love of bud that we brought to the table.  And a nigga wanna test, catch slugs, put \\'em in the mud.  Harmony smooth with the thug shit, mo murda to the fools that clone, five niggas loc\\'d out with the roughness, nigga, and it\\'s war when you craft these Bones.  We can get it on, and I\\'m referrin\\' to all of y\\'all bitches.  Y\\'all know who y\\'all are when y\\'all tried that.  Rollin\\' with the E since ninety-three, shuttin\\' shit down in the industry, nigga, can you bite that?  I know y\\'all niggas wanna roll with pros, and make friend of foes, but we chosen. God done blessed us with His potion, pure devotion, freely spoken, baby.  Niggas can\\'t see us never, stay together, my click too clever, ridin\\' through the days of the stormy weather, remember:  eternal, it means forever lastin\\'.  #1 Assassin blastin\\'.  Bashin\\' on all you niggas\\'s what I\\'m doin\\'.  All of the heavens gonna be rulin\\' trues, when He come\\n.  We won\\'t be losin\\', provin\\' \\'em wrong.\\n\\nLook into my eyes and tell me what it is you see in me.\\nWould you look into my eyes?\\nLook into my eyes and tell me what it is you see in me.\\nCould you tell me what you see?\\n\\nWish:\\nI see five killa realer niggas ready to roll wherever I go, true to pull the trigger, smother a nigga, put \\'em in a river, we the killas, and that\\'s for sure.  Niggas out there clownin\\' mine, you can\\'t rhyme, the style you got is all mine, and when I see you, bitch, I\\'m goin\\' in your pockets double-time, and it\\'s like that, you don\\'t want that.  Come and get some pap, pap.  Wanna sound like--  Wanna be like--  Nigga, we can\\'t have that.  Why a nigga wanna bite the Bone shit? Platinum raps.   Nigga bet that bitin\\' shit ain\\'t doin\\' nothin\\', tryin\\' to make somethin\\' outta nothin\\'.  Fuck it, let\\'s peel caps, buck \\'em all down.  Put \\'em in check, fuck \\'em up with the 44 mag, I\\'m glad, \\'cause when you\\'re fuckin\\' with Bone, we sendin\\' \\'em home in a bodybag.  Now, look into my eyes, bet you see a realer killa thug puttin\\' it down with harmony, harmony.\\n\\nLook into my eyes and tell me what it is you see in me.\\nWould you look into my eyes?\\nLook into my eyes and tell me what it is you see in me.\\nCould you tell me what you see?\\n\\n\\n\\n',\n",
        " \"1 -     I don't really wanna stay\\nI don't really wanna go\\nBut I really need to know\\nCan we get it together?\\nGet it together\\n\\nI don't really wanna go\\nI don't really wanna stay\\nBut I really hope and pray\\nCan we get it together?\\nGet it together\\n\\nYou don't know the pain that I feel\\nYou've taken my love for granted\\nAnd you just wanna see it your way, yah\\nIt's about that time\\nI'm gonna tell ya what's on my mind\\nI'm fed up with you not being here with me\\nWhen you know love is all I need\\nI don't want to stay\\n\\nRepeat 1\\n\\nLet's get together, babe\\nI can't let go\\nCuz being confused just takes control\\nI hope we can start brand new\\nCuz I don't want to loose you, oh no\\nWith the love we shared\\nBaby it's all so rare\\nI'm willing to try and make you see\\nThat all you need is here in me\\n\\n2 -     I don't wanna stay\\nI don't  wanna go\\nBut you gotta let me know\\nHow you feel(Let me know how you feel)\\n\\nRepeat 2\\nRepeat 1\\n\\nSee I'm so confused\\nI just don't know what to do\\nAnd I don't understand, no\\nYa know I don't wanna stay\\nYou know I don't wanna go\\nBaby, please listen to me\\n\\nRepeat 1 until fade\\n\\n\\n\\n\",\n",
        " ' ',\n",
        " ' ',\n",
        " \"[Chorus:]\\nBoy You'll Never Find Another Love\\nAs Good As This\\nSo Ya Better Represent\\n'cause My Love Is Tha Shhh (Tha Bomb Baby)\\nGirl You'll Never Find Another Love\\nAs Good As This\\nSo Ya Better Represent\\nCause My Love Is Tha Shhh (Tha Bomb Baby)\\n\\n[Verse 1:]\\nYou Keep Telling Me On The Telephone\\nHow Ya Got It Going On\\nAnd How You Keep Me Satisfied Oh Yea \\nBut Actions Speak Louder Than Words\\nI Must See What I've Heard\\nIs It True Or Do You Lie \\n'cause I Need Somebody\\nGivin Nothin'but Good Lovin\\nAll Through Tha Night Oh Yeah\\nSomeone To Break Me Off A Little Somethin\\nWhen I Need To Be Satisfied\\nAnd I Got One Thing In Mind\\n\\n[Chorus:]\\nBoy You'll Never Find Another Love\\nAs Good As This\\nSo Ya Better Represent\\n'cause My Love Is Tha Shhh (Tha Bomb Baby)\\nGirl You'll Never Find Another Love\\nAs Good As This\\nSo Ya Better Represent\\nCause My Love Is Tha Shhh (Tha Bomb Baby)\\n\\n[Verse 2:]\\nAll These Things I Say To You\\nI Swear That They Are True\\nI'm All You'll Ever Need Oh Yea \\nGood Love Is So Hard To Find\\nAnd I Won't Waste Your Time\\nSatisfaction Is Guaranteed\\nI'll Be Tha Lover\\nThat You Need\\nTo Break You Off In Tha Middle Of Tha Night\\nI'll Take A Little Trip, Downtown\\nI'll Be The Freak\\nYou Need In Your Life\\nAnd I'm Knowin'\\n\\n[Chorus: x4]\\nBoy You'll Never Find Another Love\\nAs Good As This\\nSo Ya Better Represent\\n'cause My Love Is Tha Shhh (Tha Bomb Baby)\\nGirl You'll Never Find Another Love\\nAs Good As This\\nSo Ya Better Represent\\nCause My Love Is Tha Shhh (Tha Bomb Baby)\\n\\n[Breakdown:]\\nDon't Stop Get It, Get It\\nDon't Stop Get It, Get It\\nDon't Stop Get It, Get It\\nDon't Stop Get It, Get It\\nLet Me Work That Body Baby\\nLet Me Work That Body Baby\\nLet Me Work That Body Baby\\nLet Me Work That Body Baby\\n\\n[Chorus:]\\nBoy You'll Never Find Another Love\\nAs Good As This\\nSo Ya Better Represent\\n'cause My Love Is Tha Shhh (Tha Bomb Baby)\\nGirl You'll Never Find Another Love\\nAs Good As This\\nSo Ya Better Represent\\nCause My Love Is Tha Shhh (Tha Bomb Baby)\\n\\nYou See Cant Nobody Love You Like Me \\nOhh Baby Ohhhh \\nNobody Loves Me Better \\nOhh Thats Good Thats Good Enough \\nRepresent\\n\\n\\n\\n\",\n",
        " \"Where do you go, my lovely\\nWhere do you go\\nI wanna know, my lovely, I wanna know\\n\\nWhere do you go, oh oh eh oh\\nI wanna know, oh oh eh oh\\nWhere do you go, oh oh eh oh...\\nI wanna know...\\n\\nYou leave without a word, no message, no number\\nAnd now my head is pounding like rolling thunder\\nYou left me with a heartache deep inside\\nGirl you should see me cry all night, and I wonder\\n\\nEverybody says, what a shame, what is wrong\\nThey don't like the game we play\\nHeard you're hanging round every night until dawn\\nI'm waiting for you night and day\\n\\nWhere do you go, my lovely\\nWhere do you go\\nI wanna know, my lovely, I wanna know\\n\\nWhere do you go, oh oh eh oh\\nI wanna know, oh oh eh oh\\nWhere do you go, oh oh eh oh...\\nI wanna know...\\n\\nYou gotta break the silence, don't keep me waiting\\nJust like a river flowing to the sea\\nYou are running back to me\\nCome back and save me\\n\\nWhere do you go, My Lovely\\nI wanna know\\n\\nWhere do you go, oh oh oh...\\nWhere do you go, oh oh oh...\\nI wanna know\\n\\nNa na na na nida, na na nida da da dee da\\nNa na na na nida, na na nida da da dee da\\n\\nWhere do you, where do you go?...\\nWhere do you, where do you go?...\\n\\nSave me...\\n\\nCome back and dry the tears, I cried for you baby\\nYou've gotta stop this heartache deep inside\\nYou've gotta help me make it through the night safely\\nCome back and save me\\n\\nWhere do you go, my lovely\\nWhere do you go\\nI wanna know, my lovely, I wanna know\\nWhere do you go, my lovely\\nWhere do you go...\\nI wanna know...\\n\\nNa na na na nida, na na nida da da dee da\\nNa na na na nida, na na nida da da dee da\\n\\nWhere do you, where do you go...\\n\\n\\n\\n\",\n",
        " ' ',\n",
        " \"[Jay-Z]\\nThat's right, papa, that's right\\nHow we do, yeah, Ill Na Na\\nUh huh, uh, come on...\\n\\n[Foxy]\\nWhat up pop, brace yourself as I ride on top\\nClose your eyes as you ride, right out your socks\\nDouble, lose his mind as he grind in the tunnel\\nWanna gimme the cash he made off his last bundle\\nNasty-girl don't pass me the world\\nI push to be not the backseat girl\\nDon't deep throat the C-note she float\\nMurder she wrote, and keeps the heat close\\nFirm nigga, we 'posed to be the illest on three coasts\\nFamilia, bigga than Icos\\nY'all, Danny DeVitoes, small niggaz\\nAll I see is the penny heaters, that's all niggaz\\nNo shark in this year raise it bigga\\nFifteen percent make the whole world sit up\\nand take notice, Na Na take over\\nY'all take quotas, to hit papa\\n\\nChorus: Jay-Z\\n\\nStraight out the gate y'all, we drop hits\\nNow tell me, how nasty can you get\\nAll the way from the hood to your neck of the woods\\nIt's ripped, one thing for sure -- I'll be good\\n(repeat 2X)\\n\\nFOXY:  I'm 2 Live, Nasty As I Wanna Be\\nJAY-Z: Don't shake your sassy ass in front of me\\n'fore I take you there and tear your back out\\nFOXY:  That shit ain't happened since The Mack was out\\n\\n[Foxy]\\nUhh, rollin for Lana, dripped in Gabbana\\nNineties style, you find a style\\nRight away it's the fit, wanna taste the shit\\nPut me on a bass, and throw your face in it, fucker\\nNa Na, y'all can't touch her\\nMy sex drive all night like a trucker\\nlet alone the skills I posess\\nAnd y'all gon' see by these mil's I posess\\nNever settle for less, I'm in excess\\nNot inexpensive DVS\\nTo the two, that's just the way I'm built\\nNasty -- what, classy, still\\n\\nChorus\\n\\n[Jay-Z]\\nWell you can hoe what I got, roll with the rock\\nThe fella Capo in the candy apple drop\\nWill tears fall to your ears if I don't stop\\nCan ya throw it like a quarterback, third in the lot?\\n\\n[Foxy]\\nDig me, I get you locked like Biggie, wit Irv in the spot\\nWord middie, the cop 'n biddie\\nUhh, I'm the bomdigi, punana\\nSexy brown thing, uh, Madon' y'all\\nMake em turn over from the full-court pressure\\nto undress ya and shit all over your asses\\nI ain't playin knockin out at the Williams\\nI'm sayin, what's the sense in delayin\\nI'm tryin to run G from the P to the A.M.\\nI saw your little thing now I'm swayin, OK'in\\n(ahh, shit... uh, uh)\\n\\nChorus\\n\\n\\n\\n\",\n",
        " \"I've been long, a long way from here\\nPut on a poncho, played for mosquitoes\\nAnd drank till I was thirsty again\\nWe went searching through thrift store jungles\\nFound Geronimo's rifle, Marilyn's shampoo\\nAnd Benny Goodman's corset and fan\\n\\nWell, okay I made this up\\nI promised you I'd never give up\\n\\nIf it makes you happy\\nIt can't be that bad\\nIf it makes you happy\\nThen why the hell are you so sad?\\n\\nYou get down, real low down\\nYou listen to Coltrane, derail your own train\\nWell who hasn't been there before?\\nI come round, around the hard way\\nBring you comics in bed, scrape the mold off the bread\\nAnd serve you French toast again\\n\\nWell, okay I still get stoned\\nI'm not the kind of girl you'd take home\\n\\nIf it makes you happy\\nIt can't be that bad\\nIf it makes you happy\\nThen why the hell are you so sad?\\n\\nIf it makes you happy\\nIt can't be that bad\\nIf it makes you happy\\nThen why the hell are you so sad?\\n\\nWe've been far, far away from here\\nPut on a poncho, played for mosquitoes\\nAnd everywhere in between\\nWell, okay we get along\\nSo what if right now everything's wrong?\\n\\nIf it makes you happy\\nIt can't be that bad\\nIf it makes you happy\\nThen why the hell are you so sad?\\n\\n\\n\\n\",\n",
        " \"I don't have to think about\\nI never been in love\\nWell, I only dreamed about\\nI wondered what it was\\n\\nBut now I think I know\\nIt's clear to me\\nYou make me understand\\nI'm so proud to say I love you\\nI'm so proud to be your man, yes I am\\n\\nI promise I'll never hurt you\\nI'll never make you cry, no\\nI promise I'll never hit you\\nCross my heart and hope to die\\nCuz I know I'll keep you safe\\nI'll keep you warm\\nI'll keep you satisfied\\nI'll be your sunshine in the morning\\nBe your everything at night\\n\\n1 -     You told me what you wanted\\nI gave you what you need\\nI told you that I love you\\nMake it good for you and me\\nAnd I never make a promise\\nThat I can't keep\\nThat ain't me\\n\\nRepeat 1\\n\\nAin't no way to get around it\\nNow you're stuck with me, baby, baby\\nDid you know that you'd be surrounded\\nBy my love and ecstasy\\nThis is the start of one great love affair\\nThat's never, never, never gonna end\\nWe can share the world together\\nOh, this is where it begun\\n\\nRepeat 1\\nRepeat 1\\n\\nOh, girl I'll stand by you\\nIf you give me your hand\\nI'll make love to you baby\\nYour every wish is my command\\nLet's play out your fantasies\\nOh, I can lose your mind\\nTake you places you ain't never been before\\nI promise you it's alright\\n\\nRepeat 1\\nRepeat 1\\n\\nIf I make a promise to you\\nThen baby that's what I'll do\\nI have nothing to lose\\nI give my whole world to you\\n(I'll never make a promise that I can't keep)\\nNever, never, oh no, no, no, no, no\\n\\nI'm a man of my word\\nFor you I'm always concerned\\nThat you'll never be hurt\\nIt's for better or worse\\n(I'll never make a promise that I can't keep)\\n\\nAd lib until fade\\n\\n\\n\\n\",\n",
        " \"In my life I see where I've been \\nI said that I'd never fall again \\nWithin myself I was wrong \\nMy searchin' ain't over...over \\nI know that\\n\\nWhen you love a woman \\nYou see your world inside her eyes \\nWhen you love a woman \\nYou know she's standin' by your side \\nA joy that lasts forever \\nThere's a band of gold that shines, \\nWaiting somewhere... oh oh yeah \\n\\nIf I can't believe that someone is true \\nTo fall in love is so hard to do \\nI hope and pray tonight \\nSomewhere you're thinkin' of me girl \\nYes I know...I know that\\n\\nWhen you love a woman \\nYou see your world inside her eyes \\nWhen you love a woman \\nYou know she's standin' by your side \\nA joy that lasts forever \\nThere's a band of gold that shines \\nWaiting somewhere...oh \\nIt's enough to make you cry\\n\\nWhen you see her walkin' by \\nAnd you look into her eyes\\n\\nWo-oo-oh\\n\\nWo-oo-oh-oo-oh\\nWhen you love a woman \\nYou see your world inside her eyes \\nWhen you love a woman \\nWell you know she's standin' by your side \\nA joy that lasts forever \\nThere's a band of gold that shines \\nWo-oo-oh-oo-oh\\n\\nWhen you love a woman... \\nWhen you love a woman \\n\\nYou see your world inside her eyes\\n\\n\\n\\n\",\n",
        " ' ',\n",
        " ' ',\n",
        " \"I hitched a ride with a vending machine repair man\\nHe said he's been down this road more than twice\\nHe was high on intellectualism\\nI've never been there but the brochure looks nice\\n\\nJump in, let's go, lay back, enjoy the show\\nEverybody gets high, everybody gets low\\nThese are the days when anything goes\\n\\nEvery day is a winding road\\nI get a little bit closer\\nEvery day is a faded sign\\nI get a little bit closer to feeling fine\\n\\nHe's got a daughter he calls Easter\\nShe was born on a Tuesday night\\nI'm just wondering why I feel so all alone\\nWhy I'm a stranger in my own life\\n\\nJump in, let's go, lay back, enjoy the show\\nEverybody gets high, everybody gets low\\nThese are the days when anything goes\\n\\nEvery day is a winding road\\nI get a little bit closer\\nEvery day is a faded sign\\nI get a little bit closer to feeling fine\\n\\nI've been swimming in a sea of anarchy\\nI've been living on coffee and nicotine\\nI've been wondering if all the things I've seen\\nWere ever real, were ever really happening\\n\\nEvery day is a winding road\\nI get a little bit closer\\nEvery day is a faded sign\\nI get a little bit closer\\n\\nEvery day is a winding road\\nI get a little bit closer\\nEvery day is a faded sign\\nI get a little bit closer feeling fine\\n\\nEvery day is a winding road\\nEvery day is a winding road\\n\\n\\n\\n\",\n",
        " \"Intro:\\n\\nTo the L, to the Y and the T to the E\\nSo get ready cause I want everybody to say this with me\\nRock the house, rock the house, rock the house\\n\\nChorus:\\n\\nNow I cold rock a party in a b-girl stance\\nI rock on the floor make the fellas wanna dance\\nI be the shit and it's all good and if you understood\\n\\nVerse One:\\n\\nWould you stop scheming and trying to look hard\\nI get my bodyguard, You get that booty scarred, I'm a veteran\\nwhich means that I've been in the game too long\\nSince the days of Paper Thin way back when I've been putting it\\ndown ask your homies who's the baddest bitch on this side of\\nthe M I C, I go for broke, Never giving it less than the best\\nLots of years in the game at your request, You like the rhyme\\nBite if you dare, I get the paper so I don't care, Fly that's me\\nThe epitomy of what a real MC is supposed to be, Fucking you up\\neverytime that I drop, Fuck a bullet baby, I done took your spot\\nI guide the best and I ride it well and if you take a look\\nit ain't hard to tell that I\\n\\nChorus (repeat)\\n\\nBack off me and let my skin breathe, Lyte is everlasting\\nit's hard to believe I shall prevail cause I'm next to none\\nCause I'm claiming no set, Don't plan to get down\\nJust Brooklyn is where I'm from but I'm resting in Studio City\\nfor the fun, if you don't understand just say you don't (nah!)\\nand don't wait for me to explain cause I won't\\nYou see it's in my nature to be the best, West to East\\nSee East to West, ready or not I have arrived and I'm live\\nShowing an MC how to survive.  Cause it's crazy how I\\nget you captured with my tactics, I got many witnesses\\nthat can back this ruffnecks from New York to LA\\nBeen down with me since Poor George\\nIt's '96 -- it's all about show and prove and I'm about to\\nmake the ill type moves, I guide the best and ride it well\\nand if you take a look it ain't hard to tell that I\\n\\nChorus (repeat)\\n\\nGet out my shit, Please let me be, I don't see why -- you KGB\\nWhy you gotta be all up on me like that, Trying to get over\\nlike a fat rat, but I understand -- I'm a woman in the land of hip-hop\\nAnd the shit don't stop, it goes on, on, on, on\\nYou see the shit don't stop till the break of dawn\\nAnd now who makes it liver than a hip-hop, scuba diver, chillin with\\na pina colada, kidada hooked me up with Tommy now I gotta\\nlot of gear from everywhere that I'd like to share (yeah right!)\\nBut I'd rather do Kani, Don't ask why!  5001, my son gets shit done\\nAll on the catwalk, What they've ever done for you\\nYou betta get down with your real crew, Cause I ride the beat\\nand I ride it well and if you take a look it ain't hard to tell that I\\n\\nChorus (repeat)\\n\\nTo the L, to the Y, and the T, to the E\\nRock the house and rock the house\\n\\n\\n\\n\""
       ]
      },
      {
       "output_type": "stream",
       "stream": "stdout",
       "text": [
        ",\n",
        " \"I'm just a bachelor\\nI'm looking for a partner\\nSomeone who knows how to ride\\nWithout even falling off\\nGotta be compatible\\nTakes me to my limits\\nGirl when I freak you out\\nI promise that you won't want to get off\\n\\nJump on it, let's do it\\nRide it, my pony\\nMy saddle's waiting\\nCome and jump on it\\nIf you're horny let's do it\\nRide it, my pony\\nMy saddle's waiting\\nCome and jump on it\\n\\nSitting here flossing\\nPeepin' your steelo\\nJust once if I have the chance\\nThe things I would do to you\\nYou and your body\\nEvery single portion\\nSend chills up and down your spine\\nJuices flowing down your thigh\\n\\nJump on it, let's do it\\nRide it, my pony\\nMy saddle's waiting\\nCome and jump on it\\nIf you're horny let's do it\\nRide it, my pony\\nMy saddle's waiting\\nCome and jump on it\\n\\nIf we're gonna get nasty baby\\nFirst we'll show and tell\\n'Till I reach your pony tail\\nOh\\n\\nLurk all over and through you baby\\nUntil we reach the stream\\nYou'll be on my jockey team\\nOh\\n\\nJump on it, let's do it\\nRide it, my pony\\nMy saddle's waiting\\nCome and jump on it\\nJump on it, let's do it\\nRide it, my pony\\nMy saddle's waiting\\nCome and jump on it\\nIf your horny lets do it\\nRide it my pony\\nMy saddle's waiting\\nCome and jump on it\\nIf your horny lets do it\\nRide it my pony\\nMy saddle's waiting\\nCome and jump on it\\nIf your horny lets do it\\nRide it my pony\\nMy saddle's waiting\\nCome and jump on it\\n\\nRide it\\n\\n\\n\\n\",\n",
        " \"You come out at night\\nThat's when the energy comes\\nAnd the dark side's light\\nAnd the vampires roam\\nYou strut your rasta wear\\nAnd your suicide poem\\nAnd a cross from a faith that died\\nBefore Jesus came\\nYou're building a mystery\\n\\nYou live in a church\\nWhere you sleep with voodoo dolls\\nAnd you won't give up the search\\nFor the ghosts in the halls\\nYou wear sandals in the snow\\nAnd a smile that won't wash away\\nCan you look out the window\\nWithout your shadow getting in the way?\\n\\nYou're so beautiful\\nWith an edge and charm\\nAnd so careful\\nWhen I'm in your arms\\n\\nCause you're working\\nBuilding a mystery\\nHolding on and holding it in\\nYeah you're working\\nBuilding a mystery\\nAnd choosing so carefully\\n\\nYou woke up screaming aloud\\nA prayer from your secret god\\nBut you feed off our fears\\nAnd hold back your tears, oh\\nYou give us a tantrum\\nAnd a know it all grin\\nJust when we need one\\nWhen the evening's thin\\n\\nYou're so beautiful\\nA beautiful fucked-up man\\nYou're setting up your\\nRazor-wire shrine\\n\\nCause you're working\\nBuilding a mystery\\nHolding on and holding it in\\nYeah you're working\\nBuilding a mystery\\nAnd choosing so carefully\\n\\nOoh you're working\\nBuilding a mystery\\nHolding on and holding it in\\nYeah you're working\\nBuilding a mystery\\nAnd choosing so carefully\\n\\nYeah you're working\\nBuilding a mystery\\nHolding on and holding it in\\nYeah you're working\\nBuilding a mystery\\nAnd choosing so carefully\\n\\nYou're building a mystery\\n\\n\\n\\n\",\n",
        " \"Feels like I'm standing in a timeless dream\\nOf light mists with pale amber rose\\nFeels like I'm lost in a deep cloud of heavenly scent\\nTouching, discovering you\\n\\nThose days of warm rains come rushing back to me\\nMiles of windless summer night air\\nSecret moments shared in the heat of the afternoon\\nOut of the stillness, soft spoken words\\nSay, say it again\\n\\nI love you always forever\\nNear and far, closer together\\nEverywhere I will be with you\\nEverything I will do for you\\nI love you always forever\\nNear and far, closer together\\nEverywhere I will be with you\\nEverything I will do for you\\n\\nYou've got the most unbelievable blue eyes I've ever seen\\nYou've got me almost melting away\\nAs we lay there under a blue sky with pure white stars\\nExotic sweetness, a magical time\\nSay, say it again\\n\\nI love you always forever\\nNear and far, closer together\\nEverywhere I will be with you\\nEverything I will do for you\\nI love you always forever\\nNear and far, closer together\\nEverywhere I will be with you\\nEverything I will do for you\\n\\nSay you'll love, love me forever\\nNever stop, never whatever\\nNear and far and always and everywhere and everything\\nSay you'll love, love me forever\\nNever stop, never whatever\\nNear and far and always and everywhere and everything\\nSay you'll love, love me forever\\nNever stop, never whatever\\nNear and far and always and everywhere and everything\\nSay you'll love, love me forever\\nNever stop, never whatever\\nNear and far and always and everywhere and everything\\n\\nI love you always forever\\nNear and far, closer together\\nEverywhere I will be with you\\nEverything I will do for you\\nI love you always forever\\nNear and far, closer together\\nEverywhere I will be with you\\nEverything I will do for you\\nI love you always forever\\nNear and far, closer together\\nEverywhere I will be with you\\nEverything I will do for you\\nI love you always forever\\nNear and far, closer together\\n\\n\\n\\n\",\n",
        " \"Just tell me what you've got to say to me,\\nI've been waiting for so long to hear the truth,\\nIt comes as no surprise at all you see,\\nSo cut the crap and tell me that we're through.\\n\\nNow I know your heart, I know your mind,\\nYou don't even know you're being unkind,\\nSo much for all your high brow Marxist ways,\\nJust use me up and then you walk away.\\nBoy, you can't play me that way.\\n\\nWell I guess what you say is true,\\nI could never be the right kind of girl for you,\\nI could never be your woman.\\n\\nI could never be your woman,\\nI could never be your woman,\\nI could never be your woman.\\n\\nWhen I saw my best friend yesterday,\\nShe said she never liked you from the start,\\nWell me, I wish that I could claim the same,\\nBut you always knew you held my heart.\\n\\nAnd you're such a charming, handsome man,\\nNow I think I finally understand,\\nIs it in your genes, I don't know,\\nBut I'll soon find out, that's for sure,\\nWhy did you play me this way?\\n\\nWell I guess what you say is true,\\nI could never be the right kind of girl for you,\\nI could never be your woman.\\n\\nI could never be your woman,\\nI could never be your woman,\\nI could never be your woman.\\n\\nWell I guess what they say is true,\\nI could never spend my life with a man like you.\\nI could never be your woman.\\n\\nI could never be your woman,\\nI could never be your woman,\\nI could never be your woman.\\n\\n\\n\\n\",\n",
        " \"Now I've seen places and faces\\nAnd things you ain't never thought about thinking\\nIf you ain't peeped then you must be drinking\\nAnd smokin'\\nPretending that your loc'n but you're broken\\nLet me get you open\\nNow little Timmy got his diploma and\\nLittle Jimmy got life\\nAnd Tamika around the corner just took her first hit off the pipe\\nThe other homie shot the other homie and ran off with his money\\nAnd when the other homies heard about it they thought that it was funny\\nBut who's the dummy\\n'Cause now you done lost a hustler\\nA down-ass brother done been replaced by a bustler\\nAnd though I got love for you\\nI know I can't trust you\\n'Cause my crew is rollin' hummers and your crew is rollin' dusters\\nAnd just because of that you act you don't like the brother no more\\nI guess that's just the way it goes\\nI ain't tryin ta preach\\nI believe I can reach\\nBut your mind ain't prepared\\nI'll see you when you get there\\n\\nI'll see you when you get there\\nIf you ever get there\\nSee you when you get there\\nI'll see you when you get there\\nIf you ever get there\\nSee you when you get there\\n\\nMore temptation than faith\\nI guess we livin' for the day\\nI seen a man get swept off his feet\\nBy a boy with an AK\\nThe situation so twisted everybody gettin lifted\\nI'm just tryin to take care of my kids and handle my business\\n'Cause it's way too serious so you gotta pay close attention\\nSo you don't get caught sittin' when they come and do all the gettin'\\nLife is a big game so you gotta play it with a big heart\\nSome of us gotta run a little faster 'cause we got a later start\\nBut I'd be a fool to surrender when I know I can be a contender\\nAnd if everybody's a sinner then everybody can be a winner\\nNo matter your rag colour deep down we all brothers\\nAnd regardless of the times somebody up there still love us\\nI'm a scuffle and struggle till i'm breathless and weak\\nI done strived my whole life to make it to the mountain peak\\nAlways keep reachin' sure to grab on to something\\nI'll be there when you get there waitin' wit the sound pumpin'\\n\\nI'll see you when you get there\\nIf you ever get there\\nSee you when you get there\\nI'll see you when you get there\\nIf you ever get there\\nSee you when you get there\\nAhh ahhh etc\\n\\nYou need to loosen up\\nAnd live a little\\nAnd if you got kids let them know how you feel\\nAnd for your own sake give a little\\nOh, you don't want to hear that\\nToo busy tryin' a stack\\nAnd keep up with the Jones's taking advantage of your own\\nThe realist homies that you been knowin for the longest\\nBut some ain't missing a good thing until it's gone\\nCould have built an empire if not for the jealousy that divides us\\nWe prefer to keep our eyes shut to what's right \\nWhen it's something involved that we desire\\nSo hold your head up high if your poor and righteous \\nYes I know time seems strife\\nAnd problems seem endless\\nBut in times of despair we gotta pull ourselves together\\nAnd if you feel you're out the game then you need to get back in it\\n'Cause nothing worse than a quitter\\nYou gotta face responsibility one day, my brother\\nSo gather up your pity and turn it to ambition\\nAnd put your vehicle in drive and stop by my side\\n\\nI'll see you when you get there\\nIf you ever get there\\nSee you when you get there\\nI'll see you when you get there\\nIf you ever get there\\nSee you when you get there\\n\\nAs we walk down the road of our destiny\\nAnd the time comes to choose which shall it be\\nThe wide and crooked or the straight and narrow\\nWe got one push to give and one life to live\\nSo stand up for something or lay down in your game\\nListen to the song that we sing\\nIt's up to you to make your peace\\nI guess I'll see you when you see me\\n\\nChorus to fade out\\n\\n\\n\\n\",\n",
        " \"If I could reach the stars, I'd pull one down for you\\nShine it on my heart, so you could see the truth\\nThat this love I have inside, is everything it seems\\nBut for now I find, it's only in my dreams\\n\\nThat I can change the world\\nI would be the sunlight in your universe\\nYou would think my love was really something good\\nBaby, if I could, change the world\\n\\nIf I could be king, even for a day\\nI'd take you as my queen, I'd have it no other way\\nAnd our love would rule, this kingdom we have made\\nTill then I'll be a fool, wishin' for the day\\n\\nThat I can change the world,\\nI would be the sunlight in your universe.\\nYou would think my love was really something good,\\nBaby if I could change the world.\\nBaby if I could change the world.\\nI could change the world,\\nI would be the sunlight in your universe.\\nYou would think my love was really something good,\\nBaby if I could change the world.\\nBaby if I could change the world.\\nBaby if I could change the world.\\n\\n\\n\\n\",\n",
        " ' ',\n",
        " \"We'll be singing\\nWhen we're winning\\nWe'll be singing\\n\\nI get knocked down but I get up again\\nYou're never gonna keep me down\\nI get knocked down but I get up again\\nYou're never gonna keep me down\\n\\nI get knocked down but I get up again\\nYou're never gonna keep me down\\nI get knocked down but I get up again\\nYou're never gonna keep me down\\n\\nPissing the night away\\nPissing the night away\\n\\nHe drinks a whiskey drink, he drinks a vodka drink\\nHe drinks a lager drink, he drinks a cider drink\\nHe sings the songs that reminds him of the good times\\nHe sings the songs that reminds him of the better times\\n\\nOh, Danny boy, Danny boy\\nDanny boy\\n\\nI get knocked down but I get up again\\nYou're never gonna keep me down\\nI get knocked down but I get up again\\nYou're never gonna keep me down\\n\\nI get knocked down but I get up again\\nYou're never gonna keep me down\\nI get knocked down but I get up again\\nYou're never gonna keep me down\\n\\nPissing the night away\\nPissing the night away\\n\\nHe drinks a whiskey drink, he drinks a vodka drink\\nHe drinks a lager drink, he drinks a cider drink\\nHe sings the songs that reminds him of the good times\\nHe sings the songs that reminds him of the better times\\n\\nDon't cry for me, nextdoor neighbour\\n\\nI get knocked down but I get up again\\nYou're never gonna keep me down\\nI get knocked down but I get up again\\nYou're never gonna keep me down\\n\\nI get knocked down but I get up again\\nYou're never gonna keep me down\\nI get knocked down but I get up again\\nYou're never gonna keep me down\\n\\nI get knocked down (We'll be singing) but I get up again\\nYou're never gonna keep me down (When we're winning)\\nI get knocked down (We'll be singing) but I get up again\\nYou're never gonna keep me down\\n\\nI get knocked down (We'll be singing) but I get up again\\nYou're never gonna keep me down (When we're winning)\\nI get knocked down (We'll be singing) but I get up again\\nYou're never gonna keep me down\\n\\nI get knocked down (We'll be singing) but I get up again (Pissing the night away)\\nYou're never gonna keep me down (When we're winning)\\nI get knocked down (We'll be singing) but I get up again (Pissing the night away)\\nYou're never gonna keep me down\\n\\nI get knocked down (We'll be singing) but I get up again (Pissing the night away)\\nYou're never gonna keep me down (When we're winning)\\nI get knocked down (We'll be singing) but I get up again (Pissing the night away)\\nYou're never gonna keep me down\\n\\nI get knocked down (We'll be singing) but I get up again (Pissing the night away)\\nYou're never gonna keep me down (When we're winning)\\nI get knocked down (We'll be singing) but I get up again (Pissing the night away)\\nYou're never gonna keep me down\\n\\nI get knocked down (We'll be singing) but I get up again (Pissing the night away)\\nYou're never gonna keep me down (When we're winning)\\nI get knocked down (We'll be singing) but I get up again (Pissing the night away)\\nYou're never gonna keep me down\\n\\nI get knocked down (We'll be singing) but I get up again (Pissing the night away)\\nYou're never gonna keep me down (When we're winning)\\nI get knocked down (We'll be singing) but I get up again (Pissing the night away)\\nYou're never gonna keep me down\\n\\nI get knocked down (We'll be singing) but I get up again (Pissing the night away)\\nYou're never gonna keep me down (When we're winning)\\nI get knocked down (We'll be singing) but I get up again (Pissing the night away)\\nYou're never gonna keep me down\\n\\nI get knocked down (We'll be singing) but I get up again (Pissing the night away)\\nYou're never gonna keep me down (When we're winning)\\nI get knocked down (We'll be singing) but I get up again (Pissing the night away)\\nYou're never gonna keep me down\\n\\nI get knocked down (We'll be singing) but I get up again (Pissing the night away)\\nYou're never gonna keep me down (When we're winning)\\nI get knocked down (We'll be singing) but I get up again (Pissing the night away)\\nYou're never gonna keep me down\\n\\nI get knocked down (We'll be singing) but I get up again (Pissing the night away)\\nYou're never gonna keep me down (When we're winning)\\nI get knocked down (We'll be singing) but I get up again (Pissing the night away)\\nYou're never gonna keep me down\\n\\nI get knocked down (We'll be singing) but I get up again (Pissing the night away)\\nYou're never gonna keep me down (When we're winning)\\nI get knocked down (We'll be singing) but I get up again (Pissing the night away)\\nYou're never gonna keep me down\\n\\nI get knocked down (We'll be singing) but I get up again (Pissing the night away)\\nYou're never gonna keep me down (When we're winning)\\nI get knocked down (We'll be singing) but I get up again (Pissing the night away)\\nYou're never gonna keep me down\\n\\nI get knocked down (We'll be singing) but I get up again (Pissing the night away)\\nYou're never gonna keep me down (When we're winning)\\nI get knocked down (We'll be singing) but I get up again (Pissing the night away)\\nYou're never gonna keep me down\\n\\nI get knocked down (We'll be singing) but I get up again (Pissing the night away)\\nYou're never gonna keep me down (When we're winning)\\nI get knocked down (We'll be singing) but I get up again (Pissing the night away)\\nYou're never gonna keep me down\\n\\nI get knocked down (We'll be singing) but I get up again (Pissing the night away)\\nYou're never gonna keep me down (When we're winning)\\nI get knocked down (We'll be singing) but I get up again (Pissing the night away)\\nYou're never gonna keep me down\\n\\n\\n\\n\",\n",
        " \"I'm looking over the skyline of the city.\\nHow loud quiet nights in the mist of crime.\\nHow next door to happiness lives sorrow,\\nAnd signals of solution in the sky.\\n\\n(chorus)\\nA city of justice, a city of love, a city of peace\\nfor everyone of us.\\nWe all need it, can't live without it\\nA Gotham City (oh yeah)\\n\\nHow sleeping awake because of fear. (ohh yeah)\\nHow children are drowning in their tears.\\nHow we need a place where we can go,\\nA land where every one will have a hero (even me)\\n\\n(chorus 2x)\\n\\nYet in the middle of stormy weather,\\nWe won't stumble and we won't fall.\\nI know a place where all this shelter..\\n\\n(repeat chorus until end)\\n\\n\\n\\n\",\n",
        " \"Last night you were so in to it\\nYou told me secrets that\\nYou've never told a soul\\nYou were so nervous and\\nyet oh so comfortable\\nAs we explored your image of love\\nI drank your wine\\nAs you taste mine\\nI kissed your lips\\nYou felt my body slip\\nInto your soul\\nI almost cried 'cuz it was so beautiful\\n\\nLast night\\nI was inside of you\\nLast night\\nWhile making love to you\\nI saw the sun, the moon\\nThe mountains and the rivers\\nI saw heaven when I made sweet love to you\\n\\nLast night, there was no planning it\\nIt was so special and\\nSo very innocent\\nWe talked of memories\\nOur favorite fantasies\\nAs we explored our visions of love\\nDeep in the night\\nRight by the fireside\\nYou felt my candlelight\\nIn your soul\\nYou felt incredible\\nI started to explore\\nI almost cried 'cause it was so beautiful\\n\\nLast night\\nI was inside of you\\nLast night\\nWhile making love to you\\nI saw the sun, the moon\\nThe mountains and the rivers\\nI saw heaven when I made sweet love to you\\n\\nSunlight, red red roses\\nThe scent of you, it calms the heart\\nThe sight of you, I fall apart\\nMoonlight, the things we notice\\nWhen we're in love, that's when it comes\\nAnd I'm so i'm so in love\\n\\nLast night\\nI was inside of you\\nLast night\\nWhile making love to you\\nI saw the sun, the moon\\nThe mountains and the rivers\\nI saw heaven when I made sweet love to you\\n\\nLast night\\nI was inside of you\\nLast night\\nWhile making love to you\\nI saw the sun, the moon\\nThe mountains and the rivers\\nI saw heaven when I made sweet love to you\\n\\nLast night\\nI was inside of you\\nLast night\\nWhile making love to you\\nI saw the sun, the moon\\nThe mountains and the rivers\\nI saw heaven when I made sweet love to you\\n\\n\\n\\n\",\n",
        " ' ',\n",
        " \"What's the deal\\nI wanna know is this love for real\\nOr could it be lust that I feel\\nYou got it going on and on like a real fly sex appeal\\nPhysique extra ill sun sweet dress to kill\\nYou got me open like token hot and smokin\\nJacuzzi bubble bath laughin joking\\nCandle light talking about how you and your ex-man fight\\nTropical sight beach sand white listen\\nSeafood dishes wine cooler champagne wishes waterbed head\\nFine do with some riches\\nour loveable hugeable I love the cute\\nAs long as I'm around and down nothin could ever trouble you\\n\\nChorus:\\n\\nI want your body\\nThe way you touch me\\nRidin in your Caddie\\nYou could be my big daddy\\nTake it slowly\\nHeavy hold me\\nRidin in your Caddie\\nyou could be my big daddy\\n\\n..... I spend quality time\\nCute face haircut like the Hally design\\nKeep my day laced up with fly gear and makeup\\nBut you should see her when she wake up never could we brake up\\nShop till you drop cause the cream dont stop\\nBuy you a bunch of outfits your sexy your hot\\nSo she could look good for Hev D\\nOverweight loving MC rub you gently\\nYou know its C big CEO sex-o-pee\\nMac game similar next to gold and flex\\nYou might feelme creeping to your room late at night\\nIt's hell a waterbed so get it right\\nYou be like that its that big nigger we all up tonight\\nGame ear tight why you caught up in the hype\\nThat's right that's miggie, miggie, biggie\\nBaby your ready for big daddy\\n\\nCharlie\\n\\nYou on my mind like all the time\\nYou genuine and you fine missing you like dollar sign\\nBoo be all that and then some\\nJob all that mad smyth is a rat-a-tat-at income\\nHand New Yorkers wish you represent from\\n24-7 you the one that I be sweating\\nYou and time that's no question couldn't be nothin less than\\nSexually the best next to me I confess\\nYou got me hooked on like Phonics or weed heads on Chronic\\nNow sit your ready you give me more like Demi good and plenty\\nNothin could compare to you Boo I swear to you\\nI feel for you for real for you\\nAll I wanna do is be with you\\nMight even steal for you\\nYou walk like talk like sexy\\nWhen you kiss me you bless me undress me caress me\\nYou on my mind like all the time pussy ass nigger bitches\\nYou genuine and you fine missing you like dollar sign\\n\\nChorus: repeat until fade\\n\\n\\n\\n\",\n",
        " \"One, two, heh-heh, yeah\\nOh yeah, ah huh, ah huh, yeah\\nOh oh, heh-heh, ah huh huh huh\\nYeah, yeah, yeah, yeah, yeah, yeah, yeah, yeah, yeah\\nHit 'em off like this\\n\\nBaby, I seen you with another lady\\nI just finished having your baby \\nWhy'd you have to go, don't leave me\\nBaby, you know I'm about to be swazey\\nI can't stand my lovers being shady \\nWhy'd you have to go don't leave me \\n(What about us)\\n\\nWhat about you, what about me\\nWhat about us, what we gon' do\\nTotal help me sing, Total help me sing\\nWhat about you, what about me\\nWhat about us, what we gon' do\\nUm hum, hey, hey, hey, hey, hey\\n\\nBaby, I know that you've been pimpin'\\nMr. Baller, tricking\\nWhy'd you have to go, go and leave me\\nBaby, I always been your baby\\nDon't make a girl go crazy \\nI can't understand why you left me\\n\\nWhat about me, what about you\\nWhat about us, what we gon' do\\nTotal help me sing, ay\\nWhat about me, what about you\\nWhat about us, what we gon' do do do\\nWhat we gon' do, what we gon' do\\n(Sing it, one time)\\n\\nDo do, do do do do, do do do do, do do do\\n(Total help me sing)\\nDo do, do do do do, do do do do, do do do\\n(yo, what about you)\\n\\nWhat about you, what about me, \\nWhat about us, what we gon' do\\nTotal help me sing, total help me sing\\nWhat about me, what about you\\nWhat about us, what we gon' do do do\\nWhat we gon' do, what we gon do\\n(Can ya help me sing, ah huh)\\n\\nDo do do do do, do do do do do, do do do do do\\n(What we gon' do what we gon' do what we gon')\\nDo do do do do, do do do do do, do do do do\\nDo do do do do, do do do do do, do do do\\nDo do do do do, do do do do do, do do do\\nWhat we gon do what we gon do\\nWhat we gon ah huh, \\nWhat we gon do yeah yeah yeah\\n\\nHe he, another hit\\nFrom Missy, Timberland, oo oo\\nWhatcha gon do when we come for you\\nHeh-heh, aight, we out one time\\nTotal\\n\\nDo do do do do, do do do do do, do do do do do\\nDo do do do\\nDo do do do do, do do do do do, do do do do do\\nDo\\n\\nWhat about you, what about me, what about us\\nWhat about you, what about me\\nWhat about you, what about me, what about us\\nWhat about you, what about me\\n\\nDo do do do do, do do do do do (what about what about)\\nDo do do do do (what about you)\\nDo do do do\\nDo do do do, do do do do do (what about you, what about me)\\n\\n\\n\\n\",\n",
        " \"2Pac (Spoken):\\nThere's gon' be some stuff you gon' see, that's gon' make it hard to smile in the future.\\nBut through whatever you see, through all the rain and the pain, you gotta keep your sense of humor.\\nYou gotta be able to smile through all this bullshit.\\nRemember that.\\nMmm, yeah.\\nSo keep ya head up.\\nYeah.\\n\\n\\n\\nOur lifestyles be closed-captioned\\nAddicted to fatal attractions\\nPictures of actions be played back\\nIn the midst of mashin'\\n\\nNo fairy tales, for this young black male\\nSome see me stranded in this land of hell, jail and crack sales\\nHustlin' and heart be a nigga culture\\nOr the repercussions while bustin' on backstabbin' vultures\\n\\nSellin' my soul for material wishes, fast cars and bitches\\nWishin' I live my life a legend, immortalized in pictures\\nWhy shed tears, save your sympathy\\nMy childhood years were spent buryin' my peers in the cemetery\\n\\nHere's a message to the newborns, waitin' to breathe\\nIf you believe then you can achieve, just look at me\\nAgainst all odds, though life is hard we carry on\\nLivin' in the projects, broke with no lights on\\n\\nTo all the seeds that follow me\\nProtect your essence\\nBorn with less, but you still precious\\nJust smile for me now\\n\\nJohnny P & 2Pac :\\nSmile for me , won't you smile (Smile for me now)\\nJust smile (Smile), smile for me (What ya lookin' all sad for? Nigga you black, smile for me now)\\nSmile for me (Nigga you ain't got nothin' to be worried about)\\nWon't you smile (No doubt, smile for me now) just smile for me (And the next generation)\\n\\nScarface:\\nNow as I open up my story, with the blaze o' your blunts\\nAnd you can picture thoughts slowly, upon phrases I wrote\\nAnd I can walk you through the days that I done\\nI often wish that I could save everyone, but I'm a dreamer\\n\\nHave you ever seen a nigga who was strong in the game\\nOverlookin' his tomorrows and they finally came\\nLook back on childhood memories and I'm still feelin' the pain\\nTurnin' circles in my life came to dealin' cocaine\\n\\nTo many hassles in my local life, survivin' the strain\\nAnd a man without a focus, life could drive him insane\\nStuck inside a ghetto fantasy, hopin' it'd change\\nBut when I focus on reality, we broke and in chains\\n\\nHad a dream of livin' wealthy and makin' it big\\nOver foot broad chose to cook raw, wouldn't take but I did\\nAnd after all my momma's thankin' God for blessin' the child\\nAll my momma gots to do now, is collect it and smile\\n\\nSmile for me, won't you smile\\nJust smile, smile for me\\nSmile, for me\\nWon't you smile, for me \\n\\n2Pac:\\nFuck the world as we elope and witness furious speeds\\nUnanswered questions keep us all stressin', curious G's\\nBackstabbed and bleedin', crooked thoughts laced with weed\\nLearnin', duckin' stray shots, bullets be hot, they burnin'\\n\\nInhalin' sherm smoke, visualized the flames\\nWill I be smothered by my own pain\\nStrange whispers, cowards conversate, so quick to diss us\\nTakin' pictures for the feds in desperate hopes they'd get us\\n\\nHit us off, give us plenty centuries, forgive my sins\\nSince I ain't in many penitenturies the best revenge\\nIs fuck friends, we military minded soldiers\\nBustin' shots blindly, tryin' to find Jehovah\\n\\nTo help me, somebody save me, lost and crazy\\nScared to drop a seed hopin' I ain't cursed my babies\\nMaybe now niggas feel me now, picture my pain\\nEmbrace my words make the world change, and still I smile nigga\\n\\nScarface (Spoken):\\nAnd now a moment of silence, let us pray.\\nAnd as you journey into outer-space, may the angels help to lead the way.\\nMay the prayers that the families made, shine up on your soul to keep you safe.\\nAnd all the homies that done passed away, be there to greet you as you pass the gates.\\nAnd as you headed to the tunnel's light, I hope it leads to eternal life.\\nCan we say a prayer for our homie 'Pac?\\n\\nSmile\\n\\n(Smile for me)\\n(All ya need to do is smile)\\n(Woooo smile for me)\\n(Come on smile for me)\\n\\n\\n\\n\",\n",
        " \"I'm coming over\\nComing, coming, listen girl\\n\\nI'm whispering words over your shoulder\\nOooh can't you hear\\nBefore you reply the temperature rise\\nThen like that you disappear\\nI never imagined\\nI'd get so excited\\nOver a rendezvous\\nI'll be there in an hour still wet from the shower\\nI just called to tell you\\n\\n1 -     It's on tonight\\nThe feeling's right\\nWe don't have to go nowhere\\nListen girl I'm coming over\\n\\nRub your back, massage your shoulders\\nI just wanna lay it on you\\n\\n2 -     Girl can you tell me what's on tonight\\nI'm coming to your crib\\nHave dinner by candlelight\\nAnd we gonna watch some TV\\nWe gonna play your CD's\\nI'm gonna be on you\\nAnd you're gonna be on me\\n\\nRepeat 2\\n\\nI pray that you're wearing Victoria Secrets\\nOh, that blows my mind\\nNow what should I bring\\nStrawberries I'm thinking\\nOr some honey for your toes\\nI never imagined I get so excited\\nSo aroused by you\\nSo click on the cable\\nI'll put on a slow jam\\nMontell is coming\\n\\nRepeat 1\\n\\nDon't you try to go no where\\nI just wanna lay it on you\\n\\nRepeat 2 until fade\\n\\n\\n\\n\",\n",
        " \"She'll let you in her house\\nIf you come knockin' late at night\\nShe'll let you in her mouth\\nIf the words you say are right\\n\\nIf you pay the price\\nShe'll let you deep inside\\nBut there's a secret garden she hides\\n\\nShe'll let you in her car\\nTo go drivin' round\\nShe'll let you into the parts of herself\\nThat'll bring you down\\n\\nShe'll let you in her heart\\nIf you got a hammer and a vise\\nBut into her secret garden, don't think twice\\n\\nYou've gone a million miles\\nHow far'd you get\\nTo that place where you can't remember\\nAnd you can't forget\\n\\nShe'll lead you down the path\\nThere'll be tenderness in the air\\nShe'll let you come just far enough\\nSo you know she's really there\\n\\nThen she'll look at you and smile\\nAnd her eyes will say\\nShe's got a secret garden\\n\\nWhere everything you want\\nWhere everything you need\\nWill always stay\\nA million miles away\\n\\n\\n\\n\",\n",
        " 'How could the one I gave my heart to break my heart so bad?\\nHow could the one who made me happy make me feel so sad?\\nWon\\'t somebody tell me so I can understand?\\nIf you love me, how could you hurt me like that?\\n\\nHow could the one I gave my world to throw my world away?\\nHow could the one who said \"I love you\" say the things you say?\\nHow could the one I was so true to just tell me lies?\\nHow could the one I gave my heart to go and break this heart of mine? Tell me...\\n\\nHow could you be so cold to me when I gave you everything?\\nAll my love, all I had inside\\nHow could you just walk out the door?\\nHow could you not love me anymore?\\nI thought we had forever\\nI can\\'t understand\\n\\nHow could the one I shared my dreams with take my dreams from me?\\nHow could the love that brought such pleasure bring such misery?\\nWon\\'t somebody tell me?\\nSomebody tell me please\\nIf you love me, how could you do that to me?\\nTell me... (Whoa-oh-oh, hey hey, hey hey, mm mm, yeah yeah)\\n\\nHow could you just walk out the door?\\nHow could you not love me anymore?\\nI thought we had forever\\nI can\\'t understand...\\nNo, I can\\'t understand\\n\\nHow could the one I gave my heart to break my heart so bad? (Break my heart)\\nHow could the one who made me happy (You made me so happy) make me feel so sad? (You made me feel so sad)\\nWon\\'t somebody tell me (Won\\'t you tell me), so I can understand? (So I can understand)\\nIf you love me, how could you hurt me like that? (How could you hurt me?)\\n\\nHow could the one I gave my world to throw my world away? (Throw my world away)\\nHow could the one who said \"I love you\" (You said you loved me, but you didn\\'t love me) say the things you say?\\nHow could the one I was so true to (Yeah, you did) just tell me lies? (You told me lies)\\nHow could the one I gave my heart to make me feel so sad? (Hey, yeah)\\nHow could the one I gave my heart to break my heart so bad?\\nTell me... oh mm, tell me...\\n\\n\\n\\n',\n",
        " \"Time keeps on slippin'\\nInto the future \\nTime keeps on slippin', slippin', slippin' \\nInto the future \\n\\nI want to fly like an eagle \\nTo the sea \\nFly like an eagle \\nLet my spirit carry me \\nI want to fly \\nFly right into the future\\n\\nWanna feed the babies \\nWho can't get enough to eat \\nWanna shoe the children \\nWith no shoes on their feet \\nWanna house the people \\nLivin' in the street \\nOh, oh, there's a solution \\n\\nI want to fly like an eagle \\nTo the sea \\nFly like an eagle \\nLet that spirit carry me \\nI want to fly \\nOh ya,\\nFly right into the future\\n\\nTime keeps on slippin', slippin', slippin' \\nInto the future \\nTime keeps on slippin', slippin', slippin' \\nInto the future \\nTime keeps on slippin', slippin', slippin' \\nInto the future \\n\\nAh...\\nAh...\\nAh...\\nAh...\\n\\nI want to fly like an eagle \\nTo the sea \\nFly like an eagle \\nLet that spirit carry me \\nI want to fly \\nFly right into the future\\n\\nTime keeps on slippin', slippin', slippin' \\nInto the future \\nTime keeps on slippin', slippin', slippin' \\nInto the future\\n\\n\\n\\n\",\n",
        " \"I got no time for fake niggas\\nJust sip some cristal with with these real niggas\\nFrom east to west coast spread love nigga\\nAnd while you keep talkin shit we countin bank figures\\n\\nHey I mama Miss Evana\\nUsually rock tha Prada sometimes Gabana\\nStick you for your cream and your riches\\nZsa Zsa Gabor, Demi Moore, Prince Diane and all them rich bitches\\nPuff Daddy pump the hummer for the summer\\nI follow in the E class with the goggles\\n96 model\\nBad clique on the stroll\\n(Tell 'em how we roll)\\nCruise control\\nNuttin make a woman feel better than barrettas and amarrettas\\nButta leathaz and mad cheddas\\nChillin in the Benz wit my amigos\\nTryin to stick a nigga for his pesos\\nIf you say so\\nThen I'm the same chick that you wanna get wit\\nAnd lick up in my twat\\nGotta hit the spot if not don't test the pun-pun nadie-nadie pun-nadi-dadi\\nHey\\n\\nI got no time for fake niggas\\nJust sip some cristal with with these real niggas\\nFrom east to west coast spread love nigga\\nAnd while you keep talkin shit we countin bank figures ( Repeat 3x)\\n\\n(How you like it baby uh from the front, uh from the back, give that ass a\\nsmack, uh, bet your man won't do it like that, can't work the middle plus his\\ndick too little, let me grab your tatas, do the chacha, make you scream papa)\\n\\nYou the best dada\\nNow watch mama go up and down dip the jaws crazy--UH\\nSay my name baby, Before you nut\\nI'ma dribble down your butt cheek, make you wiggle and giggle just a little\\nI'm drinkin babies\\nThen I cracks for the Mercedes\\nAct shady and feel my 380\\nGator boots for ladies\\nOhh, wee, I see, your girl ain't a freak like me or Adina ha\\nCan't fade the rhinoceros of rap Lil Kim a pussy\\nHow proposterous is that\\n\\nI got no time for fake niggas\\nJust sip some cristal with with these real niggas\\nFrom east to west coast spread love nigga\\nAnd while you keep talkin shit we countin bank figures (Repeat 3x)\\n\\nRight back at cha the one Cleopatra\\nDiggin in your stash\\n(Niggas think they gonna get some ass)\\nNo money money, no licky licky fuck your sticky sticky and your quicky\\nGimmie your loot ya mack 11 didn't shoot\\nYour game ain't sweet\\nJohn Paul Peach shouldn't compete if you can't wet it, forget it, don't sweat\\nit, I bet it make you cum smooth if you let Ha\\nYou can't stop a chick from ballin\\nHa Ha, the la-las, the drop-bys they be callin\\nAnd you ain't know while you be kickin that old shit\\nWe makin hits\\nPlatinium an Glod shit\\nI stay draped in diamonds and pearls\\nBeside every man is a bad girl\\n\\nI got no time for fake niggas\\nJust sip some cristal with with these real niggas\\nFrom east to west coast spread love nigga\\nAnd while you keep talkin shit we countin bank figures (Repeat until fade)\\n\\n\\n\\n\",\n",
        " \"Wearing nothing is devine\\nNaked is a state of mind\\nI take things off to clear my head\\nTo say the things I haven't said\\nLive inside the elements\\nThe earth and sky are my best friends\\nWater is the evidence\\nThat washes me from end to end\\n\\nWith my naked eye\\nI saw all the falling rain\\nComing down on me\\nWith my naked eye\\nI saw all if I said it all\\nI could see\\n\\nIt's not a choice I tried to make\\nIt's not a thought I couldn't take\\nSomething told me it was time\\nTo give you yours and leave me mine\\nMy vision started to be clear\\nI watched the sunlight coming near\\nI knew the day I knew the night\\nI knew i could regain my sight\\n\\nAnd it feels alright\\nAnd it feels alright\\n\\nWith my naked eye\\nI saw all the falling rain\\nComing down on me\\nWith my naked eye\\nI saw all if I said it all\\nI could see\\n\\nWith my naked eye\\nI saw all the falling rain\\nComing down on me\\nWith my naked eye\\nI saw all if I said it all\\nI could see\\n\\nLast night I came into your home\\nTo break some ice and throw some stones\\nI asked if we could be alone\\nI had some troubles of my own\\nKnew I had to say goodbye\\nTo all the old things held inside\\nIf I let the moment fly\\nI knew they'd all be magnified\\n\\nAnd it feels alright\\nAnd it feels alright\\n\\nCame around after dark\\nYou are nothing but a lark\\nKnow I snuck in like a narc\\nI knew I had to leave my mark\\nWanted to be satisfied\\nI tried to be dignified\\nWearing nothing is divine\\nNaked is a state of mind\\n\\nAnd it feels alright \\nAnd it feels alright\\n\\nWith my naked eye\\nI saw all the falling rain\\nComing down on me\\nWith my naked eye\\nI saw all if I said it all\\nI could see\\n\\nWith my naked eye\\nI saw all the falling rain\\nComing down on me\\nWith my naked eye\\nI saw all if I said it all\\nI could see\\n\\nIt feels alright \\nIt feels alright\\nIt feels alright\\nIt feels alright \\nIt feels alright\\nIt feels alright\\nIt feels alright \\nIt feels alright\\nIt feels alright\\n\\n\\n\\n\",\n",
        " ' ',\n",
        " '\"On and On\"\\n\\nOh my my my\\nI\\'m feeling high\\nMy money\\'s gone\\nI\\'m all alone\\nto much oooh \\nThe world is turnin\\'\\nOh what a day\\nWhat a day, what a day\\n\\nPeace and blessings manifest with every lesson learned,\\nIf your knowledge were your wealth then it would be well earned\\n\\nIf we were made in his image then call us by our names\\nMost intellects do not believe in god but they fear us just the same\\n\\nOh on and on, and on and on (My cipher keeps moving like a rollin\\' stone)\\nWhew on and on, and on and on (All night till the break of dawn)\\nI go on and on, and on and on (My cipher keeps moving like a rollin\\' stone)\\nOhh on and on, and on and on (God dammit imma sing my song)\\n\\nI was born underwater with three dollars and six dimes\\nYeah you may laugh \\'cause you did not do your math\\n\\nLike one two three\\nDamn, y\\'all feel that? Oh...\\nLike one two three\\nThe world keeps turnin\\'\\nOh what a day, what a day, what a day\\n\\nThe man that knows something knows that he knows nothing at all\\nDoes it seem colder in your summertime and hotter in your fall?\\n\\nIf we were made in his image then call us by our names\\nMost intellects do not believe in god but they fear us just the same\\n\\nOh on and on, and on and on (My cipher keeps moving like a rollin\\' stone)\\nWhew on and on, and on and on (All night till the vultures soar)\\nI go on and on, and on and on (My cipher keeps moving like a rollin\\' stone)\\nOhh on and on, and on and on (Mad props to the god Jah Born)\\n\\nI am feeling kinda hungry \\'cause my high is coming down\\nDon\\'t feed me yours \\'cause your food does not endure\\nI think i need a cup of tea; the world keeps burnin\\'\\nOh what a day, what a day, what a day\\n\\nYou rushin\\' to destruction \\'cause you don\\'t have nothin\\' left\\nThe mothership can\\'t save you so your ass is gon\\' get left\\nIf we were made in his image then call us by our names\\nMost intellects do not believe in god but they fear us just the same\\n\\nOh on and on, and on and on (My cipher keeps moving like a rollin\\' stone)\\nWhew on and on, and on and on (You can\\'t fuck with me so just leave me alone)\\nI go on and on, and on and on (My cipher keeps moving like a rollin\\' stone)\\nOhh on and on, and on and on (And on and on)\\n\\n\\n\\n',\n",
        " \"Don't wanna be a player \\nDon't wanna be a player \\nDon't wanna be a player \\nDon't wanna be a player \\nDon't wanna be.. \\n\\n1 Don't wanna be a player no more \\nI think I found someone I could live my life for \\nDon't wanna be a player no more \\nI think I found someone I could live my life for \\nI'm yours your mine for sure \\n\\nI had enough of running wild \\nI'm switching out my whole lifestyle \\nI don't wanna live the way I used to \\nI'm giving up the booty cause \\nSpinning C's at the ta-ta bars \\nNo leaving with two or three girls to get me off \\n\\n2 - All I need is one who's really down \\nSomeone to turn this player's life around \\nGirl I feel like you could be the one \\nTo make a difference in my life \\nCuz I'm tired of living tripe \\n\\nRepeat 1 \\n\\nNo rolling with an entourage \\nCeleb' style like a movie star \\nSippin down with the ladies all around me \\nLaughing girls off at the way I was of the morning \\nGettin' beeps from Milan and Delhi \\nA true player never gets a chance to sleep, no \\n\\nRepeat 2 \\n\\nRepeat 1 \\n\\nBaby girl I'm buggin over you \\nYou got me giving up the things I used to do \\nYou got so much in life to gain \\nAnd to prove to you I'm getting out the game \\nNo more players style \\n\\nRepeat 1 until fade\\n\\n\\n\\n\",\n",
        " \"--Chorus--\\nI shot the sheriff\\n--Chorus--\\n\\nVerse One:\\n\\nI had to shoot the sheriff it was justifiable\\nhe mistaked me for somebody who was liable\\nfor all tha many murders l.a and war fields\\nwe keep makin war shields\\nstreets keep souls\\nyoung brothers loose control\\nI seem to maintain through this\\nwatch where ya kick it they'll put you in a twist\\nand it aint nobody like my down ass hommie\\nand tha police always tryin to pin some bullshit on me\\nI keep away from fools\\nthey do crime and it attracts cops\\ncops got guns and cuffs\\nand cells to stuff you in\\n\\n--Chorus--\\n\\nVerse Two:\\n\\nThey tryin' to stick with some bullshit that I did not do\\nyou know who\\nthe boys in blue\\nthere they go with they assumpitons\\nslaverys over let us have somethin'\\nwhy you wanna pull me over?\\nCuz I'm bumpin?\\nI just made a new song\\nmy profession is music\\nyour profession is protection with gats\\nthen use it on him when he's tryin' to take my life away\\nI'm just tryin' to live my life today\\nso I keep away from fools they do crime it attract cops\\ncops got guns and cuffs\\nand cells to stuff you in\\n\\n--Chorus--\\n\\nVerse Three:\\n\\nI shot the sheriff\\nI didn't shoot the deputiy I didn't have to\\nCuz in this game they always tryin' to blast you\\nand leave it to tha cops to find out who did the murder\\nthey harrase tha wrong clan and arrest tha wrong man\\nthe hommie day-dog got strapped but thats okay\\ncuz I'm gonna work for life\\nso he can see another day\\na hommies a hommie\\na fake is a snake\\nstraight game from tha pen from tha hommie jake\\nso I keep away from fools they do crime it attract cops\\ncops got guns and cuffs\\nand cells to stuff you in\\n\\n\\n\\n\",\n",
        " \"Mase, and Brian McKnight, Bad Boy\\nC'mon\\nBad Boy We don't stop, we rock we rock\\nYo\\nI hit you with the sound that the world can't take\\nCame straight out the gate playing 2.8\\nReal studded jewel funded\\nGot to love it\\nFirst rap cat with the R&B budget\\nEvery day on the TV me and PD\\nGirl's so pretty, make their man break the CD\\nWhy y'all forever roudy\\nI be out here somewhere in Maui\\nTill I go back to Cali\\n\\nCan't understand how he can treat you the way that he does\\nGive me the chance to show you baby, your better off with me\\n(Ooh, so will you let me try\\nI wanna make you smile)\\nI wanna love you like you need to be loved\\n(I wont ever let you down\\nI'll always be around)\\nAnd you should be mine\\n(He don't love you right\\nDon't waste your time\\nDon't waste your time)\\n\\nIf he don't treat you like he should (no baby)\\nThan you should be mine\\nYou should be mine, baby\\n\\nWhy can't you see\\nYou should be happy\\nAnd I don't know why you don't believe a man can love you for the rest of your life\\n(So baby let me try\\nI wanna make you smile)\\nI wanna love you like you need to be loved\\n(I'll never let you down\\nI'll always be around)\\nAnd you should be mine\\nIf he don't love you right (Ooh)\\nDon't waste your time\\nDon't waste your time\\nIf he don't treat you like he should (now)\\nThen you should be mine\\nYou should be mine (Ooh ooh)\\n\\nYo!\\nWhat the deal honey\\nInsecure feel funny\\nI know you're used to dealin' with cats with real money\\nPlus I know you're like Mase in alot of ways\\nBut it's hard to go on when you're lonely in the holidays\\nWhen you shopping did you shop for 2\\nUh!\\nTake you where the waters aqua blue\\nLet you fall back\\nTreat you like you're all that\\nUnder umbrellas with your shades and your straw hat\\nYou ain't the one out clubbing all day and all night\\nJust to save a fight\\nOr say he's right\\nAnd I know he ain't the cat that will stay in you life\\nEven though he gave you ice gown that will make you his wife\\nHow a man deserve you if he hurt you\\nThen he give a woman 25 a curfew\\nBetween me and you, you ain't heard that from me\\nCuz Mase ain't the player with the PhD\\n\\nGirl come into my world\\nI love you the way that you need to be loved\\nNo worries, no more\\nGirl open the door\\nAnd don't waste your time\\nCuz you should be mine\\nIf he don't love you right (ooh baby)\\nDon't waste your time (don't waste your time)\\nIf he don't treat you like he should (ooh)\\nYou should be mine (should be mine, baby baby)\\nIf he don't love you right\\nDon't waste your time (don't waste your time)\\n\\n\\n\\n\",\n",
        " \"It won't be easy\\nYou think it's strange\\nWhen I try to explain how I feel\\nThat I still need your love\\nAfter all that I've done\\n\\nYou won't believe me\\nAll you will see \\nIs a girl you once knew\\nAlthough she's dressed up to the nines\\nAt sixes and sevens with you\\n\\nI had to let it happen\\nI had to change\\nCouldn't stay all my life down at heel\\nLooking out of the window \\nStaying out of the sun\\n\\nSo I chose freedom\\nRunning around\\nTrying everything new\\nBut nothing impressed me at all\\nI never expected it to\\n\\nDon't cry for me, Argentina\\nThe truth is, I never left you\\nAll through my wild days\\nMy mad existence\\nI kept my promise\\nDon't keep your distance\\n\\nAnd as for fortune \\nAnd as for fame\\nI never invited them in\\nThough it seemed to the world they were all I desire\\n\\nThey are illusions \\nThey're not the solutions they promise to be\\nThe answer was here all the time\\nI love you and hope you love me\\n\\nDon't cry for me, Argentina\\n\\nDon't cry for me, Argentina\\nThe truth is I never left you\\nAll through my wild days\\nMy mad existence\\nI kept my promise\\nDon't keep your distance\\n\\nHave I said too much \\nThere is nothing more I could think of to say to you\\nBut all you have to do\\nIs look at me to know\\nThat every word is true\\n\\n\\n\\n\",\n",
        " \"(Puff)\\nLookin' at my Rollie, it's about that time\\nFor SWV to drop a jam on mine\\nPlaya's talk the talk but they can't walk it\\nWe make the whole country bounce when we New York it\\nDon't speak about it, be about it\\nSeein' Puff on your tube, feelin' weak about it\\nI got the skill of an actor, wind chill factor\\nMinus five five, coolest man alive\\nBaby, who dat is?  Oh, that's just Puff Daddy\\nKeep you on my mind, like I keep me on my shine\\nAnd I feel fine\\nSex real time\\nWhile I'm in your deck on rewind\\nOh I make it hot, till you're jellin' what PD got\\nSince PD rock, see me not\\nSo many bricks I build a tenament\\nWe'll do the freaky thing baby girl\\nIf you're into it\\n\\n(SWV)\\nI'm looking for a lover that\\nCan make a sacrifice\\nA lover that will understand\\nWill always be by my side\\nI pray the Lord so I can find\\nMy Mr. Right\\nSo who can it be the one for me\\nI need\\n\\nSomeone that I can believe\\nSomeone to satisfy me\\nI need love\\nSomeone who's faithful and true\\nOh baby, can it be you\\nI need love\\n\\nOh, can it be that you're the one\\nAnd I've been too blind to see\\nYou're everything I'll ever need\\nSomeone will love me for me\\nI wanna know, I wanna see\\nMy destiny\\nIf your love is true I'll love you too\\nCuz I need\\n\\nSomeone that I can believe\\nSomeone to satisfy me\\nI need love\\nSomeone who's faithful and true\\nOh baby, can it be you\\nI need love\\nSomeone that I can believe\\nSomeone to satisfy me\\nI need love\\nSomeone who's faithful and true\\nOh baby, can it be you\\nI need love\\n\\nYou could be the one\\nLove of a lifetime\\nOh baby can it be the one for me\\nI need to know\\nWant you to be mine\\nBaby, why can't you be my everything\\n\\n(Puff)\\nCheck this out\\nYou all know the Steve's, SWV's\\nGone for a minute\\nChillin' cross seas\\nBack on the scene\\nPocket full of cream, now\\nGone so long thought they was locked in the Penile\\nMeanwhile\\nThey be bumpin' in the clubs\\nCan we get freaky tonight, sho' 'nuff\\nPuff and J-Dub\\nPlatinium stats, plush oriental rugs, and platinium plaques\\nCome on\\n\\nYou could be the one\\nLove of a lifetime\\nOh baby can it be the one for me\\nI need to know\\nWant you to be mine\\nBaby, why can't you be my everything\\nSomeone that I can believe\\nSomeone to satisfy me\\nI need love\\nSomeone who's faithful and true\\nOh baby, can it be you\\nI need love\\n\\n\\n\\n\",\n",
        " 'I have often dreamed, of a far off place,\\nWhere a hero\\'s welcome, would be waiting for me,\\nWhere the crowds will cheer, when they see my face,\\nAnd a voice keeps saying, \"this is where I\\'m meant to be.\"\\n\\nI\\'ll be there someday, I can go the distance\\nI will find my way, if I can be strong,\\nI know every mile, will be worth my while,\\nWhen I go the distance I\\'ll be right where I belong.\\n\\nDown an unknown road, to embrace my fate\\nThough the road may wander, it will lead me to you,\\nAnd a thousand years, would be worth the wait\\nIt may take a lifetime, but somehow I\\'ll see it through.\\n\\nAnd I won\\'t look back, I can go the distance\\nAnd I\\'ll stay on track, no I won\\'t accept defeat\\nIt\\'s an uphill slope, but I won\\'t lose hope\\nTill I go the distance, and my journey is complete\\n\\nBut to look beyond the glory is the hardest part\\nFor a hero\\'s strength is measured by his heart\\n\\nLike a shooting star, I will go the distance\\nI will search the world, I will face its harms\\nI don\\'t care how far, I can go the distance\\nTill I find my hero\\'s welcome, waiting in your arms\\n\\nI will search the world, I will face its harms,\\nTill I find my hero\\'s welcome, waiting in your arms\\n\\n\\n\\n',\n",
        " \"[chorus]\\nOne more time\\nLet's do it again\\nShow no shame,\\nJust call my name\\nOne more time\\nAgain and again\\nDon't you want to\\nPlay my game?\\n\\n24-7 I will make you feel like heaven\\nI turn you upside down\\nI spin you round and round\\nI put a spell on you baby\\nI will make you come and play me\\nI'm gonna make you mine,\\nLet's do it one more time\\n\\n\\nYou spin me round and round and Turn me upside down\\nYou put a spell on me and Hit me to the feeling\\n\\nChorus\\n\\nPlay me, play me baby\\nPlay me, show me what you got\\nCome play me,\\nPlay me baby,\\nPlay me, don't stop don't stop\\n\\nDo it, just do it, let's do it\\nAgain again\\nKeep it going on,\\nShow no shame,\\nCome and play the game,\\nHow did I know that I would\\nDo this to you\\nNow that I've made you mine\\nLet's do it one more time\\n\\nYou spin me round and round and Turn me upside down\\nYou put a spell on me and Hit me to the feeling\\n\\nChorus x2\\n\\nPlay me, play me baby\\nPlay me, show me what you got\\nCome play me\\nPlay me baby\\nPlay me, don't stop don't stop\\nYou spin me round and round and Turn me upside down\\nYou put a spell on me and Hit me to the feeling\\n\\nChorus x2\\n\\nPlay me, play me baby\\nPlay me, show me what you got\\nCome play me\\nPlay me baby\\nPlay me, don't stop don't stop\\n\\nDo it just do it\\nDo it just do it\\nDo it just do it\\nDo it just do it, just do it One More Time!\\n\\n\\n\\n\",\n",
        " \"Hsss ugh\\nI gotta be real wit' you, baby\\nJust gotta let you know\\nYou've got the love that I want (That's right)\\nThe love that I need (Word is bond, it's butta, baby)\\n(Check this out)\\nYou're like my homie, my shorty, you've shown me so many things\\nAnd you're so special to me\\nWe been kickin' it for a while, your sexy smile, Prima Donna style\\nOoh, you're drivin' me so wild (so wild)\\nAin't got no reputation, educated conversation\\nAnd, ooh, you've got that bomb love makin'\\nIt's more than sexual, this love you know, is proper dough\\nIt's, oh, so, so incredible\\nYou've got the love that I want (The love you want)\\nAnd you've got the love that I need (The love you need)\\nGirl, it's so smooth and so creamy (You know, you know)\\nYou've got that butta love, baby (You've got that butta love, baby)\\nYou've got the love that I want (The love you want)\\nAnd you've got the love that I need (The love you need)\\nGirl, it's so smooth and so creamy\\nYou've got that butta love, oh, baby\\nYou've got it goin' on, word is bond, sundress with platforms\\nFeet pedicure with no corns\\nYou've got that sex appeal, on the real, so sure\\nSoft hands, French manicure, no makeup, you're so pure\\nYou don't be trippin' when I'm kickin' it with my niggas\\nYou don't be questionin' where I been and what I did\\nYou got that confidence, sexiness, thickness, that bomb shit\\nAnd I like it ohhhhh.\\nWhen I'm chillin' with my homies (Think about it)\\nI think about you only\\n(You know what I want) You got what I want\\n(You know what it is) It's that (Ooh) butta love\\n(All you got to do) Just hit me on my hip baby\\n(And I will, I will) I'll meet you at your crib, baby\\n'Cause I'll rock your world, I'll rock you, girl\\nButta babe, butta, babe\\nYou've got the love that I want (The love you want)\\nYou've got the love that I need, yeah (The love you need)\\nGirl, it's so smooth and so creamy\\nYou've got that butta love, baby\\nYou've got the love that I want (The love you want) (You know you do)\\nAnd you've got the love that I need (That love, that love) (The love\\nyou\\nneed) (Oh, yeah)\\nGirl, it's so smooth and so creamy (So smooth and)\\nYou've got that butta love, oh, baby (You've got that, you've got that\\nbutta\\nlove)\\nYou've got those sexy eyes, enticing thighs, you make me rise\\n(You've got that love I wanna try, send my tongue up and down your\\nspine)\\nYou've got that perfect shape, the love you make, I scream your name\\n(Wanna take all your clothes off, sex you till the song goes off)\\nI like your everything, your navel and your pinky ring\\n(Sexy from head to toe, girl, never gonna let you go)\\nYou got that confidence, sexiness, thickness that bomb play\\nAnd I like it all, yeah.\\nYou've got it goin' on, word is bomb, baby\\nYou've got that sex appeal, on the real, lady\\nYou're like my homie, my shorty, huh\\nYou've got that butta love\\nYou've got it goin' on, don't you know, that's for sure\\nI like your face and hands and all of your pretty toes\\nBaby, you're so right, you're locked tight\\nYou've got that butta love, oh\\nI want it, I need it\\n\\n\\n\\n\",\n",
        " 'Ya ya ya coco jamboo Ya ya yeah\\nYa ya ya coco jamboo Ya ya yeah\\n\\nPut me up, put me down, Put my feet back on the ground\\nPut me up, take / feel my heart and make me happy\\nPut me up, take / feel my heart and make me happy\\n\\nHere we go gettin\\' smooth to the groove\\nWatchin\\' lovely ladies as I swoo with as I move\\nCause that\\'s what they say But I can\\'t prove\\nSo turn it up again and watch me move to the groove\\n\\nAs we get close you whisper \"coco\"\\nI hold you in my arms and you say \"jamboo\"\\nScream and shout, turn and say \"columbo\"\\nNow I gotta go so coco\\n\\nPut me up, put me down, Put my feet back on the ground\\nPut me up, take / feel my heart and make me happy 2x\\n\\nYa ya ya coco jamboo Ya ya yeah\\nYa ya ya coco jamboo Ya ya yeah\\nHey yor\\nYa ya ya coco jamboo Ya ya yeah\\nYa ya ya coco jamboo Ya ya yeah\\n\\nThat\\'s the way I treat the girls kinda smooth see\\nCause there\\'s one man that and yo! that\\'s me see\\nSo let me show you \\'round as you sip your tee gee\\nbut no coco loco boom while I take a pee lee\\n\\nWhen I hold my baby tighter she says i do it nicer\\ni like my chicken with rice and lemonada\\nand that\\'s whatshe gets when she shouts out jamboo\\nNow I gotta go you coco\\n\\nPut me up, put me down, Put my feet back on the ground\\nPut me up, take / feel my heart and make me happy 2x\\n\\nYa ya ya coco jamboo Ya ya yeah\\nYa ya ya coco jamboo Ya ya yeah\\n\\nPut me up, put me down, Put my feet back on the ground\\nPut me up, take / feel my heart and make me happy 2x\\n\\nYa ya ya coco jamboo Ya ya yeah\\nYa ya ya coco jamboo Ya ya yeah\\nYa ya ya coco jamboo Ya ya yeah\\nYa ya ya coco jamboo Ya ya yeah\\nYa ya ya coco jamboo Ya ya yeah...\\n\\n\\n\\n',\n",
        " \"Oh yeah baby \\nYou got to make your mind up \\nYeah...Kut Klose, hear me out.. \\n\\nChorus 1: \\n(You know you are my lover) You know you are my lover baby \\n(You got me twisted over you) Girl you've got me twisted over you \\n(I know I got what you need) I got what you need right here baby \\n(So what you wanna do) \\n\\nBaby, baby I know \\nBaby I love you so \\nBut you don't feel like I do \\nTell me what can I do \\n\\nChorus 2: \\n(But I gotta be strong) But I gotta be strong \\n(Did me wrong) Girl you did me wrong \\n(When I thought we were really down) I thought we were down \\n(So you say you want me) Now you say you want me girl \\n(Make up your mind) Ooh make up your mind \\n(Cuz I'm not gonna be here for long) i'm not gonna be here for long \\n\\nChorus 1 \\n\\nBaby, baby in time (Baby in time) \\nBaby I know you'll find (I know youll find) \\nThat what you needed was here (oh no no no...) \\nThink about it my dear \\n\\nChorus 2 \\n\\nChorus 1 \\n\\nBreaking up now \\nYou got me twisted \\nThinking about the way that things use to be \\nWhen It was you and me girl I was so free \\nSee, you had my heart from the start \\nLike Cupid and I was just down right foolish and stupid \\nBut now I know the reason for the pain and the headaches \\nYou left me all alone now I can't even concentrate \\nI guess I'll wait for the day until you come back \\nBecause my heart is where your love is at \\nYou got me twisted \\n\\nChorus 1(2x)\\n\\n\\n\\n\",\n",
        " \"Hiya, Barbie!\\nHi, Ken!\\nYou wanna go for a ride?\\nSure, Ken!\\nJump in!\\n\\nI'm a Barbie girl in a Barbie world\\nLife in plastic, it's fantastic\\nYou can brush my hair, undress me everywhere\\nImagination, life is your creation\\n\\nCome on, Barbie, let's go party! \\n\\nI'm a Barbie girl in a Barbie world\\nLife in plastic, it's fantastic\\nYou can brush my hair, undress me everywhere\\nImagination, life is your creation\\n\\nI'm a blond, bimbo girl, in a fantasy world\\nDress me up, make me talk, I'm your dollie\\nYou're my doll, rock 'n' roll, feel the glamour and pain\\nKiss me here, touch me there, hanky panky\\n\\nYou can touch, you can play\\nIf you say, I'm always yours, oohoh\\n\\nI'm a Barbie girl in a Barbie world\\nLife in plastic, it's fantastic\\nYou can brush my hair, undress me everywhere\\nImagination, life is your creation\\n\\nCome on, Barbie, let's go party!\\nAh ah ah yeah\\nCome on, Barbie, let's go party!\\nOoh woa, ooh woa\\nCome on Barbie, let's go party!\\nAh ah ah yeah\\nCome on, Barbie, let's go party!\\nOoh woa, ooh woa\\n\\nMake me walk, make me talk, do whatever you please\\nI can act like a star, I can beg on my knees\\n\\nCome jump in, bimbo friend, let us do it again\\nHit the town, fool around, let's go party\\n\\nYou can touch, you can play,\\nif you say, I'm always yours,\\nYou can touch, you can play,\\nif you say, I'm always yours,\\n\\nCome on, Barbie, let's go party!\\nAh ah ah yeah\\nCome on, Barbie, let's go party!\\nOoh woa, ooh woa\\nCome on, Barbie, let's go party!\\nAh ah ah yeah\\nCome on, Barbie, let's go party!\\nOoh woa, ooh woa\\n\\nI'm a Barbie girl in a Barbie world\\nLife in plastic, it's fantastic\\nYou can brush my hair, undress me everywhere\\nImagination, life is your creation\\n\\nI'm a Barbie girl in a Barbie world\\nLife in plastic, it's fantastic\\nYou can brush my hair, undress me everywhere\\nImagination, life is your creation\\n\\nCome on, Barbie, let's go party!\\nAh ah ah yeah\\nCome on, Barbie, let's go party!\\nOoh woa, ooh woa\\nCome on, Barbie, let's go party!\\nAh ah ah yeah\\nCome on, Barbie, let's go party!\\nOoh woa, ooh woa\\n\\nOh, I'm having so much fun!\\nWell, Barbie, we're just gettin' started\\nOh, I love you Ken!\\n\\n\\n\\n\",\n",
        " ' ',\n",
        " \"At the count of three\\nI want everybody in the place to be\\nTo make some noise if ya down with me\\nOne, two, three\\n\\nHit me with the horns Tony\\nKeep makin' noise, keep makin' noise, yeah, oh...\\nHere we go now, here we go now, here we go now...\\nHere we go, here we go, now listen\\n\\nSome of y'all might know this\\nAnd some of y'all don't (jam jam)\\nSome of y'all might be with this, and some of y'all won't\\nBut listen, let me clear my throat\\nOh, have mercy babe, Ha!\\nI hope ya don't mind, let me clear my throat\\n\\nSpecial dedication going out to everybody here\\nIn Bahama Bay in Philadelphia here we go now\\nCheck it out, ah huh, ah huh, ah (God Damn)\\n\\nYeah, rock to the rhythm of the funky rhyme\\nSo I can get this in just one more time\\nTo the beat and ya don't quit\\nIt's that ol' skool rap with that new skool hit\\nPeter Piper picked a pepper but Kool got the Run\\nAnd I can still rip up the house\\nEvery God damn time I get on the mic, I go crazy\\nPeace out to Celo, Flex, and Doug Lazy\\nI bet 'cha never knew but now ya know\\nI'm the undisputed king of this disco\\nAnd I never let the mic, might not tire me no more\\n'cause DJ Kool rip up the whole damn floor\\n\\nNow I'ma rap a rhyme with the greatest of ease\\nAnd swing it like the man on the flying trapeze\\nAnd if you don't like it you grab on these\\nAnd now I need some help from the maestro please\\n\\nJam, Ha! So look it here check the flavor of the rhythm\\nI wrote and while I got a chance here\\nLet me clear my throat oh, have mercy babe, ha!\\nI hope ya don't mind, let me clear my throat\\nI need these monitors right here\\nMusic and the monitors, and it goes a little something\\nLike this here ah huh ah huh ah\\n\\nNow if y'all wanna party like we do\\nIf y'all wanna party like us, lemme hear ya say\\nAh ah ah ah ah, if y'all wanna party like we do\\n\\n\\nIf y'all wanna party like us lemme hear ya say\\nAh ah ah ah ah ah ah ah\\nNow when I say uh, you say ah\\nUh (crowd) Uh (crowd)\\nAnd now when I say hey, you say ha\\nHey (crowd) hey (crowd)\\nNow when I say uh, you say ah\\nUh (crowd) Uh (crowd)\\nNow when I say hey you say ha, hey (crowd)\\nNow when I say freeze you just freeze one time\\nWhen I say freeze y'all stop on a dime\\nWhen I say freeze you just freeze one time\\nWhen I say freeze y'all stop on a dime freeze\\n\\nNow all the ladies in the place\\nIf you got real hair, real fingernails\\nIf you got a job, you going to school\\nAnd y'all need nobody to help you handle\\nYour business make some noise\\n\\nOne, two, three, come on now\\nWhen I say freeze you just freeze one time\\nWhen I say freeze y'all stop on a dime\\nWhen I say freeze you just freeze one time\\nWhen I say freeze y'all stop on a dime freeze\\n\\nNow to all the brotha's in the place\\nThat don't give a damn about what the ladies talking about\\ncause you just trying to get chummy make some noise\\n\\nNow, now, now, let me clear my throat\\nOh, have mercy babe, ha!\\nI hope you don't mind, let me clear my throat\\nSpecial dedication going out to all the ladies\\nAnd all the brothers in here\\nLike to love y'all to death here\\n\\nAh huh ah huh ah (God damn)\\nOh, lemme send my little shout outs here\\nSpecial dedication once again going out to everybody here\\nBahama Bay in Philadelphia, we love y'all madly\\nSpecial dedication going out to Mellow T\\nWalt Reeder da' joiner, Don Mack, Charlie Mack, DJ Ran\\nCosmic Kev, special dedication going out to Frank Steed\\nAl Orrizo Ice T, and if you're with me, if you're with me\\nI need some help from the music, from the maestro\\nCheck it out somebody make some noise in this joint man\\n\\n\\n\\n\",\n",
        " ' ',\n",
        " ' ',\n",
        " \"Where do we go from here?\\nThis isn't where we intended to be\\nWe had it all, you believed in me\\nI believed in you\\n\\nCertainties disappear\\nWhat do we do for our dream to survive?\\nHow do we keep all our passions alive,\\nAs we used to do?\\n\\nDeep in my heart I'm concealing\\nThings that I'm longing to say\\nScared to confess what I'm feeling\\nFrightened you'll slip away\\n\\nYou must love me\\nYou must love me\\n\\nWhy are you at my side?\\nHow can I be any use to you now?\\nGive me a chance and I'll let you see how\\nNothing has changed\\n\\nDeep in my heart I'm concealing\\nThings that I'm longing to say\\nScared to confess what I'm feeling\\nFrightened you'll slip away\\n\\nYou must love me\\nYou must love me\\nYou must love me\\n\\n\\n\\n\",\n",
        " \"Uh huh, yeah\\nUh huh, yeah\\n\\nCome on y'all\\nDon't stop y'all\\nGotta make y'all rock, y'all\\nCome on y'all\\nDon't stop y'all\\nStevie gotta make ya rock, y'all\\n\\nEvery now and then it invades my mind\\nSome have missed a place through the hard times\\nFrom the 9 to 5 or just a world they see\\nBut get your boogey shoes, there's a remedy\\n\\nI insist that you relax and let it go\\nI insist that you believe it's gonna get better\\nI insist you understand right now you can't do nothin' better\\nSo let it go\\n\\n(1) - Everybody's out on the floor don't you know\\nCan't do nothin better so let it go\\nSet your troubles free\\nDance with me\\nLoose control\\nLet it go\\n\\nEvery now and then it seems hard to find\\nSome have lost their way of loving, peace of mind\\nAnd if there's any pain or hostility\\nWell get down on the floor cuz there's a remedy\\n\\nI insist that you be down and ready to party\\nI insist that you relax and let it go\\nI insist that you believe it's gonna get better\\nI insist you understand right now you can't do nothin' better\\nSo let it go\\n\\n(Repeat 1)\\n\\nLet it go\\nGuess it's time to let it go\\nEven if your feelings show\\nIt's ok to let it go\\nGuess it's time to let it\\n\\nA one-two,\\na one-two,\\na one-two\\n\\nCome on y'all Don't stop y'all\\n\\n(Repeat 1)\\n\\nCan't do nothin better so let it go\\n\\n(Repeat 1)\\n\\nCome on y'all Don't stop y'all\\nStevie's gotta make ya rock y'all\\nDon't stop y'all\\n\\nUh huh,\\nyeah They won't stop y'all Uh huh, yeah Yeah, yeah, yeah Yeah, yeah\\n\\n\\n\\n\"]\n",
        "{"
       ]
      },
      {
       "output_type": "stream",
       "stream": "stdout",
       "text": [
        "0: {},\n",
        " 1: {},\n",
        " 2: {'anything': 0.027894336051742425,\n",
        "     'big': 0.027894336051742425,\n",
        "     'bond': 0.027356804233763257,\n",
        "     'day': 0.07794538309508757,\n",
        "     'death': 0.027356804233763257,\n",
        "     'every': 0.14187706802406078,\n",
        "     'half': 0.027356804233763257,\n",
        "     'hard': 0.030870977806849248,\n",
        "     'life': 0.02746853118847054,\n",
        "     'miss': 0.04103520635064489,\n",
        "     'missing': 0.04904276779468506,\n",
        "     'move': 0.059022602449511255,\n",
        "     'pray': 0.078696803266015,\n",
        "     'shit': 0.027894336051742425,\n",
        "     'single': 0.0735641516920276,\n",
        "     'step': 0.08207041270128979,\n",
        "     'still': 0.027498081907312347,\n",
        "     'take': 0.0327603631189635,\n",
        "     'wait': 0.027894336051742425,\n",
        "     'went': 0.027356804233763257},\n",
        " 3: {'back': 0.06409323943976458,\n",
        "     'beside': 0.0735641516920276,\n",
        "     'break': 0.15435488903424624,\n",
        "     'bring': 0.059308070942659885,\n",
        "     'caused': 0.09661196194380613,\n",
        "     'cried': 0.05578867210348485,\n",
        "     'cry': 0.05051634144024906,\n",
        "     'door': 0.05578867210348485,\n",
        "     'heart': 0.09694366161677558,\n",
        "     'hurt': 0.05051634144024906,\n",
        "     'leave': 0.061956532934680966,\n",
        "     'love': 0.051326515739874165,\n",
        "     'many': 0.07064975228834282,\n",
        "     'nights': 0.1350577269175469,\n",
        "     'outta': 0.06752886345877344,\n",
        "     'say': 0.0620230838893209,\n",
        "     'tears': 0.08831219036042852,\n",
        "     'undo': 0.09661196194380613,\n",
        "     'unkind': 0.04904276779468506,\n",
        "     'walked': 0.19322392388761225},\n",
        " 4: {'ain': 0.023882986463675857,\n",
        "     'bad': 0.025655544211632825,\n",
        "     'bet': 0.023510395961783035,\n",
        "     'got': 0.025612426818350503,\n",
        "     'guy': 0.025655544211632825,\n",
        "     'hah': 0.1026221768465313,\n",
        "     'hot': 0.025033974430813295,\n",
        "     'lah': 0.025655544211632825,\n",
        "     'mma': 0.025655544211632825,\n",
        "     'movin': 0.04358800006048073,\n",
        "     'nigga': 0.03517727916863866,\n",
        "     'nobody': 0.07510192329243988,\n",
        "     'ohh': 0.028141823334910925,\n",
        "     'pride': 0.05448500007560092,\n",
        "     'puff': 0.029302712233871715,\n",
        "     'push': 0.023510395961783035,\n",
        "     'rock': 0.027383187414663408,\n",
        "     'smash': 0.025655544211632825,\n",
        "     'take': 0.029361133241020906,\n",
        "     'wantin': 0.025655544211632825},\n",
        " 5: {'away': 0.03417476821017522,\n",
        "     'believe': 0.2666867631392432,\n",
        "     'day': 0.03755033054215898,\n",
        "     'door': 0.05823197161166667,\n",
        "     'every': 0.03417476821017522,\n",
        "     'fly': 0.5530792651769904,\n",
        "     'hmmmmm': 0.03361438091962111,\n",
        "     'leaning': 0.03361438091962111,\n",
        "     'nothing': 0.061905504706571995,\n",
        "     'open': 0.061607533943650435,\n",
        "     'running': 0.05530792651769903,\n",
        "     'see': 0.044324846525058845,\n",
        "     'sky': 0.05272873595588041,\n",
        "     'soar': 0.08566473734514189,\n",
        "     'spread': 0.14277456224190313,\n",
        "     'think': 0.042910247300990995,\n",
        "     'touch': 0.061607533943650435,\n",
        "     'verge': 0.03361438091962111,\n",
        "     'wings': 0.16807190459810553,\n",
        "     'woo': 0.03361438091962111},\n",
        " 6: {'breakin': 0.10899811091096075,\n",
        "     'control': 0.09441159894435898,\n",
        "     'cuz': 0.06272969042012103,\n",
        "     'friends': 0.08967083944289665,\n",
        "     'gonna': 0.05713980754203907,\n",
        "     'heart': 0.04101462606863581,\n",
        "     'hold': 0.06290971036444529,\n",
        "     'let': 0.11700461146170027,\n",
        "     'lose': 0.08548919320657533,\n",
        "     'makin': 0.06294106596290598,\n",
        "     'often': 0.03809320502802604,\n",
        "     'outta': 0.07618641005605208,\n",
        "     'pretend': 0.16349716636644113,\n",
        "     'right': 0.06237069132264205,\n",
        "     'shakin': 0.10899811091096075,\n",
        "     'soul': 0.05978055962859776,\n",
        "     'speaks': 0.027249527727740187,\n",
        "     'tight': 0.10635735882440205,\n",
        "     'vows': 0.027249527727740187,\n",
        "     'want': 0.04519404766199601},\n",
        " 7: {'back': 0.0855773411754093,\n",
        "     'come': 0.025993523486114167,\n",
        "     'cos': 0.06311521225231766,\n",
        "     'cried': 0.03476156911023239,\n",
        "     'flow': 0.04207680816821177,\n",
        "     'hold': 0.023162834535057197,\n",
        "     'know': 0.05556237958357276,\n",
        "     'letting': 0.03009915154240583,\n",
        "     'lied': 0.24079321233924664,\n",
        "     'mack': 0.37869127351390597,\n",
        "     'pains': 0.03009915154240583,\n",
        "     'pearl': 0.06019830308481166,\n",
        "     'return': 0.4602380006386054,\n",
        "     'round': 0.06603212141982368,\n",
        "     'rpt': 0.03009915154240583,\n",
        "     'said': 0.04959790810159167,\n",
        "     'show': 0.02666955331407261,\n",
        "     'swing': 0.025568777813255856,\n",
        "     'tried': 0.05516491601490267,\n",
        "     'yes': 0.0825401517747796},\n",
        " 8: {'away': 0.04777493106932658,\n",
        "     'baby': 0.04426023304615934,\n",
        "     'breathe': 0.09853701504698573,\n",
        "     'ever': 0.21697430717533167,\n",
        "     'everything': 0.07743346877085229,\n",
        "     'good': 0.03616238452922194,\n",
        "     'kind': 0.03056869666891827,\n",
        "     'know': 0.03336359527585021,\n",
        "     'leave': 0.05424357679383292,\n",
        "     'life': 0.06680272040733481,\n",
        "     'live': 0.1665486390633922,\n",
        "     'lost': 0.05154548253690317,\n",
        "     'need': 0.03585254025009015,\n",
        "     'survive': 0.09853701504698573,\n",
        "     'take': 0.03585254025009015,\n",
        "     'tell': 0.04243758248326195,\n",
        "     'want': 0.03896833701468023,\n",
        "     'without': 0.20818579882924027,\n",
        "     'world': 0.030900565972036234,\n",
        "     'would': 0.10498765886277102},\n",
        " 9: {'body': 0.058048363688925526,\n",
        "     'easy': 0.06574828580551506,\n",
        "     'ends': 0.044200309630083805,\n",
        "     'forever': 0.03869890912595035,\n",
        "     'friends': 0.06367383136911568,\n",
        "     'friendship': 0.058048363688925526,\n",
        "     'give': 0.03705065470736828,\n",
        "     'gotta': 0.08373434656243618,\n",
        "     'huh': 0.050587092618736805,\n",
        "     'last': 0.044693445998870214,\n",
        "     'likes': 0.03869890912595035,\n",
        "     'lover': 0.08938689199774043,\n",
        "     'really': 0.19357511718583514,\n",
        "     'slam': 0.19349454562975177,\n",
        "     'takin': 0.03776133117925198,\n",
        "     'tell': 0.046598129785542536,\n",
        "     'wanna': 0.14976066774269264,\n",
        "     'want': 0.09092611970092053,\n",
        "     'wind': 0.07366718271680635,\n",
        "     'zig': 0.11609672737785105},\n",
        " 10: {'baby': 0.05596777856159504,\n",
        "      'back': 0.04223655870915362,\n",
        "      'bad': 0.055707703862759174,\n",
        "      'bein': 0.03154857262442053,\n",
        "      'could': 0.06905401720839414,\n",
        "      'games': 0.19795084904225704,\n",
        "      'hangin': 0.028278692720322435,\n",
        "      'heart': 0.25713524440127,\n",
        "      'impossible': 0.11141540772551835,\n",
        "      'known': 0.09464571787326159,\n",
        "      'may': 0.06433693637740591,\n",
        "      'nanana': 0.0742769384836789,\n",
        "      'playin': 0.1817107320490113,\n",
        "      'quit': 0.19795084904225704,\n",
        "      'seem': 0.06433693637740591,\n",
        "      'sometimes': 0.07247739371501591,\n",
        "      'start': 0.05340181241588035,\n",
        "      'turn': 0.044336648316491374,\n",
        "      'wish': 0.11651349719283251,\n",
        "      'within': 0.028278692720322435},\n",
        " 11: {'bop': 0.4385876367607706,\n",
        "      'care': 0.06331571516506614,\n",
        "      'dop': 0.6578814551411559,\n",
        "      'duba': 0.6578814551411559,\n",
        "      'fast': 0.026794387778667016,\n",
        "      'flower': 0.04385876367607707,\n",
        "      'gone': 0.0601363962930537,\n",
        "      'hair': 0.03339578949828555,\n",
        "      'know': 0.031139355590793526,\n",
        "      'knows': 0.04279617533648558,\n",
        "      'mmmbop': 0.37279949124665507,\n",
        "      'one': 0.02764525789319159,\n",
        "      'ones': 0.04385876367607707,\n",
        "      'plant': 0.08771752735215414,\n",
        "      'rose': 0.03339578949828555,\n",
        "      'say': 0.026396729155276456,\n",
        "      'secret': 0.03065596023684001,\n",
        "      'tell': 0.05941261547656674,\n",
        "      'wop': 0.08771752735215414,\n",
        "      'yeah': 0.09998305947606453},\n",
        " 12: {'anything': 0.11396828729711905,\n",
        "      'anytime': 0.055886042934687796,\n",
        "      'arms': 0.03608183777583222,\n",
        "      'bring': 0.06057895817714545,\n",
        "      'cross': 0.13795182106578002,\n",
        "      'faith': 0.04598394035526001,\n",
        "      'harm': 0.032894072757057795,\n",
        "      'hero': 0.12523421061857076,\n",
        "      'light': 0.08038316333600104,\n",
        "      'moon': 0.11177208586937559,\n",
        "      'mountain': 0.055886042934687796,\n",
        "      'move': 0.04019158166800052,\n",
        "      'need': 0.04182796362510518,\n",
        "      'ocean': 0.1676581288040634,\n",
        "      'promise': 0.14067053583800182,\n",
        "      'sky': 0.06879844596148205,\n",
        "      'strength': 0.10018736849485661,\n",
        "      'sun': 0.09497357274759921,\n",
        "      'tough': 0.032894072757057795,\n",
        "      'way': 0.038528916477568925},\n",
        " 13: {'along': 0.1541344130690102,\n",
        "      'began': 0.02530313289004446,\n",
        "      'bye': 0.05060626578008892,\n",
        "      'chorus': 0.04169494472276662,\n",
        "      'come': 0.043703396630499644,\n",
        "      'exactly': 0.02530313289004446,\n",
        "      'leave': 0.07788821283217036,\n",
        "      'make': 0.12113332205753974,\n",
        "      'new': 0.08968003641874966,\n",
        "      'one': 0.05316395748690691,\n",
        "      'point': 0.02530313289004446,\n",
        "      'relationship': 0.20242506312035569,\n",
        "      'ring': 0.17195705518365478,\n",
        "      'start': 0.0970230731072405,\n",
        "      'suggest': 0.02530313289004446,\n",
        "      'things': 0.08762423943619163,\n",
        "      'think': 0.07267628423368393,\n",
        "      'tried': 0.030916601283077324,\n",
        "      'verse': 0.046374901924615984,\n",
        "      'wanna': 0.06294885210063729},\n",
        " 14: {'already': 0.03869890912595035,\n",
        "      'angel': 0.06574828580551506,\n",
        "      'ashamed': 0.11609672737785105,\n",
        "      'bitch': 0.10819750671825884,\n",
        "      'change': 0.04728421372705943,\n",
        "      'child': 0.08840061926016761,\n",
        "      'dream': 0.06367383136911568,\n",
        "      'extremes': 0.03869890912595035,\n",
        "      'hell': 0.07552266235850397,\n",
        "      'lover': 0.06704016899830532,\n",
        "      'mean': 0.05034844157233598,\n",
        "      'mother': 0.11609672737785105,\n",
        "      'nothing': 0.0534520219210107,\n",
        "      'numb': 0.03869890912595035,\n",
        "      'saint': 0.11609672737785105,\n",
        "      'sinner': 0.09862242870827259,\n",
        "      'softer': 0.03869890912595035,\n",
        "      'today': 0.05893374617344507,\n",
        "      'want': 0.0427887622121979,\n",
        "      'wouldn': 0.10069688314467196},\n",
        " 15: {'afraid': 0.033861545485206555,\n",
        "      'athena': 0.033861545485206555,\n",
        "      'baby': 0.10843757096309038,\n",
        "      'band': 0.02876487503991284,\n",
        "      'body': 0.08465386371301639,\n",
        "      'caress': 0.02876487503991284,\n",
        "      'give': 0.03241932286894725,\n",
        "      'holler': 0.033861545485206555,\n",
        "      'keith': 0.06772309097041311,\n",
        "      'lay': 0.033861545485206555,\n",
        "      'lib': 0.02876487503991284,\n",
        "      'like': 0.06294263716565866,\n",
        "      'long': 0.033861545485206555,\n",
        "      'need': 0.034446558279498385,\n",
        "      'night': 0.03148050784500322,\n",
        "      'nobody': 0.6608232956369098,\n",
        "      'sex': 0.062060530516765515,\n",
        "      'treat': 0.04405488637579398,\n",
        "      'want': 0.07488033387134632,\n",
        "      'yes': 0.09285767074662704},\n",
        " 16: {'back': 0.033288135253824465,\n",
        "      'bumped': 0.0585402989744249,\n",
        "      'charmed': 0.03902686598294993,\n",
        "      'else': 0.11603458066947892,\n",
        "      'gold': 0.029716592350169338,\n",
        "      'goodbye': 0.07616268492086418,\n",
        "      'life': 0.027740112711520385,\n",
        "      'listening': 0.0585402989744249,\n",
        "      'lives': 0.03315273733413683,\n",
        "      'nose': 0.03902686598294993,\n",
        "      'place': 0.04492083763135786,\n",
        "      'rhythm': 0.03315273733413683,\n",
        "      'rose': 0.029716592350169338,\n",
        "      'said': 0.03215457601501494,\n",
        "      'semi': 0.03902686598294993,\n",
        "      'sips': 0.03902686598294993,\n",
        "      'smiling': 0.0585402989744249,\n",
        "      'something': 0.07142211551086061,\n",
        "      'velvet': 0.03902686598294993,\n",
        "      'want': 0.04854530119625419},\n",
        " 17: {'air': 0.06614128407263425,\n",
        "      'another': 0.051898533787155934,\n",
        "      'anyway': 0.12616904619145455,\n",
        "      'barely': 0.09462678464359092,\n",
        "      'breathing': 0.09462678464359092,\n",
        "      'care': 0.054642329526015984,\n",
        "      'clear': 0.04409418938175617,\n",
        "      'day': 0.046980778851833604,\n",
        "      'find': 0.051975889996873456,\n",
        "      'fool': 0.054642329526015984,\n",
        "      'imagining': 0.09462678464359092,\n",
        "      'kidding': 0.09462678464359092,\n",
        "      'pay': 0.06155614260727378,\n",
        "      'price': 0.24115210307433776,\n",
        "      'stand': 0.051898533787155934,\n",
        "      'suppose': 0.09462678464359092,\n",
        "      'thinking': 0.07707974566465853,\n",
        "      'waiting': 0.054642329526015984,\n",
        "      'worth': 0.12311228521454756,\n",
        "      'would': 0.0352355841388752},\n",
        " 18: {'away': 0.12792194657907116,\n",
        "      'couldn': 0.04911036514022936,\n",
        "      'done': 0.08718885366992715,\n",
        "      'far': 0.0789490363492417,\n",
        "      'hard': 0.0723696692849089,\n",
        "      'heard': 0.043594426834963576,\n",
        "      'hold': 0.08714541845566601,\n",
        "      'holiday': 0.07549459321291954,\n",
        "      'kept': 0.057484555693770194,\n",
        "      'let': 0.06174482228579968,\n",
        "      'lovers': 0.057484555693770194,\n",
        "      'needs': 0.07549459321291954,\n",
        "      'part': 0.12826304935829988,\n",
        "      'promise': 0.0922429743200012,\n",
        "      'said': 0.06220065524216004,\n",
        "      'say': 0.0545243913699153,\n",
        "      'sorry': 0.1923945740374498,\n",
        "      'swept': 0.06413152467914994,\n",
        "      'want': 0.08347315906969754,\n",
        "      'wouldn': 0.04911036514022936},\n",
        " 19: {'across': 0.14725834897054946,\n",
        "      'ain': 0.024924395757150095,\n",
        "      'come': 0.03179295060111202,\n",
        "      'comin': 0.03271407810186089,\n",
        "      'dough': 0.01871439433062907,\n",
        "      'goin': 0.03742878866125814,\n",
        "      'harlem': 0.022744319799000847,\n",
        "      'know': 0.03421708259686033,\n",
        "      'like': 0.026957989948857678,\n",
        "      'money': 0.08399810262739088,\n",
        "      'much': 0.03558524700918409,\n",
        "      'nigga': 0.0293689377245146,\n",
        "      'niggaz': 0.03058044677895333,\n",
        "      'phone': 0.022744319799000847,\n",
        "      'pimp': 0.026774245267372626,\n",
        "      'problems': 0.11212830485616221,\n",
        "      'see': 0.04034886361417316,\n",
        "      'stay': 0.019249490522003383,\n",
        "      'team': 0.02038696451930222,\n",
        "      'want': 0.04070529777308652},\n",
        " 20: {'cannot': 0.214193962138981,\n",
        "      'compromise': 0.1070969810694905,\n",
        "      'die': 0.055998735084927254,\n",
        "      'ever': 0.05151037331197312,\n",
        "      'fell': 0.09097727919600339,\n",
        "      'first': 0.04907111715279133,\n",
        "      'floor': 0.04907111715279133,\n",
        "      'freshmen': 0.16064547160423576,\n",
        "      'guilt': 0.08032273580211788,\n",
        "      'held': 0.11228636598377444,\n",
        "      'life': 0.06089922418529126,\n",
        "      'merely': 0.13387122633686313,\n",
        "      'remember': 0.0618432566728553,\n",
        "      'responsible': 0.16064547160423576,\n",
        "      'sins': 0.09097727919600339,\n",
        "      'sobbin': 0.08032273580211788,\n",
        "      'stricken': 0.08032273580211788,\n",
        "      'touching': 0.06823295939700255,\n",
        "      'wise': 0.1070969810694905,\n",
        "      'yeah': 0.0549325530260936},\n",
        " 21: {'base': 0.044280482557577806,\n",
        "      'bit': 0.054104052245385316,\n",
        "      'cannonball': 0.044280482557577806,\n",
        "      'cherry': 0.044280482557577806,\n",
        "      'chic': 0.044280482557577806,\n",
        "      'cola': 0.044280482557577806,\n",
        "      'crystal': 0.03761560582142448,\n",
        "      'die': 0.11576661580057077,\n",
        "      'face': 0.03923501593320298,\n",
        "      'find': 0.05472461494863119,\n",
        "      'happens': 0.044280482557577806,\n",
        "      'human': 0.044280482557577806,\n",
        "      'know': 0.0408704042129165,\n",
        "      'magenta': 0.044280482557577806,\n",
        "      'need': 0.07882962375500592,\n",
        "      'ohh': 0.08500048322191245,\n",
        "      'ooh': 0.23153323160114153,\n",
        "      'slightly': 0.044280482557577806,\n",
        "      'using': 0.044280482557577806,\n",
        "      'want': 0.07344032745074351},\n",
        " 22: {},\n",
        " 23: {'aaaahhhhh': 0.05417847277633049,\n",
        "      'baby': 0.08164711225456217,\n",
        "      'belong': 0.4602380006386054,\n",
        "      'boyfriend': 0.05417847277633049,\n",
        "      'chorus': 0.0446381172914325,\n",
        "      'cloudy': 0.05417847277633049,\n",
        "      'crazy': 0.06257082439841831,\n",
        "      'drives': 0.10835694555266098,\n",
        "      'everytime': 0.1650144892856462,\n",
        "      'face': 0.07200779394799604,\n",
        "      'give': 0.05187091659031559,\n",
        "      'holds': 0.05417847277633049,\n",
        "      'key': 0.05417847277633049,\n",
        "      'lady': 0.07573825470278119,\n",
        "      'love': 0.0604445203007224,\n",
        "      'makes': 0.05942890927784131,\n",
        "      'mornin': 0.05417847277633049,\n",
        "      'oooooo': 0.05417847277633049,\n",
        "      'queen': 0.04602380006386054,\n",
        "      'sing': 0.0661978992178832},\n",
        " 24: {},\n",
        " 25: {'believe': 0.04332342278665176,\n",
        "      'christmas': 0.040044958139026886,\n",
        "      'close': 0.06937200096346377,\n",
        "      'cos': 0.08397067369221392,\n",
        "      'every': 0.09499594989437112,\n",
        "      'eyes': 0.05531122268348063,\n",
        "      'feels': 0.07814953757097368,\n",
        "      'got': 0.05330354334949467,\n",
        "      'like': 0.04342129752297612,\n",
        "      'long': 0.040044958139026886,\n",
        "      'lord': 0.08397067369221392,\n",
        "      'loves': 0.09147542340834734,\n",
        "      'ought': 0.040044958139026886,\n",
        "      'pinch': 0.12013487441708065,\n",
        "      'someone': 0.06588857332978058,\n",
        "      'thank': 0.12013487441708065,\n",
        "      'think': 0.06389895521995398,\n",
        "      'time': 0.06390221627383255,\n",
        "      'true': 0.061633281458500014,\n",
        "      'yes': 0.06588857332978058},\n",
        " 26: {'babe': 0.05480670227454616,\n",
        "      'baby': 0.045064964556089514,\n",
        "      'bed': 0.20322197430795566,\n",
        "      'call': 0.03453584463549062,\n",
        "      'chorus': 0.036956882822452235,\n",
        "      'cuz': 0.05507178016104133,\n",
        "      'fool': 0.03453584463549062,\n",
        "      'gave': 0.03653780151636411,\n",
        "      'head': 0.046908031337374125,\n",
        "      'hope': 0.03127202089158275,\n",
        "      'messin': 0.08971110751924855,\n",
        "      'name': 0.03453584463549062,\n",
        "      'place': 0.05507178016104133,\n",
        "      'sleeping': 0.15241648073096672,\n",
        "      'somebody': 0.11923368478401943,\n",
        "      'takin': 0.03890561394225962,\n",
        "      'taking': 0.04180358214114546,\n",
        "      'walk': 0.03127202089158275,\n",
        "      'wrong': 0.04130383512078099,\n",
        "      'yes': 0.06560334141060405},\n",
        " 27: {},\n",
        " 28: {'always': 0.07725301979683681,\n",
        "      'around': 0.09300094758201245,\n",
        "      'baby': 0.03470002270818892,\n",
        "      'buried': 0.036841361487904734,\n",
        "      'cheap': 0.07368272297580947,\n",
        "      'echo': 0.036841361487904734,\n",
        "      'given': 0.03129618404342517,\n",
        "      'got': 0.0326928399210234,\n",
        "      'guarantee': 0.06259236808685034,\n",
        "      'ight': 0.036841361487904734,\n",
        "      'know': 0.10985964652431957,\n",
        "      'lies': 0.05150201319789121,\n",
        "      'love': 0.046974027205132836,\n",
        "      'right': 0.04684731926011781,\n",
        "      'sure': 0.03852712973842995,\n",
        "      'takes': 0.3347630857862928,\n",
        "      'talk': 0.04501457146816058,\n",
        "      'unto': 0.036841361487904734,\n",
        "      'waste': 0.05150201319789121,\n",
        "      'yeah': 0.03359430798395768},\n",
        " 29: {'autumn': 0.06977530584830442,\n",
        "      'bare': 0.06977530584830442,\n",
        "      'blooms': 0.06977530584830442,\n",
        "      'breeze': 0.06977530584830442,\n",
        "      'burns': 0.06977530584830442,\n",
        "      'chills': 0.059273075839820395,\n",
        "      'doesn': 0.08854944185151468,\n",
        "      'drifts': 0.06977530584830442,\n",
        "      'hots': 0.06977530584830442,\n",
        "      'imagine': 0.059273075839820395,\n",
        "      'kissing': 0.06977530584830442,\n",
        "      'leaves': 0.06977530584830442,\n",
        "      'lilac': 0.06977530584830442,\n",
        "      'mistletoe': 0.06977530584830442,\n",
        "      'perfume': 0.059273075839820395,\n",
        "      'reminds': 0.059273075839820395,\n",
        "      'seasons': 0.06977530584830442,\n",
        "      'sheds': 0.06977530584830442,\n",
        "      'skinny': 0.06977530584830442,\n",
        "      'trees': 0.06977530584830442},\n",
        " 30: {'alone': 0.06646654327126988,\n",
        "      'better': 0.06059434455247489,\n",
        "      'cos': 0.08470725854916317,\n",
        "      'else': 0.20589594765411293,\n",
        "      'finding': 0.06059434455247489,\n",
        "      'going': 0.05808618192604529,\n",
        "      'jeans': 0.06059434455247489,\n",
        "      'lately': 0.06059434455247489,\n",
        "      'letters': 0.06059434455247489,\n",
        "      'lying': 0.06059434455247489,\n",
        "      'obvious': 0.06059434455247489,\n",
        "      'rent': 0.06059434455247489,\n",
        "      'seeking': 0.06059434455247489,\n",
        "      'sittin': 0.20589594765411293,\n",
        "      'someone': 0.06646654327126988,\n",
        "      'stares': 0.06059434455247489,\n",
        "      'staring': 0.06059434455247489,\n",
        "      'talking': 0.08470725854916317,\n",
        "      'telling': 0.09227783940315741,\n",
        "      'vitals': 0.06059434455247489},\n",
        " 31: {'addicted': 0.07983720419241114,\n",
        "      'adore': 0.09398306502016514,\n",
        "      'another': 0.07216367555166445,\n",
        "      'crying': 0.07983720419241114,\n",
        "      'darling': 0.09398306502016514,\n",
        "      'dependency': 0.03759322600806606,\n",
        "      'describe': 0.03759322600806606,\n",
        "      'dying': 0.07983720419241114,\n",
        "      'every': 0.03821994485546126,\n",
        "      'hardly': 0.09398306502016514,\n",
        "      'harlem': 0.06386976335392892,\n",
        "      'honey': 0.27193714305746797,\n",
        "      'mariah': 0.07518645201613212,\n",
        "      'mon': 0.042937443640652835,\n",
        "      'strung': 0.13157629102823118,\n",
        "      'sugar': 0.09398306502016514,\n",
        "      'sweet': 0.04914174711534432,\n",
        "      'taste': 0.08038316333600104,\n",
        "      'wait': 0.054270612998628114,\n",
        "      'washes': 0.07983720419241114},\n",
        " 32: {'always': 0.058172454666292776,\n",
        "      'believe': 0.2200969069281706,\n",
        "      'boy': 0.08322596721665226,\n",
        "      'cause': 0.047325300722304654,\n",
        "      'chips': 0.05548397814443484,\n",
        "      'eternally': 0.05548397814443484,\n",
        "      'finds': 0.05548397814443484,\n",
        "      'fool': 0.06407855510681393,\n",
        "      'forever': 0.05548397814443484,\n",
        "      'free': 0.10168954397927842,\n",
        "      'leave': 0.042697755227274106,\n",
        "      'lost': 0.0912913967822261,\n",
        "      'love': 0.044215010547000035,\n",
        "      'miracle': 0.05548397814443484,\n",
        "      'miracles': 0.047132807294315016,\n",
        "      'never': 0.04663055548249184,\n",
        "      'places': 0.0422476855098793,\n",
        "      'pride': 0.047132807294315016,\n",
        "      'river': 0.0422476855098793,\n",
        "      'yes': 0.06086093118815074},\n",
        " 33: {'chi': 0.021825451118426976,\n",
        "      'dance': 0.024928136710805557,\n",
        "      'dip': 0.6025627851962785,\n",
        "      'freak': 0.035494458217464345,\n",
        "      'freaky': 0.018540393390654723,\n",
        "      'grind': 0.033237515614407416,\n",
        "      'hand': 0.16618757807203705,\n",
        "      'hip': 0.16618757807203705,\n",
        "      'hips': 0.021825451118426976,\n",
        "      'lick': 0.02781059008598208,\n",
        "      'like': 0.02704644124653895,\n",
        "      'low': 0.05339367482008864,\n",
        "      'mine': 0.021825451118426976,\n",
        "      'nasty': 0.038138339157206165,\n",
        "      'put': 0.13977105614024876,\n",
        "      'rolling': 0.033237515614407416,\n",
        "      'round': 0.023940555870220433,\n",
        "      'rump': 0.021825451118426976,\n",
        "      'upon': 0.17613373721121983,\n",
        "      'women': 0.02781059008598208},\n",
        " 34: {'achieve': 0.03524178791276364,\n",
        "      'baby': 0.04795229268719575,\n",
        "      'become': 0.06942467617067474,\n",
        "      'bit': 0.02827548459055313,\n",
        "      'emma': 0.25455714595914075,\n",
        "      'free': 0.05655096918110626,\n",
        "      'geri': 0.20827402851202426,\n",
        "      'little': 0.0517024651686008,\n",
        "      'love': 0.07376574623921614,\n",
        "      'make': 0.0422039045024594,\n",
        "      'melanie': 0.3239818221298155,\n",
        "      'needed': 0.07048357582552728,\n",
        "      'set': 0.04241322688582969,\n",
        "      'spirit': 0.058975221187358984,\n",
        "      'tonight': 0.03471233808533737,\n",
        "      'two': 0.03471233808533737,\n",
        "      'victoria': 0.15726725649962395,\n",
        "      'wanna': 0.05117449953016633,\n",
        "      'way': 0.0271057703862294,\n",
        "      'work': 0.032350510802695485},\n",
        " 35: {'always': 0.056471505699442114,\n",
        "      'confused': 0.07883505983036818,\n",
        "      'enough': 0.08079245940329985,\n",
        "      'figured': 0.06151855960210494,\n",
        "      'finally': 0.056471505699442114,\n",
        "      'hard': 0.11617236385209058,\n",
        "      'lead': 0.08470725854916317,\n",
        "      'long': 0.12118868910494977,\n",
        "      'maybe': 0.056471505699442114,\n",
        "      'pouring': 0.08079245940329985,\n",
        "      'prove': 0.09871616550035214,\n",
        "      'roads': 0.12118868910494977,\n",
        "      'say': 0.0972511074141764,\n",
        "      'skies': 0.08079245940329985,\n",
        "      'time': 0.05525379602624619,\n",
        "      'turn': 0.08037637998896097,\n",
        "      'walk': 0.06336698970136505,\n",
        "      'well': 0.07158669573777385,\n",
        "      'wonder': 0.11294301139888423,\n",
        "      'words': 0.09681030321007549},\n",
        " 36: {'112': 0.041179189530822585,\n",
        "      'cheat': 0.04847547564197991,\n",
        "      'cupid': 0.041179189530822585,\n",
        "      'deception': 0.04847547564197991,\n",
        "      'doesn': 0.1107334072837889,\n",
        "      'give': 0.046410820107124474,\n",
        "      'gonna': 0.06776580683933053,\n",
        "      'lie': 0.1107334072837889,\n",
        "      'mean': 0.09460207179644183,\n",
        "      'misleaded': 0.04847547564197991,\n",
        "      'misunderstand': 0.04847547564197991,\n",
        "      'mmmm': 0.04847547564197991,\n",
        "      'never': 0.05092547506640556,\n",
        "      'ooooh': 0.04847547564197991,\n",
        "      'repeat': 0.09293789108167247,\n",
        "      'saying': 0.041179189530822585,\n",
        "      'try': 0.07987873620572132,\n",
        "      'unless': 0.09695095128395982,\n",
        "      'whooo': 0.04847547564197991,\n",
        "      'won': 0.04134736799948723},\n",
        " 37: {'bills': 0.08079245940329985,\n",
        "      'chevy': 0.08079245940329985,\n",
        "      'cowboys': 0.24237737820989955,\n",
        "      'ending': 0.12118868910494977,\n",
        "      'farm': 0.040396229701649924,\n",
        "      'gone': 0.13293308654253977,\n",
        "      'goodbyes': 0.12118868910494977,\n",
        "      'gun': 0.040396229701649924,\n",
        "      'happy': 0.07403712412526411,\n",
        "      'hurts': 0.040396229701649924,\n",
        "      'john': 0.10294797382705646,\n",
        "      'laundry': 0.040396229701649924,\n",
        "      'lemonade': 0.040396229701649924,\n",
        "      'pay': 0.05255670655357878,\n",
        "      'porch': 0.040396229701649924,\n",
        "      'prairie': 0.12118868910494977,\n",
        "      'ranger': 0.040396229701649924,\n",
        "      'scorching': 0.040396229701649924,\n",
        "      'song': 0.06646654327126988,\n",
        "      'wayne': 0.12118868910494977},\n",
        " 38: {'burning': 0.05060626578008892,\n",
        "      'came': 0.20455846437944447,\n",
        "      'close': 0.0876679133054762,\n",
        "      'days': 0.07276730483043037,\n",
        "      'eyes': 0.0698987978967063,\n",
        "      'fire': 0.11560080980175765,\n",
        "      'fly': 0.08326577948268975,\n",
        "      'home': 0.20242506312035569,\n",
        "      'hypnotized': 0.10121253156017784,\n",
        "      'list': 0.05060626578008892,\n",
        "      'mission': 0.05060626578008892,\n",
        "      'repairs': 0.05060626578008892,\n",
        "      'sat': 0.05060626578008892,\n",
        "      'says': 0.07074452362347694,\n",
        "      'sunny': 0.35424386046062245,\n",
        "      'sweater': 0.05060626578008892,\n",
        "      'tools': 0.05060626578008892,\n",
        "      'transcendence': 0.05060626578008892,\n",
        "      'walking': 0.1289677913877411,\n",
        "      'wire': 0.1289677913877411},\n",
        " 39: {},\n",
        " 40: {'aah': 0.25349560656815184,\n",
        "      'angel': 0.03589011931585455,\n",
        "      'away': 0.042953607750403716,\n",
        "      'bit': 0.30973328991853616,\n",
        "      'child': 0.032170255938715434,\n",
        "      'chorus': 0.05221431151062059,\n",
        "      'hide': 0.032170255938715434,\n",
        "      'ignore': 0.04224926776135864,\n",
        "      'little': 0.20451724371738575,\n",
        "      'love': 0.03366831078349544,\n",
        "      'moment': 0.032170255938715434,\n",
        "      'ohhhh': 0.032170255938715434,\n",
        "      'ooh': 0.1325474646964333,\n",
        "      'phase': 0.04224926776135864,\n",
        "      'shy': 0.08449853552271729,\n",
        "      'slow': 0.032170255938715434,\n",
        "      'sweetest': 0.04224926776135864,\n",
        "      'thoughts': 0.032170255938715434,\n",
        "      'unkind': 0.032170255938715434,\n",
        "      'woah': 0.04224926776135864},\n",
        " 41: {'apart': 0.05394704457415357,\n",
        "      'bad': 0.07084877209212449,\n",
        "      'blown': 0.07084877209212449,\n",
        "      'could': 0.09880036308277933,\n",
        "      'crazy': 0.040911692875888896,\n",
        "      'famous': 0.06018496931427917,\n",
        "      'fault': 0.17712193023031123,\n",
        "      'feel': 0.03704531705618265,\n",
        "      'jump': 0.04952116653643386,\n",
        "      'kiss': 0.17313296718523302,\n",
        "      'lips': 0.05394704457415357,\n",
        "      'mouth': 0.2106473925999771,\n",
        "      'pieces': 0.07084877209212449,\n",
        "      'salty': 0.07084877209212449,\n",
        "      'taste': 0.12984972538892475,\n",
        "      'turn': 0.19735492686520265,\n",
        "      'upside': 0.18055490794283752,\n",
        "      'want': 0.11750452392118962,\n",
        "      'waste': 0.14856349960930157,\n",
        "      'would': 0.10552605711334934},\n",
        " 42: {'112': 0.06112535945981478,\n",
        "      'allure': 0.07195578415606393,\n",
        "      'alone': 0.039464510067316494,\n",
        "      'confused': 0.04680831677428111,\n",
        "      'cried': 0.12465281423122396,\n",
        "      'crying': 0.09168803918972217,\n",
        "      'fool': 0.041550938077074655,\n",
        "      'forgive': 0.06112535945981478,\n",
        "      'gave': 0.06593931367406336,\n",
        "      'greener': 0.03597789207803197,\n",
        "      'inferno': 0.07195578415606393,\n",
        "      'knew': 0.07892902013463299,\n",
        "      'left': 0.0376241501351855,\n",
        "      'neglected': 0.03597789207803197,\n",
        "      'never': 0.03779625102584788,\n",
        "      'pleasure': 0.06112535945981478,\n",
        "      'rain': 0.04395954244937557,\n",
        "      'simple': 0.03597789207803197,\n",
        "      'tears': 0.05919676510097474,\n",
        "      'vain': 0.07195578415606393},\n",
        " 43: {'affecting': 0.03713846924183945,\n",
        "      'always': 0.038938014010502425,\n",
        "      'babe': 0.04537759220580704,\n",
        "      'cause': 0.052795698386442026,\n",
        "      'chorus': 0.04589806415046487,\n",
        "      'friends': 0.061106338168748116,\n",
        "      'girl': 0.048547290497013555,\n",
        "      'happy': 0.06806638830871056,\n",
        "      'heaven': 0.04537759220580704,\n",
        "      'jealous': 0.03713846924183945,\n",
        "      'love': 0.10654391251164202,\n",
        "      'lucky': 0.03713846924183945,\n",
        "      'man': 0.04740890225996586,\n",
        "      'passes': 0.03713846924183945,\n",
        "      'ralph': 0.0742769384836789,\n",
        "      'ricky': 0.11141540772551835,\n",
        "      'sent': 0.06309714524884107,\n",
        "      'still': 0.20612473494231312,\n",
        "      'would': 0.04148705874415951,\n",
        "      'write': 0.03713846924183945},\n",
        " 44: {},\n",
        " 45: {'ain': 0.030084182948981165,\n",
        "      'aint': 0.027452793020548392,\n",
        "      'ass': 0.0354488230780106,\n",
        "      'dick': 0.13726396510274197,\n",
        "      'dude': 0.04847547564197991,\n",
        "      'eat': 0.04921484768168396,\n",
        "      'frontin': 0.04847547564197991,\n",
        "      'fuck': 0.03732294788677583,\n",
        "      'fucked': 0.041179189530822585,\n",
        "      'jimmy': 0.027452793020548392,\n",
        "      'keys': 0.032316983761319945,\n",
        "      'named': 0.032316983761319945,\n",
        "      'pussy': 0.07382227152252593,\n",
        "      'screamin': 0.032316983761319945,\n",
        "      'shit': 0.02799221091508187,\n",
        "      'somethin': 0.03153402393214727,\n",
        "      'suck': 0.03691113576126297,\n",
        "      'ten': 0.027452793020548392,\n",
        "      'tonight': 0.032316983761319945,\n",
        "      'used': 0.04463712707789665},\n",
        " 46: {'bite': 0.024294858410992947,\n",
        "      'bloody': 0.021270993930660932,\n",
        "      'bone': 0.0319064908959914,\n",
        "      'buck': 0.021270993930660932,\n",
        "      'eyes': 0.08324360303787887,\n",
        "      'fuck': 0.024565912581365153,\n",
        "      'fuckin': 0.021270993930660932,\n",
        "      'gang': 0.021270993930660932,\n",
        "      'harmony': 0.042541987861321864,\n",
        "      'hate': 0.02230168007991825,\n",
        "      'krayzie': 0.0319064908959914,\n",
        "      'look': 0.08010104869503794,\n",
        "      'nigga': 0.06999709868752672,\n",
        "      'niggas': 0.0691855028534409,\n",
        "      'put': 0.022703381713312158,\n",
        "      'see': 0.04006931028659229,\n",
        "      'shit': 0.04299034701738902,\n",
        "      'tell': 0.04802405408036572,\n",
        "      'thug': 0.027104085487954822,\n",
        "      'would': 0.023761641035915843},\n",
        " 47: {'brand': 0.04797052277070929,\n",
        "      'confused': 0.06241108903237481,\n",
        "      'cuz': 0.04417215700416856,\n",
        "      'fed': 0.04075023963987652,\n",
        "      'feel': 0.037624150135185504,\n",
        "      'get': 0.04772347561844558,\n",
        "      'granted': 0.04797052277070929,\n",
        "      'hope': 0.05016553351358066,\n",
        "      'know': 0.05449387228388867,\n",
        "      'let': 0.03923368916076854,\n",
        "      'need': 0.036599468171967034,\n",
        "      'rare': 0.04797052277070929,\n",
        "      'really': 0.11074730262074221,\n",
        "      'repeat': 0.0919697880495717,\n",
        "      'stay': 0.11496223506196465,\n",
        "      'taken': 0.04075023963987652,\n",
        "      'together': 0.11992630692677322,\n",
        "      'wanna': 0.11934053210745821,\n",
        "      'willing': 0.04797052277070929,\n",
        "      'yah': 0.04797052277070929},\n",
        " 48: {},\n",
        " 49: {},\n",
        " 50: {'another': 0.08349516179531424,\n",
        "      'baby': 0.0466012701659562,\n",
        "      'better': 0.08563332990473725,\n",
        "      'body': 0.03805925773543878,\n",
        "      'bomb': 0.12932307455960815,\n",
        "      'boy': 0.03805925773543878,\n",
        "      'cause': 0.04869421437956141,\n",
        "      'chorus': 0.03135735512208068,\n",
        "      'find': 0.07055404902468154,\n",
        "      'get': 0.030290602706583642,\n",
        "      'good': 0.08786562852554754,\n",
        "      'love': 0.05459274855968434,\n",
        "      'never': 0.03198624880203986,\n",
        "      'represent': 0.14548845887955916,\n",
        "      'shhh': 0.1522370309417551,\n",
        "      'stop': 0.027450102592093403,\n",
        "      'tha': 0.2897981733322299,\n",
        "      'thats': 0.03233076863990204,\n",
        "      'work': 0.05320455908873059,\n",
        "      'yea': 0.03805925773543878},\n",
        " 51: {'back': 0.04554202852117434,\n",
        "      'dee': 0.16017983255610754,\n",
        "      'deep': 0.03687414845565376,\n",
        "      'flowing': 0.034017591351549095,\n",
        "      'gotta': 0.04332342278665176,\n",
        "      'hanging': 0.040044958139026886,\n",
        "      'heartache': 0.08008991627805377,\n",
        "      'know': 0.07392212240249246,\n",
        "      'lovely': 0.27214073081239276,\n",
        "      'message': 0.034017591351549095,\n",
        "      'nida': 0.3203596651122151,\n",
        "      'night': 0.04963882976139638"
       ]
      },
      {
       "output_type": "stream",
       "stream": "stdout",
       "text": [
        ",\n",
        "      'number': 0.034017591351549095,\n",
        "      'pounding': 0.040044958139026886,\n",
        "      'safely': 0.040044958139026886,\n",
        "      'save': 0.07339332304591399,\n",
        "      'shame': 0.034017591351549095,\n",
        "      'thunder': 0.040044958139026886,\n",
        "      'waiting': 0.04624800064230918,\n",
        "      'wanna': 0.1439004677005873},\n",
        " 52: {},\n",
        " 53: {'bigga': 0.04021982695186106,\n",
        "      'chorus': 0.024853100238679666,\n",
        "      'close': 0.023224978488495876,\n",
        "      'foxy': 0.10054956737965265,\n",
        "      'happened': 0.02010991347593053,\n",
        "      'jay': 0.08043965390372212,\n",
        "      'nasty': 0.0562249052378725,\n",
        "      'niggaz': 0.030624959801921238,\n",
        "      'papa': 0.034166139785398654,\n",
        "      'posess': 0.04021982695186106,\n",
        "      'ride': 0.024571272635458833,\n",
        "      'right': 0.020457344655073276,\n",
        "      'shake': 0.02010991347593053,\n",
        "      'shit': 0.04644995697699175,\n",
        "      'style': 0.02811245261893625,\n",
        "      'take': 0.020457344655073276,\n",
        "      'thing': 0.030164870213895797,\n",
        "      'throw': 0.024571272635458833,\n",
        "      'uhh': 0.04021982695186106,\n",
        "      'woods': 0.02010991347593053},\n",
        " 54: {'bad': 0.08771752735215414,\n",
        "      'benny': 0.04385876367607707,\n",
        "      'coltrane': 0.04385876367607707,\n",
        "      'far': 0.04586563064098804,\n",
        "      'goodman': 0.04385876367607707,\n",
        "      'happy': 0.21435510222933613,\n",
        "      'hell': 0.11412313423062824,\n",
        "      'makes': 0.19243646813777188,\n",
        "      'mold': 0.04385876367607707,\n",
        "      'mosquitoes': 0.08771752735215414,\n",
        "      'okay': 0.09196788071052002,\n",
        "      'played': 0.07451472391291707,\n",
        "      'poncho': 0.08771752735215414,\n",
        "      'promised': 0.04385876367607707,\n",
        "      'sad': 0.11412313423062824,\n",
        "      'scrape': 0.04385876367607707,\n",
        "      'searching': 0.04385876367607707,\n",
        "      'stoned': 0.04385876367607707,\n",
        "      'thirsty': 0.04385876367607707,\n",
        "      'well': 0.07772269822958304},\n",
        " 55: {'affair': 0.034366941686478296,\n",
        "      'ain': 0.03839100958414761,\n",
        "      'begun': 0.034366941686478296,\n",
        "      'command': 0.034366941686478296,\n",
        "      'concerned': 0.034366941686478296,\n",
        "      'ecstasy': 0.034366941686478296,\n",
        "      'great': 0.034366941686478296,\n",
        "      'hurt': 0.035939486696296596,\n",
        "      'keep': 0.05699846309609944,\n",
        "      'lose': 0.035939486696296596,\n",
        "      'love': 0.03286429142150152,\n",
        "      'make': 0.06267594773126434,\n",
        "      'never': 0.10109086841540209,\n",
        "      'promise': 0.14696921654716608,\n",
        "      'proud': 0.06873388337295659,\n",
        "      'repeat': 0.08236100422349706,\n",
        "      'sunshine': 0.034366941686478296,\n",
        "      'surrounded': 0.034366941686478296,\n",
        "      'told': 0.03969044831242952,\n",
        "      'wondered': 0.034366941686478296},\n",
        " 56: {'band': 0.12099040222973648,\n",
        "      'eyes': 0.10929193485567479,\n",
        "      'fall': 0.05483010385428408,\n",
        "      'forever': 0.07121397194826946,\n",
        "      'gold': 0.10845024424700975,\n",
        "      'inside': 0.07557036963910557,\n",
        "      'joy': 0.12099040222973648,\n",
        "      'know': 0.04044905983958747,\n",
        "      'lasts': 0.14242794389653893,\n",
        "      'love': 0.06810023273940005,\n",
        "      'searchin': 0.04747598129884631,\n",
        "      'see': 0.05365982893018906,\n",
        "      'shines': 0.12099040222973648,\n",
        "      'side': 0.06826623442854808,\n",
        "      'somewhere': 0.12099040222973648,\n",
        "      'standin': 0.14242794389653893,\n",
        "      'waiting': 0.05483010385428408,\n",
        "      'walkin': 0.04747598129884631,\n",
        "      'woman': 0.247070702973525,\n",
        "      'world': 0.062438257015660845},\n",
        " 57: {},\n",
        " 58: {},\n",
        " 59: {'anything': 0.035694765596413124,\n",
        "      'bit': 0.151055608953559,\n",
        "      'closer': 0.17282554764393024,\n",
        "      'day': 0.11508714282496152,\n",
        "      'enjoy': 0.06181436491259183,\n",
        "      'every': 0.10474145961507841,\n",
        "      'everybody': 0.06464283513159387,\n",
        "      'faded': 0.10502075182357438,\n",
        "      'feeling': 0.03958616489341274,\n",
        "      'fine': 0.056645853357584625,\n",
        "      'get': 0.04919681781874658,\n",
        "      'gets': 0.08641277382196512,\n",
        "      'high': 0.056645853357584625,\n",
        "      'jump': 0.04320638691098256,\n",
        "      'little': 0.09206971425996921,\n",
        "      'low': 0.04320638691098256,\n",
        "      'road': 0.16473761933718037,\n",
        "      'sign': 0.10502075182357438,\n",
        "      'winding': 0.1854430947377755,\n",
        "      'wondering': 0.06181436491259183},\n",
        " 60: {'best': 0.036841361487904734,\n",
        "      'cause': 0.03142399967961029,\n",
        "      'chorus': 0.0303539197581741,\n",
        "      'done': 0.03191112044319334,\n",
        "      'east': 0.03129618404342517,\n",
        "      'get': 0.03298646634746958,\n",
        "      'guide': 0.036841361487904734,\n",
        "      'hard': 0.04414549826379442,\n",
        "      'hip': 0.028052463178559854,\n",
        "      'hop': 0.03129618404342517,\n",
        "      'house': 0.064377516497364,\n",
        "      'look': 0.03264353325642488,\n",
        "      'paper': 0.036841361487904734,\n",
        "      'repeat': 0.026487298958276655,\n",
        "      'ride': 0.04501457146816058,\n",
        "      'rock': 0.05505115997843932,\n",
        "      'shit': 0.05318520073865556,\n",
        "      'trying': 0.028052463178559854,\n",
        "      'well': 0.024482649942318656,\n",
        "      'west': 0.028052463178559854},\n",
        " 61: {'bachelor': 0.03654896973006422,\n",
        "      'come': 0.07101801952456192,\n",
        "      'flossing': 0.03654896973006422,\n",
        "      'horny': 0.1827448486503211,\n",
        "      'jockey': 0.03654896973006422,\n",
        "      'juices': 0.03654896973006422,\n",
        "      'jump': 0.33210623589910004,\n",
        "      'let': 0.04483850189802119,\n",
        "      'lets': 0.10964690919019265,\n",
        "      'partner': 0.03654896973006422,\n",
        "      'pony': 0.3654896973006422,\n",
        "      'reach': 0.05565964916380923,\n",
        "      'ride': 0.2456152213044476,\n",
        "      'saddle': 0.32894072757057796,\n",
        "      'sitting': 0.03654896973006422,\n",
        "      'steelo': 0.03654896973006422,\n",
        "      'stream': 0.03654896973006422,\n",
        "      'tail': 0.03654896973006422,\n",
        "      'thigh': 0.03654896973006422,\n",
        "      'waiting': 0.18994714549519842},\n",
        " 62: {'beautiful': 0.09314340489114632,\n",
        "      'building': 0.3654896973006422,\n",
        "      'careful': 0.03654896973006422,\n",
        "      'carefully': 0.11131929832761846,\n",
        "      'choosing': 0.14619587892025687,\n",
        "      'church': 0.03654896973006422,\n",
        "      'died': 0.03654896973006422,\n",
        "      'energy': 0.03654896973006422,\n",
        "      'fears': 0.03654896973006422,\n",
        "      'ghosts': 0.03654896973006422,\n",
        "      'holding': 0.24838241304305686,\n",
        "      'mystery': 0.3654896973006422,\n",
        "      'poem': 0.03654896973006422,\n",
        "      'screaming': 0.03654896973006422,\n",
        "      'suicide': 0.03654896973006422,\n",
        "      'tantrum': 0.03654896973006422,\n",
        "      'vampires': 0.03654896973006422,\n",
        "      'wear': 0.062095603260764215,\n",
        "      'working': 0.24838241304305686,\n",
        "      'yeah': 0.041659608115026885},\n",
        " 63: {'always': 0.10439597269842814,\n",
        "      'amber': 0.02489281181615185,\n",
        "      'blue': 0.03238629484923233,\n",
        "      'closer': 0.13919463026457085,\n",
        "      'everything': 0.11280172883105241,\n",
        "      'everywhere': 0.17812462167077783,\n",
        "      'far': 0.15619106650714845,\n",
        "      'feels': 0.03238629484923233,\n",
        "      'forever': 0.1493568708969111,\n",
        "      'love': 0.0634784151420714,\n",
        "      'moments': 0.02489281181615185,\n",
        "      'near': 0.22745240415048532,\n",
        "      'never': 0.0418414714059116,\n",
        "      'pale': 0.02489281181615185,\n",
        "      'say': 0.047942167546880486,\n",
        "      'standing': 0.02489281181615185,\n",
        "      'stop': 0.03590770176911678,\n",
        "      'sweetness': 0.02489281181615185,\n",
        "      'together': 0.0995712472646074,\n",
        "      'whatever': 0.07581746805016178},\n",
        " 64: {'brow': 0.03713846924183945,\n",
        "      'charming': 0.03713846924183945,\n",
        "      'claim': 0.03154857262442053,\n",
        "      'could': 0.18414404588905106,\n",
        "      'crap': 0.03713846924183945,\n",
        "      'cut': 0.03713846924183945,\n",
        "      'genes': 0.03713846924183945,\n",
        "      'guess': 0.06806638830871056,\n",
        "      'handsome': 0.03713846924183945,\n",
        "      'kind': 0.04831826247667727,\n",
        "      'liked': 0.03713846924183945,\n",
        "      'marxist': 0.03713846924183945,\n",
        "      'never': 0.12484955177570396,\n",
        "      'play': 0.03560120827725356,\n",
        "      'say': 0.035763310468439065,\n",
        "      'soon': 0.03154857262442053,\n",
        "      'surprise': 0.03713846924183945,\n",
        "      'true': 0.042869923595126015,\n",
        "      'well': 0.06581357511375982,\n",
        "      'woman': 0.28990957486006363},\n",
        " 65: {'ain': 0.02622015945094689,\n",
        "      'brother': 0.04224926776135864,\n",
        "      'cause': 0.020020387155715018,\n",
        "      'crew': 0.019687313913566977,\n",
        "      'done': 0.02439688107277778,\n",
        "      'ever': 0.03251296957673166,\n",
        "      'everybody': 0.02209124411607222,\n",
        "      'game': 0.02025022856137359,\n",
        "      'get': 0.06725069591736918,\n",
        "      'got': 0.018745894450128097,\n",
        "      'gotta': 0.02539344352938304,\n",
        "      'guess': 0.025811107493211343,\n",
        "      'homie': 0.021446837292476952,\n",
        "      'homies': 0.018322521550788937,\n",
        "      'kids': 0.0239267462105697,\n",
        "      'little': 0.02622015945094689,\n",
        "      'rollin': 0.019687313913566977,\n",
        "      'see': 0.039793604023152435,\n",
        "      'something': 0.02209124411607222,\n",
        "      'tryin': 0.02112463388067932},\n",
        " 66: {'baby': 0.05783337118031487,\n",
        "      'change': 0.28134107167600364,\n",
        "      'could': 0.1585684839600162,\n",
        "      'good': 0.05906522806439585,\n",
        "      'king': 0.04346692228253496,\n",
        "      'kingdom': 0.05116855762208991,\n",
        "      'love': 0.04077606528223336,\n",
        "      'queen': 0.04346692228253496,\n",
        "      'reach': 0.03896175441466647,\n",
        "      'really': 0.05906522806439585,\n",
        "      'rule': 0.05116855762208991,\n",
        "      'something': 0.08026485362172905,\n",
        "      'stars': 0.03896175441466647,\n",
        "      'sunlight': 0.1168852632439994,\n",
        "      'think': 0.048989199001964724,\n",
        "      'truth': 0.03896175441466647,\n",
        "      'universe': 0.15350567286626973,\n",
        "      'wishin': 0.04346692228253496,\n",
        "      'world': 0.15141277326297756,\n",
        "      'would': 0.13337321107381653},\n",
        " 67: {},\n",
        " 68: {'away': 0.10763087919066679,\n",
        "      'cider': 0.019849871491327983,\n",
        "      'danny': 0.025293252190268185,\n",
        "      'drink': 0.07939948596531193,\n",
        "      'drinks': 0.07939948596531193,\n",
        "      'get': 0.17377927673475355,\n",
        "      'gonna': 0.15261911238599227,\n",
        "      'keep': 0.12071226236156692,\n",
        "      'knocked': 0.4366971728092156,\n",
        "      'lager': 0.019849871491327983,\n",
        "      'never': 0.09175365766274796,\n",
        "      'night': 0.09842181763035489,\n",
        "      'pissing': 0.31759794386124773,\n",
        "      'reminds': 0.033724336253690916,\n",
        "      'singing': 0.3374478153525757,\n",
        "      'sings': 0.03969974298265597,\n",
        "      'songs': 0.03969974298265597,\n",
        "      'times': 0.02292465549079981,\n",
        "      'vodka': 0.019849871491327983,\n",
        "      'winning': 0.16872390767628784},\n",
        " 69: {'awake': 0.07675283643313487,\n",
        "      'chorus': 0.09485599924429407,\n",
        "      'city': 0.26823965207235,\n",
        "      'crime': 0.06520038342380244,\n",
        "      'drowning': 0.07675283643313487,\n",
        "      'fear': 0.06520038342380244,\n",
        "      'gotham': 0.07675283643313487,\n",
        "      'happiness': 0.07675283643313487,\n",
        "      'justice': 0.07675283643313487,\n",
        "      'mist': 0.07675283643313487,\n",
        "      'place': 0.0706754512066697,\n",
        "      'quiet': 0.07675283643313487,\n",
        "      'signals': 0.07675283643313487,\n",
        "      'skyline': 0.07675283643313487,\n",
        "      'sleeping': 0.06520038342380244,\n",
        "      'solution': 0.06520038342380244,\n",
        "      'sorrow': 0.07675283643313487,\n",
        "      'stormy': 0.06520038342380244,\n",
        "      'stumble': 0.07675283643313487,\n",
        "      'weather': 0.06520038342380244},\n",
        " 70: {'almost': 0.04524590835251589,\n",
        "      'beautiful': 0.050477716199072854,\n",
        "      'cried': 0.034313032734616486,\n",
        "      'explored': 0.05942155078694312,\n",
        "      'felt': 0.07571657429860928,\n",
        "      'heaven': 0.09075518441161408,\n",
        "      'inside': 0.059115531088655165,\n",
        "      'last': 0.20587819640769894,\n",
        "      'love': 0.06629399000724391,\n",
        "      'made': 0.06342299536686558,\n",
        "      'making': 0.1485538769673578,\n",
        "      'moon': 0.12619429049768213,\n",
        "      'mountains': 0.1485538769673578,\n",
        "      'night': 0.1196936298278832,\n",
        "      'red': 0.050477716199072854,\n",
        "      'rivers': 0.1485538769673578,\n",
        "      'saw': 0.19327304990670907,\n",
        "      'soul': 0.0488850705349985,\n",
        "      'sun': 0.08578258183654122,\n",
        "      'sweet': 0.07767566479522167},\n",
        " 71: {},\n",
        " 72: {'big': 0.05449303354370446,\n",
        "      'boo': 0.03206576233957497,\n",
        "      'caddie': 0.03774729660645977,\n",
        "      'could': 0.040941862661807465,\n",
        "      'cute': 0.03774729660645977,\n",
        "      'daddy': 0.043113416770327644,\n",
        "      'dollar': 0.03774729660645977,\n",
        "      'fine': 0.034591115370000446,\n",
        "      'genuine': 0.03774729660645977,\n",
        "      'hot': 0.02455518257011468,\n",
        "      'like': 0.03508278137102286,\n",
        "      'miggie': 0.03774729660645977,\n",
        "      'missing': 0.028742277846885097,\n",
        "      'nigger': 0.03774729660645977,\n",
        "      'nothin': 0.03269582012622268,\n",
        "      'ready': 0.02455518257011468,\n",
        "      'ridin': 0.028742277846885097,\n",
        "      'sexy': 0.028742277846885097,\n",
        "      'sign': 0.03206576233957497,\n",
        "      'waterbed': 0.03774729660645977},\n",
        " 73: {'aight': 0.039360428940069164,\n",
        "      'another': 0.04317484862065395,\n",
        "      'baby': 0.044487208600242203,\n",
        "      'baller': 0.03343609406348843,\n",
        "      'finished': 0.03343609406348843,\n",
        "      'gon': 0.46088188823907555,\n",
        "      'heh': 0.23616257364041496,\n",
        "      'help': 0.19258231430835387,\n",
        "      'hey': 0.10290365848939623,\n",
        "      'huh': 0.14406512188515472,\n",
        "      'hum': 0.039360428940069164,\n",
        "      'leave': 0.04543479081876604,\n",
        "      'missy': 0.039360428940069164,\n",
        "      'pimpin': 0.039360428940069164,\n",
        "      'sing': 0.19236996353914781,\n",
        "      'swazey': 0.039360428940069164,\n",
        "      'timberland': 0.039360428940069164,\n",
        "      'total': 0.2755230025804841,\n",
        "      'tricking': 0.039360428940069164,\n",
        "      'yeah': 0.13459258006393301},\n",
        " 74: {'2pac': 0.037339217724227776,\n",
        "      'broke': 0.018954367012540444,\n",
        "      'bustin': 0.021146070299611602,\n",
        "      'childhood': 0.02489281181615185,\n",
        "      'focus': 0.02489281181615185,\n",
        "      'gon': 0.02428972113692425,\n",
        "      'help': 0.017399328783071356,\n",
        "      'hopin': 0.02489281181615185,\n",
        "      'life': 0.021232432215952904,\n",
        "      'momma': 0.02489281181615185,\n",
        "      'nigga': 0.03413146816632778,\n",
        "      'pain': 0.02386243149394293,\n",
        "      'picture': 0.02489281181615185,\n",
        "      'pictures': 0.031719105449417404,\n",
        "      'save': 0.022811438244000296,\n",
        "      'scarface': 0.02489281181615185,\n",
        "      'shots': 0.021146070299611602,\n",
        "      'smile': 0.18430992809817,\n",
        "      'spoken': 0.017399328783071356,\n",
        "      'thoughts': 0.018954367012540444},\n",
        " 75: {'aroused': 0.05616061202424502,\n",
        "      'blows': 0.05616061202424502,\n",
        "      'cable': 0.05616061202424502,\n",
        "      'coming': 0.21919992245517006,\n",
        "      'dinner': 0.05616061202424502,\n",
        "      'excited': 0.11232122404849004,\n",
        "      'gonna': 0.07850916646020002,\n",
        "      'hour': 0.05616061202424502,\n",
        "      'imagined': 0.11232122404849004,\n",
        "      'montell': 0.05616061202424502,\n",
        "      'nowhere': 0.05616061202424502,\n",
        "      'rendezvous': 0.05616061202424502,\n",
        "      'repeat': 0.08075396023864832,\n",
        "      'reply': 0.05616061202424502,\n",
        "      'shoulder': 0.05616061202424502,\n",
        "      'shower': 0.05616061202424502,\n",
        "      'strawberries': 0.05616061202424502,\n",
        "      'temperature': 0.05616061202424502,\n",
        "      'tonight': 0.05616061202424502,\n",
        "      'whispering': 0.05616061202424502},\n",
        " 76: {'car': 0.05669598558591516,\n",
        "      'drivin': 0.05669598558591516,\n",
        "      'everything': 0.054988985069155984,\n",
        "      'far': 0.06979552488846005,\n",
        "      'garden': 0.2002247906951344,\n",
        "      'hammer': 0.06674159689837814,\n",
        "      'hides': 0.06674159689837814,\n",
        "      'knockin': 0.05669598558591516,\n",
        "      'late': 0.05081967967130408,\n",
        "      'let': 0.09552550404361038,\n",
        "      'miles': 0.11339197117183032,\n",
        "      'million': 0.11339197117183032,\n",
        "      'mouth': 0.05669598558591516,\n",
        "      'parts': 0.06674159689837814,\n",
        "      'path': 0.05669598558591516,\n",
        "      'price': 0.05669598558591516,\n",
        "      'secret': 0.13995112282035654,\n",
        "      'tenderness': 0.06674159689837814,\n",
        "      'twice': 0.05081967967130408,\n",
        "      'vise': 0.06674159689837814},\n",
        " 77: {'anymore': 0.05032972880861303,\n",
        "      'bad': 0.03774729660645977,\n",
        "      'break': 0.06030805773742407,\n",
        "      'could': 0.18716280073969127,\n",
        "      'dreams': 0.032740243426819575,\n",
        "      'gave': 0.12299063242666826,\n",
        "      'happy': 0.0461214871600006,\n",
        "      'heart': 0.07575379022513062,\n",
        "      'hey': 0.06579086362436808,\n",
        "      'hurt': 0.03947451817462085,\n",
        "      'lies': 0.05276845614538034,\n",
        "      'love': 0.04010760519563937,\n",
        "      'made': 0.042975144401591975,\n",
        "      'one': 0.07402282168122339,\n",
        "      'sad': 0.06548048685363915,\n",
        "      'somebody': 0.04459499078746568,\n",
        "      'tell': 0.08332916924764369,\n",
        "      'throw': 0.0461214871600006,\n",
        "      'understand': 0.0723696692849089,\n",
        "      'world': 0.04136961018114141},\n",
        " 78: {'carry': 0.11177208586937559,\n",
        "      'children': 0.03339578949828555,\n",
        "      'eagle': 0.26315258205646236,\n",
        "      'eat': 0.03339578949828555,\n",
        "      'feed': 0.03339578949828555,\n",
        "      'fly': 0.2886547022066578,\n",
        "      'future': 0.3065596023684,\n",
        "      'keeps': 0.1875607144506691,\n",
        "      'like': 0.04076285073585513,\n",
        "      'right': 0.033462370900084144,\n",
        "      'sea': 0.08559235067297116,\n",
        "      'shoe': 0.03725736195645853,\n",
        "      'shoes': 0.03725736195645853,\n",
        "      'slippin': 0.8333165098454642,\n",
        "      'solution': 0.03725736195645853,\n",
        "      'spirit': 0.11177208586937559,\n",
        "      'street': 0.04385876367607707,\n",
        "      'time': 0.06998814163324517,\n",
        "      'wanna': 0.036370447880368216,\n",
        "      'want': 0.07274089576073643},\n",
        " 79: {'bank': 0.06265537668011009,\n",
        "      'chick': 0.031327688340055046,\n",
        "      'coast': 0.06265537668011009,\n",
        "      'countin': 0.06265537668011009,\n",
        "      'cristal': 0.05322480279494076,\n",
        "      'east': 0.05322480279494076,\n",
        "      'fake': 0.05322480279494076,\n",
        "      'figures': 0.05322480279494076,\n",
        "      'licky': 0.031327688340055046,\n",
        "      'mama': 0.031327688340055046,\n",
        "      'nadie': 0.031327688340055046,\n",
        "      'nigga': 0.04295456878075265,\n",
        "      'niggas': 0.09170609000675482,\n",
        "      'pun': 0.04699153251008257,\n",
        "      'shit': 0.054270612998628114,\n",
        "      'sip': 0.05322480279494076,\n",
        "      'spread': 0.05322480279494076,\n",
        "      'sticky': 0.031327688340055046,\n",
        "      'talkin': 0.06265537668011009,\n",
        "      'west': 0.04770827071183648},\n",
        " 80: {'alright': 0.255466335307,\n",
        "      'came': 0.028140317851140507,\n",
        "      'clear': 0.03406217804093334,\n",
        "      'coming': 0.09510261185885685,\n",
        "      'could': 0.052856161320005396,\n",
        "      'end': 0.02977154197629668,\n",
        "      'eye': 0.20698534420254738,\n",
        "      'falling': 0.07925217654904737,\n",
        "      'feels': 0.2377565296471421,\n",
        "      'knew': 0.0801818617240716,\n",
        "      'naked': 0.29239175784051374,\n",
        "      'nothing': 0.03365497676508081,\n",
        "      'rain': 0.0744288549407417,\n",
        "      'regain': 0.02436597982004281,\n",
        "      'said': 0.06022603126621845,\n",
        "      'saw': 0.15850435309809474,\n",
        "      'state': 0.04873195964008562,\n",
        "      'things': 0.028126299078283734,\n",
        "      'tried': 0.02977154197629668,\n",
        "      'wearing': 0.03406217804093334},\n",
        " 81: {},\n",
        " 82: {'born': 0.031434756611843986,\n",
        "      'call': 0.04456860397094041,\n",
        "      'cipher': 0.1543632464577014,\n",
        "      'day': 0.08621891537892369,\n",
        "      'fear': 0.06556463137589072,\n",
        "      'god': 0.07858689152960995,\n",
        "      'image': 0.06556463137589072,\n",
        "      'intellects': 0.0771816232288507,\n",
        "      'keeps': 0.12573902644737595,\n",
        "      'knows': 0.05020780346738532,\n",
        "      'like': 0.03188155923474703,\n",
        "      'made': 0.032951612117980436,\n",
        "      'moving': 0.1543632464577014,\n",
        "      'names': 0.06556463137589072,\n",
        "      'ohh': 0.042330647669970765,\n",
        "      'rollin': 0.10789527904586146,\n",
        "      'stone': 0.13112926275178144,\n",
        "      'three': 0.04456860397094041,\n",
        "      'turnin': 0.04370975425059381,\n",
        "      'whew': 0.0771816232288507},\n",
        " 83: {'bars': 0.041117590946322245,\n",
        "      'celeb': 0.041117590946322245,\n",
        "      'delhi': 0.041117590946322245,\n",
        "      'entourage': 0.041117590946322245,\n",
        "      'found': 0.06261710530928538,\n",
        "      'gain': 0.041117590946322245,\n",
        "      'girls': 0.047486786373799605,\n",
        "      'giving': 0.06985755366835975,\n",
        "      'laughing': 0.041117590946322245,\n",
        "      'life': 0.058452380356417956,\n",
        "      'live': 0.05464877219267557,\n",
        "      'movie': 0.041117590946322245,\n",
        "      'player': 0.22991970177630003,\n",
        "      'repeat': 0.07883124689963289,\n",
        "      'sippin': 0.041117590946322245,\n",
        "      'someone': 0.06765344582968541,\n",
        "      'spinning': 0.041117590946322245,\n",
        "      'style': 0.05747992544407501,\n",
        "      'switching': 0.041117590946322245,\n",
        "      'wanna': 0.09092611970092053},\n",
        " 84: {'attract': 0.05515173875434841,\n",
        "      'bullshit': 0.04199470535712553,\n",
        "      'cells': 0.0827276081315226,\n",
        "      'chorus': 0.04543999963798518,\n",
        "      'cops': 0.1930310856402194,\n",
        "      'crime': 0.0702758623729607,\n",
        "      'cuffs': 0.0827276081315226,\n",
        "      'fools': 0.0702758623729607,\n",
        "      'guns': 0.0827276081315226,\n",
        "      'hommie': 0.11030347750869682,\n",
        "      'keep': 0.03811274478481699,\n",
        "      'profession': 0.05515173875434841,\n",
        "      'sheriff': 0.0827276081315226,\n",
        "      'shoot': 0.04685057491530714,\n",
        "      'shot': 0.04685057491530714,\n",
        "      'stuff': 0.0702758623729607,\n",
        "      'tha': 0.14698146874993934,\n",
        "      'tryin': 0.0689396734429355,\n",
        "      'verse': 0.0505403122771264,\n",
        "      'war': 0.04685057491530714},\n",
        " 85: {'ain': 0.03089726897462931,\n",
        "      'baby': 0.027353621504202976,\n",
        "      'brian': 0.020744009846793206,\n",
        "      'cat': 0.0315906116875674,\n",
        "      'gown': 0.020744009846793206,\n",
        "      'let': 0.021207399546361375,\n",
        "      'like': 0.02249301448262276,\n",
        "      'love': 0.029755507097845968,\n",
        "      'loved': 0.04738591753135111,\n",
        "      'mase': 0.062232029540379624,\n",
        "      'mine': 0.09334804431056944,\n",
        "      'ooh': 0.06507961104464519,\n",
        "      'right': 0.02637799507889516,\n",
        "      'smile': 0.022754312110885185,\n",
        "      'straw': 0.020744009846793206,\n",
        "      'studded': 0.020744009846793206,\n",
        "      'time': 0.04256035639859504,\n",
        "      'treat': 0.06747144760256736,\n",
        "      'wanna': 0.02293631848311509,\n",
        "      'waste': 0.13049496587303516},\n",
        " 86: {'argentina': 0.14097459753024771,\n",
        "      'cry': 0.07371262067301648,\n",
        "      'distance': 0.07983720419241114,\n",
        "      'dressed': 0.04699153251008257,\n",
        "      'existence': 0.09398306502016514,\n",
        "      'happen': 0.04699153251008257,\n",
        "      'illusions': 0.04699153251008257,\n",
        "      'impressed': 0.04699153251008257,\n",
        "      'invited': 0.04699153251008257,\n",
        "      'kept': 0.07156240606775473,\n",
        "      'left': 0.04914174711534432,\n",
        "      'mad': 0.06113739333783654,\n",
        "      'nines': 0.04699153251008257,\n",
        "      'promise': 0.08612481786000112,\n",
        "      'seemed': 0.04699153251008257,\n",
        "      'sevens': 0.04699153251008257,\n",
        "      'solutions': 0.04699153251008257,\n",
        "      'staying': 0.04699153251008257,\n",
        "      'truth': 0.07156240606775473,\n",
        "      'wild': 0.06569134336465715},\n",
        " 87: {'baby': 0.04111377098126649,\n",
        "      'believe': 0.03148305605349101,\n",
        "      'everything': 0.02697326992728741,\n",
        "      'faithful': 0.0873018044737079,\n",
        "      'five': 0.030510671325764935,\n",
        "      'freaky': 0.037080786781309445,\n",
        "      'gone': 0.023940555870220433,\n",
        "      'lifetime': 0.037080786781309445,\n",
        "      'love': 0.045220849649491024,\n",
        "      'lover': 0.025206256274244342,\n",
        "      'mine': 0.03273817667764046,\n",
        "      'need': 0.07215819317316723,\n",
        "      'one': 0.027514237713603003,\n",
        "      'platinium': 0.037080786781309445,\n",
        "      'puff': 0.08309378903601852,\n",
        "      'satisfy': 0.0873018044737079,\n",
        "      'someone': 0.1556136131564328,\n",
        "      'swv': 0.06547635335528092,\n",
        "      'talk': 0.026667400158862906,\n",
        "      'true': 0.041989498623978085},\n",
        " 88: {'accept': 0.045595744415723685,\n",
        "      'arms': 0.05001442860016348,\n",
        "      'distance': 0.23239740626305816,\n",
        "      'face': 0.06060061866910558,\n",
        "      'far': 0.04768209126043311,\n",
        "      'find': 0.05635009856096677,\n",
        "      'harms': 0.09119148883144737,\n",
        "      'hero': 0.13887358009188047,\n",
        "      'may': 0.052658614592728276,\n",
        "      'mile': 0.045595744415723685,\n",
        "      'road': 0.06943679004594024,\n",
        "      'search': 0.07746580208768605,\n",
        "      'slope': 0.045595744415723685,\n",
        "      'someday': 0.045595744415723685,\n",
        "      'somehow': 0.045595744415723685,\n",
        "      'till': 0.05263238144352105,\n",
        "      'uphill': 0.045595744415723685,\n",
        "      'waiting': 0.07898792188909241,\n",
        "      'welcome': 0.13678723324717104,\n",
        "      'worth': 0.05932143115948497},\n",
        " 89: {'baby': 0.050604199782775514,\n",
        "      'chorus': 0.06323733282952937,\n",
        "      'come': 0.041427178055994454,\n",
        "      'feeling': 0.04915282140932082,\n",
        "      'game': 0.03678791521982869,\n",
        "      'hit': 0.04581453659370776,\n",
        "      'let': 0.03138695132861483,\n",
        "      'mine': 0.03837641821656743,\n",
        "      'one': 0.04031600109423773,\n",
        "      'play': 0.3862731098082012,\n",
        "      'put': 0.06553709521242776,\n",
        "      'round': 0.16838190962055039,\n",
        "      'shame': 0.06520038342380244,\n",
        "      'show': 0.08500920118860644,\n",
        "      'spell': 0.15350567286626973,\n",
        "      'spin': 0.15350567286626973,\n",
        "      'stop': 0.08303656034108255,\n",
        "      'time': 0.04374258852077823,\n",
        "      'turn': 0.06108604879161034,\n",
        "      'upside': 0.13040076684760488},\n",
        " 90: {'appeal': 0.027943021467343898,\n",
        "      'baby': 0.034080379445542694,\n",
        "      'bomb': 0.055886042934687796,\n",
        "      'bond': 0.027943021467343898,\n",
        "      'butta': 0.1676581288040634,\n",
        "      'confidence': 0.032894072757057795,\n",
        "      'creamy': 0.06578814551411559,\n",
        "      'goin': 0.034487955266445006,\n",
        "      'got': 0.11676014257508356,\n",
        "      'kickin': 0.027943021467343898,\n",
        "      'love': 0.08650350992016649,\n",
        "      'need': 0.04182796362510518,\n",
        "      'sex': 0.03014368625100039,\n",
        "      'sexiness': 0.032894072757057795,\n",
        "      'sexy': 0.03757026318557123,\n",
        "      'shorty': 0.032894072757057795,\n",
        "      'smooth': 0.05349521917060698,\n",
        "      'thickness': 0.032894072757057795,\n",
        "      'want': 0.05455567182055233,\n",
        "      'word': 0.03014368625100039},\n",
        " 91: {'back': 0.032329217777376844,\n",
        "      'boom': 0.028426976456716616,\n",
        "      'chicken': 0.028426976456716616,\n",
        "      'coco': 0.48325859976418245,\n",
        "      'feel': 0.0371596544545042,\n",
        "      'feet': 0.07947841542884446,\n",
        "      'gee': 0.028426976456716616,\n",
        "      'groove': 0.05685395291343323,\n",
        "      'ground': 0.09659316062785545,\n",
        "      'happy': 0.08683366409753199,\n",
        "      'heart': 0.042786862997527486,\n",
        "      'jamboo': 0.4264046468507492,\n",
        "      'loco': 0.028426976456716616,\n",
        "      'make': 0.03240191742279869,\n",
        "      'move': 0.03473346563901279,\n",
        "      'nicer': 0.028426976456716616,\n",
        "      'put': 0.2063204849280133,\n",
        "      'smooth': 0.03698434905622211,\n",
        "      'take': 0.04337714746307204,\n",
        "      'yeah': 0.0842449852992766},\n",
        " 92: {'baby': 0.0760965410267301,\n",
        "      'chorus': 0.09984842025715164,\n",
        "      'concentrate': 0.040396229701649924,\n",
        "      'dear': 0.040396229701649924,\n",
        "      'foolish': 0.040396229701649924,\n",
        "      'girl': 0.04224465980091004,\n",
        "      'got': 0.06273297133968306,\n",
        "      'headaches': 0.040396229701649924,\n",
        "      'klose': 0.040396229701649924,\n",
        "      'know': 0.04015337957760218,\n",
        "      'kut': 0.040396229701649924,\n",
        "      'long': 0.040396229701649924,\n",
        "      'lover': 0.04665368485846978,\n",
        "      'mind': 0.039845466648151986,\n",
        "      'strong': 0.04665368485846978,\n",
        "      'stupid': 0.040396229701649924,\n",
        "      'thought': 0.044311028847513256,\n",
        "      'twisted': 0.13726396510274197,\n",
        "      'wrong': 0.03719760589824721,\n",
        "      'youll': 0.040396229701649924},\n",
        " 93: {'barbie': 0.5186002461698301,\n",
        "      'bimbo': 0.04148801969358641,\n",
        "      'brush': 0.10372004923396602,\n",
        "      'come': 0.06270059381447808,\n",
        "      'creation': 0.10372004923396602,\n",
        "      'everywhere': 0.06747144760256736,\n",
        "      'fantastic': 0.10372004923396602,\n",
        "      'girl': 0.0325398055223226,\n",
        "      'hair': 0.07897652921891851,\n",
        "      'imagination': 0.10372004923396602,\n",
        "      'ken': 0.062232029540379624,\n",
        "      'let': 0.06362219863908412,\n",
        "      'life': 0.05897897837764694,\n",
        "      'ooh': 0.13015922208929037,\n",
        "      'party': 0.18892005328718858,\n",
        "      'plastic': 0.10372004923396602,\n",
        "      'touch': 0.05069208498666732,\n",
        "      'undress': 0.07897652921891851,\n",
        "      'woa': 0.2489281181615185,\n",
        "      'world': 0.0409223711521561},\n",
        " 94: {},\n",
        " 95: {'bay': 0.028252577828147805,\n",
        "      'clear': 0.05924311334113253,\n",
        "      'crowd': 0.09888402239851732,\n",
        "      'damn': 0.04936926111761044,\n",
        "      'dedication': 0.0706314445703695,\n",
        "      'dime': 0.05650515565629561,\n",
        "      'freeze': 0.19776804479703464,\n",
        "      'going': 0.040624691653798554,\n",
        "      'help': 0.029621556670566266,\n",
        "      'hey': 0.036931681114292514,\n",
        "      'huh': 0.04431801733715102,\n",
        "      'jam': 0.029621556670566266,\n",
        "      'ladies': 0.029621556670566266,\n",
        "      'lemme': 0.04237886674222171,\n",
        "      'mercy': 0.04237886674222171,\n",
        "      'noise': 0.08475773348444342,\n",
        "      'party': 0.036757451209251425,\n",
        "      'say': 0.061214500740457055,\n",
        "      'special': 0.05378156284233101,\n",
        "      'throat': 0.07200042341278796},\n",
        " 96: {},\n",
        " 97: {},\n",
        " 98: {'believed': 0.14488974094178317,\n",
        "      'certainties': 0.08528092937014985,\n",
        "      'changed': 0.06493625735777744,\n",
        "      'concealing': 0.1705618587402997,\n",
        "      'confess': 0.1298725147155549,\n",
        "      'deep': 0.07852827911852188,\n",
        "      'disappear': 0.07244487047089158,\n",
        "      'feeling': 0.07281899468047529,\n",
        "      'frightened': 0.1705618587402997,\n",
        "      'intended': 0.08528092937014985,\n",
        "      'isn': 0.08528092937014985,\n",
        "      'longing': 0.1705618587402997,\n",
        "      'love': 0.06796010880372227,\n",
        "      'must': 0.22295792672702516,\n",
        "      'passions': 0.08528092937014985,\n",
        "      'scared': 0.1298725147155549,\n",
        "      'slip': 0.11921762314326668,\n",
        "      'survive': 0.05960881157163334,\n",
        "      'things': 0.06562803118266206,\n",
        "      'use': 0.05960881157163334},\n",
        " 99: {'better': 0.10546191265621584,\n",
        "      'boogey': 0.03515397088540528,\n",
        "      'floor': 0.042952835370382234,\n",
        "      'gotta': 0.03803201236996147,\n",
        "      'guess': 0.042952835370382234,\n",
        "      'hostility': 0.03515397088540528,\n",
        "      'huh': 0.07352505675272891,\n",
        "      'insist': 0.24607779619783696,\n",
        "      'invades': 0.03515397088540528,\n",
        "      'let': 0.07906636594231219,\n",
        "      'missed': 0.03515397088540528,\n",
        "      'nothin': 0.08119877975367261,\n",
        "      'relax': 0.07030794177081055,\n",
        "      'remedy': 0.07030794177081055,\n",
        "      'repeat': 0.05054828045472644,\n",
        "      'rock': 0.04502548526044655,\n",
        "      'stevie': 0.07030794177081055,\n",
        "      'stop': 0.07606402473992294,\n",
        "      'two': 0.05273095632810792,\n",
        "      'yeah': 0.07212518412586336}}\n",
        "2"
       ]
      },
      {
       "output_type": "stream",
       "stream": "stdout",
       "text": [
        " : life : {'love': 0.006946827246654744, 'joy': 0, 'sadness': 0, 'anger': 0, 'surprise': 0, 'fear': 0}\n",
        "2"
       ]
      },
      {
       "output_type": "stream",
       "stream": "stdout",
       "text": [
        " : hard : {'love': 0.006946827246654744, 'joy': 0, 'sadness': 0, 'anger': 0, 'surprise': 0, 'fear': 0.0013526701461422212}\n",
        "2"
       ]
      },
      {
       "output_type": "stream",
       "stream": "stdout",
       "text": [
        " : anything : {'love': 0.006946827246654744, 'joy': 0, 'sadness': 0, 'anger': 0, 'surprise': 0, 'fear': 0.0013526701461422212}\n",
        "2"
       ]
      },
      {
       "output_type": "stream",
       "stream": "stdout",
       "text": [
        " : missing : {'love': 0.014458637858608708, 'joy': 0, 'sadness': 0, 'anger': 0, 'surprise': 0, 'fear': 0.0013526701461422212}\n",
        "2"
       ]
      },
      {
       "output_type": "stream",
       "stream": "stdout",
       "text": [
        " : pray : {'love': 0.027957886137164264, 'joy': 0, 'sadness': 0, 'anger': 0, 'surprise': 0, 'fear': 0.0013526701461422212}\n",
        "2"
       ]
      },
      {
       "output_type": "stream",
       "stream": "stdout",
       "text": [
        " : big : {'love': 0.03326058156822542, 'joy': 0, 'sadness': 0, 'anger': 0, 'surprise': 0, 'fear': 0.0013526701461422212}\n",
        "2"
       ]
      },
      {
       "output_type": "stream",
       "stream": "stdout",
       "text": [
        " : move : {'love': 0.03326058156822542, 'joy': 0, 'sadness': 0, 'anger': 0, 'surprise': 0.004055258863786276, 'fear': 0.0013526701461422212}\n",
        "2"
       ]
      },
      {
       "output_type": "stream",
       "stream": "stdout",
       "text": [
        " : single : {'love': 0.03326058156822542, 'joy': 0, 'sadness': 0, 'anger': 0, 'surprise': 0.009180454185490398, 'fear': 0.0013526701461422212}\n",
        "2"
       ]
      },
      {
       "output_type": "stream",
       "stream": "stdout",
       "text": [
        " : step : {'love': 0.03326058156822542, 'joy': 0, 'sadness': 0, 'anger': 0, 'surprise': 0.009180454185490398, 'fear': 0.0031149613883031755}\n",
        "2"
       ]
      },
      {
       "output_type": "stream",
       "stream": "stdout",
       "text": [
        " : death : {'love': 0.03326058156822542, 'joy': 0, 'sadness': 0, 'anger': 0, 'surprise': 0.009180454185490398, 'fear': 0.007787120009034583}\n",
        "2"
       ]
      },
      {
       "output_type": "stream",
       "stream": "stdout",
       "text": [
        " : every : {'love': 0.03326058156822542, 'joy': 0, 'sadness': 0, 'anger': 0, 'surprise': 0.009180454185490398, 'fear': 0.007787120009034583}\n",
        "2"
       ]
      },
      {
       "output_type": "stream",
       "stream": "stdout",
       "text": [
        " : take : {'love': 0.03326058156822542, 'joy': 0, 'sadness': 0, 'anger': 0, 'surprise': 0.009180454185490398, 'fear': 0.007787120009034583}\n",
        "2"
       ]
      },
      {
       "output_type": "stream",
       "stream": "stdout",
       "text": [
        " : half : {'love': 0.03326058156822542, 'joy': 0, 'sadness': 0, 'anger': 0, 'surprise': 0.009180454185490398, 'fear': 0.007787120009034583}\n",
        "2"
       ]
      },
      {
       "output_type": "stream",
       "stream": "stdout",
       "text": [
        " : bond : {'love': 0.03859500300716121, 'joy': 0, 'sadness': 0, 'anger': 0, 'surprise': 0.009180454185490398, 'fear': 0.007787120009034583}\n",
        "2"
       ]
      },
      {
       "output_type": "stream",
       "stream": "stdout",
       "text": [
        " : went : {'love': 0.04155521658983049, 'joy': 0, 'sadness': 0, 'anger': 0, 'surprise': 0.009180454185490398, 'fear': 0.007787120009034583}\n",
        "2"
       ]
      },
      {
       "output_type": "stream",
       "stream": "stdout",
       "text": [
        " : still : {'love': 0.04155521658983049, 'joy': 0, 'sadness': 0, 'anger': 0.0009563388243378794, 'surprise': 0.009180454185490398, 'fear': 0.007787120009034583}\n",
        "2"
       ]
      },
      {
       "output_type": "stream",
       "stream": "stdout",
       "text": [
        " : miss : {'love': 0.04784052046621368, 'joy': 0, 'sadness': 0, 'anger': 0.0009563388243378794, 'surprise': 0.009180454185490398, 'fear': 0.007787120009034583}\n",
        "2"
       ]
      },
      {
       "output_type": "stream",
       "stream": "stdout",
       "text": [
        " : day : {'love': 0.04784052046621368, 'joy': 0.00473878076136407, 'sadness': 0, 'anger': 0.0009563388243378794, 'surprise': 0.009180454185490398, 'fear': 0.007787120009034583}\n",
        "2"
       ]
      },
      {
       "output_type": "stream",
       "stream": "stdout",
       "text": [
        " : shit : {'love': 0.04967179322366218, 'joy': 0.00473878076136407, 'sadness': 0, 'anger': 0.0009563388243378794, 'surprise': 0.009180454185490398, 'fear': 0.007787120009034583}\n",
        "2"
       ]
      },
      {
       "output_type": "stream",
       "stream": "stdout",
       "text": [
        " : wait : {'love': 0.04967179322366218, 'joy': 0.00473878076136407, 'sadness': 0, 'anger': 0.0009563388243378794, 'surprise': 0.011282437457536659, 'fear': 0.007787120009034583}\n",
        "3"
       ]
      },
      {
       "output_type": "stream",
       "stream": "stdout",
       "text": [
        " : heart : {'love': 0.03220436253613628, 'joy': 0, 'sadness': 0, 'anger': 0, 'surprise': 0, 'fear': 0}\n",
        "3"
       ]
      },
      {
       "output_type": "stream",
       "stream": "stdout",
       "text": [
        " : nights : {'love': 0.04614984131883916, 'joy': 0, 'sadness': 0, 'anger': 0, 'surprise': 0, 'fear': 0}\n",
        "3"
       ]
      },
      {
       "output_type": "stream",
       "stream": "stdout",
       "text": [
        " : outta : {'love': 0.04614984131883916, 'joy': 0, 'sadness': 0, 'anger': 0, 'surprise': 0, 'fear': 0}\n",
        "3"
       ]
      },
      {
       "output_type": "stream",
       "stream": "stdout",
       "text": [
        " : cry : {'love': 0.04614984131883916, 'joy': 0.011709573778918077, 'sadness': 0, 'anger': 0, 'surprise': 0, 'fear': 0}\n",
        "3"
       ]
      },
      {
       "output_type": "stream",
       "stream": "stdout",
       "text": [
        " : cried : {'love': 0.04614984131883916, 'joy': 0.02464126189010691, 'sadness': 0, 'anger': 0, 'surprise': 0, 'fear': 0}\n",
        "3"
       ]
      },
      {
       "output_type": "stream",
       "stream": "stdout",
       "text": [
        " : caused : {'love': 0.04614984131883916, 'joy': 0.02464126189010691, 'sadness': 0, 'anger': 0, 'surprise': 0, 'fear': 0.016299999229225107}\n",
        "3"
       ]
      },
      {
       "output_type": "stream",
       "stream": "stdout",
       "text": [
        " : love : {'love': 0.09747635705871333, 'joy': 0.02464126189010691, 'sadness': 0, 'anger': 0, 'surprise': 0, 'fear': 0.016299999229225107}\n",
        "3"
       ]
      },
      {
       "output_type": "stream",
       "stream": "stdout",
       "text": [
        " : back : {'love': 0.09747635705871333, 'joy': 0.02464126189010691, 'sadness': 0, 'anger': 0.0018028878334411383, 'surprise': 0, 'fear': 0.016299999229225107}\n",
        "3"
       ]
      },
      {
       "output_type": "stream",
       "stream": "stdout",
       "text": [
        " : undo : {'love': 0.09747635705871333, 'joy': 0.02464126189010691, 'sadness': 0, 'anger': 0.0018028878334411383, 'surprise': 0, 'fear': 0.020368095338954804}\n",
        "3"
       ]
      },
      {
       "output_type": "stream",
       "stream": "stdout",
       "text": [
        " : hurt : {'love': 0.09747635705871333, 'joy': 0.02464126189010691, 'sadness': 0, 'anger': 0.0018028878334411383, 'surprise': 0, 'fear': 0.03184096469678631}\n",
        "3"
       ]
      },
      {
       "output_type": "stream",
       "stream": "stdout",
       "text": [
        " : break : {'love': 0.09747635705871333, 'joy': 0.02464126189010691, 'sadness': 0, 'anger': 0.0018028878334411383, 'surprise': 0.011822845140104787, 'fear': 0.03184096469678631}\n",
        "3"
       ]
      },
      {
       "output_type": "stream",
       "stream": "stdout",
       "text": [
        " : bring : {'love': 0.09747635705871333, 'joy': 0.030535049479571197, 'sadness': 0, 'anger': 0.0018028878334411383, 'surprise': 0.011822845140104787, 'fear': 0.03184096469678631}\n",
        "3"
       ]
      },
      {
       "output_type": "stream",
       "stream": "stdout",
       "text": [
        " : tears : {'love': 0.09747635705871333, 'joy': 0.030535049479571197, 'sadness': 0.03574068526126445, 'anger': 0.0018028878334411383, 'surprise': 0.011822845140104787, 'fear': 0.03184096469678631}\n",
        "3"
       ]
      },
      {
       "output_type": "stream",
       "stream": "stdout",
       "text": [
        " : beside : {'love': 0.09747635705871333, 'joy': 0.030535049479571197, 'sadness': 0.03574068526126445, 'anger': 0.0018028878334411383, 'surprise': 0.011822845140104787, 'fear': 0.03184096469678631}\n",
        "3"
       ]
      },
      {
       "output_type": "stream",
       "stream": "stdout",
       "text": [
        " : walked : {'love': 0.09747635705871333, 'joy': 0.030535049479571197, 'sadness': 0.03574068526126445, 'anger': 0.0018028878334411383, 'surprise': 0.011822845140104787, 'fear': 0.0457699865810776}\n",
        "3"
       ]
      },
      {
       "output_type": "stream",
       "stream": "stdout",
       "text": [
        " : many : {'love': 0.09747635705871333, 'joy': 0.030535049479571197, 'sadness': 0.038757537778097685, 'anger': 0.0018028878334411383, 'surprise': 0.011822845140104787, 'fear': 0.0457699865810776}\n",
        "3"
       ]
      },
      {
       "output_type": "stream",
       "stream": "stdout",
       "text": [
        " : door : {'love': 0.09747635705871333, 'joy': 0.030535049479571197, 'sadness': 0.038757537778097685, 'anger': 0.0018028878334411383, 'surprise': 0.011822845140104787, 'fear': 0.05020606691643716}\n",
        "3"
       ]
      },
      {
       "output_type": "stream",
       "stream": "stdout",
       "text": [
        " : leave : {'love': 0.09747635705871333, 'joy': 0.030535049479571197, 'sadness': 0.038757537778097685, 'anger': 0.0018028878334411383, 'surprise': 0.011822845140104787, 'fear': 0.059849798289494986}\n",
        "3"
       ]
      },
      {
       "output_type": "stream",
       "stream": "stdout",
       "text": [
        " : say : {'love': 0.09747635705871333, 'joy': 0.030535049479571197, 'sadness': 0.038757537778097685, 'anger': 0.0018028878334411383, 'surprise': 0.011822845140104787, 'fear': 0.06654248189536607}\n",
        "3"
       ]
      },
      {
       "output_type": "stream",
       "stream": "stdout",
       "text": [
        " : unkind : {'love': 0.09747635705871333, 'joy': 0.030535049479571197, 'sadness': 0.038757537778097685, 'anger': 0.004799999757891168, 'surprise': 0.011822845140104787, 'fear': 0.06654248189536607}\n",
        "4"
       ]
      },
      {
       "output_type": "stream",
       "stream": "stdout",
       "text": [
        " : hah : {'love': 0.0, 'joy': 0, 'sadness': 0, 'anger': 0, 'surprise': 0, 'fear': 0}\n",
        "4"
       ]
      },
      {
       "output_type": "stream",
       "stream": "stdout",
       "text": [
        " : smash : {'love': 0.0, 'joy': 0, 'sadness': 0, 'anger': 0, 'surprise': 0.0021183143006272584, 'fear': 0}\n",
        "4"
       ]
      },
      {
       "output_type": "stream",
       "stream": "stdout",
       "text": [
        " : movin : {'love': 0.0, 'joy': 0, 'sadness': 0, 'anger': 0, 'surprise': 0.0021183143006272584, 'fear': 0}\n",
        "4"
       ]
      },
      {
       "output_type": "stream",
       "stream": "stdout",
       "text": [
        " : nigga : {'love': 0.0, 'joy': 0, 'sadness': 0, 'anger': 0, 'surprise': 0.0021183143006272584, 'fear': 0}\n",
        "4"
       ]
      },
      {
       "output_type": "stream",
       "stream": "stdout",
       "text": [
        " : ohh : {'love': 0.0, 'joy': 0, 'sadness': 0, 'anger': 0, 'surprise': 0.0021183143006272584, 'fear': 0}\n",
        "4"
       ]
      },
      {
       "output_type": "stream",
       "stream": "stdout",
       "text": [
        " : got : {'love': 0.0, 'joy': 0, 'sadness': 0, 'anger': 0.00010804453701245613, 'surprise': 0.0021183143006272584, 'fear': 0}\n",
        "4"
       ]
      },
      {
       "output_type": "stream",
       "stream": "stdout",
       "text": [
        " : nobody : {'love': 0.01159975941536426, 'joy': 0, 'sadness': 0, 'anger': 0.00010804453701245613, 'surprise': 0.0021183143006272584, 'fear': 0}\n",
        "4"
       ]
      },
      {
       "output_type": "stream",
       "stream": "stdout",
       "text": [
        " : lah : {'love': 0.01159975941536426, 'joy': 0, 'sadness': 0, 'anger': 0.00010804453701245613, 'surprise': 0.0021183143006272584, 'fear': 0}\n",
        "4"
       ]
      },
      {
       "output_type": "stream",
       "stream": "stdout",
       "text": [
        " : hot : {'love': 0.013604703040360069, 'joy': 0, 'sadness': 0, 'anger': 0.00010804453701245613, 'surprise': 0.0021183143006272584, 'fear': 0}\n",
        "4"
       ]
      },
      {
       "output_type": "stream",
       "stream": "stdout",
       "text": [
        " : bad : {'love': 0.013604703040360069, 'joy': 0, 'sadness': 0, 'anger': 0.00010804453701245613, 'surprise': 0.0021183143006272584, 'fear': 0.0037481362128253706}\n",
        "4"
       ]
      },
      {
       "output_type": "stream",
       "stream": "stdout",
       "text": [
        " : ain : {'love': 0.013604703040360069, 'joy': 0, 'sadness': 0, 'anger': 0.00010804453701245613, 'surprise': 0.0021183143006272584, 'fear': 0.0037481362128253706}\n",
        "Error in getting similarity for"
       ]
      },
      {
       "output_type": "stream",
       "stream": "stdout",
       "text": [
        " take and joy\n",
        "4"
       ]
      },
      {
       "output_type": "stream",
       "stream": "stdout",
       "text": [
        " : take : {'love': 0.013604703040360069, 'joy': 0, 'sadness': 0, 'anger': 0.00010804453701245613, 'surprise': 0.0021183143006272584, 'fear': 0.0037481362128253706}\n",
        "4"
       ]
      },
      {
       "output_type": "stream",
       "stream": "stdout",
       "text": [
        " : rock : {'love': 0.01582673560649598, 'joy': 0, 'sadness': 0, 'anger': 0.00010804453701245613, 'surprise': 0.0021183143006272584, 'fear': 0.0037481362128253706}\n",
        "4"
       ]
      },
      {
       "output_type": "stream",
       "stream": "stdout",
       "text": [
        " : push : {'love': 0.01582673560649598, 'joy': 0, 'sadness': 0, 'anger': 0.00010804453701245613, 'surprise': 0.0021183143006272584, 'fear': 0.006643330741553972}\n",
        "4"
       ]
      },
      {
       "output_type": "stream",
       "stream": "stdout",
       "text": [
        " : puff : {'love': 0.018781758069036585, 'joy': 0, 'sadness': 0, 'anger': 0.00010804453701245613, 'surprise': 0.0021183143006272584, 'fear': 0.006643330741553972}\n",
        "4"
       ]
      },
      {
       "output_type": "stream",
       "stream": "stdout",
       "text": [
        " : guy : {'love': 0.02424091742820036, 'joy': 0, 'sadness': 0, 'anger': 0.00010804453701245613, 'surprise': 0.0021183143006272584, 'fear': 0.006643330741553972}\n",
        "4"
       ]
      },
      {
       "output_type": "stream",
       "stream": "stdout",
       "text": [
        " : pride : {'love': 0.02424091742820036, 'joy': 0, 'sadness': 0, 'anger': 0.022578019258890778, 'surprise': 0.0021183143006272584, 'fear': 0.006643330741553972}\n",
        "4"
       ]
      },
      {
       "output_type": "stream",
       "stream": "stdout",
       "text": [
        " : mma : {'love': 0.02424091742820036, 'joy': 0, 'sadness': 0, 'anger': 0.022578019258890778, 'surprise': 0.0021183143006272584, 'fear': 0.006643330741553972}\n",
        "4"
       ]
      },
      {
       "output_type": "stream",
       "stream": "stdout",
       "text": [
        " : bet : {'love': 0.02424091742820036, 'joy': 0, 'sadness': 0, 'anger': 0.022578019258890778, 'surprise': 0.00304373168199476, 'fear': 0.006643330741553972}\n",
        "4"
       ]
      },
      {
       "output_type": "stream",
       "stream": "stdout",
       "text": [
        " : wantin : {'love': 0.02424091742820036, 'joy': 0, 'sadness': 0, 'anger': 0.022578019258890778, 'surprise': 0.00304373168199476, 'fear': 0.006643330741553972}\n",
        "5"
       ]
      },
      {
       "output_type": "stream",
       "stream": "stdout",
       "text": [
        " : fly : {'love': 0.010813044202592367, 'joy': 0, 'sadness': 0, 'anger': 0, 'surprise': 0, 'fear': 0}\n",
        "5"
       ]
      },
      {
       "output_type": "stream",
       "stream": "stdout",
       "text": [
        " : door : {'love': 0.010813044202592367, 'joy': 0, 'sadness': 0, 'anger': 0, 'surprise': 0, 'fear': 0.004630361225959248}\n",
        "5"
       ]
      },
      {
       "output_type": "stream",
       "stream": "stdout",
       "text": [
        " : woo : {'love': 0.013307292445001527, 'joy': 0, 'sadness': 0, 'anger': 0, 'surprise': 0, 'fear': 0.004630361225959248}\n",
        "5"
       ]
      },
      {
       "output_type": "stream",
       "stream": "stdout",
       "text": [
        " : away : {'love': 0.013307292445001527, 'joy': 0, 'sadness': 0, 'anger': 0.0018436564653041886, 'surprise': 0, 'fear': 0.004630361225959248}\n",
        "5"
       ]
      },
      {
       "output_type": "stream",
       "stream": "stdout",
       "text": [
        " : sky : {'love': 0.013307292445001527, 'joy': 0.003839573148605243, 'sadness': 0, 'anger': 0.0018436564653041886, 'surprise': 0, 'fear': 0.004630361225959248}\n",
        "5"
       ]
      },
      {
       "output_type": "stream",
       "stream": "stdout",
       "text": [
        " : see : {'love': 0.013307292445001527, 'joy': 0.003839573148605243, 'sadness': 0, 'anger': 0.0018436564653041886, 'surprise': 0.010472302154865972, 'fear': 0.004630361225959248}\n",
        "5"
       ]
      },
      {
       "output_type": "stream",
       "stream": "stdout",
       "text": [
        " : think : {'love': 0.019769633188262154, 'joy': 0.003839573148605243, 'sadness': 0, 'anger': 0.0018436564653041886, 'surprise': 0.010472302154865972, 'fear': 0.004630361225959248}\n",
        "5"
       ]
      },
      {
       "output_type": "stream",
       "stream": "stdout",
       "text": [
        " : hmmmmm : {'love': 0.019769633188262154, 'joy': 0.003839573148605243, 'sadness': 0, 'anger': 0.0018436564653041886, 'surprise': 0.010472302154865972, 'fear': 0.004630361225959248}\n",
        "5"
       ]
      },
      {
       "output_type": "stream",
       "stream": "stdout",
       "text": [
        " : touch : {'love': 0.0283276225949975, 'joy': 0.003839573148605243, 'sadness': 0, 'anger': 0.0018436564653041886, 'surprise': 0.010472302154865972, 'fear': 0.004630361225959248}\n",
        "5"
       ]
      },
      {
       "output_type": "stream",
       "stream": "stdout",
       "text": [
        " : running : {'love': 0.0283276225949975, 'joy': 0.003839573148605243, 'sadness': 0, 'anger': 0.0018436564653041886, 'surprise': 0.014723823019360762, 'fear': 0.004630361225959248}\n",
        "5"
       ]
      },
      {
       "output_type": "stream",
       "stream": "stdout",
       "text": [
        " : spread : {'love': 0.0283276225949975, 'joy': 0.003839573148605243, 'sadness': 0, 'anger': 0.0018436564653041886, 'surprise': 0.014723823019360762, 'fear': 0.013052357097703988}\n",
        "5"
       ]
      },
      {
       "output_type": "stream",
       "stream": "stdout",
       "text": [
        " : every : {'love': 0.0283276225949975, 'joy': 0.003839573148605243, 'sadness': 0, 'anger': 0.0018436564653041886, 'surprise': 0.014723823019360762, 'fear': 0.013052357097703988}\n",
        "5"
       ]
      },
      {
       "output_type": "stream",
       "stream": "stdout",
       "text": [
        " : verge : {'love': 0.0283276225949975, 'joy': 0.003839573148605243, 'sadness': 0, 'anger': 0.0018436564653041886, 'surprise': 0.014723823019360762, 'fear': 0.01752720365657909}\n",
        "5"
       ]
      },
      {
       "output_type": "stream",
       "stream": "stdout",
       "text": [
        " : leaning : {'love': 0.0283276225949975, 'joy': 0.003839573148605243, 'sadness': 0, 'anger': 0.0018436564653041886, 'surprise': 0.016760819107146694, 'fear': 0.01752720365657909}\n",
        "5"
       ]
      },
      {
       "output_type": "stream",
       "stream": "stdout",
       "text": [
        " : nothing : {'love': 0.0283276225949975, 'joy': 0.003839573148605243, 'sadness': 0, 'anger': 0.0018436564653041886, 'surprise': 0.016760819107146694, 'fear': 0.025789672559535785}\n",
        "5"
       ]
      },
      {
       "output_type": "stream",
       "stream": "stdout",
       "text": [
        " : believe : {'love': 0.0283276225949975, 'joy': 0.003839573148605243, 'sadness': 0, 'anger': 0.0018436564653041886, 'surprise': 0.016760819107146694, 'fear': 0.08419984745545202}\n",
        "5"
       ]
      },
      {
       "output_type": "stream",
       "stream": "stdout",
       "text": [
        " : open : {'love': 0.0283276225949975, 'joy': 0.003839573148605243, 'sadness': 0, 'anger': 0.0018436564653041886, 'surprise': 0.02135218033360517, 'fear': 0.08419984745545202}\n",
        "5"
       ]
      },
      {
       "output_type": "stream",
       "stream": "stdout",
       "text": [
        " : wings : {'love': 0.034728193169990595, 'joy': 0.003839573148605243, 'sadness': 0, 'anger': 0.0018436564653041886, 'surprise': 0.02135218033360517, 'fear': 0.08419984745545202}\n",
        "5"
       ]
      },
      {
       "output_type": "stream",
       "stream": "stdout",
       "text": [
        " : day : {'love': 0.034728193169990595, 'joy': 0.006122489427802532, 'sadness': 0, 'anger': 0.0018436564653041886, 'surprise': 0.02135218033360517, 'fear': 0.08419984745545202}\n",
        "5"
       ]
      },
      {
       "output_type": "stream",
       "stream": "stdout",
       "text": [
        " : soar : {'love': 0.040093416788990754, 'joy': 0.006122489427802532, 'sadness': 0, 'anger': 0.0018436564653041886, 'surprise': 0.02135218033360517, 'fear': 0.08419984745545202}\n",
        "6"
       ]
      },
      {
       "output_type": "stream",
       "stream": "stdout",
       "text": [
        " : control : {'love': 0, 'joy': 0.009188152859236836, 'sadness': 0, 'anger': 0, 'surprise': 0, 'fear': 0}\n",
        "6"
       ]
      },
      {
       "output_type": "stream",
       "stream": "stdout",
       "text": [
        " : heart : {'love': 0.01362492261144227, 'joy': 0.009188152859236836, 'sadness': 0, 'anger': 0, 'surprise': 0, 'fear': 0}\n",
        "6"
       ]
      },
      {
       "output_type": "stream",
       "stream": "stdout",
       "text": [
        " : breakin : {'love': 0.01362492261144227, 'joy': 0.009188152859236836, 'sadness': 0, 'anger': 0, 'surprise': 0, 'fear': 0}\n",
        "6"
       ]
      },
      {
       "output_type": "stream",
       "stream": "stdout",
       "text": [
        " : outta : {'love': 0.01362492261144227, 'joy': 0.009188152859236836, 'sadness': 0, 'anger': 0, 'surprise': 0, 'fear': 0}\n",
        "6"
       ]
      },
      {
       "output_type": "stream",
       "stream": "stdout",
       "text": [
        " : often : {'love': 0.01362492261144227, 'joy': 0.011923745524963173, 'sadness': 0, 'anger': 0, 'surprise': 0, 'fear': 0}\n",
        "6"
       ]
      },
      {
       "output_type": "stream",
       "stream": "stdout",
       "text": [
        " : soul : {'love': 0.04200511858827094, 'joy': 0.011923745524963173, 'sadness': 0, 'anger': 0, 'surprise': 0, 'fear': 0}\n",
        "6"
       ]
      },
      {
       "output_type": "stream",
       "stream": "stdout",
       "text": [
        " : vows : {'love': 0.04493672006203522, 'joy': 0.011923745524963173, 'sadness': 0, 'anger': 0, 'surprise': 0, 'fear': 0}\n",
        "6"
       ]
      },
      {
       "output_type": "stream",
       "stream": "stdout",
       "text": [
        " : pretend : {'love': 0.04493672006203522, 'joy': 0.011923745524963173, 'sadness': 0, 'anger': 0, 'surprise': 0.02544001193916851, 'fear': 0}\n",
        "6"
       ]
      },
      {
       "output_type": "stream",
       "stream": "stdout",
       "text": [
        " : makin : {'love': 0.04493672006203522, 'joy': 0.011923745524963173, 'sadness': 0, 'anger': 0, 'surprise': 0.02544001193916851, 'fear': 0}\n",
        "6"
       ]
      },
      {
       "output_type": "stream",
       "stream": "stdout",
       "text": [
        " : gonna : {'love': 0.04493672006203522, 'joy': 0.011923745524963173, 'sadness': 0, 'anger': 0, 'surprise': 0.02544001193916851, 'fear': 0}\n",
        "6"
       ]
      },
      {
       "output_type": "stream",
       "stream": "stdout",
       "text": [
        " : cuz : {'love': 0.04493672006203522, 'joy': 0.011923745524963173, 'sadness': 0, 'anger': 0, 'surprise': 0.02544001193916851, 'fear': 0}\n",
        "6"
       ]
      },
      {
       "output_type": "stream",
       "stream": "stdout",
       "text": [
        " : tight : {'love': 0.04493672006203522, 'joy': 0.011923745524963173, 'sadness': 0, 'anger': 0.008486241961289569, 'surprise': 0.02544001193916851, 'fear': 0}\n",
        "6"
       ]
      },
      {
       "output_type": "stream",
       "stream": "stdout",
       "text": [
        " : shakin : {'love': 0.04493672006203522, 'joy': 0.011923745524963173, 'sadness': 0, 'anger': 0.008486241961289569, 'surprise': 0.02544001193916851, 'fear': 0}\n",
        "6"
       ]
      },
      {
       "output_type": "stream",
       "stream": "stdout",
       "text": [
        " : right : {'love': 0.04493672006203522, 'joy': 0.011923745524963173, 'sadness': 0, 'anger': 0.008486241961289569, 'surprise': 0.02544001193916851, 'fear': 0.0029596290136079282}\n",
        "6"
       ]
      },
      {
       "output_type": "stream",
       "stream": "stdout",
       "text": [
        " : let : {'love': 0.0702730273330244, 'joy': 0.011923745524963173, 'sadness': 0, 'anger': 0.008486241961289569, 'surprise': 0.02544001193916851, 'fear': 0.0029596290136079282}\n",
        "6"
       ]
      },
      {
       "output_type": "stream",
       "stream": "stdout",
       "text": [
        " : want : {'love': 0.08368132303283787, 'joy': 0.011923745524963173, 'sadness': 0, 'anger': 0.008486241961289569, 'surprise': 0.02544001193916851, 'fear': 0.0029596290136079282}\n",
        "6"
       ]
      },
      {
       "output_type": "stream",
       "stream": "stdout",
       "text": [
        " : lose : {'love': 0.09269637816369779, 'joy': 0.011923745524963173, 'sadness': 0, 'anger': 0.008486241961289569, 'surprise': 0.02544001193916851, 'fear': 0.0029596290136079282}\n",
        "6"
       ]
      },
      {
       "output_type": "stream",
       "stream": "stdout",
       "text": [
        " : hold : {'love': 0.09269637816369779, 'joy': 0.011923745524963173, 'sadness': 0.004066466063238842, 'anger': 0.008486241961289569, 'surprise': 0.02544001193916851, 'fear': 0.0029596290136079282}\n",
        "6"
       ]
      },
      {
       "output_type": "stream",
       "stream": "stdout",
       "text": [
        " : friends : {'love': 0.1288264227693125, 'joy': 0.011923745524963173, 'sadness': 0.004066466063238842, 'anger': 0.008486241961289569, 'surprise': 0.02544001193916851, 'fear': 0.0029596290136079282}\n",
        "6"
       ]
      },
      {
       "output_type": "stream",
       "stream": "stdout",
       "text": [
        " : speaks : {'love': 0.1288264227693125, 'joy': 0.011923745524963173, 'sadness': 0.004066466063238842, 'anger': 0.008486241961289569, 'surprise': 0.02544001193916851, 'fear': 0.006810798772473349}\n",
        "7"
       ]
      },
      {
       "output_type": "stream",
       "stream": "stdout",
       "text": [
        " : letting : {'love': 0.006517703384059255, 'joy': 0, 'sadness': 0, 'anger': 0, 'surprise': 0, 'fear': 0}\n",
        "7"
       ]
      },
      {
       "output_type": "stream",
       "stream": "stdout",
       "text": [
        " : cos : {'love': 0.006517703384059255, 'joy': 0, 'sadness': 0, 'anger': 0, 'surprise': 0, 'fear': 0}\n",
        "7"
       ]
      },
      {
       "output_type": "stream",
       "stream": "stdout",
       "text": [
        " : said : {'love': 0.006517703384059255, 'joy': 0, 'sadness': 0, 'anger': 0, 'surprise': 0, 'fear': 0.005351928437311657}\n",
        "7"
       ]
      },
      {
       "output_type": "stream",
       "stream": "stdout",
       "text": [
        " : return : {'love': 0.006517703384059255, 'joy': 0.03837991421835424, 'sadness': 0, 'anger': 0, 'surprise': 0, 'fear': 0.005351928437311657}\n",
        "7"
       ]
      },
      {
       "output_type": "stream",
       "stream": "stdout",
       "text": [
        " : tried : {'love': 0.010778720713869734, 'joy': 0.03837991421835424, 'sadness': 0, 'anger': 0, 'surprise': 0, 'fear': 0.005351928437311657}\n",
        "7"
       ]
      },
      {
       "output_type": "stream",
       "stream": "stdout",
       "text": [
        " : lied : {'love': 0.010778720713869734, 'joy': 0.03837991421835424, 'sadness': 0, 'anger': 0, 'surprise': 0, 'fear': 0.015090931992531142}\n",
        "7"
       ]
      },
      {
       "output_type": "stream",
       "stream": "stdout",
       "text": [
        " : show : {'love': 0.010778720713869734, 'joy': 0.03837991421835424, 'sadness': 0, 'anger': 0, 'surprise': 0.003214384717162175, 'fear': 0.015090931992531142}\n",
        "7"
       ]
      },
      {
       "output_type": "stream",
       "stream": "stdout",
       "text": [
        " : come : {'love': 0.010778720713869734, 'joy': 0.03837991421835424, 'sadness': 0, 'anger': 0, 'surprise': 0.003214384717162175, 'fear': 0.018273136858336463}\n",
        "7"
       ]
      },
      {
       "output_type": "stream",
       "stream": "stdout",
       "text": [
        " : cried : {'love': 0.010778720713869734, 'joy': 0.04643756737695992, 'sadness': 0, 'anger': 0, 'surprise': 0.003214384717162175, 'fear': 0.018273136858336463}\n",
        "7"
       ]
      },
      {
       "output_type": "stream",
       "stream": "stdout",
       "text": [
        " : flow : {'love': 0.013905849320831394, 'joy': 0.04643756737695992, 'sadness': 0, 'anger': 0, 'surprise': 0.003214384717162175, 'fear': 0.018273136858336463}\n",
        "7"
       ]
      },
      {
       "output_type": "stream",
       "stream": "stdout",
       "text": [
        " : back : {'love': 0.013905849320831394, 'joy': 0.04643756737695992, 'sadness': 0, 'anger': 0.002407217181905535, 'surprise': 0.003214384717162175, 'fear': 0.018273136858336463}\n",
        "7"
       ]
      },
      {
       "output_type": "stream",
       "stream": "stdout",
       "text": [
        " : pearl : {'love': 0.013905849320831394, 'joy': 0.04643756737695992, 'sadness': 0, 'anger': 0.002407217181905535, 'surprise': 0.003214384717162175, 'fear': 0.019756189115740435}\n",
        "7"
       ]
      },
      {
       "output_type": "stream",
       "stream": "stdout",
       "text": [
        " : know : {'love': 0.02604816283065155, 'joy': 0.04643756737695992, 'sadness': 0, 'anger': 0.002407217181905535, 'surprise': 0.003214384717162175, 'fear': 0.019756189115740435}\n",
        "7"
       ]
      },
      {
       "output_type": "stream",
       "stream": "stdout",
       "text": [
        " : pains : {'love': 0.02604816283065155, 'joy': 0.04643756737695992, 'sadness': 0, 'anger': 0.010361213550654422, 'surprise': 0.003214384717162175, 'fear': 0.019756189115740435}\n",
        "7"
       ]
      },
      {
       "output_type": "stream",
       "stream": "stdout",
       "text": [
        " : swing : {'love': 0.027865530192551027, 'joy': 0.04643756737695992, 'sadness': 0, 'anger': 0.010361213550654422, 'surprise': 0.003214384717162175, 'fear': 0.019756189115740435}\n",
        "7"
       ]
      },
      {
       "output_type": "stream",
       "stream": "stdout",
       "text": [
        " : yes : {'love': 0.027865530192551027, 'joy': 0.04643756737695992, 'sadness': 0, 'anger': 0.010361213550654422, 'surprise': 0.003214384717162175, 'fear': 0.019756189115740435}\n",
        "7"
       ]
      },
      {
       "output_type": "stream",
       "stream": "stdout",
       "text": [
        " : hold : {'love': 0.027865530192551027, 'joy': 0.04643756737695992, 'sadness': 0.0014972391387524273, 'anger': 0.010361213550654422, 'surprise': 0.003214384717162175, 'fear': 0.019756189115740435}\n",
        "7"
       ]
      },
      {
       "output_type": "stream",
       "stream": "stdout",
       "text": [
        " : mack : {'love': 0.027865530192551027, 'joy': 0.04643756737695992, 'sadness': 0.0014972391387524273, 'anger': 0.010361213550654422, 'surprise': 0.003214384717162175, 'fear': 0.019756189115740435}\n",
        "7"
       ]
      },
      {
       "output_type": "stream",
       "stream": "stdout",
       "text": [
        " : round : {'love': 0.027865530192551027, 'joy': 0.04643756737695992, 'sadness': 0.0014972391387524273, 'anger': 0.010361213550654422, 'surprise': 0.00711046675183539, 'fear': 0.019756189115740435}\n",
        "7"
       ]
      },
      {
       "output_type": "stream",
       "stream": "stdout",
       "text": [
        " : rpt : {'love': 0.027865530192551027, 'joy': 0.04643756737695992, 'sadness': 0.0014972391387524273, 'anger': 0.010361213550654422, 'surprise': 0.00711046675183539, 'fear': 0.019756189115740435}\n",
        "8"
       ]
      },
      {
       "output_type": "stream",
       "stream": "stdout",
       "text": [
        " : breathe : {'love': 0.007890251957502184, 'joy': 0, 'sadness': 0, 'anger': 0, 'surprise': 0, 'fear': 0}\n",
        "8"
       ]
      },
      {
       "output_type": "stream",
       "stream": "stdout",
       "text": [
        " : life : {'love': 0.02478474679205369, 'joy': 0, 'sadness': 0, 'anger': 0, 'surprise': 0, 'fear': 0}\n",
        "8"
       ]
      },
      {
       "output_type": "stream",
       "stream": "stdout",
       "text": [
        " : good : {'love': 0.035127361623609216, 'joy': 0, 'sadness': 0, 'anger': 0, 'surprise': 0, 'fear': 0}\n",
        "8"
       ]
      },
      {
       "output_type": "stream",
       "stream": "stdout",
       "text": [
        " : lost : {'love': 0.04056296522901577, 'joy': 0, 'sadness': 0, 'anger': 0, 'surprise': 0, 'fear': 0}\n",
        "8"
       ]
      },
      {
       "output_type": "stream",
       "stream": "stdout",
       "text": [
        " : would : {'love': 0.04056296522901577, 'joy': 0, 'sadness': 0, 'anger': 0, 'surprise': 0, 'fear': 0}\n",
        "8"
       ]
      },
      {
       "output_type": "stream",
       "stream": "stdout",
       "text": [
        " : need : {'love': 0.04439052291089858, 'joy': 0, 'sadness': 0, 'anger': 0, 'surprise': 0, 'fear': 0}\n",
        "8"
       ]
      },
      {
       "output_type": "stream",
       "stream": "stdout",
       "text": [
        " : away : {'love': 0.04439052291089858, 'joy': 0, 'sadness': 0, 'anger': 0.002577356487210957, 'surprise': 0, 'fear': 0}\n",
        "8"
       ]
      },
      {
       "output_type": "stream",
       "stream": "stdout",
       "text": [
        " : kind : {'love': 0.04865084823439242, 'joy': 0, 'sadness': 0, 'anger': 0.002577356487210957, 'surprise': 0, 'fear': 0}\n",
        "8"
       ]
      },
      {
       "output_type": "stream",
       "stream": "stdout",
       "text": [
        " : leave : {'love': 0.04865084823439242, 'joy': 0, 'sadness': 0, 'anger': 0.002577356487210957, 'surprise': 0, 'fear': 0.008443185222534299}\n",
        "8"
       ]
      },
      {
       "output_type": "stream",
       "stream": "stdout",
       "text": [
        " : everything : {'love': 0.04865084823439242, 'joy': 0, 'sadness': 0, 'anger': 0.002577356487210957, 'surprise': 0, 'fear': 0.008443185222534299}\n",
        "8"
       ]
      },
      {
       "output_type": "stream",
       "stream": "stdout",
       "text": [
        " : live : {'love': 0.0781855862595464, 'joy': 0, 'sadness': 0, 'anger': 0.002577356487210957, 'surprise': 0, 'fear': 0.008443185222534299}\n",
        "8"
       ]
      },
      {
       "output_type": "stream",
       "stream": "stdout",
       "text": [
        " : without : {'love': 0.0781855862595464, 'joy': 0, 'sadness': 0, 'anger': 0.002577356487210957, 'surprise': 0, 'fear': 0.008443185222534299}\n",
        "8"
       ]
      },
      {
       "output_type": "stream",
       "stream": "stdout",
       "text": [
        " : take : {'love': 0.0781855862595464, 'joy': 0, 'sadness': 0, 'anger': 0.002577356487210957, 'surprise': 0, 'fear': 0.008443185222534299}\n",
        "8"
       ]
      },
      {
       "output_type": "stream",
       "stream": "stdout",
       "text": [
        " : want : {'love': 0.08974682081703864, 'joy': 0, 'sadness': 0, 'anger': 0.002577356487210957, 'surprise': 0, 'fear': 0.008443185222534299}\n",
        "Error in getting similarity for"
       ]
      },
      {
       "output_type": "stream",
       "stream": "stdout",
       "text": [
        " world and fear\n",
        "8 : world : {'love': 0.09459134573192896, 'joy': 0, 'sadness': 0, 'anger': 0.002577356487210957, 'surprise': 0, 'fear': 0.008443185222534299}\n",
        "8"
       ]
      },
      {
       "output_type": "stream",
       "stream": "stdout",
       "text": [
        " : baby : {'love': 0.10155516581976422, 'joy': 0, 'sadness': 0, 'anger': 0.002577356487210957, 'surprise': 0, 'fear': 0.008443185222534299}\n",
        "8"
       ]
      },
      {
       "output_type": "stream",
       "stream": "stdout",
       "text": [
        " : survive : {'love': 0.10907190435339945, 'joy': 0, 'sadness': 0, 'anger': 0.002577356487210957, 'surprise': 0, 'fear': 0.008443185222534299}\n",
        "8"
       ]
      },
      {
       "output_type": "stream",
       "stream": "stdout",
       "text": [
        " : ever : {'love': 0.15688019677585777, 'joy': 0, 'sadness': 0, 'anger': 0.002577356487210957, 'surprise': 0, 'fear': 0.008443185222534299}\n",
        "8"
       ]
      },
      {
       "output_type": "stream",
       "stream": "stdout",
       "text": [
        " : tell : {'love': 0.15688019677585777, 'joy': 0, 'sadness': 0, 'anger': 0.002577356487210957, 'surprise': 0.005213193895057335, 'fear': 0.008443185222534299}\n",
        "8"
       ]
      },
      {
       "output_type": "stream",
       "stream": "stdout",
       "text": [
        " : know : {'love': 0.16417130339674663, 'joy': 0, 'sadness': 0, 'anger': 0.002577356487210957, 'surprise': 0.005213193895057335, 'fear': 0.008443185222534299}\n",
        "9"
       ]
      },
      {
       "output_type": "stream",
       "stream": "stdout",
       "text": [
        " : body : {'love': 0, 'joy': 0, 'sadness': 0, 'anger': 0, 'surprise': 0, 'fear': 0.003515670296783021}\n",
        "9"
       ]
      },
      {
       "output_type": "stream",
       "stream": "stdout",
       "text": [
        " : friendship : {'love': 0.02639959880168988, 'joy': 0, 'sadness': 0, 'anger': 0, 'surprise': 0, 'fear': 0.003515670296783021}\n",
        "9"
       ]
      },
      {
       "output_type": "stream",
       "stream": "stdout",
       "text": [
        " : ends : {'love': 0.02945187858738729, 'joy': 0, 'sadness': 0, 'anger': 0, 'surprise': 0, 'fear': 0.003515670296783021}\n",
        "9"
       ]
      },
      {
       "output_type": "stream",
       "stream": "stdout",
       "text": [
        " : last : {'love': 0.02945187858738729, 'joy': 0, 'sadness': 0, 'anger': 0, 'surprise': 0.00145554817119401, 'fear': 0.003515670296783021}\n",
        "9"
       ]
      },
      {
       "output_type": "stream",
       "stream": "stdout",
       "text": [
        " : easy : {'love': 0.02945187858738729, 'joy': 0, 'sadness': 0, 'anger': 0, 'surprise': 0.005718024662071287, 'fear': 0.003515670296783021}\n",
        "9"
       ]
      },
      {
       "output_type": "stream",
       "stream": "stdout",
       "text": [
        " : give : {'love': 0.032557475209648766, 'joy': 0, 'sadness': 0, 'anger': 0, 'surprise': 0.005718024662071287, 'fear': 0.003515670296783021}\n",
        "9"
       ]
      },
      {
       "output_type": "stream",
       "stream": "stdout",
       "text": [
        " : friends : {'love': 0.05821284301783737, 'joy': 0, 'sadness': 0, 'anger': 0, 'surprise': 0.005718024662071287, 'fear': 0.003515670296783021}\n",
        "9"
       ]
      },
      {
       "output_type": "stream",
       "stream": "stdout",
       "text": [
        " : gotta : {'love': 0.05821284301783737, 'joy': 0, 'sadness': 0, 'anger': 0, 'surprise': 0.005718024662071287, 'fear': 0.003515670296783021}\n",
        "9"
       ]
      },
      {
       "output_type": "stream",
       "stream": "stdout",
       "text": [
        " : huh : {'love': 0.05821284301783737, 'joy': 0, 'sadness': 0, 'anger': 0, 'surprise': 0.005718024662071287, 'fear': 0.003515670296783021}\n",
        "9"
       ]
      },
      {
       "output_type": "stream",
       "stream": "stdout",
       "text": [
        " : forever : {'love': 0.06517085231322138, 'joy': 0, 'sadness': 0, 'anger': 0, 'surprise': 0.005718024662071287, 'fear': 0.003515670296783021}\n",
        "9"
       ]
      },
      {
       "output_type": "stream",
       "stream": "stdout",
       "text": [
        " : takin : {'love': 0.06517085231322138, 'joy': 0, 'sadness': 0, 'anger': 0, 'surprise': 0.005718024662071287, 'fear': 0.003515670296783021}\n",
        "9"
       ]
      },
      {
       "output_type": "stream",
       "stream": "stdout",
       "text": [
        " : zig : {'love': 0.06517085231322138, 'joy': 0, 'sadness': 0, 'anger': 0, 'surprise': 0.005718024662071287, 'fear': 0.003515670296783021}\n",
        "9"
       ]
      },
      {
       "output_type": "stream",
       "stream": "stdout",
       "text": [
        " : slam : {'love': 0.06517085231322138, 'joy': 0, 'sadness': 0, 'anger': 0.01428202494000488, 'surprise': 0.005718024662071287, 'fear': 0.003515670296783021}\n",
        "9"
       ]
      },
      {
       "output_type": "stream",
       "stream": "stdout",
       "text": [
        " : likes : {'love': 0.09804837586878057, 'joy': 0, 'sadness': 0, 'anger': 0.01428202494000488, 'surprise': 0.005718024662071287, 'fear': 0.003515670296783021}\n",
        "9"
       ]
      },
      {
       "output_type": "stream",
       "stream": "stdout",
       "text": [
        " : want : {'love': 0.12502458983626244, 'joy': 0, 'sadness': 0, 'anger': 0.01428202494000488, 'surprise': 0.005718024662071287, 'fear': 0.003515670296783021}\n",
        "9"
       ]
      },
      {
       "output_type": "stream",
       "stream": "stdout",
       "text": [
        " : lover : {'love': 0.19212145694016192, 'joy': 0, 'sadness': 0, 'anger': 0.01428202494000488, 'surprise': 0.005718024662071287, 'fear': 0.003515670296783021}\n",
        "Error in getting similarity for"
       ]
      },
      {
       "output_type": "stream",
       "stream": "stdout",
       "text": [
        " wanna and anger\n",
        "9"
       ]
      },
      {
       "output_type": "stream",
       "stream": "stdout",
       "text": [
        " : wanna : {'love': 0.19212145694016192, 'joy': 0, 'sadness': 0, 'anger': 0.01428202494000488, 'surprise': 0.005718024662071287, 'fear': 0.003515670296783021}\n",
        "9"
       ]
      },
      {
       "output_type": "stream",
       "stream": "stdout",
       "text": [
        " : tell : {'love': 0.19212145694016192, 'joy': 0, 'sadness': 0, 'anger': 0.01428202494000488, 'surprise': 0.011442315997820517, 'fear': 0.003515670296783021}\n",
        "9"
       ]
      },
      {
       "output_type": "stream",
       "stream": "stdout",
       "text": [
        " : wind : {'love': 0.19212145694016192, 'joy': 0, 'sadness': 0, 'anger': 0.014838550802822282, 'surprise': 0.011442315997820517, 'fear': 0.003515670296783021}\n",
        "9"
       ]
      },
      {
       "output_type": "stream",
       "stream": "stdout",
       "text": [
        " : really : {'love': 0.23089377861201596, 'joy': 0, 'sadness': 0, 'anger': 0.014838550802822282, 'surprise': 0.011442315997820517, 'fear': 0.003515670296783021}\n",
        "10"
       ]
      },
      {
       "output_type": "stream",
       "stream": "stdout",
       "text": [
        " : heart : {'love': 0.08541947450109048, 'joy': 0, 'sadness': 0, 'anger': 0, 'surprise': 0, 'fear': 0}\n",
        "10"
       ]
      },
      {
       "output_type": "stream",
       "stream": "stdout",
       "text": [
        " : within : {'love': 0.08541947450109048, 'joy': 0, 'sadness': 0, 'anger': 0, 'surprise': 0, 'fear': 0}\n",
        "10"
       ]
      },
      {
       "output_type": "stream",
       "stream": "stdout",
       "text": [
        " : bein : {'love': 0.08541947450109048, 'joy': 0, 'sadness': 0, 'anger': 0, 'surprise': 0, 'fear': 0}\n",
        "10"
       ]
      },
      {
       "output_type": "stream",
       "stream": "stdout",
       "text": [
        " : quit : {'love': 0.08541947450109048, 'joy': 0, 'sadness': 0, 'anger': 0.020367907153150226, 'surprise': 0, 'fear': 0}\n",
        "10"
       ]
      },
      {
       "output_type": "stream",
       "stream": "stdout",
       "text": [
        " : may : {'love': 0.08541947450109048, 'joy': 0, 'sadness': 0, 'anger': 0.020367907153150226, 'surprise': 0, 'fear': 0}\n",
        "10"
       ]
      },
      {
       "output_type": "stream",
       "stream": "stdout",
       "text": [
        " : wish : {'love': 0.10896492282024842, 'joy': 0, 'sadness': 0, 'anger': 0.020367907153150226, 'surprise': 0, 'fear': 0}\n",
        "10"
       ]
      },
      {
       "output_type": "stream",
       "stream": "stdout",
       "text": [
        " : nanana : {'love': 0.10896492282024842, 'joy': 0, 'sadness': 0, 'anger': 0.020367907153150226, 'surprise': 0, 'fear': 0}\n",
        "10"
       ]
      },
      {
       "output_type": "stream",
       "stream": "stdout",
       "text": [
        " : sometimes : {'love': 0.10896492282024842, 'joy': 0.004642009644667287, 'sadness': 0, 'anger': 0.020367907153150226, 'surprise': 0, 'fear': 0}\n",
        "10"
       ]
      },
      {
       "output_type": "stream",
       "stream": "stdout",
       "text": [
        " : back : {'love': 0.10896492282024842, 'joy': 0.004642009644667287, 'sadness': 0, 'anger': 0.021555985310671346, 'surprise': 0, 'fear': 0}\n",
        "10"
       ]
      },
      {
       "output_type": "stream",
       "stream": "stdout",
       "text": [
        " : start : {'love': 0.10896492282024842, 'joy': 0.004642009644667287, 'sadness': 0, 'anger': 0.023963790152890522, 'surprise': 0, 'fear': 0}\n",
        "10"
       ]
      },
      {
       "output_type": "stream",
       "stream": "stdout",
       "text": [
        " : baby : {'love': 0.11777078564099494, 'joy': 0.004642009644667287, 'sadness': 0, 'anger': 0.023963790152890522, 'surprise': 0, 'fear': 0}\n",
        "10"
       ]
      },
      {
       "output_type": "stream",
       "stream": "stdout",
       "text": [
        " : bad : {'love': 0.11777078564099494, 'joy': 0.004642009644667287, 'sadness': 0, 'anger': 0.023963790152890522, 'surprise': 0, 'fear': 0.008138594155671218}\n",
        "10"
       ]
      },
      {
       "output_type": "stream",
       "stream": "stdout",
       "text": [
        " : hangin : {'love': 0.11777078564099494, 'joy': 0.004642009644667287, 'sadness': 0, 'anger': 0.023963790152890522, 'surprise': 0, 'fear': 0.008138594155671218}\n",
        "10"
       ]
      },
      {
       "output_type": "stream",
       "stream": "stdout",
       "text": [
        " : games : {'love': 0.14671394336974064, 'joy': 0.004642009644667287, 'sadness': 0, 'anger': 0.023963790152890522, 'surprise': 0, 'fear': 0.008138594155671218}\n",
        "10"
       ]
      },
      {
       "output_type": "stream",
       "stream": "stdout",
       "text": [
        " : impossible : {'love': 0.14671394336974064, 'joy': 0.004642009644667287, 'sadness': 0, 'anger': 0.023963790152890522, 'surprise': 0, 'fear': 0.011560204333269267}\n",
        "10"
       ]
      },
      {
       "output_type": "stream",
       "stream": "stdout",
       "text": [
        " : known : {'love': 0.16739732639603028, 'joy': 0.004642009644667287, 'sadness': 0, 'anger': 0.023963790152890522, 'surprise': 0, 'fear': 0.011560204333269267}\n",
        "10"
       ]
      },
      {
       "output_type": "stream",
       "stream": "stdout",
       "text": [
        " : playin : {'love': 0.16739732639603028, 'joy': 0.004642009644667287, 'sadness': 0, 'anger': 0.023963790152890522, 'surprise': 0, 'fear': 0.011560204333269267}\n",
        "10"
       ]
      },
      {
       "output_type": "stream",
       "stream": "stdout",
       "text": [
        " : seem : {'love': 0.17400742033266917, 'joy': 0.004642009644667287, 'sadness': 0, 'anger': 0.023963790152890522, 'surprise': 0, 'fear': 0.011560204333269267}\n",
        "10"
       ]
      },
      {
       "output_type": "stream",
       "stream": "stdout",
       "text": [
        " : turn : {'love': 0.17400742033266917, 'joy': 0.004642009644667287, 'sadness': 0, 'anger': 0.02687027709379229, 'surprise': 0, 'fear': 0.011560204333269267}\n",
        "10"
       ]
      },
      {
       "output_type": "stream",
       "stream": "stdout",
       "text": [
        " : could : {'love': 0.17400742033266917, 'joy': 0.004642009644667287, 'sadness': 0, 'anger': 0.02687027709379229, 'surprise': 0, 'fear': 0.011560204333269267}\n",
        "11"
       ]
      },
      {
       "output_type": "stream",
       "stream": "stdout",
       "text": [
        " : gone : {'love': 0.006507213912792312, 'joy': 0, 'sadness': 0, 'anger': 0, 'surprise': 0, 'fear': 0}\n",
        "11"
       ]
      },
      {
       "output_type": "stream",
       "stream": "stdout",
       "text": [
        " : plant : {'love': 0.006507213912792312, 'joy': 0, 'sadness': 0, 'anger': 0, 'surprise': 0, 'fear': 0.007365563580336313}\n",
        "11"
       ]
      },
      {
       "output_type": "stream",
       "stream": "stdout",
       "text": [
        " : flower : {'love': 0.011114069766503532, 'joy': 0, 'sadness': 0, 'anger': 0, 'surprise': 0, 'fear': 0.007365563580336313}\n",
        "11"
       ]
      },
      {
       "output_type": "stream",
       "stream": "stdout",
       "text": [
        " : knows : {'love': 0.02046652338442734, 'joy': 0, 'sadness': 0, 'anger': 0, 'surprise': 0, 'fear': 0.007365563580336313}\n",
        "11"
       ]
      },
      {
       "output_type": "stream",
       "stream": "stdout",
       "text": [
        " : bop : {'love': 0.02046652338442734, 'joy': 0, 'sadness': 0, 'anger': 0, 'surprise': 0, 'fear': 0.007365563580336313}\n",
        "11"
       ]
      },
      {
       "output_type": "stream",
       "stream": "stdout",
       "text": [
        " : rose : {'love': 0.02046652338442734, 'joy': 0, 'sadness': 0, 'anger': 0.001963869991989862, 'surprise': 0, 'fear': 0.007365563580336313}\n",
        "11"
       ]
      },
      {
       "output_type": "stream",
       "stream": "stdout",
       "text": [
        " : mmmbop : {'love': 0.02046652338442734, 'joy': 0, 'sadness': 0, 'anger': 0.001963869991989862, 'surprise': 0, 'fear': 0.007365563580336313}\n",
        "11"
       ]
      },
      {
       "output_type": "stream",
       "stream": "stdout",
       "text": [
        " : yeah : {'love': 0.02046652338442734, 'joy': 0, 'sadness': 0, 'anger': 0.001963869991989862, 'surprise': 0, 'fear': 0.007365563580336313}\n",
        "11"
       ]
      },
      {
       "output_type": "stream",
       "stream": "stdout",
       "text": [
        " : fast : {'love': 0.02046652338442734, 'joy': 0, 'sadness': 0, 'anger': 0.004004579866886654, 'surprise': 0, 'fear': 0.007365563580336313}\n",
        "11"
       ]
      },
      {
       "output_type": "stream",
       "stream": "stdout",
       "text": [
        " : wop : {'love': 0.02046652338442734, 'joy': 0, 'sadness': 0, 'anger': 0.004004579866886654, 'surprise': 0, 'fear': 0.007365563580336313}\n",
        "11"
       ]
      },
      {
       "output_type": "stream",
       "stream": "stdout",
       "text": [
        " : hair : {'love': 0.02046652338442734, 'joy': 0, 'sadness': 0, 'anger': 0.005540868337449955, 'surprise': 0, 'fear': 0.007365563580336313}\n",
        "11"
       ]
      },
      {
       "output_type": "stream",
       "stream": "stdout",
       "text": [
        " : secret : {'love': 0.02046652338442734, 'joy': 0, 'sadness': 0, 'anger': 0.005540868337449955, 'surprise': 0.0059825455880139974, 'fear': 0.007365563580336313}\n",
        "11"
       ]
      },
      {
       "output_type": "stream",
       "stream": "stdout",
       "text": [
        " : ones : {'love': 0.027795725856738, 'joy': 0, 'sadness': 0, 'anger': 0.005540868337449955, 'surprise': 0.0059825455880139974, 'fear': 0.007365563580336313}\n",
        "11"
       ]
      },
      {
       "output_type": "stream",
       "stream": "stdout",
       "text": [
        " : know : {'love': 0.03460075870290095, 'joy': 0, 'sadness': 0, 'anger': 0.005540868337449955, 'surprise': 0.0059825455880139974, 'fear': 0.007365563580336313}\n",
        "11"
       ]
      },
      {
       "output_type": "stream",
       "stream": "stdout",
       "text": [
        " : say : {'love': 0.03460075870290095, 'joy': 0, 'sadness': 0, 'anger': 0.005540868337449955, 'surprise': 0.0059825455880139974, 'fear': 0.010213937853073111}\n",
        "11"
       ]
      },
      {
       "output_type": "stream",
       "stream": "stdout",
       "text": [
        " : dop : {'love': 0.03460075870290095, 'joy': 0, 'sadness': 0, 'anger': 0.005540868337449955, 'surprise': 0.0059825455880139974, 'fear': 0.010213937853073111}\n",
        "11"
       ]
      },
      {
       "output_type": "stream",
       "stream": "stdout",
       "text": [
        " : one : {'love': 0.03460075870290095, 'joy': 0, 'sadness': 0, 'anger': 0.005540868337449955, 'surprise': 0.0059825455880139974, 'fear': 0.010213937853073111}\n",
        "11"
       ]
      },
      {
       "output_type": "stream",
       "stream": "stdout",
       "text": [
        " : tell : {'love': 0.03460075870290095, 'joy': 0, 'sadness': 0, 'anger': 0.005540868337449955, 'surprise': 0.013281017041094266, 'fear': 0.010213937853073111}\n",
        "11"
       ]
      },
      {
       "output_type": "stream",
       "stream": "stdout",
       "text": [
        " : duba : {'love': 0.03460075870290095, 'joy': 0, 'sadness': 0, 'anger': 0.005540868337449955, 'surprise': 0.013281017041094266, 'fear': 0.010213937853073111}\n",
        "11"
       ]
      },
      {
       "output_type": "stream",
       "stream": "stdout",
       "text": [
        " : care : {'love': 0.04629708976005816, 'joy': 0, 'sadness': 0, 'anger': 0.005540868337449955, 'surprise': 0.013281017041094266, 'fear': 0.010213937853073111}\n",
        "12"
       ]
      },
      {
       "output_type": "stream",
       "stream": "stdout",
       "text": [
        " : mountain : {'love': 0, 'joy': 0.003137533097515013, 'sadness': 0, 'anger': 0, 'surprise': 0, 'fear': 0}\n",
        "12"
       ]
      },
      {
       "output_type": "stream",
       "stream": "stdout",
       "text": [
        " : harm : {'love': 0, 'joy': 0.003137533097515013, 'sadness': 0, 'anger': 0, 'surprise': 0, 'fear': 0.0032288466562342155}\n",
        "12"
       ]
      },
      {
       "output_type": "stream",
       "stream": "stdout",
       "text": [
        " : strength : {'love': 0.008315635742462635, 'joy': 0.003137533097515013, 'sadness': 0, 'anger': 0, 'surprise': 0, 'fear': 0.0032288466562342155}\n",
        "12"
       ]
      },
      {
       "output_type": "stream",
       "stream": "stdout",
       "text": [
        " : hero : {'love': 0.02928644244291098, 'joy': 0.003137533097515013, 'sadness': 0, 'anger': 0, 'surprise': 0, 'fear': 0.0032288466562342155}\n",
        "12"
       ]
      },
      {
       "output_type": "stream",
       "stream": "stdout",
       "text": [
        " : anything : {'love': 0.02928644244291098, 'joy': 0.003137533097515013, 'sadness': 0, 'anger': 0, 'surprise': 0, 'fear': 0.0032288466562342155}\n",
        "12"
       ]
      },
      {
       "output_type": "stream",
       "stream": "stdout",
       "text": [
        " : faith : {'love': 0.04546065152706633, 'joy': 0.003137533097515013, 'sadness': 0, 'anger': 0, 'surprise': 0, 'fear': 0.0032288466562342155}\n",
        "12"
       ]
      },
      {
       "output_type": "stream",
       "stream": "stdout",
       "text": [
        " : sun : {'love': 0.052808684670632794, 'joy': 0.003137533097515013, 'sadness': 0, 'anger': 0, 'surprise': 0, 'fear': 0.0032288466562342155}\n",
        "12"
       ]
      },
      {
       "output_type": "stream",
       "stream": "stdout",
       "text": [
        " : move : {'love': 0.052808684670632794, 'joy': 0.003137533097515013, 'sadness': 0, 'anger': 0, 'surprise': 0.0027614381786735115, 'fear': 0.0032288466562342155}\n",
        "Error in getting similarity for"
       ]
      },
      {
       "output_type": "stream",
       "stream": "stdout",
       "text": [
        " sky and joy\n",
        "12"
       ]
      },
      {
       "output_type": "stream",
       "stream": "stdout",
       "text": [
        " : sky : {'love': 0.052808684670632794, 'joy': 0.003137533097515013, 'sadness': 0, 'anger': 0, 'surprise': 0.0027614381786735115, 'fear': 0.006279115883900731}\n",
        "12"
       ]
      },
      {
       "output_type": "stream",
       "stream": "stdout",
       "text": [
        " : cross : {'love': 0.052808684670632794, 'joy': 0.003137533097515013, 'sadness': 0, 'anger': 0, 'surprise': 0.008817594858408209, 'fear': 0.006279115883900731}\n",
        "12"
       ]
      },
      {
       "output_type": "stream",
       "stream": "stdout",
       "text": [
        " : anytime : {'love': 0.052808684670632794, 'joy': 0.003137533097515013, 'sadness': 0, 'anger': 0, 'surprise': 0.008817594858408209, 'fear': 0.006279115883900731}\n",
        "12"
       ]
      },
      {
       "output_type": "stream",
       "stream": "stdout",
       "text": [
        " : moon : {'love': 0.052808684670632794, 'joy': 0.003137533097515013, 'sadness': 0, 'anger': 0.004873133288285167, 'surprise': 0.008817594858408209, 'fear': 0.006279115883900731}\n",
        "12"
       ]
      },
      {
       "output_type": "stream",
       "stream": "stdout",
       "text": [
        " : bring : {'love': 0.052808684670632794, 'joy': 0.009157616135324967, 'sadness': 0, 'anger': 0.004873133288285167, 'surprise': 0.008817594858408209, 'fear': 0.006279115883900731}\n",
        "12"
       ]
      },
      {
       "output_type": "stream",
       "stream": "stdout",
       "text": [
        " : promise : {'love': 0.07370502127523379, 'joy': 0.009157616135324967, 'sadness': 0, 'anger': 0.004873133288285167, 'surprise': 0.008817594858408209, 'fear': 0.006279115883900731}\n",
        "12"
       ]
      },
      {
       "output_type": "stream",
       "stream": "stdout",
       "text": [
        " : arms : {'love': 0.07370502127523379, 'joy': 0.009157616135324967, 'sadness': 0, 'anger': 0.007694059354443972, 'surprise': 0.008817594858408209, 'fear': 0.006279115883900731}\n",
        "12"
       ]
      },
      {
       "output_type": "stream",
       "stream": "stdout",
       "text": [
        " : way : {'love': 0.07370502127523379, 'joy': 0.010896397123683545, 'sadness': 0, 'anger': 0.007694059354443972, 'surprise': 0.008817594858408209, 'fear': 0.006279115883900731}\n",
        "12"
       ]
      },
      {
       "output_type": "stream",
       "stream": "stdout",
       "text": [
        " : light : {'love': 0.07370502127523379, 'joy': 0.019832101768319815, 'sadness': 0, 'anger': 0.007694059354443972, 'surprise': 0.008817594858408209, 'fear': 0.006279115883900731}\n",
        "12"
       ]
      },
      {
       "output_type": "stream",
       "stream": "stdout",
       "text": [
        " : need : {'love': 0.0781705052374304, 'joy': 0.019832101768319815, 'sadness': 0, 'anger': 0.007694059354443972, 'surprise': 0.008817594858408209, 'fear': 0.006279115883900731}\n",
        "12"
       ]
      },
      {
       "output_type": "stream",
       "stream": "stdout",
       "text": [
        " : tough : {'love': 0.0802930495572996, 'joy': 0.019832101768319815, 'sadness': 0, 'anger': 0.007694059354443972, 'surprise': 0.008817594858408209, 'fear': 0.006279115883900731}\n",
        "Error in getting similarity for"
       ]
      },
      {
       "output_type": "stream",
       "stream": "stdout",
       "text": [
        " ocean and fear\n",
        "12 : ocean : {'love': 0.0802930495572996, 'joy': 0.019832101768319815, 'sadness': 0, 'anger': 0.016461801557178836, 'surprise': 0.008817594858408209, 'fear': 0.006279115883900731}\n",
        "13"
       ]
      },
      {
       "output_type": "stream",
       "stream": "stdout",
       "text": [
        " : chorus : {'love': 0, 'joy': 0.005840907212894791, 'sadness': 0, 'anger': 0, 'surprise': 0, 'fear': 0}\n",
        "13"
       ]
      },
      {
       "output_type": "stream",
       "stream": "stdout",
       "text": [
        " : bye : {'love': 0, 'joy': 0.005840907212894791, 'sadness': 0.0008975648753794444, 'anger': 0, 'surprise': 0, 'fear': 0}\n",
        "13"
       ]
      },
      {
       "output_type": "stream",
       "stream": "stdout",
       "text": [
        " : tried : {'love': 0.002388042679344335, 'joy': 0.005840907212894791, 'sadness': 0.0008975648753794444, 'anger': 0, 'surprise': 0, 'fear': 0}\n",
        "13"
       ]
      },
      {
       "output_type": "stream",
       "stream": "stdout",
       "text": [
        " : relationship : {'love': 0.050055060106414334, 'joy': 0.005840907212894791, 'sadness': 0.0008975648753794444, 'anger': 0, 'surprise': 0, 'fear': 0}\n",
        "13"
       ]
      },
      {
       "output_type": "stream",
       "stream": "stdout",
       "text": [
        " : point : {'love': 0.050055060106414334, 'joy': 0.005840907212894791, 'sadness': 0.0008975648753794444, 'anger': 0.002128478182866381, 'surprise': 0, 'fear': 0}\n",
        "13"
       ]
      },
      {
       "output_type": "stream",
       "stream": "stdout",
       "text": [
        " : things : {'love': 0.06646133988888756, 'joy': 0.005840907212894791, 'sadness': 0.0008975648753794444, 'anger': 0.002128478182866381, 'surprise': 0, 'fear': 0}\n",
        "13"
       ]
      },
      {
       "output_type": "stream",
       "stream": "stdout",
       "text": [
        " : make : {'love': 0.06646133988888756, 'joy': 0.005840907212894791, 'sadness': 0.0008975648753794444, 'anger': 0.002128478182866381, 'surprise': 0.002646972647604403, 'fear': 0}\n",
        "13"
       ]
      },
      {
       "output_type": "stream",
       "stream": "stdout",
       "text": [
        " : exactly : {'love': 0.06646133988888756, 'joy': 0.005840907212894791, 'sadness': 0.0008975648753794444, 'anger': 0.002128478182866381, 'surprise': 0.002646972647604403, 'fear': 0.0023727144970181065}\n",
        "13"
       ]
      },
      {
       "output_type": "stream",
       "stream": "stdout",
       "text": [
        " : think : {'love': 0.07740648568070123, 'joy': 0.005840907212894791, 'sadness': 0.0008975648753794444, 'anger': 0.002128478182866381, 'surprise': 0.002646972647604403, 'fear': 0.0023727144970181065}\n",
        "13"
       ]
      },
      {
       "output_type": "stream",
       "stream": "stdout",
       "text": [
        " : leave : {'love': 0.07740648568070123, 'joy': 0.005840907212894791, 'sadness': 0.0008975648753794444, 'anger': 0.002128478182866381, 'surprise': 0.002646972647604403, 'fear': 0.01449626250886223}\n",
        "13"
       ]
      },
      {
       "output_type": "stream",
       "stream": "stdout",
       "text": [
        " : start : {'love': 0.07740648568070123, 'joy': 0.005840907212894791, 'sadness': 0.0008975648753794444, 'anger': 0.006503097969462393, 'surprise': 0.002646972647604403, 'fear': 0.01449626250886223}\n",
        "13"
       ]
      },
      {
       "output_type": "stream",
       "stream": "stdout",
       "text": [
        " : verse : {'love': 0.07740648568070123, 'joy': 0.011266475329949602, 'sadness': 0.0008975648753794444, 'anger': 0.006503097969462393, 'surprise': 0.002646972647604403, 'fear': 0.01449626250886223}\n",
        "13"
       ]
      },
      {
       "output_type": "stream",
       "stream": "stdout",
       "text": [
        " : come : {'love': 0.07740648568070123, 'joy': 0.011266475329949602, 'sadness': 0.0008975648753794444, 'anger': 0.006503097969462393, 'surprise': 0.002646972647604403, 'fear': 0.019846562997523923}\n",
        "13"
       ]
      },
      {
       "output_type": "stream",
       "stream": "stdout",
       "text": [
        " : suggest : {'love': 0.07740648568070123, 'joy': 0.011266475329949602, 'sadness': 0.0008975648753794444, 'anger': 0.006503097969462393, 'surprise': 0.002646972647604403, 'fear': 0.02133245600044697}\n",
        "13"
       ]
      },
      {
       "output_type": "stream",
       "stream": "stdout",
       "text": [
        " : new : {'love': 0.07740648568070123, 'joy': 0.011266475329949602, 'sadness': 0.0008975648753794444, 'anger': 0.006503097969462393, 'surprise': 0.012575583102778442, 'fear': 0.02133245600044697}\n",
        "13"
       ]
      },
      {
       "output_type": "stream",
       "stream": "stdout",
       "text": [
        " : ring : {'love': 0.08878043205404496, 'joy': 0.011266475329949602, 'sadness': 0.0008975648753794444, 'anger': 0.006503097969462393, 'surprise': 0.012575583102778442, 'fear': 0.02133245600044697}\n",
        "13"
       ]
      },
      {
       "output_type": "stream",
       "stream": "stdout",
       "text": [
        " : one : {'love': 0.08878043205404496, 'joy': 0.011266475329949602, 'sadness': 0.0008975648753794444, 'anger': 0.006503097969462393, 'surprise': 0.012575583102778442, 'fear': 0.02133245600044697}\n",
        "13"
       ]
      },
      {
       "output_type": "stream",
       "stream": "stdout",
       "text": [
        " : wanna : {'love': 0.08878043205404496, 'joy': 0.011266475329949602, 'sadness': 0.0008975648753794444, 'anger': 0.006503097969462393, 'surprise': 0.012575583102778442, 'fear': 0.02133245600044697}\n",
        "13"
       ]
      },
      {
       "output_type": "stream",
       "stream": "stdout",
       "text": [
        " : along : {'love': 0.08878043205404496, 'joy': 0.011266475329949602, 'sadness': 0.0008975648753794444, 'anger': 0.006503097969462393, 'surprise': 0.012575583102778442, 'fear': 0.02133245600044697}\n",
        "13"
       ]
      },
      {
       "output_type": "stream",
       "stream": "stdout",
       "text": [
        " : began : {'love': 0.08878043205404496, 'joy': 0.011266475329949602, 'sadness': 0.0008975648753794444, 'anger': 0.007350259510187527, 'surprise': 0.012575583102778442, 'fear': 0.02133245600044697}\n",
        "14"
       ]
      },
      {
       "output_type": "stream",
       "stream": "stdout",
       "text": [
        " : softer : {'love': 0.0, 'joy': 0, 'sadness': 0, 'anger': 0, 'surprise': 0, 'fear': 0}\n",
        "14"
       ]
      },
      {
       "output_type": "stream",
       "stream": "stdout",
       "text": [
        " : wouldn : {'love': 0.0, 'joy': 0, 'sadness': 0, 'anger': 0, 'surprise': 0, 'fear': 0}\n",
        "14"
       ]
      },
      {
       "output_type": "stream",
       "stream": "stdout",
       "text": [
        " : already : {'love': 0.0, 'joy': 0, 'sadness': 0, 'anger': 0, 'surprise': 0, 'fear': 0.0008058220442802048}\n",
        "14"
       ]
      },
      {
       "output_type": "stream",
       "stream": "stdout",
       "text": [
        " : ashamed : {'love': 0.0, 'joy': 0, 'sadness': 0, 'anger': 0, 'surprise': 0.030099361763479958, 'fear': 0.0008058220442802048}\n",
        "14"
       ]
      },
      {
       "output_type": "stream",
       "stream": "stdout",
       "text": [
        " : angel : {'love': 0.0, 'joy': 0, 'sadness': 0, 'anger': 0, 'surprise': 0.030099361763479958, 'fear': 0.0008058220442802048}\n",
        "14"
       ]
      },
      {
       "output_type": "stream",
       "stream": "stdout",
       "text": [
        " : extremes : {'love': 0.0005425055336446848, 'joy': 0, 'sadness': 0, 'anger': 0, 'surprise': 0.030099361763479958, 'fear': 0.0008058220442802048}\n",
        "14"
       ]
      },
      {
       "output_type": "stream",
       "stream": "stdout",
       "text": [
        " : numb : {'love': 0.0005425055336446848, 'joy': 0, 'sadness': 0.003096468833400168, 'anger': 0, 'surprise': 0.030099361763479958, 'fear': 0.0008058220442802048}\n",
        "14"
       ]
      },
      {
       "output_type": "stream",
       "stream": "stdout",
       "text": [
        " : child : {'love': 0.012788750284505008, 'joy': 0, 'sadness': 0.003096468833400168, 'anger': 0, 'surprise': 0.030099361763479958, 'fear': 0.0008058220442802048}\n",
        "14"
       ]
      },
      {
       "output_type": "stream",
       "stream": "stdout",
       "text": [
        " : change : {'love': 0.012788750284505008, 'joy': 0, 'sadness': 0.003096468833400168, 'anger': 0, 'surprise': 0.03626320041482527, 'fear': 0.0008058220442802048}\n",
        "14"
       ]
      },
      {
       "output_type": "stream",
       "stream": "stdout",
       "text": [
        " : lover : {'love': 0.06311140061242962, 'joy': 0, 'sadness': 0.003096468833400168, 'anger': 0, 'surprise': 0.03626320041482527, 'fear': 0.0008058220442802048}\n",
        "14"
       ]
      },
      {
       "output_type": "stream",
       "stream": "stdout",
       "text": [
        " : want : {'love': 0.07580608953830344, 'joy': 0, 'sadness': 0.003096468833400168, 'anger': 0, 'surprise': 0.03626320041482527, 'fear': 0.0008058220442802048}\n",
        "14"
       ]
      },
      {
       "output_type": "stream",
       "stream": "stdout",
       "text": [
        " : bitch : {'love': 0.08428173744016551, 'joy': 0, 'sadness': 0.003096468833400168, 'anger': 0, 'surprise': 0.03626320041482527, 'fear': 0.0008058220442802048}\n",
        "Error in getting similarity for"
       ]
      },
      {
       "output_type": "stream",
       "stream": "stdout",
       "text": [
        " saint and love\n",
        "14"
       ]
      },
      {
       "output_type": "stream",
       "stream": "stdout",
       "text": [
        " : saint : {'love': 0.08428173744016551, 'joy': 0.023137607574659835, 'sadness': 0.003096468833400168, 'anger': 0, 'surprise': 0.03626320041482527, 'fear': 0.0008058220442802048}\n",
        "14"
       ]
      },
      {
       "output_type": "stream",
       "stream": "stdout",
       "text": [
        " : mother : {'love': 0.11188408963023537, 'joy': 0.023137607574659835, 'sadness': 0.003096468833400168, 'anger': 0, 'surprise': 0.03626320041482527, 'fear': 0.0008058220442802048}\n",
        "14"
       ]
      },
      {
       "output_type": "stream",
       "stream": "stdout",
       "text": [
        " : nothing : {'love': 0.11188408963023537, 'joy': 0.023137607574659835, 'sadness': 0.003096468833400168, 'anger': 0, 'surprise': 0.03626320041482527, 'fear': 0.00794001263065668}\n",
        "14"
       ]
      },
      {
       "output_type": "stream",
       "stream": "stdout",
       "text": [
        " : hell : {'love': 0.11188408963023537, 'joy': 0.023137607574659835, 'sadness': 0.003096468833400168, 'anger': 0, 'surprise': 0.03626320041482527, 'fear': 0.016161096235954634}\n",
        "14"
       ]
      },
      {
       "output_type": "stream",
       "stream": "stdout",
       "text": [
        " : mean : {'love': 0.11188408963023537, 'joy': 0.023137607574659835, 'sadness': 0.003096468833400168, 'anger': 0, 'surprise': 0.03626320041482527, 'fear': 0.022576934202996612}\n",
        "14"
       ]
      },
      {
       "output_type": "stream",
       "stream": "stdout",
       "text": [
        " : dream : {'love': 0.12518788728590163, 'joy': 0.023137607574659835, 'sadness': 0.003096468833400168, 'anger': 0, 'surprise': 0.03626320041482527, 'fear': 0.022576934202996612}\n",
        "14"
       ]
      },
      {
       "output_type": "stream",
       "stream": "stdout",
       "text": [
        " : today : {'love': 0.12518788728590163, 'joy': 0.023137607574659835, 'sadness': 0.005682451146744166, 'anger': 0, 'surprise': 0.03626320041482527, 'fear': 0.022576934202996612}\n",
        "14"
       ]
      },
      {
       "output_type": "stream",
       "stream": "stdout",
       "text": [
        " : sinner : {'love': 0.1359588007245483, 'joy': 0.023137607574659835, 'sadness': 0.005682451146744166, 'anger': 0, 'surprise': 0.03626320041482527, 'fear': 0.022576934202996612}\n",
        "15"
       ]
      },
      {
       "output_type": "stream",
       "stream": "stdout",
       "text": [
        " : body : {'love': 0, 'joy': 0, 'sadness': 0, 'anger': 0, 'surprise': 0, 'fear': 0.005127019182808572}\n",
        "15"
       ]
      },
      {
       "output_type": "stream",
       "stream": "stdout",
       "text": [
        " : afraid : {'love': 0, 'joy': 0, 'sadness': 0, 'anger': 0, 'surprise': 0, 'fear': 0.022965464196761008}\n",
        "15"
       ]
      },
      {
       "output_type": "stream",
       "stream": "stdout",
       "text": [
        " : like : {'love': 0.0, 'joy': 0, 'sadness': 0, 'anger': 0, 'surprise': 0, 'fear': 0.022965464196761008}\n",
        "15"
       ]
      },
      {
       "output_type": "stream",
       "stream": "stdout",
       "text": [
        " : lib : {'love': 0.0, 'joy': 0, 'sadness': 0, 'anger': 0, 'surprise': 0, 'fear': 0.022965464196761008}\n",
        "15"
       ]
      },
      {
       "output_type": "stream",
       "stream": "stdout",
       "text": [
        " : give : {'love': 0.0027173970444787903, 'joy': 0, 'sadness': 0, 'anger': 0, 'surprise': 0, 'fear': 0.022965464196761008}\n",
        "15"
       ]
      },
      {
       "output_type": "stream",
       "stream": "stdout",
       "text": [
        " : lay : {'love': 0.0027173970444787903, 'joy': 0, 'sadness': 0, 'anger': 0, 'surprise': 0, 'fear': 0.024324691351465404}\n",
        "15"
       ]
      },
      {
       "output_type": "stream",
       "stream": "stdout",
       "text": [
        " : nobody : {'love': 0.10478390758653197, 'joy': 0, 'sadness': 0, 'anger': 0, 'surprise': 0, 'fear': 0.024324691351465404}\n",
        "15"
       ]
      },
      {
       "output_type": "stream",
       "stream": "stdout",
       "text": [
        " : long : {'love': 0.10478390758653197, 'joy': 0, 'sadness': 0, 'anger': 0, 'surprise': 0, 'fear': 0.027987339640721875}\n",
        "15"
       ]
      },
      {
       "output_type": "stream",
       "stream": "stdout",
       "text": [
        " : sex : {'love': 0.11678727310621677, 'joy': 0, 'sadness': 0, 'anger': 0, 'surprise': 0, 'fear': 0.027987339640721875}\n",
        "15"
       ]
      },
      {
       "output_type": "stream",
       "stream": "stdout",
       "text": [
        " : need : {'love': 0.12046473048684928, 'joy': 0, 'sadness': 0, 'anger': 0, 'surprise': 0, 'fear': 0.027987339640721875}\n",
        "15"
       ]
      },
      {
       "output_type": "stream",
       "stream": "stdout",
       "text": [
        " : caress : {'love': 0.12465032413753452, 'joy': 0, 'sadness': 0, 'anger': 0, 'surprise': 0, 'fear': 0.027987339640721875}\n",
        "15"
       ]
      },
      {
       "output_type": "stream",
       "stream": "stdout",
       "text": [
        " : holler : {'love': 0.12465032413753452, 'joy': 0, 'sadness': 0, 'anger': 0.0014013998810827638, 'surprise': 0, 'fear': 0.027987339640721875}\n",
        "15"
       ]
      },
      {
       "output_type": "stream",
       "stream": "stdout",
       "text": [
        " : treat : {'love': 0.1264751596495281, 'joy': 0, 'sadness': 0, 'anger': 0.0014013998810827638, 'surprise': 0, 'fear': 0.027987339640721875}\n",
        "15"
       ]
      },
      {
       "output_type": "stream",
       "stream": "stdout",
       "text": [
        " : want : {'love': 0.1486908652698073, 'joy': 0, 'sadness': 0, 'anger': 0.0014013998810827638, 'surprise': 0, 'fear': 0.027987339640721875}\n",
        "15"
       ]
      },
      {
       "output_type": "stream",
       "stream": "stdout",
       "text": [
        " : night : {'love': 0.1519414068288935, 'joy': 0, 'sadness': 0, 'anger': 0.0014013998810827638, 'surprise': 0, 'fear': 0.027987339640721875}\n",
        "15"
       ]
      },
      {
       "output_type": "stream",
       "stream": "stdout",
       "text": [
        " : baby : {'love': 0.1690027660440899, 'joy': 0, 'sadness': 0, 'anger': 0.0014013998810827638, 'surprise': 0, 'fear': 0.027987339640721875}\n",
        "15"
       ]
      },
      {
       "output_type": "stream",
       "stream": "stdout",
       "text": [
        " : yes : {'love': 0.1690027660440899, 'joy': 0, 'sadness': 0, 'anger': 0.0014013998810827638, 'surprise': 0, 'fear': 0.027987339640721875}\n",
        "15"
       ]
      },
      {
       "output_type": "stream",
       "stream": "stdout",
       "text": [
        " : band : {'love': 0.1706428812864074, 'joy': 0, 'sadness': 0, 'anger': 0.0014013998810827638, 'surprise': 0, 'fear': 0.027987339640721875}\n",
        "15"
       ]
      },
      {
       "output_type": "stream",
       "stream": "stdout",
       "text": [
        " : keith : {'love': 0.1706428812864074, 'joy': 0, 'sadness': 0, 'anger': 0.0014013998810827638, 'surprise': 0, 'fear': 0.027987339640721875}\n",
        "15"
       ]
      },
      {
       "output_type": "stream",
       "stream": "stdout",
       "text": [
        " : athena : {'love': 0.1706428812864074, 'joy': 0, 'sadness': 0, 'anger': 0.0014013998810827638, 'surprise': 0, 'fear': 0.027987339640721875}\n",
        "16"
       ]
      },
      {
       "output_type": "stream",
       "stream": "stdout",
       "text": [
        " : back : {'love': 0, 'joy': 0, 'sadness': 0, 'anger': 0.0009363666834700344, 'surprise': 0, 'fear': 0}\n",
        "16"
       ]
      },
      {
       "output_type": "stream",
       "stream": "stdout",
       "text": [
        " : bumped : {'love': 0, 'joy': 0, 'sadness': 0, 'anger': 0.0009363666834700344, 'surprise': 0.003354706275207465, 'fear': 0}\n",
        "16"
       ]
      },
      {
       "output_type": "stream",
       "stream": "stdout",
       "text": [
        " : life : {'love': 0.0070155105668900306, 'joy': 0, 'sadness': 0, 'anger': 0.0009363666834700344, 'surprise': 0.003354706275207465, 'fear': 0}\n",
        "16"
       ]
      },
      {
       "output_type": "stream",
       "stream": "stdout",
       "text": [
        " : said : {'love': 0.0070155105668900306, 'joy': 0, 'sadness': 0, 'anger': 0.0009363666834700344, 'surprise': 0.003354706275207465, 'fear': 0.0034696824191045913}\n",
        "16"
       ]
      },
      {
       "output_type": "stream",
       "stream": "stdout",
       "text": [
        " : velvet : {'love': 0.0070155105668900306, 'joy': 0, 'sadness': 0, 'anger': 0.0009363666834700344, 'surprise': 0.003354706275207465, 'fear': 0.004790082785941592}\n",
        "16"
       ]
      },
      {
       "output_type": "stream",
       "stream": "stdout",
       "text": [
        " : goodbye : {'love': 0.0070155105668900306, 'joy': 0, 'sadness': 0, 'anger': 0.0009363666834700344, 'surprise': 0.003354706275207465, 'fear': 0.004790082785941592}\n",
        "16"
       ]
      },
      {
       "output_type": "stream",
       "stream": "stdout",
       "text": [
        " : want : {'love': 0.02141806548173205, 'joy': 0, 'sadness': 0, 'anger': 0.0009363666834700344, 'surprise': 0.003354706275207465, 'fear': 0.004790082785941592}\n",
        "16"
       ]
      },
      {
       "output_type": "stream",
       "stream": "stdout",
       "text": [
        " : charmed : {'love': 0.02141806548173205, 'joy': 0, 'sadness': 0, 'anger': 0.0009363666834700344, 'surprise': 0.016038746812444778, 'fear': 0.004790082785941592}\n",
        "16"
       ]
      },
      {
       "output_type": "stream",
       "stream": "stdout",
       "text": [
        " : gold : {'love': 0.02141806548173205, 'joy': 0.0009908212606794075, 'sadness': 0, 'anger': 0.0009363666834700344, 'surprise': 0.016038746812444778, 'fear': 0.004790082785941592}\n",
        "16"
       ]
      },
      {
       "output_type": "stream",
       "stream": "stdout",
       "text": [
        " : rose : {'love': 0.02141806548173205, 'joy': 0.0009908212606794075, 'sadness': 0, 'anger': 0.002683878117020335, 'surprise': 0.016038746812444778, 'fear': 0.004790082785941592}\n",
        "16"
       ]
      },
      {
       "output_type": "stream",
       "stream": "stdout",
       "text": [
        " : semi : {'love': 0.02141806548173205, 'joy': 0.0009908212606794075, 'sadness': 0, 'anger': 0.002683878117020335, 'surprise': 0.016038746812444778, 'fear': 0.004790082785941592}\n",
        "16"
       ]
      },
      {
       "output_type": "stream",
       "stream": "stdout",
       "text": [
        " : else : {'love': 0.02141806548173205, 'joy': 0.0009908212606794075, 'sadness': 0, 'anger': 0.002683878117020335, 'surprise': 0.016038746812444778, 'fear': 0.004790082785941592}\n",
        "16"
       ]
      },
      {
       "output_type": "stream",
       "stream": "stdout",
       "text": [
        " : place : {'love': 0.022228140825231703, 'joy': 0.0009908212606794075, 'sadness': 0, 'anger': 0.002683878117020335, 'surprise': 0.016038746812444778, 'fear': 0.004790082785941592}\n",
        "16"
       ]
      },
      {
       "output_type": "stream",
       "stream": "stdout",
       "text": [
        " : something : {'love': 0.022228140825231703, 'joy': 0.0009908212606794075, 'sadness': 0, 'anger': 0.002683878117020335, 'surprise': 0.016038746812444778, 'fear': 0.004790082785941592}\n",
        "16"
       ]
      },
      {
       "output_type": "stream",
       "stream": "stdout",
       "text": [
        " : listening : {'love': 0.030897659962416273, 'joy': 0.0009908212606794075, 'sadness': 0, 'anger': 0.002683878117020335, 'surprise': 0.016038746812444778, 'fear': 0.004790082785941592}\n",
        "16"
       ]
      },
      {
       "output_type": "stream",
       "stream": "stdout",
       "text": [
        " : sips : {'love': 0.031893457025266976, 'joy': 0.0009908212606794075, 'sadness': 0, 'anger': 0.002683878117020335, 'surprise': 0.016038746812444778, 'fear': 0.004790082785941592}\n",
        "16"
       ]
      },
      {
       "output_type": "stream",
       "stream": "stdout",
       "text": [
        " : lives : {'love': 0.03777256487920617, 'joy': 0.0009908212606794075, 'sadness': 0, 'anger': 0.002683878117020335, 'surprise': 0.016038746812444778, 'fear': 0.004790082785941592}\n",
        "16"
       ]
      },
      {
       "output_type": "stream",
       "stream": "stdout",
       "text": [
        " : smiling : {'love': 0.03777256487920617, 'joy': 0.014652788810075625, 'sadness': 0, 'anger': 0.002683878117020335, 'surprise': 0.016038746812444778, 'fear': 0.004790082785941592}\n",
        "16"
       ]
      },
      {
       "output_type": "stream",
       "stream": "stdout",
       "text": [
        " : rhythm : {'love': 0.040072821145302986, 'joy': 0.014652788810075625, 'sadness': 0, 'anger': 0.002683878117020335, 'surprise': 0.016038746812444778, 'fear': 0.004790082785941592}\n",
        "16"
       ]
      },
      {
       "output_type": "stream",
       "stream": "stdout",
       "text": [
        " : nose : {'love': 0.040072821145302986, 'joy': 0.014652788810075625, 'sadness': 0, 'anger': 0.002683878117020335, 'surprise': 0.01739515879057202, 'fear': 0.004790082785941592}\n",
        "17"
       ]
      },
      {
       "output_type": "stream",
       "stream": "stdout",
       "text": [
        " : imagining : {'love': 0, 'joy': 0, 'sadness': 0, 'anger': 0, 'surprise': 0.013537794192785186, 'fear': 0}\n",
        "17"
       ]
      },
      {
       "output_type": "stream",
       "stream": "stdout",
       "text": [
        " : fool : {'love': 0.0063513544509962395, 'joy': 0, 'sadness': 0, 'anger': 0, 'surprise': 0.013537794192785186, 'fear': 0}\n",
        "17"
       ]
      },
      {
       "output_type": "stream",
       "stream": "stdout",
       "text": [
        " : breathing : {'love': 0.0063513544509962395, 'joy': 0.0050171171370227766, 'sadness': 0, 'anger': 0, 'surprise': 0.013537794192785186, 'fear': 0}\n",
        "17"
       ]
      },
      {
       "output_type": "stream",
       "stream": "stdout",
       "text": [
        " : would : {'love': 0.0063513544509962395, 'joy': 0.0050171171370227766, 'sadness': 0, 'anger': 0, 'surprise': 0.013537794192785186, 'fear': 0}\n",
        "17"
       ]
      },
      {
       "output_type": "stream",
       "stream": "stdout",
       "text": [
        " : thinking : {'love': 0.0063513544509962395, 'joy': 0.0050171171370227766, 'sadness': 0, 'anger': 0, 'surprise': 0.013537794192785186, 'fear': 0.007956979143240618}\n",
        "17"
       ]
      },
      {
       "output_type": "stream",
       "stream": "stdout",
       "text": [
        " : pay : {'love': 0.00820611354088939, 'joy': 0.0050171171370227766, 'sadness': 0, 'anger': 0, 'surprise': 0.013537794192785186, 'fear': 0.007956979143240618}\n",
        "17"
       ]
      },
      {
       "output_type": "stream",
       "stream": "stdout",
       "text": [
        " : price : {'love': 0.00820611354088939, 'joy': 0.0050171171370227766, 'sadness': 0, 'anger': 0, 'surprise': 0.013537794192785186, 'fear': 0.02206700910714233}\n",
        "17"
       ]
      },
      {
       "output_type": "stream",
       "stream": "stdout",
       "text": [
        " : barely : {'love': 0.00820611354088939, 'joy': 0.0050171171370227766, 'sadness': 0, 'anger': 0.011850918461122054, 'surprise': 0.013537794192785186, 'fear': 0.02206700910714233}\n",
        "17"
       ]
      },
      {
       "output_type": "stream",
       "stream": "stdout",
       "text": [
        " : find : {'love': 0.00820611354088939, 'joy': 0.0050171171370227766, 'sadness': 0, 'anger': 0.011850918461122054, 'surprise': 0.025830283448320945, 'fear': 0.02206700910714233}\n",
        "17"
       ]
      },
      {
       "output_type": "stream",
       "stream": "stdout",
       "text": [
        " : anyway : {'love': 0.021688703855373012, 'joy': 0.0050171171370227766, 'sadness': 0, 'anger': 0.011850918461122054, 'surprise': 0.025830283448320945, 'fear': 0.02206700910714233}\n",
        "17"
       ]
      },
      {
       "output_type": "stream",
       "stream": "stdout",
       "text": [
        " : kidding : {'love': 0.021688703855373012, 'joy': 0.0050171171370227766, 'sadness': 0, 'anger': 0.011850918461122054, 'surprise': 0.025830283448320945, 'fear': 0.02206700910714233}\n",
        "17"
       ]
      },
      {
       "output_type": "stream",
       "stream": "stdout",
       "text": [
        " : clear : {'love': 0.021688703855373012, 'joy': 0.0050171171370227766, 'sadness': 0, 'anger': 0.011850918461122054, 'surprise': 0.027720981439029305, 'fear': 0.02206700910714233}\n",
        "17"
       ]
      },
      {
       "output_type": "stream",
       "stream": "stdout",
       "text": [
        " : waiting : {'love': 0.021688703855373012, 'joy': 0.0050171171370227766, 'sadness': 0, 'anger': 0.011850918461122054, 'surprise': 0.031838565108928144, 'fear': 0.02206700910714233}\n",
        "17"
       ]
      },
      {
       "output_type": "stream",
       "stream": "stdout",
       "text": [
        " : suppose : {'love': 0.021688703855373012, 'joy': 0.0050171171370227766, 'sadness': 0, 'anger': 0.011850918461122054, 'surprise': 0.031838565108928144, 'fear': 0.03572030286072779}\n",
        "17"
       ]
      },
      {
       "output_type": "stream",
       "stream": "stdout",
       "text": [
        " : stand : {'love': 0.02821738526715188, 'joy': 0.0050171171370227766, 'sadness': 0, 'anger': 0.011850918461122054, 'surprise': 0.031838565108928144, 'fear': 0.03572030286072779}\n",
        "17"
       ]
      },
      {
       "output_type": "stream",
       "stream": "stdout",
       "text": [
        " : another : {'love': 0.02821738526715188, 'joy': 0.0050171171370227766, 'sadness': 0, 'anger': 0.011850918461122054, 'surprise': 0.031838565108928144, 'fear': 0.03572030286072779}\n",
        "17"
       ]
      },
      {
       "output_type": "stream",
       "stream": "stdout",
       "text": [
        " : air : {'love': 0.02821738526715188, 'joy': 0.012425259754147044, 'sadness': 0, 'anger': 0.011850918461122054, 'surprise': 0.031838565108928144, 'fear': 0.03572030286072779}\n",
        "17"
       ]
      },
      {
       "output_type": "stream",
       "stream": "stdout",
       "text": [
        " : worth : {'love': 0.03265731903235784, 'joy': 0.012425259754147044, 'sadness': 0, 'anger': 0.011850918461122054, 'surprise': 0.031838565108928144, 'fear': 0.03572030286072779}\n",
        "17"
       ]
      },
      {
       "output_type": "stream",
       "stream": "stdout",
       "text": [
        " : day : {'love': 0.03265731903235784, 'joy': 0.015281511171955524, 'sadness': 0, 'anger': 0.011850918461122054, 'surprise': 0.031838565108928144, 'fear': 0.03572030286072779}\n",
        "17"
       ]
      },
      {
       "output_type": "stream",
       "stream": "stdout",
       "text": [
        " : care : {'love': 0.042751412958397635, 'joy': 0.015281511171955524, 'sadness': 0, 'anger': 0.011850918461122054, 'surprise': 0.031838565108928144, 'fear': 0.03572030286072779}\n",
        "18"
       ]
      },
      {
       "output_type": "stream",
       "stream": "stdout",
       "text": [
        " : wouldn : {'love': 0.0, 'joy': 0, 'sadness': 0, 'anger': 0, 'surprise': 0, 'fear': 0}\n",
        "18"
       ]
      },
      {
       "output_type": "stream",
       "stream": "stdout",
       "text": [
        " : needs : {'love': 0.004067009998053523, 'joy': 0, 'sadness': 0, 'anger': 0, 'surprise': 0, 'fear': 0}\n",
        "18"
       ]
      },
      {
       "output_type": "stream",
       "stream": "stdout",
       "text": [
        " : holiday : {'love': 0.004067009998053523, 'joy': 0.013172518577894247, 'sadness': 0, 'anger': 0, 'surprise': 0, 'fear': 0}\n",
        "18"
       ]
      },
      {
       "output_type": "stream",
       "stream": "stdout",
       "text": [
        " : let : {'love': 0.017437301735125102, 'joy': 0.013172518577894247, 'sadness': 0, 'anger': 0, 'surprise': 0, 'fear': 0}\n",
        "18"
       ]
      },
      {
       "output_type": "stream",
       "stream": "stdout",
       "text": [
        " : said : {'love': 0.017437301735125102, 'joy': 0.013172518577894247, 'sadness': 0, 'anger': 0, 'surprise': 0, 'fear': 0.006711844679579373}\n",
        "18"
       ]
      },
      {
       "output_type": "stream",
       "stream": "stdout",
       "text": [
        " : swept : {'love': 0.017437301735125102, 'joy': 0.013172518577894247, 'sadness': 0, 'anger': 0, 'surprise': 0.003930989903852005, 'fear': 0.006711844679579373}\n",
        "18"
       ]
      },
      {
       "output_type": "stream",
       "stream": "stdout",
       "text": [
        " : far : {'love': 0.017437301735125102, 'joy': 0.013172518577894247, 'sadness': 0, 'anger': 0, 'surprise': 0.003930989903852005, 'fear': 0.017462183377105825}\n",
        "18"
       ]
      },
      {
       "output_type": "stream",
       "stream": "stdout",
       "text": [
        " : away : {'love': 0.017437301735125102, 'joy': 0.013172518577894247, 'sadness': 0, 'anger': 0.006901118463023875, 'surprise': 0.003930989903852005, 'fear': 0.017462183377105825}\n",
        "18"
       ]
      },
      {
       "output_type": "stream",
       "stream": "stdout",
       "text": [
        " : hard : {'love': 0.017437301735125102, 'joy': 0.013172518577894247, 'sadness': 0, 'anger': 0.006901118463023875, 'surprise': 0.003930989903852005, 'fear': 0.02063319699839005}\n",
        "18"
       ]
      },
      {
       "output_type": "stream",
       "stream": "stdout",
       "text": [
        " : kept : {'love': 0.021213425121110442, 'joy': 0.013172518577894247, 'sadness': 0, 'anger': 0.006901118463023875, 'surprise': 0.003930989903852005, 'fear': 0.02063319699839005}\n",
        "18"
       ]
      },
      {
       "output_type": "stream",
       "stream": "stdout",
       "text": [
        " : heard : {'love': 0.025515088623168276, 'joy': 0.013172518577894247, 'sadness': 0, 'anger': 0.006901118463023875, 'surprise': 0.003930989903852005, 'fear': 0.02063319699839005}\n",
        "18"
       ]
      },
      {
       "output_type": "stream",
       "stream": "stdout",
       "text": [
        " : say : {'love': 0.025515088623168276, 'joy': 0.013172518577894247, 'sadness': 0, 'anger': 0.006901118463023875, 'surprise': 0.003930989903852005, 'fear': 0.02651672418469885}\n",
        "18"
       ]
      },
      {
       "output_type": "stream",
       "stream": "stdout",
       "text": [
        " : part : {'love': 0.025515088623168276, 'joy': 0.013172518577894247, 'sadness': 0, 'anger': 0.006901118463023875, 'surprise': 0.003930989903852005, 'fear': 0.03602638138550353}\n",
        "18"
       ]
      },
      {
       "output_type": "stream",
       "stream": "stdout",
       "text": [
        " : done : {'love': 0.025515088623168276, 'joy': 0.013172518577894247, 'sadness': 0, 'anger': 0.006901118463023875, 'surprise': 0.003930989903852005, 'fear': 0.039444955198831115}\n",
        "18"
       ]
      },
      {
       "output_type": "stream",
       "stream": "stdout",
       "text": [
        " : lovers : {'love': 0.06866496784717248, 'joy': 0.013172518577894247, 'sadness': 0, 'anger': 0.006901118463023875, 'surprise': 0.003930989903852005, 'fear': 0.039444955198831115}\n",
        "18"
       ]
      },
      {
       "output_type": "stream",
       "stream": "stdout",
       "text": [
        " : want : {'love': 0.09343001673535256, 'joy': 0.013172518577894247, 'sadness': 0, 'anger': 0.006901118463023875, 'surprise': 0.003930989903852005, 'fear': 0.039444955198831115}\n",
        "18"
       ]
      },
      {
       "output_type": "stream",
       "stream": "stdout",
       "text": [
        " : promise : {'love': 0.1071325325416483, 'joy': 0.013172518577894247, 'sadness': 0, 'anger': 0.006901118463023875, 'surprise': 0.003930989903852005, 'fear': 0.039444955198831115}\n",
        "18"
       ]
      },
      {
       "output_type": "stream",
       "stream": "stdout",
       "text": [
        " : sorry : {'love': 0.1399830499026884, 'joy': 0.013172518577894247, 'sadness': 0, 'anger': 0.006901118463023875, 'surprise': 0.003930989903852005, 'fear': 0.039444955198831115}\n",
        "18"
       ]
      },
      {
       "output_type": "stream",
       "stream": "stdout",
       "text": [
        " : hold : {'love': 0.1399830499026884, 'joy': 0.013172518577894247, 'sadness': 0.005633055448257083, 'anger': 0.006901118463023875, 'surprise': 0.003930989903852005, 'fear': 0.039444955198831115}\n",
        "18"
       ]
      },
      {
       "output_type": "stream",
       "stream": "stdout",
       "text": [
        " : couldn : {'love': 0.1399830499026884, 'joy': 0.013172518577894247, 'sadness': 0.005633055448257083, 'anger': 0.006901118463023875, 'surprise': 0.003930989903852005, 'fear': 0.039444955198831115}\n",
        "19"
       ]
      },
      {
       "output_type": "stream",
       "stream": "stdout",
       "text": [
        " : nigga : {'love': 0.0, 'joy': 0, 'sadness': 0, 'anger': 0, 'surprise': 0, 'fear': 0}\n",
        "19"
       ]
      },
      {
       "output_type": "stream",
       "stream": "stdout",
       "text": [
        " : like : {'love': 0.0, 'joy': 0, 'sadness': 0, 'anger': 0, 'surprise': 0, 'fear': 0}\n",
        "19"
       ]
      },
      {
       "output_type": "stream",
       "stream": "stdout",
       "text": [
        " : pimp : {'love': 0.0, 'joy': 0, 'sadness': 0, 'anger': 0, 'surprise': 0, 'fear': 0.0005038520716626362}\n",
        "19"
       ]
      },
      {
       "output_type": "stream",
       "stream": "stdout",
       "text": [
        " : money : {'love': 0.004183797655209715, 'joy': 0, 'sadness': 0, 'anger': 0, 'surprise': 0, 'fear': 0.0005038520716626362}\n",
        "19"
       ]
      },
      {
       "output_type": "stream",
       "stream": "stdout",
       "text": [
        " : team : {'love': 0.005861383270393505, 'joy': 0, 'sadness': 0, 'anger': 0, 'surprise': 0, 'fear': 0.0005038520716626362}\n",
        "19"
       ]
      },
      {
       "output_type": "stream",
       "stream": "stdout",
       "text": [
        " : ain : {'love': 0.005861383270393505, 'joy': 0, 'sadness': 0, 'anger': 0, 'surprise': 0, 'fear': 0.0005038520716626362}\n",
        "19"
       ]
      },
      {
       "output_type": "stream",
       "stream": "stdout",
       "text": [
        " : problems : {'love': 0.005861383270393505, 'joy': 0, 'sadness': 0, 'anger': 0, 'surprise': 0, 'fear': 0.007962614576581012}\n",
        "19"
       ]
      },
      {
       "output_type": "stream",
       "stream": "stdout",
       "text": [
        " : niggaz : {'love': 0.005861383270393505, 'joy': 0, 'sadness': 0, 'anger': 0, 'surprise': 0, 'fear': 0.007962614576581012}\n",
        "19"
       ]
      },
      {
       "output_type": "stream",
       "stream": "stdout",
       "text": [
        " : stay : {'love': 0.007921017927857817, 'joy': 0, 'sadness': 0, 'anger': 0, 'surprise': 0, 'fear': 0.007962614576581012}\n",
        "19"
       ]
      },
      {
       "output_type": "stream",
       "stream": "stdout",
       "text": [
        " : phone : {'love': 0.008398724768875203, 'joy': 0, 'sadness': 0, 'anger': 0, 'surprise': 0, 'fear': 0.007962614576581012}\n",
        "19"
       ]
      },
      {
       "output_type": "stream",
       "stream": "stdout",
       "text": [
        " : see : {'love': 0.008398724768875203, 'joy': 0, 'sadness': 0, 'anger': 0, 'surprise': 0.00953292621406404, 'fear': 0.007962614576581012}\n",
        "19"
       ]
      },
      {
       "output_type": "stream",
       "stream": "stdout",
       "text": [
        " : much : {'love': 0.008398724768875203, 'joy': 0, 'sadness': 0, 'anger': 0, 'surprise': 0.00953292621406404, 'fear': 0.014057544302490925}\n",
        "19"
       ]
      },
      {
       "output_type": "stream",
       "stream": "stdout",
       "text": [
        " : dough : {'love': 0.008398724768875203, 'joy': 0, 'sadness': 0, 'anger': 0, 'surprise': 0.00953292621406404, 'fear': 0.01490635105930314}\n",
        "19"
       ]
      },
      {
       "output_type": "stream",
       "stream": "stdout",
       "text": [
        " : know : {'love': 0.015876348070763553, 'joy': 0, 'sadness': 0, 'anger': 0, 'surprise': 0.00953292621406404, 'fear': 0.01490635105930314}\n",
        "19"
       ]
      },
      {
       "output_type": "stream",
       "stream": "stdout",
       "text": [
        " : want : {'love': 0.027952908974810668, 'joy': 0, 'sadness': 0, 'anger': 0, 'surprise': 0.00953292621406404, 'fear': 0.01490635105930314}\n",
        "19"
       ]
      },
      {
       "output_type": "stream",
       "stream": "stdout",
       "text": [
        " : comin : {'love': 0.027952908974810668, 'joy': 0, 'sadness': 0, 'anger': 0, 'surprise': 0.00953292621406404, 'fear': 0.01490635105930314}\n",
        "19"
       ]
      },
      {
       "output_type": "stream",
       "stream": "stdout",
       "text": [
        " : harlem : {'love': 0.027952908974810668, 'joy': 0, 'sadness': 0, 'anger': 0, 'surprise': 0.00953292621406404, 'fear': 0.01490635105930314}\n",
        "19"
       ]
      },
      {
       "output_type": "stream",
       "stream": "stdout",
       "text": [
        " : come : {'love': 0.027952908974810668, 'joy': 0, 'sadness': 0, 'anger': 0, 'surprise': 0.00953292621406404, 'fear': 0.018798539132813572}\n",
        "19"
       ]
      },
      {
       "output_type": "stream",
       "stream": "stdout",
       "text": [
        " : across : {'love': 0.027952908974810668, 'joy': 0, 'sadness': 0, 'anger': 0, 'surprise': 0.00953292621406404, 'fear': 0.018798539132813572}\n",
        "19"
       ]
      },
      {
       "output_type": "stream",
       "stream": "stdout",
       "text": [
        " : goin : {'love': 0.027952908974810668, 'joy': 0, 'sadness': 0, 'anger': 0, 'surprise': 0.00953292621406404, 'fear': 0.018798539132813572}\n",
        "20"
       ]
      },
      {
       "output_type": "stream",
       "stream": "stdout",
       "text": [
        " : life : {'love': 0.015401492965451602, 'joy': 0, 'sadness': 0, 'anger': 0, 'surprise': 0, 'fear': 0}\n",
        "20"
       ]
      },
      {
       "output_type": "stream",
       "stream": "stdout",
       "text": [
        " : wise : {'love': 0.015401492965451602, 'joy': 0, 'sadness': 0, 'anger': 0, 'surprise': 0, 'fear': 0.011292669813702716}\n",
        "20"
       ]
      },
      {
       "output_type": "stream",
       "stream": "stdout",
       "text": [
        " : sobbin : {'love': 0.015401492965451602, 'joy': 0, 'sadness': 0, 'anger': 0, 'surprise': 0, 'fear': 0.011292669813702716}\n",
        "20"
       ]
      },
      {
       "output_type": "stream",
       "stream": "stdout",
       "text": [
        " : stricken : {'love': 0.015401492965451602, 'joy': 0, 'sadness': 0, 'anger': 0, 'surprise': 0, 'fear': 0.011292669813702716}\n",
        "20"
       ]
      },
      {
       "output_type": "stream",
       "stream": "stdout",
       "text": [
        " : die : {'love': 0.024944323649326083, 'joy': 0, 'sadness': 0, 'anger': 0, 'surprise': 0, 'fear': 0.011292669813702716}\n",
        "20"
       ]
      },
      {
       "output_type": "stream",
       "stream": "stdout",
       "text": [
        " : merely : {'love': 0.024944323649326083, 'joy': 0, 'sadness': 0, 'anger': 0, 'surprise': 0, 'fear': 0.018225267977769865}\n",
        "20"
       ]
      },
      {
       "output_type": "stream",
       "stream": "stdout",
       "text": [
        " : responsible : {'love': 0.024944323649326083, 'joy': 0, 'sadness': 0.005884926203859855, 'anger': 0, 'surprise': 0, 'fear': 0.018225267977769865}\n",
        "20"
       ]
      },
      {
       "output_type": "stream",
       "stream": "stdout",
       "text": [
        " : freshmen : {'love': 0.024944323649326083, 'joy': 0, 'sadness': 0.005884926203859855, 'anger': 0, 'surprise': 0.011425870612938082, 'fear': 0.018225267977769865}\n",
        "20"
       ]
      },
      {
       "output_type": "stream",
       "stream": "stdout",
       "text": [
        " : sins : {'love': 0.047433860668165725, 'joy': 0, 'sadness': 0.005884926203859855, 'anger': 0, 'surprise': 0.011425870612938082, 'fear': 0.018225267977769865}\n",
        "20"
       ]
      },
      {
       "output_type": "stream",
       "stream": "stdout",
       "text": [
        " : yeah : {'love': 0.047433860668165725, 'joy': 0, 'sadness': 0.005884926203859855, 'anger': 0, 'surprise': 0.011425870612938082, 'fear': 0.018225267977769865}\n",
        "20"
       ]
      },
      {
       "output_type": "stream",
       "stream": "stdout",
       "text": [
        " : held : {'love': 0.047433860668165725, 'joy': 0, 'sadness': 0.013143085460868557, 'anger': 0, 'surprise': 0.011425870612938082, 'fear': 0.018225267977769865}\n",
        "20"
       ]
      },
      {
       "output_type": "stream",
       "stream": "stdout",
       "text": [
        " : touching : {'love': 0.05608222178331487, 'joy': 0, 'sadness': 0.013143085460868557, 'anger': 0, 'surprise': 0.011425870612938082, 'fear': 0.018225267977769865}\n",
        "20"
       ]
      },
      {
       "output_type": "stream",
       "stream": "stdout",
       "text": [
        " : cannot : {'love': 0.05608222178331487, 'joy': 0, 'sadness': 0.013143085460868557, 'anger': 0, 'surprise': 0.020957743967299953, 'fear': 0.018225267977769865}\n",
        "20"
       ]
      },
      {
       "output_type": "stream",
       "stream": "stdout",
       "text": [
        " : compromise : {'love': 0.05608222178331487, 'joy': 0, 'sadness': 0.013143085460868557, 'anger': 0, 'surprise': 0.025884752897554687, 'fear': 0.018225267977769865}\n",
        "20"
       ]
      },
      {
       "output_type": "stream",
       "stream": "stdout",
       "text": [
        " : floor : {'love': 0.05608222178331487, 'joy': 0, 'sadness': 0.013143085460868557, 'anger': 0.0008573176602292795, 'surprise': 0.025884752897554687, 'fear': 0.018225267977769865}\n",
        "20"
       ]
      },
      {
       "output_type": "stream",
       "stream": "stdout",
       "text": [
        " : guilt : {'love': 0.05608222178331487, 'joy': 0, 'sadness': 0.04543701970658353, 'anger': 0.0008573176602292795, 'surprise': 0.025884752897554687, 'fear': 0.018225267977769865}\n",
        "20"
       ]
      },
      {
       "output_type": "stream",
       "stream": "stdout",
       "text": [
        " : first : {'love': 0.05608222178331487, 'joy': 0, 'sadness': 0.04543701970658353, 'anger': 0.0008573176602292795, 'surprise': 0.030444021299984816, 'fear': 0.018225267977769865}\n",
        "20"
       ]
      },
      {
       "output_type": "stream",
       "stream": "stdout",
       "text": [
        " : ever : {'love': 0.06743205864717368, 'joy': 0, 'sadness': 0.04543701970658353, 'anger': 0.0008573176602292795, 'surprise': 0.030444021299984816, 'fear': 0.018225267977769865}\n",
        "20"
       ]
      },
      {
       "output_type": "stream",
       "stream": "stdout",
       "text": [
        " : fell : {'love': 0.06743205864717368, 'joy': 0, 'sadness': 0.04543701970658353, 'anger': 0.0008573176602292795, 'surprise': 0.030444021299984816, 'fear': 0.023702789429236457}\n",
        "20"
       ]
      },
      {
       "output_type": "stream",
       "stream": "stdout",
       "text": [
        " : remember : {'love': 0.08026189308129865, 'joy': 0, 'sadness': 0.04543701970658353, 'anger': 0.0008573176602292795, 'surprise': 0.030444021299984816, 'fear': 0.023702789429236457}\n",
        "21"
       ]
      },
      {
       "output_type": "stream",
       "stream": "stdout",
       "text": [
        " : happens : {'love': 0, 'joy': 0, 'sadness': 0, 'anger': 0, 'surprise': 0.004404848382531389, 'fear': 0}\n",
        "21"
       ]
      },
      {
       "output_type": "stream",
       "stream": "stdout",
       "text": [
        " : ohh : {'love': 0.0, 'joy': 0, 'sadness': 0, 'anger': 0, 'surprise': 0.004404848382531389, 'fear': 0}\n",
        "21"
       ]
      },
      {
       "output_type": "stream",
       "stream": "stdout",
       "text": [
        " : human : {'love': 0.0, 'joy': 0, 'sadness': 0, 'anger': 0, 'surprise': 0.004404848382531389, 'fear': 0.001417604667499633}\n",
        "21"
       ]
      },
      {
       "output_type": "stream",
       "stream": "stdout",
       "text": [
        " : using : {'love': 0.0, 'joy': 0, 'sadness': 0.0025497171229768413, 'anger': 0, 'surprise': 0.004404848382531389, 'fear': 0.001417604667499633}\n",
        "21"
       ]
      },
      {
       "output_type": "stream",
       "stream": "stdout",
       "text": [
        " : die : {'love': 0.019727967279163598, 'joy': 0, 'sadness': 0.0025497171229768413, 'anger': 0, 'surprise': 0.004404848382531389, 'fear': 0.001417604667499633}\n",
        "21"
       ]
      },
      {
       "output_type": "stream",
       "stream": "stdout",
       "text": [
        " : ooh : {'love': 0.019727967279163598, 'joy': 0, 'sadness': 0.0025497171229768413, 'anger': 0, 'surprise': 0.004404848382531389, 'fear': 0.001417604667499633}\n",
        "21"
       ]
      },
      {
       "output_type": "stream",
       "stream": "stdout",
       "text": [
        " : know : {'love': 0.02865957288975246, 'joy': 0, 'sadness': 0.0025497171229768413, 'anger': 0, 'surprise': 0.004404848382531389, 'fear': 0.001417604667499633}\n",
        "21"
       ]
      },
      {
       "output_type": "stream",
       "stream": "stdout",
       "text": [
        " : face : {'love': 0.02865957288975246, 'joy': 0, 'sadness': 0.0025497171229768413, 'anger': 0, 'surprise': 0.009903368675111282, 'fear': 0.001417604667499633}\n",
        "21"
       ]
      },
      {
       "output_type": "stream",
       "stream": "stdout",
       "text": [
        " : crystal : {'love': 0.029735775421421317, 'joy': 0, 'sadness': 0.0025497171229768413, 'anger': 0, 'surprise': 0.009903368675111282, 'fear': 0.001417604667499633}\n",
        "21"
       ]
      },
      {
       "output_type": "stream",
       "stream": "stdout",
       "text": [
        " : base : {'love': 0.033054407005914846, 'joy': 0, 'sadness': 0.0025497171229768413, 'anger': 0, 'surprise': 0.009903368675111282, 'fear': 0.001417604667499633}\n",
        "21"
       ]
      },
      {
       "output_type": "stream",
       "stream": "stdout",
       "text": [
        " : cannonball : {'love': 0.033054407005914846, 'joy': 0, 'sadness': 0.0025497171229768413, 'anger': 0, 'surprise': 0.012693395755525685, 'fear': 0.001417604667499633}\n",
        "21"
       ]
      },
      {
       "output_type": "stream",
       "stream": "stdout",
       "text": [
        " : want : {'love': 0.05484288751811174, 'joy': 0, 'sadness': 0.0025497171229768413, 'anger': 0, 'surprise': 0.012693395755525685, 'fear': 0.001417604667499633}\n",
        "21"
       ]
      },
      {
       "output_type": "stream",
       "stream": "stdout",
       "text": [
        " : cherry : {'love': 0.0566030970097927, 'joy': 0, 'sadness': 0.0025497171229768413, 'anger': 0, 'surprise': 0.012693395755525685, 'fear': 0.001417604667499633}\n",
        "21"
       ]
      },
      {
       "output_type": "stream",
       "stream": "stdout",
       "text": [
        " : need : {'love': 0.0650188167847017, 'joy': 0, 'sadness': 0.0025497171229768413, 'anger': 0, 'surprise': 0.012693395755525685, 'fear': 0.001417604667499633}\n",
        "21"
       ]
      },
      {
       "output_type": "stream",
       "stream": "stdout",
       "text": [
        " : chic : {'love': 0.0650188167847017, 'joy': 0, 'sadness': 0.0025497171229768413, 'anger': 0, 'surprise': 0.012693395755525685, 'fear': 0.00202214457554372}\n",
        "21"
       ]
      },
      {
       "output_type": "stream",
       "stream": "stdout",
       "text": [
        " : bit : {'love': 0.0682425046433964, 'joy': 0, 'sadness': 0.0025497171229768413, 'anger': 0, 'surprise': 0.012693395755525685, 'fear': 0.00202214457554372}\n",
        "21"
       ]
      },
      {
       "output_type": "stream",
       "stream": "stdout",
       "text": [
        " : slightly : {'love': 0.0682425046433964, 'joy': 0, 'sadness': 0.0025497171229768413, 'anger': 0, 'surprise': 0.016134291951628243, 'fear': 0.00202214457554372}\n",
        "21"
       ]
      },
      {
       "output_type": "stream",
       "stream": "stdout",
       "text": [
        " : find : {'love': 0.0682425046433964, 'joy': 0, 'sadness': 0.0025497171229768413, 'anger': 0, 'surprise': 0.02907686477356253, 'fear': 0.00202214457554372}\n",
        "21"
       ]
      },
      {
       "output_type": "stream",
       "stream": "stdout",
       "text": [
        " : magenta : {'love': 0.07128598368566663, 'joy': 0, 'sadness': 0.0025497171229768413, 'anger': 0, 'surprise': 0.02907686477356253, 'fear': 0.00202214457554372}\n",
        "21"
       ]
      },
      {
       "output_type": "stream",
       "stream": "stdout",
       "text": [
        " : cola : {'love': 0.07128598368566663, 'joy': 0, 'sadness': 0.003684488842834045, 'anger': 0, 'surprise': 0.02907686477356253, 'fear': 0.00202214457554372}\n",
        "23"
       ]
      },
      {
       "output_type": "stream",
       "stream": "stdout",
       "text": [
        " : chorus : {'love': 0, 'joy': 0.006253206545569718, 'sadness': 0, 'anger': 0, 'surprise': 0, 'fear': 0}\n",
        "23"
       ]
      },
      {
       "output_type": "stream",
       "stream": "stdout",
       "text": [
        " : crazy : {'love': 0.010991508873614103, 'joy': 0.006253206545569718, 'sadness': 0, 'anger': 0, 'surprise': 0, 'fear': 0}\n",
        "23"
       ]
      },
      {
       "output_type": "stream",
       "stream": "stdout",
       "text": [
        " : holds : {'love': 0.010991508873614103, 'joy': 0.006253206545569718, 'sadness': 0.0035020813102896254, 'anger': 0, 'surprise': 0, 'fear': 0}\n",
        "23"
       ]
      },
      {
       "output_type": "stream",
       "stream": "stdout",
       "text": [
        " : love : {'love': 0.0714360291743365, 'joy': 0.006253206545569718, 'sadness': 0.0035020813102896254, 'anger': 0, 'surprise': 0, 'fear': 0}\n",
        "23"
       ]
      },
      {
       "output_type": "stream",
       "stream": "stdout",
       "text": [
        " : give : {'love': 0.07578386444550257, 'joy': 0.006253206545569718, 'sadness': 0.0035020813102896254, 'anger': 0, 'surprise': 0, 'fear': 0}\n",
        "23"
       ]
      },
      {
       "output_type": "stream",
       "stream": "stdout",
       "text": [
        " : everytime : {'love': 0.07578386444550257, 'joy': 0.006253206545569718, 'sadness': 0.0035020813102896254, 'anger': 0, 'surprise': 0, 'fear': 0}\n",
        "23"
       ]
      },
      {
       "output_type": "stream",
       "stream": "stdout",
       "text": [
        " : makes : {'love': 0.07578386444550257, 'joy': 0.006253206545569718, 'sadness': 0.0035020813102896254, 'anger': 0, 'surprise': 0.0012986244797338832, 'fear': 0}\n",
        "23"
       ]
      },
      {
       "output_type": "stream",
       "stream": "stdout",
       "text": [
        " : queen : {'love': 0.08397248062475672, 'joy': 0.006253206545569718, 'sadness': 0.0035020813102896254, 'anger': 0, 'surprise': 0.0012986244797338832, 'fear': 0}\n",
        "23"
       ]
      },
      {
       "output_type": "stream",
       "stream": "stdout",
       "text": [
        " : belong : {'love': 0.08397248062475672, 'joy': 0.006253206545569718, 'sadness': 0.0035020813102896254, 'anger': 0, 'surprise': 0.0012986244797338832, 'fear': 0}\n",
        "23"
       ]
      },
      {
       "output_type": "stream",
       "stream": "stdout",
       "text": [
        " : drives : {'love': 0.08397248062475672, 'joy': 0.006253206545569718, 'sadness': 0.0035020813102896254, 'anger': 0, 'surprise': 0.0012986244797338832, 'fear': 0.006272364778448983}\n",
        "23"
       ]
      },
      {
       "output_type": "stream",
       "stream": "stdout",
       "text": [
        " : cloudy : {'love': 0.08397248062475672, 'joy': 0.006253206545569718, 'sadness': 0.0035020813102896254, 'anger': 0, 'surprise': 0.0012986244797338832, 'fear': 0.006272364778448983}\n",
        "23"
       ]
      },
      {
       "output_type": "stream",
       "stream": "stdout",
       "text": [
        " : face : {'love': 0.08397248062475672, 'joy': 0.006253206545569718, 'sadness': 0.0035020813102896254, 'anger': 0, 'surprise': 0.011390026428468742, 'fear': 0.006272364778448983}\n",
        "23"
       ]
      },
      {
       "output_type": "stream",
       "stream": "stdout",
       "text": [
        " : oooooo : {'love': 0.08397248062475672, 'joy': 0.006253206545569718, 'sadness': 0.0035020813102896254, 'anger': 0, 'surprise': 0.011390026428468742, 'fear': 0.006272364778448983}\n",
        "23"
       ]
      },
      {
       "output_type": "stream",
       "stream": "stdout",
       "text": [
        " : mornin : {'love': 0.08397248062475672, 'joy': 0.006253206545569718, 'sadness': 0.0035020813102896254, 'anger': 0, 'surprise': 0.011390026428468742, 'fear': 0.006272364778448983}\n",
        "23"
       ]
      },
      {
       "output_type": "stream",
       "stream": "stdout",
       "text": [
        " : key : {'love': 0.08397248062475672, 'joy': 0.006253206545569718, 'sadness': 0.0035020813102896254, 'anger': 0, 'surprise': 0.014269470092218142, 'fear': 0.006272364778448983}\n",
        "23"
       ]
      },
      {
       "output_type": "stream",
       "stream": "stdout",
       "text": [
        " : baby : {'love': 0.096818680504434, 'joy': 0.006253206545569718, 'sadness': 0.0035020813102896254, 'anger': 0, 'surprise': 0.014269470092218142, 'fear': 0.006272364778448983}\n",
        "23"
       ]
      },
      {
       "output_type": "stream",
       "stream": "stdout",
       "text": [
        " : sing : {'love': 0.096818680504434, 'joy': 0.020878880369625895, 'sadness': 0.0035020813102896254, 'anger': 0, 'surprise': 0.014269470092218142, 'fear': 0.006272364778448983}\n",
        "23"
       ]
      },
      {
       "output_type": "stream",
       "stream": "stdout",
       "text": [
        " : lady : {'love': 0.10946277162572284, 'joy': 0.020878880369625895, 'sadness': 0.0035020813102896254, 'anger': 0, 'surprise': 0.014269470092218142, 'fear': 0.006272364778448983}\n",
        "23"
       ]
      },
      {
       "output_type": "stream",
       "stream": "stdout",
       "text": [
        " : aaaahhhhh : {'love': 0.10946277162572284, 'joy': 0.020878880369625895, 'sadness': 0.0035020813102896254, 'anger': 0, 'surprise': 0.014269470092218142, 'fear': 0.006272364778448983}\n",
        "23"
       ]
      },
      {
       "output_type": "stream",
       "stream": "stdout",
       "text": [
        " : boyfriend : {'love': 0.11888065455693277, 'joy': 0.020878880369625895, 'sadness': 0.0035020813102896254, 'anger': 0, 'surprise': 0.014269470092218142, 'fear': 0.006272364778448983}\n",
        "25"
       ]
      },
      {
       "output_type": "stream",
       "stream": "stdout",
       "text": [
        " : cos : {'love': 0.0, 'joy': 0, 'sadness': 0, 'anger': 0, 'surprise': 0, 'fear': 0}\n",
        "25"
       ]
      },
      {
       "output_type": "stream",
       "stream": "stdout",
       "text": [
        " : someone : {'love': 0.02834347866613437, 'joy': 0, 'sadness': 0, 'anger': 0, 'surprise': 0, 'fear': 0}\n",
        "25"
       ]
      },
      {
       "output_type": "stream",
       "stream": "stdout",
       "text": [
        " : thank : {'love': 0.02834347866613437, 'joy': 0, 'sadness': 0, 'anger': 0, 'surprise': 0.011481723634937043, 'fear': 0}\n",
        "25"
       ]
      },
      {
       "output_type": "stream",
       "stream": "stdout",
       "text": [
        " : got : {'love': 0.02834347866613437, 'joy': 0, 'sadness': 0, 'anger': 0.000224857906014329, 'surprise': 0.011481723634937043, 'fear': 0}\n",
        "25"
       ]
      },
      {
       "output_type": "stream",
       "stream": "stdout",
       "text": [
        " : pinch : {'love': 0.02834347866613437, 'joy': 0.0016085585151693151, 'sadness': 0, 'anger': 0.000224857906014329, 'surprise': 0.011481723634937043, 'fear': 0}\n",
        "25"
       ]
      },
      {
       "output_type": "stream",
       "stream": "stdout",
       "text": [
        " : time : {'love': 0.02834347866613437, 'joy': 0.0016085585151693151, 'sadness': 0, 'anger': 0.000224857906014329, 'surprise': 0.015437482785938659, 'fear': 0}\n",
        "25"
       ]
      },
      {
       "output_type": "stream",
       "stream": "stdout",
       "text": [
        " : eyes : {'love': 0.02834347866613437, 'joy': 0.0016085585151693151, 'sadness': 0, 'anger': 0.000224857906014329, 'surprise': 0.020570267732882078, 'fear': 0}\n",
        "25"
       ]
      },
      {
       "output_type": "stream",
       "stream": "stdout",
       "text": [
        " : long : {'love': 0.02834347866613437, 'joy': 0.0016085585151693151, 'sadness': 0, 'anger': 0.000224857906014329, 'surprise': 0.020570267732882078, 'fear': 0.004331479715990261}\n",
        "25"
       ]
      },
      {
       "output_type": "stream",
       "stream": "stdout",
       "text": [
        " : christmas : {'love': 0.02834347866613437, 'joy': 0.0016085585151693151, 'sadness': 0, 'anger': 0.000224857906014329, 'surprise': 0.020570267732882078, 'fear': 0.004331479715990261}\n",
        "25"
       ]
      },
      {
       "output_type": "stream",
       "stream": "stdout",
       "text": [
        " : feels : {'love': 0.02834347866613437, 'joy': 0.0016085585151693151, 'sadness': 0, 'anger': 0.000224857906014329, 'surprise': 0.020570267732882078, 'fear': 0.034779875910734066}\n",
        "25"
       ]
      },
      {
       "output_type": "stream",
       "stream": "stdout",
       "text": [
        " : every : {'love': 0.02834347866613437, 'joy': 0.0016085585151693151, 'sadness': 0, 'anger': 0.000224857906014329, 'surprise': 0.020570267732882078, 'fear': 0.034779875910734066}\n",
        "25"
       ]
      },
      {
       "output_type": "stream",
       "stream": "stdout",
       "text": [
        " : loves : {'love': 0.1130699596796931, 'joy': 0.0016085585151693151, 'sadness': 0, 'anger': 0.000224857906014329, 'surprise': 0.020570267732882078, 'fear': 0.034779875910734066}\n",
        "25"
       ]
      },
      {
       "output_type": "stream",
       "stream": "stdout",
       "text": [
        " : close : {'love': 0.1130699596796931, 'joy': 0.0016085585151693151, 'sadness': 0, 'anger': 0.000224857906014329, 'surprise': 0.022827932470021354, 'fear': 0.034779875910734066}\n",
        "25"
       ]
      },
      {
       "output_type": "stream",
       "stream": "stdout",
       "text": [
        " : lord : {'love': 0.1130699596796931, 'joy': 0.0016085585151693151, 'sadness': 0, 'anger': 0.000224857906014329, 'surprise': 0.022827932470021354, 'fear': 0.04057408499426295}\n",
        "25"
       ]
      },
      {
       "output_type": "stream",
       "stream": "stdout",
       "text": [
        " : yes : {'love': 0.1130699596796931, 'joy': 0.0016085585151693151, 'sadness': 0, 'anger': 0.000224857906014329, 'surprise': 0.022827932470021354, 'fear': 0.04057408499426295}\n",
        "25"
       ]
      },
      {
       "output_type": "stream",
       "stream": "stdout",
       "text": [
        " : believe : {'love': 0.1130699596796931, 'joy': 0.0016085585151693151, 'sadness': 0, 'anger': 0.000224857906014329, 'surprise': 0.022827932470021354, 'fear': 0.05006285253664302}\n",
        "25"
       ]
      },
      {
       "output_type": "stream",
       "stream": "stdout",
       "text": [
        " : true : {'love': 0.12832788559256714, 'joy': 0.0016085585151693151, 'sadness': 0, 'anger': 0.000224857906014329, 'surprise': 0.022827932470021354, 'fear': 0.05006285253664302}\n",
        "25"
       ]
      },
      {
       "output_type": "stream",
       "stream": "stdout",
       "text": [
        " : think : {'love': 0.1379511538732922, 'joy': 0.0016085585151693151, 'sadness': 0, 'anger': 0.000224857906014329, 'surprise': 0.022827932470021354, 'fear': 0.05006285253664302}\n",
        "25"
       ]
      },
      {
       "output_type": "stream",
       "stream": "stdout",
       "text": [
        " : ought : {'love': 0.1379511538732922, 'joy': 0.0016085585151693151, 'sadness': 0, 'anger': 0.000224857906014329, 'surprise': 0.022827932470021354, 'fear': 0.05006285253664302}\n",
        "25"
       ]
      },
      {
       "output_type": "stream",
       "stream": "stdout",
       "text": [
        " : like : {'love': 0.1379511538732922, 'joy': 0.0016085585151693151, 'sadness': 0, 'anger': 0.000224857906014329, 'surprise': 0.022827932470021354, 'fear': 0.05006285253664302}\n",
        "26"
       ]
      },
      {
       "output_type": "stream",
       "stream": "stdout",
       "text": [
        " : fool : {'love': 0.004014275973356931, 'joy': 0, 'sadness': 0, 'anger': 0, 'surprise': 0, 'fear': 0}\n",
        "26"
       ]
      },
      {
       "output_type": "stream",
       "stream": "stdout",
       "text": [
        " : head : {'love': 0.004014275973356931, 'joy': 0, 'sadness': 0, 'anger': 0, 'surprise': 0.0039783578557413, 'fear': 0}\n",
        "26"
       ]
      },
      {
       "output_type": "stream",
       "stream": "stdout",
       "text": [
        " : somebody : {'love': 0.05021715713065837, 'joy': 0, 'sadness': 0, 'anger': 0, 'surprise': 0.0039783578557413, 'fear': 0}\n",
        "26"
       ]
      },
      {
       "output_type": "stream",
       "stream": "stdout",
       "text": [
        " : name : {'love': 0.051534717389462324, 'joy': 0, 'sadness': 0, 'anger': 0, 'surprise': 0.0039783578557413, 'fear': 0}\n",
        "26"
       ]
      },
      {
       "output_type": "stream",
       "stream": "stdout",
       "text": [
        " : call : {'love': 0.05610980298521578, 'joy': 0, 'sadness': 0, 'anger': 0, 'surprise': 0.0039783578557413, 'fear': 0}\n",
        "26"
       ]
      },
      {
       "output_type": "stream",
       "stream": "stdout",
       "text": [
        " : taking : {'love': 0.05610980298521578, 'joy': 0, 'sadness': 0, 'anger': 0, 'surprise': 0.0039783578557413, 'fear': 0}\n",
        "26"
       ]
      },
      {
       "output_type": "stream",
       "stream": "stdout",
       "text": [
        " : walk : {'love': 0.05610980298521578, 'joy': 0, 'sadness': 0, 'anger': 0, 'surprise': 0.0039783578557413, 'fear': 0.002254320555141136}\n",
        "26"
       ]
      },
      {
       "output_type": "stream",
       "stream": "stdout",
       "text": [
        " : cuz : {'love': 0.05610980298521578, 'joy': 0, 'sadness': 0, 'anger': 0, 'surprise': 0.0039783578557413, 'fear': 0.002254320555141136}\n",
        "26"
       ]
      },
      {
       "output_type": "stream",
       "stream": "stdout",
       "text": [
        " : bed : {'love': 0.05610980298521578, 'joy': 0, 'sadness': 0, 'anger': 0, 'surprise': 0.012114932234560644, 'fear': 0.002254320555141136}\n",
        "26"
       ]
      },
      {
       "output_type": "stream",
       "stream": "stdout",
       "text": [
        " : messin : {'love': 0.05610980298521578, 'joy': 0, 'sadness': 0, 'anger': 0, 'surprise': 0.012114932234560644, 'fear': 0.002254320555141136}\n",
        "26"
       ]
      },
      {
       "output_type": "stream",
       "stream": "stdout",
       "text": [
        " : chorus : {'love': 0.05610980298521578, 'joy': 0.00517716775688402, 'sadness': 0, 'anger': 0, 'surprise': 0.012114932234560644, 'fear': 0.002254320555141136}\n",
        "26"
       ]
      },
      {
       "output_type": "stream",
       "stream": "stdout",
       "text": [
        " : wrong : {'love': 0.05610980298521578, 'joy': 0.00517716775688402, 'sadness': 0, 'anger': 0.003952227680051635, 'surprise': 0.012114932234560644, 'fear': 0.002254320555141136}\n",
        "26"
       ]
      },
      {
       "output_type": "stream",
       "stream": "stdout",
       "text": [
        " : place : {'love': 0.05710293431542834, 'joy': 0.00517716775688402, 'sadness': 0, 'anger': 0.003952227680051635, 'surprise': 0.012114932234560644, 'fear': 0.002254320555141136}\n",
        "26"
       ]
      },
      {
       "output_type": "stream",
       "stream": "stdout",
       "text": [
        " : baby : {'love': 0.06419336931395152, 'joy': 0.00517716775688402, 'sadness': 0, 'anger': 0.003952227680051635, 'surprise': 0.012114932234560644, 'fear': 0.002254320555141136}\n",
        "26"
       ]
      },
      {
       "output_type": "stream",
       "stream": "stdout",
       "text": [
        " : babe : {'love': 0.06645673556387913, 'joy': 0.00517716775688402, 'sadness': 0, 'anger': 0.003952227680051635, 'surprise': 0.012114932234560644, 'fear': 0.002254320555141136}\n",
        "26"
       ]
      },
      {
       "output_type": "stream",
       "stream": "stdout",
       "text": [
        " : yes : {'love': 0.06645673556387913, 'joy': 0.00517716775688402, 'sadness': 0, 'anger': 0.003952227680051635, 'surprise': 0.012114932234560644, 'fear': 0.002254320555141136}\n",
        "26"
       ]
      },
      {
       "output_type": "stream",
       "stream": "stdout",
       "text": [
        " : sleeping : {'love': 0.06645673556387913, 'joy': 0.00517716775688402, 'sadness': 0, 'anger': 0.003952227680051635, 'surprise': 0.021570180828677007, 'fear': 0.002254320555141136}\n",
        "26"
       ]
      },
      {
       "output_type": "stream",
       "stream": "stdout",
       "text": [
        " : takin : {'love': 0.06645673556387913, 'joy': 0.00517716775688402, 'sadness': 0, 'anger': 0.003952227680051635, 'surprise': 0.021570180828677007, 'fear': 0.002254320555141136}\n",
        "26"
       ]
      },
      {
       "output_type": "stream",
       "stream": "stdout",
       "text": [
        " : hope : {'love': 0.06645673556387913, 'joy': 0.00517716775688402, 'sadness': 0, 'anger': 0.003952227680051635, 'surprise': 0.021570180828677007, 'fear': 0.007983302558204206}\n",
        "26"
       ]
      },
      {
       "output_type": "stream",
       "stream": "stdout",
       "text": [
        " : gave : {'love': 0.06951934468294321, 'joy': 0.00517716775688402, 'sadness': 0, 'anger': 0.003952227680051635, 'surprise': 0.021570180828677007, 'fear': 0.007983302558204206}\n",
        "28"
       ]
      },
      {
       "output_type": "stream",
       "stream": "stdout",
       "text": [
        " : baby : {'love': 0.005459634948862845, 'joy': 0, 'sadness': 0, 'anger': 0, 'surprise': 0, 'fear': 0}\n",
        "28"
       ]
      },
      {
       "output_type": "stream",
       "stream": "stdout",
       "text": [
        " : given : {'love': 0.008082890171276115, 'joy': 0, 'sadness': 0, 'anger': 0, 'surprise': 0, 'fear': 0}\n",
        "28"
       ]
      },
      {
       "output_type": "stream",
       "stream": "stdout",
       "text": [
        " : right : {'love': 0.008082890171276115, 'joy': 0, 'sadness': 0, 'anger': 0, 'surprise': 0, 'fear': 0.0022230102368877326}\n",
        "28"
       ]
      },
      {
       "output_type": "stream",
       "stream": "stdout",
       "text": [
        " : love : {'love': 0.05505691737640895, 'joy': 0, 'sadness': 0, 'anger': 0, 'surprise': 0, 'fear': 0.0022230102368877326}\n",
        "28"
       ]
      },
      {
       "output_type": "stream",
       "stream": "stdout",
       "text": [
        " : takes : {'love': 0.05505691737640895, 'joy': 0, 'sadness': 0, 'anger': 0, 'surprise': 0, 'fear': 0.0022230102368877326}\n",
        "28"
       ]
      },
      {
       "output_type": "stream",
       "stream": "stdout",
       "text": [
        " : always : {'love': 0.06902920368629305, 'joy': 0, 'sadness': 0, 'anger': 0, 'surprise': 0, 'fear': 0.0022230102368877326}\n",
        "28"
       ]
      },
      {
       "output_type": "stream",
       "stream": "stdout",
       "text": [
        " : cheap : {'love': 0.06902920368629305, 'joy': 0.0038522508705802496, 'sadness': 0, 'anger': 0, 'surprise': 0, 'fear': 0.0022230102368877326}\n",
        "28"
       ]
      },
      {
       "output_type": "stream",
       "stream": "stdout",
       "text": [
        " : yeah : {'love': 0.06902920368629305, 'joy': 0.0038522508705802496, 'sadness': 0, 'anger': 0, 'surprise': 0, 'fear': 0.0022230102368877326}\n",
        "28"
       ]
      },
      {
       "output_type": "stream",
       "stream": "stdout",
       "text": [
        " : around : {'love': 0.06902920368629305, 'joy': 0.0038522508705802496, 'sadness': 0, 'anger': 0, 'surprise': 0, 'fear': 0.0022230102368877326}\n",
        "28"
       ]
      },
      {
       "output_type": "stream",
       "stream": "stdout",
       "text": [
        " : echo : {'love': 0.06902920368629305, 'joy': 0.0038522508705802496, 'sadness': 0.0010304893537645685, 'anger': 0, 'surprise': 0, 'fear': 0.0022230102368877326}\n",
        "28"
       ]
      },
      {
       "output_type": "stream",
       "stream": "stdout",
       "text": [
        " : lies : {'love': 0.06902920368629305, 'joy': 0.0038522508705802496, 'sadness': 0.0010304893537645685, 'anger': 0, 'surprise': 0, 'fear': 0.004306035272197134}\n",
        "28"
       ]
      },
      {
       "output_type": "stream",
       "stream": "stdout",
       "text": [
        " : sure : {'love': 0.07173483031868279, 'joy': 0.0038522508705802496, 'sadness': 0.0010304893537645685, 'anger': 0, 'surprise': 0, 'fear': 0.004306035272197134}\n",
        "28"
       ]
      },
      {
       "output_type": "stream",
       "stream": "stdout",
       "text": [
        " : know : {'love': 0.09574298619994566, 'joy': 0.0038522508705802496, 'sadness': 0.0010304893537645685, 'anger': 0, 'surprise': 0, 'fear': 0.004306035272197134}\n",
        "28"
       ]
      },
      {
       "output_type": "stream",
       "stream": "stdout",
       "text": [
        " : got : {'love': 0.09574298619994566, 'joy': 0.0038522508705802496, 'sadness': 0.0010304893537645685, 'anger': 0.0001379128490221218, 'surprise': 0, 'fear': 0.004306035272197134}\n",
        "28"
       ]
      },
      {
       "output_type": "stream",
       "stream": "stdout",
       "text": [
        " : buried : {'love': 0.09574298619994566, 'joy': 0.0038522508705802496, 'sadness': 0.004255351327286027, 'anger': 0.0001379128490221218, 'surprise': 0, 'fear': 0.004306035272197134}\n",
        "Error in getting similarity for"
       ]
      },
      {
       "output_type": "stream",
       "stream": "stdout",
       "text": [
        " ight and fear\n",
        "28 : ight : {'love': 0.09574298619994566, 'joy': 0.0038522508705802496, 'sadness': 0.004255351327286027, 'anger': 0.0001379128490221218, 'surprise': 0, 'fear': 0.004306035272197134}\n",
        "28"
       ]
      },
      {
       "output_type": "stream",
       "stream": "stdout",
       "text": [
        " : unto : {'love': 0.09574298619994566, 'joy': 0.0038522508705802496, 'sadness': 0.004255351327286027, 'anger': 0.0001379128490221218, 'surprise': 0, 'fear': 0.004306035272197134}\n",
        "28"
       ]
      },
      {
       "output_type": "stream",
       "stream": "stdout",
       "text": [
        " : waste : {'love': 0.09574298619994566, 'joy': 0.0038522508705802496, 'sadness': 0.007595344951611841, 'anger': 0.0001379128490221218, 'surprise': 0, 'fear': 0.004306035272197134}\n",
        "28"
       ]
      },
      {
       "output_type": "stream",
       "stream": "stdout",
       "text": [
        " : talk : {'love': 0.10160752643436909, 'joy': 0.0038522508705802496, 'sadness': 0.007595344951611841, 'anger': 0.0001379128490221218, 'surprise': 0, 'fear': 0.004306035272197134}\n",
        "28"
       ]
      },
      {
       "output_type": "stream",
       "stream": "stdout",
       "text": [
        " : guarantee : {'love': 0.10160752643436909, 'joy': 0.0038522508705802496, 'sadness': 0.007595344951611841, 'anger': 0.0001379128490221218, 'surprise': 0.004371932698050424, 'fear': 0.004306035272197134}\n",
        "29"
       ]
      },
      {
       "output_type": "stream",
       "stream": "stdout",
       "text": [
        " : drifts : {'love': 0.0, 'joy': 0, 'sadness': 0, 'anger': 0, 'surprise': 0, 'fear': 0}\n",
        "Error in getting similarity for"
       ]
      },
      {
       "output_type": "stream",
       "stream": "stdout",
       "text": [
        " chills and surprise\n",
        "29"
       ]
      },
      {
       "output_type": "stream",
       "stream": "stdout",
       "text": [
        " : chills : {'love': 0.0, 'joy': 0, 'sadness': 0, 'anger': 0, 'surprise': 0, 'fear': 0.024256119297471845}\n",
        "29"
       ]
      },
      {
       "output_type": "stream",
       "stream": "stdout",
       "text": [
        " : hots : {'love': 0.0, 'joy': 0, 'sadness': 0, 'anger': 0, 'surprise': 0, 'fear': 0.024256119297471845}\n",
        "29"
       ]
      },
      {
       "output_type": "stream",
       "stream": "stdout",
       "text": [
        " : lilac : {'love': 0.0, 'joy': 0, 'sadness': 0, 'anger': 0, 'surprise': 0.004112874004340673, 'fear': 0.024256119297471845}\n",
        "29"
       ]
      },
      {
       "output_type": "stream",
       "stream": "stdout",
       "text": [
        " : sheds : {'love': 0.0066670890850624, 'joy': 0, 'sadness': 0, 'anger': 0, 'surprise': 0.004112874004340673, 'fear': 0.024256119297471845}\n",
        "29"
       ]
      },
      {
       "output_type": "stream",
       "stream": "stdout",
       "text": [
        " : leaves : {'love': 0.0066670890850624, 'joy': 0, 'sadness': 0, 'anger': 0, 'surprise': 0.004112874004340673, 'fear': 0.035116867538233024}\n",
        "29"
       ]
      },
      {
       "output_type": "stream",
       "stream": "stdout",
       "text": [
        " : mistletoe : {'love': 0.0066670890850624, 'joy': 0, 'sadness': 0, 'anger': 0, 'surprise': 0.004112874004340673, 'fear': 0.03749714066608449}\n",
        "29"
       ]
      },
      {
       "output_type": "stream",
       "stream": "stdout",
       "text": [
        " : trees : {'love': 0.0066670890850624, 'joy': 0, 'sadness': 0.0024934596286604336, 'anger': 0, 'surprise': 0.004112874004340673, 'fear': 0.03749714066608449}\n",
        "29"
       ]
      },
      {
       "output_type": "stream",
       "stream": "stdout",
       "text": [
        " : perfume : {'love': 0.0066670890850624, 'joy': 0, 'sadness': 0.0024934596286604336, 'anger': 0, 'surprise': 0.007032667142764046, 'fear': 0.03749714066608449}\n",
        "29"
       ]
      },
      {
       "output_type": "stream",
       "stream": "stdout",
       "text": [
        " : autumn : {'love': 0.0066670890850624, 'joy': 0, 'sadness': 0.008475659011974147, 'anger': 0, 'surprise': 0.007032667142764046, 'fear': 0.03749714066608449}\n",
        "29"
       ]
      },
      {
       "output_type": "stream",
       "stream": "stdout",
       "text": [
        " : reminds : {'love': 0.013010416013710628, 'joy': 0, 'sadness': 0.008475659011974147, 'anger': 0, 'surprise': 0.007032667142764046, 'fear': 0.03749714066608449}\n",
        "29"
       ]
      },
      {
       "output_type": "stream",
       "stream": "stdout",
       "text": [
        " : breeze : {'love': 0.013010416013710628, 'joy': 0, 'sadness': 0.013387512599757291, 'anger': 0, 'surprise': 0.007032667142764046, 'fear': 0.03749714066608449}\n",
        "29"
       ]
      },
      {
       "output_type": "stream",
       "stream": "stdout",
       "text": [
        " : bare : {'love': 0.013010416013710628, 'joy': 0, 'sadness': 0.013387512599757291, 'anger': 0, 'surprise': 0.008603439059478257, 'fear': 0.03749714066608449}\n",
        "29"
       ]
      },
      {
       "output_type": "stream",
       "stream": "stdout",
       "text": [
        " : doesn : {'love': 0.013010416013710628, 'joy': 0, 'sadness': 0.013387512599757291, 'anger': 0, 'surprise': 0.008603439059478257, 'fear': 0.03749714066608449}\n",
        "29"
       ]
      },
      {
       "output_type": "stream",
       "stream": "stdout",
       "text": [
        " : imagine : {'love': 0.013010416013710628, 'joy': 0, 'sadness': 0.013387512599757291, 'anger': 0, 'surprise': 0.01708334995273278, 'fear': 0.03749714066608449}\n",
        "29"
       ]
      },
      {
       "output_type": "stream",
       "stream": "stdout",
       "text": [
        " : seasons : {'love': 0.013010416013710628, 'joy': 0.005496179211326126, 'sadness': 0.013387512599757291, 'anger': 0, 'surprise': 0.01708334995273278, 'fear': 0.03749714066608449}\n",
        "29"
       ]
      },
      {
       "output_type": "stream",
       "stream": "stdout",
       "text": [
        " : kissing : {'love': 0.024788822562372487, 'joy': 0.005496179211326126, 'sadness': 0.013387512599757291, 'anger': 0, 'surprise': 0.01708334995273278, 'fear': 0.03749714066608449}\n",
        "29"
       ]
      },
      {
       "output_type": "stream",
       "stream": "stdout",
       "text": [
        " : skinny : {'love': 0.027081656556374234, 'joy': 0.005496179211326126, 'sadness': 0.013387512599757291, 'anger': 0, 'surprise': 0.01708334995273278, 'fear': 0.03749714066608449}\n",
        "29"
       ]
      },
      {
       "output_type": "stream",
       "stream": "stdout",
       "text": [
        " : burns : {'love': 0.027081656556374234, 'joy': 0.005496179211326126, 'sadness': 0.013387512599757291, 'anger': 0.0050548622636375955, 'surprise': 0.01708334995273278, 'fear': 0.03749714066608449}\n",
        "29"
       ]
      },
      {
       "output_type": "stream",
       "stream": "stdout",
       "text": [
        " : blooms : {'love': 0.027081656556374234, 'joy': 0.005496179211326126, 'sadness': 0.013387512599757291, 'anger': 0.0050548622636375955, 'surprise': 0.02259183683025749, 'fear': 0.03749714066608449}\n",
        "30"
       ]
      },
      {
       "output_type": "stream",
       "stream": "stdout",
       "text": [
        " : going : {'love': 0.006285365177657099, 'joy': 0, 'sadness': 0, 'anger': 0, 'surprise': 0, 'fear': 0}\n",
        "30"
       ]
      },
      {
       "output_type": "stream",
       "stream": "stdout",
       "text": [
        " : cos : {'love': 0.006285365177657099, 'joy': 0, 'sadness': 0, 'anger': 0, 'surprise': 0, 'fear': 0}\n",
        "30"
       ]
      },
      {
       "output_type": "stream",
       "stream": "stdout",
       "text": [
        " : someone : {'love': 0.03487747084963475, 'joy': 0, 'sadness': 0, 'anger': 0, 'surprise': 0, 'fear': 0}\n",
        "30"
       ]
      },
      {
       "output_type": "stream",
       "stream": "stdout",
       "text": [
        " : letters : {'love': 0.03487747084963475, 'joy': 0, 'sadness': 0, 'anger': 0, 'surprise': 0.002222966548025876, 'fear': 0}\n",
        "30"
       ]
      },
      {
       "output_type": "stream",
       "stream": "stdout",
       "text": [
        " : seeking : {'love': 0.03487747084963475, 'joy': 0, 'sadness': 0, 'anger': 0, 'surprise': 0.002222966548025876, 'fear': 0.006337903642903178}\n",
        "30"
       ]
      },
      {
       "output_type": "stream",
       "stream": "stdout",
       "text": [
        " : sittin : {'love': 0.03487747084963475, 'joy': 0, 'sadness': 0, 'anger': 0, 'surprise': 0.002222966548025876, 'fear': 0.006337903642903178}\n",
        "30"
       ]
      },
      {
       "output_type": "stream",
       "stream": "stdout",
       "text": [
        " : jeans : {'love': 0.03487747084963475, 'joy': 0, 'sadness': 0, 'anger': 0, 'surprise': 0.002222966548025876, 'fear': 0.006337903642903178}\n",
        "30"
       ]
      },
      {
       "output_type": "stream",
       "stream": "stdout",
       "text": [
        " : else : {'love': 0.03487747084963475, 'joy': 0, 'sadness': 0, 'anger': 0, 'surprise': 0.002222966548025876, 'fear': 0.006337903642903178}\n",
        "30"
       ]
      },
      {
       "output_type": "stream",
       "stream": "stdout",
       "text": [
        " : better : {'love': 0.0453822754794731, 'joy': 0, 'sadness': 0, 'anger': 0, 'surprise': 0.002222966548025876, 'fear': 0.006337903642903178}\n",
        "30"
       ]
      },
      {
       "output_type": "stream",
       "stream": "stdout",
       "text": [
        " : talking : {'love': 0.05641801590100853, 'joy': 0, 'sadness': 0, 'anger': 0, 'surprise': 0.002222966548025876, 'fear': 0.006337903642903178}\n",
        "30"
       ]
      },
      {
       "output_type": "stream",
       "stream": "stdout",
       "text": [
        " : finding : {'love': 0.05641801590100853, 'joy': 0, 'sadness': 0, 'anger': 0, 'surprise': 0.006577243668998041, 'fear': 0.006337903642903178}\n",
        "30"
       ]
      },
      {
       "output_type": "stream",
       "stream": "stdout",
       "text": [
        " : obvious : {'love': 0.05641801590100853, 'joy': 0, 'sadness': 0, 'anger': 0, 'surprise': 0.01358578552127431, 'fear': 0.006337903642903178}\n",
        "30"
       ]
      },
      {
       "output_type": "stream",
       "stream": "stdout",
       "text": [
        " : rent : {'love': 0.05641801590100853, 'joy': 0.004130144215152259, 'sadness': 0, 'anger': 0, 'surprise': 0.01358578552127431, 'fear': 0.006337903642903178}\n",
        "30"
       ]
      },
      {
       "output_type": "stream",
       "stream": "stdout",
       "text": [
        " : vitals : {'love': 0.05641801590100853, 'joy': 0.004130144215152259, 'sadness': 0, 'anger': 0, 'surprise': 0.01358578552127431, 'fear': 0.006337903642903178}\n",
        "30"
       ]
      },
      {
       "output_type": "stream",
       "stream": "stdout",
       "text": [
        " : telling : {'love': 0.05641801590100853, 'joy': 0.004130144215152259, 'sadness': 0, 'anger': 0, 'surprise': 0.024921545969347897, 'fear': 0.006337903642903178}\n",
        "30"
       ]
      },
      {
       "output_type": "stream",
       "stream": "stdout",
       "text": [
        " : stares : {'love': 0.05641801590100853, 'joy': 0.004130144215152259, 'sadness': 0, 'anger': 0, 'surprise': 0.033126534061794805, 'fear': 0.006337903642903178}\n",
        "30"
       ]
      },
      {
       "output_type": "stream",
       "stream": "stdout",
       "text": [
        " : lately : {'love': 0.05641801590100853, 'joy': 0.004130144215152259, 'sadness': 0, 'anger': 0, 'surprise': 0.04123278609356723, 'fear': 0.006337903642903178}\n",
        "30"
       ]
      },
      {
       "output_type": "stream",
       "stream": "stdout",
       "text": [
        " : alone : {'love': 0.05641801590100853, 'joy': 0.004130144215152259, 'sadness': 0, 'anger': 0, 'surprise': 0.04123278609356723, 'fear': 0.009831543015281392}\n",
        "30"
       ]
      },
      {
       "output_type": "stream",
       "stream": "stdout",
       "text": [
        " : lying : {'love': 0.05641801590100853, 'joy': 0.004130144215152259, 'sadness': 0, 'anger': 0, 'surprise': 0.04123278609356723, 'fear': 0.012282312002038928}\n",
        "30"
       ]
      },
      {
       "output_type": "stream",
       "stream": "stdout",
       "text": [
        " : staring : {'love': 0.05641801590100853, 'joy': 0.004130144215152259, 'sadness': 0, 'anger': 0, 'surprise': 0.04943777418601414, 'fear': 0.012282312002038928}\n",
        "31"
       ]
      },
      {
       "output_type": "stream",
       "stream": "stdout",
       "text": [
        " : mariah : {'love': 0.0, 'joy': 0, 'sadness': 0, 'anger': 0, 'surprise': 0, 'fear': 0}\n",
        "31"
       ]
      },
      {
       "output_type": "stream",
       "stream": "stdout",
       "text": [
        " : harlem : {'love': 0.0, 'joy': 0, 'sadness': 0, 'anger': 0, 'surprise': 0, 'fear': 0}\n",
        "31"
       ]
      },
      {
       "output_type": "stream",
       "stream": "stdout",
       "text": [
        " : another : {'love': 0.0, 'joy': 0, 'sadness': 0, 'anger': 0, 'surprise': 0, 'fear': 0}\n",
        "31"
       ]
      },
      {
       "output_type": "stream",
       "stream": "stdout",
       "text": [
        " : dying : {'love': 0.013605180915723238, 'joy': 0, 'sadness': 0, 'anger': 0, 'surprise': 0, 'fear': 0}\n",
        "31"
       ]
      },
      {
       "output_type": "stream",
       "stream": "stdout",
       "text": [
        " : dependency : {'love': 0.013605180915723238, 'joy': 0, 'sadness': 0, 'anger': 0, 'surprise': 0, 'fear': 0.002033280078755556}\n",
        "31"
       ]
      },
      {
       "output_type": "stream",
       "stream": "stdout",
       "text": [
        " : taste : {'love': 0.013605180915723238, 'joy': 0, 'sadness': 0, 'anger': 0, 'surprise': 0.008882813809291798, 'fear': 0.002033280078755556}\n",
        "31"
       ]
      },
      {
       "output_type": "stream",
       "stream": "stdout",
       "text": [
        " : sweet : {'love': 0.013605180915723238, 'joy': 0.004395380864480501, 'sadness': 0, 'anger': 0, 'surprise': 0.008882813809291798, 'fear': 0.002033280078755556}\n",
        "31"
       ]
      },
      {
       "output_type": "stream",
       "stream": "stdout",
       "text": [
        " : describe : {'love': 0.013605180915723238, 'joy': 0.007915214691205943, 'sadness': 0, 'anger': 0, 'surprise': 0.008882813809291798, 'fear': 0.002033280078755556}\n",
        "31"
       ]
      },
      {
       "output_type": "stream",
       "stream": "stdout",
       "text": [
        " : sugar : {'love': 0.017977250168593455, 'joy': 0.007915214691205943, 'sadness': 0, 'anger': 0, 'surprise': 0.008882813809291798, 'fear': 0.002033280078755556}\n",
        "31"
       ]
      },
      {
       "output_type": "stream",
       "stream": "stdout",
       "text": [
        " : honey : {'love': 0.017977250168593455, 'joy': 0.007915214691205943, 'sadness': 0.011651153964662935, 'anger': 0, 'surprise': 0.008882813809291798, 'fear': 0.002033280078755556}\n",
        "31"
       ]
      },
      {
       "output_type": "stream",
       "stream": "stdout",
       "text": [
        " : strung : {'love': 0.017977250168593455, 'joy': 0.007915214691205943, 'sadness': 0.01582989328600599, 'anger': 0, 'surprise': 0.008882813809291798, 'fear': 0.002033280078755556}\n",
        "31"
       ]
      },
      {
       "output_type": "stream",
       "stream": "stdout",
       "text": [
        " : adore : {'love': 0.08739683552694272, 'joy': 0.007915214691205943, 'sadness': 0.01582989328600599, 'anger': 0, 'surprise': 0.008882813809291798, 'fear': 0.002033280078755556}\n",
        "31"
       ]
      },
      {
       "output_type": "stream",
       "stream": "stdout",
       "text": [
        " : mon : {'love': 0.08739683552694272, 'joy': 0.007915214691205943, 'sadness': 0.01582989328600599, 'anger': 0, 'surprise': 0.008882813809291798, 'fear': 0.002033280078755556}\n",
        "31"
       ]
      },
      {
       "output_type": "stream",
       "stream": "stdout",
       "text": [
        " : crying : {'love': 0.08739683552694272, 'joy': 0.026421298190925372, 'sadness': 0.01582989328600599, 'anger': 0, 'surprise': 0.008882813809291798, 'fear': 0.002033280078755556}\n",
        "31"
       ]
      },
      {
       "output_type": "stream",
       "stream": "stdout",
       "text": [
        " : addicted : {'love': 0.09949266854950309, 'joy': 0.026421298190925372, 'sadness': 0.01582989328600599, 'anger': 0, 'surprise': 0.008882813809291798, 'fear': 0.002033280078755556}\n",
        "31"
       ]
      },
      {
       "output_type": "stream",
       "stream": "stdout",
       "text": [
        " : every : {'love': 0.09949266854950309, 'joy': 0.026421298190925372, 'sadness': 0.01582989328600599, 'anger': 0, 'surprise': 0.008882813809291798, 'fear': 0.002033280078755556}\n",
        "31"
       ]
      },
      {
       "output_type": "stream",
       "stream": "stdout",
       "text": [
        " : darling : {'love': 0.11121954364249978, 'joy': 0.026421298190925372, 'sadness': 0.01582989328600599, 'anger': 0, 'surprise': 0.008882813809291798, 'fear': 0.002033280078755556}\n",
        "Error in getting similarity for"
       ]
      },
      {
       "output_type": "stream",
       "stream": "stdout",
       "text": [
        " washes and fear\n",
        "31 : washes : {'love': 0.11483143975578847, 'joy': 0.026421298190925372, 'sadness': 0.01582989328600599, 'anger': 0, 'surprise': 0.008882813809291798, 'fear': 0.002033280078755556}\n",
        "31"
       ]
      },
      {
       "output_type": "stream",
       "stream": "stdout",
       "text": [
        " : hardly : {'love': 0.11483143975578847, 'joy': 0.026421298190925372, 'sadness': 0.01582989328600599, 'anger': 0, 'surprise': 0.008882813809291798, 'fear': 0.011473676896441352}\n",
        "31"
       ]
      },
      {
       "output_type": "stream",
       "stream": "stdout",
       "text": [
        " : wait : {'love': 0.11483143975578847, 'joy': 0.026421298190925372, 'sadness': 0.01582989328600599, 'anger': 0, 'surprise': 0.01297238670592602, 'fear': 0.011473676896441352}\n",
        "32"
       ]
      },
      {
       "output_type": "stream",
       "stream": "stdout",
       "text": [
        " : fool : {'love': 0.007448174697553824, 'joy': 0, 'sadness': 0, 'anger': 0, 'surprise': 0, 'fear': 0}\n",
        "32"
       ]
      },
      {
       "output_type": "stream",
       "stream": "stdout",
       "text": [
        " : boy : {'love': 0.023100188564325344, 'joy': 0, 'sadness': 0, 'anger': 0, 'surprise': 0, 'fear': 0}\n",
        "32"
       ]
      },
      {
       "output_type": "stream",
       "stream": "stdout",
       "text": [
        " : forever : {'love': 0.033076129602285544, 'joy': 0, 'sadness': 0, 'anger': 0, 'surprise': 0, 'fear': 0}\n",
        "32"
       ]
      },
      {
       "output_type": "stream",
       "stream": "stdout",
       "text": [
        " : cause : {'love': 0.033076129602285544, 'joy': 0, 'sadness': 0, 'anger': 0, 'surprise': 0, 'fear': 0.0075532036540741304}\n",
        "Error in getting similarity for"
       ]
      },
      {
       "output_type": "stream",
       "stream": "stdout",
       "text": [
        " love and fear\n",
        "32 : love : {'love': 0.07729114014928558, 'joy': 0, 'sadness': 0, 'anger': 0, 'surprise': 0, 'fear': 0.0075532036540741304}\n",
        "32"
       ]
      },
      {
       "output_type": "stream",
       "stream": "stdout",
       "text": [
        " : places : {'love': 0.07805300947666406, 'joy': 0, 'sadness': 0, 'anger': 0, 'surprise': 0, 'fear': 0.0075532036540741304}\n",
        "32"
       ]
      },
      {
       "output_type": "stream",
       "stream": "stdout",
       "text": [
        " : lost : {'love': 0.08767992188623953, 'joy': 0, 'sadness': 0, 'anger': 0, 'surprise': 0, 'fear': 0.0075532036540741304}\n",
        "32"
       ]
      },
      {
       "output_type": "stream",
       "stream": "stdout",
       "text": [
        " : always : {'love': 0.09820122181838117, 'joy': 0, 'sadness': 0, 'anger': 0, 'surprise': 0, 'fear': 0.0075532036540741304}\n",
        "32"
       ]
      },
      {
       "output_type": "stream",
       "stream": "stdout",
       "text": [
        " : never : {'love': 0.10770730447637533, 'joy': 0, 'sadness': 0, 'anger': 0, 'surprise': 0, 'fear': 0.0075532036540741304}\n",
        "32"
       ]
      },
      {
       "output_type": "stream",
       "stream": "stdout",
       "text": [
        " : free : {'love': 0.11861903997934542, 'joy': 0, 'sadness': 0, 'anger': 0, 'surprise': 0, 'fear': 0.0075532036540741304}\n",
        "32"
       ]
      },
      {
       "output_type": "stream",
       "stream": "stdout",
       "text": [
        " : leave : {'love': 0.11861903997934542, 'joy': 0, 'sadness': 0, 'anger': 0, 'surprise': 0, 'fear': 0.014199245034060969}\n",
        "32"
       ]
      },
      {
       "output_type": "stream",
       "stream": "stdout",
       "text": [
        " : pride : {'love': 0.11861903997934542, 'joy': 0, 'sadness': 0, 'anger': 0.0194378817473598, 'surprise': 0, 'fear': 0.014199245034060969}\n",
        "32"
       ]
      },
      {
       "output_type": "stream",
       "stream": "stdout",
       "text": [
        " : river : {'love': 0.11861903997934542, 'joy': 0, 'sadness': 0, 'anger': 0.022973419022078428, 'surprise': 0, 'fear': 0.014199245034060969}\n",
        "32"
       ]
      },
      {
       "output_type": "stream",
       "stream": "stdout",
       "text": [
        " : miracle : {'love': 0.11861903997934542, 'joy': 0.007443994056753564, 'sadness': 0, 'anger': 0.022973419022078428, 'surprise': 0, 'fear': 0.014199245034060969}\n",
        "32"
       ]
      },
      {
       "output_type": "stream",
       "stream": "stdout",
       "text": [
        " : eternally : {'love': 0.1260545710649126, 'joy': 0.007443994056753564, 'sadness': 0, 'anger': 0.022973419022078428, 'surprise': 0, 'fear': 0.014199245034060969}\n",
        "32"
       ]
      },
      {
       "output_type": "stream",
       "stream": "stdout",
       "text": [
        " : yes : {'love': 0.1260545710649126, 'joy': 0.007443994056753564, 'sadness': 0, 'anger': 0.022973419022078428, 'surprise': 0, 'fear': 0.014199245034060969}\n",
        "32"
       ]
      },
      {
       "output_type": "stream",
       "stream": "stdout",
       "text": [
        " : believe : {'love': 0.1260545710649126, 'joy': 0.007443994056753564, 'sadness': 0, 'anger': 0.022973419022078428, 'surprise': 0, 'fear': 0.06240523274936533}\n",
        "32"
       ]
      },
      {
       "output_type": "stream",
       "stream": "stdout",
       "text": [
        " : chips : {'love': 0.1269678761839547, 'joy': 0.007443994056753564, 'sadness': 0, 'anger': 0.022973419022078428, 'surprise': 0, 'fear': 0.06240523274936533}\n",
        "32"
       ]
      },
      {
       "output_type": "stream",
       "stream": "stdout",
       "text": [
        " : finds : {'love': 0.1269678761839547, 'joy': 0.007443994056753564, 'sadness': 0, 'anger': 0.022973419022078428, 'surprise': 0.01312216501219841, 'fear': 0.06240523274936533}\n",
        "32"
       ]
      },
      {
       "output_type": "stream",
       "stream": "stdout",
       "text": [
        " : miracles : {'love': 0.1269678761839547, 'joy': 0.013767555364193515, 'sadness': 0, 'anger': 0.022973419022078428, 'surprise': 0.01312216501219841, 'fear': 0.06240523274936533}\n",
        "33"
       ]
      },
      {
       "output_type": "stream",
       "stream": "stdout",
       "text": [
        " : hip : {'love': 0.007094492201244185, 'joy': 0, 'sadness': 0, 'anger': 0, 'surprise': 0, 'fear': 0}\n",
        "33"
       ]
      },
      {
       "output_type": "stream",
       "stream": "stdout",
       "text": [
        " : freaky : {'love': 0.007094492201244185, 'joy': 0, 'sadness': 0, 'anger': 0, 'surprise': 0, 'fear': 0}\n",
        "33"
       ]
      },
      {
       "output_type": "stream",
       "stream": "stdout",
       "text": [
        " : lick : {'love': 0.009211954515676699, 'joy': 0, 'sadness': 0, 'anger': 0, 'surprise': 0, 'fear': 0}\n",
        "33"
       ]
      },
      {
       "output_type": "stream",
       "stream": "stdout",
       "text": [
        " : freak : {'love': 0.009211954515676699, 'joy': 0, 'sadness': 0, 'anger': 0, 'surprise': 0, 'fear': 0.002836363043519031}\n",
        "33"
       ]
      },
      {
       "output_type": "stream",
       "stream": "stdout",
       "text": [
        " : like : {'love': 0.009211954515676699, 'joy': 0, 'sadness': 0, 'anger': 0, 'surprise': 0, 'fear': 0.002836363043519031}\n",
        "33"
       ]
      },
      {
       "output_type": "stream",
       "stream": "stdout",
       "text": [
        " : dance : {'love': 0.009211954515676699, 'joy': 0.0042627121253918515, 'sadness': 0, 'anger': 0, 'surprise': 0, 'fear': 0.002836363043519031}\n",
        "33"
       ]
      },
      {
       "output_type": "stream",
       "stream": "stdout",
       "text": [
        " : chi : {'love': 0.009211954515676699, 'joy': 0.0042627121253918515, 'sadness': 0, 'anger': 0, 'surprise': 0, 'fear': 0.002836363043519031}\n",
        "33"
       ]
      },
      {
       "output_type": "stream",
       "stream": "stdout",
       "text": [
        " : upon : {'love': 0.009211954515676699, 'joy': 0.0042627121253918515, 'sadness': 0, 'anger': 0, 'surprise': 0, 'fear': 0.002836363043519031}\n",
        "33"
       ]
      },
      {
       "output_type": "stream",
       "stream": "stdout",
       "text": [
        " : mine : {'love': 0.010917630980942662, 'joy': 0.0042627121253918515, 'sadness': 0, 'anger': 0, 'surprise': 0, 'fear': 0.002836363043519031}\n",
        "33"
       ]
      },
      {
       "output_type": "stream",
       "stream": "stdout",
       "text": [
        " : hand : {'love': 0.010917630980942662, 'joy': 0.0042627121253918515, 'sadness': 0, 'anger': 0, 'surprise': 0, 'fear': 0.018698900895463735}\n",
        "33"
       ]
      },
      {
       "output_type": "stream",
       "stream": "stdout",
       "text": [
        " : rolling : {'love': 0.010917630980942662, 'joy': 0.0042627121253918515, 'sadness': 0, 'anger': 0, 'surprise': 0.0027143172498390895, 'fear': 0.018698900895463735}\n",
        "33"
       ]
      },
      {
       "output_type": "stream",
       "stream": "stdout",
       "text": [
        " : rump : {'love': 0.012149374388283672, 'joy': 0.0042627121253918515, 'sadness': 0, 'anger': 0, 'surprise': 0.0027143172498390895, 'fear': 0.018698900895463735}\n",
        "33"
       ]
      },
      {
       "output_type": "stream",
       "stream": "stdout",
       "text": [
        " : low : {'love': 0.012149374388283672, 'joy': 0.0042627121253918515, 'sadness': 0, 'anger': 0, 'surprise': 0.004549651672445133, 'fear': 0.018698900895463735}\n",
        "33"
       ]
      },
      {
       "output_type": "stream",
       "stream": "stdout",
       "text": [
        " : put : {'love': 0.012149374388283672, 'joy': 0.0042627121253918515, 'sadness': 0, 'anger': 0, 'surprise': 0.004549651672445133, 'fear': 0.028147465523006114}\n",
        "33"
       ]
      },
      {
       "output_type": "stream",
       "stream": "stdout",
       "text": [
        " : nasty : {'love': 0.012149374388283672, 'joy': 0.0042627121253918515, 'sadness': 0, 'anger': 0, 'surprise': 0.008255920979173548, 'fear': 0.028147465523006114}\n",
        "33"
       ]
      },
      {
       "output_type": "stream",
       "stream": "stdout",
       "text": [
        " : grind : {'love': 0.012149374388283672, 'joy': 0.005017119938062036, 'sadness': 0, 'anger': 0, 'surprise': 0.008255920979173548, 'fear': 0.028147465523006114}\n",
        "33"
       ]
      },
      {
       "output_type": "stream",
       "stream": "stdout",
       "text": [
        " : dip : {'love': 0.012149374388283672, 'joy': 0.005017119938062036, 'sadness': 0, 'anger': 0, 'surprise': 0.04353348346811279, 'fear': 0.028147465523006114}\n",
        "33"
       ]
      },
      {
       "output_type": "stream",
       "stream": "stdout",
       "text": [
        " : round : {'love': 0.012149374388283672, 'joy': 0.005017119938062036, 'sadness': 0, 'anger': 0, 'surprise': 0.044946044016228905, 'fear': 0.028147465523006114}\n",
        "33"
       ]
      },
      {
       "output_type": "stream",
       "stream": "stdout",
       "text": [
        " : hips : {'love': 0.013081095606828646, 'joy': 0.005017119938062036, 'sadness': 0, 'anger': 0, 'surprise': 0.044946044016228905, 'fear': 0.028147465523006114}\n",
        "33"
       ]
      },
      {
       "output_type": "stream",
       "stream": "stdout",
       "text": [
        " : women : {'love': 0.016834938464985412, 'joy': 0.005017119938062036, 'sadness': 0, 'anger': 0, 'surprise': 0.044946044016228905, 'fear': 0.028147465523006114}\n",
        "34"
       ]
      },
      {
       "output_type": "stream",
       "stream": "stdout",
       "text": [
        " : little : {'love': 0, 'joy': 0, 'sadness': 0, 'anger': 0, 'surprise': 0, 'fear': 0.005052078464618637}\n",
        "34"
       ]
      },
      {
       "output_type": "stream",
       "stream": "stdout",
       "text": [
        " : set : {'love': 0.003155587765929422, 'joy': 0, 'sadness': 0, 'anger': 0, 'surprise': 0, 'fear': 0.005052078464618637}\n",
        "34"
       ]
      },
      {
       "output_type": "stream",
       "stream": "stdout",
       "text": [
        " : love : {'love': 0.07692133400514556, 'joy': 0, 'sadness': 0, 'anger': 0, 'surprise': 0, 'fear': 0.005052078464618637}\n",
        "34"
       ]
      },
      {
       "output_type": "stream",
       "stream": "stdout",
       "text": [
        " : make : {'love': 0.07692133400514556, 'joy': 0, 'sadness': 0, 'anger': 0, 'surprise': 0.0009222283261335272, 'fear': 0.005052078464618637}\n",
        "34"
       ]
      },
      {
       "output_type": "stream",
       "stream": "stdout",
       "text": [
        " : geri : {'love': 0.07692133400514556, 'joy': 0, 'sadness': 0, 'anger': 0, 'surprise': 0.0009222283261335272, 'fear': 0.005052078464618637}\n",
        "34"
       ]
      },
      {
       "output_type": "stream",
       "stream": "stdout",
       "text": [
        " : two : {'love': 0.07692133400514556, 'joy': 0, 'sadness': 0, 'anger': 0, 'surprise': 0.0009222283261335272, 'fear': 0.005052078464618637}\n",
        "34"
       ]
      },
      {
       "output_type": "stream",
       "stream": "stdout",
       "text": [
        " : free : {'love': 0.08298950182254265, 'joy': 0, 'sadness': 0, 'anger': 0, 'surprise': 0.0009222283261335272, 'fear': 0.005052078464618637}\n",
        "34"
       ]
      },
      {
       "output_type": "stream",
       "stream": "stdout",
       "text": [
        " : victoria : {'love': 0.08298950182254265, 'joy': 0, 'sadness': 0, 'anger': 0, 'surprise': 0.0009222283261335272, 'fear': 0.005052078464618637}\n",
        "34"
       ]
      },
      {
       "output_type": "stream",
       "stream": "stdout",
       "text": [
        " : tonight : {'love': 0.08298950182254265, 'joy': 0, 'sadness': 0, 'anger': 0, 'surprise': 0.0037605767201173484, 'fear': 0.005052078464618637}\n",
        "34"
       ]
      },
      {
       "output_type": "stream",
       "stream": "stdout",
       "text": [
        " : needed : {'love': 0.08678656059697058, 'joy': 0, 'sadness': 0, 'anger': 0, 'surprise': 0.0037605767201173484, 'fear': 0.005052078464618637}\n",
        "34"
       ]
      },
      {
       "output_type": "stream",
       "stream": "stdout",
       "text": [
        " : melanie : {'love': 0.08678656059697058, 'joy': 0, 'sadness': 0, 'anger': 0, 'surprise': 0.0037605767201173484, 'fear': 0.005052078464618637}\n",
        "34"
       ]
      },
      {
       "output_type": "stream",
       "stream": "stdout",
       "text": [
        " : way : {'love': 0.08678656059697058, 'joy': 0.001223263006885432, 'sadness': 0, 'anger': 0, 'surprise': 0.0037605767201173484, 'fear': 0.005052078464618637}\n",
        "34"
       ]
      },
      {
       "output_type": "stream",
       "stream": "stdout",
       "text": [
        " : become : {'love': 0.0915811953525402, 'joy': 0.001223263006885432, 'sadness': 0, 'anger': 0, 'surprise': 0.0037605767201173484, 'fear': 0.005052078464618637}\n",
        "34"
       ]
      },
      {
       "output_type": "stream",
       "stream": "stdout",
       "text": [
        " : baby : {'love': 0.09912591701554162, 'joy': 0.001223263006885432, 'sadness': 0, 'anger': 0, 'surprise': 0.0037605767201173484, 'fear': 0.005052078464618637}\n",
        "34"
       ]
      },
      {
       "output_type": "stream",
       "stream": "stdout",
       "text": [
        " : emma : {'love': 0.09912591701554162, 'joy': 0.001223263006885432, 'sadness': 0, 'anger': 0, 'surprise': 0.0037605767201173484, 'fear': 0.005052078464618637}\n",
        "34"
       ]
      },
      {
       "output_type": "stream",
       "stream": "stdout",
       "text": [
        " : bit : {'love': 0.10081065840903031, 'joy': 0.001223263006885432, 'sadness': 0, 'anger': 0, 'surprise': 0.0037605767201173484, 'fear': 0.005052078464618637}\n",
        "34"
       ]
      },
      {
       "output_type": "stream",
       "stream": "stdout",
       "text": [
        " : work : {'love': 0.10167122340503583, 'joy': 0.001223263006885432, 'sadness': 0, 'anger': 0, 'surprise': 0.0037605767201173484, 'fear': 0.005052078464618637}\n",
        "34"
       ]
      },
      {
       "output_type": "stream",
       "stream": "stdout",
       "text": [
        " : wanna : {'love': 0.10167122340503583, 'joy': 0.001223263006885432, 'sadness': 0, 'anger': 0, 'surprise': 0.0037605767201173484, 'fear': 0.005052078464618637}\n",
        "34"
       ]
      },
      {
       "output_type": "stream",
       "stream": "stdout",
       "text": [
        " : spirit : {'love': 0.12524870120843293, 'joy': 0.001223263006885432, 'sadness': 0, 'anger': 0, 'surprise': 0.0037605767201173484, 'fear': 0.005052078464618637}\n",
        "34"
       ]
      },
      {
       "output_type": "stream",
       "stream": "stdout",
       "text": [
        " : achieve : {'love': 0.12524870120843293, 'joy': 0.0027913622893519863, 'sadness': 0, 'anger': 0, 'surprise': 0.0037605767201173484, 'fear': 0.005052078464618637}\n",
        "35"
       ]
      },
      {
       "output_type": "stream",
       "stream": "stdout",
       "text": [
        " : pouring : {'love': 0.0063064000372269014, 'joy': 0, 'sadness': 0, 'anger': 0, 'surprise': 0, 'fear': 0}\n",
        "35"
       ]
      },
      {
       "output_type": "stream",
       "stream": "stdout",
       "text": [
        " : finally : {'love': 0.0063064000372269014, 'joy': 0.003931005794485617, 'sadness': 0, 'anger': 0, 'surprise': 0, 'fear': 0}\n",
        "35"
       ]
      },
      {
       "output_type": "stream",
       "stream": "stdout",
       "text": [
        " : figured : {'love': 0.0063064000372269014, 'joy': 0.003931005794485617, 'sadness': 0, 'anger': 0, 'surprise': 0.006099846324366087, 'fear': 0}\n",
        "35"
       ]
      },
      {
       "output_type": "stream",
       "stream": "stdout",
       "text": [
        " : lead : {'love': 0.0063064000372269014, 'joy': 0.003931005794485617, 'sadness': 0, 'anger': 0, 'surprise': 0.006099846324366087, 'fear': 0.013184954162259434}\n",
        "35"
       ]
      },
      {
       "output_type": "stream",
       "stream": "stdout",
       "text": [
        " : prove : {'love': 0.0063064000372269014, 'joy': 0.003931005794485617, 'sadness': 0, 'anger': 0, 'surprise': 0.006099846324366087, 'fear': 0.013184954162259434}\n",
        "35"
       ]
      },
      {
       "output_type": "stream",
       "stream": "stdout",
       "text": [
        " : maybe : {'love': 0.016556653156168753, 'joy': 0.003931005794485617, 'sadness': 0, 'anger': 0, 'surprise': 0.006099846324366087, 'fear': 0.013184954162259434}\n",
        "35"
       ]
      },
      {
       "output_type": "stream",
       "stream": "stdout",
       "text": [
        " : hard : {'love': 0.016556653156168753, 'joy': 0.003931005794485617, 'sadness': 0, 'anger': 0, 'surprise': 0.006099846324366087, 'fear': 0.01827526550168937}\n",
        "35"
       ]
      },
      {
       "output_type": "stream",
       "stream": "stdout",
       "text": [
        " : well : {'love': 0.016556653156168753, 'joy': 0.00811107895119873, 'sadness': 0, 'anger': 0, 'surprise': 0.006099846324366087, 'fear': 0.01827526550168937}\n",
        "35"
       ]
      },
      {
       "output_type": "stream",
       "stream": "stdout",
       "text": [
        " : enough : {'love': 0.016556653156168753, 'joy': 0.00811107895119873, 'sadness': 0, 'anger': 0, 'surprise': 0.006099846324366087, 'fear': 0.022304917228099727}\n",
        "35"
       ]
      },
      {
       "output_type": "stream",
       "stream": "stdout",
       "text": [
        " : long : {'love': 0.016556653156168753, 'joy': 0.00811107895119873, 'sadness': 0, 'anger': 0, 'surprise': 0.006099846324366087, 'fear': 0.03541334268438604}\n",
        "35"
       ]
      },
      {
       "output_type": "stream",
       "stream": "stdout",
       "text": [
        " : confused : {'love': 0.016556653156168753, 'joy': 0.00811107895119873, 'sadness': 0, 'anger': 0, 'surprise': 0.026126419058652296, 'fear': 0.03541334268438604}\n",
        "35"
       ]
      },
      {
       "output_type": "stream",
       "stream": "stdout",
       "text": [
        " : turn : {'love': 0.016556653156168753, 'joy': 0.00811107895119873, 'sadness': 0, 'anger': 0.005269069892862857, 'surprise': 0.026126419058652296, 'fear': 0.03541334268438604}\n",
        "35"
       ]
      },
      {
       "output_type": "stream",
       "stream": "stdout",
       "text": [
        " : say : {'love': 0.016556653156168753, 'joy': 0.00811107895119873, 'sadness': 0, 'anger': 0.005269069892862857, 'surprise': 0.026126419058652296, 'fear': 0.04590735316289004}\n",
        "35"
       ]
      },
      {
       "output_type": "stream",
       "stream": "stdout",
       "text": [
        " : time : {'love': 0.016556653156168753, 'joy': 0.00811107895119873, 'sadness': 0, 'anger': 0.005269069892862857, 'surprise': 0.029546812309518354, 'fear': 0.04590735316289004}\n",
        "35"
       ]
      },
      {
       "output_type": "stream",
       "stream": "stdout",
       "text": [
        " : words : {'love': 0.030862941896595504, 'joy': 0.00811107895119873, 'sadness': 0, 'anger': 0.005269069892862857, 'surprise': 0.029546812309518354, 'fear': 0.04590735316289004}\n",
        "35"
       ]
      },
      {
       "output_type": "stream",
       "stream": "stdout",
       "text": [
        " : always : {'love': 0.04107660147984411, 'joy': 0.00811107895119873, 'sadness': 0, 'anger': 0.005269069892862857, 'surprise': 0.029546812309518354, 'fear': 0.04590735316289004}\n",
        "35"
       ]
      },
      {
       "output_type": "stream",
       "stream": "stdout",
       "text": [
        " : roads : {'love': 0.04107660147984411, 'joy': 0.00811107895119873, 'sadness': 0, 'anger': 0.005269069892862857, 'surprise': 0.034219050739830906, 'fear': 0.04590735316289004}\n",
        "35"
       ]
      },
      {
       "output_type": "stream",
       "stream": "stdout",
       "text": [
        " : walk : {'love': 0.04107660147984411, 'joy': 0.00811107895119873, 'sadness': 0, 'anger': 0.005269069892862857, 'surprise': 0.034219050739830906, 'fear': 0.05047531849830761}\n",
        "35"
       ]
      },
      {
       "output_type": "stream",
       "stream": "stdout",
       "text": [
        " : skies : {'love': 0.04107660147984411, 'joy': 0.013994181440024733, 'sadness': 0, 'anger': 0.005269069892862857, 'surprise': 0.034219050739830906, 'fear': 0.05047531849830761}\n",
        "Error in getting similarity for"
       ]
      },
      {
       "output_type": "stream",
       "stream": "stdout",
       "text": [
        " wonder and sadness\n",
        "35"
       ]
      },
      {
       "output_type": "stream",
       "stream": "stdout",
       "text": [
        " : wonder : {'love': 0.04107660147984411, 'joy': 0.013994181440024733, 'sadness': 0, 'anger': 0.005269069892862857, 'surprise': 0.06970534962082042, 'fear': 0.05047531849830761}\n",
        "36"
       ]
      },
      {
       "output_type": "stream",
       "stream": "stdout",
       "text": [
        " : mmmm : {'love': 0.0, 'joy': 0, 'sadness': 0, 'anger': 0, 'surprise': 0, 'fear': 0}\n",
        "36"
       ]
      },
      {
       "output_type": "stream",
       "stream": "stdout",
       "text": [
        " : lie : {'love': 0.0, 'joy': 0, 'sadness': 0, 'anger': 0, 'surprise': 0, 'fear': 0.004478668799430335}\n",
        "36"
       ]
      },
      {
       "output_type": "stream",
       "stream": "stdout",
       "text": [
        " : repeat : {'love': 0.0, 'joy': 0, 'sadness': 0, 'anger': 0, 'surprise': 0.004523070892472452, 'fear': 0.004478668799430335}\n",
        "36"
       ]
      },
      {
       "output_type": "stream",
       "stream": "stdout",
       "text": [
        " : unless : {'love': 0.0, 'joy': 0, 'sadness': 0, 'anger': 0, 'surprise': 0.004523070892472452, 'fear': 0.004478668799430335}\n",
        "36"
       ]
      },
      {
       "output_type": "stream",
       "stream": "stdout",
       "text": [
        " : give : {'love': 0.003890168400517005, 'joy': 0, 'sadness': 0, 'anger': 0, 'surprise': 0.004523070892472452, 'fear': 0.004478668799430335}\n",
        "36"
       ]
      },
      {
       "output_type": "stream",
       "stream": "stdout",
       "text": [
        " : cheat : {'love': 0.003890168400517005, 'joy': 0, 'sadness': 0, 'anger': 0, 'surprise': 0.008224297070200505, 'fear': 0.004478668799430335}\n",
        "36"
       ]
      },
      {
       "output_type": "stream",
       "stream": "stdout",
       "text": [
        " : never : {'love': 0.01427181130332641, 'joy': 0, 'sadness': 0, 'anger': 0, 'surprise': 0.008224297070200505, 'fear': 0.004478668799430335}\n",
        "36"
       ]
      },
      {
       "output_type": "stream",
       "stream": "stdout",
       "text": [
        " : cupid : {'love': 0.01427181130332641, 'joy': 0, 'sadness': 0, 'anger': 0, 'surprise': 0.008224297070200505, 'fear': 0.004478668799430335}\n",
        "Error in getting similarity for"
       ]
      },
      {
       "output_type": "stream",
       "stream": "stdout",
       "text": [
        " misleaded and love\n",
        "36"
       ]
      },
      {
       "output_type": "stream",
       "stream": "stdout",
       "text": [
        " : misleaded : {'love': 0.01427181130332641, 'joy': 0, 'sadness': 0, 'anger': 0, 'surprise': 0.013231473406178024, 'fear': 0.004478668799430335}\n",
        "36"
       ]
      },
      {
       "output_type": "stream",
       "stream": "stdout",
       "text": [
        " : doesn : {'love': 0.01427181130332641, 'joy': 0, 'sadness': 0, 'anger': 0, 'surprise': 0.013231473406178024, 'fear': 0.004478668799430335}\n",
        "36"
       ]
      },
      {
       "output_type": "stream",
       "stream": "stdout",
       "text": [
        " : whooo : {'love': 0.01427181130332641, 'joy': 0, 'sadness': 0, 'anger': 0, 'surprise': 0.013231473406178024, 'fear': 0.004478668799430335}\n",
        "36"
       ]
      },
      {
       "output_type": "stream",
       "stream": "stdout",
       "text": [
        " : try : {'love': 0.020441759593721517, 'joy': 0, 'sadness': 0, 'anger': 0, 'surprise': 0.013231473406178024, 'fear': 0.004478668799430335}\n",
        "36"
       ]
      },
      {
       "output_type": "stream",
       "stream": "stdout",
       "text": [
        " : ooooh : {'love': 0.020441759593721517, 'joy': 0, 'sadness': 0, 'anger': 0, 'surprise': 0.013231473406178024, 'fear': 0.004478668799430335}\n",
        "36"
       ]
      },
      {
       "output_type": "stream",
       "stream": "stdout",
       "text": [
        " : won : {'love': 0.026154256137583872, 'joy': 0, 'sadness': 0, 'anger': 0, 'surprise': 0.013231473406178024, 'fear': 0.004478668799430335}\n",
        "36"
       ]
      },
      {
       "output_type": "stream",
       "stream": "stdout",
       "text": [
        " : gonna : {'love': 0.026154256137583872, 'joy': 0, 'sadness': 0, 'anger': 0, 'surprise': 0.013231473406178024, 'fear': 0.004478668799430335}\n",
        "36"
       ]
      },
      {
       "output_type": "stream",
       "stream": "stdout",
       "text": [
        " : saying : {'love': 0.026154256137583872, 'joy': 0, 'sadness': 0, 'anger': 0, 'surprise': 0.013231473406178024, 'fear': 0.008922164178792581}\n",
        "36"
       ]
      },
      {
       "output_type": "stream",
       "stream": "stdout",
       "text": [
        " : 112 : {'love': 0.026154256137583872, 'joy': 0, 'sadness': 0, 'anger': 0, 'surprise': 0.013231473406178024, 'fear': 0.008922164178792581}\n",
        "36"
       ]
      },
      {
       "output_type": "stream",
       "stream": "stdout",
       "text": [
        " : deception : {'love': 0.026154256137583872, 'joy': 0, 'sadness': 0, 'anger': 0, 'surprise': 0.01937082743909742, 'fear': 0.008922164178792581}\n",
        "36"
       ]
      },
      {
       "output_type": "stream",
       "stream": "stdout",
       "text": [
        " : misunderstand : {'love': 0.026154256137583872, 'joy': 0, 'sadness': 0, 'anger': 0, 'surprise': 0.01937082743909742, 'fear': 0.014990600529866786}\n",
        "36"
       ]
      },
      {
       "output_type": "stream",
       "stream": "stdout",
       "text": [
        " : mean : {'love': 0.026154256137583872, 'joy': 0, 'sadness': 0, 'anger': 0, 'surprise': 0.01937082743909742, 'fear': 0.027045622394256185}\n",
        "37"
       ]
      },
      {
       "output_type": "stream",
       "stream": "stdout",
       "text": [
        " : gone : {'love': 0.014384367596698795, 'joy': 0, 'sadness': 0, 'anger': 0, 'surprise': 0, 'fear': 0}\n",
        "37"
       ]
      },
      {
       "output_type": "stream",
       "stream": "stdout",
       "text": [
        " : porch : {'love': 0.015353519562509304, 'joy': 0, 'sadness': 0, 'anger': 0, 'surprise': 0, 'fear': 0}\n",
        "37"
       ]
      },
      {
       "output_type": "stream",
       "stream": "stdout",
       "text": [
        " : bills : {'love': 0.015353519562509304, 'joy': 0, 'sadness': 0.0026913822414182486, 'anger': 0, 'surprise': 0, 'fear': 0}\n",
        "37"
       ]
      },
      {
       "output_type": "stream",
       "stream": "stdout",
       "text": [
        " : laundry : {'love': 0.015353519562509304, 'joy': 0, 'sadness': 0.0026913822414182486, 'anger': 0, 'surprise': 0, 'fear': 0.0019477491356724792}\n",
        "37"
       ]
      },
      {
       "output_type": "stream",
       "stream": "stdout",
       "text": [
        " : song : {'love': 0.026192769116733572, 'joy': 0, 'sadness': 0.0026913822414182486, 'anger': 0, 'surprise': 0, 'fear': 0.0019477491356724792}\n",
        "37"
       ]
      },
      {
       "output_type": "stream",
       "stream": "stdout",
       "text": [
        " : goodbyes : {'love': 0.026192769116733572, 'joy': 0, 'sadness': 0.0026913822414182486, 'anger': 0, 'surprise': 0, 'fear': 0.0019477491356724792}\n",
        "37"
       ]
      },
      {
       "output_type": "stream",
       "stream": "stdout",
       "text": [
        " : pay : {'love': 0.02777636459699322, 'joy': 0, 'sadness': 0.0026913822414182486, 'anger': 0, 'surprise': 0, 'fear': 0.0019477491356724792}\n",
        "37"
       ]
      },
      {
       "output_type": "stream",
       "stream": "stdout",
       "text": [
        " : ranger : {'love': 0.03129983080157984, 'joy': 0, 'sadness': 0.0026913822414182486, 'anger': 0, 'surprise': 0, 'fear': 0.0019477491356724792}\n",
        "37"
       ]
      },
      {
       "output_type": "stream",
       "stream": "stdout",
       "text": [
        " : wayne : {'love': 0.03129983080157984, 'joy': 0, 'sadness': 0.0026913822414182486, 'anger': 0, 'surprise': 0, 'fear': 0.0019477491356724792}\n",
        "37"
       ]
      },
      {
       "output_type": "stream",
       "stream": "stdout",
       "text": [
        " : gun : {'love': 0.03129983080157984, 'joy': 0, 'sadness': 0.0026913822414182486, 'anger': 0, 'surprise': 0.0017711941012705829, 'fear': 0.0019477491356724792}\n",
        "37"
       ]
      },
      {
       "output_type": "stream",
       "stream": "stdout",
       "text": [
        " : ending : {'love': 0.03966859086470939, 'joy': 0, 'sadness': 0.0026913822414182486, 'anger': 0, 'surprise': 0.0017711941012705829, 'fear': 0.0019477491356724792}\n",
        "37"
       ]
      },
      {
       "output_type": "stream",
       "stream": "stdout",
       "text": [
        " : chevy : {'love': 0.03966859086470939, 'joy': 0, 'sadness': 0.0026913822414182486, 'anger': 0, 'surprise': 0.0017711941012705829, 'fear': 0.0019477491356724792}\n",
        "37"
       ]
      },
      {
       "output_type": "stream",
       "stream": "stdout",
       "text": [
        " : farm : {'love': 0.03966859086470939, 'joy': 0, 'sadness': 0.004398572960311834, 'anger': 0, 'surprise': 0.0017711941012705829, 'fear': 0.0019477491356724792}\n",
        "37"
       ]
      },
      {
       "output_type": "stream",
       "stream": "stdout",
       "text": [
        " : prairie : {'love': 0.03966859086470939, 'joy': 0, 'sadness': 0.00993727900866561, 'anger': 0, 'surprise': 0.0017711941012705829, 'fear': 0.0019477491356724792}\n",
        "37"
       ]
      },
      {
       "output_type": "stream",
       "stream": "stdout",
       "text": [
        " : lemonade : {'love': 0.03966859086470939, 'joy': 0, 'sadness': 0.011041819463472186, 'anger': 0, 'surprise': 0.0017711941012705829, 'fear': 0.0019477491356724792}\n",
        "37"
       ]
      },
      {
       "output_type": "stream",
       "stream": "stdout",
       "text": [
        " : cowboys : {'love': 0.05267837842315941, 'joy': 0, 'sadness': 0.011041819463472186, 'anger': 0, 'surprise': 0.0017711941012705829, 'fear': 0.0019477491356724792}\n",
        "37"
       ]
      },
      {
       "output_type": "stream",
       "stream": "stdout",
       "text": [
        " : scorching : {'love': 0.05267837842315941, 'joy': 0, 'sadness': 0.011041819463472186, 'anger': 0.0007150334638340545, 'surprise': 0.0017711941012705829, 'fear': 0.0019477491356724792}\n",
        "37"
       ]
      },
      {
       "output_type": "stream",
       "stream": "stdout",
       "text": [
        " : john : {'love': 0.05267837842315941, 'joy': 0, 'sadness': 0.017651559120727245, 'anger': 0.0007150334638340545, 'surprise': 0.0017711941012705829, 'fear': 0.0019477491356724792}\n",
        "37"
       ]
      },
      {
       "output_type": "stream",
       "stream": "stdout",
       "text": [
        " : hurts : {'love': 0.05267837842315941, 'joy': 0, 'sadness': 0.017651559120727245, 'anger': 0.0007150334638340545, 'surprise': 0.0017711941012705829, 'fear': 0.011122219271522784}\n",
        "37"
       ]
      },
      {
       "output_type": "stream",
       "stream": "stdout",
       "text": [
        " : happy : {'love': 0.05267837842315941, 'joy': 0.02332129429898792, 'sadness': 0.017651559120727245, 'anger': 0.0007150334638340545, 'surprise': 0.0017711941012705829, 'fear': 0.011122219271522784}\n",
        "38"
       ]
      },
      {
       "output_type": "stream",
       "stream": "stdout",
       "text": [
        " : fly : {'love': 0.0016278978634672021, 'joy': 0, 'sadness': 0, 'anger': 0, 'surprise': 0, 'fear': 0}\n",
        "38"
       ]
      },
      {
       "output_type": "stream",
       "stream": "stdout",
       "text": [
        " : repairs : {'love': 0.005900861193491269, 'joy': 0, 'sadness': 0, 'anger': 0, 'surprise': 0, 'fear': 0}\n",
        "38"
       ]
      },
      {
       "output_type": "stream",
       "stream": "stdout",
       "text": [
        " : walking : {'love': 0.005900861193491269, 'joy': 0, 'sadness': 0, 'anger': 0, 'surprise': 0, 'fear': 0.009296960502952131}\n",
        "38"
       ]
      },
      {
       "output_type": "stream",
       "stream": "stdout",
       "text": [
        " : wire : {'love': 0.005900861193491269, 'joy': 0, 'sadness': 0.007317865657107258, 'anger': 0, 'surprise': 0, 'fear': 0.009296960502952131}\n",
        "38"
       ]
      },
      {
       "output_type": "stream",
       "stream": "stdout",
       "text": [
        " : says : {'love': 0.005900861193491269, 'joy': 0, 'sadness': 0.007317865657107258, 'anger': 0, 'surprise': 0, 'fear': 0.016930742697737925}\n",
        "38"
       ]
      },
      {
       "output_type": "stream",
       "stream": "stdout",
       "text": [
        " : burning : {'love': 0.005900861193491269, 'joy': 0, 'sadness': 0.007317865657107258, 'anger': 0.0035000690146445032, 'surprise': 0, 'fear': 0.016930742697737925}\n",
        "38"
       ]
      },
      {
       "output_type": "stream",
       "stream": "stdout",
       "text": [
        " : hypnotized : {'love': 0.008983100789272846, 'joy': 0, 'sadness': 0.007317865657107258, 'anger': 0.0035000690146445032, 'surprise': 0, 'fear': 0.016930742697737925}\n",
        "38"
       ]
      },
      {
       "output_type": "stream",
       "stream": "stdout",
       "text": [
        " : fire : {'love': 0.018670579279575213, 'joy': 0, 'sadness': 0.007317865657107258, 'anger': 0.0035000690146445032, 'surprise': 0, 'fear': 0.016930742697737925}\n",
        "38"
       ]
      },
      {
       "output_type": "stream",
       "stream": "stdout",
       "text": [
        " : list : {'love': 0.018670579279575213, 'joy': 0, 'sadness': 0.007317865657107258, 'anger': 0.0052153448613470295, 'surprise': 0, 'fear': 0.016930742697737925}\n",
        "38"
       ]
      },
      {
       "output_type": "stream",
       "stream": "stdout",
       "text": [
        " : sweater : {'love': 0.02061695850718434, 'joy': 0, 'sadness': 0.007317865657107258, 'anger': 0.0052153448613470295, 'surprise': 0, 'fear': 0.016930742697737925}\n",
        "38"
       ]
      },
      {
       "output_type": "stream",
       "stream": "stdout",
       "text": [
        " : sunny : {'love': 0.02061695850718434, 'joy': 0, 'sadness': 0.03241964583080324, 'anger': 0.0052153448613470295, 'surprise': 0, 'fear': 0.016930742697737925}\n",
        "38"
       ]
      },
      {
       "output_type": "stream",
       "stream": "stdout",
       "text": [
        " : days : {'love': 0.02061695850718434, 'joy': 0.004423973434912665, 'sadness': 0.03241964583080324, 'anger': 0.0052153448613470295, 'surprise': 0, 'fear': 0.016930742697737925}\n",
        "38"
       ]
      },
      {
       "output_type": "stream",
       "stream": "stdout",
       "text": [
        " : mission : {'love': 0.02216103462190947, 'joy': 0.004423973434912665, 'sadness': 0.03241964583080324, 'anger': 0.0052153448613470295, 'surprise': 0, 'fear': 0.016930742697737925}\n",
        "38"
       ]
      },
      {
       "output_type": "stream",
       "stream": "stdout",
       "text": [
        " : transcendence : {'love': 0.02216103462190947, 'joy': 0.009294921402994562, 'sadness': 0.03241964583080324, 'anger': 0.0052153448613470295, 'surprise': 0, 'fear': 0.016930742697737925}\n",
        "38"
       ]
      },
      {
       "output_type": "stream",
       "stream": "stdout",
       "text": [
        " : tools : {'love': 0.02216103462190947, 'joy': 0.009294921402994562, 'sadness': 0.03241964583080324, 'anger': 0.0052153448613470295, 'surprise': 0, 'fear': 0.020239921335421327}\n",
        "38"
       ]
      },
      {
       "output_type": "stream",
       "stream": "stdout",
       "text": [
        " : close : {'love': 0.02216103462190947, 'joy': 0.009294921402994562, 'sadness': 0.03241964583080324, 'anger': 0.0052153448613470295, 'surprise': 0.002853092799681502, 'fear': 0.020239921335421327}\n",
        "38"
       ]
      },
      {
       "output_type": "stream",
       "stream": "stdout",
       "text": [
        " : home : {'love': 0.04351934026987454, 'joy': 0.009294921402994562, 'sadness': 0.03241964583080324, 'anger': 0.0052153448613470295, 'surprise': 0.002853092799681502, 'fear': 0.020239921335421327}\n",
        "38"
       ]
      },
      {
       "output_type": "stream",
       "stream": "stdout",
       "text": [
        " : eyes : {'love': 0.04351934026987454, 'joy': 0.009294921402994562, 'sadness': 0.03241964583080324, 'anger': 0.0052153448613470295, 'surprise': 0.009339579271093516, 'fear': 0.020239921335421327}\n",
        "38"
       ]
      },
      {
       "output_type": "stream",
       "stream": "stdout",
       "text": [
        " : came : {'love': 0.04351934026987454, 'joy': 0.009294921402994562, 'sadness': 0.03241964583080324, 'anger': 0.0052153448613470295, 'surprise': 0.009339579271093516, 'fear': 0.04528258017456141}\n",
        "38"
       ]
      },
      {
       "output_type": "stream",
       "stream": "stdout",
       "text": [
        " : sat : {'love': 0.04351934026987454, 'joy': 0.009294921402994562, 'sadness': 0.03241964583080324, 'anger': 0.0052153448613470295, 'surprise': 0.009339579271093516, 'fear': 0.047497378730125536}\n",
        "40"
       ]
      },
      {
       "output_type": "stream",
       "stream": "stdout",
       "text": [
        " : ignore : {'love': 0, 'joy': 0, 'sadness': 0, 'anger': 0.0017608939647555898, 'surprise': 0, 'fear': 0}\n",
        "40"
       ]
      },
      {
       "output_type": "stream",
       "stream": "stdout",
       "text": [
        " : little : {'love': 0, 'joy': 0, 'sadness': 0, 'anger': 0.0017608939647555898, 'surprise': 0, 'fear': 0.01998429203053274}\n",
        "40"
       ]
      },
      {
       "output_type": "stream",
       "stream": "stdout",
       "text": [
        " : slow : {'love': 0, 'joy': 0, 'sadness': 0, 'anger': 0.0017608939647555898, 'surprise': 0, 'fear': 0.021607214721530116}\n",
        "40"
       ]
      },
      {
       "output_type": "stream",
       "stream": "stdout",
       "text": [
        " : love : {'love': 0.03366831078349544, 'joy': 0, 'sadness': 0, 'anger': 0.0017608939647555898, 'surprise': 0, 'fear': 0.021607214721530116}\n",
        "40"
       ]
      },
      {
       "output_type": "stream",
       "stream": "stdout",
       "text": [
        " : unkind : {'love': 0.03366831078349544, 'joy': 0, 'sadness': 0, 'anger': 0.003726889401436114, 'surprise': 0, 'fear': 0.021607214721530116}\n",
        "40"
       ]
      },
      {
       "output_type": "stream",
       "stream": "stdout",
       "text": [
        " : angel : {'love': 0.03366831078349544, 'joy': 0, 'sadness': 0, 'anger': 0.003726889401436114, 'surprise': 0, 'fear': 0.021607214721530116}\n",
        "40"
       ]
      },
      {
       "output_type": "stream",
       "stream": "stdout",
       "text": [
        " : shy : {'love': 0.042537379315187834, 'joy': 0, 'sadness': 0, 'anger': 0.003726889401436114, 'surprise': 0, 'fear': 0.021607214721530116}\n",
        "40"
       ]
      },
      {
       "output_type": "stream",
       "stream": "stdout",
       "text": [
        " : away : {'love': 0.042537379315187834, 'joy': 0, 'sadness': 0, 'anger': 0.0060441456926900025, 'surprise': 0, 'fear': 0.021607214721530116}\n",
        "40"
       ]
      },
      {
       "output_type": "stream",
       "stream": "stdout",
       "text": [
        " : sweetest : {'love': 0.042537379315187834, 'joy': 0, 'sadness': 0, 'anger': 0.0060441456926900025, 'surprise': 0, 'fear': 0.021607214721530116}\n",
        "40"
       ]
      },
      {
       "output_type": "stream",
       "stream": "stdout",
       "text": [
        " : aah : {'love': 0.042537379315187834, 'joy': 0, 'sadness': 0, 'anger': 0.0060441456926900025, 'surprise': 0, 'fear': 0.021607214721530116}\n",
        "40"
       ]
      },
      {
       "output_type": "stream",
       "stream": "stdout",
       "text": [
        " : ooh : {'love': 0.042537379315187834, 'joy': 0, 'sadness': 0, 'anger': 0.0060441456926900025, 'surprise': 0, 'fear': 0.021607214721530116}\n",
        "40"
       ]
      },
      {
       "output_type": "stream",
       "stream": "stdout",
       "text": [
        " : chorus : {'love': 0.042537379315187834, 'joy': 0.007314530592294853, 'sadness': 0, 'anger': 0.0060441456926900025, 'surprise': 0, 'fear': 0.021607214721530116}\n",
        "40"
       ]
      },
      {
       "output_type": "stream",
       "stream": "stdout",
       "text": [
        " : woah : {'love': 0.042537379315187834, 'joy': 0.007314530592294853, 'sadness': 0, 'anger': 0.0060441456926900025, 'surprise': 0, 'fear': 0.021607214721530116}\n",
        "40"
       ]
      },
      {
       "output_type": "stream",
       "stream": "stdout",
       "text": [
        " : moment : {'love': 0.042537379315187834, 'joy': 0.015417200518061929, 'sadness': 0, 'anger': 0.0060441456926900025, 'surprise': 0, 'fear': 0.021607214721530116}\n",
        "40"
       ]
      },
      {
       "output_type": "stream",
       "stream": "stdout",
       "text": [
        " : child : {'love': 0.04699396379638777, 'joy': 0.015417200518061929, 'sadness': 0, 'anger': 0.0060441456926900025, 'surprise': 0, 'fear': 0.021607214721530116}\n",
        "40"
       ]
      },
      {
       "output_type": "stream",
       "stream": "stdout",
       "text": [
        " : phase : {'love': 0.04909026269910874, 'joy': 0.015417200518061929, 'sadness': 0, 'anger': 0.0060441456926900025, 'surprise': 0, 'fear': 0.021607214721530116}\n",
        "40"
       ]
      },
      {
       "output_type": "stream",
       "stream": "stdout",
       "text": [
        " : hide : {'love': 0.04909026269910874, 'joy': 0.015417200518061929, 'sadness': 0, 'anger': 0.0060441456926900025, 'surprise': 0.002140520040255734, 'fear': 0.021607214721530116}\n",
        "40"
       ]
      },
      {
       "output_type": "stream",
       "stream": "stdout",
       "text": [
        " : bit : {'love': 0.06754513631218664, 'joy': 0.015417200518061929, 'sadness': 0, 'anger': 0.0060441456926900025, 'surprise': 0.002140520040255734, 'fear': 0.021607214721530116}\n",
        "40"
       ]
      },
      {
       "output_type": "stream",
       "stream": "stdout",
       "text": [
        " : ohhhh : {'love': 0.06754513631218664, 'joy': 0.015417200518061929, 'sadness': 0, 'anger': 0.0060441456926900025, 'surprise': 0.002140520040255734, 'fear': 0.021607214721530116}\n",
        "40"
       ]
      },
      {
       "output_type": "stream",
       "stream": "stdout",
       "text": [
        " : thoughts : {'love': 0.06754513631218664, 'joy': 0.015417200518061929, 'sadness': 0, 'anger': 0.0060441456926900025, 'surprise': 0.002140520040255734, 'fear': 0.030676662283444435}\n",
        "41"
       ]
      },
      {
       "output_type": "stream",
       "stream": "stdout",
       "text": [
        " : crazy : {'love': 0.007186755801978453, 'joy': 0, 'sadness': 0, 'anger': 0, 'surprise': 0, 'fear': 0}\n",
        "41"
       ]
      },
      {
       "output_type": "stream",
       "stream": "stdout",
       "text": [
        " : want : {'love': 0.04204832462149349, 'joy': 0, 'sadness': 0, 'anger': 0, 'surprise': 0, 'fear': 0}\n",
        "41"
       ]
      },
      {
       "output_type": "stream",
       "stream": "stdout",
       "text": [
        " : would : {'love': 0.04204832462149349, 'joy': 0, 'sadness': 0, 'anger': 0, 'surprise': 0, 'fear': 0}\n",
        "41"
       ]
      },
      {
       "output_type": "stream",
       "stream": "stdout",
       "text": [
        " : blown : {'love': 0.04204832462149349, 'joy': 0, 'sadness': 0, 'anger': 0, 'surprise': 0.005587336794673122, 'fear': 0}\n",
        "41"
       ]
      },
      {
       "output_type": "stream",
       "stream": "stdout",
       "text": [
        " : taste : {'love': 0.04204832462149349, 'joy': 0, 'sadness': 0, 'anger': 0, 'surprise': 0.019936497563529103, 'fear': 0}\n",
        "41"
       ]
      },
      {
       "output_type": "stream",
       "stream": "stdout",
       "text": [
        " : fault : {'love': 0.05501781582215129, 'joy': 0, 'sadness': 0, 'anger': 0, 'surprise': 0.019936497563529103, 'fear': 0}\n",
        "41"
       ]
      },
      {
       "output_type": "stream",
       "stream": "stdout",
       "text": [
        " : could : {'love': 0.05501781582215129, 'joy': 0, 'sadness': 0, 'anger': 0, 'surprise': 0.019936497563529103, 'fear': 0}\n",
        "41"
       ]
      },
      {
       "output_type": "stream",
       "stream": "stdout",
       "text": [
        " : famous : {'love': 0.06901502811707627, 'joy': 0, 'sadness': 0, 'anger': 0, 'surprise': 0.019936497563529103, 'fear': 0}\n",
        "41"
       ]
      },
      {
       "output_type": "stream",
       "stream": "stdout",
       "text": [
        " : lips : {'love': 0.06901502811707627, 'joy': 0.00522435749317489, 'sadness': 0, 'anger': 0, 'surprise': 0.019936497563529103, 'fear': 0}\n",
        "41"
       ]
      },
      {
       "output_type": "stream",
       "stream": "stdout",
       "text": [
        " : feel : {'love': 0.06901502811707627, 'joy': 0.00522435749317489, 'sadness': 0, 'anger': 0, 'surprise': 0.019936497563529103, 'fear': 0.014433489000010421}\n",
        "41"
       ]
      },
      {
       "output_type": "stream",
       "stream": "stdout",
       "text": [
        " : pieces : {'love': 0.07207466563879755, 'joy': 0.00522435749317489, 'sadness': 0, 'anger': 0, 'surprise': 0.019936497563529103, 'fear': 0.014433489000010421}\n",
        "41"
       ]
      },
      {
       "output_type": "stream",
       "stream": "stdout",
       "text": [
        " : jump : {'love': 0.07207466563879755, 'joy': 0.00522435749317489, 'sadness': 0, 'anger': 0, 'surprise': 0.023778368481468925, 'fear': 0.014433489000010421}\n",
        "41"
       ]
      },
      {
       "output_type": "stream",
       "stream": "stdout",
       "text": [
        " : turn : {'love': 0.07207466563879755, 'joy': 0.00522435749317489, 'sadness': 0, 'anger': 0.012937593152321724, 'surprise': 0.023778368481468925, 'fear': 0.014433489000010421}\n",
        "41"
       ]
      },
      {
       "output_type": "stream",
       "stream": "stdout",
       "text": [
        " : bad : {'love': 0.07207466563879755, 'joy': 0.00522435749317489, 'sadness': 0, 'anger': 0.012937593152321724, 'surprise': 0.023778368481468925, 'fear': 0.02478411131081279}\n",
        "41"
       ]
      },
      {
       "output_type": "stream",
       "stream": "stdout",
       "text": [
        " : mouth : {'love': 0.07207466563879755, 'joy': 0.00522435749317489, 'sadness': 0, 'anger': 0.027634960968342587, 'surprise': 0.023778368481468925, 'fear': 0.02478411131081279}\n",
        "41"
       ]
      },
      {
       "output_type": "stream",
       "stream": "stdout",
       "text": [
        " : kiss : {'love': 0.10130034153790737, 'joy': 0.00522435749317489, 'sadness': 0, 'anger': 0.027634960968342587, 'surprise': 0.023778368481468925, 'fear': 0.02478411131081279}\n",
        "41"
       ]
      },
      {
       "output_type": "stream",
       "stream": "stdout",
       "text": [
        " : salty : {'love': 0.10130034153790737, 'joy': 0.00522435749317489, 'sadness': 0, 'anger': 0.027634960968342587, 'surprise': 0.023778368481468925, 'fear': 0.02478411131081279}\n",
        "41"
       ]
      },
      {
       "output_type": "stream",
       "stream": "stdout",
       "text": [
        " : upside : {'love': 0.10130034153790737, 'joy': 0.00522435749317489, 'sadness': 0, 'anger': 0.027634960968342587, 'surprise': 0.023778368481468925, 'fear': 0.02478411131081279}\n",
        "41"
       ]
      },
      {
       "output_type": "stream",
       "stream": "stdout",
       "text": [
        " : waste : {'love': 0.10130034153790737, 'joy': 0.00522435749317489, 'sadness': 0.00963459699324754, 'anger': 0.027634960968342587, 'surprise': 0.023778368481468925, 'fear': 0.02478411131081279}\n",
        "41"
       ]
      },
      {
       "output_type": "stream",
       "stream": "stdout",
       "text": [
        " : apart : {'love': 0.10130034153790737, 'joy': 0.00522435749317489, 'sadness': 0.00963459699324754, 'anger': 0.027634960968342587, 'surprise': 0.023778368481468925, 'fear': 0.02478411131081279}\n",
        "42"
       ]
      },
      {
       "output_type": "stream",
       "stream": "stdout",
       "text": [
        " : fool : {'love': 0.004829675780445057, 'joy': 0, 'sadness': 0, 'anger': 0, 'surprise': 0, 'fear': 0}\n",
        "42"
       ]
      },
      {
       "output_type": "stream",
       "stream": "stdout",
       "text": [
        " : never : {'love': 0.012534801372373915, 'joy': 0, 'sadness': 0, 'anger': 0, 'surprise': 0, 'fear': 0}\n",
        "42"
       ]
      },
      {
       "output_type": "stream",
       "stream": "stdout",
       "text": [
        " : cried : {'love': 0.012534801372373915, 'joy': 0.02889424062343755, 'sadness': 0, 'anger': 0, 'surprise': 0, 'fear': 0}\n",
        "42"
       ]
      },
      {
       "output_type": "stream",
       "stream": "stdout",
       "text": [
        " : simple : {'love': 0.014495930581332493, 'joy': 0.02889424062343755, 'sadness': 0, 'anger': 0, 'surprise': 0, 'fear': 0}\n",
        "42"
       ]
      },
      {
       "output_type": "stream",
       "stream": "stdout",
       "text": [
        " : neglected : {'love': 0.01599764887600631, 'joy': 0.02889424062343755, 'sadness': 0, 'anger': 0, 'surprise': 0, 'fear': 0}\n",
        "42"
       ]
      },
      {
       "output_type": "stream",
       "stream": "stdout",
       "text": [
        " : vain : {'love': 0.01599764887600631, 'joy': 0.02889424062343755, 'sadness': 0, 'anger': 0.00541488934465412, 'surprise': 0, 'fear': 0}\n",
        "42"
       ]
      },
      {
       "output_type": "stream",
       "stream": "stdout",
       "text": [
        " : knew : {'love': 0.0332463865053243, 'joy': 0.02889424062343755, 'sadness': 0, 'anger': 0.00541488934465412, 'surprise': 0, 'fear': 0}\n",
        "42"
       ]
      },
      {
       "output_type": "stream",
       "stream": "stdout",
       "text": [
        " : greener : {'love': 0.0332463865053243, 'joy': 0.02889424062343755, 'sadness': 0, 'anger': 0.00541488934465412, 'surprise': 0, 'fear': 0}\n",
        "42"
       ]
      },
      {
       "output_type": "stream",
       "stream": "stdout",
       "text": [
        " : forgive : {'love': 0.0406447600973044, 'joy': 0.02889424062343755, 'sadness': 0, 'anger': 0.00541488934465412, 'surprise': 0, 'fear': 0}\n",
        "42"
       ]
      },
      {
       "output_type": "stream",
       "stream": "stdout",
       "text": [
        " : rain : {'love': 0.0406447600973044, 'joy': 0.02889424062343755, 'sadness': 0, 'anger': 0.00541488934465412, 'surprise': 0.002461245547052995, 'fear': 0}\n",
        "42"
       ]
      },
      {
       "output_type": "stream",
       "stream": "stdout",
       "text": [
        " : confused : {'love': 0.0406447600973044, 'joy': 0.02889424062343755, 'sadness': 0, 'anger': 0.00541488934465412, 'surprise': 0.014352023108035433, 'fear': 0}\n",
        "42"
       ]
      },
      {
       "output_type": "stream",
       "stream": "stdout",
       "text": [
        " : tears : {'love': 0.0406447600973044, 'joy': 0.02889424062343755, 'sadness': 0.023957428089191327, 'anger': 0.00541488934465412, 'surprise': 0.014352023108035433, 'fear': 0}\n",
        "42"
       ]
      },
      {
       "output_type": "stream",
       "stream": "stdout",
       "text": [
        " : allure : {'love': 0.04922830406708582, 'joy': 0.02889424062343755, 'sadness': 0.023957428089191327, 'anger': 0.00541488934465412, 'surprise': 0.014352023108035433, 'fear': 0}\n",
        "42"
       ]
      },
      {
       "output_type": "stream",
       "stream": "stdout",
       "text": [
        " : crying : {'love': 0.04922830406708582, 'joy': 0.05014732089264658, 'sadness': 0.023957428089191327, 'anger': 0.00541488934465412, 'surprise': 0.014352023108035433, 'fear': 0}\n",
        "42"
       ]
      },
      {
       "output_type": "stream",
       "stream": "stdout",
       "text": [
        " : 112 : {'love': 0.04922830406708582, 'joy': 0.05014732089264658, 'sadness': 0.023957428089191327, 'anger': 0.00541488934465412, 'surprise': 0.014352023108035433, 'fear': 0}\n",
        "42"
       ]
      },
      {
       "output_type": "stream",
       "stream": "stdout",
       "text": [
        " : alone : {'love': 0.04922830406708582, 'joy': 0.05014732089264658, 'sadness': 0.023957428089191327, 'anger': 0.00541488934465412, 'surprise': 0.014352023108035433, 'fear': 0.002074348377349565}\n",
        "42"
       ]
      },
      {
       "output_type": "stream",
       "stream": "stdout",
       "text": [
        " : pleasure : {'love': 0.04922830406708582, 'joy': 0.11127268035246135, 'sadness': 0.023957428089191327, 'anger': 0.00541488934465412, 'surprise': 0.014352023108035433, 'fear': 0.002074348377349565}\n",
        "42"
       ]
      },
      {
       "output_type": "stream",
       "stream": "stdout",
       "text": [
        " : inferno : {'love': 0.04922830406708582, 'joy': 0.11127268035246135, 'sadness': 0.023957428089191327, 'anger': 0.010129901114493207, 'surprise': 0.014352023108035433, 'fear': 0.002074348377349565}\n",
        "42"
       ]
      },
      {
       "output_type": "stream",
       "stream": "stdout",
       "text": [
        " : left : {'love': 0.04922830406708582, 'joy': 0.11127268035246135, 'sadness': 0.023957428089191327, 'anger': 0.010129901114493207, 'surprise': 0.014352023108035433, 'fear': 0.007930666990688617}\n",
        "42"
       ]
      },
      {
       "output_type": "stream",
       "stream": "stdout",
       "text": [
        " : gave : {'love': 0.054755356461646774, 'joy': 0.11127268035246135, 'sadness': 0.023957428089191327, 'anger': 0.010129901114493207, 'surprise': 0.014352023108035433, 'fear': 0.007930666990688617}\n",
        "43"
       ]
      },
      {
       "output_type": "stream",
       "stream": "stdout",
       "text": [
        " : passes : {'love': 0, 'joy': 0, 'sadness': 0, 'anger': 0, 'surprise': 0, 'fear': 0.005054186163432088}\n",
        "43"
       ]
      },
      {
       "output_type": "stream",
       "stream": "stdout",
       "text": [
        " : heaven : {'love': 0, 'joy': 0.012847659665630983, 'sadness': 0, 'anger': 0, 'surprise': 0, 'fear': 0.005054186163432088}\n",
        "43"
       ]
      },
      {
       "output_type": "stream",
       "stream": "stdout",
       "text": [
        " : love : {'love': 0.10654391251164202, 'joy': 0.012847659665630983, 'sadness': 0, 'anger': 0, 'surprise': 0, 'fear': 0.005054186163432088}\n",
        "43"
       ]
      },
      {
       "output_type": "stream",
       "stream": "stdout",
       "text": [
        " : would : {'love': 0.10654391251164202, 'joy': 0.012847659665630983, 'sadness': 0, 'anger': 0, 'surprise': 0, 'fear': 0.005054186163432088}\n",
        "43"
       ]
      },
      {
       "output_type": "stream",
       "stream": "stdout",
       "text": [
        " : cause : {'love': 0.10654391251164202, 'joy': 0.012847659665630983, 'sadness': 0, 'anger': 0, 'surprise': 0, 'fear': 0.013480475186122316}\n",
        "43"
       ]
      },
      {
       "output_type": "stream",
       "stream": "stdout",
       "text": [
        " : ralph : {'love': 0.10654391251164202, 'joy': 0.012847659665630983, 'sadness': 0, 'anger': 0, 'surprise': 0, 'fear': 0.013480475186122316}\n",
        "43"
       ]
      },
      {
       "output_type": "stream",
       "stream": "stdout",
       "text": [
        " : lucky : {'love': 0.10654391251164202, 'joy': 0.012847659665630983, 'sadness': 0, 'anger': 0, 'surprise': 0.006279009536565721, 'fear': 0.013480475186122316}\n",
        "43"
       ]
      },
      {
       "output_type": "stream",
       "stream": "stdout",
       "text": [
        " : ricky : {'love': 0.10654391251164202, 'joy': 0.012847659665630983, 'sadness': 0, 'anger': 0, 'surprise': 0.006279009536565721, 'fear': 0.013480475186122316}\n",
        "43"
       ]
      },
      {
       "output_type": "stream",
       "stream": "stdout",
       "text": [
        " : chorus : {'love': 0.10654391251164202, 'joy': 0.01927736800885791, 'sadness': 0, 'anger': 0, 'surprise': 0.006279009536565721, 'fear': 0.013480475186122316}\n",
        "43"
       ]
      },
      {
       "output_type": "stream",
       "stream": "stdout",
       "text": [
        " : affecting : {'love': 0.10654391251164202, 'joy': 0.01927736800885791, 'sadness': 0, 'anger': 0, 'surprise': 0.009798340571325646, 'fear': 0.013480475186122316}\n",
        "43"
       ]
      },
      {
       "output_type": "stream",
       "stream": "stdout",
       "text": [
        " : write : {'love': 0.10993368246829721, 'joy': 0.01927736800885791, 'sadness': 0, 'anger': 0, 'surprise': 0.009798340571325646, 'fear': 0.013480475186122316}\n",
        "43"
       ]
      },
      {
       "output_type": "stream",
       "stream": "stdout",
       "text": [
        " : man : {'love': 0.11879055669782132, 'joy': 0.01927736800885791, 'sadness': 0, 'anger': 0, 'surprise': 0.009798340571325646, 'fear': 0.013480475186122316}\n",
        "43"
       ]
      },
      {
       "output_type": "stream",
       "stream": "stdout",
       "text": [
        " : always : {'love': 0.12583303971691612, 'joy': 0.01927736800885791, 'sadness': 0, 'anger': 0, 'surprise': 0.009798340571325646, 'fear': 0.013480475186122316}\n",
        "43"
       ]
      },
      {
       "output_type": "stream",
       "stream": "stdout",
       "text": [
        " : jealous : {'love': 0.12583303971691612, 'joy': 0.01927736800885791, 'sadness': 0, 'anger': 0.007015336511143128, 'surprise': 0.009798340571325646, 'fear': 0.013480475186122316}\n",
        "43"
       ]
      },
      {
       "output_type": "stream",
       "stream": "stdout",
       "text": [
        " : babe : {'love': 0.12770700962277015, 'joy': 0.01927736800885791, 'sadness': 0, 'anger': 0.007015336511143128, 'surprise': 0.009798340571325646, 'fear': 0.013480475186122316}\n",
        "43"
       ]
      },
      {
       "output_type": "stream",
       "stream": "stdout",
       "text": [
        " : girl : {'love': 0.13811357477249825, 'joy': 0.01927736800885791, 'sadness': 0, 'anger': 0.007015336511143128, 'surprise': 0.009798340571325646, 'fear': 0.013480475186122316}\n",
        "43"
       ]
      },
      {
       "output_type": "stream",
       "stream": "stdout",
       "text": [
        " : still : {'love': 0.13811357477249825, 'joy': 0.01927736800885791, 'sadness': 0, 'anger': 0.014184021488740378, 'surprise': 0.009798340571325646, 'fear': 0.013480475186122316}\n",
        "43"
       ]
      },
      {
       "output_type": "stream",
       "stream": "stdout",
       "text": [
        " : friends : {'love': 0.1627344519432599, 'joy': 0.01927736800885791, 'sadness': 0, 'anger': 0.014184021488740378, 'surprise': 0.009798340571325646, 'fear': 0.013480475186122316}\n",
        "43"
       ]
      },
      {
       "output_type": "stream",
       "stream": "stdout",
       "text": [
        " : sent : {'love': 0.1627344519432599, 'joy': 0.01927736800885791, 'sadness': 0, 'anger': 0.014184021488740378, 'surprise': 0.009798340571325646, 'fear': 0.016009960678425358}\n",
        "43"
       ]
      },
      {
       "output_type": "stream",
       "stream": "stdout",
       "text": [
        " : happy : {'love': 0.1627344519432599, 'joy': 0.04071791276760487, 'sadness': 0, 'anger': 0.014184021488740378, 'surprise': 0.009798340571325646, 'fear': 0.016009960678425358}\n",
        "45"
       ]
      },
      {
       "output_type": "stream",
       "stream": "stdout",
       "text": [
        " : ass : {'love': 0.002774448930646963, 'joy': 0, 'sadness': 0, 'anger': 0, 'surprise': 0, 'fear': 0}\n",
        "Error in getting similarity for"
       ]
      },
      {
       "output_type": "stream",
       "stream": "stdout",
       "text": [
        " somethin and sadness\n",
        "45"
       ]
      },
      {
       "output_type": "stream",
       "stream": "stdout",
       "text": [
        " : somethin : {'love': 0.002774448930646963, 'joy': 0, 'sadness': 0, 'anger': 0, 'surprise': 0, 'fear': 0}\n",
        "45"
       ]
      },
      {
       "output_type": "stream",
       "stream": "stdout",
       "text": [
        " : named : {'love': 0.005588721431157654, 'joy': 0, 'sadness': 0, 'anger': 0, 'surprise': 0, 'fear': 0}\n",
        "45"
       ]
      },
      {
       "output_type": "stream",
       "stream": "stdout",
       "text": [
        " : used : {'love': 0.005588721431157654, 'joy': 0, 'sadness': 0.002570253092499992, 'anger': 0, 'surprise': 0, 'fear': 0}\n",
        "45"
       ]
      },
      {
       "output_type": "stream",
       "stream": "stdout",
       "text": [
        " : ten : {'love': 0.005588721431157654, 'joy': 0, 'sadness': 0.002570253092499992, 'anger': 0, 'surprise': 0, 'fear': 0}\n",
        "45"
       ]
      },
      {
       "output_type": "stream",
       "stream": "stdout",
       "text": [
        " : aint : {'love': 0.005588721431157654, 'joy': 0, 'sadness': 0.002570253092499992, 'anger': 0, 'surprise': 0, 'fear': 0}\n",
        "45"
       ]
      },
      {
       "output_type": "stream",
       "stream": "stdout",
       "text": [
        " : keys : {'love': 0.005588721431157654, 'joy': 0, 'sadness': 0.002570253092499992, 'anger': 0, 'surprise': 0.0017175628871487654, 'fear': 0}\n",
        "45"
       ]
      },
      {
       "output_type": "stream",
       "stream": "stdout",
       "text": [
        " : pussy : {'love': 0.010179750496180456, 'joy': 0, 'sadness': 0.002570253092499992, 'anger': 0, 'surprise': 0.0017175628871487654, 'fear': 0}\n",
        "45"
       ]
      },
      {
       "output_type": "stream",
       "stream": "stdout",
       "text": [
        " : dick : {'love': 0.010179750496180456, 'joy': 0, 'sadness': 0.002570253092499992, 'anger': 0, 'surprise': 0.0017175628871487654, 'fear': 0.005908736019074484}\n",
        "45"
       ]
      },
      {
       "output_type": "stream",
       "stream": "stdout",
       "text": [
        " : dude : {'love': 0.01421564166264561, 'joy': 0, 'sadness': 0.002570253092499992, 'anger': 0, 'surprise': 0.0017175628871487654, 'fear': 0.005908736019074484}\n",
        "45"
       ]
      },
      {
       "output_type": "stream",
       "stream": "stdout",
       "text": [
        " : fuck : {'love': 0.016407687812719025, 'joy': 0, 'sadness': 0.002570253092499992, 'anger': 0, 'surprise': 0.0017175628871487654, 'fear': 0.005908736019074484}\n",
        "45"
       ]
      },
      {
       "output_type": "stream",
       "stream": "stdout",
       "text": [
        " : screamin : {'love': 0.016407687812719025, 'joy': 0, 'sadness': 0.002570253092499992, 'anger': 0, 'surprise': 0.0017175628871487654, 'fear': 0.005908736019074484}\n",
        "45"
       ]
      },
      {
       "output_type": "stream",
       "stream": "stdout",
       "text": [
        " : jimmy : {'love': 0.016407687812719025, 'joy': 0, 'sadness': 0.002570253092499992, 'anger': 0, 'surprise': 0.0017175628871487654, 'fear': 0.005908736019074484}\n",
        "45"
       ]
      },
      {
       "output_type": "stream",
       "stream": "stdout",
       "text": [
        " : tonight : {'love': 0.016407687812719025, 'joy': 0, 'sadness': 0.002570253092499992, 'anger': 0, 'surprise': 0.004360048643419084, 'fear': 0.005908736019074484}\n",
        "45"
       ]
      },
      {
       "output_type": "stream",
       "stream": "stdout",
       "text": [
        " : ain : {'love': 0.016407687812719025, 'joy': 0, 'sadness': 0.002570253092499992, 'anger': 0, 'surprise': 0.004360048643419084, 'fear': 0.005908736019074484}\n",
        "45"
       ]
      },
      {
       "output_type": "stream",
       "stream": "stdout",
       "text": [
        " : frontin : {'love': 0.016407687812719025, 'joy': 0, 'sadness': 0.002570253092499992, 'anger': 0, 'surprise': 0.004360048643419084, 'fear': 0.005908736019074484}\n",
        "45"
       ]
      },
      {
       "output_type": "stream",
       "stream": "stdout",
       "text": [
        " : fucked : {'love': 0.018826218207156763, 'joy': 0, 'sadness': 0.002570253092499992, 'anger': 0, 'surprise': 0.004360048643419084, 'fear': 0.005908736019074484}\n",
        "45"
       ]
      },
      {
       "output_type": "stream",
       "stream": "stdout",
       "text": [
        " : suck : {'love': 0.022761813429220498, 'joy': 0, 'sadness': 0.002570253092499992, 'anger': 0, 'surprise': 0.004360048643419084, 'fear': 0.005908736019074484}\n",
        "45"
       ]
      },
      {
       "output_type": "stream",
       "stream": "stdout",
       "text": [
        " : eat : {'love': 0.029315983051883595, 'joy': 0, 'sadness': 0.002570253092499992, 'anger': 0, 'surprise': 0.004360048643419084, 'fear': 0.005908736019074484}\n",
        "45"
       ]
      },
      {
       "output_type": "stream",
       "stream": "stdout",
       "text": [
        " : shit : {'love': 0.031153681327779275, 'joy': 0, 'sadness': 0.002570253092499992, 'anger': 0, 'surprise': 0.004360048643419084, 'fear': 0.005908736019074484}\n",
        "46"
       ]
      },
      {
       "output_type": "stream",
       "stream": "stdout",
       "text": [
        " : buck : {'love': 0, 'joy': 0, 'sadness': 0, 'anger': 0, 'surprise': 0, 'fear': 0.00017397101372114423}\n",
        "46"
       ]
      },
      {
       "output_type": "stream",
       "stream": "stdout",
       "text": [
        " : eyes : {'love': 0, 'joy': 0, 'sadness': 0, 'anger': 0, 'surprise': 0.007724861101827857, 'fear': 0.00017397101372114423}\n",
        "46"
       ]
      },
      {
       "output_type": "stream",
       "stream": "stdout",
       "text": [
        " : nigga : {'love': 0.0, 'joy': 0, 'sadness': 0, 'anger': 0, 'surprise': 0.007724861101827857, 'fear': 0.00017397101372114423}\n",
        "46"
       ]
      },
      {
       "output_type": "stream",
       "stream": "stdout",
       "text": [
        " : look : {'love': 0.0, 'joy': 0, 'sadness': 0, 'anger': 0, 'surprise': 0.015082442002389212, 'fear': 0.00017397101372114423}\n",
        "46"
       ]
      },
      {
       "output_type": "stream",
       "stream": "stdout",
       "text": [
        " : would : {'love': 0.0, 'joy': 0, 'sadness': 0, 'anger': 0, 'surprise': 0.015082442002389212, 'fear': 0.00017397101372114423}\n",
        "46"
       ]
      },
      {
       "output_type": "stream",
       "stream": "stdout",
       "text": [
        " : niggas : {'love': 0.0, 'joy': 0, 'sadness': 0, 'anger': 0, 'surprise': 0.015082442002389212, 'fear': 0.00017397101372114423}\n",
        "46"
       ]
      },
      {
       "output_type": "stream",
       "stream": "stdout",
       "text": [
        " : bite : {'love': 0.0016863593280469404, 'joy': 0, 'sadness': 0, 'anger': 0, 'surprise': 0.015082442002389212, 'fear': 0.00017397101372114423}\n",
        "46"
       ]
      },
      {
       "output_type": "stream",
       "stream": "stdout",
       "text": [
        " : bone : {'love': 0.0016863593280469404, 'joy': 0, 'sadness': 0, 'anger': 0, 'surprise': 0.015082442002389212, 'fear': 0.002050820438926077}\n",
        "46"
       ]
      },
      {
       "output_type": "stream",
       "stream": "stdout",
       "text": [
        " : fuck : {'love': 0.003129161066547917, 'joy': 0, 'sadness': 0, 'anger': 0, 'surprise': 0.015082442002389212, 'fear': 0.002050820438926077}\n",
        "46"
       ]
      },
      {
       "output_type": "stream",
       "stream": "stdout",
       "text": [
        " : bloody : {'love': 0.003129161066547917, 'joy': 0, 'sadness': 0, 'anger': 0.0006465671065593821, 'surprise': 0.015082442002389212, 'fear': 0.002050820438926077}\n",
        "46"
       ]
      },
      {
       "output_type": "stream",
       "stream": "stdout",
       "text": [
        " : put : {'love': 0.003129161066547917, 'joy': 0, 'sadness': 0, 'anger': 0.0006465671065593821, 'surprise': 0.015082442002389212, 'fear': 0.0035855757402435844}\n",
        "46"
       ]
      },
      {
       "output_type": "stream",
       "stream": "stdout",
       "text": [
        " : see : {'love': 0.003129161066547917, 'joy': 0, 'sadness': 0, 'anger': 0.0006465671065593821, 'surprise': 0.024549320228826943, 'fear': 0.0035855757402435844}\n",
        "46"
       ]
      },
      {
       "output_type": "stream",
       "stream": "stdout",
       "text": [
        " : krayzie : {'love': 0.003129161066547917, 'joy': 0, 'sadness': 0, 'anger': 0.0006465671065593821, 'surprise': 0.024549320228826943, 'fear': 0.0035855757402435844}\n",
        "46"
       ]
      },
      {
       "output_type": "stream",
       "stream": "stdout",
       "text": [
        " : harmony : {'love': 0.008868891184367417, 'joy': 0, 'sadness': 0, 'anger': 0.0006465671065593821, 'surprise': 0.024549320228826943, 'fear': 0.0035855757402435844}\n",
        "46"
       ]
      },
      {
       "output_type": "stream",
       "stream": "stdout",
       "text": [
        " : fuckin : {'love': 0.008868891184367417, 'joy': 0, 'sadness': 0, 'anger': 0.0006465671065593821, 'surprise': 0.024549320228826943, 'fear': 0.0035855757402435844}\n",
        "46"
       ]
      },
      {
       "output_type": "stream",
       "stream": "stdout",
       "text": [
        " : thug : {'love': 0.008868891184367417, 'joy': 0.0019199978525914693, 'sadness': 0, 'anger': 0.0006465671065593821, 'surprise': 0.024549320228826943, 'fear': 0.0035855757402435844}\n",
        "46"
       ]
      },
      {
       "output_type": "stream",
       "stream": "stdout",
       "text": [
        " : hate : {'love': 0.01815793500834038, 'joy': 0.0019199978525914693, 'sadness': 0, 'anger': 0.0006465671065593821, 'surprise': 0.024549320228826943, 'fear': 0.0035855757402435844}\n",
        "46"
       ]
      },
      {
       "output_type": "stream",
       "stream": "stdout",
       "text": [
        " : tell : {'love': 0.01815793500834038, 'joy': 0.0019199978525914693, 'sadness': 0, 'anger': 0.0006465671065593821, 'surprise': 0.030448777523464574, 'fear': 0.0035855757402435844}\n",
        "46"
       ]
      },
      {
       "output_type": "stream",
       "stream": "stdout",
       "text": [
        " : shit : {'love': 0.020980266078711344, 'joy': 0.0019199978525914693, 'sadness': 0, 'anger': 0.0006465671065593821, 'surprise': 0.030448777523464574, 'fear': 0.0035855757402435844}\n",
        "46"
       ]
      },
      {
       "output_type": "stream",
       "stream": "stdout",
       "text": [
        " : gang : {'love': 0.020980266078711344, 'joy': 0.0019199978525914693, 'sadness': 0, 'anger': 0.0006465671065593821, 'surprise': 0.030448777523464574, 'fear': 0.004753889336083922}\n",
        "47"
       ]
      },
      {
       "output_type": "stream",
       "stream": "stdout",
       "text": [
        " : fed : {'love': 0.0034779477852626135, 'joy': 0, 'sadness': 0, 'anger': 0, 'surprise': 0, 'fear': 0}\n",
        "47"
       ]
      },
      {
       "output_type": "stream",
       "stream": "stdout",
       "text": [
        " : repeat : {'love': 0.0034779477852626135, 'joy': 0, 'sadness': 0, 'anger': 0, 'surprise': 0.0044759555706758635, 'fear': 0}\n",
        "47"
       ]
      },
      {
       "output_type": "stream",
       "stream": "stdout",
       "text": [
        " : rare : {'love': 0.0034779477852626135, 'joy': 0, 'sadness': 0, 'anger': 0, 'surprise': 0.010644336385140781, 'fear': 0}\n",
        "47"
       ]
      },
      {
       "output_type": "stream",
       "stream": "stdout",
       "text": [
        " : yah : {'love': 0.0034779477852626135, 'joy': 0, 'sadness': 0, 'anger': 0, 'surprise': 0.010644336385140781, 'fear': 0}\n",
        "47"
       ]
      },
      {
       "output_type": "stream",
       "stream": "stdout",
       "text": [
        " : get : {'love': 0.0034779477852626135, 'joy': 0, 'sadness': 0, 'anger': 0.0002013187139348268, 'surprise': 0.010644336385140781, 'fear': 0}\n",
        "47"
       ]
      },
      {
       "output_type": "stream",
       "stream": "stdout",
       "text": [
        " : cuz : {'love': 0.0034779477852626135, 'joy': 0, 'sadness': 0, 'anger': 0.0002013187139348268, 'surprise': 0.010644336385140781, 'fear': 0}\n",
        "47"
       ]
      },
      {
       "output_type": "stream",
       "stream": "stdout",
       "text": [
        " : granted : {'love': 0.0034779477852626135, 'joy': 0.0014704915230973027, 'sadness': 0, 'anger': 0.0002013187139348268, 'surprise': 0.010644336385140781, 'fear': 0}\n",
        "47"
       ]
      },
      {
       "output_type": "stream",
       "stream": "stdout",
       "text": [
        " : confused : {'love': 0.0034779477852626135, 'joy': 0.0014704915230973027, 'sadness': 0, 'anger': 0.0002013187139348268, 'surprise': 0.026498706466450698, 'fear': 0}\n",
        "47"
       ]
      },
      {
       "output_type": "stream",
       "stream": "stdout",
       "text": [
        " : together : {'love': 0.01143934873341063, 'joy': 0.0014704915230973027, 'sadness': 0, 'anger': 0.0002013187139348268, 'surprise': 0.026498706466450698, 'fear': 0}\n",
        "47"
       ]
      },
      {
       "output_type": "stream",
       "stream": "stdout",
       "text": [
        " : stay : {'love': 0.02373994460437805, 'joy': 0.0014704915230973027, 'sadness': 0, 'anger': 0.0002013187139348268, 'surprise': 0.026498706466450698, 'fear': 0}\n",
        "47"
       ]
      },
      {
       "output_type": "stream",
       "stream": "stdout",
       "text": [
        " : feel : {'love': 0.02373994460437805, 'joy': 0.0014704915230973027, 'sadness': 0, 'anger': 0.0002013187139348268, 'surprise': 0.026498706466450698, 'fear': 0.014659012265635584}\n",
        "47"
       ]
      },
      {
       "output_type": "stream",
       "stream": "stdout",
       "text": [
        " : need : {'love': 0.027647243071300086, 'joy': 0.0014704915230973027, 'sadness': 0, 'anger': 0.0002013187139348268, 'surprise': 0.026498706466450698, 'fear': 0.014659012265635584}\n",
        "47"
       ]
      },
      {
       "output_type": "stream",
       "stream": "stdout",
       "text": [
        " : willing : {'love': 0.03338452814819193, 'joy': 0.0014704915230973027, 'sadness': 0, 'anger': 0.0002013187139348268, 'surprise': 0.026498706466450698, 'fear': 0.014659012265635584}\n",
        "47"
       ]
      },
      {
       "output_type": "stream",
       "stream": "stdout",
       "text": [
        " : let : {'love': 0.04188023435612282, 'joy': 0.0014704915230973027, 'sadness': 0, 'anger': 0.0002013187139348268, 'surprise': 0.026498706466450698, 'fear': 0.014659012265635584}\n",
        "47"
       ]
      },
      {
       "output_type": "stream",
       "stream": "stdout",
       "text": [
        " : know : {'love': 0.053789041836907976, 'joy': 0.0014704915230973027, 'sadness': 0, 'anger': 0.0002013187139348268, 'surprise': 0.026498706466450698, 'fear': 0.014659012265635584}\n",
        "47"
       ]
      },
      {
       "output_type": "stream",
       "stream": "stdout",
       "text": [
        " : taken : {'love': 0.053789041836907976, 'joy': 0.0014704915230973027, 'sadness': 0, 'anger': 0.0002013187139348268, 'surprise': 0.026498706466450698, 'fear': 0.014659012265635584}\n",
        "Error in getting similarity for"
       ]
      },
      {
       "output_type": "stream",
       "stream": "stdout",
       "text": [
        " wanna and sadness\n",
        "47"
       ]
      },
      {
       "output_type": "stream",
       "stream": "stdout",
       "text": [
        " : wanna : {'love': 0.053789041836907976, 'joy': 0.0014704915230973027, 'sadness': 0, 'anger': 0.0002013187139348268, 'surprise': 0.026498706466450698, 'fear': 0.014659012265635584}\n",
        "47"
       ]
      },
      {
       "output_type": "stream",
       "stream": "stdout",
       "text": [
        " : brand : {'love': 0.053789041836907976, 'joy': 0.0014704915230973027, 'sadness': 0, 'anger': 0.0002013187139348268, 'surprise': 0.026498706466450698, 'fear': 0.01723269461307942}\n",
        "47"
       ]
      },
      {
       "output_type": "stream",
       "stream": "stdout",
       "text": [
        " : hope : {'love': 0.053789041836907976, 'joy': 0.0014704915230973027, 'sadness': 0, 'anger': 0.0002013187139348268, 'surprise': 0.026498706466450698, 'fear': 0.026422936576326432}\n",
        "47"
       ]
      },
      {
       "output_type": "stream",
       "stream": "stdout",
       "text": [
        " : really : {'love': 0.07597128356263216, 'joy': 0.0014704915230973027, 'sadness': 0, 'anger': 0.0002013187139348268, 'surprise': 0.026498706466450698, 'fear': 0.026422936576326432}\n",
        "50"
       ]
      },
      {
       "output_type": "stream",
       "stream": "stdout",
       "text": [
        " : body : {'love': 0, 'joy': 0, 'sadness': 0, 'anger': 0, 'surprise': 0, 'fear': 0.002305040029295755}\n",
        "50"
       ]
      },
      {
       "output_type": "stream",
       "stream": "stdout",
       "text": [
        " : represent : {'love': 0, 'joy': 0, 'sadness': 0.006796862897244161, 'anger': 0, 'surprise': 0, 'fear': 0.002305040029295755}\n",
        "50"
       ]
      },
      {
       "output_type": "stream",
       "stream": "stdout",
       "text": [
        " : good : {'love': 0.02512998975601095, 'joy': 0, 'sadness': 0.006796862897244161, 'anger': 0, 'surprise': 0, 'fear': 0.002305040029295755}\n",
        "Error in getting similarity for"
       ]
      },
      {
       "output_type": "stream",
       "stream": "stdout",
       "text": [
        " bomb and joy\n",
        "50"
       ]
      },
      {
       "output_type": "stream",
       "stream": "stdout",
       "text": [
        " : bomb : {'love': 0.02512998975601095, 'joy': 0, 'sadness': 0.006796862897244161, 'anger': 0, 'surprise': 0, 'fear': 0.009476561378785081}\n",
        "50"
       ]
      },
      {
       "output_type": "stream",
       "stream": "stdout",
       "text": [
        " : boy : {'love': 0.03228766000913512, 'joy': 0, 'sadness': 0.006796862897244161, 'anger': 0, 'surprise': 0, 'fear': 0.009476561378785081}\n",
        "50"
       ]
      },
      {
       "output_type": "stream",
       "stream": "stdout",
       "text": [
        " : yea : {'love': 0.03228766000913512, 'joy': 0, 'sadness': 0.006796862897244161, 'anger': 0, 'surprise': 0, 'fear': 0.009476561378785081}\n",
        "50"
       ]
      },
      {
       "output_type": "stream",
       "stream": "stdout",
       "text": [
        " : work : {'love': 0.033702969382730985, 'joy': 0, 'sadness': 0.006796862897244161, 'anger': 0, 'surprise': 0, 'fear': 0.009476561378785081}\n",
        "50"
       ]
      },
      {
       "output_type": "stream",
       "stream": "stdout",
       "text": [
        " : stop : {'love': 0.033702969382730985, 'joy': 0, 'sadness': 0.006796862897244161, 'anger': 0, 'surprise': 0, 'fear': 0.011670304403686653}\n",
        "50"
       ]
      },
      {
       "output_type": "stream",
       "stream": "stdout",
       "text": [
        " : never : {'love': 0.04022367071011541, 'joy': 0, 'sadness': 0.006796862897244161, 'anger': 0, 'surprise': 0, 'fear': 0.011670304403686653}\n",
        "50"
       ]
      },
      {
       "output_type": "stream",
       "stream": "stdout",
       "text": [
        " : find : {'love': 0.04022367071011541, 'joy': 0, 'sadness': 0.006796862897244161, 'anger': 0, 'surprise': 0.016686292233237594, 'fear': 0.011670304403686653}\n",
        "50"
       ]
      },
      {
       "output_type": "stream",
       "stream": "stdout",
       "text": [
        " : better : {'love': 0.05506930369939109, 'joy': 0, 'sadness': 0.006796862897244161, 'anger': 0, 'surprise': 0.016686292233237594, 'fear': 0.011670304403686653}\n",
        "50"
       ]
      },
      {
       "output_type": "stream",
       "stream": "stdout",
       "text": [
        " : chorus : {'love': 0.05506930369939109, 'joy': 0.00439274839978038, 'sadness': 0.006796862897244161, 'anger': 0, 'surprise': 0.016686292233237594, 'fear': 0.011670304403686653}\n",
        "50"
       ]
      },
      {
       "output_type": "stream",
       "stream": "stdout",
       "text": [
        " : another : {'love': 0.05506930369939109, 'joy': 0.00439274839978038, 'sadness': 0.006796862897244161, 'anger': 0, 'surprise': 0.016686292233237594, 'fear': 0.011670304403686653}\n",
        "50"
       ]
      },
      {
       "output_type": "stream",
       "stream": "stdout",
       "text": [
        " : baby : {'love': 0.062401458072863916, 'joy': 0.00439274839978038, 'sadness': 0.006796862897244161, 'anger': 0, 'surprise': 0.016686292233237594, 'fear': 0.011670304403686653}\n",
        "50"
       ]
      },
      {
       "output_type": "stream",
       "stream": "stdout",
       "text": [
        " : love : {'love': 0.11699420663254825, 'joy': 0.00439274839978038, 'sadness': 0.006796862897244161, 'anger': 0, 'surprise': 0.016686292233237594, 'fear': 0.011670304403686653}\n",
        "50"
       ]
      },
      {
       "output_type": "stream",
       "stream": "stdout",
       "text": [
        " : get : {'love': 0.11699420663254825, 'joy': 0.00439274839978038, 'sadness': 0.006796862897244161, 'anger': 0.00012777915066276613, 'surprise': 0.016686292233237594, 'fear': 0.011670304403686653}\n",
        "50"
       ]
      },
      {
       "output_type": "stream",
       "stream": "stdout",
       "text": [
        " : cause : {'love': 0.11699420663254825, 'joy': 0.00439274839978038, 'sadness': 0.006796862897244161, 'anger': 0.00012777915066276613, 'surprise': 0.016686292233237594, 'fear': 0.01944198915519268}\n",
        "50"
       ]
      },
      {
       "output_type": "stream",
       "stream": "stdout",
       "text": [
        " : shhh : {'love': 0.11699420663254825, 'joy': 0.00439274839978038, 'sadness': 0.006796862897244161, 'anger': 0.00012777915066276613, 'surprise': 0.016686292233237594, 'fear': 0.01944198915519268}\n",
        "50"
       ]
      },
      {
       "output_type": "stream",
       "stream": "stdout",
       "text": [
        " : tha : {'love': 0.11699420663254825, 'joy': 0.00439274839978038, 'sadness': 0.006796862897244161, 'anger': 0.00012777915066276613, 'surprise': 0.016686292233237594, 'fear': 0.01944198915519268}\n",
        "50"
       ]
      },
      {
       "output_type": "stream",
       "stream": "stdout",
       "text": [
        " : thats : {'love': 0.11699420663254825, 'joy': 0.00439274839978038, 'sadness': 0.006796862897244161, 'anger': 0.00012777915066276613, 'surprise': 0.016686292233237594, 'fear': 0.01944198915519268}\n",
        "51"
       ]
      },
      {
       "output_type": "stream",
       "stream": "stdout",
       "text": [
        " : heartache : {'love': 0, 'joy': 0, 'sadness': 0.0711121946652097, 'anger': 0, 'surprise': 0, 'fear': 0}\n",
        "51"
       ]
      },
      {
       "output_type": "stream",
       "stream": "stdout",
       "text": [
        " : pounding : {'love': 0, 'joy': 0.0015894016078699768, 'sadness': 0.0711121946652097, 'anger': 0, 'surprise': 0, 'fear': 0}\n",
        "51"
       ]
      },
      {
       "output_type": "stream",
       "stream": "stdout",
       "text": [
        " : nida : {'love': 0.0, 'joy': 0.0015894016078699768, 'sadness': 0.0711121946652097, 'anger': 0, 'surprise': 0, 'fear': 0}\n",
        "51"
       ]
      },
      {
       "output_type": "stream",
       "stream": "stdout",
       "text": [
        " : save : {'love': 0.004340271440211411, 'joy': 0.0015894016078699768, 'sadness': 0.0711121946652097, 'anger': 0, 'surprise': 0, 'fear': 0}\n",
        "51"
       ]
      },
      {
       "output_type": "stream",
       "stream": "stdout",
       "text": [
        " : thunder : {'love': 0.004340271440211411, 'joy': 0.0015894016078699768, 'sadness': 0.0711121946652097, 'anger': 0, 'surprise': 0, 'fear': 0.0030702337256830053}\n",
        "51"
       ]
      },
      {
       "output_type": "stream",
       "stream": "stdout",
       "text": [
        " : gotta : {'love': 0.004340271440211411, 'joy': 0.0015894016078699768, 'sadness': 0.0711121946652097, 'anger': 0, 'surprise': 0, 'fear': 0.0030702337256830053}\n",
        "51"
       ]
      },
      {
       "output_type": "stream",
       "stream": "stdout",
       "text": [
        " : hanging : {'love': 0.004340271440211411, 'joy': 0.0015894016078699768, 'sadness': 0.07361501576148716, 'anger': 0, 'surprise': 0, 'fear': 0.0030702337256830053}\n",
        "51"
       ]
      },
      {
       "output_type": "stream",
       "stream": "stdout",
       "text": [
        " : back : {'love': 0.004340271440211411, 'joy': 0.0015894016078699768, 'sadness': 0.07361501576148716, 'anger': 0.001281058187240163, 'surprise': 0, 'fear': 0.0030702337256830053}\n",
        "51"
       ]
      },
      {
       "output_type": "stream",
       "stream": "stdout",
       "text": [
        " : deep : {'love': 0.004340271440211411, 'joy': 0.0015894016078699768, 'sadness': 0.07532699275947997, 'anger': 0.001281058187240163, 'surprise': 0, 'fear': 0.0030702337256830053}\n",
        "51"
       ]
      },
      {
       "output_type": "stream",
       "stream": "stdout",
       "text": [
        " : number : {'love': 0.004340271440211411, 'joy': 0.0015894016078699768, 'sadness': 0.07532699275947997, 'anger': 0.001281058187240163, 'surprise': 0.003138553124711001, 'fear': 0.0030702337256830053}\n",
        "51"
       ]
      },
      {
       "output_type": "stream",
       "stream": "stdout",
       "text": [
        " : shame : {'love': 0.004340271440211411, 'joy': 0.0015894016078699768, 'sadness': 0.07532699275947997, 'anger': 0.016659949278384954, 'surprise': 0.003138553124711001, 'fear': 0.0030702337256830053}\n",
        "51"
       ]
      },
      {
       "output_type": "stream",
       "stream": "stdout",
       "text": [
        " : waiting : {'love': 0.004340271440211411, 'joy': 0.0015894016078699768, 'sadness': 0.07532699275947997, 'anger': 0.016659949278384954, 'surprise': 0.006623580462712338, 'fear': 0.0030702337256830053}\n",
        "51"
       ]
      },
      {
       "output_type": "stream",
       "stream": "stdout",
       "text": [
        " : know : {'love': 0.020494827675015623, 'joy': 0.0015894016078699768, 'sadness': 0.07532699275947997, 'anger': 0.016659949278384954, 'surprise': 0.006623580462712338, 'fear': 0.0030702337256830053}\n",
        "51"
       ]
      },
      {
       "output_type": "stream",
       "stream": "stdout",
       "text": [
        " : night : {'love': 0.02562031929282114, 'joy': 0.0015894016078699768, 'sadness': 0.07532699275947997, 'anger': 0.016659949278384954, 'surprise': 0.006623580462712338, 'fear': 0.0030702337256830053}\n",
        "51"
       ]
      },
      {
       "output_type": "stream",
       "stream": "stdout",
       "text": [
        " : flowing : {'love': 0.02562031929282114, 'joy': 0.0015894016078699768, 'sadness': 0.07532699275947997, 'anger': 0.01894338567674267, 'surprise': 0.006623580462712338, 'fear': 0.0030702337256830053}\n",
        "51"
       ]
      },
      {
       "output_type": "stream",
       "stream": "stdout",
       "text": [
        " : message : {'love': 0.02562031929282114, 'joy': 0.0040351225316349396, 'sadness': 0.07532699275947997, 'anger': 0.01894338567674267, 'surprise': 0.006623580462712338, 'fear': 0.0030702337256830053}\n",
        "51"
       ]
      },
      {
       "output_type": "stream",
       "stream": "stdout",
       "text": [
        " : lovely : {'love': 0.08302925825818283, 'joy': 0.0040351225316349396, 'sadness': 0.07532699275947997, 'anger': 0.01894338567674267, 'surprise': 0.006623580462712338, 'fear': 0.0030702337256830053}\n",
        "51"
       ]
      },
      {
       "output_type": "stream",
       "stream": "stdout",
       "text": [
        " : wanna : {'love': 0.08302925825818283, 'joy': 0.0040351225316349396, 'sadness': 0.07532699275947997, 'anger': 0.01894338567674267, 'surprise': 0.006623580462712338, 'fear': 0.0030702337256830053}\n",
        "51"
       ]
      },
      {
       "output_type": "stream",
       "stream": "stdout",
       "text": [
        " : dee : {'love': 0.08302925825818283, 'joy': 0.0040351225316349396, 'sadness': 0.07532699275947997, 'anger': 0.01894338567674267, 'surprise': 0.006623580462712338, 'fear': 0.0030702337256830053}\n",
        "51"
       ]
      },
      {
       "output_type": "stream",
       "stream": "stdout",
       "text": [
        " : safely : {'love': 0.08302925825818283, 'joy': 0.0040351225316349396, 'sadness': 0.07532699275947997, 'anger': 0.021120483606349646, 'surprise': 0.006623580462712338, 'fear': 0.0030702337256830053}\n",
        "53"
       ]
      },
      {
       "output_type": "stream",
       "stream": "stdout",
       "text": [
        " : chorus : {'love': 0, 'joy': 0.0034815887972058468, 'sadness': 0, 'anger': 0, 'surprise': 0, 'fear': 0}\n",
        "53"
       ]
      },
      {
       "output_type": "stream",
       "stream": "stdout",
       "text": [
        " : style : {'love': 0.0037469707774356537, 'joy': 0.0034815887972058468, 'sadness': 0, 'anger': 0, 'surprise': 0, 'fear': 0}\n",
        "53"
       ]
      },
      {
       "output_type": "stream",
       "stream": "stdout",
       "text": [
        " : right : {'love': 0.0037469707774356537, 'joy': 0.0034815887972058468, 'sadness': 0, 'anger': 0, 'surprise': 0, 'fear': 0.0009707468283352543}\n",
        "53"
       ]
      },
      {
       "output_type": "stream",
       "stream": "stdout",
       "text": [
        " : jay : {'love': 0.0037469707774356537, 'joy': 0.0034815887972058468, 'sadness': 0, 'anger': 0, 'surprise': 0, 'fear': 0.0009707468283352543}\n",
        "53"
       ]
      },
      {
       "output_type": "stream",
       "stream": "stdout",
       "text": [
        " : ride : {'love': 0.0037469707774356537, 'joy': 0.0034815887972058468, 'sadness': 0, 'anger': 0, 'surprise': 0.00274765464949447, 'fear': 0.0009707468283352543}\n",
        "53"
       ]
      },
      {
       "output_type": "stream",
       "stream": "stdout",
       "text": [
        " : papa : {'love': 0.0037469707774356537, 'joy': 0.0034815887972058468, 'sadness': 0, 'anger': 0, 'surprise': 0.00274765464949447, 'fear': 0.0021759957436740312}\n",
        "53"
       ]
      },
      {
       "output_type": "stream",
       "stream": "stdout",
       "text": [
        " : uhh : {'love': 0.0037469707774356537, 'joy': 0.0034815887972058468, 'sadness': 0, 'anger': 0, 'surprise': 0.00274765464949447, 'fear': 0.0021759957436740312}\n",
        "53"
       ]
      },
      {
       "output_type": "stream",
       "stream": "stdout",
       "text": [
        " : posess : {'love': 0.0037469707774356537, 'joy': 0.0034815887972058468, 'sadness': 0, 'anger': 0, 'surprise': 0.00274765464949447, 'fear': 0.0021759957436740312}\n",
        "53"
       ]
      },
      {
       "output_type": "stream",
       "stream": "stdout",
       "text": [
        " : foxy : {'love': 0.0037469707774356537, 'joy': 0.0034815887972058468, 'sadness': 0, 'anger': 0, 'surprise': 0.00274765464949447, 'fear': 0.0021759957436740312}\n",
        "53"
       ]
      },
      {
       "output_type": "stream",
       "stream": "stdout",
       "text": [
        " : thing : {'love': 0.009394874867850624, 'joy': 0.0034815887972058468, 'sadness': 0, 'anger': 0, 'surprise': 0.00274765464949447, 'fear': 0.0021759957436740312}\n",
        "53"
       ]
      },
      {
       "output_type": "stream",
       "stream": "stdout",
       "text": [
        " : woods : {'love': 0.009394874867850624, 'joy': 0.0034815887972058468, 'sadness': 0.0006703791084849916, 'anger': 0, 'surprise': 0.00274765464949447, 'fear': 0.0021759957436740312}\n",
        "53"
       ]
      },
      {
       "output_type": "stream",
       "stream": "stdout",
       "text": [
        " : niggaz : {'love': 0.009394874867850624, 'joy': 0.0034815887972058468, 'sadness': 0.0006703791084849916, 'anger': 0, 'surprise': 0.00274765464949447, 'fear': 0.0021759957436740312}\n",
        "53"
       ]
      },
      {
       "output_type": "stream",
       "stream": "stdout",
       "text": [
        " : shake : {'love': 0.009394874867850624, 'joy': 0.0034815887972058468, 'sadness': 0.0006703791084849916, 'anger': 0, 'surprise': 0.00587413787011902, 'fear': 0.0021759957436740312}\n",
        "53"
       ]
      },
      {
       "output_type": "stream",
       "stream": "stdout",
       "text": [
        " : happened : {'love': 0.009394874867850624, 'joy': 0.0034815887972058468, 'sadness': 0.0006703791084849916, 'anger': 0, 'surprise': 0.007874593030744628, 'fear': 0.0021759957436740312}\n",
        "53"
       ]
      },
      {
       "output_type": "stream",
       "stream": "stdout",
       "text": [
        " : close : {'love': 0.009394874867850624, 'joy': 0.0034815887972058468, 'sadness': 0.0006703791084849916, 'anger': 0, 'surprise': 0.008630434209117311, 'fear': 0.0021759957436740312}\n",
        "53"
       ]
      },
      {
       "output_type": "stream",
       "stream": "stdout",
       "text": [
        " : nasty : {'love': 0.009394874867850624, 'joy': 0.0034815887972058468, 'sadness': 0.0006703791084849916, 'anger': 0, 'surprise': 0.014094349134669771, 'fear': 0.0021759957436740312}\n",
        "53"
       ]
      },
      {
       "output_type": "stream",
       "stream": "stdout",
       "text": [
        " : bigga : {'love': 0.009394874867850624, 'joy': 0.0034815887972058468, 'sadness': 0.0006703791084849916, 'anger': 0, 'surprise': 0.014094349134669771, 'fear': 0.0021759957436740312}\n",
        "53"
       ]
      },
      {
       "output_type": "stream",
       "stream": "stdout",
       "text": [
        " : throw : {'love': 0.01174268060803773, 'joy': 0.0034815887972058468, 'sadness': 0.0006703791084849916, 'anger': 0, 'surprise': 0.014094349134669771, 'fear': 0.0021759957436740312}\n",
        "53"
       ]
      },
      {
       "output_type": "stream",
       "stream": "stdout",
       "text": [
        " : shit : {'love': 0.014792136262362438, 'joy': 0.0034815887972058468, 'sadness': 0.0006703791084849916, 'anger': 0, 'surprise': 0.014094349134669771, 'fear': 0.0021759957436740312}\n",
        "53"
       ]
      },
      {
       "output_type": "stream",
       "stream": "stdout",
       "text": [
        " : take : {'love': 0.014792136262362438, 'joy': 0.0034815887972058468, 'sadness': 0.0006703791084849916, 'anger': 0, 'surprise': 0.014094349134669771, 'fear': 0.0021759957436740312}\n",
        "54"
       ]
      },
      {
       "output_type": "stream",
       "stream": "stdout",
       "text": [
        " : poncho : {'love': 0, 'joy': 0, 'sadness': 0, 'anger': 0.0015925087266824287, 'surprise': 0, 'fear': 0}\n",
        "54"
       ]
      },
      {
       "output_type": "stream",
       "stream": "stdout",
       "text": [
        " : okay : {'love': 0.010568259092147632, 'joy': 0, 'sadness': 0, 'anger': 0.0015925087266824287, 'surprise': 0, 'fear': 0}\n",
        "54"
       ]
      },
      {
       "output_type": "stream",
       "stream": "stdout",
       "text": [
        " : thirsty : {'love': 0.010568259092147632, 'joy': 0, 'sadness': 0, 'anger': 0.0015925087266824287, 'surprise': 0, 'fear': 0.002346745473387924}\n",
        "54"
       ]
      },
      {
       "output_type": "stream",
       "stream": "stdout",
       "text": [
        " : played : {'love': 0.023754529194341827, 'joy': 0, 'sadness': 0, 'anger': 0.0015925087266824287, 'surprise': 0, 'fear': 0.002346745473387924}\n",
        "54"
       ]
      },
      {
       "output_type": "stream",
       "stream": "stdout",
       "text": [
        " : far : {'love': 0.023754529194341827, 'joy': 0, 'sadness': 0, 'anger': 0.0015925087266824287, 'surprise': 0, 'fear': 0.008592180335760435}\n",
        "54"
       ]
      },
      {
       "output_type": "stream",
       "stream": "stdout",
       "text": [
        " : mold : {'love': 0.023754529194341827, 'joy': 0, 'sadness': 0, 'anger': 0.0015925087266824287, 'surprise': 0, 'fear': 0.008861636009864582}\n",
        "54"
       ]
      },
      {
       "output_type": "stream",
       "stream": "stdout",
       "text": [
        " : scrape : {'love': 0.023754529194341827, 'joy': 0, 'sadness': 0.001233061641308082, 'anger': 0.0015925087266824287, 'surprise': 0, 'fear': 0.008861636009864582}\n",
        "54"
       ]
      },
      {
       "output_type": "stream",
       "stream": "stdout",
       "text": [
        " : well : {'love': 0.023754529194341827, 'joy': 0.0045383651415742375, 'sadness': 0.001233061641308082, 'anger': 0.0015925087266824287, 'surprise': 0, 'fear': 0.008861636009864582}\n",
        "54"
       ]
      },
      {
       "output_type": "stream",
       "stream": "stdout",
       "text": [
        " : searching : {'love': 0.023754529194341827, 'joy': 0.0045383651415742375, 'sadness': 0.005480578960085052, 'anger': 0.0015925087266824287, 'surprise': 0, 'fear': 0.008861636009864582}\n",
        "54"
       ]
      },
      {
       "output_type": "stream",
       "stream": "stdout",
       "text": [
        " : coltrane : {'love': 0.023754529194341827, 'joy': 0.0045383651415742375, 'sadness': 0.005480578960085052, 'anger': 0.0015925087266824287, 'surprise': 0, 'fear': 0.008861636009864582}\n",
        "54"
       ]
      },
      {
       "output_type": "stream",
       "stream": "stdout",
       "text": [
        " : sad : {'love': 0.023754529194341827, 'joy': 0.0045383651415742375, 'sadness': 0.08583506008437007, 'anger': 0.0015925087266824287, 'surprise': 0, 'fear': 0.008861636009864582}\n",
        "54"
       ]
      },
      {
       "output_type": "stream",
       "stream": "stdout",
       "text": [
        " : bad : {'love': 0.023754529194341827, 'joy': 0.0045383651415742375, 'sadness': 0.08583506008437007, 'anger': 0.0015925087266824287, 'surprise': 0, 'fear': 0.021676692204191328}\n",
        "Error in getting similarity for"
       ]
      },
      {
       "output_type": "stream",
       "stream": "stdout",
       "text": [
        " promised and anger\n",
        "54"
       ]
      },
      {
       "output_type": "stream",
       "stream": "stdout",
       "text": [
        " : promised : {'love': 0.023754529194341827, 'joy': 0.0045383651415742375, 'sadness': 0.08583506008437007, 'anger': 0.0015925087266824287, 'surprise': 0, 'fear': 0.025967338739969387}\n",
        "54"
       ]
      },
      {
       "output_type": "stream",
       "stream": "stdout",
       "text": [
        " : stoned : {'love': 0.023754529194341827, 'joy': 0.0045383651415742375, 'sadness': 0.08583506008437007, 'anger': 0.0021536457753079117, 'surprise': 0, 'fear': 0.025967338739969387}\n",
        "54"
       ]
      },
      {
       "output_type": "stream",
       "stream": "stdout",
       "text": [
        " : hell : {'love': 0.023754529194341827, 'joy': 0.0045383651415742375, 'sadness': 0.08583506008437007, 'anger': 0.0021536457753079117, 'surprise': 0, 'fear': 0.03839030952130852}\n",
        "54"
       ]
      },
      {
       "output_type": "stream",
       "stream": "stdout",
       "text": [
        " : mosquitoes : {'love': 0.023754529194341827, 'joy': 0.0045383651415742375, 'sadness': 0.08583506008437007, 'anger': 0.004389178888653753, 'surprise': 0, 'fear': 0.03839030952130852}\n",
        "54"
       ]
      },
      {
       "output_type": "stream",
       "stream": "stdout",
       "text": [
        " : makes : {'love': 0.023754529194341827, 'joy': 0.0045383651415742375, 'sadness': 0.08583506008437007, 'anger': 0.004389178888653753, 'surprise': 0.004205069743900194, 'fear': 0.03839030952130852}\n",
        "54"
       ]
      },
      {
       "output_type": "stream",
       "stream": "stdout",
       "text": [
        " : benny : {'love': 0.023754529194341827, 'joy': 0.0045383651415742375, 'sadness': 0.08583506008437007, 'anger': 0.004389178888653753, 'surprise': 0.004205069743900194, 'fear': 0.03839030952130852}\n",
        "54"
       ]
      },
      {
       "output_type": "stream",
       "stream": "stdout",
       "text": [
        " : goodman : {'love': 0.023754529194341827, 'joy': 0.0045383651415742375, 'sadness': 0.08583506008437007, 'anger': 0.004389178888653753, 'surprise': 0.004205069743900194, 'fear': 0.03839030952130852}\n",
        "54"
       ]
      },
      {
       "output_type": "stream",
       "stream": "stdout",
       "text": [
        " : happy : {'love': 0.023754529194341827, 'joy': 0.07205906482626309, 'sadness': 0.08583506008437007, 'anger': 0.004389178888653753, 'surprise': 0.004205069743900194, 'fear': 0.03839030952130852}\n",
        "55"
       ]
      },
      {
       "output_type": "stream",
       "stream": "stdout",
       "text": [
        " : affair : {'love': 0.002069493235554241, 'joy': 0, 'sadness': 0, 'anger': 0, 'surprise': 0, 'fear': 0}\n",
        "55"
       ]
      },
      {
       "output_type": "stream",
       "stream": "stdout",
       "text": [
        " : great : {'love': 0.00953864797210876, 'joy': 0, 'sadness': 0, 'anger': 0, 'surprise': 0, 'fear': 0}\n",
        "55"
       ]
      },
      {
       "output_type": "stream",
       "stream": "stdout",
       "text": [
        " : repeat : {'love': 0.00953864797210876, 'joy': 0, 'sadness': 0, 'anger': 0, 'surprise': 0.004008318421500774, 'fear': 0}\n",
        "55"
       ]
      },
      {
       "output_type": "stream",
       "stream": "stdout",
       "text": [
        " : love : {'love': 0.04240293939361028, 'joy': 0, 'sadness': 0, 'anger': 0, 'surprise': 0.004008318421500774, 'fear': 0}\n",
        "55"
       ]
      },
      {
       "output_type": "stream",
       "stream": "stdout",
       "text": [
        " : surrounded : {'love': 0.04240293939361028, 'joy': 0, 'sadness': 0, 'anger': 0, 'surprise': 0.004008318421500774, 'fear': 0.00244664065879184}\n",
        "55"
       ]
      },
      {
       "output_type": "stream",
       "stream": "stdout",
       "text": [
        " : proud : {'love': 0.04240293939361028, 'joy': 0, 'sadness': 0, 'anger': 0, 'surprise': 0.016116123274964936, 'fear': 0.00244664065879184}\n",
        "55"
       ]
      },
      {
       "output_type": "stream",
       "stream": "stdout",
       "text": [
        " : wondered : {'love': 0.04240293939361028, 'joy': 0, 'sadness': 0, 'anger': 0, 'surprise': 0.026914096068560513, 'fear': 0.00244664065879184}\n",
        "55"
       ]
      },
      {
       "output_type": "stream",
       "stream": "stdout",
       "text": [
        " : make : {'love': 0.04240293939361028, 'joy': 0, 'sadness': 0, 'anger': 0, 'surprise': 0.028283673955878216, 'fear': 0.00244664065879184}\n",
        "55"
       ]
      },
      {
       "output_type": "stream",
       "stream": "stdout",
       "text": [
        " : never : {'love': 0.06301127530515731, 'joy': 0, 'sadness': 0, 'anger': 0, 'surprise': 0.028283673955878216, 'fear': 0.00244664065879184}\n",
        "55"
       ]
      },
      {
       "output_type": "stream",
       "stream": "stdout",
       "text": [
        " : keep : {'love': 0.06675546758193138, 'joy': 0, 'sadness': 0, 'anger': 0, 'surprise': 0.028283673955878216, 'fear': 0.00244664065879184}\n",
        "55"
       ]
      },
      {
       "output_type": "stream",
       "stream": "stdout",
       "text": [
        " : ecstasy : {'love': 0.06675546758193138, 'joy': 0.013461337572711854, 'sadness': 0, 'anger': 0, 'surprise': 0.028283673955878216, 'fear': 0.00244664065879184}\n",
        "55"
       ]
      },
      {
       "output_type": "stream",
       "stream": "stdout",
       "text": [
        " : ain : {'love': 0.06675546758193138, 'joy': 0.013461337572711854, 'sadness': 0, 'anger': 0, 'surprise': 0.028283673955878216, 'fear': 0.00244664065879184}\n",
        "55"
       ]
      },
      {
       "output_type": "stream",
       "stream": "stdout",
       "text": [
        " : promise : {'love': 0.08858746104942497, 'joy': 0.013461337572711854, 'sadness': 0, 'anger': 0, 'surprise': 0.028283673955878216, 'fear': 0.00244664065879184}\n",
        "55"
       ]
      },
      {
       "output_type": "stream",
       "stream": "stdout",
       "text": [
        " : begun : {'love': 0.08858746104942497, 'joy': 0.013461337572711854, 'sadness': 0, 'anger': 0.0011506223911341366, 'surprise': 0.028283673955878216, 'fear': 0.00244664065879184}\n",
        "55"
       ]
      },
      {
       "output_type": "stream",
       "stream": "stdout",
       "text": [
        " : lose : {'love': 0.09237737228603025, 'joy': 0.013461337572711854, 'sadness': 0, 'anger': 0.0011506223911341366, 'surprise': 0.028283673955878216, 'fear': 0.00244664065879184}\n",
        "55"
       ]
      },
      {
       "output_type": "stream",
       "stream": "stdout",
       "text": [
        " : command : {'love': 0.09421115607166419, 'joy': 0.013461337572711854, 'sadness': 0, 'anger': 0.0011506223911341366, 'surprise': 0.028283673955878216, 'fear': 0.00244664065879184}\n",
        "55"
       ]
      },
      {
       "output_type": "stream",
       "stream": "stdout",
       "text": [
        " : sunshine : {'love': 0.09421115607166419, 'joy': 0.020416285536017865, 'sadness': 0, 'anger': 0.0011506223911341366, 'surprise': 0.028283673955878216, 'fear': 0.00244664065879184}\n",
        "55"
       ]
      },
      {
       "output_type": "stream",
       "stream": "stdout",
       "text": [
        " : hurt : {'love': 0.09421115607166419, 'joy': 0.020416285536017865, 'sadness': 0, 'anger': 0.0011506223911341366, 'surprise': 0.028283673955878216, 'fear': 0.010608930798940621}\n",
        "55"
       ]
      },
      {
       "output_type": "stream",
       "stream": "stdout",
       "text": [
        " : concerned : {'love': 0.09421115607166419, 'joy': 0.020416285536017865, 'sadness': 0, 'anger': 0.0011506223911341366, 'surprise': 0.028283673955878216, 'fear': 0.022231732187854358}\n",
        "55"
       ]
      },
      {
       "output_type": "stream",
       "stream": "stdout",
       "text": [
        " : told : {'love': 0.09421115607166419, 'joy': 0.020416285536017865, 'sadness': 0, 'anger': 0.0011506223911341366, 'surprise': 0.033159399450280645, 'fear': 0.022231732187854358}\n",
        "56"
       ]
      },
      {
       "output_type": "stream",
       "stream": "stdout",
       "text": [
        " : forever : {'love': 0.012804171744598403, 'joy': 0, 'sadness': 0, 'anger': 0, 'surprise': 0, 'fear': 0}\n",
        "56"
       ]
      },
      {
       "output_type": "stream",
       "stream": "stdout",
       "text": [
        " : standin : {'love': 0.012804171744598403, 'joy': 0, 'sadness': 0, 'anger': 0, 'surprise': 0, 'fear': 0}\n",
        "56"
       ]
      },
      {
       "output_type": "stream",
       "stream": "stdout",
       "text": [
        " : woman : {'love': 0.046153503454191544, 'joy': 0, 'sadness': 0, 'anger': 0, 'surprise': 0, 'fear': 0}\n",
        "56"
       ]
      },
      {
       "output_type": "stream",
       "stream": "stdout",
       "text": [
        " : love : {'love': 0.1142537361935916, 'joy': 0, 'sadness': 0, 'anger': 0, 'surprise': 0, 'fear': 0}\n",
        "56"
       ]
      },
      {
       "output_type": "stream",
       "stream": "stdout",
       "text": [
        " : gold : {'love': 0.1142537361935916, 'joy': 0.0036159868688712396, 'sadness': 0, 'anger': 0, 'surprise': 0, 'fear': 0}\n",
        "56"
       ]
      },
      {
       "output_type": "stream",
       "stream": "stdout",
       "text": [
        " : somewhere : {'love': 0.12329562964995297, 'joy': 0.0036159868688712396, 'sadness': 0, 'anger': 0, 'surprise': 0, 'fear': 0}\n",
        "56"
       ]
      },
      {
       "output_type": "stream",
       "stream": "stdout",
       "text": [
        " : joy : {'love': 0.12329562964995297, 'joy': 0.12460638909860772, 'sadness': 0, 'anger': 0, 'surprise': 0, 'fear': 0}\n",
        "56"
       ]
      },
      {
       "output_type": "stream",
       "stream": "stdout",
       "text": [
        " : inside : {'love': 0.12329562964995297, 'joy': 0.12460638909860772, 'sadness': 0, 'anger': 0, 'surprise': 0, 'fear': 0}\n",
        "56"
       ]
      },
      {
       "output_type": "stream",
       "stream": "stdout",
       "text": [
        " : searchin : {'love': 0.12329562964995297, 'joy': 0.12460638909860772, 'sadness': 0, 'anger': 0, 'surprise': 0, 'fear': 0}\n",
        "56"
       ]
      },
      {
       "output_type": "stream",
       "stream": "stdout",
       "text": [
        " : eyes : {'love': 0.12329562964995297, 'joy': 0.12460638909860772, 'sadness': 0, 'anger': 0, 'surprise': 0.010142100840180296, 'fear': 0}\n",
        "56"
       ]
      },
      {
       "output_type": "stream",
       "stream": "stdout",
       "text": [
        " : walkin : {'love': 0.12329562964995297, 'joy': 0.12460638909860772, 'sadness': 0, 'anger': 0, 'surprise': 0.010142100840180296, 'fear': 0}\n",
        "56"
       ]
      },
      {
       "output_type": "stream",
       "stream": "stdout",
       "text": [
        " : band : {'love': 0.13019425871042245, 'joy': 0.12460638909860772, 'sadness': 0, 'anger': 0, 'surprise': 0.010142100840180296, 'fear': 0}\n",
        "Error in getting similarity for"
       ]
      },
      {
       "output_type": "stream",
       "stream": "stdout",
       "text": [
        " waiting and sadness\n",
        "56"
       ]
      },
      {
       "output_type": "stream",
       "stream": "stdout",
       "text": [
        " : waiting : {'love': 0.13019425871042245, 'joy': 0.12460638909860772, 'sadness': 0, 'anger': 0, 'surprise': 0.014273834282140643, 'fear': 0}\n",
        "56"
       ]
      },
      {
       "output_type": "stream",
       "stream": "stdout",
       "text": [
        " : see : {'love': 0.13019425871042245, 'joy': 0.12460638909860772, 'sadness': 0, 'anger': 0, 'surprise': 0.02695164337094746, 'fear': 0}\n",
        "56"
       ]
      },
      {
       "output_type": "stream",
       "stream": "stdout",
       "text": [
        " : know : {'love': 0.13903378591265472, 'joy': 0.12460638909860772, 'sadness': 0, 'anger': 0, 'surprise': 0.02695164337094746, 'fear': 0}\n",
        "56"
       ]
      },
      {
       "output_type": "stream",
       "stream": "stdout",
       "text": [
        " : lasts : {'love': 0.13903378591265472, 'joy': 0.12460638909860772, 'sadness': 0, 'anger': 0, 'surprise': 0.02695164337094746, 'fear': 0.006284317546539049}\n",
        "56"
       ]
      },
      {
       "output_type": "stream",
       "stream": "stdout",
       "text": [
        " : fall : {'love': 0.13903378591265472, 'joy': 0.12460638909860772, 'sadness': 0, 'anger': 0, 'surprise': 0.030805864111668045, 'fear': 0.006284317546539049}\n",
        "56"
       ]
      },
      {
       "output_type": "stream",
       "stream": "stdout",
       "text": [
        " : world : {'love': 0.1488227228540826, 'joy': 0.12460638909860772, 'sadness': 0, 'anger': 0, 'surprise': 0.030805864111668045, 'fear': 0.006284317546539049}\n",
        "56"
       ]
      },
      {
       "output_type": "stream",
       "stream": "stdout",
       "text": [
        " : shines : {'love': 0.1488227228540826, 'joy': 0.14405937357739546, 'sadness': 0, 'anger': 0, 'surprise': 0.030805864111668045, 'fear': 0.006284317546539049}\n",
        "56"
       ]
      },
      {
       "output_type": "stream",
       "stream": "stdout",
       "text": [
        " : side : {'love': 0.15050852201485368, 'joy': 0.14405937357739546, 'sadness': 0, 'anger': 0, 'surprise': 0.030805864111668045, 'fear': 0.006284317546539049}\n",
        "59"
       ]
      },
      {
       "output_type": "stream",
       "stream": "stdout",
       "text": [
        " : closer : {'love': 0, 'joy': 0, 'sadness': 0, 'anger': 0, 'surprise': 0, 'fear': 0.010007616459756992}\n",
        "59"
       ]
      },
      {
       "output_type": "stream",
       "stream": "stdout",
       "text": [
        " : everybody : {'love': 0.0, 'joy': 0, 'sadness': 0, 'anger': 0, 'surprise': 0, 'fear': 0.010007616459756992}\n",
        "59"
       ]
      },
      {
       "output_type": "stream",
       "stream": "stdout",
       "text": [
        " : little : {'love': 0.0, 'joy': 0, 'sadness': 0, 'anger': 0, 'surprise': 0, 'fear': 0.019004158871024183}\n",
        "59"
       ]
      },
      {
       "output_type": "stream",
       "stream": "stdout",
       "text": [
        " : feeling : {'love': 0.0, 'joy': 0, 'sadness': 0, 'anger': 0, 'surprise': 0, 'fear': 0.04985105240281074}\n",
        "59"
       ]
      },
      {
       "output_type": "stream",
       "stream": "stdout",
       "text": [
        " : anything : {'love': 0.0, 'joy': 0, 'sadness': 0, 'anger': 0, 'surprise': 0, 'fear': 0.04985105240281074}\n",
        "59"
       ]
      },
      {
       "output_type": "stream",
       "stream": "stdout",
       "text": [
        " : get : {'love': 0.0, 'joy': 0, 'sadness': 0, 'anger': 0.00020753392255294897, 'surprise': 0, 'fear': 0.04985105240281074}\n",
        "59"
       ]
      },
      {
       "output_type": "stream",
       "stream": "stdout",
       "text": [
        " : enjoy : {'love': 0.050530719435524445, 'joy': 0, 'sadness': 0, 'anger': 0.00020753392255294897, 'surprise': 0, 'fear': 0.04985105240281074}\n",
        "59"
       ]
      },
      {
       "output_type": "stream",
       "stream": "stdout",
       "text": [
        " : jump : {'love': 0.050530719435524445, 'joy': 0, 'sadness': 0, 'anger': 0.00020753392255294897, 'surprise': 0.003351967914981053, 'fear': 0.04985105240281074}\n",
        "59"
       ]
      },
      {
       "output_type": "stream",
       "stream": "stdout",
       "text": [
        " : sign : {'love': 0.05651919069165042, 'joy': 0, 'sadness': 0, 'anger': 0.00020753392255294897, 'surprise': 0.003351967914981053, 'fear': 0.04985105240281074}\n",
        "59"
       ]
      },
      {
       "output_type": "stream",
       "stream": "stdout",
       "text": [
        " : high : {'love': 0.05651919069165042, 'joy': 0.00043318579513073604, 'sadness': 0, 'anger': 0.00020753392255294897, 'surprise': 0.003351967914981053, 'fear': 0.04985105240281074}\n",
        "59"
       ]
      },
      {
       "output_type": "stream",
       "stream": "stdout",
       "text": [
        " : winding : {'love': 0.05651919069165042, 'joy': 0.00043318579513073604, 'sadness': 0, 'anger': 0.00020753392255294897, 'surprise': 0.018717416680284118, 'fear': 0.04985105240281074}\n",
        "59"
       ]
      },
      {
       "output_type": "stream",
       "stream": "stdout",
       "text": [
        " : every : {'love': 0.05651919069165042, 'joy': 0.00043318579513073604, 'sadness': 0, 'anger': 0.00020753392255294897, 'surprise': 0.018717416680284118, 'fear': 0.04985105240281074}\n",
        "59"
       ]
      },
      {
       "output_type": "stream",
       "stream": "stdout",
       "text": [
        " : low : {'love': 0.05651919069165042, 'joy': 0.00043318579513073604, 'sadness': 0, 'anger': 0.00020753392255294897, 'surprise': 0.020202577037599076, 'fear': 0.04985105240281074}\n",
        "59"
       ]
      },
      {
       "output_type": "stream",
       "stream": "stdout",
       "text": [
        " : wondering : {'love': 0.05651919069165042, 'joy': 0.00043318579513073604, 'sadness': 0, 'anger': 0.00020753392255294897, 'surprise': 0.03962443414285824, 'fear': 0.04985105240281074}\n",
        "59"
       ]
      },
      {
       "output_type": "stream",
       "stream": "stdout",
       "text": [
        " : faded : {'love': 0.05651919069165042, 'joy': 0.00043318579513073604, 'sadness': 0.00460669957168547, 'anger': 0.00020753392255294897, 'surprise': 0.03962443414285824, 'fear': 0.04985105240281074}\n",
        "59"
       ]
      },
      {
       "output_type": "stream",
       "stream": "stdout",
       "text": [
        " : bit : {'love': 0.06551955410921415, 'joy': 0.00043318579513073604, 'sadness': 0.00460669957168547, 'anger': 0.00020753392255294897, 'surprise': 0.03962443414285824, 'fear': 0.04985105240281074}\n",
        "59"
       ]
      },
      {
       "output_type": "stream",
       "stream": "stdout",
       "text": [
        " : gets : {'love': 0.06551955410921415, 'joy': 0.00043318579513073604, 'sadness': 0.00460669957168547, 'anger': 0.0005720611969800271, 'surprise': 0.03962443414285824, 'fear': 0.04985105240281074}\n",
        "59"
       ]
      },
      {
       "output_type": "stream",
       "stream": "stdout",
       "text": [
        " : fine : {'love': 0.06551955410921415, 'joy': 0.004230364103054389, 'sadness': 0.00460669957168547, 'anger': 0.0005720611969800271, 'surprise': 0.03962443414285824, 'fear': 0.04985105240281074}\n",
        "59"
       ]
      },
      {
       "output_type": "stream",
       "stream": "stdout",
       "text": [
        " : day : {'love': 0.06551955410921415, 'joy': 0.011227221603055029, 'sadness': 0.00460669957168547, 'anger': 0.0005720611969800271, 'surprise': 0.03962443414285824, 'fear': 0.04985105240281074}\n",
        "59"
       ]
      },
      {
       "output_type": "stream",
       "stream": "stdout",
       "text": [
        " : road : {'love': 0.06551955410921415, 'joy': 0.011227221603055029, 'sadness': 0.00460669957168547, 'anger': 0.0005720611969800271, 'surprise': 0.045975632770964676, 'fear': 0.04985105240281074}\n",
        "60"
       ]
      },
      {
       "output_type": "stream",
       "stream": "stdout",
       "text": [
        " : hip : {'love': 0.0011975502835700185, 'joy': 0, 'sadness': 0, 'anger': 0, 'surprise': 0, 'fear': 0}\n",
        "60"
       ]
      },
      {
       "output_type": "stream",
       "stream": "stdout",
       "text": [
        " : trying : {'love': 0.003364362822819106, 'joy': 0, 'sadness': 0, 'anger': 0, 'surprise': 0, 'fear': 0}\n",
        "60"
       ]
      },
      {
       "output_type": "stream",
       "stream": "stdout",
       "text": [
        " : look : {'love': 0.003364362822819106, 'joy': 0, 'sadness': 0, 'anger': 0, 'surprise': 0.002998430616417004, 'fear': 0}\n",
        "60"
       ]
      },
      {
       "output_type": "stream",
       "stream": "stdout",
       "text": [
        " : get : {'love': 0.003364362822819106, 'joy': 0, 'sadness': 0, 'anger': 0.00013915149507175227, 'surprise': 0.002998430616417004, 'fear': 0}\n",
        "60"
       ]
      },
      {
       "output_type": "stream",
       "stream": "stdout",
       "text": [
        " : house : {'love': 0.003364362822819106, 'joy': 0, 'sadness': 0, 'anger': 0.00313634334188128, 'surprise': 0.002998430616417004, 'fear': 0}\n",
        "60"
       ]
      },
      {
       "output_type": "stream",
       "stream": "stdout",
       "text": [
        " : ride : {'love': 0.003364362822819106, 'joy': 0, 'sadness': 0, 'anger': 0.00313634334188128, 'surprise': 0.008032133934290874, 'fear': 0}\n",
        "60"
       ]
      },
      {
       "output_type": "stream",
       "stream": "stdout",
       "text": [
        " : hard : {'love': 0.003364362822819106, 'joy': 0, 'sadness': 0, 'anger': 0.00313634334188128, 'surprise': 0.008032133934290874, 'fear': 0.0019343183089833764}\n",
        "60"
       ]
      },
      {
       "output_type": "stream",
       "stream": "stdout",
       "text": [
        " : well : {'love': 0.003364362822819106, 'joy': 0.0014295850195958847, 'sadness': 0, 'anger': 0.00313634334188128, 'surprise': 0.008032133934290874, 'fear': 0.0019343183089833764}\n",
        "60"
       ]
      },
      {
       "output_type": "stream",
       "stream": "stdout",
       "text": [
        " : repeat : {'love': 0.003364362822819106, 'joy': 0.0014295850195958847, 'sadness': 0, 'anger': 0.00313634334188128, 'surprise': 0.009321209138645523, 'fear': 0.0019343183089833764}\n",
        "60"
       ]
      },
      {
       "output_type": "stream",
       "stream": "stdout",
       "text": [
        " : chorus : {'love': 0.003364362822819106, 'joy': 0.005681765470583292, 'sadness': 0, 'anger': 0.00313634334188128, 'surprise': 0.009321209138645523, 'fear': 0.0019343183089833764}\n",
        "60"
       ]
      },
      {
       "output_type": "stream",
       "stream": "stdout",
       "text": [
        " : west : {'love': 0.004488190644054143, 'joy': 0.005681765470583292, 'sadness': 0, 'anger': 0.00313634334188128, 'surprise': 0.009321209138645523, 'fear': 0.0019343183089833764}\n",
        "60"
       ]
      },
      {
       "output_type": "stream",
       "stream": "stdout",
       "text": [
        " : paper : {'love': 0.004488190644054143, 'joy': 0.005681765470583292, 'sadness': 0.0010195062070777942, 'anger': 0.00313634334188128, 'surprise': 0.009321209138645523, 'fear': 0.0019343183089833764}\n",
        "60"
       ]
      },
      {
       "output_type": "stream",
       "stream": "stdout",
       "text": [
        " : done : {'love': 0.004488190644054143, 'joy': 0.005681765470583292, 'sadness': 0.0010195062070777942, 'anger': 0.00313634334188128, 'surprise': 0.009321209138645523, 'fear': 0.003185516324661273}\n",
        "60"
       ]
      },
      {
       "output_type": "stream",
       "stream": "stdout",
       "text": [
        " : best : {'love': 0.01273215226269978, 'joy': 0.005681765470583292, 'sadness': 0.0010195062070777942, 'anger': 0.00313634334188128, 'surprise': 0.009321209138645523, 'fear': 0.003185516324661273}\n",
        "60"
       ]
      },
      {
       "output_type": "stream",
       "stream": "stdout",
       "text": [
        " : hop : {'love': 0.014690440719283934, 'joy': 0.005681765470583292, 'sadness': 0.0010195062070777942, 'anger': 0.00313634334188128, 'surprise': 0.009321209138645523, 'fear': 0.003185516324661273}\n",
        "60"
       ]
      },
      {
       "output_type": "stream",
       "stream": "stdout",
       "text": [
        " : rock : {'love': 0.01915761499024357, 'joy': 0.005681765470583292, 'sadness': 0.0010195062070777942, 'anger': 0.00313634334188128, 'surprise': 0.009321209138645523, 'fear': 0.003185516324661273}\n",
        "60"
       ]
      },
      {
       "output_type": "stream",
       "stream": "stdout",
       "text": [
        " : east : {'love': 0.01915761499024357, 'joy': 0.005681765470583292, 'sadness': 0.0010195062070777942, 'anger': 0.00313634334188128, 'surprise': 0.009321209138645523, 'fear': 0.004918560667852687}\n",
        "60"
       ]
      },
      {
       "output_type": "stream",
       "stream": "stdout",
       "text": [
        " : cause : {'love': 0.01915761499024357, 'joy': 0.005681765470583292, 'sadness': 0.0010195062070777942, 'anger': 0.00313634334188128, 'surprise': 0.009321209138645523, 'fear': 0.00993388789415791}\n",
        "60"
       ]
      },
      {
       "output_type": "stream",
       "stream": "stdout",
       "text": [
        " : guide : {'love': 0.01915761499024357, 'joy': 0.005681765470583292, 'sadness': 0.0010195062070777942, 'anger': 0.00313634334188128, 'surprise': 0.009321209138645523, 'fear': 0.011062820313127079}\n",
        "60"
       ]
      },
      {
       "output_type": "stream",
       "stream": "stdout",
       "text": [
        " : shit : {'love': 0.022649241714445364, 'joy': 0.005681765470583292, 'sadness': 0.0010195062070777942, 'anger': 0.00313634334188128, 'surprise': 0.009321209138645523, 'fear': 0.011062820313127079}\n",
        "61"
       ]
      },
      {
       "output_type": "stream",
       "stream": "stdout",
       "text": [
        " : jockey : {'love': 0, 'joy': 0.0014517365906036156, 'sadness': 0, 'anger': 0, 'surprise': 0, 'fear': 0}\n",
        "61"
       ]
      },
      {
       "output_type": "stream",
       "stream": "stdout",
       "text": [
        " : pony : {'love': 0, 'joy': 0.02497928426333775, 'sadness': 0, 'anger': 0, 'surprise': 0, 'fear': 0}\n",
        "61"
       ]
      },
      {
       "output_type": "stream",
       "stream": "stdout",
       "text": [
        " : thigh : {'love': 0.0021318667924803115, 'joy': 0.02497928426333775, 'sadness': 0, 'anger': 0, 'surprise': 0, 'fear': 0}\n",
        "61"
       ]
      },
      {
       "output_type": "stream",
       "stream": "stdout",
       "text": [
        " : steelo : {'love': 0.0021318667924803115, 'joy': 0.02497928426333775, 'sadness': 0, 'anger': 0, 'surprise': 0, 'fear': 0}\n",
        "61"
       ]
      },
      {
       "output_type": "stream",
       "stream": "stdout",
       "text": [
        " : saddle : {'love': 0.0021318667924803115, 'joy': 0.02497928426333775, 'sadness': 0, 'anger': 0.02030190921196488, 'surprise': 0, 'fear': 0}\n",
        "61"
       ]
      },
      {
       "output_type": "stream",
       "stream": "stdout",
       "text": [
        " : bachelor : {'love': 0.0053347213564992335, 'joy': 0.02497928426333775, 'sadness': 0, 'anger': 0.02030190921196488, 'surprise': 0, 'fear': 0}\n",
        "61"
       ]
      },
      {
       "output_type": "stream",
       "stream": "stdout",
       "text": [
        " : stream : {'love': 0.0053347213564992335, 'joy': 0.026994389780023, 'sadness': 0, 'anger': 0.02030190921196488, 'surprise': 0, 'fear': 0}\n",
        "61"
       ]
      },
      {
       "output_type": "stream",
       "stream": "stdout",
       "text": [
        " : ride : {'love': 0.0053347213564992335, 'joy': 0.026994389780023, 'sadness': 0, 'anger': 0.02030190921196488, 'surprise': 0.02746564310347845, 'fear': 0}\n",
        "Error in getting similarity for"
       ]
      },
      {
       "output_type": "stream",
       "stream": "stdout",
       "text": [
        " sitting and surprise\n",
        "61"
       ]
      },
      {
       "output_type": "stream",
       "stream": "stdout",
       "text": [
        " : sitting : {'love': 0.0053347213564992335, 'joy': 0.026994389780023, 'sadness': 0, 'anger': 0.02030190921196488, 'surprise': 0.02746564310347845, 'fear': 0.0015995767345740887}\n",
        "61"
       ]
      },
      {
       "output_type": "stream",
       "stream": "stdout",
       "text": [
        " : reach : {'love': 0.0053347213564992335, 'joy': 0.026994389780023, 'sadness': 0, 'anger': 0.020862374772795296, 'surprise': 0.02746564310347845, 'fear': 0.0015995767345740887}\n",
        "61"
       ]
      },
      {
       "output_type": "stream",
       "stream": "stdout",
       "text": [
        " : lets : {'love': 0.029077783684143658, 'joy': 0.026994389780023, 'sadness': 0, 'anger': 0.020862374772795296, 'surprise': 0.02746564310347845, 'fear': 0.0015995767345740887}\n",
        "61"
       ]
      },
      {
       "output_type": "stream",
       "stream": "stdout",
       "text": [
        " : jump : {'love': 0.029077783684143658, 'joy': 0.026994389780023, 'sadness': 0, 'anger': 0.020862374772795296, 'surprise': 0.05323057108490027, 'fear': 0.0015995767345740887}\n",
        "61"
       ]
      },
      {
       "output_type": "stream",
       "stream": "stdout",
       "text": [
        " : flossing : {'love': 0.029077783684143658, 'joy': 0.026994389780023, 'sadness': 0, 'anger': 0.020862374772795296, 'surprise': 0.05323057108490027, 'fear': 0.0015995767345740887}\n",
        "61"
       ]
      },
      {
       "output_type": "stream",
       "stream": "stdout",
       "text": [
        " : waiting : {'love': 0.029077783684143658, 'joy': 0.026994389780023, 'sadness': 0, 'anger': 0.020862374772795296, 'surprise': 0.06754407622312004, 'fear': 0.0015995767345740887}\n",
        "61"
       ]
      },
      {
       "output_type": "stream",
       "stream": "stdout",
       "text": [
        " : let : {'love': 0.03878716220749325, 'joy': 0.026994389780023, 'sadness': 0, 'anger': 0.020862374772795296, 'surprise': 0.06754407622312004, 'fear': 0.0015995767345740887}\n",
        "61"
       ]
      },
      {
       "output_type": "stream",
       "stream": "stdout",
       "text": [
        " : juices : {'love': 0.03878716220749325, 'joy': 0.026994389780023, 'sadness': 0, 'anger': 0.022656230187495362, 'surprise': 0.06754407622312004, 'fear': 0.0015995767345740887}\n",
        "61"
       ]
      },
      {
       "output_type": "stream",
       "stream": "stdout",
       "text": [
        " : partner : {'love': 0.04381660124037097, 'joy': 0.026994389780023, 'sadness': 0, 'anger': 0.022656230187495362, 'surprise': 0.06754407622312004, 'fear': 0.0015995767345740887}\n",
        "61"
       ]
      },
      {
       "output_type": "stream",
       "stream": "stdout",
       "text": [
        " : tail : {'love': 0.04381660124037097, 'joy': 0.026994389780023, 'sadness': 0, 'anger': 0.022656230187495362, 'surprise': 0.06932376543989759, 'fear': 0.0015995767345740887}\n",
        "61"
       ]
      },
      {
       "output_type": "stream",
       "stream": "stdout",
       "text": [
        " : come : {'love': 0.04381660124037097, 'joy': 0.026994389780023, 'sadness': 0, 'anger': 0.022656230187495362, 'surprise': 0.06932376543989759, 'fear': 0.010293815028649338}\n",
        "61"
       ]
      },
      {
       "output_type": "stream",
       "stream": "stdout",
       "text": [
        " : horny : {'love': 0.04381660124037097, 'joy': 0.026994389780023, 'sadness': 0, 'anger': 0.022656230187495362, 'surprise': 0.06932376543989759, 'fear': 0.010293815028649338}\n",
        "62"
       ]
      },
      {
       "output_type": "stream",
       "stream": "stdout",
       "text": [
        " : building : {'love': 0, 'joy': 0, 'sadness': 0, 'anger': 0, 'surprise': 0, 'fear': 0.004202474002991941}\n",
        "62"
       ]
      },
      {
       "output_type": "stream",
       "stream": "stdout",
       "text": [
        " : mystery : {'love': 0, 'joy': 0, 'sadness': 0, 'anger': 0, 'surprise': 0.07388698420293988, 'fear': 0.004202474002991941}\n",
        "62"
       ]
      },
      {
       "output_type": "stream",
       "stream": "stdout",
       "text": [
        " : tantrum : {'love': 0, 'joy': 0, 'sadness': 0, 'anger': 0.021648393358753796, 'surprise': 0.07388698420293988, 'fear': 0.004202474002991941}\n",
        "62"
       ]
      },
      {
       "output_type": "stream",
       "stream": "stdout",
       "text": [
        " : suicide : {'love': 0, 'joy': 0, 'sadness': 0.004204327401246953, 'anger': 0.021648393358753796, 'surprise': 0.07388698420293988, 'fear': 0.004202474002991941}\n",
        "62"
       ]
      },
      {
       "output_type": "stream",
       "stream": "stdout",
       "text": [
        " : holding : {'love': 0, 'joy': 0, 'sadness': 0.020259697033274494, 'anger': 0.021648393358753796, 'surprise': 0.07388698420293988, 'fear': 0.004202474002991941}\n",
        "62"
       ]
      },
      {
       "output_type": "stream",
       "stream": "stdout",
       "text": [
        " : working : {'love': 0.008470917270911194, 'joy': 0, 'sadness': 0.020259697033274494, 'anger': 0.021648393358753796, 'surprise': 0.07388698420293988, 'fear': 0.004202474002991941}\n",
        "62"
       ]
      },
      {
       "output_type": "stream",
       "stream": "stdout",
       "text": [
        " : poem : {'love': 0.01399513688504056, 'joy': 0, 'sadness': 0.020259697033274494, 'anger': 0.021648393358753796, 'surprise': 0.07388698420293988, 'fear': 0.004202474002991941}\n",
        "62"
       ]
      },
      {
       "output_type": "stream",
       "stream": "stdout",
       "text": [
        " : energy : {'love': 0.01399513688504056, 'joy': 0.005161138493933936, 'sadness': 0.020259697033274494, 'anger': 0.021648393358753796, 'surprise': 0.07388698420293988, 'fear': 0.004202474002991941}\n",
        "62"
       ]
      },
      {
       "output_type": "stream",
       "stream": "stdout",
       "text": [
        " : fears : {'love': 0.01399513688504056, 'joy': 0.005161138493933936, 'sadness': 0.020259697033274494, 'anger': 0.021648393358753796, 'surprise': 0.07388698420293988, 'fear': 0.039603800966676386}\n",
        "62"
       ]
      },
      {
       "output_type": "stream",
       "stream": "stdout",
       "text": [
        " : yeah : {'love': 0.01399513688504056, 'joy': 0.005161138493933936, 'sadness': 0.020259697033274494, 'anger': 0.021648393358753796, 'surprise': 0.07388698420293988, 'fear': 0.039603800966676386}\n",
        "62"
       ]
      },
      {
       "output_type": "stream",
       "stream": "stdout",
       "text": [
        " : beautiful : {'love': 0.03779675387803304, 'joy': 0.005161138493933936, 'sadness': 0.020259697033274494, 'anger': 0.021648393358753796, 'surprise': 0.07388698420293988, 'fear': 0.039603800966676386}\n",
        "62"
       ]
      },
      {
       "output_type": "stream",
       "stream": "stdout",
       "text": [
        " : wear : {'love': 0.03779675387803304, 'joy': 0.005161138493933936, 'sadness': 0.023060255312037405, 'anger': 0.021648393358753796, 'surprise': 0.07388698420293988, 'fear': 0.039603800966676386}\n",
        "62"
       ]
      },
      {
       "output_type": "stream",
       "stream": "stdout",
       "text": [
        " : choosing : {'love': 0.056307641865155564, 'joy': 0.005161138493933936, 'sadness': 0.023060255312037405, 'anger': 0.021648393358753796, 'surprise': 0.07388698420293988, 'fear': 0.039603800966676386}\n",
        "62"
       ]
      },
      {
       "output_type": "stream",
       "stream": "stdout",
       "text": [
        " : church : {'love': 0.06053936637411217, 'joy': 0.005161138493933936, 'sadness': 0.023060255312037405, 'anger': 0.021648393358753796, 'surprise': 0.07388698420293988, 'fear': 0.039603800966676386}\n",
        "62"
       ]
      },
      {
       "output_type": "stream",
       "stream": "stdout",
       "text": [
        " : carefully : {'love': 0.06053936637411217, 'joy': 0.005161138493933936, 'sadness': 0.023060255312037405, 'anger': 0.021648393358753796, 'surprise': 0.07388698420293988, 'fear': 0.047474008566860015}\n",
        "62"
       ]
      },
      {
       "output_type": "stream",
       "stream": "stdout",
       "text": [
        " : ghosts : {'love': 0.06053936637411217, 'joy': 0.005161138493933936, 'sadness': 0.023060255312037405, 'anger': 0.021648393358753796, 'surprise': 0.07388698420293988, 'fear': 0.053911857762409386}\n",
        "62"
       ]
      },
      {
       "output_type": "stream",
       "stream": "stdout",
       "text": [
        " : careful : {'love': 0.06053936637411217, 'joy': 0.005161138493933936, 'sadness': 0.023060255312037405, 'anger': 0.021648393358753796, 'surprise': 0.07388698420293988, 'fear': 0.05973924011575872}\n",
        "62"
       ]
      },
      {
       "output_type": "stream",
       "stream": "stdout",
       "text": [
        " : screaming : {'love': 0.06053936637411217, 'joy': 0.005161138493933936, 'sadness': 0.023060255312037405, 'anger': 0.02714153940430836, 'surprise': 0.07388698420293988, 'fear': 0.05973924011575872}\n",
        "62"
       ]
      },
      {
       "output_type": "stream",
       "stream": "stdout",
       "text": [
        " : died : {'love': 0.0667677325912258, 'joy': 0.005161138493933936, 'sadness': 0.023060255312037405, 'anger': 0.02714153940430836, 'surprise': 0.07388698420293988, 'fear': 0.05973924011575872}\n",
        "62"
       ]
      },
      {
       "output_type": "stream",
       "stream": "stdout",
       "text": [
        " : vampires : {'love': 0.0667677325912258, 'joy': 0.005161138493933936, 'sadness': 0.023060255312037405, 'anger': 0.02714153940430836, 'surprise': 0.07388698420293988, 'fear': 0.06327713378569254}\n",
        "63"
       ]
      },
      {
       "output_type": "stream",
       "stream": "stdout",
       "text": [
        " : closer : {'love': 0, 'joy': 0, 'sadness': 0, 'anger': 0, 'surprise': 0, 'fear': 0.008060188391912389}\n",
        "63"
       ]
      },
      {
       "output_type": "stream",
       "stream": "stdout",
       "text": [
        " : blue : {'love': 0, 'joy': 0, 'sadness': 0.0014379888650901717, 'anger': 0, 'surprise': 0, 'fear': 0.008060188391912389}\n",
        "63"
       ]
      },
      {
       "output_type": "stream",
       "stream": "stdout",
       "text": [
        " : forever : {'love': 0.026854154794076653, 'joy': 0, 'sadness': 0.0014379888650901717, 'anger': 0, 'surprise': 0, 'fear': 0.008060188391912389}\n",
        "63"
       ]
      },
      {
       "output_type": "stream",
       "stream": "stdout",
       "text": [
        " : love : {'love': 0.09033256993614806, 'joy': 0, 'sadness': 0.0014379888650901717, 'anger': 0, 'surprise': 0, 'fear': 0.008060188391912389}\n",
        "63"
       ]
      },
      {
       "output_type": "stream",
       "stream": "stdout",
       "text": [
        " : moments : {'love': 0.09033256993614806, 'joy': 0.006269711936850906, 'sadness': 0.0014379888650901717, 'anger': 0, 'surprise': 0, 'fear': 0.008060188391912389}\n",
        "63"
       ]
      },
      {
       "output_type": "stream",
       "stream": "stdout",
       "text": [
        " : feels : {'love': 0.09033256993614806, 'joy': 0.006269711936850906, 'sadness': 0.0014379888650901717, 'anger': 0, 'surprise': 0, 'fear': 0.020678442670815228}\n",
        "63"
       ]
      },
      {
       "output_type": "stream",
       "stream": "stdout",
       "text": [
        " : far : {'love': 0.09033256993614806, 'joy': 0.006269711936850906, 'sadness': 0.0014379888650901717, 'anger': 0, 'surprise': 0, 'fear': 0.04194668031024594}\n",
        "63"
       ]
      },
      {
       "output_type": "stream",
       "stream": "stdout",
       "text": [
        " : always : {'love': 0.10921403792247794, 'joy': 0.006269711936850906, 'sadness': 0.0014379888650901717, 'anger': 0, 'surprise': 0, 'fear': 0.04194668031024594}\n",
        "63"
       ]
      },
      {
       "output_type": "stream",
       "stream": "stdout",
       "text": [
        " : never : {'love': 0.1177438201993808, 'joy': 0.006269711936850906, 'sadness': 0.0014379888650901717, 'anger': 0, 'surprise': 0, 'fear': 0.04194668031024594}\n",
        "63"
       ]
      },
      {
       "output_type": "stream",
       "stream": "stdout",
       "text": [
        " : stop : {'love': 0.1177438201993808, 'joy': 0.006269711936850906, 'sadness': 0.0014379888650901717, 'anger': 0, 'surprise': 0, 'fear': 0.044816333348225296}\n",
        "63"
       ]
      },
      {
       "output_type": "stream",
       "stream": "stdout",
       "text": [
        " : say : {'love': 0.1177438201993808, 'joy': 0.006269711936850906, 'sadness': 0.0014379888650901717, 'anger': 0, 'surprise': 0, 'fear': 0.049989596892222946}\n",
        "63"
       ]
      },
      {
       "output_type": "stream",
       "stream": "stdout",
       "text": [
        " : together : {'love': 0.12435393471632963, 'joy': 0.006269711936850906, 'sadness': 0.0014379888650901717, 'anger': 0, 'surprise': 0, 'fear': 0.049989596892222946}\n",
        "63"
       ]
      },
      {
       "output_type": "stream",
       "stream": "stdout",
       "text": [
        " : standing : {'love': 0.12435393471632963, 'joy': 0.006269711936850906, 'sadness': 0.0014379888650901717, 'anger': 0, 'surprise': 0, 'fear': 0.05079632911183563}\n",
        "63"
       ]
      },
      {
       "output_type": "stream",
       "stream": "stdout",
       "text": [
        " : pale : {'love': 0.12435393471632963, 'joy': 0.006269711936850906, 'sadness': 0.0026301252882870185, 'anger': 0, 'surprise': 0, 'fear': 0.05079632911183563}\n",
        "63"
       ]
      },
      {
       "output_type": "stream",
       "stream": "stdout",
       "text": [
        " : everything : {'love': 0.12435393471632963, 'joy': 0.006269711936850906, 'sadness': 0.0026301252882870185, 'anger': 0, 'surprise': 0, 'fear': 0.05079632911183563}\n",
        "63"
       ]
      },
      {
       "output_type": "stream",
       "stream": "stdout",
       "text": [
        " : near : {'love': 0.12435393471632963, 'joy': 0.006269711936850906, 'sadness': 0.0026301252882870185, 'anger': 0, 'surprise': 0, 'fear': 0.05079632911183563}\n",
        "63"
       ]
      },
      {
       "output_type": "stream",
       "stream": "stdout",
       "text": [
        " : everywhere : {'love': 0.15448254775566977, 'joy': 0.006269711936850906, 'sadness': 0.0026301252882870185, 'anger': 0, 'surprise': 0, 'fear': 0.05079632911183563}\n",
        "63"
       ]
      },
      {
       "output_type": "stream",
       "stream": "stdout",
       "text": [
        " : whatever : {'love': 0.15448254775566977, 'joy': 0.006269711936850906, 'sadness': 0.0026301252882870185, 'anger': 0, 'surprise': 0, 'fear': 0.05079632911183563}\n",
        "63"
       ]
      },
      {
       "output_type": "stream",
       "stream": "stdout",
       "text": [
        " : sweetness : {'love': 0.15448254775566977, 'joy': 0.006269711936850906, 'sadness': 0.010084542148295177, 'anger': 0, 'surprise': 0, 'fear': 0.05079632911183563}\n",
        "63"
       ]
      },
      {
       "output_type": "stream",
       "stream": "stdout",
       "text": [
        " : amber : {'love': 0.15448254775566977, 'joy': 0.006269711936850906, 'sadness': 0.010084542148295177, 'anger': 0.0026066720477896316, 'surprise': 0, 'fear': 0.05079632911183563}\n",
        "64"
       ]
      },
      {
       "output_type": "stream",
       "stream": "stdout",
       "text": [
        " : liked : {'love': 0.031551816960576955, 'joy': 0, 'sadness': 0, 'anger': 0, 'surprise': 0, 'fear': 0}\n",
        "64"
       ]
      },
      {
       "output_type": "stream",
       "stream": "stdout",
       "text": [
        " : claim : {'love': 0.031551816960576955, 'joy': 0, 'sadness': 0, 'anger': 0, 'surprise': 0, 'fear': 0.002107910465986091}\n",
        "64"
       ]
      },
      {
       "output_type": "stream",
       "stream": "stdout",
       "text": [
        " : guess : {'love': 0.031551816960576955, 'joy': 0, 'sadness': 0, 'anger': 0, 'surprise': 0.010247621420949444, 'fear': 0.002107910465986091}\n",
        "64"
       ]
      },
      {
       "output_type": "stream",
       "stream": "stdout",
       "text": [
        " : woman : {'love': 0.070683492474656, 'joy': 0, 'sadness': 0, 'anger': 0, 'surprise': 0.010247621420949444, 'fear': 0.002107910465986091}\n",
        "64"
       ]
      },
      {
       "output_type": "stream",
       "stream": "stdout",
       "text": [
        " : crap : {'love': 0.070683492474656, 'joy': 0.0017697611831509604, 'sadness': 0, 'anger': 0, 'surprise': 0.010247621420949444, 'fear': 0.002107910465986091}\n",
        "64"
       ]
      },
      {
       "output_type": "stream",
       "stream": "stdout",
       "text": [
        " : play : {'love': 0.07698355135774285, 'joy': 0.0017697611831509604, 'sadness': 0, 'anger': 0, 'surprise': 0.010247621420949444, 'fear': 0.002107910465986091}\n",
        "64"
       ]
      },
      {
       "output_type": "stream",
       "stream": "stdout",
       "text": [
        " : marxist : {'love': 0.07698355135774285, 'joy': 0.0017697611831509604, 'sadness': 0, 'anger': 0, 'surprise': 0.010247621420949444, 'fear': 0.002107910465986091}\n",
        "64"
       ]
      },
      {
       "output_type": "stream",
       "stream": "stdout",
       "text": [
        " : soon : {'love': 0.07698355135774285, 'joy': 0.0017697611831509604, 'sadness': 0, 'anger': 0, 'surprise': 0.010247621420949444, 'fear': 0.004763084872201944}\n",
        "64"
       ]
      },
      {
       "output_type": "stream",
       "stream": "stdout",
       "text": [
        " : could : {'love': 0.07698355135774285, 'joy': 0.0017697611831509604, 'sadness': 0, 'anger': 0, 'surprise': 0.010247621420949444, 'fear': 0.004763084872201944}\n",
        "64"
       ]
      },
      {
       "output_type": "stream",
       "stream": "stdout",
       "text": [
        " : never : {'love': 0.10243532105495301, 'joy': 0.0017697611831509604, 'sadness': 0, 'anger': 0, 'surprise': 0.010247621420949444, 'fear': 0.004763084872201944}\n",
        "64"
       ]
      },
      {
       "output_type": "stream",
       "stream": "stdout",
       "text": [
        " : well : {'love': 0.10243532105495301, 'joy': 0.005612731665935597, 'sadness': 0, 'anger': 0, 'surprise': 0.010247621420949444, 'fear': 0.004763084872201944}\n",
        "Error in getting similarity for"
       ]
      },
      {
       "output_type": "stream",
       "stream": "stdout",
       "text": [
        " kind and joy\n",
        "64"
       ]
      },
      {
       "output_type": "stream",
       "stream": "stdout",
       "text": [
        " : kind : {'love': 0.10916938366305617, 'joy': 0.005612731665935597, 'sadness': 0, 'anger': 0, 'surprise': 0.010247621420949444, 'fear': 0.004763084872201944}\n",
        "64"
       ]
      },
      {
       "output_type": "stream",
       "stream": "stdout",
       "text": [
        " : charming : {'love': 0.11244821618408499, 'joy': 0.005612731665935597, 'sadness': 0, 'anger': 0, 'surprise': 0.010247621420949444, 'fear': 0.004763084872201944}\n",
        "64"
       ]
      },
      {
       "output_type": "stream",
       "stream": "stdout",
       "text": [
        " : say : {'love': 0.11244821618408499, 'joy': 0.005612731665935597, 'sadness': 0, 'anger': 0, 'surprise': 0.010247621420949444, 'fear': 0.008622172596555027}\n",
        "64"
       ]
      },
      {
       "output_type": "stream",
       "stream": "stdout",
       "text": [
        " : cut : {'love': 0.11466419139572953, 'joy': 0.005612731665935597, 'sadness': 0, 'anger': 0, 'surprise': 0.010247621420949444, 'fear': 0.008622172596555027}\n",
        "64"
       ]
      },
      {
       "output_type": "stream",
       "stream": "stdout",
       "text": [
        " : genes : {'love': 0.11466419139572953, 'joy': 0.005612731665935597, 'sadness': 0, 'anger': 0, 'surprise': 0.010247621420949444, 'fear': 0.010075685972878105}\n",
        "64"
       ]
      },
      {
       "output_type": "stream",
       "stream": "stdout",
       "text": [
        " : surprise : {'love': 0.11466419139572953, 'joy': 0.005612731665935597, 'sadness': 0, 'anger': 0, 'surprise': 0.0473860906627889, 'fear': 0.010075685972878105}\n",
        "64"
       ]
      },
      {
       "output_type": "stream",
       "stream": "stdout",
       "text": [
        " : true : {'love': 0.12527706325045038, 'joy': 0.005612731665935597, 'sadness': 0, 'anger': 0, 'surprise': 0.0473860906627889, 'fear': 0.010075685972878105}\n",
        "64"
       ]
      },
      {
       "output_type": "stream",
       "stream": "stdout",
       "text": [
        " : brow : {'love': 0.12527706325045038, 'joy': 0.005612731665935597, 'sadness': 0.005551236294224096, 'anger': 0, 'surprise': 0.0473860906627889, 'fear': 0.010075685972878105}\n",
        "64"
       ]
      },
      {
       "output_type": "stream",
       "stream": "stdout",
       "text": [
        " : handsome : {'love': 0.12527706325045038, 'joy': 0.005612731665935597, 'sadness': 0.005551236294224096, 'anger': 0, 'surprise': 0.0473860906627889, 'fear': 0.011731157750722799}\n",
        "65"
       ]
      },
      {
       "output_type": "stream",
       "stream": "stdout",
       "text": [
        " : everybody : {'love': 0.0, 'joy': 0, 'sadness': 0, 'anger': 0, 'surprise': 0, 'fear': 0}\n",
        "65"
       ]
      },
      {
       "output_type": "stream",
       "stream": "stdout",
       "text": [
        " : little : {'love': 0.0, 'joy': 0, 'sadness': 0, 'anger': 0, 'surprise': 0, 'fear': 0.002562088721863172}\n",
        "65"
       ]
      },
      {
       "output_type": "stream",
       "stream": "stdout",
       "text": [
        " : kids : {'love': 0.0059574798635011915, 'joy': 0, 'sadness': 0, 'anger': 0, 'surprise': 0, 'fear': 0.002562088721863172}\n",
        "65"
       ]
      },
      {
       "output_type": "stream",
       "stream": "stdout",
       "text": [
        " : get : {'love': 0.0059574798635011915, 'joy': 0, 'sadness': 0, 'anger': 0.00028369316018705867, 'surprise': 0, 'fear': 0.002562088721863172}\n",
        "65"
       ]
      },
      {
       "output_type": "stream",
       "stream": "stdout",
       "text": [
        " : cause : {'love': 0.0059574798635011915, 'joy': 0, 'sadness': 0, 'anger': 0.00028369316018705867, 'surprise': 0, 'fear': 0.005757378748816041}\n",
        "65"
       ]
      },
      {
       "output_type": "stream",
       "stream": "stdout",
       "text": [
        " : gotta : {'love': 0.0059574798635011915, 'joy': 0, 'sadness': 0, 'anger': 0.00028369316018705867, 'surprise': 0, 'fear': 0.005757378748816041}\n",
        "65"
       ]
      },
      {
       "output_type": "stream",
       "stream": "stdout",
       "text": [
        " : homies : {'love': 0.0059574798635011915, 'joy': 0.0008038087089502444, 'sadness': 0, 'anger': 0.00028369316018705867, 'surprise': 0, 'fear': 0.005757378748816041}\n",
        "65"
       ]
      },
      {
       "output_type": "stream",
       "stream": "stdout",
       "text": [
        " : homie : {'love': 0.0059574798635011915, 'joy': 0.0008038087089502444, 'sadness': 0, 'anger': 0.00028369316018705867, 'surprise': 0, 'fear': 0.005757378748816041}\n",
        "65"
       ]
      },
      {
       "output_type": "stream",
       "stream": "stdout",
       "text": [
        " : brother : {'love': 0.020405450552550712, 'joy': 0.0008038087089502444, 'sadness': 0, 'anger': 0.00028369316018705867, 'surprise': 0, 'fear': 0.005757378748816041}\n",
        "65"
       ]
      },
      {
       "output_type": "stream",
       "stream": "stdout",
       "text": [
        " : rollin : {'love': 0.020405450552550712, 'joy': 0.0008038087089502444, 'sadness': 0, 'anger': 0.00028369316018705867, 'surprise': 0, 'fear': 0.005757378748816041}\n",
        "65"
       ]
      },
      {
       "output_type": "stream",
       "stream": "stdout",
       "text": [
        " : crew : {'love': 0.020405450552550712, 'joy': 0.0010829196760783523, 'sadness': 0, 'anger': 0.00028369316018705867, 'surprise': 0, 'fear': 0.005757378748816041}\n",
        "65"
       ]
      },
      {
       "output_type": "stream",
       "stream": "stdout",
       "text": [
        " : game : {'love': 0.02336631463639139, 'joy': 0.0010829196760783523, 'sadness': 0, 'anger': 0.00028369316018705867, 'surprise': 0, 'fear': 0.005757378748816041}\n",
        "65"
       ]
      },
      {
       "output_type": "stream",
       "stream": "stdout",
       "text": [
        " : see : {'love': 0.02336631463639139, 'joy': 0.0010829196760783523, 'sadness': 0, 'anger': 0.00028369316018705867, 'surprise': 0.009401739156072333, 'fear': 0.005757378748816041}\n",
        "65"
       ]
      },
      {
       "output_type": "stream",
       "stream": "stdout",
       "text": [
        " : ain : {'love': 0.02336631463639139, 'joy': 0.0010829196760783523, 'sadness': 0, 'anger': 0.00028369316018705867, 'surprise': 0.009401739156072333, 'fear': 0.005757378748816041}\n",
        "65"
       ]
      },
      {
       "output_type": "stream",
       "stream": "stdout",
       "text": [
        " : done : {'love': 0.02336631463639139, 'joy': 0.0010829196760783523, 'sadness': 0, 'anger': 0.00028369316018705867, 'surprise': 0.009401739156072333, 'fear': 0.006713952155297613}\n",
        "65"
       ]
      },
      {
       "output_type": "stream",
       "stream": "stdout",
       "text": [
        " : something : {'love': 0.02336631463639139, 'joy': 0.0010829196760783523, 'sadness': 0, 'anger': 0.00028369316018705867, 'surprise': 0.009401739156072333, 'fear': 0.006713952155297613}\n",
        "65"
       ]
      },
      {
       "output_type": "stream",
       "stream": "stdout",
       "text": [
        " : got : {'love': 0.02336631463639139, 'joy': 0.0010829196760783523, 'sadness': 0, 'anger': 0.00036277162866304595, 'surprise': 0.009401739156072333, 'fear': 0.006713952155297613}\n",
        "65"
       ]
      },
      {
       "output_type": "stream",
       "stream": "stdout",
       "text": [
        " : tryin : {'love': 0.02336631463639139, 'joy': 0.0010829196760783523, 'sadness': 0, 'anger': 0.00036277162866304595, 'surprise': 0.009401739156072333, 'fear': 0.006713952155297613}\n",
        "65"
       ]
      },
      {
       "output_type": "stream",
       "stream": "stdout",
       "text": [
        " : guess : {'love': 0.02336631463639139, 'joy': 0.0010829196760783523, 'sadness': 0, 'anger': 0.00036277162866304595, 'surprise': 0.013287687340163255, 'fear': 0.006713952155297613}\n",
        "65"
       ]
      },
      {
       "output_type": "stream",
       "stream": "stdout",
       "text": [
        " : ever : {'love': 0.030530248363304105, 'joy': 0.0010829196760783523, 'sadness': 0, 'anger': 0.00036277162866304595, 'surprise': 0.013287687340163255, 'fear': 0.006713952155297613}\n",
        "66"
       ]
      },
      {
       "output_type": "stream",
       "stream": "stdout",
       "text": [
        " : kingdom : {'love': 0.0073997675681684956, 'joy': 0, 'sadness': 0, 'anger': 0, 'surprise': 0, 'fear': 0}\n",
        "66"
       ]
      },
      {
       "output_type": "stream",
       "stream": "stdout",
       "text": [
        " : king : {'love': 0.015603134196361671, 'joy': 0, 'sadness': 0, 'anger': 0, 'surprise': 0, 'fear': 0}\n",
        "66"
       ]
      },
      {
       "output_type": "stream",
       "stream": "stdout",
       "text": [
        " : wishin : {'love': 0.015603134196361671, 'joy': 0, 'sadness': 0, 'anger': 0, 'surprise': 0, 'fear': 0}\n",
        "66"
       ]
      },
      {
       "output_type": "stream",
       "stream": "stdout",
       "text": [
        " : good : {'love': 0.032496071754569034, 'joy': 0, 'sadness': 0, 'anger': 0, 'surprise': 0, 'fear': 0}\n",
        "66"
       ]
      },
      {
       "output_type": "stream",
       "stream": "stdout",
       "text": [
        " : love : {'love': 0.0732721370368024, 'joy': 0, 'sadness': 0, 'anger': 0, 'surprise': 0, 'fear': 0}\n",
        "66"
       ]
      },
      {
       "output_type": "stream",
       "stream": "stdout",
       "text": [
        " : truth : {'love': 0.08328572247443865, 'joy': 0, 'sadness': 0, 'anger': 0, 'surprise': 0, 'fear': 0}\n",
        "66"
       ]
      },
      {
       "output_type": "stream",
       "stream": "stdout",
       "text": [
        " : would : {'love': 0.08328572247443865, 'joy': 0, 'sadness': 0, 'anger': 0, 'surprise': 0, 'fear': 0}\n",
        "66"
       ]
      },
      {
       "output_type": "stream",
       "stream": "stdout",
       "text": [
        " : universe : {'love': 0.08328572247443865, 'joy': 0, 'sadness': 0.004852353923766386, 'anger': 0, 'surprise': 0, 'fear': 0}\n",
        "66"
       ]
      },
      {
       "output_type": "stream",
       "stream": "stdout",
       "text": [
        " : could : {'love': 0.08328572247443865, 'joy': 0, 'sadness': 0.004852353923766386, 'anger': 0, 'surprise': 0, 'fear': 0}\n",
        "66"
       ]
      },
      {
       "output_type": "stream",
       "stream": "stdout",
       "text": [
        " : queen : {'love': 0.09101941553262313, 'joy': 0, 'sadness': 0.004852353923766386, 'anger': 0, 'surprise': 0, 'fear': 0}\n",
        "66"
       ]
      },
      {
       "output_type": "stream",
       "stream": "stdout",
       "text": [
        " : reach : {'love': 0.09101941553262313, 'joy': 0, 'sadness': 0.004852353923766386, 'anger': 0.00039232589258129144, 'surprise': 0, 'fear': 0}\n",
        "66"
       ]
      },
      {
       "output_type": "stream",
       "stream": "stdout",
       "text": [
        " : rule : {'love': 0.09386180194270036, 'joy': 0, 'sadness': 0.004852353923766386, 'anger': 0.00039232589258129144, 'surprise': 0, 'fear': 0}\n",
        "66"
       ]
      },
      {
       "output_type": "stream",
       "stream": "stdout",
       "text": [
        " : sunlight : {'love': 0.09386180194270036, 'joy': 0.007211598660154599, 'sadness': 0.004852353923766386, 'anger': 0.00039232589258129144, 'surprise': 0, 'fear': 0}\n",
        "66"
       ]
      },
      {
       "output_type": "stream",
       "stream": "stdout",
       "text": [
        " : something : {'love': 0.09386180194270036, 'joy': 0.007211598660154599, 'sadness': 0.004852353923766386, 'anger': 0.00039232589258129144, 'surprise': 0, 'fear': 0}\n",
        "66"
       ]
      },
      {
       "output_type": "stream",
       "stream": "stdout",
       "text": [
        " : stars : {'love': 0.09386180194270036, 'joy': 0.007211598660154599, 'sadness': 0.004852353923766386, 'anger': 0.00039232589258129144, 'surprise': 0.002609450254925786, 'fear': 0}\n",
        "66"
       ]
      },
      {
       "output_type": "stream",
       "stream": "stdout",
       "text": [
        " : baby : {'love': 0.10296119352413843, 'joy': 0.007211598660154599, 'sadness': 0.004852353923766386, 'anger': 0.00039232589258129144, 'surprise': 0.002609450254925786, 'fear': 0}\n",
        "66"
       ]
      },
      {
       "output_type": "stream",
       "stream": "stdout",
       "text": [
        " : world : {'love': 0.12669936560710102, 'joy': 0.007211598660154599, 'sadness': 0.004852353923766386, 'anger': 0.00039232589258129144, 'surprise': 0.002609450254925786, 'fear': 0}\n",
        "Error in getting similarity for"
       ]
      },
      {
       "output_type": "stream",
       "stream": "stdout",
       "text": [
        " think and surprise\n",
        "66"
       ]
      },
      {
       "output_type": "stream",
       "stream": "stdout",
       "text": [
        " : think : {'love': 0.13407720462232356, 'joy': 0.007211598660154599, 'sadness': 0.004852353923766386, 'anger': 0.00039232589258129144, 'surprise': 0.002609450254925786, 'fear': 0}\n",
        "66"
       ]
      },
      {
       "output_type": "stream",
       "stream": "stdout",
       "text": [
        " : change : {'love': 0.13407720462232356, 'joy': 0.007211598660154599, 'sadness': 0.004852353923766386, 'anger': 0.00039232589258129144, 'surprise': 0.03928429023043036, 'fear': 0}\n",
        "66"
       ]
      },
      {
       "output_type": "stream",
       "stream": "stdout",
       "text": [
        " : really : {'love': 0.14590773354270978, 'joy': 0.007211598660154599, 'sadness': 0.004852353923766386, 'anger': 0.00039232589258129144, 'surprise': 0.03928429023043036, 'fear': 0}\n",
        "68"
       ]
      },
      {
       "output_type": "stream",
       "stream": "stdout",
       "text": [
        " : lager : {'love': 0.0, 'joy': 0, 'sadness': 0, 'anger': 0, 'surprise': 0, 'fear': 0}\n",
        "68"
       ]
      },
      {
       "output_type": "stream",
       "stream": "stdout",
       "text": [
        " : sings : {'love': 0.0, 'joy': 0.008771207222937552, 'sadness': 0, 'anger': 0, 'surprise': 0, 'fear': 0}\n",
        "68"
       ]
      },
      {
       "output_type": "stream",
       "stream": "stdout",
       "text": [
        " : vodka : {'love': 0.0, 'joy': 0.008771207222937552, 'sadness': 0.00047119966363904015, 'anger': 0, 'surprise': 0, 'fear': 0}\n",
        "68"
       ]
      },
      {
       "output_type": "stream",
       "stream": "stdout",
       "text": [
        " : drink : {'love': 0.004406833049028751, 'joy': 0.008771207222937552, 'sadness': 0.00047119966363904015, 'anger': 0, 'surprise': 0, 'fear': 0}\n",
        "68"
       ]
      },
      {
       "output_type": "stream",
       "stream": "stdout",
       "text": [
        " : get : {'love': 0.004406833049028751, 'joy': 0.008771207222937552, 'sadness': 0.00047119966363904015, 'anger': 0.0007330777997075073, 'surprise': 0, 'fear': 0}\n",
        "68"
       ]
      },
      {
       "output_type": "stream",
       "stream": "stdout",
       "text": [
        " : away : {'love': 0.004406833049028751, 'joy': 0.008771207222937552, 'sadness': 0.00047119966363904015, 'anger': 0.006539536092734492, 'surprise': 0, 'fear': 0}\n",
        "68"
       ]
      },
      {
       "output_type": "stream",
       "stream": "stdout",
       "text": [
        " : never : {'love': 0.02311168965840087, 'joy': 0.008771207222937552, 'sadness': 0.00047119966363904015, 'anger': 0.006539536092734492, 'surprise': 0, 'fear': 0}\n",
        "68"
       ]
      },
      {
       "output_type": "stream",
       "stream": "stdout",
       "text": [
        " : cider : {'love': 0.02311168965840087, 'joy': 0.008771207222937552, 'sadness': 0.00047119966363904015, 'anger': 0.006539536092734492, 'surprise': 0, 'fear': 0}\n",
        "68"
       ]
      },
      {
       "output_type": "stream",
       "stream": "stdout",
       "text": [
        " : songs : {'love': 0.029585855460454474, 'joy': 0.008771207222937552, 'sadness': 0.00047119966363904015, 'anger': 0.006539536092734492, 'surprise': 0, 'fear': 0}\n",
        "68"
       ]
      },
      {
       "output_type": "stream",
       "stream": "stdout",
       "text": [
        " : gonna : {'love': 0.029585855460454474, 'joy': 0.008771207222937552, 'sadness': 0.00047119966363904015, 'anger': 0.006539536092734492, 'surprise': 0, 'fear': 0}\n",
        "68"
       ]
      },
      {
       "output_type": "stream",
       "stream": "stdout",
       "text": [
        " : winning : {'love': 0.05289652276773504, 'joy': 0.008771207222937552, 'sadness': 0.00047119966363904015, 'anger': 0.006539536092734492, 'surprise': 0, 'fear': 0}\n",
        "68"
       ]
      },
      {
       "output_type": "stream",
       "stream": "stdout",
       "text": [
        " : times : {'love': 0.05289652276773504, 'joy': 0.008771207222937552, 'sadness': 0.00047119966363904015, 'anger': 0.006539536092734492, 'surprise': 0.0014191122159627713, 'fear': 0}\n",
        "68"
       ]
      },
      {
       "output_type": "stream",
       "stream": "stdout",
       "text": [
        " : reminds : {'love': 0.056505657054724545, 'joy': 0.008771207222937552, 'sadness': 0.00047119966363904015, 'anger': 0.006539536092734492, 'surprise': 0.0014191122159627713, 'fear': 0}\n",
        "68"
       ]
      },
      {
       "output_type": "stream",
       "stream": "stdout",
       "text": [
        " : pissing : {'love': 0.056505657054724545, 'joy': 0.008771207222937552, 'sadness': 0.00047119966363904015, 'anger': 0.006539536092734492, 'surprise': 0.053462470789675816, 'fear': 0}\n",
        "68"
       ]
      },
      {
       "output_type": "stream",
       "stream": "stdout",
       "text": [
        " : danny : {'love': 0.056505657054724545, 'joy': 0.008771207222937552, 'sadness': 0.00047119966363904015, 'anger': 0.006539536092734492, 'surprise': 0.053462470789675816, 'fear': 0}\n",
        "68"
       ]
      },
      {
       "output_type": "stream",
       "stream": "stdout",
       "text": [
        " : night : {'love': 0.066668269745201, 'joy': 0.008771207222937552, 'sadness': 0.00047119966363904015, 'anger': 0.006539536092734492, 'surprise': 0.053462470789675816, 'fear': 0}\n",
        "68"
       ]
      },
      {
       "output_type": "stream",
       "stream": "stdout",
       "text": [
        " : knocked : {'love': 0.066668269745201, 'joy': 0.008771207222937552, 'sadness': 0.00047119966363904015, 'anger': 0.006539536092734492, 'surprise': 0.1257666793430296, 'fear': 0}\n",
        "68"
       ]
      },
      {
       "output_type": "stream",
       "stream": "stdout",
       "text": [
        " : keep : {'love': 0.07459778040032311, 'joy': 0.008771207222937552, 'sadness': 0.00047119966363904015, 'anger': 0.006539536092734492, 'surprise': 0.1257666793430296, 'fear': 0}\n",
        "68"
       ]
      },
      {
       "output_type": "stream",
       "stream": "stdout",
       "text": [
        " : singing : {'love': 0.07459778040032311, 'joy': 0.08332646861790674, 'sadness': 0.00047119966363904015, 'anger': 0.006539536092734492, 'surprise': 0.1257666793430296, 'fear': 0}\n",
        "68"
       ]
      },
      {
       "output_type": "stream",
       "stream": "stdout",
       "text": [
        " : drinks : {'love': 0.07900461344935186, 'joy': 0.08332646861790674, 'sadness': 0.00047119966363904015, 'anger': 0.006539536092734492, 'surprise': 0.1257666793430296, 'fear': 0}\n",
        "69"
       ]
      },
      {
       "output_type": "stream",
       "stream": "stdout",
       "text": [
        " : city : {'love': 0, 'joy': 0.013795894436134054, 'sadness': 0, 'anger': 0, 'surprise': 0, 'fear': 0}\n",
        "69"
       ]
      },
      {
       "output_type": "stream",
       "stream": "stdout",
       "text": [
        " : drowning : {'love': 0, 'joy': 0.019470547471557638, 'sadness': 0, 'anger': 0, 'surprise': 0, 'fear': 0}\n",
        "69"
       ]
      },
      {
       "output_type": "stream",
       "stream": "stdout",
       "text": [
        " : skyline : {'love': 0, 'joy': 0.019470547471557638, 'sadness': 0, 'anger': 0.003742174341116117, 'surprise': 0, 'fear': 0}\n",
        "69"
       ]
      },
      {
       "output_type": "stream",
       "stream": "stdout",
       "text": [
        " : stormy : {'love': 0, 'joy': 0.019470547471557638, 'sadness': 0.004179653366481631, 'anger': 0.003742174341116117, 'surprise': 0, 'fear': 0}\n",
        "69"
       ]
      },
      {
       "output_type": "stream",
       "stream": "stdout",
       "text": [
        " : justice : {'love': 0.014845578907070441, 'joy': 0.019470547471557638, 'sadness': 0.004179653366481631, 'anger': 0.003742174341116117, 'surprise': 0, 'fear': 0}\n",
        "69"
       ]
      },
      {
       "output_type": "stream",
       "stream": "stdout",
       "text": [
        " : crime : {'love': 0.014845578907070441, 'joy': 0.019470547471557638, 'sadness': 0.004179653366481631, 'anger': 0.009171434392958012, 'surprise': 0, 'fear': 0}\n",
        "69"
       ]
      },
      {
       "output_type": "stream",
       "stream": "stdout",
       "text": [
        " : sorrow : {'love': 0.014845578907070441, 'joy': 0.019470547471557638, 'sadness': 0.0809324897996165, 'anger': 0.009171434392958012, 'surprise': 0, 'fear': 0}\n",
        "69"
       ]
      },
      {
       "output_type": "stream",
       "stream": "stdout",
       "text": [
        " : quiet : {'love': 0.014845578907070441, 'joy': 0.019470547471557638, 'sadness': 0.0920195452438822, 'anger': 0.009171434392958012, 'surprise': 0, 'fear': 0}\n",
        "69"
       ]
      },
      {
       "output_type": "stream",
       "stream": "stdout",
       "text": [
        " : solution : {'love': 0.014845578907070441, 'joy': 0.019470547471557638, 'sadness': 0.0920195452438822, 'anger': 0.009171434392958012, 'surprise': 0, 'fear': 0.0007571738131109701}\n",
        "69"
       ]
      },
      {
       "output_type": "stream",
       "stream": "stdout",
       "text": [
        " : chorus : {'love': 0.014845578907070441, 'joy': 0.03275861138089329, 'sadness': 0.0920195452438822, 'anger': 0.009171434392958012, 'surprise': 0, 'fear': 0.0007571738131109701}\n",
        "69"
       ]
      },
      {
       "output_type": "stream",
       "stream": "stdout",
       "text": [
        " : gotham : {'love': 0.014845578907070441, 'joy': 0.03275861138089329, 'sadness': 0.0920195452438822, 'anger': 0.009171434392958012, 'surprise': 0, 'fear': 0.0007571738131109701}\n",
        "69"
       ]
      },
      {
       "output_type": "stream",
       "stream": "stdout",
       "text": [
        " : weather : {'love': 0.017236438303393907, 'joy': 0.03275861138089329, 'sadness': 0.0920195452438822, 'anger': 0.009171434392958012, 'surprise': 0, 'fear': 0.0007571738131109701}\n",
        "69"
       ]
      },
      {
       "output_type": "stream",
       "stream": "stdout",
       "text": [
        " : awake : {'love': 0.017236438303393907, 'joy': 0.03275861138089329, 'sadness': 0.0920195452438822, 'anger': 0.009171434392958012, 'surprise': 0.011263411204066482, 'fear': 0.0007571738131109701}\n",
        "69"
       ]
      },
      {
       "output_type": "stream",
       "stream": "stdout",
       "text": [
        " : signals : {'love': 0.017236438303393907, 'joy': 0.03889027467457189, 'sadness': 0.0920195452438822, 'anger': 0.009171434392958012, 'surprise': 0.011263411204066482, 'fear': 0.0007571738131109701}\n",
        "69"
       ]
      },
      {
       "output_type": "stream",
       "stream": "stdout",
       "text": [
        " : sleeping : {'love': 0.017236438303393907, 'joy': 0.03889027467457189, 'sadness': 0.0920195452438822, 'anger': 0.009171434392958012, 'surprise': 0.015308156435994038, 'fear': 0.0007571738131109701}\n",
        "69"
       ]
      },
      {
       "output_type": "stream",
       "stream": "stdout",
       "text": [
        " : place : {'love': 0.018510956843833363, 'joy': 0.03889027467457189, 'sadness': 0.0920195452438822, 'anger': 0.009171434392958012, 'surprise': 0.015308156435994038, 'fear': 0.0007571738131109701}\n",
        "69"
       ]
      },
      {
       "output_type": "stream",
       "stream": "stdout",
       "text": [
        " : fear : {'love': 0.018510956843833363, 'joy': 0.03889027467457189, 'sadness': 0.0920195452438822, 'anger': 0.009171434392958012, 'surprise': 0.015308156435994038, 'fear': 0.0659575572369134}\n",
        "69"
       ]
      },
      {
       "output_type": "stream",
       "stream": "stdout",
       "text": [
        " : mist : {'love': 0.018510956843833363, 'joy': 0.03889027467457189, 'sadness': 0.0920195452438822, 'anger': 0.009171434392958012, 'surprise': 0.015308156435994038, 'fear': 0.07333371128326767}\n",
        "69"
       ]
      },
      {
       "output_type": "stream",
       "stream": "stdout",
       "text": [
        " : stumble : {'love': 0.018510956843833363, 'joy': 0.03889027467457189, 'sadness': 0.0920195452438822, 'anger': 0.009171434392958012, 'surprise': 0.029867069639213636, 'fear': 0.07333371128326767}\n",
        "69"
       ]
      },
      {
       "output_type": "stream",
       "stream": "stdout",
       "text": [
        " : happiness : {'love': 0.018510956843833363, 'joy': 0.07804954879690637, 'sadness': 0.0920195452438822, 'anger': 0.009171434392958012, 'surprise': 0.029867069639213636, 'fear': 0.07333371128326767}\n",
        "70"
       ]
      },
      {
       "output_type": "stream",
       "stream": "stdout",
       "text": [
        " : beautiful : {'love': 0.012898940822008827, 'joy': 0, 'sadness': 0, 'anger': 0, 'surprise': 0, 'fear': 0}\n",
        "70"
       ]
      },
      {
       "output_type": "stream",
       "stream": "stdout",
       "text": [
        " : mountains : {'love': 0.012898940822008827, 'joy': 0.008340055607335908, 'sadness': 0, 'anger': 0, 'surprise': 0, 'fear': 0}\n",
        "70"
       ]
      },
      {
       "output_type": "stream",
       "stream": "stdout",
       "text": [
        " : heaven : {'love': 0.012898940822008827, 'joy': 0.03403537493859787, 'sadness': 0, 'anger': 0, 'surprise': 0, 'fear': 0}\n",
        "70"
       ]
      },
      {
       "output_type": "stream",
       "stream": "stdout",
       "text": [
        " : last : {'love': 0.012898940822008827, 'joy': 0.03403537493859787, 'sadness': 0, 'anger': 0, 'surprise': 0.006704912220854988, 'fear': 0}\n",
        "70"
       ]
      },
      {
       "output_type": "stream",
       "stream": "stdout",
       "text": [
        " : cried : {'love': 0.012898940822008827, 'joy': 0.04198905837902799, 'sadness': 0, 'anger': 0, 'surprise': 0.006704912220854988, 'fear': 0}\n",
        "70"
       ]
      },
      {
       "output_type": "stream",
       "stream": "stdout",
       "text": [
        " : love : {'love': 0.07919293082925274, 'joy': 0.04198905837902799, 'sadness': 0, 'anger': 0, 'surprise': 0.006704912220854988, 'fear': 0}\n",
        "70"
       ]
      },
      {
       "output_type": "stream",
       "stream": "stdout",
       "text": [
        " : almost : {'love': 0.07919293082925274, 'joy': 0.04198905837902799, 'sadness': 0, 'anger': 0, 'surprise': 0.012560406473245914, 'fear': 0}\n",
        "70"
       ]
      },
      {
       "output_type": "stream",
       "stream": "stdout",
       "text": [
        " : sun : {'love': 0.08582986399118374, 'joy': 0.04198905837902799, 'sadness': 0, 'anger': 0, 'surprise': 0.012560406473245914, 'fear': 0}\n",
        "70"
       ]
      },
      {
       "output_type": "stream",
       "stream": "stdout",
       "text": [
        " : sweet : {'love': 0.08582986399118374, 'joy': 0.048936595874497175, 'sadness': 0, 'anger': 0, 'surprise': 0.012560406473245914, 'fear': 0}\n",
        "70"
       ]
      },
      {
       "output_type": "stream",
       "stream": "stdout",
       "text": [
        " : felt : {'love': 0.08582986399118374, 'joy': 0.048936595874497175, 'sadness': 0, 'anger': 0, 'surprise': 0.012560406473245914, 'fear': 0.029500472100158683}\n",
        "70"
       ]
      },
      {
       "output_type": "stream",
       "stream": "stdout",
       "text": [
        " : soul : {'love': 0.10903754037868718, 'joy': 0.048936595874497175, 'sadness': 0, 'anger': 0, 'surprise': 0.012560406473245914, 'fear': 0.029500472100158683}\n",
        "70"
       ]
      },
      {
       "output_type": "stream",
       "stream": "stdout",
       "text": [
        " : explored : {'love': 0.115296438765666, 'joy': 0.048936595874497175, 'sadness': 0, 'anger': 0, 'surprise': 0.012560406473245914, 'fear': 0.029500472100158683}\n",
        "70"
       ]
      },
      {
       "output_type": "stream",
       "stream": "stdout",
       "text": [
        " : rivers : {'love': 0.115296438765666, 'joy': 0.048936595874497175, 'sadness': 0, 'anger': 0.012431870834657688, 'surprise': 0.012560406473245914, 'fear': 0.029500472100158683}\n",
        "70"
       ]
      },
      {
       "output_type": "stream",
       "stream": "stdout",
       "text": [
        " : made : {'love': 0.115296438765666, 'joy': 0.048936595874497175, 'sadness': 0, 'anger': 0.012431870834657688, 'surprise': 0.013946308643793912, 'fear': 0.029500472100158683}\n",
        "70"
       ]
      },
      {
       "output_type": "stream",
       "stream": "stdout",
       "text": [
        " : night : {'love': 0.12765548710214866, 'joy': 0.048936595874497175, 'sadness': 0, 'anger': 0.012431870834657688, 'surprise': 0.013946308643793912, 'fear': 0.029500472100158683}\n",
        "70"
       ]
      },
      {
       "output_type": "stream",
       "stream": "stdout",
       "text": [
        " : making : {'love': 0.12765548710214866, 'joy': 0.048936595874497175, 'sadness': 0, 'anger': 0.012431870834657688, 'surprise': 0.017192467853737833, 'fear': 0.029500472100158683}\n",
        "Error in getting similarity for"
       ]
      },
      {
       "output_type": "stream",
       "stream": "stdout",
       "text": [
        " moon and surprise\n",
        "70"
       ]
      },
      {
       "output_type": "stream",
       "stream": "stdout",
       "text": [
        " : moon : {'love': 0.12765548710214866, 'joy': 0.048936595874497175, 'sadness': 0, 'anger': 0.01793379551497965, 'surprise': 0.017192467853737833, 'fear': 0.029500472100158683}\n",
        "70"
       ]
      },
      {
       "output_type": "stream",
       "stream": "stdout",
       "text": [
        " : saw : {'love': 0.12765548710214866, 'joy': 0.048936595874497175, 'sadness': 0, 'anger': 0.01793379551497965, 'surprise': 0.06285565533643518, 'fear': 0.029500472100158683}\n",
        "70"
       ]
      },
      {
       "output_type": "stream",
       "stream": "stdout",
       "text": [
        " : inside : {'love': 0.12765548710214866, 'joy': 0.048936595874497175, 'sadness': 0, 'anger': 0.01793379551497965, 'surprise': 0.06285565533643518, 'fear': 0.029500472100158683}\n",
        "70"
       ]
      },
      {
       "output_type": "stream",
       "stream": "stdout",
       "text": [
        " : red : {'love': 0.12765548710214866, 'joy': 0.048936595874497175, 'sadness': 0, 'anger': 0.02308376431910358, 'surprise': 0.06285565533643518, 'fear': 0.029500472100158683}\n",
        "72"
       ]
      },
      {
       "output_type": "stream",
       "stream": "stdout",
       "text": [
        " : cute : {'love': 0.006177815043489891, 'joy': 0, 'sadness': 0, 'anger': 0, 'surprise': 0, 'fear': 0}\n",
        "72"
       ]
      },
      {
       "output_type": "stream",
       "stream": "stdout",
       "text": [
        " : genuine : {'love': 0.006177815043489891, 'joy': 0.007162136198177901, 'sadness': 0, 'anger': 0, 'surprise': 0, 'fear': 0}\n",
        "72"
       ]
      },
      {
       "output_type": "stream",
       "stream": "stdout",
       "text": [
        " : like : {'love': 0.006177815043489891, 'joy': 0.007162136198177901, 'sadness': 0, 'anger': 0, 'surprise': 0, 'fear': 0}\n",
        "72"
       ]
      },
      {
       "output_type": "stream",
       "stream": "stdout",
       "text": [
        " : missing : {'love': 0.01058022863983996, 'joy': 0.007162136198177901, 'sadness': 0, 'anger': 0, 'surprise': 0, 'fear': 0}\n",
        "72"
       ]
      },
      {
       "output_type": "stream",
       "stream": "stdout",
       "text": [
        " : caddie : {'love': 0.01058022863983996, 'joy': 0.007162136198177901, 'sadness': 0, 'anger': 0, 'surprise': 0, 'fear': 0}\n",
        "72"
       ]
      },
      {
       "output_type": "stream",
       "stream": "stdout",
       "text": [
        " : big : {'love': 0.020939319440956707, 'joy': 0.007162136198177901, 'sadness': 0, 'anger': 0, 'surprise': 0, 'fear': 0}\n",
        "72"
       ]
      },
      {
       "output_type": "stream",
       "stream": "stdout",
       "text": [
        " : could : {'love': 0.020939319440956707, 'joy': 0.007162136198177901, 'sadness': 0, 'anger': 0, 'surprise': 0, 'fear': 0}\n",
        "72"
       ]
      },
      {
       "output_type": "stream",
       "stream": "stdout",
       "text": [
        " : dollar : {'love': 0.020939319440956707, 'joy': 0.007162136198177901, 'sadness': 0.0005333091696057825, 'anger': 0, 'surprise': 0, 'fear': 0}\n",
        "72"
       ]
      },
      {
       "output_type": "stream",
       "stream": "stdout",
       "text": [
        " : ridin : {'love': 0.020939319440956707, 'joy': 0.007162136198177901, 'sadness': 0.0005333091696057825, 'anger': 0, 'surprise': 0, 'fear': 0}\n",
        "72"
       ]
      },
      {
       "output_type": "stream",
       "stream": "stdout",
       "text": [
        " : nothin : {'love': 0.020939319440956707, 'joy': 0.007162136198177901, 'sadness': 0.0005333091696057825, 'anger': 0, 'surprise': 0, 'fear': 0}\n",
        "72"
       ]
      },
      {
       "output_type": "stream",
       "stream": "stdout",
       "text": [
        " : sign : {'love': 0.022767766607273858, 'joy': 0.007162136198177901, 'sadness': 0.0005333091696057825, 'anger': 0, 'surprise': 0, 'fear': 0}\n",
        "72"
       ]
      },
      {
       "output_type": "stream",
       "stream": "stdout",
       "text": [
        " : ready : {'love': 0.022767766607273858, 'joy': 0.00919659888200119, 'sadness': 0.0005333091696057825, 'anger': 0, 'surprise': 0, 'fear': 0}\n",
        "72"
       ]
      },
      {
       "output_type": "stream",
       "stream": "stdout",
       "text": [
        " : nigger : {'love': 0.022767766607273858, 'joy': 0.00919659888200119, 'sadness': 0.0005333091696057825, 'anger': 0, 'surprise': 0, 'fear': 0.004174086244445203}\n",
        "72"
       ]
      },
      {
       "output_type": "stream",
       "stream": "stdout",
       "text": [
        " : hot : {'love': 0.024734364315944612, 'joy': 0.00919659888200119, 'sadness': 0.0005333091696057825, 'anger': 0, 'surprise': 0, 'fear': 0.004174086244445203}\n",
        "72"
       ]
      },
      {
       "output_type": "stream",
       "stream": "stdout",
       "text": [
        " : boo : {'love': 0.024734364315944612, 'joy': 0.00919659888200119, 'sadness': 0.0005333091696057825, 'anger': 0, 'surprise': 0.003451467912124429, 'fear': 0.004174086244445203}\n",
        "72"
       ]
      },
      {
       "output_type": "stream",
       "stream": "stdout",
       "text": [
        " : miggie : {'love': 0.024734364315944612, 'joy': 0.00919659888200119, 'sadness': 0.0005333091696057825, 'anger': 0, 'surprise': 0.003451467912124429, 'fear': 0.004174086244445203}\n",
        "72"
       ]
      },
      {
       "output_type": "stream",
       "stream": "stdout",
       "text": [
        " : sexy : {'love': 0.028269683748437635, 'joy': 0.00919659888200119, 'sadness': 0.0005333091696057825, 'anger': 0, 'surprise': 0.003451467912124429, 'fear': 0.004174086244445203}\n",
        "72"
       ]
      },
      {
       "output_type": "stream",
       "stream": "stdout",
       "text": [
        " : waterbed : {'love': 0.028269683748437635, 'joy': 0.00919659888200119, 'sadness': 0.0005333091696057825, 'anger': 0, 'surprise': 0.003451467912124429, 'fear': 0.004174086244445203}\n",
        "72"
       ]
      },
      {
       "output_type": "stream",
       "stream": "stdout",
       "text": [
        " : daddy : {'love': 0.028269683748437635, 'joy': 0.00919659888200119, 'sadness': 0.0021780884768585382, 'anger': 0, 'surprise': 0.003451467912124429, 'fear': 0.004174086244445203}\n",
        "72"
       ]
      },
      {
       "output_type": "stream",
       "stream": "stdout",
       "text": [
        " : fine : {'love': 0.028269683748437635, 'joy': 0.01151536760282342, 'sadness': 0.0021780884768585382, 'anger': 0, 'surprise': 0.003451467912124429, 'fear': 0.004174086244445203}\n",
        "73"
       ]
      },
      {
       "output_type": "stream",
       "stream": "stdout",
       "text": [
        " : aight : {'love': 0.0, 'joy': 0, 'sadness': 0, 'anger': 0, 'surprise': 0, 'fear': 0}\n",
        "73"
       ]
      },
      {
       "output_type": "stream",
       "stream": "stdout",
       "text": [
        " : gon : {'love': 0.0, 'joy': 0, 'sadness': 0, 'anger': 0, 'surprise': 0, 'fear': 0}\n",
        "73"
       ]
      },
      {
       "output_type": "stream",
       "stream": "stdout",
       "text": [
        " : baller : {'love': 0.0, 'joy': 0, 'sadness': 0, 'anger': 0, 'surprise': 0, 'fear': 0}\n",
        "73"
       ]
      },
      {
       "output_type": "stream",
       "stream": "stdout",
       "text": [
        " : help : {'love': 0.014313216387590918, 'joy': 0, 'sadness': 0, 'anger': 0, 'surprise': 0, 'fear': 0}\n",
        "73"
       ]
      },
      {
       "output_type": "stream",
       "stream": "stdout",
       "text": [
        " : hum : {'love': 0.014313216387590918, 'joy': 0, 'sadness': 0.0023820697399977663, 'anger': 0, 'surprise': 0, 'fear': 0}\n",
        "73"
       ]
      },
      {
       "output_type": "stream",
       "stream": "stdout",
       "text": [
        " : tricking : {'love': 0.014313216387590918, 'joy': 0, 'sadness': 0.0023820697399977663, 'anger': 0, 'surprise': 0.003579613899973257, 'fear': 0}\n",
        "73"
       ]
      },
      {
       "output_type": "stream",
       "stream": "stdout",
       "text": [
        " : huh : {'love': 0.014313216387590918, 'joy': 0, 'sadness': 0.0023820697399977663, 'anger': 0, 'surprise': 0.003579613899973257, 'fear': 0}\n",
        "73"
       ]
      },
      {
       "output_type": "stream",
       "stream": "stdout",
       "text": [
        " : yeah : {'love': 0.014313216387590918, 'joy': 0, 'sadness': 0.0023820697399977663, 'anger': 0, 'surprise': 0.003579613899973257, 'fear': 0}\n",
        "73"
       ]
      },
      {
       "output_type": "stream",
       "stream": "stdout",
       "text": [
        " : hey : {'love': 0.014313216387590918, 'joy': 0, 'sadness': 0.0023820697399977663, 'anger': 0, 'surprise': 0.003579613899973257, 'fear': 0}\n",
        "73"
       ]
      },
      {
       "output_type": "stream",
       "stream": "stdout",
       "text": [
        " : leave : {'love': 0.014313216387590918, 'joy': 0, 'sadness': 0.0023820697399977663, 'anger': 0, 'surprise': 0.003579613899973257, 'fear': 0.007072069673575737}\n",
        "73"
       ]
      },
      {
       "output_type": "stream",
       "stream": "stdout",
       "text": [
        " : timberland : {'love': 0.014313216387590918, 'joy': 0, 'sadness': 0.0023820697399977663, 'anger': 0, 'surprise': 0.003579613899973257, 'fear': 0.007072069673575737}\n",
        "73"
       ]
      },
      {
       "output_type": "stream",
       "stream": "stdout",
       "text": [
        " : finished : {'love': 0.01670672045691306, 'joy': 0, 'sadness': 0.0023820697399977663, 'anger': 0, 'surprise': 0.003579613899973257, 'fear': 0.007072069673575737}\n",
        "73"
       ]
      },
      {
       "output_type": "stream",
       "stream": "stdout",
       "text": [
        " : swazey : {'love': 0.01670672045691306, 'joy': 0, 'sadness': 0.0023820697399977663, 'anger': 0, 'surprise': 0.003579613899973257, 'fear': 0.007072069673575737}\n",
        "73"
       ]
      },
      {
       "output_type": "stream",
       "stream": "stdout",
       "text": [
        " : missy : {'love': 0.01670672045691306, 'joy': 0, 'sadness': 0.0023820697399977663, 'anger': 0, 'surprise': 0.003579613899973257, 'fear': 0.007072069673575737}\n",
        "73"
       ]
      },
      {
       "output_type": "stream",
       "stream": "stdout",
       "text": [
        " : another : {'love': 0.01670672045691306, 'joy': 0, 'sadness': 0.0023820697399977663, 'anger': 0, 'surprise': 0.003579613899973257, 'fear': 0.007072069673575737}\n",
        "73"
       ]
      },
      {
       "output_type": "stream",
       "stream": "stdout",
       "text": [
        " : baby : {'love': 0.023706252442634655, 'joy': 0, 'sadness': 0.0023820697399977663, 'anger': 0, 'surprise': 0.003579613899973257, 'fear': 0.007072069673575737}\n",
        "73"
       ]
      },
      {
       "output_type": "stream",
       "stream": "stdout",
       "text": [
        " : sing : {'love': 0.023706252442634655, 'joy': 0.042501958121188906, 'sadness': 0.0023820697399977663, 'anger': 0, 'surprise': 0.003579613899973257, 'fear': 0.007072069673575737}\n",
        "73"
       ]
      },
      {
       "output_type": "stream",
       "stream": "stdout",
       "text": [
        " : total : {'love': 0.023706252442634655, 'joy': 0.042501958121188906, 'sadness': 0.0023820697399977663, 'anger': 0, 'surprise': 0.003579613899973257, 'fear': 0.007072069673575737}\n",
        "73"
       ]
      },
      {
       "output_type": "stream",
       "stream": "stdout",
       "text": [
        " : heh : {'love': 0.023706252442634655, 'joy': 0.042501958121188906, 'sadness': 0.0023820697399977663, 'anger': 0, 'surprise': 0.003579613899973257, 'fear': 0.007072069673575737}\n",
        "73"
       ]
      },
      {
       "output_type": "stream",
       "stream": "stdout",
       "text": [
        " : pimpin : {'love': 0.023706252442634655, 'joy': 0.042501958121188906, 'sadness': 0.0023820697399977663, 'anger': 0, 'surprise': 0.003579613899973257, 'fear': 0.007072069673575737}\n",
        "74"
       ]
      },
      {
       "output_type": "stream",
       "stream": "stdout",
       "text": [
        " : picture : {'love': 0, 'joy': 0.0011115052203019239, 'sadness': 0, 'anger': 0, 'surprise': 0, 'fear': 0}\n",
        "74"
       ]
      },
      {
       "output_type": "stream",
       "stream": "stdout",
       "text": [
        " : life : {'love': 0.00536970970957637, 'joy': 0.0011115052203019239, 'sadness': 0, 'anger': 0, 'surprise': 0, 'fear': 0}\n",
        "74"
       ]
      },
      {
       "output_type": "stream",
       "stream": "stdout",
       "text": [
        " : nigga : {'love': 0.00536970970957637, 'joy': 0.0011115052203019239, 'sadness': 0, 'anger': 0, 'surprise': 0, 'fear': 0}\n",
        "74"
       ]
      },
      {
       "output_type": "stream",
       "stream": "stdout",
       "text": [
        " : pain : {'love': 0.00536970970957637, 'joy': 0.0011115052203019239, 'sadness': 0, 'anger': 0.00630588185135169, 'surprise': 0, 'fear': 0}\n",
        "74"
       ]
      },
      {
       "output_type": "stream",
       "stream": "stdout",
       "text": [
        " : broke : {'love': 0.00536970970957637, 'joy': 0.0011115052203019239, 'sadness': 0, 'anger': 0.00630588185135169, 'surprise': 0.0014518137217426079, 'fear': 0}\n",
        "74"
       ]
      },
      {
       "output_type": "stream",
       "stream": "stdout",
       "text": [
        " : spoken : {'love': 0.00536970970957637, 'joy': 0.0011115052203019239, 'sadness': 0, 'anger': 0.00630588185135169, 'surprise': 0.0014518137217426079, 'fear': 0.002459043309059142}\n",
        "74"
       ]
      },
      {
       "output_type": "stream",
       "stream": "stdout",
       "text": [
        " : hopin : {'love': 0.00536970970957637, 'joy': 0.0011115052203019239, 'sadness': 0, 'anger': 0.00630588185135169, 'surprise': 0.0014518137217426079, 'fear': 0.002459043309059142}\n",
        "74"
       ]
      },
      {
       "output_type": "stream",
       "stream": "stdout",
       "text": [
        " : focus : {'love': 0.010121083345060504, 'joy': 0.0011115052203019239, 'sadness': 0, 'anger': 0.00630588185135169, 'surprise': 0.0014518137217426079, 'fear': 0.002459043309059142}\n",
        "74"
       ]
      },
      {
       "output_type": "stream",
       "stream": "stdout",
       "text": [
        " : bustin : {'love': 0.010121083345060504, 'joy': 0.0011115052203019239, 'sadness': 0, 'anger': 0.00630588185135169, 'surprise': 0.0014518137217426079, 'fear': 0.002459043309059142}\n",
        "74"
       ]
      },
      {
       "output_type": "stream",
       "stream": "stdout",
       "text": [
        " : momma : {'love': 0.010121083345060504, 'joy': 0.0011115052203019239, 'sadness': 0.0004976269486333983, 'anger': 0.00630588185135169, 'surprise': 0.0014518137217426079, 'fear': 0.002459043309059142}\n",
        "74"
       ]
      },
      {
       "output_type": "stream",
       "stream": "stdout",
       "text": [
        " : gon : {'love': 0.010121083345060504, 'joy': 0.0011115052203019239, 'sadness': 0.0004976269486333983, 'anger': 0.00630588185135169, 'surprise': 0.0014518137217426079, 'fear': 0.002459043309059142}\n",
        "74"
       ]
      },
      {
       "output_type": "stream",
       "stream": "stdout",
       "text": [
        " : scarface : {'love': 0.010121083345060504, 'joy': 0.0011115052203019239, 'sadness': 0.0004976269486333983, 'anger': 0.00630588185135169, 'surprise': 0.0014518137217426079, 'fear': 0.002459043309059142}\n",
        "74"
       ]
      },
      {
       "output_type": "stream",
       "stream": "stdout",
       "text": [
        " : thoughts : {'love': 0.010121083345060504, 'joy': 0.0011115052203019239, 'sadness': 0.0004976269486333983, 'anger': 0.00630588185135169, 'surprise': 0.0014518137217426079, 'fear': 0.007802663764457308}\n",
        "74"
       ]
      },
      {
       "output_type": "stream",
       "stream": "stdout",
       "text": [
        " : shots : {'love': 0.010121083345060504, 'joy': 0.0011115052203019239, 'sadness': 0.0004976269486333983, 'anger': 0.006952957100498083, 'surprise': 0.0014518137217426079, 'fear': 0.007802663764457308}\n",
        "74"
       ]
      },
      {
       "output_type": "stream",
       "stream": "stdout",
       "text": [
        " : pictures : {'love': 0.010121083345060504, 'joy': 0.002527815742018824, 'sadness': 0.0004976269486333983, 'anger': 0.006952957100498083, 'surprise': 0.0014518137217426079, 'fear': 0.007802663764457308}\n",
        "74"
       ]
      },
      {
       "output_type": "stream",
       "stream": "stdout",
       "text": [
        " : smile : {'love': 0.010121083345060504, 'joy': 0.0514494211290298, 'sadness': 0.0004976269486333983, 'anger': 0.006952957100498083, 'surprise': 0.0014518137217426079, 'fear': 0.007802663764457308}\n",
        "74"
       ]
      },
      {
       "output_type": "stream",
       "stream": "stdout",
       "text": [
        " : save : {'love': 0.011470086630531619, 'joy': 0.0514494211290298, 'sadness': 0.0004976269486333983, 'anger': 0.006952957100498083, 'surprise': 0.0014518137217426079, 'fear': 0.007802663764457308}\n",
        "74"
       ]
      },
      {
       "output_type": "stream",
       "stream": "stdout",
       "text": [
        " : childhood : {'love': 0.01347461913481368, 'joy': 0.0514494211290298, 'sadness': 0.0004976269486333983, 'anger': 0.006952957100498083, 'surprise': 0.0014518137217426079, 'fear': 0.007802663764457308}\n",
        "74"
       ]
      },
      {
       "output_type": "stream",
       "stream": "stdout",
       "text": [
        " : 2pac : {'love': 0.01347461913481368, 'joy': 0.0514494211290298, 'sadness': 0.0004976269486333983, 'anger': 0.006952957100498083, 'surprise': 0.0014518137217426079, 'fear': 0.007802663764457308}\n",
        "74"
       ]
      },
      {
       "output_type": "stream",
       "stream": "stdout",
       "text": [
        " : help : {'love': 0.014767782314233091, 'joy': 0.0514494211290298, 'sadness': 0.0004976269486333983, 'anger': 0.006952957100498083, 'surprise': 0.0014518137217426079, 'fear': 0.007802663764457308}\n",
        "75"
       ]
      },
      {
       "output_type": "stream",
       "stream": "stdout",
       "text": [
        " : montell : {'love': 0.0, 'joy': 0, 'sadness': 0, 'anger': 0, 'surprise': 0, 'fear': 0}\n",
        "75"
       ]
      },
      {
       "output_type": "stream",
       "stream": "stdout",
       "text": [
        " : shoulder : {'love': 0.0, 'joy': 0, 'sadness': 0, 'anger': 0.005074760513065537, 'surprise': 0, 'fear': 0}\n",
        "75"
       ]
      },
      {
       "output_type": "stream",
       "stream": "stdout",
       "text": [
        " : repeat : {'love': 0.0, 'joy': 0, 'sadness': 0, 'anger': 0.005074760513065537, 'surprise': 0.003930107330349539, 'fear': 0}\n",
        "75"
       ]
      },
      {
       "output_type": "stream",
       "stream": "stdout",
       "text": [
        " : temperature : {'love': 0.0002950147276364084, 'joy': 0, 'sadness': 0, 'anger': 0.005074760513065537, 'surprise': 0.003930107330349539, 'fear': 0}\n",
        "75"
       ]
      },
      {
       "output_type": "stream",
       "stream": "stdout",
       "text": [
        " : hour : {'love': 0.0002950147276364084, 'joy': 0, 'sadness': 0, 'anger': 0.006202568938038502, 'surprise': 0.003930107330349539, 'fear': 0}\n",
        "75"
       ]
      },
      {
       "output_type": "stream",
       "stream": "stdout",
       "text": [
        " : aroused : {'love': 0.0002950147276364084, 'joy': 0, 'sadness': 0, 'anger': 0.020007840293218518, 'surprise': 0.003930107330349539, 'fear': 0}\n",
        "75"
       ]
      },
      {
       "output_type": "stream",
       "stream": "stdout",
       "text": [
        " : rendezvous : {'love': 0.002103515604224754, 'joy': 0, 'sadness': 0, 'anger': 0.020007840293218518, 'surprise': 0.003930107330349539, 'fear': 0}\n",
        "75"
       ]
      },
      {
       "output_type": "stream",
       "stream": "stdout",
       "text": [
        " : gonna : {'love': 0.002103515604224754, 'joy': 0, 'sadness': 0, 'anger': 0.020007840293218518, 'surprise': 0.003930107330349539, 'fear': 0}\n",
        "75"
       ]
      },
      {
       "output_type": "stream",
       "stream": "stdout",
       "text": [
        " : tonight : {'love': 0.002103515604224754, 'joy': 0, 'sadness': 0, 'anger': 0.020007840293218518, 'surprise': 0.008522231967770518, 'fear': 0}\n",
        "75"
       ]
      },
      {
       "output_type": "stream",
       "stream": "stdout",
       "text": [
        " : shower : {'love': 0.002103515604224754, 'joy': 0, 'sadness': 0, 'anger': 0.020007840293218518, 'surprise': 0.013352210837267182, 'fear': 0}\n",
        "75"
       ]
      },
      {
       "output_type": "stream",
       "stream": "stdout",
       "text": [
        " : dinner : {'love': 0.002103515604224754, 'joy': 0, 'sadness': 0, 'anger': 0.020007840293218518, 'surprise': 0.016495654291484467, 'fear': 0}\n",
        "75"
       ]
      },
      {
       "output_type": "stream",
       "stream": "stdout",
       "text": [
        " : strawberries : {'love': 0.003323244461643505, 'joy': 0, 'sadness': 0, 'anger': 0.020007840293218518, 'surprise': 0.016495654291484467, 'fear': 0}\n",
        "75"
       ]
      },
      {
       "output_type": "stream",
       "stream": "stdout",
       "text": [
        " : nowhere : {'love': 0.008562572640766136, 'joy': 0, 'sadness': 0, 'anger': 0.020007840293218518, 'surprise': 0.016495654291484467, 'fear': 0}\n",
        "75"
       ]
      },
      {
       "output_type": "stream",
       "stream": "stdout",
       "text": [
        " : cable : {'love': 0.008562572640766136, 'joy': 0, 'sadness': 0, 'anger': 0.020007840293218518, 'surprise': 0.019091854365020828, 'fear': 0}\n",
        "75"
       ]
      },
      {
       "output_type": "stream",
       "stream": "stdout",
       "text": [
        " : coming : {'love': 0.008562572640766136, 'joy': 0, 'sadness': 0, 'anger': 0.020007840293218518, 'surprise': 0.019091854365020828, 'fear': 0.02683510991473006}\n",
        "75"
       ]
      },
      {
       "output_type": "stream",
       "stream": "stdout",
       "text": [
        " : whispering : {'love': 0.008562572640766136, 'joy': 0, 'sadness': 0, 'anger': 0.020007840293218518, 'surprise': 0.019091854365020828, 'fear': 0.033864913997369406}\n",
        "75"
       ]
      },
      {
       "output_type": "stream",
       "stream": "stdout",
       "text": [
        " : reply : {'love': 0.008562572640766136, 'joy': 0, 'sadness': 0, 'anger': 0.020007840293218518, 'surprise': 0.02592332050702311, 'fear': 0.033864913997369406}\n",
        "75"
       ]
      },
      {
       "output_type": "stream",
       "stream": "stdout",
       "text": [
        " : blows : {'love': 0.008562572640766136, 'joy': 0, 'sadness': 0, 'anger': 0.020007840293218518, 'surprise': 0.03700832064137056, 'fear': 0.033864913997369406}\n",
        "75"
       ]
      },
      {
       "output_type": "stream",
       "stream": "stdout",
       "text": [
        " : imagined : {'love': 0.008562572640766136, 'joy': 0, 'sadness': 0, 'anger': 0.020007840293218518, 'surprise': 0.053077572284839156, 'fear': 0.033864913997369406}\n",
        "75"
       ]
      },
      {
       "output_type": "stream",
       "stream": "stdout",
       "text": [
        " : excited : {'love': 0.008562572640766136, 'joy': 0.041989625009987604, 'sadness': 0, 'anger': 0.020007840293218518, 'surprise': 0.053077572284839156, 'fear': 0.033864913997369406}\n",
        "76"
       ]
      },
      {
       "output_type": "stream",
       "stream": "stdout",
       "text": [
        " : drivin : {'love': 0.0, 'joy': 0, 'sadness': 0, 'anger': 0, 'surprise': 0, 'fear': 0}\n",
        "76"
       ]
      },
      {
       "output_type": "stream",
       "stream": "stdout",
       "text": [
        " : garden : {'love': 0.0, 'joy': 0, 'sadness': 0, 'anger': 0, 'surprise': 0.007496351691243228, 'fear': 0}\n",
        "76"
       ]
      },
      {
       "output_type": "stream",
       "stream": "stdout",
       "text": [
        " : knockin : {'love': 0.0, 'joy': 0, 'sadness': 0, 'anger': 0, 'surprise': 0.007496351691243228, 'fear': 0}\n",
        "76"
       ]
      },
      {
       "output_type": "stream",
       "stream": "stdout",
       "text": [
        " : everything : {'love': 0.0, 'joy': 0, 'sadness': 0, 'anger': 0, 'surprise': 0.007496351691243228, 'fear': 0}\n",
        "76"
       ]
      },
      {
       "output_type": "stream",
       "stream": "stdout",
       "text": [
        " : far : {'love': 0.0, 'joy': 0, 'sadness': 0, 'anger': 0, 'surprise': 0.007496351691243228, 'fear': 0.00950392261665382}\n",
        "76"
       ]
      },
      {
       "output_type": "stream",
       "stream": "stdout",
       "text": [
        " : car : {'love': 0.0, 'joy': 0, 'sadness': 0, 'anger': 0, 'surprise': 0.009252870544627248, 'fear': 0.00950392261665382}\n",
        "76"
       ]
      },
      {
       "output_type": "stream",
       "stream": "stdout",
       "text": [
        " : price : {'love': 0.0, 'joy': 0, 'sadness': 0, 'anger': 0, 'surprise': 0.009252870544627248, 'fear': 0.012821256553416541}\n",
        "76"
       ]
      },
      {
       "output_type": "stream",
       "stream": "stdout",
       "text": [
        " : million : {'love': 0.0, 'joy': 0, 'sadness': 0, 'anger': 0, 'surprise': 0.009252870544627248, 'fear': 0.012821256553416541}\n",
        "76"
       ]
      },
      {
       "output_type": "stream",
       "stream": "stdout",
       "text": [
        " : mouth : {'love': 0.0, 'joy': 0, 'sadness': 0, 'anger': 0.00395581328381514, 'surprise': 0.009252870544627248, 'fear': 0.012821256553416541}\n",
        "76"
       ]
      },
      {
       "output_type": "stream",
       "stream": "stdout",
       "text": [
        " : parts : {'love': 0.0, 'joy': 0, 'sadness': 0, 'anger': 0.00395581328381514, 'surprise': 0.009252870544627248, 'fear': 0.01776960068458462}\n",
        "76"
       ]
      },
      {
       "output_type": "stream",
       "stream": "stdout",
       "text": [
        " : late : {'love': 0.0, 'joy': 0, 'sadness': 0, 'anger': 0.00395581328381514, 'surprise': 0.014351634110970945, 'fear': 0.01776960068458462}\n",
        "76"
       ]
      },
      {
       "output_type": "stream",
       "stream": "stdout",
       "text": [
        " : tenderness : {'love': 0.0, 'joy': 0, 'sadness': 0.023312305863828296, 'anger': 0.00395581328381514, 'surprise': 0.014351634110970945, 'fear': 0.01776960068458462}\n",
        "76"
       ]
      },
      {
       "output_type": "stream",
       "stream": "stdout",
       "text": [
        " : secret : {'love': 0.0, 'joy': 0, 'sadness': 0.023312305863828296, 'anger': 0.00395581328381514, 'surprise': 0.04166325527364354, 'fear': 0.01776960068458462}\n",
        "76"
       ]
      },
      {
       "output_type": "stream",
       "stream": "stdout",
       "text": [
        " : miles : {'love': 0.0, 'joy': 0, 'sadness': 0.023312305863828296, 'anger': 0.00395581328381514, 'surprise': 0.04300159803099042, 'fear': 0.01776960068458462}\n",
        "76"
       ]
      },
      {
       "output_type": "stream",
       "stream": "stdout",
       "text": [
        " : let : {'love': 0.020685197723657837, 'joy': 0, 'sadness': 0.023312305863828296, 'anger': 0.00395581328381514, 'surprise': 0.04300159803099042, 'fear': 0.01776960068458462}\n",
        "76"
       ]
      },
      {
       "output_type": "stream",
       "stream": "stdout",
       "text": [
        " : hides : {'love': 0.020685197723657837, 'joy': 0, 'sadness': 0.023312305863828296, 'anger': 0.00395581328381514, 'surprise': 0.04744239968180106, 'fear': 0.01776960068458462}\n",
        "76"
       ]
      },
      {
       "output_type": "stream",
       "stream": "stdout",
       "text": [
        " : vise : {'love': 0.020685197723657837, 'joy': 0, 'sadness': 0.023312305863828296, 'anger': 0.00395581328381514, 'surprise': 0.05108278537899271, 'fear': 0.01776960068458462}\n",
        "76"
       ]
      },
      {
       "output_type": "stream",
       "stream": "stdout",
       "text": [
        " : path : {'love': 0.022963085149835895, 'joy': 0, 'sadness': 0.023312305863828296, 'anger': 0.00395581328381514, 'surprise': 0.05108278537899271, 'fear': 0.01776960068458462}\n",
        "76"
       ]
      },
      {
       "output_type": "stream",
       "stream": "stdout",
       "text": [
        " : hammer : {'love': 0.022963085149835895, 'joy': 0, 'sadness': 0.023312305863828296, 'anger': 0.00395581328381514, 'surprise': 0.05161002070167258, 'fear': 0.01776960068458462}\n",
        "76"
       ]
      },
      {
       "output_type": "stream",
       "stream": "stdout",
       "text": [
        " : twice : {'love': 0.022963085149835895, 'joy': 0, 'sadness': 0.023312305863828296, 'anger': 0.00395581328381514, 'surprise': 0.054447295614444606, 'fear': 0.01776960068458462}\n",
        "77"
       ]
      },
      {
       "output_type": "stream",
       "stream": "stdout",
       "text": [
        " : heart : {'love': 0.02516515761020485, 'joy': 0, 'sadness': 0, 'anger': 0, 'surprise': 0, 'fear': 0}\n",
        "77"
       ]
      },
      {
       "output_type": "stream",
       "stream": "stdout",
       "text": [
        " : throw : {'love': 0.02957210445039212, 'joy': 0, 'sadness': 0, 'anger': 0, 'surprise': 0, 'fear': 0}\n",
        "77"
       ]
      },
      {
       "output_type": "stream",
       "stream": "stdout",
       "text": [
        " : made : {'love': 0.02957210445039212, 'joy': 0, 'sadness': 0, 'anger': 0, 'surprise': 0.0009390812521745994, 'fear': 0}\n",
        "77"
       ]
      },
      {
       "output_type": "stream",
       "stream": "stdout",
       "text": [
        " : somebody : {'love': 0.046852599163748336, 'joy': 0, 'sadness': 0, 'anger': 0, 'surprise': 0.0009390812521745994, 'fear': 0}\n",
        "77"
       ]
      },
      {
       "output_type": "stream",
       "stream": "stdout",
       "text": [
        " : bad : {'love': 0.046852599163748336, 'joy': 0, 'sadness': 0, 'anger': 0, 'surprise': 0.0009390812521745994, 'fear': 0.005514675821329132}\n",
        "77"
       ]
      },
      {
       "output_type": "stream",
       "stream": "stdout",
       "text": [
        " : anymore : {'love': 0.05384807815344931, 'joy': 0, 'sadness': 0, 'anger': 0, 'surprise': 0.0009390812521745994, 'fear': 0.005514675821329132}\n",
        "77"
       ]
      },
      {
       "output_type": "stream",
       "stream": "stdout",
       "text": [
        " : happy : {'love': 0.05384807815344931, 'joy': 0.014528019399369525, 'sadness': 0, 'anger': 0, 'surprise': 0.0009390812521745994, 'fear': 0.005514675821329132}\n",
        "77"
       ]
      },
      {
       "output_type": "stream",
       "stream": "stdout",
       "text": [
        " : could : {'love': 0.05384807815344931, 'joy': 0.014528019399369525, 'sadness': 0, 'anger': 0, 'surprise': 0.0009390812521745994, 'fear': 0.005514675821329132}\n",
        "77"
       ]
      },
      {
       "output_type": "stream",
       "stream": "stdout",
       "text": [
        " : love : {'love': 0.09395568334908869, 'joy': 0.014528019399369525, 'sadness': 0, 'anger': 0, 'surprise': 0.0009390812521745994, 'fear': 0.005514675821329132}\n",
        "77"
       ]
      },
      {
       "output_type": "stream",
       "stream": "stdout",
       "text": [
        " : hey : {'love': 0.09395568334908869, 'joy': 0.014528019399369525, 'sadness': 0, 'anger': 0, 'surprise': 0.0009390812521745994, 'fear': 0.005514675821329132}\n",
        "77"
       ]
      },
      {
       "output_type": "stream",
       "stream": "stdout",
       "text": [
        " : one : {'love': 0.09395568334908869, 'joy': 0.014528019399369525, 'sadness': 0, 'anger': 0, 'surprise': 0.0009390812521745994, 'fear': 0.005514675821329132}\n",
        "77"
       ]
      },
      {
       "output_type": "stream",
       "stream": "stdout",
       "text": [
        " : break : {'love': 0.09395568334908869, 'joy': 0.014528019399369525, 'sadness': 0, 'anger': 0, 'surprise': 0.005558389599264721, 'fear': 0.005514675821329132}\n",
        "77"
       ]
      },
      {
       "output_type": "stream",
       "stream": "stdout",
       "text": [
        " : lies : {'love': 0.09395568334908869, 'joy': 0.014528019399369525, 'sadness': 0, 'anger': 0, 'surprise': 0.005558389599264721, 'fear': 0.007648922783736305}\n",
        "77"
       ]
      },
      {
       "output_type": "stream",
       "stream": "stdout",
       "text": [
        " : hurt : {'love': 0.09395568334908869, 'joy': 0.014528019399369525, 'sadness': 0, 'anger': 0, 'surprise': 0.005558389599264721, 'fear': 0.01661406113439152}\n",
        "77"
       ]
      },
      {
       "output_type": "stream",
       "stream": "stdout",
       "text": [
        " : understand : {'love': 0.10347531122787, 'joy': 0.014528019399369525, 'sadness': 0, 'anger': 0, 'surprise': 0.005558389599264721, 'fear': 0.01661406113439152}\n",
        "77"
       ]
      },
      {
       "output_type": "stream",
       "stream": "stdout",
       "text": [
        " : world : {'love': 0.10996115059479966, 'joy': 0.014528019399369525, 'sadness': 0, 'anger': 0, 'surprise': 0.005558389599264721, 'fear': 0.01661406113439152}\n",
        "77"
       ]
      },
      {
       "output_type": "stream",
       "stream": "stdout",
       "text": [
        " : sad : {'love': 0.10996115059479966, 'joy': 0.014528019399369525, 'sadness': 0.046105030153278284, 'anger': 0, 'surprise': 0.005558389599264721, 'fear': 0.01661406113439152}\n",
        "77"
       ]
      },
      {
       "output_type": "stream",
       "stream": "stdout",
       "text": [
        " : tell : {'love': 0.10996115059479966, 'joy': 0.014528019399369525, 'sadness': 0.046105030153278284, 'anger': 0, 'surprise': 0.015794861400488414, 'fear': 0.01661406113439152}\n",
        "77"
       ]
      },
      {
       "output_type": "stream",
       "stream": "stdout",
       "text": [
        " : dreams : {'love': 0.11338146914939298, 'joy': 0.014528019399369525, 'sadness': 0.046105030153278284, 'anger': 0, 'surprise': 0.015794861400488414, 'fear': 0.01661406113439152}\n",
        "77"
       ]
      },
      {
       "output_type": "stream",
       "stream": "stdout",
       "text": [
        " : gave : {'love': 0.12369057962667972, 'joy': 0.014528019399369525, 'sadness': 0.046105030153278284, 'anger': 0, 'surprise': 0.015794861400488414, 'fear': 0.01661406113439152}\n",
        "78"
       ]
      },
      {
       "output_type": "stream",
       "stream": "stdout",
       "text": [
        " : fly : {'love': 0.005643379260019635, 'joy': 0, 'sadness': 0, 'anger': 0, 'surprise': 0, 'fear': 0}\n",
        "78"
       ]
      },
      {
       "output_type": "stream",
       "stream": "stdout",
       "text": [
        " : eagle : {'love': 0.005643379260019635, 'joy': 0, 'sadness': 0.007019271711832786, 'anger': 0, 'surprise': 0, 'fear': 0}\n",
        "78"
       ]
      },
      {
       "output_type": "stream",
       "stream": "stdout",
       "text": [
        " : right : {'love': 0.005643379260019635, 'joy': 0, 'sadness': 0.007019271711832786, 'anger': 0, 'surprise': 0, 'fear': 0.0015878644549198089}\n",
        "78"
       ]
      },
      {
       "output_type": "stream",
       "stream": "stdout",
       "text": [
        " : street : {'love': 0.005643379260019635, 'joy': 0.0026287941213278235, 'sadness': 0.007019271711832786, 'anger': 0, 'surprise': 0, 'fear': 0.0015878644549198089}\n",
        "78"
       ]
      },
      {
       "output_type": "stream",
       "stream": "stdout",
       "text": [
        " : want : {'love': 0.027224350434005132, 'joy': 0.0026287941213278235, 'sadness': 0.007019271711832786, 'anger': 0, 'surprise': 0, 'fear': 0.0015878644549198089}\n",
        "78"
       ]
      },
      {
       "output_type": "stream",
       "stream": "stdout",
       "text": [
        " : eat : {'love': 0.03167182267795509, 'joy': 0.0026287941213278235, 'sadness': 0.007019271711832786, 'anger': 0, 'surprise': 0, 'fear': 0.0015878644549198089}\n",
        "78"
       ]
      },
      {
       "output_type": "stream",
       "stream": "stdout",
       "text": [
        " : time : {'love': 0.03167182267795509, 'joy': 0.0026287941213278235, 'sadness': 0.007019271711832786, 'anger': 0, 'surprise': 0.0043324981177636735, 'fear': 0.0015878644549198089}\n",
        "78"
       ]
      },
      {
       "output_type": "stream",
       "stream": "stdout",
       "text": [
        " : shoes : {'love': 0.03167182267795509, 'joy': 0.0026287941213278235, 'sadness': 0.007019271711832786, 'anger': 0, 'surprise': 0.0043324981177636735, 'fear': 0.0036582499113754865}\n",
        "78"
       ]
      },
      {
       "output_type": "stream",
       "stream": "stdout",
       "text": [
        " : solution : {'love': 0.03167182267795509, 'joy': 0.0026287941213278235, 'sadness': 0.007019271711832786, 'anger': 0, 'surprise': 0.0043324981177636735, 'fear': 0.004090920661724612}\n",
        "78"
       ]
      },
      {
       "output_type": "stream",
       "stream": "stdout",
       "text": [
        " : children : {'love': 0.03629818180605788, 'joy': 0.0026287941213278235, 'sadness': 0.007019271711832786, 'anger': 0, 'surprise': 0.0043324981177636735, 'fear': 0.004090920661724612}\n",
        "78"
       ]
      },
      {
       "output_type": "stream",
       "stream": "stdout",
       "text": [
        " : carry : {'love': 0.03629818180605788, 'joy': 0.0026287941213278235, 'sadness': 0.018545831777201087, 'anger': 0, 'surprise': 0.0043324981177636735, 'fear': 0.004090920661724612}\n",
        "78"
       ]
      },
      {
       "output_type": "stream",
       "stream": "stdout",
       "text": [
        " : future : {'love': 0.03629818180605788, 'joy': 0.0026287941213278235, 'sadness': 0.018545831777201087, 'anger': 0, 'surprise': 0.0043324981177636735, 'fear': 0.03218751594305962}\n",
        "78"
       ]
      },
      {
       "output_type": "stream",
       "stream": "stdout",
       "text": [
        " : shoe : {'love': 0.03629818180605788, 'joy': 0.0026287941213278235, 'sadness': 0.018545831777201087, 'anger': 0, 'surprise': 0.0043324981177636735, 'fear': 0.0342579013995153}\n",
        "78"
       ]
      },
      {
       "output_type": "stream",
       "stream": "stdout",
       "text": [
        " : sea : {'love': 0.03629818180605788, 'joy': 0.0026287941213278235, 'sadness': 0.018545831777201087, 'anger': 0.004020069857238361, 'surprise': 0.0043324981177636735, 'fear': 0.0342579013995153}\n",
        "78"
       ]
      },
      {
       "output_type": "stream",
       "stream": "stdout",
       "text": [
        " : keeps : {'love': 0.04861892416166151, 'joy': 0.0026287941213278235, 'sadness': 0.018545831777201087, 'anger': 0.004020069857238361, 'surprise': 0.0043324981177636735, 'fear': 0.0342579013995153}\n",
        "Error in getting similarity for"
       ]
      },
      {
       "output_type": "stream",
       "stream": "stdout",
       "text": [
        " slippin and joy\n",
        "78"
       ]
      },
      {
       "output_type": "stream",
       "stream": "stdout",
       "text": [
        " : slippin : {'love': 0.04861892416166151, 'joy': 0.0026287941213278235, 'sadness': 0.018545831777201087, 'anger': 0.004020069857238361, 'surprise': 0.0043324981177636735, 'fear': 0.0342579013995153}\n",
        "78"
       ]
      },
      {
       "output_type": "stream",
       "stream": "stdout",
       "text": [
        " : wanna : {'love': 0.04861892416166151, 'joy': 0.0026287941213278235, 'sadness': 0.018545831777201087, 'anger': 0.004020069857238361, 'surprise': 0.0043324981177636735, 'fear': 0.0342579013995153}\n",
        "78"
       ]
      },
      {
       "output_type": "stream",
       "stream": "stdout",
       "text": [
        " : spirit : {'love': 0.0933038582842903, 'joy': 0.0026287941213278235, 'sadness': 0.018545831777201087, 'anger': 0.004020069857238361, 'surprise': 0.0043324981177636735, 'fear': 0.0342579013995153}\n",
        "78"
       ]
      },
      {
       "output_type": "stream",
       "stream": "stdout",
       "text": [
        " : feed : {'love': 0.0933038582842903, 'joy': 0.0026287941213278235, 'sadness': 0.018545831777201087, 'anger': 0.005715047705632246, 'surprise': 0.0043324981177636735, 'fear': 0.0342579013995153}\n",
        "78"
       ]
      },
      {
       "output_type": "stream",
       "stream": "stdout",
       "text": [
        " : like : {'love': 0.0933038582842903, 'joy': 0.0026287941213278235, 'sadness': 0.018545831777201087, 'anger': 0.005715047705632246, 'surprise': 0.0043324981177636735, 'fear': 0.0342579013995153}\n",
        "79"
       ]
      },
      {
       "output_type": "stream",
       "stream": "stdout",
       "text": [
        " : cristal : {'love': 0.0, 'joy': 0, 'sadness': 0, 'anger': 0, 'surprise': 0, 'fear': 0}\n",
        "79"
       ]
      },
      {
       "output_type": "stream",
       "stream": "stdout",
       "text": [
        " : pun : {'love': 0.0, 'joy': 0, 'sadness': 0, 'anger': 0, 'surprise': 0.0056112123754117746, 'fear': 0}\n",
        "79"
       ]
      },
      {
       "output_type": "stream",
       "stream": "stdout",
       "text": [
        " : east : {'love': 0.0, 'joy': 0, 'sadness': 0, 'anger': 0, 'surprise': 0.0056112123754117746, 'fear': 0.0029473543251554656}\n",
        "79"
       ]
      },
      {
       "output_type": "stream",
       "stream": "stdout",
       "text": [
        " : nigga : {'love': 0.0, 'joy': 0, 'sadness': 0, 'anger': 0, 'surprise': 0.0056112123754117746, 'fear': 0.0029473543251554656}\n",
        "79"
       ]
      },
      {
       "output_type": "stream",
       "stream": "stdout",
       "text": [
        " : licky : {'love': 0.0, 'joy': 0, 'sadness': 0, 'anger': 0, 'surprise': 0.0056112123754117746, 'fear': 0.0029473543251554656}\n",
        "79"
       ]
      },
      {
       "output_type": "stream",
       "stream": "stdout",
       "text": [
        " : sticky : {'love': 0.0, 'joy': 0, 'sadness': 0, 'anger': 0, 'surprise': 0.008190712115983939, 'fear': 0.0029473543251554656}\n",
        "79"
       ]
      },
      {
       "output_type": "stream",
       "stream": "stdout",
       "text": [
        " : niggas : {'love': 0.0, 'joy': 0, 'sadness': 0, 'anger': 0, 'surprise': 0.008190712115983939, 'fear': 0.0029473543251554656}\n",
        "79"
       ]
      },
      {
       "output_type": "stream",
       "stream": "stdout",
       "text": [
        " : west : {'love': 0.0019112718048214905, 'joy': 0, 'sadness': 0, 'anger': 0, 'surprise': 0.008190712115983939, 'fear': 0.0029473543251554656}\n",
        "79"
       ]
      },
      {
       "output_type": "stream",
       "stream": "stdout",
       "text": [
        " : sip : {'love': 0.0019112718048214905, 'joy': 0, 'sadness': 0.0015862622040849984, 'anger': 0, 'surprise': 0.008190712115983939, 'fear': 0.0029473543251554656}\n",
        "79"
       ]
      },
      {
       "output_type": "stream",
       "stream": "stdout",
       "text": [
        " : coast : {'love': 0.0019112718048214905, 'joy': 0, 'sadness': 0.0015862622040849984, 'anger': 0, 'surprise': 0.011677997289043958, 'fear': 0.0029473543251554656}\n",
        "79"
       ]
      },
      {
       "output_type": "stream",
       "stream": "stdout",
       "text": [
        " : nadie : {'love': 0.0019112718048214905, 'joy': 0, 'sadness': 0.0015862622040849984, 'anger': 0, 'surprise': 0.011677997289043958, 'fear': 0.0029473543251554656}\n",
        "79"
       ]
      },
      {
       "output_type": "stream",
       "stream": "stdout",
       "text": [
        " : spread : {'love': 0.0019112718048214905, 'joy': 0, 'sadness': 0.0015862622040849984, 'anger': 0, 'surprise': 0.011677997289043958, 'fear': 0.006086982718159627}\n",
        "79"
       ]
      },
      {
       "output_type": "stream",
       "stream": "stdout",
       "text": [
        " : figures : {'love': 0.0019112718048214905, 'joy': 0, 'sadness': 0.0015862622040849984, 'anger': 0, 'surprise': 0.011677997289043958, 'fear': 0.012974867785368237}\n",
        "79"
       ]
      },
      {
       "output_type": "stream",
       "stream": "stdout",
       "text": [
        " : bank : {'love': 0.0019112718048214905, 'joy': 0, 'sadness': 0.005738984130883145, 'anger': 0, 'surprise': 0.011677997289043958, 'fear': 0.012974867785368237}\n",
        "79"
       ]
      },
      {
       "output_type": "stream",
       "stream": "stdout",
       "text": [
        " : fake : {'love': 0.0019112718048214905, 'joy': 0, 'sadness': 0.005738984130883145, 'anger': 0, 'surprise': 0.016425825659550714, 'fear': 0.012974867785368237}\n",
        "79"
       ]
      },
      {
       "output_type": "stream",
       "stream": "stdout",
       "text": [
        " : mama : {'love': 0.003972650144633491, 'joy': 0, 'sadness': 0.005738984130883145, 'anger': 0, 'surprise': 0.016425825659550714, 'fear': 0.012974867785368237}\n",
        "79"
       ]
      },
      {
       "output_type": "stream",
       "stream": "stdout",
       "text": [
        " : chick : {'love': 0.0053238018768061324, 'joy': 0, 'sadness': 0.005738984130883145, 'anger': 0, 'surprise': 0.016425825659550714, 'fear': 0.012974867785368237}\n",
        "79"
       ]
      },
      {
       "output_type": "stream",
       "stream": "stdout",
       "text": [
        " : countin : {'love': 0.0053238018768061324, 'joy': 0, 'sadness': 0.005738984130883145, 'anger': 0, 'surprise': 0.016425825659550714, 'fear': 0.012974867785368237}\n",
        "79"
       ]
      },
      {
       "output_type": "stream",
       "stream": "stdout",
       "text": [
        " : talkin : {'love': 0.0053238018768061324, 'joy': 0, 'sadness': 0.005738984130883145, 'anger': 0, 'surprise': 0.016425825659550714, 'fear': 0.012974867785368237}\n",
        "79"
       ]
      },
      {
       "output_type": "stream",
       "stream": "stdout",
       "text": [
        " : shit : {'love': 0.008886686289256939, 'joy': 0, 'sadness': 0.005738984130883145, 'anger': 0, 'surprise': 0.016425825659550714, 'fear': 0.012974867785368237}\n",
        "80"
       ]
      },
      {
       "output_type": "stream",
       "stream": "stdout",
       "text": [
        " : wearing : {'love': 0, 'joy': 0, 'sadness': 0.0015362297762796244, 'anger': 0, 'surprise': 0, 'fear': 0}\n",
        "80"
       ]
      },
      {
       "output_type": "stream",
       "stream": "stdout",
       "text": [
        " : regain : {'love': 0, 'joy': 0, 'sadness': 0.0015362297762796244, 'anger': 0, 'surprise': 0.000864909804769829, 'fear': 0}\n",
        "80"
       ]
      },
      {
       "output_type": "stream",
       "stream": "stdout",
       "text": [
        " : said : {'love': 0, 'joy': 0, 'sadness': 0.0015362297762796244, 'anger': 0, 'surprise': 0.000864909804769829, 'fear': 0.006498770245307011}\n",
        "80"
       ]
      },
      {
       "output_type": "stream",
       "stream": "stdout",
       "text": [
        " : eye : {'love': 0, 'joy': 0, 'sadness': 0.0015362297762796244, 'anger': 0, 'surprise': 0.02007278855734059, 'fear': 0.006498770245307011}\n",
        "80"
       ]
      },
      {
       "output_type": "stream",
       "stream": "stdout",
       "text": [
        " : tried : {'love': 0.0022995966541834337, 'joy': 0, 'sadness': 0.0015362297762796244, 'anger': 0, 'surprise': 0.02007278855734059, 'fear': 0.006498770245307011}\n",
        "80"
       ]
      },
      {
       "output_type": "stream",
       "stream": "stdout",
       "text": [
        " : things : {'love': 0.0075658099176933585, 'joy': 0, 'sadness': 0.0015362297762796244, 'anger': 0, 'surprise': 0.02007278855734059, 'fear': 0.006498770245307011}\n",
        "80"
       ]
      },
      {
       "output_type": "stream",
       "stream": "stdout",
       "text": [
        " : could : {'love': 0.0075658099176933585, 'joy': 0, 'sadness': 0.0015362297762796244, 'anger': 0, 'surprise': 0.02007278855734059, 'fear': 0.006498770245307011}\n",
        "80"
       ]
      },
      {
       "output_type": "stream",
       "stream": "stdout",
       "text": [
        " : knew : {'love': 0.025088337033191, 'joy': 0, 'sadness': 0.0015362297762796244, 'anger': 0, 'surprise': 0.02007278855734059, 'fear': 0.006498770245307011}\n",
        "80"
       ]
      },
      {
       "output_type": "stream",
       "stream": "stdout",
       "text": [
        " : state : {'love': 0.025088337033191, 'joy': 0, 'sadness': 0.004474197265968595, 'anger': 0, 'surprise': 0.02007278855734059, 'fear': 0.006498770245307011}\n",
        "80"
       ]
      },
      {
       "output_type": "stream",
       "stream": "stdout",
       "text": [
        " : rain : {'love': 0.025088337033191, 'joy': 0, 'sadness': 0.004474197265968595, 'anger': 0, 'surprise': 0.024239976785155187, 'fear': 0.006498770245307011}\n",
        "80"
       ]
      },
      {
       "output_type": "stream",
       "stream": "stdout",
       "text": [
        " : naked : {'love': 0.025088337033191, 'joy': 0, 'sadness': 0.004474197265968595, 'anger': 0, 'surprise': 0.024239976785155187, 'fear': 0.03759783947487861}\n",
        "80"
       ]
      },
      {
       "output_type": "stream",
       "stream": "stdout",
       "text": [
        " : nothing : {'love': 0.025088337033191, 'joy': 0, 'sadness': 0.004474197265968595, 'anger': 0, 'surprise': 0.024239976785155187, 'fear': 0.042089737251486015}\n",
        "80"
       ]
      },
      {
       "output_type": "stream",
       "stream": "stdout",
       "text": [
        " : feels : {'love': 0.025088337033191, 'joy': 0, 'sadness': 0.004474197265968595, 'anger': 0, 'surprise': 0.024239976785155187, 'fear': 0.13472374683866956}\n",
        "80"
       ]
      },
      {
       "output_type": "stream",
       "stream": "stdout",
       "text": [
        " : coming : {'love': 0.025088337033191, 'joy': 0, 'sadness': 0.004474197265968595, 'anger': 0, 'surprise': 0.024239976785155187, 'fear': 0.14636649293924026}\n",
        "80"
       ]
      },
      {
       "output_type": "stream",
       "stream": "stdout",
       "text": [
        " : alright : {'love': 0.025088337033191, 'joy': 0, 'sadness': 0.004474197265968595, 'anger': 0, 'surprise': 0.024239976785155187, 'fear': 0.14636649293924026}\n",
        "80"
       ]
      },
      {
       "output_type": "stream",
       "stream": "stdout",
       "text": [
        " : end : {'love': 0.027144229322720193, 'joy': 0, 'sadness': 0.004474197265968595, 'anger': 0, 'surprise': 0.024239976785155187, 'fear': 0.14636649293924026}\n",
        "80"
       ]
      },
      {
       "output_type": "stream",
       "stream": "stdout",
       "text": [
        " : falling : {'love': 0.027144229322720193, 'joy': 0, 'sadness': 0.004474197265968595, 'anger': 0, 'surprise': 0.024239976785155187, 'fear': 0.15113807438198246}\n",
        "80"
       ]
      },
      {
       "output_type": "stream",
       "stream": "stdout",
       "text": [
        " : saw : {'love': 0.027144229322720193, 'joy': 0, 'sadness': 0.004474197265968595, 'anger': 0, 'surprise': 0.06168862260429851, 'fear': 0.15113807438198246}\n",
        "80"
       ]
      },
      {
       "output_type": "stream",
       "stream": "stdout",
       "text": [
        " : clear : {'love': 0.027144229322720193, 'joy': 0, 'sadness': 0.004474197265968595, 'anger': 0, 'surprise': 0.06314916179288804, 'fear': 0.15113807438198246}\n",
        "80"
       ]
      },
      {
       "output_type": "stream",
       "stream": "stdout",
       "text": [
        " : came : {'love': 0.027144229322720193, 'joy': 0, 'sadness': 0.004474197265968595, 'anger': 0, 'surprise': 0.06314916179288804, 'fear': 0.15458309623286945}\n",
        "82"
       ]
      },
      {
       "output_type": "stream",
       "stream": "stdout",
       "text": [
        " : stone : {'love': 0, 'joy': 0, 'sadness': 0, 'anger': 0.006449381276945552, 'surprise': 0, 'fear': 0}\n",
        "82"
       ]
      },
      {
       "output_type": "stream",
       "stream": "stdout",
       "text": [
        " : made : {'love': 0, 'joy': 0, 'sadness': 0, 'anger': 0.006449381276945552, 'surprise': 0.0007200497310668366, 'fear': 0}\n",
        "82"
       ]
      },
      {
       "output_type": "stream",
       "stream": "stdout",
       "text": [
        " : ohh : {'love': 0.0, 'joy': 0, 'sadness': 0, 'anger': 0.006449381276945552, 'surprise': 0.0007200497310668366, 'fear': 0}\n",
        "82"
       ]
      },
      {
       "output_type": "stream",
       "stream": "stdout",
       "text": [
        " : intellects : {'love': 0.004784174694749913, 'joy': 0, 'sadness': 0, 'anger': 0.006449381276945552, 'surprise': 0.0007200497310668366, 'fear': 0}\n",
        "82"
       ]
      },
      {
       "output_type": "stream",
       "stream": "stdout",
       "text": [
        " : knows : {'love': 0.015756326983934272, 'joy': 0, 'sadness': 0, 'anger': 0.006449381276945552, 'surprise': 0.0007200497310668366, 'fear': 0}\n",
        "82"
       ]
      },
      {
       "output_type": "stream",
       "stream": "stdout",
       "text": [
        " : god : {'love': 0.031648006300055445, 'joy': 0, 'sadness': 0, 'anger': 0.006449381276945552, 'surprise': 0.0007200497310668366, 'fear': 0}\n",
        "82"
       ]
      },
      {
       "output_type": "stream",
       "stream": "stdout",
       "text": [
        " : image : {'love': 0.031648006300055445, 'joy': 0, 'sadness': 0, 'anger': 0.006449381276945552, 'surprise': 0.0007200497310668366, 'fear': 0.004323731081531313}\n",
        "82"
       ]
      },
      {
       "output_type": "stream",
       "stream": "stdout",
       "text": [
        " : three : {'love': 0.031648006300055445, 'joy': 0, 'sadness': 0, 'anger': 0.006449381276945552, 'surprise': 0.0007200497310668366, 'fear': 0.004323731081531313}\n",
        "82"
       ]
      },
      {
       "output_type": "stream",
       "stream": "stdout",
       "text": [
        " : rollin : {'love': 0.031648006300055445, 'joy': 0, 'sadness': 0, 'anger': 0.006449381276945552, 'surprise': 0.0007200497310668366, 'fear': 0.004323731081531313}\n",
        "82"
       ]
      },
      {
       "output_type": "stream",
       "stream": "stdout",
       "text": [
        " : like : {'love': 0.031648006300055445, 'joy': 0, 'sadness': 0, 'anger': 0.006449381276945552, 'surprise': 0.0007200497310668366, 'fear': 0.004323731081531313}\n",
        "82"
       ]
      },
      {
       "output_type": "stream",
       "stream": "stdout",
       "text": [
        " : born : {'love': 0.03560240532059828, 'joy': 0, 'sadness': 0, 'anger': 0.006449381276945552, 'surprise': 0.0007200497310668366, 'fear': 0.004323731081531313}\n",
        "82"
       ]
      },
      {
       "output_type": "stream",
       "stream": "stdout",
       "text": [
        " : turnin : {'love': 0.03560240532059828, 'joy': 0, 'sadness': 0, 'anger': 0.006449381276945552, 'surprise': 0.0007200497310668366, 'fear': 0.004323731081531313}\n",
        "82"
       ]
      },
      {
       "output_type": "stream",
       "stream": "stdout",
       "text": [
        " : cipher : {'love': 0.04224437024366723, 'joy': 0, 'sadness': 0, 'anger': 0.006449381276945552, 'surprise': 0.0007200497310668366, 'fear': 0.004323731081531313}\n",
        "82"
       ]
      },
      {
       "output_type": "stream",
       "stream": "stdout",
       "text": [
        " : moving : {'love': 0.04224437024366723, 'joy': 0, 'sadness': 0, 'anger': 0.006449381276945552, 'surprise': 0.01132586678184655, 'fear': 0.004323731081531313}\n",
        "82"
       ]
      },
      {
       "output_type": "stream",
       "stream": "stdout",
       "text": [
        " : whew : {'love': 0.04224437024366723, 'joy': 0, 'sadness': 0, 'anger': 0.006449381276945552, 'surprise': 0.01132586678184655, 'fear': 0.004323731081531313}\n",
        "82"
       ]
      },
      {
       "output_type": "stream",
       "stream": "stdout",
       "text": [
        " : keeps : {'love': 0.0505040857893233, 'joy': 0, 'sadness': 0, 'anger': 0.006449381276945552, 'surprise': 0.01132586678184655, 'fear': 0.004323731081531313}\n",
        "82"
       ]
      },
      {
       "output_type": "stream",
       "stream": "stdout",
       "text": [
        " : call : {'love': 0.05640824653021183, 'joy': 0, 'sadness': 0, 'anger': 0.006449381276945552, 'surprise': 0.01132586678184655, 'fear': 0.004323731081531313}\n",
        "82"
       ]
      },
      {
       "output_type": "stream",
       "stream": "stdout",
       "text": [
        " : fear : {'love': 0.05640824653021183, 'joy': 0, 'sadness': 0, 'anger': 0.006449381276945552, 'surprise': 0.01132586678184655, 'fear': 0.06988836245742203}\n",
        "82"
       ]
      },
      {
       "output_type": "stream",
       "stream": "stdout",
       "text": [
        " : day : {'love': 0.05640824653021183, 'joy': 0.005241779836592659, 'sadness': 0, 'anger': 0.006449381276945552, 'surprise': 0.01132586678184655, 'fear': 0.06988836245742203}\n",
        "82"
       ]
      },
      {
       "output_type": "stream",
       "stream": "stdout",
       "text": [
        " : names : {'love': 0.05890957098298722, 'joy': 0.005241779836592659, 'sadness': 0, 'anger': 0.006449381276945552, 'surprise': 0.01132586678184655, 'fear': 0.06988836245742203}\n",
        "83"
       ]
      },
      {
       "output_type": "stream",
       "stream": "stdout",
       "text": [
        " : entourage : {'love': 0, 'joy': 0, 'sadness': 0, 'anger': 0, 'surprise': 0.0012062507297317866, 'fear': 0}\n",
        "83"
       ]
      },
      {
       "output_type": "stream",
       "stream": "stdout",
       "text": [
        " : life : {'love': 0.014782682980232564, 'joy': 0, 'sadness': 0, 'anger': 0, 'surprise': 0.0012062507297317866, 'fear': 0}\n",
        "83"
       ]
      },
      {
       "output_type": "stream",
       "stream": "stdout",
       "text": [
        " : someone : {'love': 0.04388536196778124, 'joy': 0, 'sadness': 0, 'anger': 0, 'surprise': 0.0012062507297317866, 'fear': 0}\n",
        "83"
       ]
      },
      {
       "output_type": "stream",
       "stream": "stdout",
       "text": [
        " : bars : {'love': 0.04388536196778124, 'joy': 0, 'sadness': 0, 'anger': 0, 'surprise': 0.0012062507297317866, 'fear': 0.0016400244560031982}\n",
        "83"
       ]
      },
      {
       "output_type": "stream",
       "stream": "stdout",
       "text": [
        " : giving : {'love': 0.04974084237495372, 'joy': 0, 'sadness': 0, 'anger': 0, 'surprise': 0.0012062507297317866, 'fear': 0.0016400244560031982}\n",
        "83"
       ]
      },
      {
       "output_type": "stream",
       "stream": "stdout",
       "text": [
        " : movie : {'love': 0.05356447200690914, 'joy': 0, 'sadness': 0, 'anger': 0, 'surprise': 0.0012062507297317866, 'fear': 0.0016400244560031982}\n",
        "83"
       ]
      },
      {
       "output_type": "stream",
       "stream": "stdout",
       "text": [
        " : delhi : {'love': 0.05356447200690914, 'joy': 0, 'sadness': 0, 'anger': 0, 'surprise': 0.0012062507297317866, 'fear': 0.0016400244560031982}\n",
        "83"
       ]
      },
      {
       "output_type": "stream",
       "stream": "stdout",
       "text": [
        " : girls : {'love': 0.06374370819271782, 'joy': 0, 'sadness': 0, 'anger': 0, 'surprise': 0.0012062507297317866, 'fear': 0.0016400244560031982}\n",
        "83"
       ]
      },
      {
       "output_type": "stream",
       "stream": "stdout",
       "text": [
        " : style : {'love': 0.07140492522872466, 'joy': 0, 'sadness': 0, 'anger': 0, 'surprise': 0.0012062507297317866, 'fear': 0.0016400244560031982}\n",
        "83"
       ]
      },
      {
       "output_type": "stream",
       "stream": "stdout",
       "text": [
        " : switching : {'love': 0.07415915564442457, 'joy': 0, 'sadness': 0, 'anger': 0, 'surprise': 0.0012062507297317866, 'fear': 0.0016400244560031982}\n",
        "83"
       ]
      },
      {
       "output_type": "stream",
       "stream": "stdout",
       "text": [
        " : celeb : {'love': 0.07415915564442457, 'joy': 0, 'sadness': 0, 'anger': 0, 'surprise': 0.0012062507297317866, 'fear': 0.0016400244560031982}\n",
        "83"
       ]
      },
      {
       "output_type": "stream",
       "stream": "stdout",
       "text": [
        " : player : {'love': 0.0874461193335613, 'joy': 0, 'sadness': 0, 'anger': 0, 'surprise': 0.0012062507297317866, 'fear': 0.0016400244560031982}\n",
        "83"
       ]
      },
      {
       "output_type": "stream",
       "stream": "stdout",
       "text": [
        " : live : {'love': 0.09713720524806496, 'joy': 0, 'sadness': 0, 'anger': 0, 'surprise': 0.0012062507297317866, 'fear': 0.0016400244560031982}\n",
        "83"
       ]
      },
      {
       "output_type": "stream",
       "stream": "stdout",
       "text": [
        " : repeat : {'love': 0.09713720524806496, 'joy': 0, 'sadness': 0, 'anger': 0, 'surprise': 0.005042784076025384, 'fear': 0.0016400244560031982}\n",
        "83"
       ]
      },
      {
       "output_type": "stream",
       "stream": "stdout",
       "text": [
        " : laughing : {'love': 0.09713720524806496, 'joy': 0.01112949077176667, 'sadness': 0, 'anger': 0, 'surprise': 0.005042784076025384, 'fear': 0.0016400244560031982}\n",
        "83"
       ]
      },
      {
       "output_type": "stream",
       "stream": "stdout",
       "text": [
        " : found : {'love': 0.09713720524806496, 'joy': 0.01112949077176667, 'sadness': 0, 'anger': 0, 'surprise': 0.019851959912618913, 'fear': 0.0016400244560031982}\n",
        "83"
       ]
      },
      {
       "output_type": "stream",
       "stream": "stdout",
       "text": [
        " : spinning : {'love': 0.09713720524806496, 'joy': 0.01112949077176667, 'sadness': 0, 'anger': 0, 'surprise': 0.019851959912618913, 'fear': 0.0016400244560031982}\n",
        "83"
       ]
      },
      {
       "output_type": "stream",
       "stream": "stdout",
       "text": [
        " : wanna : {'love': 0.09713720524806496, 'joy': 0.01112949077176667, 'sadness': 0, 'anger': 0, 'surprise': 0.019851959912618913, 'fear': 0.0016400244560031982}\n",
        "83"
       ]
      },
      {
       "output_type": "stream",
       "stream": "stdout",
       "text": [
        " : sippin : {'love': 0.09713720524806496, 'joy': 0.01112949077176667, 'sadness': 0, 'anger': 0, 'surprise': 0.019851959912618913, 'fear': 0.0016400244560031982}\n",
        "83"
       ]
      },
      {
       "output_type": "stream",
       "stream": "stdout",
       "text": [
        " : gain : {'love': 0.09713720524806496, 'joy': 0.015560307980985524, 'sadness': 0, 'anger': 0, 'surprise': 0.019851959912618913, 'fear': 0.0016400244560031982}\n",
        "84"
       ]
      },
      {
       "output_type": "stream",
       "stream": "stdout",
       "text": [
        " : shoot : {'love': 0, 'joy': 0, 'sadness': 0, 'anger': 0.0014336397735578766, 'surprise': 0, 'fear': 0}\n",
        "84"
       ]
      },
      {
       "output_type": "stream",
       "stream": "stdout",
       "text": [
        " : hommie : {'love': 0.0, 'joy': 0, 'sadness': 0, 'anger': 0.0014336397735578766, 'surprise': 0, 'fear': 0}\n",
        "84"
       ]
      },
      {
       "output_type": "stream",
       "stream": "stdout",
       "text": [
        " : war : {'love': 0.0, 'joy': 0, 'sadness': 0, 'anger': 0.0014336397735578766, 'surprise': 0, 'fear': 0.006180423366045257}\n",
        "84"
       ]
      },
      {
       "output_type": "stream",
       "stream": "stdout",
       "text": [
        " : shot : {'love': 0.0, 'joy': 0, 'sadness': 0, 'anger': 0.0028672795471157532, 'surprise': 0, 'fear': 0.006180423366045257}\n",
        "84"
       ]
      },
      {
       "output_type": "stream",
       "stream": "stdout",
       "text": [
        " : sheriff : {'love': 0.004613189745168623, 'joy': 0, 'sadness': 0, 'anger': 0.0028672795471157532, 'surprise': 0, 'fear': 0.006180423366045257}\n",
        "84"
       ]
      },
      {
       "output_type": "stream",
       "stream": "stdout",
       "text": [
        " : cuffs : {'love': 0.004613189745168623, 'joy': 0, 'sadness': 0, 'anger': 0.0028672795471157532, 'surprise': 0, 'fear': 0.009654689472743163}\n",
        "84"
       ]
      },
      {
       "output_type": "stream",
       "stream": "stdout",
       "text": [
        " : bullshit : {'love': 0.0060278567336248074, 'joy': 0, 'sadness': 0, 'anger': 0.0028672795471157532, 'surprise': 0, 'fear': 0.009654689472743163}\n",
        "84"
       ]
      },
      {
       "output_type": "stream",
       "stream": "stdout",
       "text": [
        " : cells : {'love': 0.0060278567336248074, 'joy': 0.003912619847560894, 'sadness': 0, 'anger': 0.0028672795471157532, 'surprise': 0, 'fear': 0.009654689472743163}\n",
        "84"
       ]
      },
      {
       "output_type": "stream",
       "stream": "stdout",
       "text": [
        " : profession : {'love': 0.0060278567336248074, 'joy': 0.003912619847560894, 'sadness': 0, 'anger': 0.0028672795471157532, 'surprise': 0, 'fear': 0.014578041400863275}\n",
        "84"
       ]
      },
      {
       "output_type": "stream",
       "stream": "stdout",
       "text": [
        " : crime : {'love': 0.0060278567336248074, 'joy': 0.003912619847560894, 'sadness': 0, 'anger': 0.008719176608981269, 'surprise': 0, 'fear': 0.014578041400863275}\n",
        "84"
       ]
      },
      {
       "output_type": "stream",
       "stream": "stdout",
       "text": [
        " : chorus : {'love': 0.0060278567336248074, 'joy': 0.010278159444847432, 'sadness': 0, 'anger': 0.008719176608981269, 'surprise': 0, 'fear': 0.014578041400863275}\n",
        "84"
       ]
      },
      {
       "output_type": "stream",
       "stream": "stdout",
       "text": [
        " : cops : {'love': 0.01787338419010046, 'joy': 0.010278159444847432, 'sadness': 0, 'anger': 0.008719176608981269, 'surprise': 0, 'fear': 0.014578041400863275}\n",
        "84"
       ]
      },
      {
       "output_type": "stream",
       "stream": "stdout",
       "text": [
        " : verse : {'love': 0.01787338419010046, 'joy': 0.016191054039482015, 'sadness': 0, 'anger': 0.008719176608981269, 'surprise': 0, 'fear': 0.014578041400863275}\n",
        "84"
       ]
      },
      {
       "output_type": "stream",
       "stream": "stdout",
       "text": [
        " : stuff : {'love': 0.02819779314579566, 'joy': 0.016191054039482015, 'sadness': 0, 'anger': 0.008719176608981269, 'surprise': 0, 'fear': 0.014578041400863275}\n",
        "84"
       ]
      },
      {
       "output_type": "stream",
       "stream": "stdout",
       "text": [
        " : fools : {'love': 0.03636631222526849, 'joy': 0.016191054039482015, 'sadness': 0, 'anger': 0.008719176608981269, 'surprise': 0, 'fear': 0.014578041400863275}\n",
        "84"
       ]
      },
      {
       "output_type": "stream",
       "stream": "stdout",
       "text": [
        " : tryin : {'love': 0.03636631222526849, 'joy': 0.016191054039482015, 'sadness': 0, 'anger': 0.008719176608981269, 'surprise': 0, 'fear': 0.014578041400863275}\n",
        "84"
       ]
      },
      {
       "output_type": "stream",
       "stream": "stdout",
       "text": [
        " : attract : {'love': 0.040171084529823285, 'joy': 0.016191054039482015, 'sadness': 0, 'anger': 0.008719176608981269, 'surprise': 0, 'fear': 0.014578041400863275}\n",
        "84"
       ]
      },
      {
       "output_type": "stream",
       "stream": "stdout",
       "text": [
        " : guns : {'love': 0.040171084529823285, 'joy': 0.016191054039482015, 'sadness': 0, 'anger': 0.008719176608981269, 'surprise': 0.0036272358241589185, 'fear': 0.014578041400863275}\n",
        "84"
       ]
      },
      {
       "output_type": "stream",
       "stream": "stdout",
       "text": [
        " : tha : {'love': 0.040171084529823285, 'joy': 0.016191054039482015, 'sadness': 0, 'anger': 0.008719176608981269, 'surprise': 0.0036272358241589185, 'fear': 0.014578041400863275}\n",
        "84"
       ]
      },
      {
       "output_type": "stream",
       "stream": "stdout",
       "text": [
        " : keep : {'love': 0.04267468615201753, 'joy': 0.016191054039482015, 'sadness': 0, 'anger': 0.008719176608981269, 'surprise': 0.0036272358241589185, 'fear': 0.014578041400863275}\n",
        "85"
       ]
      },
      {
       "output_type": "stream",
       "stream": "stdout",
       "text": [
        " : loved : {'love': 0.04388984376828494, 'joy': 0, 'sadness': 0, 'anger': 0, 'surprise': 0, 'fear': 0}\n",
        "85"
       ]
      },
      {
       "output_type": "stream",
       "stream": "stdout",
       "text": [
        " : mase : {'love': 0.04388984376828494, 'joy': 0, 'sadness': 0, 'anger': 0, 'surprise': 0, 'fear': 0}\n",
        "85"
       ]
      },
      {
       "output_type": "stream",
       "stream": "stdout",
       "text": [
        " : right : {'love': 0.04388984376828494, 'joy': 0, 'sadness': 0, 'anger': 0, 'surprise': 0, 'fear': 0.001251694953202552}\n",
        "85"
       ]
      },
      {
       "output_type": "stream",
       "stream": "stdout",
       "text": [
        " : love : {'love': 0.07364535086613092, 'joy': 0, 'sadness': 0, 'anger': 0, 'surprise': 0, 'fear': 0.001251694953202552}\n",
        "85"
       ]
      },
      {
       "output_type": "stream",
       "stream": "stdout",
       "text": [
        " : like : {'love': 0.07364535086613092, 'joy': 0, 'sadness': 0, 'anger': 0, 'surprise': 0, 'fear': 0.001251694953202552}\n",
        "85"
       ]
      },
      {
       "output_type": "stream",
       "stream": "stdout",
       "text": [
        " : gown : {'love': 0.07364535086613092, 'joy': 0, 'sadness': 0, 'anger': 0, 'surprise': 0, 'fear': 0.0025117558111698566}\n",
        "85"
       ]
      },
      {
       "output_type": "stream",
       "stream": "stdout",
       "text": [
        " : straw : {'love': 0.07364535086613092, 'joy': 0, 'sadness': 0, 'anger': 0, 'surprise': 0, 'fear': 0.0025117558111698566}\n",
        "85"
       ]
      },
      {
       "output_type": "stream",
       "stream": "stdout",
       "text": [
        " : ain : {'love': 0.07364535086613092, 'joy': 0, 'sadness': 0, 'anger': 0, 'surprise': 0, 'fear': 0.0025117558111698566}\n",
        "85"
       ]
      },
      {
       "output_type": "stream",
       "stream": "stdout",
       "text": [
        " : mine : {'love': 0.08094057520743736, 'joy': 0, 'sadness': 0, 'anger': 0, 'surprise': 0, 'fear': 0.0025117558111698566}\n",
        "85"
       ]
      },
      {
       "output_type": "stream",
       "stream": "stdout",
       "text": [
        " : ooh : {'love': 0.08094057520743736, 'joy': 0, 'sadness': 0, 'anger': 0, 'surprise': 0, 'fear': 0.0025117558111698566}\n",
        "85"
       ]
      },
      {
       "output_type": "stream",
       "stream": "stdout",
       "text": [
        " : brian : {'love': 0.08094057520743736, 'joy': 0, 'sadness': 0, 'anger': 0, 'surprise': 0, 'fear': 0.0025117558111698566}\n",
        "85"
       ]
      },
      {
       "output_type": "stream",
       "stream": "stdout",
       "text": [
        " : cat : {'love': 0.08450981961915345, 'joy': 0, 'sadness': 0, 'anger': 0, 'surprise': 0, 'fear': 0.0025117558111698566}\n",
        "85"
       ]
      },
      {
       "output_type": "stream",
       "stream": "stdout",
       "text": [
        " : let : {'love': 0.08910209324506205, 'joy': 0, 'sadness': 0, 'anger': 0, 'surprise': 0, 'fear': 0.0025117558111698566}\n",
        "85"
       ]
      },
      {
       "output_type": "stream",
       "stream": "stdout",
       "text": [
        " : treat : {'love': 0.09189688637153871, 'joy': 0, 'sadness': 0, 'anger': 0, 'surprise': 0, 'fear': 0.0025117558111698566}\n",
        "85"
       ]
      },
      {
       "output_type": "stream",
       "stream": "stdout",
       "text": [
        " : time : {'love': 0.09189688637153871, 'joy': 0, 'sadness': 0, 'anger': 0, 'surprise': 0.002634627233775207, 'fear': 0.0025117558111698566}\n",
        "85"
       ]
      },
      {
       "output_type": "stream",
       "stream": "stdout",
       "text": [
        " : baby : {'love': 0.09620065266005672, 'joy': 0, 'sadness': 0, 'anger': 0, 'surprise': 0.002634627233775207, 'fear': 0.0025117558111698566}\n",
        "85"
       ]
      },
      {
       "output_type": "stream",
       "stream": "stdout",
       "text": [
        " : smile : {'love': 0.09620065266005672, 'joy': 0.006039704368766787, 'sadness': 0, 'anger': 0, 'surprise': 0.002634627233775207, 'fear': 0.0025117558111698566}\n",
        "85"
       ]
      },
      {
       "output_type": "stream",
       "stream": "stdout",
       "text": [
        " : studded : {'love': 0.09746486252743347, 'joy': 0.006039704368766787, 'sadness': 0, 'anger': 0, 'surprise': 0.002634627233775207, 'fear': 0.0025117558111698566}\n",
        "85"
       ]
      },
      {
       "output_type": "stream",
       "stream": "stdout",
       "text": [
        " : waste : {'love': 0.09746486252743347, 'joy': 0.006039704368766787, 'sadness': 0.008462821683257973, 'anger': 0, 'surprise': 0.002634627233775207, 'fear': 0.0025117558111698566}\n",
        "85"
       ]
      },
      {
       "output_type": "stream",
       "stream": "stdout",
       "text": [
        " : wanna : {'love': 0.09746486252743347, 'joy': 0.006039704368766787, 'sadness': 0.008462821683257973, 'anger': 0, 'surprise': 0.002634627233775207, 'fear': 0.0025117558111698566}\n",
        "86"
       ]
      },
      {
       "output_type": "stream",
       "stream": "stdout",
       "text": [
        " : sevens : {'love': 0, 'joy': 0, 'sadness': 0, 'anger': 0.00368952607756938, 'surprise': 0, 'fear': 0}\n",
        "86"
       ]
      },
      {
       "output_type": "stream",
       "stream": "stdout",
       "text": [
        " : distance : {'love': 0, 'joy': 0, 'sadness': 0.002339535300469274, 'anger': 0.00368952607756938, 'surprise': 0, 'fear': 0}\n",
        "86"
       ]
      },
      {
       "output_type": "stream",
       "stream": "stdout",
       "text": [
        " : staying : {'love': 0.005027945485336103, 'joy': 0, 'sadness': 0.002339535300469274, 'anger': 0.00368952607756938, 'surprise': 0, 'fear': 0}\n",
        "86"
       ]
      },
      {
       "output_type": "stream",
       "stream": "stdout",
       "text": [
        " : kept : {'love': 0.009728833782174998, 'joy': 0, 'sadness': 0.002339535300469274, 'anger': 0.00368952607756938, 'surprise': 0, 'fear': 0}\n",
        "86"
       ]
      },
      {
       "output_type": "stream",
       "stream": "stdout",
       "text": [
        " : illusions : {'love': 0.009728833782174998, 'joy': 0, 'sadness': 0.002339535300469274, 'anger': 0.00368952607756938, 'surprise': 0, 'fear': 0.005278117596367305}\n",
        "86"
       ]
      },
      {
       "output_type": "stream",
       "stream": "stdout",
       "text": [
        " : nines : {'love': 0.009728833782174998, 'joy': 0, 'sadness': 0.002339535300469274, 'anger': 0.00368952607756938, 'surprise': 0, 'fear': 0.005278117596367305}\n",
        "86"
       ]
      },
      {
       "output_type": "stream",
       "stream": "stdout",
       "text": [
        " : impressed : {'love': 0.009728833782174998, 'joy': 0, 'sadness': 0.002339535300469274, 'anger': 0.00368952607756938, 'surprise': 0.04018246414852486, 'fear': 0.005278117596367305}\n",
        "86"
       ]
      },
      {
       "output_type": "stream",
       "stream": "stdout",
       "text": [
        " : dressed : {'love': 0.009728833782174998, 'joy': 0, 'sadness': 0.002339535300469274, 'anger': 0.00368952607756938, 'surprise': 0.04229413016357564, 'fear': 0.005278117596367305}\n",
        "86"
       ]
      },
      {
       "output_type": "stream",
       "stream": "stdout",
       "text": [
        " : invited : {'love': 0.015999880580819047, 'joy': 0, 'sadness': 0.002339535300469274, 'anger': 0.00368952607756938, 'surprise': 0.04229413016357564, 'fear': 0.005278117596367305}\n",
        "86"
       ]
      },
      {
       "output_type": "stream",
       "stream": "stdout",
       "text": [
        " : cry : {'love': 0.015999880580819047, 'joy': 0.0170864188814825, 'sadness': 0.002339535300469274, 'anger': 0.00368952607756938, 'surprise': 0.04229413016357564, 'fear': 0.005278117596367305}\n",
        "86"
       ]
      },
      {
       "output_type": "stream",
       "stream": "stdout",
       "text": [
        " : promise : {'love': 0.028793556053023743, 'joy': 0.0170864188814825, 'sadness': 0.002339535300469274, 'anger': 0.00368952607756938, 'surprise': 0.04229413016357564, 'fear': 0.005278117596367305}\n",
        "86"
       ]
      },
      {
       "output_type": "stream",
       "stream": "stdout",
       "text": [
        " : mad : {'love': 0.028793556053023743, 'joy': 0.0170864188814825, 'sadness': 0.002339535300469274, 'anger': 0.014720981867129727, 'surprise': 0.04229413016357564, 'fear': 0.005278117596367305}\n",
        "86"
       ]
      },
      {
       "output_type": "stream",
       "stream": "stdout",
       "text": [
        " : truth : {'love': 0.047185855836437265, 'joy': 0.0170864188814825, 'sadness': 0.002339535300469274, 'anger': 0.014720981867129727, 'surprise': 0.04229413016357564, 'fear': 0.005278117596367305}\n",
        "86"
       ]
      },
      {
       "output_type": "stream",
       "stream": "stdout",
       "text": [
        " : wild : {'love': 0.047185855836437265, 'joy': 0.023020724951175468, 'sadness': 0.002339535300469274, 'anger': 0.014720981867129727, 'surprise': 0.04229413016357564, 'fear': 0.005278117596367305}\n",
        "86"
       ]
      },
      {
       "output_type": "stream",
       "stream": "stdout",
       "text": [
        " : existence : {'love': 0.047185855836437265, 'joy': 0.029137559167665854, 'sadness': 0.002339535300469274, 'anger': 0.014720981867129727, 'surprise': 0.04229413016357564, 'fear': 0.005278117596367305}\n",
        "86"
       ]
      },
      {
       "output_type": "stream",
       "stream": "stdout",
       "text": [
        " : argentina : {'love': 0.047185855836437265, 'joy': 0.029137559167665854, 'sadness': 0.002339535300469274, 'anger': 0.014720981867129727, 'surprise': 0.04229413016357564, 'fear': 0.005278117596367305}\n",
        "86"
       ]
      },
      {
       "output_type": "stream",
       "stream": "stdout",
       "text": [
        " : seemed : {'love': 0.05201385141111232, 'joy': 0.029137559167665854, 'sadness': 0.002339535300469274, 'anger': 0.014720981867129727, 'surprise': 0.04229413016357564, 'fear': 0.005278117596367305}\n",
        "86"
       ]
      },
      {
       "output_type": "stream",
       "stream": "stdout",
       "text": [
        " : solutions : {'love': 0.05201385141111232, 'joy': 0.029137559167665854, 'sadness': 0.002339535300469274, 'anger': 0.014720981867129727, 'surprise': 0.04229413016357564, 'fear': 0.005823831532178272}\n",
        "86"
       ]
      },
      {
       "output_type": "stream",
       "stream": "stdout",
       "text": [
        " : happen : {'love': 0.05201385141111232, 'joy': 0.029137559167665854, 'sadness': 0.002339535300469274, 'anger': 0.014720981867129727, 'surprise': 0.04696866314095589, 'fear': 0.005823831532178272}\n",
        "86"
       ]
      },
      {
       "output_type": "stream",
       "stream": "stdout",
       "text": [
        " : left : {'love': 0.05201385141111232, 'joy': 0.029137559167665854, 'sadness': 0.002339535300469274, 'anger': 0.014720981867129727, 'surprise': 0.04696866314095589, 'fear': 0.013472900741437442}\n",
        "87"
       ]
      },
      {
       "output_type": "stream",
       "stream": "stdout",
       "text": [
        " : satisfy : {'love': 0, 'joy': 0, 'sadness': 0, 'anger': 0, 'surprise': 0.010960416788961386, 'fear': 0}\n",
        "87"
       ]
      },
      {
       "output_type": "stream",
       "stream": "stdout",
       "text": [
        " : gone : {'love': 0.002590549614571347, 'joy': 0, 'sadness': 0, 'anger': 0, 'surprise': 0.010960416788961386, 'fear': 0}\n",
        "87"
       ]
      },
      {
       "output_type": "stream",
       "stream": "stdout",
       "text": [
        " : someone : {'love': 0.0695313088655522, 'joy': 0, 'sadness': 0, 'anger': 0, 'surprise': 0.010960416788961386, 'fear': 0}\n",
        "87"
       ]
      },
      {
       "output_type": "stream",
       "stream": "stdout",
       "text": [
        " : love : {'love': 0.11475215851504322, 'joy': 0, 'sadness': 0, 'anger': 0, 'surprise': 0.010960416788961386, 'fear': 0}\n",
        "87"
       ]
      },
      {
       "output_type": "stream",
       "stream": "stdout",
       "text": [
        " : faithful : {'love': 0.12401470885816686, 'joy': 0, 'sadness': 0, 'anger': 0, 'surprise': 0.010960416788961386, 'fear': 0}\n",
        "87"
       ]
      },
      {
       "output_type": "stream",
       "stream": "stdout",
       "text": [
        " : everything : {'love': 0.12401470885816686, 'joy': 0, 'sadness': 0, 'anger': 0, 'surprise': 0.010960416788961386, 'fear': 0}\n",
        "87"
       ]
      },
      {
       "output_type": "stream",
       "stream": "stdout",
       "text": [
        " : freaky : {'love': 0.12401470885816686, 'joy': 0, 'sadness': 0, 'anger': 0, 'surprise': 0.010960416788961386, 'fear': 0}\n",
        "87"
       ]
      },
      {
       "output_type": "stream",
       "stream": "stdout",
       "text": [
        " : lover : {'love': 0.14293538939220488, 'joy': 0, 'sadness': 0, 'anger': 0, 'surprise': 0.010960416788961386, 'fear': 0}\n",
        "87"
       ]
      },
      {
       "output_type": "stream",
       "stream": "stdout",
       "text": [
        " : mine : {'love': 0.14549390409010382, 'joy': 0, 'sadness': 0, 'anger': 0, 'surprise': 0.010960416788961386, 'fear': 0}\n",
        "Error in getting similarity for"
       ]
      },
      {
       "output_type": "stream",
       "stream": "stdout",
       "text": [
        " one and surprise\n",
        "87"
       ]
      },
      {
       "output_type": "stream",
       "stream": "stdout",
       "text": [
        " : one : {'love': 0.14549390409010382, 'joy': 0, 'sadness': 0, 'anger': 0, 'surprise': 0.010960416788961386, 'fear': 0}\n",
        "87"
       ]
      },
      {
       "output_type": "stream",
       "stream": "stdout",
       "text": [
        " : baby : {'love': 0.151962665877856, 'joy': 0, 'sadness': 0, 'anger': 0, 'surprise': 0.010960416788961386, 'fear': 0}\n",
        "87"
       ]
      },
      {
       "output_type": "stream",
       "stream": "stdout",
       "text": [
        " : platinium : {'love': 0.151962665877856, 'joy': 0, 'sadness': 0, 'anger': 0, 'surprise': 0.010960416788961386, 'fear': 0}\n",
        "87"
       ]
      },
      {
       "output_type": "stream",
       "stream": "stdout",
       "text": [
        " : five : {'love': 0.151962665877856, 'joy': 0, 'sadness': 0, 'anger': 0, 'surprise': 0.010960416788961386, 'fear': 0}\n",
        "87"
       ]
      },
      {
       "output_type": "stream",
       "stream": "stdout",
       "text": [
        " : lifetime : {'love': 0.151962665877856, 'joy': 0, 'sadness': 0, 'anger': 0, 'surprise': 0.012167651885313931, 'fear': 0}\n",
        "87"
       ]
      },
      {
       "output_type": "stream",
       "stream": "stdout",
       "text": [
        " : need : {'love': 0.15966615479842267, 'joy': 0, 'sadness': 0, 'anger': 0, 'surprise': 0.012167651885313931, 'fear': 0}\n",
        "87"
       ]
      },
      {
       "output_type": "stream",
       "stream": "stdout",
       "text": [
        " : puff : {'love': 0.16804572086518474, 'joy': 0, 'sadness': 0, 'anger': 0, 'surprise': 0.012167651885313931, 'fear': 0}\n",
        "87"
       ]
      },
      {
       "output_type": "stream",
       "stream": "stdout",
       "text": [
        " : believe : {'love': 0.16804572086518474, 'joy': 0, 'sadness': 0, 'anger': 0, 'surprise': 0.012167651885313931, 'fear': 0.00689547088387809}\n",
        "87"
       ]
      },
      {
       "output_type": "stream",
       "stream": "stdout",
       "text": [
        " : true : {'love': 0.17844063484611195, 'joy': 0, 'sadness': 0, 'anger': 0, 'surprise': 0.012167651885313931, 'fear': 0.00689547088387809}\n",
        "87"
       ]
      },
      {
       "output_type": "stream",
       "stream": "stdout",
       "text": [
        " : talk : {'love': 0.18191488853949075, 'joy': 0, 'sadness': 0, 'anger': 0, 'surprise': 0.012167651885313931, 'fear': 0.00689547088387809}\n",
        "87"
       ]
      },
      {
       "output_type": "stream",
       "stream": "stdout",
       "text": [
        " : swv : {'love': 0.18191488853949075, 'joy': 0, 'sadness': 0, 'anger': 0, 'surprise': 0.012167651885313931, 'fear': 0.00689547088387809}\n",
        "88"
       ]
      },
      {
       "output_type": "stream",
       "stream": "stdout",
       "text": [
        " : slope : {'love': 0.001992807787816597, 'joy': 0, 'sadness': 0, 'anger': 0, 'surprise': 0, 'fear': 0}\n",
        "88"
       ]
      },
      {
       "output_type": "stream",
       "stream": "stdout",
       "text": [
        " : distance : {'love': 0.001992807787816597, 'joy': 0, 'sadness': 0.006810132458791748, 'anger': 0, 'surprise': 0, 'fear': 0}\n",
        "88"
       ]
      },
      {
       "output_type": "stream",
       "stream": "stdout",
       "text": [
        " : search : {'love': 0.001992807787816597, 'joy': 0, 'sadness': 0.014312335175004434, 'anger': 0, 'surprise': 0, 'fear': 0}\n",
        "88"
       ]
      },
      {
       "output_type": "stream",
       "stream": "stdout",
       "text": [
        " : hero : {'love': 0.025247563732868232, 'joy': 0, 'sadness': 0.014312335175004434, 'anger': 0, 'surprise': 0, 'fear': 0}\n",
        "88"
       ]
      },
      {
       "output_type": "stream",
       "stream": "stdout",
       "text": [
        " : someday : {'love': 0.025247563732868232, 'joy': 0.0038194460799185754, 'sadness': 0.014312335175004434, 'anger': 0, 'surprise': 0, 'fear': 0}\n",
        "88"
       ]
      },
      {
       "output_type": "stream",
       "stream": "stdout",
       "text": [
        " : may : {'love': 0.025247563732868232, 'joy': 0.0038194460799185754, 'sadness': 0.014312335175004434, 'anger': 0, 'surprise': 0, 'fear': 0}\n",
        "88"
       ]
      },
      {
       "output_type": "stream",
       "stream": "stdout",
       "text": [
        " : welcome : {'love': 0.025247563732868232, 'joy': 0.0038194460799185754, 'sadness': 0.014312335175004434, 'anger': 0, 'surprise': 0.027415027235269604, 'fear': 0}\n",
        "88"
       ]
      },
      {
       "output_type": "stream",
       "stream": "stdout",
       "text": [
        " : find : {'love': 0.025247563732868232, 'joy': 0.0038194460799185754, 'sadness': 0.014312335175004434, 'anger': 0, 'surprise': 0.040742032913300946, 'fear': 0}\n",
        "88"
       ]
      },
      {
       "output_type": "stream",
       "stream": "stdout",
       "text": [
        " : arms : {'love': 0.025247563732868232, 'joy': 0.0038194460799185754, 'sadness': 0.014312335175004434, 'anger': 0.003910194547150819, 'surprise': 0.040742032913300946, 'fear': 0}\n",
        "88"
       ]
      },
      {
       "output_type": "stream",
       "stream": "stdout",
       "text": [
        " : accept : {'love': 0.02774285226348644, 'joy': 0.0038194460799185754, 'sadness': 0.014312335175004434, 'anger': 0.003910194547150819, 'surprise': 0.040742032913300946, 'fear': 0}\n",
        "88"
       ]
      },
      {
       "output_type": "stream",
       "stream": "stdout",
       "text": [
        " : face : {'love': 0.02774285226348644, 'joy': 0.0038194460799185754, 'sadness': 0.014312335175004434, 'anger': 0.003910194547150819, 'surprise': 0.04923479692956296, 'fear': 0}\n",
        "88"
       ]
      },
      {
       "output_type": "stream",
       "stream": "stdout",
       "text": [
        " : uphill : {'love': 0.02774285226348644, 'joy': 0.005185628816485217, 'sadness': 0.014312335175004434, 'anger': 0.003910194547150819, 'surprise': 0.04923479692956296, 'fear': 0}\n",
        "88"
       ]
      },
      {
       "output_type": "stream",
       "stream": "stdout",
       "text": [
        " : till : {'love': 0.02774285226348644, 'joy': 0.005185628816485217, 'sadness': 0.014312335175004434, 'anger': 0.003910194547150819, 'surprise': 0.04923479692956296, 'fear': 0}\n",
        "88"
       ]
      },
      {
       "output_type": "stream",
       "stream": "stdout",
       "text": [
        " : waiting : {'love': 0.02774285226348644, 'joy': 0.005185628816485217, 'sadness': 0.014312335175004434, 'anger': 0.003910194547150819, 'surprise': 0.0551869475810999, 'fear': 0}\n",
        "88"
       ]
      },
      {
       "output_type": "stream",
       "stream": "stdout",
       "text": [
        " : mile : {'love': 0.02774285226348644, 'joy': 0.005185628816485217, 'sadness': 0.014312335175004434, 'anger': 0.003910194547150819, 'surprise': 0.0557251050332898, 'fear': 0}\n",
        "88"
       ]
      },
      {
       "output_type": "stream",
       "stream": "stdout",
       "text": [
        " : far : {'love': 0.02774285226348644, 'joy': 0.005185628816485217, 'sadness': 0.014312335175004434, 'anger': 0.003910194547150819, 'surprise': 0.0557251050332898, 'fear': 0.006492778817317957}\n",
        "88"
       ]
      },
      {
       "output_type": "stream",
       "stream": "stdout",
       "text": [
        " : harms : {'love': 0.02774285226348644, 'joy': 0.005185628816485217, 'sadness': 0.014312335175004434, 'anger': 0.003910194547150819, 'surprise': 0.0557251050332898, 'fear': 0.026989358115582496}\n",
        "88"
       ]
      },
      {
       "output_type": "stream",
       "stream": "stdout",
       "text": [
        " : somehow : {'love': 0.02774285226348644, 'joy': 0.005185628816485217, 'sadness': 0.0186138459104178, 'anger': 0.003910194547150819, 'surprise': 0.0557251050332898, 'fear': 0.026989358115582496}\n",
        "88"
       ]
      },
      {
       "output_type": "stream",
       "stream": "stdout",
       "text": [
        " : worth : {'love': 0.02988222628896522, 'joy': 0.005185628816485217, 'sadness': 0.0186138459104178, 'anger': 0.003910194547150819, 'surprise': 0.0557251050332898, 'fear': 0.026989358115582496}\n",
        "88"
       ]
      },
      {
       "output_type": "stream",
       "stream": "stdout",
       "text": [
        " : road : {'love': 0.02988222628896522, 'joy': 0.005185628816485217, 'sadness': 0.0186138459104178, 'anger': 0.003910194547150819, 'surprise': 0.05840213076338275, 'fear': 0.026989358115582496}\n",
        "89"
       ]
      },
      {
       "output_type": "stream",
       "stream": "stdout",
       "text": [
        " : baby : {'love': 0.007961967633758315, 'joy': 0, 'sadness': 0, 'anger': 0, 'surprise': 0, 'fear': 0}\n",
        "89"
       ]
      },
      {
       "output_type": "stream",
       "stream": "stdout",
       "text": [
        " : play : {'love': 0.07631760651525062, 'joy': 0, 'sadness': 0, 'anger': 0, 'surprise': 0, 'fear': 0}\n",
        "89"
       ]
      },
      {
       "output_type": "stream",
       "stream": "stdout",
       "text": [
        " : feeling : {'love': 0.07631760651525062, 'joy': 0, 'sadness': 0, 'anger': 0, 'surprise': 0, 'fear': 0.038301559468634984}\n",
        "89"
       ]
      },
      {
       "output_type": "stream",
       "stream": "stdout",
       "text": [
        " : hit : {'love': 0.07631760651525062, 'joy': 0, 'sadness': 0, 'anger': 0, 'surprise': 0.006295538114946291, 'fear': 0.038301559468634984}\n",
        "89"
       ]
      },
      {
       "output_type": "stream",
       "stream": "stdout",
       "text": [
        " : show : {'love': 0.07631760651525062, 'joy': 0, 'sadness': 0, 'anger': 0, 'surprise': 0.016541389400900722, 'fear': 0.038301559468634984}\n",
        "Error in getting similarity for"
       ]
      },
      {
       "output_type": "stream",
       "stream": "stdout",
       "text": [
        " come and surprise\n",
        "89"
       ]
      },
      {
       "output_type": "stream",
       "stream": "stdout",
       "text": [
        " : come : {'love': 0.07631760651525062, 'joy': 0, 'sadness': 0, 'anger': 0, 'surprise': 0.016541389400900722, 'fear': 0.04337319847351221}\n",
        "89"
       ]
      },
      {
       "output_type": "stream",
       "stream": "stdout",
       "text": [
        " : spell : {'love': 0.07631760651525062, 'joy': 0, 'sadness': 0, 'anger': 0, 'surprise': 0.016541389400900722, 'fear': 0.05661212253598167}\n",
        "89"
       ]
      },
      {
       "output_type": "stream",
       "stream": "stdout",
       "text": [
        " : stop : {'love': 0.07631760651525062, 'joy': 0, 'sadness': 0, 'anger': 0, 'surprise': 0.016541389400900722, 'fear': 0.06324819518630892}\n",
        "89"
       ]
      },
      {
       "output_type": "stream",
       "stream": "stdout",
       "text": [
        " : mine : {'love': 0.07931675430000994, 'joy': 0, 'sadness': 0, 'anger': 0, 'surprise': 0.016541389400900722, 'fear': 0.06324819518630892}\n",
        "89"
       ]
      },
      {
       "output_type": "stream",
       "stream": "stdout",
       "text": [
        " : one : {'love': 0.07931675430000994, 'joy': 0, 'sadness': 0, 'anger': 0, 'surprise': 0.016541389400900722, 'fear': 0.06324819518630892}\n",
        "89"
       ]
      },
      {
       "output_type": "stream",
       "stream": "stdout",
       "text": [
        " : chorus : {'love': 0.07931675430000994, 'joy': 0.008858709272890432, 'sadness': 0, 'anger': 0, 'surprise': 0.016541389400900722, 'fear': 0.06324819518630892}\n",
        "89"
       ]
      },
      {
       "output_type": "stream",
       "stream": "stdout",
       "text": [
        " : shame : {'love': 0.07931675430000994, 'joy': 0.008858709272890432, 'sadness': 0, 'anger': 0.029476207924694187, 'surprise': 0.016541389400900722, 'fear': 0.06324819518630892}\n",
        "Error in getting similarity for"
       ]
      },
      {
       "output_type": "stream",
       "stream": "stdout",
       "text": [
        " game and sadness\n",
        "89"
       ]
      },
      {
       "output_type": "stream",
       "stream": "stdout",
       "text": [
        " : game : {'love': 0.08469565738565384, 'joy': 0.008858709272890432, 'sadness': 0, 'anger': 0.029476207924694187, 'surprise': 0.016541389400900722, 'fear': 0.06324819518630892}\n",
        "89"
       ]
      },
      {
       "output_type": "stream",
       "stream": "stdout",
       "text": [
        " : upside : {'love': 0.08469565738565384, 'joy': 0.008858709272890432, 'sadness': 0, 'anger': 0.029476207924694187, 'surprise': 0.016541389400900722, 'fear': 0.06324819518630892}\n",
        "89"
       ]
      },
      {
       "output_type": "stream",
       "stream": "stdout",
       "text": [
        " : time : {'love': 0.08469565738565384, 'joy': 0.008858709272890432, 'sadness': 0, 'anger': 0.029476207924694187, 'surprise': 0.019249200724503018, 'fear': 0.06324819518630892}\n",
        "89"
       ]
      },
      {
       "output_type": "stream",
       "stream": "stdout",
       "text": [
        " : put : {'love': 0.08469565738565384, 'joy': 0.008858709272890432, 'sadness': 0, 'anger': 0.029476207924694187, 'surprise': 0.019249200724503018, 'fear': 0.06767852215611213}\n",
        "89"
       ]
      },
      {
       "output_type": "stream",
       "stream": "stdout",
       "text": [
        " : let : {'love': 0.09149222235199855, 'joy': 0.008858709272890432, 'sadness': 0, 'anger': 0.029476207924694187, 'surprise': 0.019249200724503018, 'fear': 0.06767852215611213}\n",
        "89"
       ]
      },
      {
       "output_type": "stream",
       "stream": "stdout",
       "text": [
        " : turn : {'love': 0.09149222235199855, 'joy': 0.008858709272890432, 'sadness': 0, 'anger': 0.03348070104326996, 'surprise': 0.019249200724503018, 'fear': 0.06767852215611213}\n",
        "89"
       ]
      },
      {
       "output_type": "stream",
       "stream": "stdout",
       "text": [
        " : spin : {'love': 0.09149222235199855, 'joy': 0.008858709272890432, 'sadness': 0, 'anger': 0.03348070104326996, 'surprise': 0.028749985188961977, 'fear': 0.06767852215611213}\n",
        "89"
       ]
      },
      {
       "output_type": "stream",
       "stream": "stdout",
       "text": [
        " : round : {'love': 0.09149222235199855, 'joy': 0.008858709272890432, 'sadness': 0, 'anger': 0.03348070104326996, 'surprise': 0.03868499437737868, 'fear': 0.06767852215611213}\n",
        "90"
       ]
      },
      {
       "output_type": "stream",
       "stream": "stdout",
       "text": [
        " : baby : {'love': 0.005362141467633152, 'joy': 0, 'sadness': 0, 'anger': 0, 'surprise': 0, 'fear': 0}\n",
        "90"
       ]
      },
      {
       "output_type": "stream",
       "stream": "stdout",
       "text": [
        " : sexiness : {'love': 0.005362141467633152, 'joy': 0, 'sadness': 0, 'anger': 0, 'surprise': 0, 'fear': 0}\n",
        "90"
       ]
      },
      {
       "output_type": "stream",
       "stream": "stdout",
       "text": [
        " : confidence : {'love': 0.005362141467633152, 'joy': 0, 'sadness': 0, 'anger': 0, 'surprise': 0, 'fear': 0.008922675126901161}\n",
        "90"
       ]
      },
      {
       "output_type": "stream",
       "stream": "stdout",
       "text": [
        " : appeal : {'love': 0.009098615234994856, 'joy': 0, 'sadness': 0, 'anger': 0, 'surprise': 0, 'fear': 0.008922675126901161}\n",
        "90"
       ]
      },
      {
       "output_type": "stream",
       "stream": "stdout",
       "text": [
        " : love : {'love': 0.09560212515516135, 'joy': 0, 'sadness': 0, 'anger': 0, 'surprise': 0, 'fear': 0.008922675126901161}\n",
        "90"
       ]
      },
      {
       "output_type": "stream",
       "stream": "stdout",
       "text": [
        " : word : {'love': 0.10005665390786918, 'joy': 0, 'sadness': 0, 'anger': 0, 'surprise': 0, 'fear': 0.008922675126901161}\n",
        "90"
       ]
      },
      {
       "output_type": "stream",
       "stream": "stdout",
       "text": [
        " : bond : {'love': 0.1055053843776393, 'joy': 0, 'sadness': 0, 'anger': 0, 'surprise': 0, 'fear': 0.008922675126901161}\n",
        "90"
       ]
      },
      {
       "output_type": "stream",
       "stream": "stdout",
       "text": [
        " : kickin : {'love': 0.1055053843776393, 'joy': 0, 'sadness': 0, 'anger': 0, 'surprise': 0, 'fear': 0.008922675126901161}\n",
        "90"
       ]
      },
      {
       "output_type": "stream",
       "stream": "stdout",
       "text": [
        " : smooth : {'love': 0.1055053843776393, 'joy': 0, 'sadness': 0, 'anger': 0.0023627156417966376, 'surprise': 0, 'fear': 0.008922675126901161}\n",
        "90"
       ]
      },
      {
       "output_type": "stream",
       "stream": "stdout",
       "text": [
        " : shorty : {'love': 0.1055053843776393, 'joy': 0, 'sadness': 0, 'anger': 0.0023627156417966376, 'surprise': 0, 'fear': 0.008922675126901161}\n",
        "90"
       ]
      },
      {
       "output_type": "stream",
       "stream": "stdout",
       "text": [
        " : thickness : {'love': 0.1055053843776393, 'joy': 0, 'sadness': 0, 'anger': 0.0023627156417966376, 'surprise': 0.0006844252613643181, 'fear': 0.008922675126901161}\n",
        "90"
       ]
      },
      {
       "output_type": "stream",
       "stream": "stdout",
       "text": [
        " : creamy : {'love': 0.11053998799923369, 'joy': 0, 'sadness': 0, 'anger': 0.0023627156417966376, 'surprise': 0.0006844252613643181, 'fear': 0.008922675126901161}\n",
        "90"
       ]
      },
      {
       "output_type": "stream",
       "stream": "stdout",
       "text": [
        " : want : {'love': 0.12672571637972282, 'joy': 0, 'sadness': 0, 'anger': 0.0023627156417966376, 'surprise': 0.0006844252613643181, 'fear': 0.008922675126901161}\n",
        "90"
       ]
      },
      {
       "output_type": "stream",
       "stream": "stdout",
       "text": [
        " : sexy : {'love': 0.13134688392362442, 'joy': 0, 'sadness': 0, 'anger': 0.0023627156417966376, 'surprise': 0.0006844252613643181, 'fear': 0.008922675126901161}\n",
        "90"
       ]
      },
      {
       "output_type": "stream",
       "stream": "stdout",
       "text": [
        " : need : {'love': 0.13581236788582104, 'joy': 0, 'sadness': 0, 'anger': 0.0023627156417966376, 'surprise': 0.0006844252613643181, 'fear': 0.008922675126901161}\n",
        "90"
       ]
      },
      {
       "output_type": "stream",
       "stream": "stdout",
       "text": [
        " : got : {'love': 0.13581236788582104, 'joy': 0, 'sadness': 0, 'anger': 0.0028552615311613584, 'surprise': 0.0006844252613643181, 'fear': 0.008922675126901161}\n",
        "90"
       ]
      },
      {
       "output_type": "stream",
       "stream": "stdout",
       "text": [
        " : sex : {'love': 0.14164257399538224, 'joy': 0, 'sadness': 0, 'anger': 0.0028552615311613584, 'surprise': 0.0006844252613643181, 'fear': 0.008922675126901161}\n",
        "90"
       ]
      },
      {
       "output_type": "stream",
       "stream": "stdout",
       "text": [
        " : butta : {'love': 0.14164257399538224, 'joy': 0, 'sadness': 0, 'anger': 0.0028552615311613584, 'surprise': 0.0006844252613643181, 'fear': 0.008922675126901161}\n",
        "90"
       ]
      },
      {
       "output_type": "stream",
       "stream": "stdout",
       "text": [
        " : bomb : {'love': 0.14164257399538224, 'joy': 0, 'sadness': 0, 'anger': 0.0028552615311613584, 'surprise': 0.0006844252613643181, 'fear': 0.012021796852930476}\n",
        "90"
       ]
      },
      {
       "output_type": "stream",
       "stream": "stdout",
       "text": [
        " : goin : {'love': 0.14164257399538224, 'joy': 0, 'sadness': 0, 'anger': 0.0028552615311613584, 'surprise': 0.0006844252613643181, 'fear': 0.012021796852930476}\n",
        "91"
       ]
      },
      {
       "output_type": "stream",
       "stream": "stdout",
       "text": [
        " : loco : {'love': 0.0, 'joy': 0, 'sadness': 0, 'anger': 0, 'surprise': 0, 'fear': 0}\n",
        "91"
       ]
      },
      {
       "output_type": "stream",
       "stream": "stdout",
       "text": [
        " : heart : {'love': 0.01421365383539348, 'joy': 0, 'sadness': 0, 'anger': 0, 'surprise': 0, 'fear': 0}\n",
        "91"
       ]
      },
      {
       "output_type": "stream",
       "stream": "stdout",
       "text": [
        " : jamboo : {'love': 0.01421365383539348, 'joy': 0, 'sadness': 0, 'anger': 0, 'surprise': 0, 'fear': 0}\n",
        "91"
       ]
      },
      {
       "output_type": "stream",
       "stream": "stdout",
       "text": [
        " : nicer : {'love': 0.01421365383539348, 'joy': 0, 'sadness': 0, 'anger': 0, 'surprise': 0, 'fear': 0}\n",
        "91"
       ]
      },
      {
       "output_type": "stream",
       "stream": "stdout",
       "text": [
        " : feel : {'love': 0.01421365383539348, 'joy': 0, 'sadness': 0, 'anger': 0, 'surprise': 0, 'fear': 0.014478036805566008}\n",
        "91"
       ]
      },
      {
       "output_type": "stream",
       "stream": "stdout",
       "text": [
        " : make : {'love': 0.01421365383539348, 'joy': 0, 'sadness': 0, 'anger': 0, 'surprise': 0.0007080379510052928, 'fear': 0.014478036805566008}\n",
        "91"
       ]
      },
      {
       "output_type": "stream",
       "stream": "stdout",
       "text": [
        " : move : {'love': 0.01421365383539348, 'joy': 0, 'sadness': 0, 'anger': 0, 'surprise': 0.0030944660066490677, 'fear': 0.014478036805566008}\n",
        "91"
       ]
      },
      {
       "output_type": "stream",
       "stream": "stdout",
       "text": [
        " : smooth : {'love': 0.01421365383539348, 'joy': 0, 'sadness': 0, 'anger': 0.0016334824190198977, 'surprise': 0.0030944660066490677, 'fear': 0.014478036805566008}\n",
        "91"
       ]
      },
      {
       "output_type": "stream",
       "stream": "stdout",
       "text": [
        " : yeah : {'love': 0.01421365383539348, 'joy': 0, 'sadness': 0, 'anger': 0.0016334824190198977, 'surprise': 0.0030944660066490677, 'fear': 0.014478036805566008}\n",
        "91"
       ]
      },
      {
       "output_type": "stream",
       "stream": "stdout",
       "text": [
        " : back : {'love': 0.01421365383539348, 'joy': 0, 'sadness': 0, 'anger': 0.0025428755766286554, 'surprise': 0.0030944660066490677, 'fear': 0.014478036805566008}\n",
        "91"
       ]
      },
      {
       "output_type": "stream",
       "stream": "stdout",
       "text": [
        " : feet : {'love': 0.01421365383539348, 'joy': 0, 'sadness': 0, 'anger': 0.0025428755766286554, 'surprise': 0.009387075763697622, 'fear': 0.014478036805566008}\n",
        "91"
       ]
      },
      {
       "output_type": "stream",
       "stream": "stdout",
       "text": [
        " : put : {'love': 0.01421365383539348, 'joy': 0, 'sadness': 0, 'anger': 0.0025428755766286554, 'surprise': 0.009387075763697622, 'fear': 0.02842536245124276}\n",
        "91"
       ]
      },
      {
       "output_type": "stream",
       "stream": "stdout",
       "text": [
        " : take : {'love': 0.01421365383539348, 'joy': 0, 'sadness': 0, 'anger': 0.0025428755766286554, 'surprise': 0.009387075763697622, 'fear': 0.02842536245124276}\n",
        "91"
       ]
      },
      {
       "output_type": "stream",
       "stream": "stdout",
       "text": [
        " : gee : {'love': 0.01421365383539348, 'joy': 0, 'sadness': 0, 'anger': 0.0025428755766286554, 'surprise': 0.009387075763697622, 'fear': 0.02842536245124276}\n",
        "91"
       ]
      },
      {
       "output_type": "stream",
       "stream": "stdout",
       "text": [
        " : coco : {'love': 0.01421365383539348, 'joy': 0, 'sadness': 0, 'anger': 0.0025428755766286554, 'surprise': 0.009387075763697622, 'fear': 0.02842536245124276}\n",
        "91"
       ]
      },
      {
       "output_type": "stream",
       "stream": "stdout",
       "text": [
        " : boom : {'love': 0.01421365383539348, 'joy': 0.0011267054007391502, 'sadness': 0, 'anger': 0.0025428755766286554, 'surprise': 0.009387075763697622, 'fear': 0.02842536245124276}\n",
        "Error in getting similarity for"
       ]
      },
      {
       "output_type": "stream",
       "stream": "stdout",
       "text": [
        " chicken and love\n",
        "91"
       ]
      },
      {
       "output_type": "stream",
       "stream": "stdout",
       "text": [
        " : chicken : {'love': 0.01421365383539348, 'joy': 0.0011267054007391502, 'sadness': 0, 'anger': 0.0025428755766286554, 'surprise': 0.009387075763697622, 'fear': 0.02994613050232437}\n",
        "91"
       ]
      },
      {
       "output_type": "stream",
       "stream": "stdout",
       "text": [
        " : ground : {'love': 0.01421365383539348, 'joy': 0.0011267054007391502, 'sadness': 0, 'anger': 0.0025428755766286554, 'surprise': 0.009387075763697622, 'fear': 0.03472377089507635}\n",
        "91"
       ]
      },
      {
       "output_type": "stream",
       "stream": "stdout",
       "text": [
        " : groove : {'love': 0.01421365383539348, 'joy': 0.0011267054007391502, 'sadness': 0.0008776251629119419, 'anger': 0.0025428755766286554, 'surprise': 0.009387075763697622, 'fear': 0.03472377089507635}\n",
        "91"
       ]
      },
      {
       "output_type": "stream",
       "stream": "stdout",
       "text": [
        " : happy : {'love': 0.01421365383539348, 'joy': 0.0284788406896756, 'sadness': 0.0008776251629119419, 'anger': 0.0025428755766286554, 'surprise': 0.009387075763697622, 'fear': 0.03472377089507635}\n",
        "92"
       ]
      },
      {
       "output_type": "stream",
       "stream": "stdout",
       "text": [
        " : thought : {'love': 0.006673300321214152, 'joy': 0, 'sadness': 0, 'anger': 0, 'surprise': 0, 'fear': 0}\n",
        "92"
       ]
      },
      {
       "output_type": "stream",
       "stream": "stdout",
       "text": [
        " : stupid : {'love': 0.010653882989783292, 'joy': 0, 'sadness': 0, 'anger': 0, 'surprise': 0, 'fear': 0}\n",
        "92"
       ]
      },
      {
       "output_type": "stream",
       "stream": "stdout",
       "text": [
        " : foolish : {'love': 0.010653882989783292, 'joy': 0, 'sadness': 0, 'anger': 0.003208301081869947, 'surprise': 0, 'fear': 0}\n",
        "92"
       ]
      },
      {
       "output_type": "stream",
       "stream": "stdout",
       "text": [
        " : klose : {'love': 0.010653882989783292, 'joy': 0, 'sadness': 0, 'anger': 0.003208301081869947, 'surprise': 0, 'fear': 0}\n",
        "92"
       ]
      },
      {
       "output_type": "stream",
       "stream": "stdout",
       "text": [
        " : kut : {'love': 0.010653882989783292, 'joy': 0, 'sadness': 0, 'anger': 0.003208301081869947, 'surprise': 0, 'fear': 0}\n",
        "92"
       ]
      },
      {
       "output_type": "stream",
       "stream": "stdout",
       "text": [
        " : mind : {'love': 0.010653882989783292, 'joy': 0, 'sadness': 0, 'anger': 0.003208301081869947, 'surprise': 0, 'fear': 0.008077610864227973}\n",
        "92"
       ]
      },
      {
       "output_type": "stream",
       "stream": "stdout",
       "text": [
        " : twisted : {'love': 0.010653882989783292, 'joy': 0, 'sadness': 0, 'anger': 0.003208301081869947, 'surprise': 0.01909856357184311, 'fear': 0.008077610864227973}\n",
        "92"
       ]
      },
      {
       "output_type": "stream",
       "stream": "stdout",
       "text": [
        " : long : {'love': 0.010653882989783292, 'joy': 0, 'sadness': 0, 'anger': 0.003208301081869947, 'surprise': 0.01909856357184311, 'fear': 0.012447086016323411}\n",
        "92"
       ]
      },
      {
       "output_type": "stream",
       "stream": "stdout",
       "text": [
        " : chorus : {'love': 0.010653882989783292, 'joy': 0.013987435694037525, 'sadness': 0, 'anger': 0.003208301081869947, 'surprise': 0.01909856357184311, 'fear': 0.012447086016323411}\n",
        "92"
       ]
      },
      {
       "output_type": "stream",
       "stream": "stdout",
       "text": [
        " : dear : {'love': 0.010653882989783292, 'joy': 0.013987435694037525, 'sadness': 0, 'anger': 0.003208301081869947, 'surprise': 0.01909856357184311, 'fear': 0.014810740351946305}\n",
        "92"
       ]
      },
      {
       "output_type": "stream",
       "stream": "stdout",
       "text": [
        " : wrong : {'love': 0.010653882989783292, 'joy': 0.013987435694037525, 'sadness': 0, 'anger': 0.006767617238173758, 'surprise': 0.01909856357184311, 'fear': 0.014810740351946305}\n",
        "92"
       ]
      },
      {
       "output_type": "stream",
       "stream": "stdout",
       "text": [
        " : concentrate : {'love': 0.010653882989783292, 'joy': 0.013987435694037525, 'sadness': 0.003467084782829726, 'anger': 0.006767617238173758, 'surprise': 0.01909856357184311, 'fear': 0.014810740351946305}\n",
        "92"
       ]
      },
      {
       "output_type": "stream",
       "stream": "stdout",
       "text": [
        " : know : {'love': 0.019428793765098668, 'joy': 0.013987435694037525, 'sadness': 0.003467084782829726, 'anger': 0.006767617238173758, 'surprise': 0.01909856357184311, 'fear': 0.014810740351946305}\n",
        "92"
       ]
      },
      {
       "output_type": "stream",
       "stream": "stdout",
       "text": [
        " : lover : {'love': 0.05444864984125673, 'joy': 0.013987435694037525, 'sadness': 0.003467084782829726, 'anger': 0.006767617238173758, 'surprise': 0.01909856357184311, 'fear': 0.014810740351946305}\n",
        "92"
       ]
      },
      {
       "output_type": "stream",
       "stream": "stdout",
       "text": [
        " : baby : {'love': 0.06642153350104367, 'joy': 0.013987435694037525, 'sadness': 0.003467084782829726, 'anger': 0.006767617238173758, 'surprise': 0.01909856357184311, 'fear': 0.014810740351946305}\n",
        "92"
       ]
      },
      {
       "output_type": "stream",
       "stream": "stdout",
       "text": [
        " : got : {'love': 0.06642153350104367, 'joy': 0.013987435694037525, 'sadness': 0.003467084782829726, 'anger': 0.007032252639257873, 'surprise': 0.01909856357184311, 'fear': 0.014810740351946305}\n",
        "92"
       ]
      },
      {
       "output_type": "stream",
       "stream": "stdout",
       "text": [
        " : girl : {'love': 0.07547707089449128, 'joy': 0.013987435694037525, 'sadness': 0.003467084782829726, 'anger': 0.007032252639257873, 'surprise': 0.01909856357184311, 'fear': 0.014810740351946305}\n",
        "92"
       ]
      },
      {
       "output_type": "stream",
       "stream": "stdout",
       "text": [
        " : strong : {'love': 0.07547707089449128, 'joy': 0.013987435694037525, 'sadness': 0.003467084782829726, 'anger': 0.011040605212369447, 'surprise': 0.01909856357184311, 'fear': 0.014810740351946305}\n",
        "92"
       ]
      },
      {
       "output_type": "stream",
       "stream": "stdout",
       "text": [
        " : youll : {'love': 0.07547707089449128, 'joy': 0.013987435694037525, 'sadness': 0.003467084782829726, 'anger': 0.011040605212369447, 'surprise': 0.01909856357184311, 'fear': 0.014810740351946305}\n",
        "92"
       ]
      },
      {
       "output_type": "stream",
       "stream": "stdout",
       "text": [
        " : headaches : {'love': 0.07547707089449128, 'joy': 0.013987435694037525, 'sadness': 0.005917554009364759, 'anger': 0.011040605212369447, 'surprise': 0.01909856357184311, 'fear': 0.014810740351946305}\n",
        "93"
       ]
      },
      {
       "output_type": "stream",
       "stream": "stdout",
       "text": [
        " : undress : {'love': 0, 'joy': 0, 'sadness': 0, 'anger': 0, 'surprise': 0, 'fear': 0.004974802654375974}\n",
        "93"
       ]
      },
      {
       "output_type": "stream",
       "stream": "stdout",
       "text": [
        " : ken : {'love': 0.0, 'joy': 0, 'sadness': 0, 'anger': 0, 'surprise': 0, 'fear': 0.004974802654375974}\n",
        "93"
       ]
      },
      {
       "output_type": "stream",
       "stream": "stdout",
       "text": [
        " : fantastic : {'love': 0.0, 'joy': 0, 'sadness': 0, 'anger': 0, 'surprise': 0.009320530892761561, 'fear': 0.004974802654375974}\n",
        "93"
       ]
      },
      {
       "output_type": "stream",
       "stream": "stdout",
       "text": [
        " : let : {'love': 0.013776820877725778, 'joy': 0, 'sadness': 0, 'anger': 0, 'surprise': 0.009320530892761561, 'fear': 0.004974802654375974}\n",
        "93"
       ]
      },
      {
       "output_type": "stream",
       "stream": "stdout",
       "text": [
        " : barbie : {'love': 0.013776820877725778, 'joy': 0, 'sadness': 0, 'anger': 0, 'surprise': 0.009320530892761561, 'fear': 0.004974802654375974}\n",
        "93"
       ]
      },
      {
       "output_type": "stream",
       "stream": "stdout",
       "text": [
        " : come : {'love': 0.013776820877725778, 'joy': 0, 'sadness': 0, 'anger': 0, 'surprise': 0.009320530892761561, 'fear': 0.012650796823919886}\n",
        "93"
       ]
      },
      {
       "output_type": "stream",
       "stream": "stdout",
       "text": [
        " : creation : {'love': 0.013776820877725778, 'joy': 0.008027260119670131, 'sadness': 0, 'anger': 0, 'surprise': 0.009320530892761561, 'fear': 0.012650796823919886}\n",
        "93"
       ]
      },
      {
       "output_type": "stream",
       "stream": "stdout",
       "text": [
        " : life : {'love': 0.02869268118210458, 'joy': 0.008027260119670131, 'sadness': 0, 'anger': 0, 'surprise': 0.009320530892761561, 'fear': 0.012650796823919886}\n",
        "93"
       ]
      },
      {
       "output_type": "stream",
       "stream": "stdout",
       "text": [
        " : ooh : {'love': 0.02869268118210458, 'joy': 0.008027260119670131, 'sadness': 0, 'anger': 0, 'surprise': 0.009320530892761561, 'fear': 0.012650796823919886}\n",
        "93"
       ]
      },
      {
       "output_type": "stream",
       "stream": "stdout",
       "text": [
        " : bimbo : {'love': 0.03253802172813576, 'joy': 0.008027260119670131, 'sadness': 0, 'anger': 0, 'surprise': 0.009320530892761561, 'fear': 0.012650796823919886}\n",
        "93"
       ]
      },
      {
       "output_type": "stream",
       "stream": "stdout",
       "text": [
        " : plastic : {'love': 0.03253802172813576, 'joy': 0.008027260119670131, 'sadness': 0.0053994769926306654, 'anger': 0, 'surprise': 0.009320530892761561, 'fear': 0.012650796823919886}\n",
        "93"
       ]
      },
      {
       "output_type": "stream",
       "stream": "stdout",
       "text": [
        " : hair : {'love': 0.03253802172813576, 'joy': 0.008027260119670131, 'sadness': 0.0053994769926306654, 'anger': 0.00363311462633213, 'surprise': 0.009320530892761561, 'fear': 0.012650796823919886}\n",
        "93"
       ]
      },
      {
       "output_type": "stream",
       "stream": "stdout",
       "text": [
        " : imagination : {'love': 0.03253802172813576, 'joy': 0.008027260119670131, 'sadness': 0.0053994769926306654, 'anger': 0.00363311462633213, 'surprise': 0.009320530892761561, 'fear': 0.029991980039454982}\n",
        "93"
       ]
      },
      {
       "output_type": "stream",
       "stream": "stdout",
       "text": [
        " : everywhere : {'love': 0.043950375152128233, 'joy': 0.008027260119670131, 'sadness': 0.0053994769926306654, 'anger': 0.00363311462633213, 'surprise': 0.009320530892761561, 'fear': 0.029991980039454982}\n",
        "93"
       ]
      },
      {
       "output_type": "stream",
       "stream": "stdout",
       "text": [
        " : brush : {'love': 0.043950375152128233, 'joy': 0.008027260119670131, 'sadness': 0.0053994769926306654, 'anger': 0.00363311462633213, 'surprise': 0.009320530892761561, 'fear': 0.033422082658100496}\n",
        "93"
       ]
      },
      {
       "output_type": "stream",
       "stream": "stdout",
       "text": [
        " : world : {'love': 0.05036609733671271, 'joy': 0.008027260119670131, 'sadness': 0.0053994769926306654, 'anger': 0.00363311462633213, 'surprise': 0.009320530892761561, 'fear': 0.033422082658100496}\n",
        "93"
       ]
      },
      {
       "output_type": "stream",
       "stream": "stdout",
       "text": [
        " : touch : {'love': 0.0574078063380505, 'joy': 0.008027260119670131, 'sadness': 0.0053994769926306654, 'anger': 0.00363311462633213, 'surprise': 0.009320530892761561, 'fear': 0.033422082658100496}\n",
        "93"
       ]
      },
      {
       "output_type": "stream",
       "stream": "stdout",
       "text": [
        " : party : {'love': 0.0685160013100514, 'joy': 0.008027260119670131, 'sadness': 0.0053994769926306654, 'anger': 0.00363311462633213, 'surprise': 0.009320530892761561, 'fear': 0.033422082658100496}\n",
        "93"
       ]
      },
      {
       "output_type": "stream",
       "stream": "stdout",
       "text": [
        " : girl : {'love': 0.07549121254554482, 'joy': 0.008027260119670131, 'sadness': 0.0053994769926306654, 'anger': 0.00363311462633213, 'surprise': 0.009320530892761561, 'fear': 0.033422082658100496}\n",
        "93"
       ]
      },
      {
       "output_type": "stream",
       "stream": "stdout",
       "text": [
        " : woa : {'love': 0.07549121254554482, 'joy': 0.008027260119670131, 'sadness': 0.0053994769926306654, 'anger': 0.00363311462633213, 'surprise': 0.009320530892761561, 'fear': 0.033422082658100496}\n",
        "95"
       ]
      },
      {
       "output_type": "stream",
       "stream": "stdout",
       "text": [
        " : mercy : {'love': 0.011656878564571767, 'joy': 0, 'sadness': 0, 'anger': 0, 'surprise': 0, 'fear': 0}\n",
        "Error in getting similarity for"
       ]
      },
      {
       "output_type": "stream",
       "stream": "stdout",
       "text": [
        " ladies and fear\n",
        "95 : ladies : {'love': 0.01660203690188565, 'joy': 0, 'sadness': 0, 'anger': 0, 'surprise': 0, 'fear': 0}\n",
        "95"
       ]
      },
      {
       "output_type": "stream",
       "stream": "stdout",
       "text": [
        " : noise : {'love': 0.01660203690188565, 'joy': 0, 'sadness': 0, 'anger': 0, 'surprise': 0, 'fear': 0.005048358768501785}\n",
        "95"
       ]
      },
      {
       "output_type": "stream",
       "stream": "stdout",
       "text": [
        " : help : {'love': 0.018803587713473912, 'joy': 0, 'sadness': 0, 'anger': 0, 'surprise': 0, 'fear': 0.005048358768501785}\n",
        "95"
       ]
      },
      {
       "output_type": "stream",
       "stream": "stdout",
       "text": [
        " : crowd : {'love': 0.018803587713473912, 'joy': 0.012988890985352762, 'sadness': 0, 'anger': 0, 'surprise': 0, 'fear': 0.005048358768501785}\n",
        "95"
       ]
      },
      {
       "output_type": "stream",
       "stream": "stdout",
       "text": [
        " : dime : {'love': 0.018803587713473912, 'joy': 0.012988890985352762, 'sadness': 0, 'anger': 8.623654686467103e-05, 'surprise': 0, 'fear': 0.005048358768501785}\n",
        "95"
       ]
      },
      {
       "output_type": "stream",
       "stream": "stdout",
       "text": [
        " : clear : {'love': 0.018803587713473912, 'joy': 0.012988890985352762, 'sadness': 0, 'anger': 8.623654686467103e-05, 'surprise': 0.0025402629445713523, 'fear': 0.005048358768501785}\n",
        "Error in getting similarity for"
       ]
      },
      {
       "output_type": "stream",
       "stream": "stdout",
       "text": [
        " bay and joy\n",
        "95"
       ]
      },
      {
       "output_type": "stream",
       "stream": "stdout",
       "text": [
        " : bay : {'love': 0.018803587713473912, 'joy': 0.012988890985352762, 'sadness': 0, 'anger': 8.623654686467103e-05, 'surprise': 0.0025402629445713523, 'fear': 0.006538840463372419}\n",
        "95"
       ]
      },
      {
       "output_type": "stream",
       "stream": "stdout",
       "text": [
        " : huh : {'love': 0.018803587713473912, 'joy': 0.012988890985352762, 'sadness': 0, 'anger': 8.623654686467103e-05, 'surprise': 0.0025402629445713523, 'fear': 0.006538840463372419}\n",
        "95"
       ]
      },
      {
       "output_type": "stream",
       "stream": "stdout",
       "text": [
        " : hey : {'love': 0.018803587713473912, 'joy': 0.012988890985352762, 'sadness': 0, 'anger': 8.623654686467103e-05, 'surprise': 0.0025402629445713523, 'fear': 0.006538840463372419}\n",
        "95"
       ]
      },
      {
       "output_type": "stream",
       "stream": "stdout",
       "text": [
        " : freeze : {'love': 0.018803587713473912, 'joy': 0.012988890985352762, 'sadness': 0, 'anger': 8.623654686467103e-05, 'surprise': 0.0025402629445713523, 'fear': 0.03364546463465539}\n",
        "95"
       ]
      },
      {
       "output_type": "stream",
       "stream": "stdout",
       "text": [
        " : dedication : {'love': 0.026537092385670456, 'joy': 0.012988890985352762, 'sadness': 0, 'anger': 8.623654686467103e-05, 'surprise': 0.0025402629445713523, 'fear': 0.03364546463465539}\n",
        "95"
       ]
      },
      {
       "output_type": "stream",
       "stream": "stdout",
       "text": [
        " : say : {'love': 0.026537092385670456, 'joy': 0.012988890985352762, 'sadness': 0, 'anger': 8.623654686467103e-05, 'surprise': 0.0025402629445713523, 'fear': 0.040250896997198395}\n",
        "95"
       ]
      },
      {
       "output_type": "stream",
       "stream": "stdout",
       "text": [
        " : going : {'love': 0.030932991957774193, 'joy': 0.012988890985352762, 'sadness': 0, 'anger': 8.623654686467103e-05, 'surprise': 0.0025402629445713523, 'fear': 0.040250896997198395}\n",
        "95"
       ]
      },
      {
       "output_type": "stream",
       "stream": "stdout",
       "text": [
        " : damn : {'love': 0.030932991957774193, 'joy': 0.012988890985352762, 'sadness': 0, 'anger': 8.623654686467103e-05, 'surprise': 0.0025402629445713523, 'fear': 0.040250896997198395}\n",
        "95"
       ]
      },
      {
       "output_type": "stream",
       "stream": "stdout",
       "text": [
        " : lemme : {'love': 0.030932991957774193, 'joy': 0.012988890985352762, 'sadness': 0, 'anger': 8.623654686467103e-05, 'surprise': 0.0025402629445713523, 'fear': 0.040250896997198395}\n",
        "95"
       ]
      },
      {
       "output_type": "stream",
       "stream": "stdout",
       "text": [
        " : throat : {'love': 0.030932991957774193, 'joy': 0.012988890985352762, 'sadness': 0, 'anger': 0.002193646747908855, 'surprise': 0.0025402629445713523, 'fear': 0.040250896997198395}\n",
        "95"
       ]
      },
      {
       "output_type": "stream",
       "stream": "stdout",
       "text": [
        " : party : {'love': 0.03309427090938173, 'joy': 0.012988890985352762, 'sadness': 0, 'anger': 0.002193646747908855, 'surprise': 0.0025402629445713523, 'fear': 0.040250896997198395}\n",
        "95"
       ]
      },
      {
       "output_type": "stream",
       "stream": "stdout",
       "text": [
        " : jam : {'love': 0.03309427090938173, 'joy': 0.013760263484021776, 'sadness': 0, 'anger': 0.002193646747908855, 'surprise': 0.0025402629445713523, 'fear': 0.040250896997198395}\n",
        "95"
       ]
      },
      {
       "output_type": "stream",
       "stream": "stdout",
       "text": [
        " : special : {'love': 0.03309427090938173, 'joy': 0.013760263484021776, 'sadness': 0, 'anger': 0.002193646747908855, 'surprise': 0.008233724397280187, 'fear': 0.040250896997198395}\n",
        "98"
       ]
      },
      {
       "output_type": "stream",
       "stream": "stdout",
       "text": [
        " : longing : {'love': 0, 'joy': 0, 'sadness': 0.07896608122452074, 'anger': 0, 'surprise': 0, 'fear': 0}\n",
        "98"
       ]
      },
      {
       "output_type": "stream",
       "stream": "stdout",
       "text": [
        " : passions : {'love': 0.047628409794448, 'joy': 0, 'sadness': 0.07896608122452074, 'anger': 0, 'surprise': 0, 'fear': 0}\n",
        "98"
       ]
      },
      {
       "output_type": "stream",
       "stream": "stdout",
       "text": [
        " : changed : {'love': 0.047628409794448, 'joy': 0, 'sadness': 0.07896608122452074, 'anger': 0, 'surprise': 0.004632460390418394, 'fear': 0}\n",
        "98"
       ]
      },
      {
       "output_type": "stream",
       "stream": "stdout",
       "text": [
        " : love : {'love': 0.11558851859817026, 'joy': 0, 'sadness': 0.07896608122452074, 'anger': 0, 'surprise': 0.004632460390418394, 'fear': 0}\n",
        "98"
       ]
      },
      {
       "output_type": "stream",
       "stream": "stdout",
       "text": [
        " : intended : {'love': 0.12033878524570316, 'joy': 0, 'sadness': 0.07896608122452074, 'anger': 0, 'surprise': 0.004632460390418394, 'fear': 0}\n",
        "98"
       ]
      },
      {
       "output_type": "stream",
       "stream": "stdout",
       "text": [
        " : things : {'love': 0.132626616193893, 'joy': 0, 'sadness': 0.07896608122452074, 'anger': 0, 'surprise': 0.004632460390418394, 'fear': 0}\n",
        "98"
       ]
      },
      {
       "output_type": "stream",
       "stream": "stdout",
       "text": [
        " : scared : {'love': 0.132626616193893, 'joy': 0, 'sadness': 0.07896608122452074, 'anger': 0, 'surprise': 0.004632460390418394, 'fear': 0.0738577068963963}\n",
        "98"
       ]
      },
      {
       "output_type": "stream",
       "stream": "stdout",
       "text": [
        " : concealing : {'love': 0.132626616193893, 'joy': 0, 'sadness': 0.10441725356100477, 'anger': 0, 'surprise': 0.004632460390418394, 'fear': 0.0738577068963963}\n",
        "98"
       ]
      },
      {
       "output_type": "stream",
       "stream": "stdout",
       "text": [
        " : certainties : {'love': 0.132626616193893, 'joy': 0, 'sadness': 0.10441725356100477, 'anger': 0, 'surprise': 0.01627505465568664, 'fear': 0.0738577068963963}\n",
        "98"
       ]
      },
      {
       "output_type": "stream",
       "stream": "stdout",
       "text": [
        " : use : {'love': 0.132626616193893, 'joy': 0, 'sadness': 0.10784959211663969, 'anger': 0, 'surprise': 0.01627505465568664, 'fear': 0.0738577068963963}\n",
        "98"
       ]
      },
      {
       "output_type": "stream",
       "stream": "stdout",
       "text": [
        " : deep : {'love': 0.132626616193893, 'joy': 0, 'sadness': 0.11149546905680957, 'anger': 0, 'surprise': 0.01627505465568664, 'fear': 0.0738577068963963}\n",
        "98"
       ]
      },
      {
       "output_type": "stream",
       "stream": "stdout",
       "text": [
        " : isn : {'love': 0.132626616193893, 'joy': 0, 'sadness': 0.11149546905680957, 'anger': 0, 'surprise': 0.01627505465568664, 'fear': 0.0738577068963963}\n",
        "98"
       ]
      },
      {
       "output_type": "stream",
       "stream": "stdout",
       "text": [
        " : slip : {'love': 0.132626616193893, 'joy': 0, 'sadness': 0.11149546905680957, 'anger': 0, 'surprise': 0.01627505465568664, 'fear': 0.08359916665118908}\n",
        "98"
       ]
      },
      {
       "output_type": "stream",
       "stream": "stdout",
       "text": [
        " : believed : {'love': 0.132626616193893, 'joy': 0, 'sadness': 0.11149546905680957, 'anger': 0, 'surprise': 0.01627505465568664, 'fear': 0.11533315678033099}\n",
        "98"
       ]
      },
      {
       "output_type": "stream",
       "stream": "stdout",
       "text": [
        " : survive : {'love': 0.1371737790105365, 'joy': 0, 'sadness': 0.11149546905680957, 'anger': 0, 'surprise': 0.01627505465568664, 'fear': 0.11533315678033099}\n",
        "98"
       ]
      },
      {
       "output_type": "stream",
       "stream": "stdout",
       "text": [
        " : feeling : {'love': 0.1371737790105365, 'joy': 0, 'sadness': 0.11149546905680957, 'anger': 0, 'surprise': 0.01627505465568664, 'fear': 0.1720762078449754}\n",
        "98"
       ]
      },
      {
       "output_type": "stream",
       "stream": "stdout",
       "text": [
        " : frightened : {'love': 0.1371737790105365, 'joy': 0, 'sadness': 0.11149546905680957, 'anger': 0, 'surprise': 0.01627505465568664, 'fear': 0.2653181801965723}\n",
        "98"
       ]
      },
      {
       "output_type": "stream",
       "stream": "stdout",
       "text": [
        " : confess : {'love': 0.1371737790105365, 'joy': 0, 'sadness': 0.11149546905680957, 'anger': 0, 'surprise': 0.03410144174140342, 'fear': 0.2653181801965723}\n",
        "98"
       ]
      },
      {
       "output_type": "stream",
       "stream": "stdout",
       "text": [
        " : disappear : {'love': 0.1371737790105365, 'joy': 0, 'sadness': 0.11149546905680957, 'anger': 0, 'surprise': 0.03410144174140342, 'fear': 0.27182187388950124}\n",
        "98"
       ]
      },
      {
       "output_type": "stream",
       "stream": "stdout",
       "text": [
        " : must : {'love': 0.1371737790105365, 'joy': 0, 'sadness': 0.11149546905680957, 'anger': 0, 'surprise': 0.03410144174140342, 'fear': 0.27182187388950124}\n",
        "99"
       ]
      },
      {
       "output_type": "stream",
       "stream": "stdout",
       "text": [
        " : guess : {'love': 0, 'joy': 0, 'sadness': 0, 'anger': 0, 'surprise': 0.006466692397952829, 'fear': 0}\n",
        "99"
       ]
      },
      {
       "output_type": "stream",
       "stream": "stdout",
       "text": [
        " : repeat : {'love': 0, 'joy': 0, 'sadness': 0, 'anger': 0, 'surprise': 0.008926759581835747, 'fear': 0}\n",
        "99"
       ]
      },
      {
       "output_type": "stream",
       "stream": "stdout",
       "text": [
        " : invades : {'love': 0, 'joy': 0, 'sadness': 0, 'anger': 0, 'surprise': 0.010633719872617542, 'fear': 0}\n",
        "99"
       ]
      },
      {
       "output_type": "stream",
       "stream": "stdout",
       "text": [
        " : relax : {'love': 0, 'joy': 0, 'sadness': 0.003739754652287108, 'anger': 0, 'surprise': 0.010633719872617542, 'fear': 0}\n",
        "99"
       ]
      },
      {
       "output_type": "stream",
       "stream": "stdout",
       "text": [
        " : stevie : {'love': 0.0, 'joy': 0, 'sadness': 0.003739754652287108, 'anger': 0, 'surprise': 0.010633719872617542, 'fear': 0}\n",
        "99"
       ]
      },
      {
       "output_type": "stream",
       "stream": "stdout",
       "text": [
        " : huh : {'love': 0.0, 'joy': 0, 'sadness': 0.003739754652287108, 'anger': 0, 'surprise': 0.010633719872617542, 'fear': 0}\n",
        "99"
       ]
      },
      {
       "output_type": "stream",
       "stream": "stdout",
       "text": [
        " : gotta : {'love': 0.0, 'joy': 0, 'sadness': 0.003739754652287108, 'anger': 0, 'surprise': 0.010633719872617542, 'fear': 0}\n",
        "99"
       ]
      },
      {
       "output_type": "stream",
       "stream": "stdout",
       "text": [
        " : floor : {'love': 0.0, 'joy': 0, 'sadness': 0.003739754652287108, 'anger': 0.0007504256364347891, 'surprise': 0.010633719872617542, 'fear': 0}\n",
        "99"
       ]
      },
      {
       "output_type": "stream",
       "stream": "stdout",
       "text": [
        " : stop : {'love': 0.0, 'joy': 0, 'sadness': 0.003739754652287108, 'anger': 0.0007504256364347891, 'surprise': 0.010633719872617542, 'fear': 0.006078845175872296}\n",
        "99"
       ]
      },
      {
       "output_type": "stream",
       "stream": "stdout",
       "text": [
        " : yeah : {'love': 0.0, 'joy': 0, 'sadness': 0.003739754652287108, 'anger': 0.0007504256364347891, 'surprise': 0.010633719872617542, 'fear': 0.006078845175872296}\n",
        "99"
       ]
      },
      {
       "output_type": "stream",
       "stream": "stdout",
       "text": [
        " : nothin : {'love': 0.0, 'joy': 0, 'sadness': 0.003739754652287108, 'anger': 0.0007504256364347891, 'surprise': 0.010633719872617542, 'fear': 0.006078845175872296}\n",
        "Error in getting similarity for"
       ]
      },
      {
       "output_type": "stream",
       "stream": "stdout",
       "text": [
        " two and surprise\n",
        "99"
       ]
      },
      {
       "output_type": "stream",
       "stream": "stdout",
       "text": [
        " : two : {'love': 0.0, 'joy': 0, 'sadness': 0.003739754652287108, 'anger': 0.0007504256364347891, 'surprise': 0.010633719872617542, 'fear': 0.006078845175872296}\n",
        "99"
       ]
      },
      {
       "output_type": "stream",
       "stream": "stdout",
       "text": [
        " : better : {'love': 0.018283171416817887, 'joy': 0, 'sadness': 0.003739754652287108, 'anger': 0.0007504256364347891, 'surprise': 0.010633719872617542, 'fear': 0.006078845175872296}\n",
        "Error in getting similarity for"
       ]
      },
      {
       "output_type": "stream",
       "stream": "stdout",
       "text": [
        " remedy and fear\n",
        "99 : remedy : {'love': 0.018283171416817887, 'joy': 0, 'sadness': 0.003739754652287108, 'anger': 0.0022879625949233547, 'surprise': 0.010633719872617542, 'fear': 0.006078845175872296}\n",
        "99"
       ]
      },
      {
       "output_type": "stream",
       "stream": "stdout",
       "text": [
        " : boogey : {'love': 0.018283171416817887, 'joy': 0, 'sadness': 0.003739754652287108, 'anger': 0.0022879625949233547, 'surprise': 0.010633719872617542, 'fear': 0.006078845175872296}\n",
        "99"
       ]
      },
      {
       "output_type": "stream",
       "stream": "stdout",
       "text": [
        " : let : {'love': 0.035404289270968704, 'joy': 0, 'sadness': 0.003739754652287108, 'anger': 0.0022879625949233547, 'surprise': 0.010633719872617542, 'fear': 0.006078845175872296}\n",
        "99"
       ]
      },
      {
       "output_type": "stream",
       "stream": "stdout",
       "text": [
        " : insist : {'love': 0.035404289270968704, 'joy': 0, 'sadness': 0.003739754652287108, 'anger': 0.0022879625949233547, 'surprise': 0.010633719872617542, 'fear': 0.05122618723002596}\n",
        "99"
       ]
      },
      {
       "output_type": "stream",
       "stream": "stdout",
       "text": [
        " : rock : {'love': 0.03905792144459982, 'joy': 0, 'sadness': 0.003739754652287108, 'anger': 0.0022879625949233547, 'surprise': 0.010633719872617542, 'fear': 0.05122618723002596}\n",
        "99"
       ]
      },
      {
       "output_type": "stream",
       "stream": "stdout",
       "text": [
        " : hostility : {'love': 0.03905792144459982, 'joy': 0, 'sadness': 0.003739754652287108, 'anger': 0.019191484785769715, 'surprise': 0.010633719872617542, 'fear': 0.05122618723002596}\n",
        "99"
       ]
      },
      {
       "output_type": "stream",
       "stream": "stdout",
       "text": [
        " : missed : {'love': 0.044442404894938975, 'joy': 0, 'sadness': 0.003739754652287108, 'anger': 0.019191484785769715, 'surprise': 0.010633719872617542, 'fear': 0.05122618723002596}\n",
        "{0: {'anger': 0, 'fear': 0, 'joy': 0, 'love': 0, 'sadness': 0, 'surprise': 0},\n",
        " 1: {'anger': 0, 'fear': 0, 'joy': 0, 'love': 0, 'sadness': 0, 'surprise': 0},\n",
        " 2: {'anger': 0.0009563388243378794,\n",
        "     'fear': 0.007787120009034583,\n",
        "     'joy': 0.00473878076136407,\n",
        "     'love': 0.04967179322366218,\n",
        "     'sadness': 0,\n",
        "     'surprise': 0.011282437457536659},\n",
        " 3: {'anger': 0.004799999757891168,\n",
        "     'fear': 0.06654248189536607,\n",
        "     'joy': 0.030535049479571197,\n",
        "     'love': 0.09747635705871333,\n",
        "     'sadness': 0.038757537778097685,\n",
        "     'surprise': 0.011822845140104787},\n",
        " 4: {'anger': 0.022578019258890778,\n",
        "     'fear': 0.006643330741553972,\n",
        "     'joy': 0,\n",
        "     'love': 0.02424091742820036,\n",
        "     'sadness': 0,\n",
        "     'surprise': 0.00304373168199476},\n",
        " 5: {'anger': 0.0018436564653041886,\n",
        "     'fear': 0.08419984745545202,\n",
        "     'joy': 0.006122489427802532,\n",
        "     'love': 0.040093416788990754,\n",
        "     'sadness': 0,\n",
        "     'surprise': 0.02135218033360517},\n",
        " 6: {'anger': 0.008486241961289569,\n",
        "     'fear': 0.006810798772473349,\n",
        "     'joy': 0.011923745524963173,\n",
        "     'love': 0.1288264227693125,\n",
        "     'sadness': 0.004066466063238842,\n",
        "     'surprise': 0.02544001193916851},\n",
        " 7: {'anger': 0.010361213550654422,\n",
        "     'fear': 0.019756189115740435,\n",
        "     'joy': 0.04643756737695992,\n",
        "     'love': 0.027865530192551027,\n",
        "     'sadness': 0.0014972391387524273,\n",
        "     'surprise': 0.00711046675183539},\n",
        " 8: {'anger': 0.002577356487210957,\n",
        "     'fear': 0.008443185222534299,\n",
        "     'joy': 0,\n",
        "     'love': 0.16417130339674663,\n",
        "     'sadness': 0,\n",
        "     'surprise': 0.005213193895057335},\n",
        " 9: {'anger': 0.014838550802822282,\n",
        "     'fear': 0.003515670296783021,\n",
        "     'joy': 0,\n",
        "     'love': 0.23089377861201596,\n",
        "     'sadness': 0,\n",
        "     'surprise': 0.011442315997820517},\n",
        " 10: {'anger': 0.02687027709379229,\n",
        "      'fear': 0.011560204333269267,\n",
        "      'joy': 0.004642009644667287,\n",
        "      'love': 0.17400742033266917,\n",
        "      'sadness': 0,\n",
        "      'surprise': 0},\n",
        " 11: {'anger': 0.005540868337449955,\n",
        "      'fear': 0.010213937853073111,\n",
        "      'joy': 0,\n",
        "      'love': 0.04629708976005816,\n",
        "      'sadness': 0,\n",
        "      'surprise': 0.013281017041094266},\n",
        " 12: {'anger': 0.016461801557178836,\n",
        "      'fear': 0.006279115883900731,\n",
        "      'joy': 0.019832101768319815,\n",
        "      'love': 0.0802930495572996,\n",
        "      'sadness': 0,\n",
        "      'surprise': 0.008817594858408209},\n",
        " 13: {'anger': 0.007350259510187527,\n",
        "      'fear': 0.02133245600044697,\n",
        "      'joy': 0.011266475329949602,\n",
        "      'love': 0.08878043205404496,\n",
        "      'sadness': 0.0008975648753794444,\n",
        "      'surprise': 0.012575583102778442},\n",
        " 14: {'anger': 0,\n",
        "      'fear': 0.022576934202996612,\n",
        "      'joy': 0.023137607574659835,\n",
        "      'love': 0.1359588007245483,\n",
        "      'sadness': 0.005682451146744166,\n",
        "      'surprise': 0.03626320041482527},\n",
        " 15: {'anger': 0.0014013998810827638,\n",
        "      'fear': 0.027987339640721875,\n",
        "      'joy': 0,\n",
        "      'love': 0.1706428812864074,\n",
        "      'sadness': 0,\n",
        "      'surprise': 0},\n",
        " 16: {'anger': 0.002683878117020335,\n",
        "      'fear': 0.004790082785941592,\n",
        "      'joy': 0.014652788810075625,\n",
        "      'love': 0.040072821145302986,\n",
        "      'sadness': 0,\n",
        "      'surprise': 0.01739515879057202},\n",
        " 17: {'anger': 0.011850918461122054,\n",
        "      'fear': 0.03572030286072779,\n",
        "      'joy': 0.015281511171955524,\n",
        "      'love': 0.042751412958397635,\n",
        "      'sadness': 0,\n",
        "      'surprise': 0.031838565108928144},\n",
        " 18: {'anger': 0.006901118463023875,\n",
        "      'fear': 0.039444955198831115,\n",
        "      'joy': 0.013172518577894247,\n",
        "      'love': 0.1399830499026884,\n",
        "      'sadness': 0.005633055448257083,\n",
        "      'surprise': 0.003930989903852005},\n",
        " 19: {'anger': 0,\n",
        "      'fear': 0.018798539132813572,\n",
        "      'joy': 0,\n",
        "      'love': 0.027952908974810668,\n",
        "      'sadness': 0,\n",
        "      'surprise': 0.00953292621406404},\n",
        " 20: {'anger': 0.0008573176602292795,\n",
        "      'fear': 0.023702789429236457,\n",
        "      'joy': 0,\n",
        "      'love': 0.08026189308129865,\n",
        "      'sadness': 0.04543701970658353,\n",
        "      'surprise': 0.030444021299984816},\n",
        " 21: {'anger': 0,\n",
        "      'fear': 0.00202214457554372,\n",
        "      'joy': 0,\n",
        "      'love': 0.07128598368566663,\n",
        "      'sadness': 0.003684488842834045,\n",
        "      'surprise': 0.02907686477356253},\n",
        " 22: {'anger': 0, 'fear': 0, 'joy': 0, 'love': 0, 'sadness': 0, 'surprise': 0},\n",
        " 23: {'anger': 0,\n",
        "      'fear': 0.006272364778448983,\n",
        "      'joy': 0.020878880369625895,\n",
        "      'love': 0.11888065455693277,\n",
        "      'sadness': 0.0035020813102896254,\n",
        "      'surprise': 0.014269470092218142},\n",
        " 24: {'anger': 0, 'fear': 0, 'joy': 0, 'love': 0, 'sadness': 0, 'surprise': 0},\n",
        " 25: {'anger': 0.000224857906014329,\n",
        "      'fear': 0.05006285253664302,\n",
        "      'joy': 0.0016085585151693151,\n",
        "      'love': 0.1379511538732922,\n",
        "      'sadness': 0,\n",
        "      'surprise': 0.022827932470021354},\n",
        " 26: {'anger': 0.003952227680051635,\n",
        "      'fear': 0.007983302558204206,\n",
        "      'joy': 0.00517716775688402,\n",
        "      'love': 0.06951934468294321,\n",
        "      'sadness': 0,\n",
        "      'surprise': 0.021570180828677007},\n",
        " 27: {'anger': 0, 'fear': 0, 'joy': 0, 'love': 0, 'sadness': 0, 'surprise': 0},\n",
        " 28: {'anger': 0.0001379128490221218,\n",
        "      'fear': 0.004306035272197134,\n",
        "      'joy': 0.0038522508705802496,\n",
        "      'love': 0.10160752643436909,\n",
        "      'sadness': 0.007595344951611841,\n",
        "      'surprise': 0.004371932698050424},\n",
        " 29: {'anger': 0.0050548622636375955,\n",
        "      'fear': 0.03749714066608449,\n",
        "      'joy': 0.005496179211326126,\n",
        "      'love': 0.027081656556374234,\n",
        "      'sadness': 0.013387512599757291,\n",
        "      'surprise': 0.02259183683025749},\n",
        " 30: {'anger': 0,\n",
        "      'fear': 0.012282312002038928,\n",
        "      'joy': 0.004130144215152259,\n",
        "      'love': 0.05641801590100853,\n",
        "      'sadness': 0,\n",
        "      'surprise': 0.04943777418601414},\n",
        " 31: {'anger': 0,\n",
        "      'fear': 0.011473676896441352,\n",
        "      'joy': 0.026421298190925372,\n",
        "      'love': 0.11483143975578847,\n",
        "      'sadness': 0.01582989328600599,\n",
        "      'surprise': 0.01297238670592602},\n",
        " 32: {'anger': 0.022973419022078428,\n",
        "      'fear': 0.06240523274936533,\n",
        "      'joy': 0.013767555364193515,\n",
        "      'love': 0.1269678761839547,\n",
        "      'sadness': 0,\n",
        "      'surprise': 0.01312216501219841},\n",
        " 33: {'anger': 0,\n",
        "      'fear': 0.028147465523006114,\n",
        "      'joy': 0.005017119938062036,\n",
        "      'love': 0.016834938464985412,\n",
        "      'sadness': 0,\n",
        "      'surprise': 0.044946044016228905},\n",
        " 34: {'anger': 0,\n",
        "      'fear': 0.005052078464618637,\n",
        "      'joy': 0.0027913622893519863,\n",
        "      'love': 0.12524870120843293,\n",
        "      'sadness': 0,\n",
        "      'surprise': 0.0037605767201173484},\n",
        " 35: {'anger': 0.005269069892862857,\n",
        "      'fear': 0.05047531849830761,\n",
        "      'joy': 0.013994181440024733,\n",
        "      'love': 0.04107660147984411,\n",
        "      'sadness': 0,\n",
        "      'surprise': 0.06970534962082042},\n",
        " 36: {'anger': 0,\n",
        "      'fear': 0.027045622394256185,\n",
        "      'joy': 0,\n",
        "      'love': 0.026154256137583872,\n",
        "      'sadness': 0,\n",
        "      'surprise': 0.01937082743909742},\n",
        " 37: {'anger': 0.0007150334638340545,\n",
        "      'fear': 0.011122219271522784,\n",
        "      'joy': 0.02332129429898792,\n",
        "      'love': 0.05267837842315941,\n",
        "      'sadness': 0.017651559120727245,\n",
        "      'surprise': 0.0017711941012705829},\n",
        " 38: {'anger': 0.0052153448613470295,\n",
        "      'fear': 0.047497378730125536,\n",
        "      'joy': 0.009294921402994562,\n",
        "      'love': 0.04351934026987454,\n",
        "      'sadness': 0.03241964583080324,\n",
        "      'surprise': 0.009339579271093516},\n",
        " 39: {'anger': 0, 'fear': 0, 'joy': 0, 'love': 0, 'sadness': 0, 'surprise': 0},\n",
        " 40: {'anger': 0.0060441456926900025,\n",
        "      'fear': 0.030676662283444435,\n",
        "      'joy': 0.015417200518061929,\n",
        "      'love': 0.06754513631218664,\n",
        "      'sadness': 0,\n",
        "      'surprise': 0.002140520040255734},\n",
        " 41: {'anger': 0.027634960968342587,\n",
        "      'fear': 0.02478411131081279,\n",
        "      'joy': 0.00522435749317489,\n",
        "      'love': 0.10130034153790737,\n",
        "      'sadness': 0.00963459699324754,\n",
        "      'surprise': 0.023778368481468925},\n",
        " 42: {'anger': 0.010129901114493207,\n",
        "      'fear': 0.007930666990688617,\n",
        "      'joy': 0.11127268035246135,\n",
        "      'love': 0.054755356461646774,\n",
        "      'sadness': 0.023957428089191327,\n",
        "      'surprise': 0.014352023108035433},\n",
        " 43: {'anger': 0.014184021488740378,\n",
        "      'fear': 0.016009960678425358,\n",
        "      'joy': 0.04071791276760487,\n",
        "      'love': 0.1627344519432599,\n",
        "      'sadness': 0,\n",
        "      'surprise': 0.009798340571325646},\n",
        " 44: {'anger': 0, 'fear': 0, 'joy': 0, 'love': 0, 'sadness': 0, 'surprise': 0},\n",
        " 45: {'anger': 0,\n",
        "      'fear': 0.005908736019074484,\n",
        "      'joy': 0,\n",
        "      'love': 0.031153681327779275,\n",
        "      'sadness': 0.002570253092499992,\n",
        "      'surprise': 0.004360048643419084},\n",
        " 46: {'anger': 0.0006465671065593821,\n",
        "      'fear': 0.004753889336083922,\n",
        "      'joy': 0.0019199978525914693,\n",
        "      'love': 0.020980266078711344,\n",
        "      'sadness': 0,\n",
        "      'surprise': 0.030448777523464574},\n",
        " 47: {'anger': 0.0002013187139348268,\n",
        "      'fear': 0.026422936576326432,\n",
        "      'joy': 0.0014704915230973027,\n",
        "      'love': 0.07597128356263216,\n",
        "      'sadness': 0,\n",
        "      'surprise': 0.026498706466450698},\n",
        " 48: {'anger': 0, 'fear': 0, 'joy': 0, 'love': 0, 'sadness': 0, 'surprise': 0},\n",
        " 49: {'anger': 0, 'fear': 0, 'joy': 0, 'love': 0, 'sadness': 0, 'surprise': 0},\n",
        " 50: {'anger': 0.00012777915066276613,\n",
        "      'fear': 0.01944198915519268,\n",
        "      'joy': 0.00439274839978038,\n",
        "      'love': 0.11699420663254825,\n",
        "      'sadness': 0.006796862897244161,\n",
        "      'surprise': 0.016686292233237594},\n",
        " 51: {'anger': 0.021120483606349646,\n",
        "      'fear': 0.0030702337256830053,\n",
        "      'joy': 0.0040351225316349396,\n",
        "      'love': 0.08302925825818283,\n",
        "      'sadness': 0.07532699275947997,\n",
        "      'surprise': 0.006623580462712338},\n",
        " 52: {'anger': 0, 'fear': 0, 'joy': 0, 'love': 0, 'sadness': 0, 'surprise': 0},\n",
        " 53: {'anger': 0,\n",
        "      'fear': 0.0021759957436740312,\n",
        "      'joy': 0.0034815887972058468,\n",
        "      'love': 0.014792136262362438,\n",
        "      'sadness': 0.0006703791084849916,\n",
        "      'surprise': 0.014094349134669771},\n",
        " 54: {'anger': 0.004389178888653753,\n",
        "      'fear': 0.03839030952130852,\n",
        "      'joy': 0.07205906482626309,\n",
        "      'love': 0.023754529194341827,\n",
        "      'sadness': 0.08583506008437007,\n",
        "      'surprise': 0.004205069743900194},\n",
        " 55: {'anger': 0.0011506223911341366,\n",
        "      'fear': 0.022231732187854358,\n",
        "      'joy': 0.020416285536017865,\n",
        "      'love': 0.09421115607166419,\n",
        "      'sadness': 0,\n",
        "      'surprise': 0.033159399450280645},\n",
        " 56: {'anger': 0,\n",
        "      'fear': 0.006284317546539049,\n",
        "      'joy': 0.14405937357739546,\n",
        "      'love': 0.15050852201485368,\n",
        "      'sadness': 0,\n",
        "      'surprise': 0.030805864111668045},\n",
        " 57: {'anger': 0, 'fear': 0, 'joy': 0, 'love': 0, 'sadness': 0, 'surprise': 0},\n",
        " 58: {'anger': 0, 'fear': 0, 'joy': 0, 'love': 0, 'sadness': 0, 'surprise': 0},\n",
        " 59: {'anger': 0.0005720611969800271,\n",
        "      'fear': 0.04985105240281074,\n",
        "      'joy': 0.011227221603055029,\n",
        "      'love': 0.06551955410921415,\n",
        "      'sadness': 0.00460669957168547,\n",
        "      'surprise': 0.045975632770964676},\n",
        " 60: {'anger': 0.00313634334188128,\n",
        "      'fear': 0.011062820313127079,\n",
        "      'joy': 0.005681765470583292,\n",
        "      'love': 0.022649241714445364,\n",
        "      'sadness': 0.0010195062070777942,\n",
        "      'surprise': 0.009321209138645523},\n",
        " 61: {'anger': 0.022656230187495362,\n",
        "      'fear': 0.010293815028649338,\n",
        "      'joy': 0.026994389780023,\n",
        "      'love': 0.04381660124037097,\n",
        "      'sadness': 0,\n",
        "      'surprise': 0.06932376543989759},\n",
        " 62: {'anger': 0.02714153940430836,\n",
        "      'fear': 0.06327713378569254,\n",
        "      'joy': 0.005161138493933936,\n",
        "      'love': 0.0667677325912258,\n",
        "      'sadness': 0.023060255312037405,\n",
        "      'surprise': 0.07388698420293988},\n",
        " 63: {'anger': 0.0026066720477896316,\n",
        "      'fear': 0.05079632911183563,\n",
        "      'joy': 0.006269711936850906,\n",
        "      'love': 0.15448254775566977,\n",
        "      'sadness': 0.010084542148295177,\n",
        "      'surprise': 0},\n",
        " 64: {'anger': 0,\n",
        "      'fear': 0.011731157750722799,\n",
        "      'joy': 0.005612731665935597,\n",
        "      'love': 0.12527706325045038,\n",
        "      'sadness': 0.005551236294224096,\n",
        "      'surprise': 0.0473860906627889},\n",
        " 65: {'anger': 0.00036277162866304595,\n",
        "      'fear': 0.006713952155297613,\n",
        "      'joy': 0.0010829196760783523,\n",
        "      'love': 0.030530248363304105,\n",
        "      'sadness': 0,\n",
        "      'surprise': 0.013287687340163255},\n",
        " 66: {'anger': 0.00039232589258129144,\n",
        "      'fear': 0,\n",
        "      'joy': 0.007211598660154599,\n",
        "      'love': 0.14590773354270978,\n",
        "      'sadness': 0.004852353923766386,\n",
        "      'surprise': 0.03928429023043036},\n",
        " 67: {'anger': 0, 'fear': 0, 'joy': 0, 'love': 0, 'sadness': 0, 'surprise': 0},\n",
        " 68: {'anger': 0.006539536092734492,\n",
        "      'fear': 0,\n",
        "      'joy': 0.08332646861790674,\n",
        "      'love': 0.07900461344935186,\n",
        "      'sadness': 0.00047119966363904015,\n",
        "      'surprise': 0.1257666793430296},\n",
        " 69: {'anger': 0.009171434392958012,\n",
        "      'fear': 0.07333371128326767,\n",
        "      'joy': 0.07804954879690637,\n",
        "      'love': 0.018510956843833363,\n",
        "      'sadness': 0.0920195452438822,\n",
        "      'surprise': 0.029867069639213636},\n",
        " 70: {'anger': 0.02308376431910358,\n",
        "      'fear': 0.029500472100158683,\n",
        "      'joy': 0.048936595874497175,\n",
        "      'love': 0.12765548710214866,\n",
        "      'sadness': 0,\n",
        "      'surprise': 0.06285565533643518},\n",
        " 71: {'anger': 0, 'fear': 0, 'joy': 0, 'love': 0, 'sadness': 0, 'surprise': 0},\n",
        " 72: {'anger': 0,\n",
        "      'fear': 0.004174086244445203,\n",
        "      'joy': 0.01151536760282342,\n",
        "      'love': 0.028269683748437635,\n",
        "      'sadness': 0.0021780884768585382,\n",
        "      'surprise': 0.003451467912124429},\n",
        " 73: {'anger': 0,\n",
        "      'fear': 0.007072069673575737,\n",
        "      'joy': 0.042501958121188906,\n",
        "      'love': 0.023706252442634655,\n",
        "      'sadness': 0.0023820697399977663,\n",
        "      'surprise': 0.003579613899973257},\n",
        " 74: {'anger': 0.006952957100498083,\n",
        "      'fear': 0.007802663764457308,\n",
        "      'joy': 0.0514494211290298,\n",
        "      'love': 0.014767782314233091,\n",
        "      'sadness': 0.0004976269486333983,\n",
        "      'surprise': 0.0014518137217426079},\n",
        " 75: {'anger': 0.020007840293218518,\n",
        "      'fear': 0.033864913997369406,\n",
        "      'joy': 0.041989625009987604,\n",
        "      'love': 0.008562572640766136,\n",
        "      'sadness': 0,\n",
        "      'surprise': 0.053077572284839156},\n",
        " 76: {'anger': 0.00395581328381514,\n",
        "      'fear': 0.01776960068458462,\n",
        "      'joy': 0,\n",
        "      'love': 0.022963085149835895,\n",
        "      'sadness': 0.023312305863828296,\n",
        "      'surprise': 0.054447295614444606},\n",
        " 77: {'anger': 0,\n",
        "      'fear': 0.01661406113439152,\n",
        "      'joy': 0.014528019399369525,\n",
        "      'love': 0.12369057962667972,\n",
        "      'sadness': 0.046105030153278284,\n",
        "      'surprise': 0.015794861400488414},\n",
        " 78: {'anger': 0.005715047705632246,\n",
        "      'fear': 0.0342579013995153,\n",
        "      'joy': 0.0026287941213278235,\n",
        "      'love': 0.0933038582842903,\n",
        "      'sadness': 0.018545831777201087,\n",
        "      'surprise': 0.0043324981177636735},\n",
        " 79: {'anger': 0,\n",
        "      'fear': 0.012974867785368237,\n",
        "      'joy': 0,\n",
        "      'love': 0.008886686289256939,\n",
        "      'sadness': 0.005738984130883145,\n",
        "      'surprise': 0.016425825659550714},\n",
        " 80: {'anger': 0,\n",
        "      'fear': 0.15458309623286945,\n",
        "      'joy': 0,\n",
        "      'love': 0.027144229322720193,\n",
        "      'sadness': 0.004474197265968595,\n",
        "      'surprise': 0.06314916179288804},\n",
        " 81: {'anger': 0, 'fear': 0, 'joy': 0, 'love': 0, 'sadness': 0, 'surprise': 0},\n",
        " 82: {'anger': 0.006449381276945552,\n",
        "      'fear': 0.06988836245742203,\n",
        "      'joy': 0.005241779836592659,\n",
        "      'love': 0.05890957098298722,\n",
        "      'sadness': 0,\n",
        "      'surprise': 0.01132586678184655},\n",
        " 83: {'anger': 0,\n",
        "      'fear': 0.0016400244560031982,\n",
        "      'joy': 0.015560307980985524,\n",
        "      'love': 0.09713720524806496,\n",
        "      'sadness': 0,\n",
        "      'surprise': 0.019851959912618913},\n",
        " 84: {'anger': 0.008719176608981269,\n",
        "      'fear': 0.014578041400863275,\n",
        "      'joy': 0.016191054039482015,\n",
        "      'love': 0.04267468615201753,\n",
        "      'sadness': 0,\n",
        "      'surprise': 0.0036272358241589185},\n",
        " 85: {'anger': 0,\n",
        "      'fear': 0.0025117558111698566,\n",
        "      'joy': 0.006039704368766787,\n",
        "      'love': 0.09746486252743347,\n",
        "      'sadness': 0.008462821683257973,\n",
        "      'surprise': 0.002634627233775207},\n",
        " 86: {'anger': 0.014720981867129727,\n",
        "      'fear': 0.013472900741437442,\n",
        "      'joy': 0.029137559167665854,\n",
        "      'love': 0.05201385141111232,\n",
        "      'sadness': 0.002339535300469274,\n",
        "      'surprise': 0.04696866314095589},\n",
        " 87: {'anger': 0,\n",
        "      'fear': 0.00689547088387809,\n",
        "      'joy': 0,\n",
        "      'love': 0.18191488853949075,\n",
        "      'sadness': 0,\n",
        "      'surprise': 0.012167651885313931},\n",
        " 88: {'anger': 0.003910194547150819,\n",
        "      'fear': 0.026989358115582496,\n",
        "      'joy': 0.005185628816485217,\n",
        "      'love': 0.02988222628896522,\n",
        "      'sadness': 0.0186138459104178,\n",
        "      'surprise': 0.05840213076338275},\n",
        " 89: {'anger': 0.03348070104326996,\n",
        "      'fear': 0.06767852215611213,\n",
        "      'joy': 0.008858709272890432,\n",
        "      'love': 0.09149222235199855,\n",
        "      'sadness': 0,\n",
        "      'surprise': 0.03868499437737868},\n",
        " 90: {'anger': 0.0028552615311613584,\n",
        "      'fear': 0.012021796852930476,\n",
        "      'joy': 0,\n",
        "      'love': 0.14164257399538224,\n",
        "      'sadness': 0,\n",
        "      'surprise': 0.0006844252613643181},\n",
        " 91: {'anger': 0.0025428755766286554,\n",
        "      'fear': 0.03472377089507635,\n",
        "      'joy': 0.0284788406896756,\n",
        "      'love': 0.01421365383539348,\n",
        "      'sadness': 0.0008776251629119419,\n",
        "      'surprise': 0.009387075763697622},\n",
        " 92: {'anger': 0.011040605212369447,\n",
        "      'fear': 0.014810740351946305,\n",
        "      'joy': 0.013987435694037525,\n",
        "      'love': 0.07547707089449128,\n",
        "      'sadness': 0.005917554009364759,\n",
        "      'surprise': 0.01909856357184311},\n",
        " 93: {'anger': 0.00363311462633213,\n",
        "      'fear': 0.033422082658100496,\n",
        "      'joy': 0.008027260119670131,\n",
        "      'love': 0.07549121254554482,\n",
        "      'sadness': 0.0053994769926306654,\n",
        "      'surprise': 0.009320530892761561},\n",
        " 94: {'anger': 0, 'fear': 0, 'joy': 0, 'love': 0, 'sadness': 0, 'surprise': 0},\n",
        " 95: {'anger': 0.002193646747908855,\n",
        "      'fear': 0.040250896997198395,\n",
        "      'joy': 0.013760263484021776,\n",
        "      'love': 0.03309427090938173,\n",
        "      'sadness': 0,\n",
        "      'surprise': 0.008233724397280187},\n",
        " 96: {'anger': 0, 'fear': 0, 'joy': 0, 'love': 0, 'sadness': 0, 'surprise': 0},\n",
        " 97: {'anger': 0, 'fear': 0, 'joy': 0, 'love': 0, 'sadness': 0, 'surprise': 0},\n",
        " 98: {'anger': 0,\n",
        "      'fear': 0.27182187388950124,\n",
        "      'joy': 0,\n",
        "      'love': 0.1371737790105365,\n",
        "      'sadness': 0.11149546905680957,\n",
        "      'surprise': 0.03410144174140342},\n",
        " 99: {'anger': 0.019191484785769715,\n",
        "      'fear': 0.05122618723002596,\n",
        "      'joy': 0,\n",
        "      'love': 0.044442404894938975,\n",
        "      'sadness': 0.003739754652287108,\n",
        "      'surprise': 0.010633719872617542}}\n",
        "predominant emotion in 0 is/are ['love', 'joy', 'sadness', 'anger', 'surprise', 'fear']\n",
        "predominant emotion in 1 is/are ['love', 'joy', 'sadness', 'anger', 'surprise', 'fear']\n",
        "predominant emotion in 2 is/are ['love']\n",
        "predominant emotion in 3 is/are ['love']\n",
        "predominant emotion in 4 is/are ['love']\n",
        "predominant emotion in 5 is/are ['fear']\n",
        "predominant emotion in 6 is/are ['love']\n",
        "predominant emotion in 7 is/are ['joy']\n",
        "predominant emotion in 8 is/are ['love']\n",
        "predominant emotion in 9 is/are ['love']\n",
        "predominant emotion in 10 is/are ['love']\n",
        "predominant emotion in 11 is/are ['love']\n",
        "predominant emotion in 12 is/are ['love']\n",
        "predominant emotion in 13 is/are ['love']\n",
        "predominant emotion in 14 is/are ['love']\n",
        "predominant emotion in 15 is/are ['love']\n",
        "predominant emotion in 16 is/are ['love']\n",
        "predominant emotion in 17 is/are ['love']\n",
        "predominant emotion in 18 is/are ['love']\n",
        "predominant emotion in 19 is/are ['love']\n",
        "predominant emotion in 20 is/are ['love']\n",
        "predominant emotion in 21 is/are ['love']\n",
        "predominant emotion in 22 is/are ['love', 'joy', 'sadness', 'anger', 'surprise', 'fear']\n",
        "predominant emotion in 23 is/are ['love']\n",
        "predominant emotion in 24 is/are ['love', 'joy', 'sadness', 'anger', 'surprise', 'fear']\n",
        "predominant emotion in 25 is/are ['love']\n",
        "predominant emotion in 26 is/are ['love']\n",
        "predominant emotion in 27 is/are ['love', 'joy', 'sadness', 'anger', 'surprise', 'fear']\n",
        "predominant emotion in 28 is/are ['love']\n",
        "predominant emotion in 29 is/are ['fear']\n",
        "predominant emotion in 30 is/are ['love']\n",
        "predominant emotion in 31 is/are ['love']\n",
        "predominant emotion in 32 is/are ['love']\n",
        "predominant emotion in 33 is/are ['surprise']\n",
        "predominant emotion in 34 is/are ['love']\n",
        "predominant emotion in 35 is/are ['surprise']\n",
        "predominant emotion in 36 is/are ['fear']\n",
        "predominant emotion in 37 is/are ['love']\n",
        "predominant emotion in 38 is/are ['fear']\n",
        "predominant emotion in 39 is/are ['love', 'joy', 'sadness', 'anger', 'surprise', 'fear']\n",
        "predominant emotion in 40 is/are ['love']\n",
        "predominant emotion in 41 is/are ['love']\n",
        "predominant emotion in 42 is/are ['joy']\n",
        "predominant emotion in 43 is/are ['love']\n",
        "predominant emotion in 44 is/are ['love', 'joy', 'sadness', 'anger', 'surprise', 'fear']\n",
        "predominant emotion in 45 is/are ['love']\n",
        "predominant emotion in 46 is/are ['surprise']\n",
        "predominant emotion in 47 is/are ['love']\n",
        "predominant emotion in 48 is/are ['love', 'joy', 'sadness', 'anger', 'surprise', 'fear']\n",
        "predominant emotion in 49 is/are ['love', 'joy', 'sadness', 'anger', 'surprise', 'fear']\n",
        "predominant emotion in 50 is/are ['love']\n",
        "predominant emotion in 51 is/are ['love']\n",
        "predominant emotion in 52 is/are ['love', 'joy', 'sadness', 'anger', 'surprise', 'fear']\n",
        "predominant emotion in 53 is/are ['love']\n",
        "predominant emotion in 54 is/are ['sadness']\n",
        "predominant emotion in 55 is/are ['love']\n",
        "predominant emotion in"
       ]
      },
      {
       "output_type": "stream",
       "stream": "stdout",
       "text": [
        " 56 is/are ['love']\n",
        "predominant emotion in 57 is/are ['love', 'joy', 'sadness', 'anger', 'surprise', 'fear']\n",
        "predominant emotion in 58 is/are ['love', 'joy', 'sadness', 'anger', 'surprise', 'fear']\n",
        "predominant emotion in 59 is/are ['love']\n",
        "predominant emotion in 60 is/are ['love']\n",
        "predominant emotion in 61 is/are ['surprise']\n",
        "predominant emotion in 62 is/are ['surprise']\n",
        "predominant emotion in 63 is/are ['love']\n",
        "predominant emotion in 64 is/are ['love']\n",
        "predominant emotion in 65 is/are ['love']\n",
        "predominant emotion in 66 is/are ['love']\n",
        "predominant emotion in 67 is/are ['love', 'joy', 'sadness', 'anger', 'surprise', 'fear']\n",
        "predominant emotion in 68 is/are ['surprise']\n",
        "predominant emotion in 69 is/are ['sadness']\n",
        "predominant emotion in 70 is/are ['love']\n",
        "predominant emotion in 71 is/are ['love', 'joy', 'sadness', 'anger', 'surprise', 'fear']\n",
        "predominant emotion in 72 is/are ['love']\n",
        "predominant emotion in 73 is/are ['joy']\n",
        "predominant emotion in 74 is/are ['joy']\n",
        "predominant emotion in 75 is/are ['surprise']\n",
        "predominant emotion in 76 is/are ['surprise']\n",
        "predominant emotion in 77 is/are ['love']\n",
        "predominant emotion in 78 is/are ['love']\n",
        "predominant emotion in 79 is/are ['surprise']\n",
        "predominant emotion in 80 is/are ['fear']\n",
        "predominant emotion in 81 is/are ['love', 'joy', 'sadness', 'anger', 'surprise', 'fear']\n",
        "predominant emotion in 82 is/are ['fear']\n",
        "predominant emotion in 83 is/are ['love']\n",
        "predominant emotion in 84 is/are ['love']\n",
        "predominant emotion in 85 is/are ['love']\n",
        "predominant emotion in 86 is/are ['love']\n",
        "predominant emotion in 87 is/are ['love']\n",
        "predominant emotion in 88 is/are ['surprise']\n",
        "predominant emotion in 89 is/are ['love']\n",
        "predominant emotion in 90 is/are ['love']\n",
        "predominant emotion in 91 is/are ['fear']\n",
        "predominant emotion in 92 is/are ['love']\n",
        "predominant emotion in 93 is/are ['love']\n",
        "predominant emotion in 94 is/are ['love', 'joy', 'sadness', 'anger', 'surprise', 'fear']\n",
        "predominant emotion in 95 is/are ['fear']\n",
        "predominant emotion in 96 is/are ['love', 'joy', 'sadness', 'anger', 'surprise', 'fear']\n",
        "predominant emotion in 97 is/are ['love', 'joy', 'sadness', 'anger', 'surprise', 'fear']\n",
        "predominant emotion in 98 is/are ['fear']\n",
        "predominant emotion in 99 is/are ['fear']\n",
        "[1, 0, 0, 0, 0, 0, 0]\n",
        "[2, 0, 0, 0, 0, 0, 0]\n",
        "[3, 0.04967179322366218, 0.00473878076136407, 0.011282437457536659, 0.0009563388243378794, 0, 0.007787120009034583]\n",
        "[4, 0.09747635705871333, 0.030535049479571197, 0.011822845140104787, 0.004799999757891168, 0.038757537778097685, 0.06654248189536607]\n",
        "[5, 0.02424091742820036, 0, 0.00304373168199476, 0.022578019258890778, 0, 0.006643330741553972]\n",
        "[6, 0.040093416788990754, 0.006122489427802532, 0.02135218033360517, 0.0018436564653041886, 0, 0.08419984745545202]\n",
        "[7, 0.1288264227693125, 0.011923745524963173, 0.02544001193916851, 0.008486241961289569, 0.004066466063238842, 0.006810798772473349]\n",
        "[8, 0.027865530192551027, 0.04643756737695992, 0.00711046675183539, 0.010361213550654422, 0.0014972391387524273, 0.019756189115740435]\n",
        "[9, 0.16417130339674663, 0, 0.005213193895057335, 0.002577356487210957, 0, 0.008443185222534299]\n",
        "[10, 0.23089377861201596, 0, 0.011442315997820517, 0.014838550802822282, 0, 0.003515670296783021]\n",
        "[11, 0.17400742033266917, 0.004642009644667287, 0, 0.02687027709379229, 0, 0.011560204333269267]\n",
        "[12, 0.04629708976005816, 0, 0.013281017041094266, 0.005540868337449955, 0, 0.010213937853073111]\n",
        "[13, 0.0802930495572996, 0.019832101768319815, 0.008817594858408209, 0.016461801557178836, 0, 0.006279115883900731]\n",
        "[14, 0.08878043205404496, 0.011266475329949602, 0.012575583102778442, 0.007350259510187527, 0.0008975648753794444, 0.02133245600044697]\n",
        "[15, 0.1359588007245483, 0.023137607574659835, 0.03626320041482527, 0, 0.005682451146744166, 0.022576934202996612]\n",
        "[16, 0.1706428812864074, 0, 0, 0.0014013998810827638, 0, 0.027987339640721875]\n",
        "[17, 0.040072821145302986, 0.014652788810075625, 0.01739515879057202, 0.002683878117020335, 0, 0.004790082785941592]\n",
        "[18, 0.042751412958397635, 0.015281511171955524, 0.031838565108928144, 0.011850918461122054, 0, 0.03572030286072779]\n",
        "[19, 0.1399830499026884, 0.013172518577894247, 0.003930989903852005, 0.006901118463023875, 0.005633055448257083, 0.039444955198831115]\n",
        "[20, 0.027952908974810668, 0, 0.00953292621406404, 0, 0, 0.018798539132813572]\n",
        "[21, 0.08026189308129865, 0, 0.030444021299984816, 0.0008573176602292795, 0.04543701970658353, 0.023702789429236457]\n",
        "[22, 0.07128598368566663, 0, 0.02907686477356253, 0, 0.003684488842834045, 0.00202214457554372]\n",
        "[23, 0, 0, 0, 0, 0, 0]\n",
        "[24, 0.11888065455693277, 0.020878880369625895, 0.014269470092218142, 0, 0.0035020813102896254, 0.006272364778448983]\n",
        "[25, 0, 0, 0, 0, 0, 0]\n",
        "[26, 0.1379511538732922, 0.0016085585151693151, 0.022827932470021354, 0.000224857906014329, 0, 0.05006285253664302]\n",
        "[27, 0.06951934468294321, 0.00517716775688402, 0.021570180828677007, 0.003952227680051635, 0, 0.007983302558204206]\n",
        "[28, 0, 0, 0, 0, 0, 0]\n",
        "[29, 0.10160752643436909, 0.0038522508705802496, 0.004371932698050424, 0.0001379128490221218, 0.007595344951611841, 0.004306035272197134]\n",
        "[30, 0.027081656556374234, 0.005496179211326126, 0.02259183683025749, 0.0050548622636375955, 0.013387512599757291, 0.03749714066608449]\n",
        "[31, 0.05641801590100853, 0.004130144215152259, 0.04943777418601414, 0, 0, 0.012282312002038928]\n",
        "[32, 0.11483143975578847, 0.026421298190925372, 0.01297238670592602, 0, 0.01582989328600599, 0.011473676896441352]\n",
        "[33, 0.1269678761839547, 0.013767555364193515, 0.01312216501219841, 0.022973419022078428, 0, 0.06240523274936533]\n",
        "[34, 0.016834938464985412, 0.005017119938062036, 0.044946044016228905, 0, 0, 0.028147465523006114]\n",
        "[35, 0.12524870120843293, 0.0027913622893519863, 0.0037605767201173484, 0, 0, 0.005052078464618637]\n",
        "[36, 0.04107660147984411, 0.013994181440024733, 0.06970534962082042, 0.005269069892862857, 0, 0.05047531849830761]\n",
        "[37, 0.026154256137583872, 0, 0.01937082743909742, 0, 0, 0.027045622394256185]\n",
        "[38, 0.05267837842315941, 0.02332129429898792, 0.0017711941012705829, 0.0007150334638340545, 0.017651559120727245, 0.011122219271522784]\n",
        "[39, 0.04351934026987454, 0.009294921402994562, 0.009339579271093516, 0.0052153448613470295, 0.03241964583080324, 0.047497378730125536]\n",
        "[40, 0, 0, 0, 0, 0, 0]\n",
        "[41, 0.06754513631218664, 0.015417200518061929, 0.002140520040255734, 0.0060441456926900025, 0, 0.030676662283444435]\n",
        "[42, 0.10130034153790737, 0.00522435749317489, 0.023778368481468925, 0.027634960968342587, 0.00963459699324754, 0.02478411131081279]\n",
        "[43, 0.054755356461646774, 0.11127268035246135, 0.014352023108035433, 0.010129901114493207, 0.023957428089191327, 0.007930666990688617]\n",
        "[44, 0.1627344519432599, 0.04071791276760487, 0.009798340571325646, 0.014184021488740378, 0, 0.016009960678425358]\n",
        "[45, 0, 0, 0, 0, 0, 0]\n",
        "[46, 0.031153681327779275, 0, 0.004360048643419084, 0, 0.002570253092499992, 0.005908736019074484]\n",
        "[47, 0.020980266078711344, 0.0019199978525914693, 0.030448777523464574, 0.0006465671065593821, 0, 0.004753889336083922]\n",
        "[48, 0.07597128356263216, 0.0014704915230973027, 0.026498706466450698, 0.0002013187139348268, 0, 0.026422936576326432]\n",
        "[49, 0, 0, 0, 0, 0, 0]\n",
        "[50, 0, 0, 0, 0, 0, 0]\n",
        "[51, 0.11699420663254825, 0.00439274839978038, 0.016686292233237594, 0.00012777915066276613, 0.006796862897244161, 0.01944198915519268]\n",
        "[52, 0.08302925825818283, 0.0040351225316349396, 0.006623580462712338, 0.021120483606349646, 0.07532699275947997, 0.0030702337256830053]\n",
        "[53, 0, 0, 0, 0, 0, 0]\n",
        "[54, 0.014792136262362438, 0.0034815887972058468, 0.014094349134669771, 0, 0.0006703791084849916, 0.0021759957436740312]\n",
        "[55, 0.023754529194341827, 0.07205906482626309, 0.004205069743900194, 0.004389178888653753, 0.08583506008437007, 0.03839030952130852]\n",
        "[56, 0.09421115607166419, 0.020416285536017865, 0.033159399450280645, 0.0011506223911341366, 0, 0.022231732187854358]\n",
        "[57, 0.15050852201485368, 0.14405937357739546, 0.030805864111668045, 0, 0, 0.006284317546539049]\n",
        "[58, 0, 0, 0, 0, 0, 0]\n",
        "[59, 0, 0, 0, 0, 0, 0]\n",
        "[60, 0.06551955410921415, 0.011227221603055029, 0.045975632770964676, 0.0005720611969800271, 0.00460669957168547, 0.04985105240281074]\n",
        "[61, 0.022649241714445364, 0.005681765470583292, 0.009321209138645523, 0.00313634334188128, 0.0010195062070777942, 0.011062820313127079]\n",
        "[62, 0.04381660124037097, 0.026994389780023, 0.06932376543989759, 0.022656230187495362, 0, 0.010293815028649338]\n",
        "[63, 0.0667677325912258, 0.005161138493933936, 0.07388698420293988, 0.02714153940430836, 0.023060255312037405, 0.06327713378569254]\n",
        "[64, 0.15448254775566977, 0.006269711936850906, 0, 0.0026066720477896316, 0.010084542148295177, 0.05079632911183563]\n",
        "[65, 0.12527706325045038, 0.005612731665935597, 0.0473860906627889, 0, 0.005551236294224096, 0.011731157750722799]\n",
        "[66, 0.030530248363304105, 0.0010829196760783523, 0.013287687340163255, 0.00036277162866304595, 0, 0.006713952155297613]\n",
        "[67, 0.14590773354270978, 0.007211598660154599, 0.03928429023043036, 0.00039232589258129144, 0.004852353923766386, 0]\n",
        "[68, 0, 0, 0, 0, 0, 0]\n",
        "[69, 0.07900461344935186, 0.08332646861790674, 0.1257666793430296, 0.006539536092734492, 0.00047119966363904015, 0]\n",
        "[70, 0.018510956843833363, 0.07804954879690637, 0.029867069639213636, 0.009171434392958012, 0.0920195452438822, 0.07333371128326767]\n",
        "[71, 0.12765548710214866, 0.048936595874497175, 0.06285565533643518, 0.02308376431910358, 0, 0.029500472100158683]\n",
        "[72, 0, 0, 0, 0, 0, 0]\n",
        "[73, 0.028269683748437635, 0.01151536760282342, 0.003451467912124429, 0, 0.0021780884768585382, 0.004174086244445203]\n",
        "[74, 0.023706252442634655, 0.042501958121188906, 0.003579613899973257, 0, 0.0023820697399977663, 0.007072069673575737]\n",
        "[75, 0.014767782314233091, 0.0514494211290298, 0.0014518137217426079, 0.006952957100498083, 0.0004976269486333983, 0.007802663764457308]\n",
        "[76, 0.008562572640766136, 0.041989625009987604, 0.053077572284839156, 0.020007840293218518, 0, 0.033864913997369406]\n",
        "[77, 0.022963085149835895, 0, 0.054447295614444606, 0.00395581328381514, 0.023312305863828296, 0.01776960068458462]\n",
        "[78, 0.12369057962667972, 0.014528019399369525, 0.015794861400488414, 0, 0.046105030153278284, 0.01661406113439152]\n",
        "[79, 0.0933038582842903, 0.0026287941213278235, 0.0043324981177636735, 0.005715047705632246, 0.018545831777201087, 0.0342579013995153]\n",
        "[80, 0.008886686289256939, 0, 0.016425825659550714, 0, 0.005738984130883145, 0.012974867785368237]\n",
        "[81, 0.027144229322720193, 0, 0.06314916179288804, 0, 0.004474197265968595, 0.15458309623286945]\n",
        "[82, 0, 0, 0, 0, 0, 0]\n",
        "[83, 0.05890957098298722, 0.005241779836592659, 0.01132586678184655, 0.006449381276945552, 0, 0.06988836245742203]\n",
        "[84, 0.09713720524806496, 0.015560307980985524, 0.019851959912618913, 0, 0, 0.0016400244560031982]\n",
        "[85, 0.04267468615201753, 0.016191054039482015, 0.0036272358241589185, 0.008719176608981269, 0, 0.014578041400863275]\n",
        "[86, 0.09746486252743347, 0.006039704368766787, 0.002634627233775207, 0, 0.008462821683257973, 0.0025117558111698566]\n",
        "[87, 0.05201385141111232, 0.029137559167665854, 0.04696866314095589, 0.014720981867129727, 0.002339535300469274, 0.013472900741437442]\n",
        "[88, 0.18191488853949075, 0, 0.012167651885313931, 0, 0, 0.00689547088387809]\n",
        "[89, 0.02988222628896522, 0.005185628816485217, 0.05840213076338275, 0.003910194547150819, 0.0186138459104178, 0.026989358115582496]\n",
        "[90, 0.09149222235199855, 0.008858709272890432, 0.03868499437737868, 0.03348070104326996, 0, 0.06767852215611213]\n",
        "[91, 0.14164257399538224, 0, 0.0006844252613643181, 0.0028552615311613584, 0, 0.012021796852930476]\n",
        "[92, 0.01421365383539348, 0.0284788406896756, 0.009387075763697622, 0.0025428755766286554, 0.0008776251629119419, 0.03472377089507635]\n",
        "[93, 0.07547707089449128, 0.013987435694037525, 0.01909856357184311, 0.011040605212369447, 0.005917554009364759, 0.014810740351946305]\n",
        "[94, 0.07549121254554482, 0.008027260119670131, 0.009320530892761561, 0.00363311462633213, 0.0053994769926306654, 0.033422082658100496]\n",
        "[95, 0, 0, 0, 0, 0, 0]\n",
        "[96, 0.03309427090938173, 0.013760263484021776, 0.008233724397280187, 0.002193646747908855, 0, 0.040250896997198395]\n",
        "[97, 0, 0, 0, 0, 0, 0]\n",
        "[98, 0, 0, 0, 0, 0, 0]\n",
        "[99, 0.1371737790105365, 0, 0.03410144174140342, 0, 0.11149546905680957, 0.27182187388950124]\n",
        "[100, 0.044442404894938975, 0, 0.010633719872617542, 0.019191484785769715, 0.003739754652287108, 0.05122618723002596]\n",
        "Year 1997 done\n"
       ]
      }
     ],
     "prompt_number": 3
    },
    {
     "cell_type": "code",
     "collapsed": false,
     "input": [],
     "language": "python",
     "metadata": {},
     "outputs": []
    }
   ],
   "metadata": {}
  }
 ]
}