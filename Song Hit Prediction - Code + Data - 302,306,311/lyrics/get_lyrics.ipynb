{
 "metadata": {
  "name": "",
  "signature": "sha256:a1482f8b1f68693acc59a5b2f0b7223a41020c87827c76245d9028b6d68447d0"
 },
 "nbformat": 3,
 "nbformat_minor": 0,
 "worksheets": []
}