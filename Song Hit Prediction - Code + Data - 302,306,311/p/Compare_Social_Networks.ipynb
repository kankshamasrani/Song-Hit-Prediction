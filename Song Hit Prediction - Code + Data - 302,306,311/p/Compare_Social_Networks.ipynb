{
 "metadata": {
  "name": "",
  "signature": "sha256:98205dec7a8758b1e3384e59005f8b96c797756926ab53cbc0e9aa115d7fa6b4"
 },
 "nbformat": 3,
 "nbformat_minor": 0,
 "worksheets": [
  {
   "cells": [
    {
     "cell_type": "markdown",
     "metadata": {},
     "source": [
      "#TWITTER\n",
      "---\n"
     ]
    },
    {
     "cell_type": "code",
     "collapsed": false,
     "input": [
      "from pattern.web    import Twitter\n",
      "\n",
      "for tweet in twitter.search('#Moksha2015', start=1, count=100):\n",
      "    s = tweet.text.lower()\n",
      "    print tweet"
     ],
     "language": "python",
     "metadata": {},
     "outputs": [
      {
       "ename": "NameError",
       "evalue": "name 'twitter' is not defined",
       "output_type": "pyerr",
       "traceback": [
        "\u001b[1;31m---------------------------------------------------------------------------\u001b[0m\n\u001b[1;31mNameError\u001b[0m                                 Traceback (most recent call last)",
        "\u001b[1;32m<ipython-input-3-1d77cc4a7f94>\u001b[0m in \u001b[0;36m<module>\u001b[1;34m()\u001b[0m\n\u001b[0;32m      1\u001b[0m \u001b[1;32mfrom\u001b[0m \u001b[0mpattern\u001b[0m\u001b[1;33m.\u001b[0m\u001b[0mweb\u001b[0m    \u001b[1;32mimport\u001b[0m \u001b[0mTwitter\u001b[0m\u001b[1;33m\u001b[0m\u001b[0m\n\u001b[0;32m      2\u001b[0m \u001b[1;33m\u001b[0m\u001b[0m\n\u001b[1;32m----> 3\u001b[1;33m \u001b[1;32mfor\u001b[0m \u001b[0mtweet\u001b[0m \u001b[1;32min\u001b[0m \u001b[0mtwitter\u001b[0m\u001b[1;33m.\u001b[0m\u001b[0msearch\u001b[0m\u001b[1;33m(\u001b[0m\u001b[1;34m'#Moksha2015'\u001b[0m\u001b[1;33m,\u001b[0m \u001b[0mstart\u001b[0m\u001b[1;33m=\u001b[0m\u001b[1;36m1\u001b[0m\u001b[1;33m,\u001b[0m \u001b[0mcount\u001b[0m\u001b[1;33m=\u001b[0m\u001b[1;36m100\u001b[0m\u001b[1;33m)\u001b[0m\u001b[1;33m:\u001b[0m\u001b[1;33m\u001b[0m\u001b[0m\n\u001b[0m\u001b[0;32m      4\u001b[0m     \u001b[0ms\u001b[0m \u001b[1;33m=\u001b[0m \u001b[0mtweet\u001b[0m\u001b[1;33m.\u001b[0m\u001b[0mtext\u001b[0m\u001b[1;33m.\u001b[0m\u001b[0mlower\u001b[0m\u001b[1;33m(\u001b[0m\u001b[1;33m)\u001b[0m\u001b[1;33m\u001b[0m\u001b[0m\n\u001b[0;32m      5\u001b[0m     \u001b[1;32mprint\u001b[0m \u001b[0mtweet\u001b[0m\u001b[1;33m\u001b[0m\u001b[0m\n",
        "\u001b[1;31mNameError\u001b[0m: name 'twitter' is not defined"
       ]
      }
     ],
     "prompt_number": 3
    },
    {
     "cell_type": "markdown",
     "metadata": {},
     "source": [
      "#Facebook\n",
      "---"
     ]
    },
    {
     "cell_type": "code",
     "collapsed": false,
     "input": [
      "import os, sys; sys.path.insert(0, os.path.join(os.path.dirname('__file__'), \"..\", \"..\"))\n",
      "\n",
      "from pattern.web import Facebook, NEWS, COMMENTS, LIKES\n",
      "from pattern.db  import Datasheet, pprint, pd\n",
      "\n",
      "# The Facebook API can be used to search public status updates (no license needed).\n",
      "\n",
      "# It can also be used to get status updates, comments and persons that liked it,\n",
      "# from a given profile or product page.\n",
      "# This requires a personal license key.\n",
      "# If you are logged in to Facebook, you can get a license key here:\n",
      "# http://www.clips.ua.ac.be/pattern-facebook\n",
      "# (We don't / can't store your information).\n",
      "\n",
      "# 1) Searching for public status updates.\n",
      "#    Search for all status updates that contain the word \"horrible\".\n",
      "\n",
      "try: \n",
      "    # We'll store the status updates in a Datasheet.\n",
      "    # A Datasheet is a table of rows and columns that can be exported as a CSV-file.\n",
      "    # In the first column, we'll store a unique id for each status update.\n",
      "    # We only want to add new status updates, i.e., those we haven't seen yet.\n",
      "    # With an index on the first column we can quickly check if an id already exists.\n",
      "    table = Datasheet.load(pd(\"opinions.csv\"))\n",
      "    index = set(table.columns[0])\n",
      "except:\n",
      "    table = Datasheet()\n",
      "    index = set()\n",
      "\n",
      "fb = Facebook()\n",
      "\n",
      "# With Facebook.search(cached=False), a \"live\" request is sent to Facebook:\n",
      "# we get the most recent results instead of those in the local cache.\n",
      "# Keeping a local cache can also be useful (e.g., while testing)\n",
      "# because a query is instant when it is executed the second time.\n",
      "# for status in fb.search(\"horrible\", count=25, cached=False):\n",
      "#     print \"=\" * 100\n",
      "#     print status.id\n",
      "#     print status.text\n",
      "#     print status.author # Yields an (id, name)-tuple.\n",
      "#     print status.date\n",
      "#     print status.likes\n",
      "#     print status.comments\n",
      "#     print\n",
      "#     # Only add the tweet to the table if it doesn't already exists.\n",
      "#     if len(table) == 0 or status.id not in index:\n",
      "#         table.append([status.id, status.text])\n",
      "#         index.add(status.id)\n",
      "\n",
      "# Create a .csv in pattern/examples/01-web/\n",
      "table.save(pd(\"opinions.csv\"))\n",
      "\n",
      "# 2) Status updates from specific profiles.\n",
      "#    For this you need a personal license key:\n",
      "#    http://www.clips.ua.ac.be/pattern-facebook\n",
      "\n",
      "license = \"CAACEdEose0cBAErviQyJCNZCTDXZASO88ZALvC0jooL54fWlmdRBeIeOIPSXSt92twjT728k6CAROBbZCPoNIZCIAq953gP0eJhiT6JXEOzZBrPrAW967twuOJN2LXN3p3JgryFoukZBNzL4xSIA4yoPHaLBRZA8JeNLvgjk8F7hk0jLfghepK2kKf0IUlc4DfrzcQSaG64ZC0x4LiOVICuP62GuZAwCQW4YQRJQD3JZA5v6wZDZD\"\n",
      "\n",
      "if license != \"\":\n",
      "    fb = Facebook(license)\n",
      "    # Facebook.profile() returns a dictionary with author info.\n",
      "    # By default, this is your own profile. \n",
      "    # You can also supply the id of another profile, \n",
      "    # or the name of a product page.\n",
      "    me = fb.profile()[\"id\"]\n",
      "    for status in fb.search(me, type=NEWS, count=30, cached=False):\n",
      "        print \"-\" * 100\n",
      "        print status.id    # Status update unique id.\n",
      "        print status.title # Status title (i.e., the id of the page or event given as URL).\n",
      "        print status.text  # Status update text.\n",
      "        print status.url   # Status update image, external link, ...\n",
      "        if status.comments > 0:\n",
      "            # Retrieve comments on the status update.\n",
      "            print \"%s comments:\" % status.comments\n",
      "            print [(x.author, x.text, x.likes) for x in fb.search(status.id, type=COMMENTS)]\n",
      "        if status.likes > 0:\n",
      "            # Retrieve likes on the status update.\n",
      "            print \"%s likes:\" % status.likes\n",
      "            print [x.author for x in fb.search(status.id, type=LIKES)]\n",
      "        print"
     ],
     "language": "python",
     "metadata": {},
     "outputs": [
      {
       "ename": "TypeError",
       "evalue": "tuple indices must be integers, not str",
       "output_type": "pyerr",
       "traceback": [
        "\u001b[1;31m---------------------------------------------------------------------------\u001b[0m\n\u001b[1;31mTypeError\u001b[0m                                 Traceback (most recent call last)",
        "\u001b[1;32m<ipython-input-20-4013cf700668>\u001b[0m in \u001b[0;36m<module>\u001b[1;34m()\u001b[0m\n\u001b[0;32m     63\u001b[0m     \u001b[1;31m# You can also supply the id of another profile,\u001b[0m\u001b[1;33m\u001b[0m\u001b[1;33m\u001b[0m\u001b[0m\n\u001b[0;32m     64\u001b[0m     \u001b[1;31m# or the name of a product page.\u001b[0m\u001b[1;33m\u001b[0m\u001b[1;33m\u001b[0m\u001b[0m\n\u001b[1;32m---> 65\u001b[1;33m     \u001b[0mme\u001b[0m \u001b[1;33m=\u001b[0m \u001b[0mfb\u001b[0m\u001b[1;33m.\u001b[0m\u001b[0mprofile\u001b[0m\u001b[1;33m(\u001b[0m\u001b[1;33m)\u001b[0m\u001b[1;33m[\u001b[0m\u001b[1;34m\"id\"\u001b[0m\u001b[1;33m]\u001b[0m\u001b[1;33m\u001b[0m\u001b[0m\n\u001b[0m\u001b[0;32m     66\u001b[0m     \u001b[1;32mfor\u001b[0m \u001b[0mstatus\u001b[0m \u001b[1;32min\u001b[0m \u001b[0mfb\u001b[0m\u001b[1;33m.\u001b[0m\u001b[0msearch\u001b[0m\u001b[1;33m(\u001b[0m\u001b[0mme\u001b[0m\u001b[1;33m,\u001b[0m \u001b[0mtype\u001b[0m\u001b[1;33m=\u001b[0m\u001b[0mNEWS\u001b[0m\u001b[1;33m,\u001b[0m \u001b[0mcount\u001b[0m\u001b[1;33m=\u001b[0m\u001b[1;36m30\u001b[0m\u001b[1;33m,\u001b[0m \u001b[0mcached\u001b[0m\u001b[1;33m=\u001b[0m\u001b[0mFalse\u001b[0m\u001b[1;33m)\u001b[0m\u001b[1;33m:\u001b[0m\u001b[1;33m\u001b[0m\u001b[0m\n\u001b[0;32m     67\u001b[0m         \u001b[1;32mprint\u001b[0m \u001b[1;34m\"-\"\u001b[0m \u001b[1;33m*\u001b[0m \u001b[1;36m100\u001b[0m\u001b[1;33m\u001b[0m\u001b[0m\n",
        "\u001b[1;31mTypeError\u001b[0m: tuple indices must be integers, not str"
       ]
      }
     ],
     "prompt_number": 20
    },
    {
     "cell_type": "code",
     "collapsed": false,
     "input": [
      "import facebook\n",
      "import requests\n",
      "\n",
      "def some_action(post):\n",
      "    \"\"\" Here you might want to do something with each post. E.g. grab the\n",
      "    post's message (post['message']) or the post's picture (post['picture']).\n",
      "    In this implementation we just print the post's created time.\n",
      "    \"\"\"\n",
      "    print post['created_time']\n",
      "\n",
      "\n",
      "# You'll need an access token here to do anything.  You can get a temporary one\n",
      "# here: https://developers.facebook.com/tools/explorer/\n",
      "access_token = \"CAACEdEose0cBAErviQyJCNZCTDXZASO88ZALvC0jooL54fWlmdRBeIeOIPSXSt92twjT728k6CAROBbZCPoNIZCIAq953gP0eJhiT6JXEOzZBrPrAW967twuOJN2LXN3p3JgryFoukZBNzL4xSIA4yoPHaLBRZA8JeNLvgjk8F7hk0jLfghepK2kKf0IUlc4DfrzcQSaG64ZC0x4LiOVICuP62GuZAwCQW4YQRJQD3JZA5v6wZDZD\"\n",
      "# Look at Bill Gates's profile for this example by using his Facebook id.\n",
      "user = 'BillGates'\n",
      "\n",
      "graph = facebook.GraphAPI(access_token)\n",
      "profile = graph.get_object(user)\n",
      "posts = graph.get_connections(profile['id'], 'posts')\n",
      "\n",
      "# Wrap this block in a while loop so we can keep paginating requests until\n",
      "# finished.\n",
      "while True:\n",
      "    try:\n",
      "        # Perform some action on each post in the collection we receive from\n",
      "        # Facebook.\n",
      "        [some_action(post=post) for post in posts['data']]\n",
      "        # Attempt to make a request to the next page of data, if it exists.\n",
      "        posts = requests.get(posts['paging']['next']).json()\n",
      "        print posts\n",
      "    except KeyError:\n",
      "        # When there are no more pages (['paging']['next']), break from the\n",
      "        # loop and end the script.\n",
      "        break"
     ],
     "language": "python",
     "metadata": {},
     "outputs": [
      {
       "output_type": "stream",
       "stream": "stdout",
       "text": [
        "2015-03-12T17:12:35+0000\n",
        "2015-02-09T06:50:44+0000\n",
        "2015-01-20T15:34:40+0000\n",
        "2014-12-19T17:59:30+0000\n",
        "2014-12-10T04:02:19+0000\n",
        "2014-12-03T17:10:23+0000\n",
        "2014-11-23T19:25:35+0000\n",
        "2014-11-17T22:14:44+0000\n",
        "2014-11-08T06:22:10+0000\n",
        "2014-11-06T06:02:54+0000\n",
        "2014-11-04T12:50:16+0000\n",
        "2014-10-22T15:12:51+0000\n",
        "2014-10-20T13:24:26+0000\n",
        "2014-10-12T11:15:04+0000\n",
        "2014-10-12T03:10:37+0000\n",
        "{u'paging': {u'next': u'https://graph.facebook.com/v2.0/561113917341135/posts?limit=25&access_token=CAACEdEose0cBAFfwcd1uhIEy3ZBiwzTZAOlZCEU67aZCyvSlZAESYLZBae9KPbwcEldCsdiXgsr1TLBvv40MyenCmGlpKzS82uieo0nyJCDYsGGyVUc2rZBaAw2znjlEg8ppiLEXc39ctoP63sR1knkmdOwpbKxwcPGoEYrZCqjxEFcJ0SXxOhH6925JoSLZAKm8eZBlAKkGNSNDqL23ZCDs8ZB9c1iHFlTqf68ZD&until=1411420011&__paging_token=enc_AdDZBNcTWAel9W1cKGxik5avzcqfsvPmpYF7xGfz2yQr5exVcxpcJvdQgN4f8thJkJ58WbNjrM3bxJCDoT9MGBK4H1woqOSxZBX6f2tNk2ppMXxAZDZD', u'previous': u'https://graph.facebook.com/v2.0/561113917341135/posts?limit=25&__paging_token=enc_AdCidw9tAWVu7tejKos8ZBLY8RZB3C9CzToAQhvZA7ym6qaUHgsnCfNeGjiL0PIjW1Sae0hE37iTB5iiT12qE4blYEc19tCMm8MXozRW2818aYqrAZDZD&since=1412614690&access_token=CAACEdEose0cBAFfwcd1uhIEy3ZBiwzTZAOlZCEU67aZCyvSlZAESYLZBae9KPbwcEldCsdiXgsr1TLBvv40MyenCmGlpKzS82uieo0nyJCDYsGGyVUc2rZBaAw2znjlEg8ppiLEXc39ctoP63sR1knkmdOwpbKxwcPGoEYrZCqjxEFcJ0SXxOhH6925JoSLZAKm8eZBlAKkGNSNDqL23ZCDs8ZB9c1iHFlTqf68ZD&__previous=1'}, u'data': [{u'story': u'Rahul Duggal and Debaarati Mitra are now friends.', u'from': {u'id': u'561113917341135', u'name': u'Rahul Duggal'}, u'subscribed': True, u'privacy': {u'allow': u'', u'deny': u'', u'friends': u'', u'description': u'', u'value': u''}, u'actions': [{u'link': u'https://www.facebook.com/561113917341135/posts/646767608775765', u'name': u'Comment'}, {u'link': u'https://www.facebook.com/561113917341135/posts/646767608775765', u'name': u'Like'}], u'updated_time': u'2014-10-06T16:58:10+0000', u'story_tags': {u'0': [{u'length': 12, u'offset': 0, u'type': u'user', u'id': u'561113917341135', u'name': u'Rahul Duggal'}], u'17': [{u'length': 15, u'offset': 17, u'type': u'user', u'id': u'10152412038045229', u'name': u'Debaarati Mitra'}]}, u'created_time': u'2014-10-06T16:58:10+0000', u'type': u'status', u'id': u'561113917341135_646767608775765'}, {u'from': {u'id': u'561113917341135', u'name': u'Rahul Duggal'}, u'subscribed': True, u'privacy': {u'allow': u'', u'deny': u'', u'friends': u'', u'description': u'Only Me', u'value': u'SELF'}, u'with_tags': {u'data': [{u'id': u'388184687989922', u'name': u'Somya Dua'}, {u'id': u'686186644787800', u'name': u'Ria Talwar'}, {u'id': u'622883487781801', u'name': u'Hitesh Dua'}, {u'id': u'10203558118815943', u'name': u'Vipul Bhargava'}]}, u'actions': [{u'link': u'https://www.facebook.com/561113917341135/posts/639583036160889', u'name': u'Comment'}, {u'link': u'https://www.facebook.com/561113917341135/posts/639583036160889', u'name': u'Like'}], u'updated_time': u'2014-09-22T21:09:14+0000', u'created_time': u'2014-09-22T21:06:51+0000', u'message': u'The unexpected journey!', u'type': u'status', u'id': u'561113917341135_639583036160889', u'status_type': u'mobile_status_update'}]}"
       ]
      },
      {
       "output_type": "stream",
       "stream": "stdout",
       "text": [
        "\n",
        "2014-10-06T16:58:10+0000\n",
        "2014-09-22T21:06:51+0000\n",
        "{u'data': []}"
       ]
      },
      {
       "output_type": "stream",
       "stream": "stdout",
       "text": [
        "\n"
       ]
      }
     ],
     "prompt_number": 2
    }
   ],
   "metadata": {}
  }
 ]
}